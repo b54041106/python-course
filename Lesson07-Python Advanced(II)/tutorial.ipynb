{
 "cells": [
  {
   "cell_type": "markdown",
   "metadata": {
    "slideshow": {
     "slide_type": "slide"
    }
   },
   "source": [
    "# Python Advanced(II)\n",
    "## 常用內建函式"
   ]
  },
  {
   "cell_type": "markdown",
   "metadata": {
    "slideshow": {
     "slide_type": "slide"
    }
   },
   "source": [
    "## The Python interpreter has a number of functions and types built into it that are always available."
   ]
  },
  {
   "cell_type": "markdown",
   "metadata": {
    "slideshow": {
     "slide_type": "slide"
    }
   },
   "source": [
    "# Outline\n",
    "\n",
    "* Tutorial 1 / Mission 1\n",
    "* Tutorial 2 / Mission 2\n",
    "* Break-----------------\n",
    "* Tutorial 3 / Mission 3\n",
    "* Tutorial 4 / Mission 4"
   ]
  },
  {
   "cell_type": "markdown",
   "metadata": {
    "slideshow": {
     "slide_type": "slide"
    }
   },
   "source": [
    "# Tutorial 1\n",
    "\n",
    "* bool()\n",
    "* int()\n",
    "* float()\n",
    "* str()\n",
    "* type()"
   ]
  },
  {
   "cell_type": "markdown",
   "metadata": {
    "slideshow": {
     "slide_type": "slide"
    }
   },
   "source": [
    "# bool()\n",
    "\n",
    "* 把參數轉為 bool 型別後回傳"
   ]
  },
  {
   "cell_type": "markdown",
   "metadata": {
    "slideshow": {
     "slide_type": "slide"
    }
   },
   "source": [
    "# Try\n",
    "\n",
    "* bool(0)\n",
    "* bool(1)\n",
    "* bool(0.0)\n",
    "* bool(1.0)"
   ]
  },
  {
   "cell_type": "code",
   "execution_count": 5,
   "metadata": {
    "slideshow": {
     "slide_type": "slide"
    }
   },
   "outputs": [
    {
     "name": "stdout",
     "output_type": "stream",
     "text": [
      "False \n",
      "----------\n",
      "True \n",
      "----------\n",
      "False \n",
      "----------\n",
      "True \n",
      "----------\n"
     ]
    }
   ],
   "source": [
    "print(bool(0), \"\\n----------\")\n",
    "print(bool(1), \"\\n----------\")\n",
    "print(bool(0.0), \"\\n----------\")\n",
    "print(bool(1.0), \"\\n----------\")"
   ]
  },
  {
   "cell_type": "markdown",
   "metadata": {
    "slideshow": {
     "slide_type": "slide"
    }
   },
   "source": [
    "# int()\n",
    "\n",
    "* 把參數轉為 int 型別後回傳"
   ]
  },
  {
   "cell_type": "markdown",
   "metadata": {
    "slideshow": {
     "slide_type": "slide"
    }
   },
   "source": [
    "# Try\n",
    "\n",
    "* int(0.1)\n",
    "* int(-1.1)\n",
    "* int(\"10\")\n",
    "* int(False)"
   ]
  },
  {
   "cell_type": "code",
   "execution_count": 7,
   "metadata": {
    "scrolled": true,
    "slideshow": {
     "slide_type": "slide"
    }
   },
   "outputs": [
    {
     "name": "stdout",
     "output_type": "stream",
     "text": [
      "0 \n",
      "----------\n",
      "-1 \n",
      "----------\n",
      "10 \n",
      "----------\n",
      "0 \n",
      "----------\n"
     ]
    }
   ],
   "source": [
    "print(int(0.1), \"\\n----------\")\n",
    "print(int(-1.1), \"\\n----------\")\n",
    "print(int(\"10\"), \"\\n----------\")\n",
    "print(int(False), \"\\n----------\")"
   ]
  },
  {
   "cell_type": "markdown",
   "metadata": {
    "slideshow": {
     "slide_type": "slide"
    }
   },
   "source": [
    "# float()\n",
    "\n",
    "* 把參數轉為 float 型別並回傳"
   ]
  },
  {
   "cell_type": "markdown",
   "metadata": {
    "slideshow": {
     "slide_type": "slide"
    }
   },
   "source": [
    "# Try\n",
    "\n",
    "* float(1)\n",
    "* float(-1)\n",
    "* float(\"10.0\")\n",
    "* float(True)"
   ]
  },
  {
   "cell_type": "code",
   "execution_count": 9,
   "metadata": {
    "slideshow": {
     "slide_type": "slide"
    }
   },
   "outputs": [
    {
     "name": "stdout",
     "output_type": "stream",
     "text": [
      "1.0 \n",
      "----------\n",
      "-1.0 \n",
      "----------\n",
      "10.0 \n",
      "----------\n",
      "1.0 \n",
      "----------\n"
     ]
    }
   ],
   "source": [
    "# float() 會回傳一個 float\n",
    "\n",
    "print(float(1), \"\\n----------\")\n",
    "print(float(-1), \"\\n----------\")\n",
    "print(float(\"10.0\"), \"\\n----------\")\n",
    "print(float(True), \"\\n----------\")"
   ]
  },
  {
   "cell_type": "markdown",
   "metadata": {
    "slideshow": {
     "slide_type": "slide"
    }
   },
   "source": [
    "# str()\n",
    "\n",
    "* 把一個數值轉為 string 型別並回傳"
   ]
  },
  {
   "cell_type": "markdown",
   "metadata": {
    "slideshow": {
     "slide_type": "slide"
    }
   },
   "source": [
    "# Try\n",
    "\n",
    "* str(0)\n",
    "* str(-1)\n",
    "* str(True)\n",
    "* str(-10.0)"
   ]
  },
  {
   "cell_type": "code",
   "execution_count": 11,
   "metadata": {
    "slideshow": {
     "slide_type": "slide"
    }
   },
   "outputs": [
    {
     "name": "stdout",
     "output_type": "stream",
     "text": [
      "0 \n",
      "----------\n",
      "-1 \n",
      "----------\n",
      "True \n",
      "----------\n",
      "-10.0 \n",
      "----------\n"
     ]
    }
   ],
   "source": [
    "print(str(0), \"\\n----------\")\n",
    "print(str(-1), \"\\n----------\")\n",
    "print(str(True), \"\\n----------\")\n",
    "print(str(-10.0), \"\\n----------\")"
   ]
  },
  {
   "cell_type": "markdown",
   "metadata": {
    "slideshow": {
     "slide_type": "slide"
    }
   },
   "source": [
    "# type()\n",
    "\n",
    "* 回傳參數的類別"
   ]
  },
  {
   "cell_type": "markdown",
   "metadata": {
    "slideshow": {
     "slide_type": "slide"
    }
   },
   "source": [
    "# Try\n",
    "* type(True)\n",
    "* type(\"True\")\n",
    "* type(None)\n",
    "* type([ ])"
   ]
  },
  {
   "cell_type": "code",
   "execution_count": 13,
   "metadata": {
    "slideshow": {
     "slide_type": "slide"
    }
   },
   "outputs": [
    {
     "name": "stdout",
     "output_type": "stream",
     "text": [
      "<class 'bool'> \n",
      "----------\n",
      "<class 'str'> \n",
      "----------\n",
      "<class 'NoneType'> \n",
      "----------\n",
      "<class 'list'> \n",
      "----------\n"
     ]
    }
   ],
   "source": [
    "print(type(True), \"\\n----------\")\n",
    "print(type(\"True\"), \"\\n----------\")\n",
    "print(type(None), \"\\n----------\")\n",
    "print(type([]), \"\\n----------\")"
   ]
  },
  {
   "cell_type": "markdown",
   "metadata": {},
   "source": [
    "# Mission 1\n",
    "\n",
    "*"
   ]
  },
  {
   "cell_type": "code",
   "execution_count": null,
   "metadata": {},
   "outputs": [],
   "source": []
  }
 ],
 "metadata": {
  "celltoolbar": "Slideshow",
  "kernelspec": {
   "display_name": "Python 3",
   "language": "python",
   "name": "python3"
  },
  "language_info": {
   "codemirror_mode": {
    "name": "ipython",
    "version": 3
   },
   "file_extension": ".py",
   "mimetype": "text/x-python",
   "name": "python",
   "nbconvert_exporter": "python",
   "pygments_lexer": "ipython3",
   "version": "3.6.3"
  },
  "livereveal": {
   "theme": "serif",
   "transition": "zoom"
  }
 },
 "nbformat": 4,
 "nbformat_minor": 2
}
