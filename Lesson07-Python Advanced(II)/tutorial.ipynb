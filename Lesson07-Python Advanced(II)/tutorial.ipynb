{
 "cells": [
  {
   "cell_type": "markdown",
   "metadata": {
    "slideshow": {
     "slide_type": "slide"
    }
   },
   "source": [
    "# <center>常用內建函式</center>"
   ]
  },
  {
   "cell_type": "code",
   "execution_count": 46,
   "metadata": {
    "slideshow": {
     "slide_type": "subslide"
    }
   },
   "outputs": [
    {
     "name": "stdout",
     "output_type": "stream",
     "text": [
      "[0, 2, 4, 6, 8] \n",
      "\n",
      "[8, 6, 4, 2, 0]\n"
     ]
    }
   ],
   "source": [
    "# run me!\n",
    "%reset -f\n",
    "\n",
    "a = list(range(0, 10, 2))\n",
    "print(a, \"\\n\")\n",
    "\n",
    "a.reverse()\n",
    "print(a)"
   ]
  },
  {
   "cell_type": "markdown",
   "metadata": {
    "slideshow": {
     "slide_type": "-"
    }
   },
   "source": [
    "#### 有看到什麼神奇的東西嗎?"
   ]
  },
  {
   "cell_type": "markdown",
   "metadata": {
    "slideshow": {
     "slide_type": "subslide"
    }
   },
   "source": [
    "```\n",
    "a = list(range(0, 10, 2))\n",
    "print(a, \"\\n\")\n",
    "\n",
    "a.reverse()\n",
    "print(a)\n",
    "---------------------------------------------------------------------------\n",
    "```\n",
    "\n",
    "* list( ) : 用來轉換成 list\n",
    "* range( ) : 可以用來生成 tuple\n",
    "* print( ) : 印出資訊\n",
    "* reverse( ) : 把 list 反轉"
   ]
  },
  {
   "cell_type": "code",
   "execution_count": 50,
   "metadata": {
    "slideshow": {
     "slide_type": "subslide"
    }
   },
   "outputs": [
    {
     "name": "stdout",
     "output_type": "stream",
     "text": [
      "[0, 2, 4, 6, 8, 9, 7, 5, 3, 1] \n",
      "\n",
      "[0, 1, 2, 3, 4, 5, 6, 7, 8, 9]\n"
     ]
    }
   ],
   "source": [
    "# run me!\n",
    "%reset -f\n",
    "\n",
    "a = []\n",
    "\n",
    "for i in range(0, 10):\n",
    "    a.append(9-i)\n",
    "    a.reverse()\n",
    "    \n",
    "print(a, \"\\n\")\n",
    "\n",
    "a.sort()\n",
    "print(a)"
   ]
  },
  {
   "cell_type": "markdown",
   "metadata": {
    "slideshow": {
     "slide_type": "slide"
    }
   },
   "source": [
    "# <center>所以內建函式是什麼?</center>"
   ]
  },
  {
   "cell_type": "markdown",
   "metadata": {
    "slideshow": {
     "slide_type": "subslide"
    }
   },
   "source": [
    "<center>![](https://upload.wikimedia.org/wikipedia/commons/b/b8/Apple_slicing_function.png)</center>\n",
    "\n",
    "<br/>\n",
    "* 就像你自己寫的函式一樣\n",
    "* 不過內建函式可以直接用"
   ]
  },
  {
   "cell_type": "markdown",
   "metadata": {
    "slideshow": {
     "slide_type": "subslide"
    }
   },
   "source": [
    "# <center>一些常用的內建函式</center>\n",
    "\n",
    "<br/>\n",
    "* 輸入輸出：input(), print()...\n",
    "* 數值轉型：int(), str()...\n",
    "* 陣列操作：reverse(), sort(), pop()...\n",
    "* 數值運算：abs(), sum(), max()..."
   ]
  },
  {
   "cell_type": "markdown",
   "metadata": {
    "slideshow": {
     "slide_type": "subslide"
    }
   },
   "source": [
    "# <center>使用內建函式的好處</center>\n",
    "\n",
    "<br/>\n",
    "* 自己寫可能會寫錯\n",
    "* 提升 Coding 效率\n",
    "* 提升可讀性，你比較好看懂，和你一起寫的人也較好看懂\n",
    "* 以 sum() 為例"
   ]
  },
  {
   "cell_type": "code",
   "execution_count": 12,
   "metadata": {
    "slideshow": {
     "slide_type": "subslide"
    }
   },
   "outputs": [
    {
     "name": "stdout",
     "output_type": "stream",
     "text": [
      "data: \t\t [0, 1, 2, 3, 4, 5, 6, 7, 8, 9]\n",
      "sum(data): \t 45\n"
     ]
    }
   ],
   "source": [
    "# sum() 可以對陣列內元素計算總和\n",
    "# run me!\n",
    "%reset -f\n",
    "\n",
    "data = list(range(0, 10))\n",
    "\n",
    "print(\"data: \\t\\t\", data)\n",
    "print(\"sum(data): \\t\", sum(data))"
   ]
  },
  {
   "cell_type": "code",
   "execution_count": 13,
   "metadata": {
    "slideshow": {
     "slide_type": "subslide"
    }
   },
   "outputs": [],
   "source": [
    "# 實現 sum() 函式部分功能\n",
    "def mySum(data):\n",
    "    \n",
    "    value = 0                         # 剛開始總何為零\n",
    "    \n",
    "    for i in range(len(data)):        # 逐個增加\n",
    "        value += data[i]\n",
    "        \n",
    "    return value                      # 回傳總和"
   ]
  },
  {
   "cell_type": "code",
   "execution_count": 19,
   "metadata": {
    "slideshow": {
     "slide_type": "subslide"
    }
   },
   "outputs": [
    {
     "name": "stdout",
     "output_type": "stream",
     "text": [
      "sum(myCredits): \t 114\n",
      "mySum(myCredits): \t 114\n"
     ]
    }
   ],
   "source": [
    "# 兩個都拿來算一下學分\n",
    "\n",
    "myCredits = [12, 15, 14, 14, 15, 12, 18, 14]\n",
    "\n",
    "print(\"sum(myCredits): \\t\", sum(myCredits))\n",
    "print(\"mySum(myCredits): \\t\", mySum(myCredits))"
   ]
  },
  {
   "cell_type": "markdown",
   "metadata": {
    "slideshow": {
     "slide_type": "subslide"
    }
   },
   "source": [
    "### <center>然後你會發現......</center>"
   ]
  },
  {
   "cell_type": "markdown",
   "metadata": {
    "slideshow": {
     "slide_type": "subslide"
    }
   },
   "source": [
    "# <center>尷尬</center>\n",
    "### <center>學分好像不夠...Σ(O口O)</center>"
   ]
  },
  {
   "cell_type": "markdown",
   "metadata": {},
   "source": [
    "# <center> ------------------------------------休息！---------------------------------------</center>\n",
    "* 10 分鐘"
   ]
  },
  {
   "cell_type": "code",
   "execution_count": null,
   "metadata": {},
   "outputs": [],
   "source": []
  },
  {
   "cell_type": "markdown",
   "metadata": {
    "slideshow": {
     "slide_type": "slide"
    }
   },
   "source": [
    "# Outline\n",
    "\n",
    "* Tutorial 1 / Mission 1\n",
    "* Tutorial 2 / Mission 2\n",
    "* Break-----------------\n",
    "* Tutorial 3 / Mission 3\n",
    "* Tutorial 4 / Mission 4"
   ]
  },
  {
   "cell_type": "markdown",
   "metadata": {
    "slideshow": {
     "slide_type": "slide"
    }
   },
   "source": [
    "# Tutorial 1\n",
    "\n",
    "* bool()\n",
    "* int()\n",
    "* float()\n",
    "* str()\n",
    "* type()"
   ]
  },
  {
   "cell_type": "markdown",
   "metadata": {
    "slideshow": {
     "slide_type": "slide"
    }
   },
   "source": [
    "# bool()\n",
    "\n",
    "* 把參數轉為 bool 型別後回傳"
   ]
  },
  {
   "cell_type": "markdown",
   "metadata": {
    "slideshow": {
     "slide_type": "slide"
    }
   },
   "source": [
    "# Try\n",
    "\n",
    "* bool(0)\n",
    "* bool(1)\n",
    "* bool(0.0)\n",
    "* bool(1.0)"
   ]
  },
  {
   "cell_type": "code",
   "execution_count": 5,
   "metadata": {
    "slideshow": {
     "slide_type": "slide"
    }
   },
   "outputs": [
    {
     "name": "stdout",
     "output_type": "stream",
     "text": [
      "False \n",
      "----------\n",
      "True \n",
      "----------\n",
      "False \n",
      "----------\n",
      "True \n",
      "----------\n"
     ]
    }
   ],
   "source": [
    "print(bool(0), \"\\n----------\")\n",
    "print(bool(1), \"\\n----------\")\n",
    "print(bool(0.0), \"\\n----------\")\n",
    "print(bool(1.0), \"\\n----------\")"
   ]
  },
  {
   "cell_type": "markdown",
   "metadata": {
    "slideshow": {
     "slide_type": "slide"
    }
   },
   "source": [
    "# int()\n",
    "\n",
    "* 把參數轉為 int 型別後回傳"
   ]
  },
  {
   "cell_type": "markdown",
   "metadata": {
    "slideshow": {
     "slide_type": "slide"
    }
   },
   "source": [
    "# Try\n",
    "\n",
    "* int(0.1)\n",
    "* int(-1.1)\n",
    "* int(\"10\")\n",
    "* int(False)"
   ]
  },
  {
   "cell_type": "code",
   "execution_count": 7,
   "metadata": {
    "scrolled": true,
    "slideshow": {
     "slide_type": "slide"
    }
   },
   "outputs": [
    {
     "name": "stdout",
     "output_type": "stream",
     "text": [
      "0 \n",
      "----------\n",
      "-1 \n",
      "----------\n",
      "10 \n",
      "----------\n",
      "0 \n",
      "----------\n"
     ]
    }
   ],
   "source": [
    "print(int(0.1), \"\\n----------\")\n",
    "print(int(-1.1), \"\\n----------\")\n",
    "print(int(\"10\"), \"\\n----------\")\n",
    "print(int(False), \"\\n----------\")"
   ]
  },
  {
   "cell_type": "markdown",
   "metadata": {
    "slideshow": {
     "slide_type": "slide"
    }
   },
   "source": [
    "# float()\n",
    "\n",
    "* 把參數轉為 float 型別並回傳"
   ]
  },
  {
   "cell_type": "markdown",
   "metadata": {
    "slideshow": {
     "slide_type": "slide"
    }
   },
   "source": [
    "# Try\n",
    "\n",
    "* float(1)\n",
    "* float(-1)\n",
    "* float(\"10.0\")\n",
    "* float(True)"
   ]
  },
  {
   "cell_type": "code",
   "execution_count": 9,
   "metadata": {
    "slideshow": {
     "slide_type": "slide"
    }
   },
   "outputs": [
    {
     "name": "stdout",
     "output_type": "stream",
     "text": [
      "1.0 \n",
      "----------\n",
      "-1.0 \n",
      "----------\n",
      "10.0 \n",
      "----------\n",
      "1.0 \n",
      "----------\n"
     ]
    }
   ],
   "source": [
    "# float() 會回傳一個 float\n",
    "\n",
    "print(float(1), \"\\n----------\")\n",
    "print(float(-1), \"\\n----------\")\n",
    "print(float(\"10.0\"), \"\\n----------\")\n",
    "print(float(True), \"\\n----------\")"
   ]
  },
  {
   "cell_type": "markdown",
   "metadata": {
    "slideshow": {
     "slide_type": "slide"
    }
   },
   "source": [
    "# str()\n",
    "\n",
    "* 把一個數值轉為 string 型別並回傳"
   ]
  },
  {
   "cell_type": "markdown",
   "metadata": {
    "slideshow": {
     "slide_type": "slide"
    }
   },
   "source": [
    "# Try\n",
    "\n",
    "* str(0)\n",
    "* str(-1)\n",
    "* str(True)\n",
    "* str(-10.0)"
   ]
  },
  {
   "cell_type": "code",
   "execution_count": 11,
   "metadata": {
    "slideshow": {
     "slide_type": "slide"
    }
   },
   "outputs": [
    {
     "name": "stdout",
     "output_type": "stream",
     "text": [
      "0 \n",
      "----------\n",
      "-1 \n",
      "----------\n",
      "True \n",
      "----------\n",
      "-10.0 \n",
      "----------\n"
     ]
    }
   ],
   "source": [
    "print(str(0), \"\\n----------\")\n",
    "print(str(-1), \"\\n----------\")\n",
    "print(str(True), \"\\n----------\")\n",
    "print(str(-10.0), \"\\n----------\")"
   ]
  },
  {
   "cell_type": "markdown",
   "metadata": {
    "slideshow": {
     "slide_type": "slide"
    }
   },
   "source": [
    "# type()\n",
    "\n",
    "* 回傳參數的類別"
   ]
  },
  {
   "cell_type": "markdown",
   "metadata": {
    "slideshow": {
     "slide_type": "slide"
    }
   },
   "source": [
    "# Try\n",
    "* type(True)\n",
    "* type(\"True\")\n",
    "* type(None)\n",
    "* type([ ])"
   ]
  },
  {
   "cell_type": "code",
   "execution_count": 13,
   "metadata": {
    "slideshow": {
     "slide_type": "slide"
    }
   },
   "outputs": [
    {
     "name": "stdout",
     "output_type": "stream",
     "text": [
      "<class 'bool'> \n",
      "----------\n",
      "<class 'str'> \n",
      "----------\n",
      "<class 'NoneType'> \n",
      "----------\n",
      "<class 'list'> \n",
      "----------\n"
     ]
    }
   ],
   "source": [
    "print(type(True), \"\\n----------\")\n",
    "print(type(\"True\"), \"\\n----------\")\n",
    "print(type(None), \"\\n----------\")\n",
    "print(type([]), \"\\n----------\")"
   ]
  },
  {
   "cell_type": "markdown",
   "metadata": {},
   "source": [
    "# Mission 1\n",
    "\n",
    "*"
   ]
  },
  {
   "cell_type": "code",
   "execution_count": null,
   "metadata": {},
   "outputs": [],
   "source": []
  }
 ],
 "metadata": {
  "celltoolbar": "Slideshow",
  "kernelspec": {
   "display_name": "Python 3",
   "language": "python",
   "name": "python3"
  },
  "language_info": {
   "codemirror_mode": {
    "name": "ipython",
    "version": 3
   },
   "file_extension": ".py",
   "mimetype": "text/x-python",
   "name": "python",
   "nbconvert_exporter": "python",
   "pygments_lexer": "ipython3",
   "version": "3.6.3"
  },
  "livereveal": {
   "theme": "serif",
   "transition": "zoom"
  }
 },
 "nbformat": 4,
 "nbformat_minor": 2
}
