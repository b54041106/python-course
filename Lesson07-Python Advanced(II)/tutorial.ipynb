{
 "cells": [
  {
   "cell_type": "markdown",
   "metadata": {
    "slideshow": {
     "slide_type": "slide"
    }
   },
   "source": [
    "# <center>常用內建函式</center>"
   ]
  },
  {
   "cell_type": "code",
   "execution_count": 46,
   "metadata": {
    "slideshow": {
     "slide_type": "subslide"
    }
   },
   "outputs": [
    {
     "name": "stdout",
     "output_type": "stream",
     "text": [
      "[0, 2, 4, 6, 8] \n",
      "\n",
      "[8, 6, 4, 2, 0]\n"
     ]
    }
   ],
   "source": [
    "# run me!\n",
    "%reset -f\n",
    "\n",
    "a = list(range(0, 10, 2))\n",
    "print(a, \"\\n\")\n",
    "\n",
    "a.reverse()\n",
    "print(a)"
   ]
  },
  {
   "cell_type": "markdown",
   "metadata": {
    "slideshow": {
     "slide_type": "-"
    }
   },
   "source": [
    "#### 有看到什麼神奇的東西嗎?"
   ]
  },
  {
   "cell_type": "markdown",
   "metadata": {
    "slideshow": {
     "slide_type": "subslide"
    }
   },
   "source": [
    "```\n",
    "a = list(range(0, 10, 2))\n",
    "print(a, \"\\n\")\n",
    "\n",
    "a.reverse()\n",
    "print(a)\n",
    "---------------------------------------------------------------------------\n",
    "```\n",
    "\n",
    "* list(range( )) : 用來生成 list，很好用\n",
    "* print( ) : 印出資訊\n",
    "* reverse( ) : 把 list 反轉"
   ]
  },
  {
   "cell_type": "code",
   "execution_count": 50,
   "metadata": {
    "slideshow": {
     "slide_type": "subslide"
    }
   },
   "outputs": [
    {
     "name": "stdout",
     "output_type": "stream",
     "text": [
      "[0, 2, 4, 6, 8, 9, 7, 5, 3, 1] \n",
      "\n",
      "[0, 1, 2, 3, 4, 5, 6, 7, 8, 9]\n"
     ]
    }
   ],
   "source": [
    "# run me!\n",
    "%reset -f\n",
    "\n",
    "a = []\n",
    "\n",
    "for i in range(0, 10):\n",
    "    a.append(9-i)\n",
    "    a.reverse()\n",
    "    \n",
    "print(a, \"\\n\")\n",
    "\n",
    "a.sort()\n",
    "print(a)"
   ]
  },
  {
   "cell_type": "markdown",
   "metadata": {
    "slideshow": {
     "slide_type": "slide"
    }
   },
   "source": [
    "# <center>所以內建函式是什麼?</center>"
   ]
  },
  {
   "cell_type": "markdown",
   "metadata": {
    "slideshow": {
     "slide_type": "subslide"
    }
   },
   "source": [
    "<center>![](https://upload.wikimedia.org/wikipedia/commons/b/b8/Apple_slicing_function.png)</center>\n",
    "\n",
    "<br/>\n",
    "* 就像你自己寫的函式一樣\n",
    "* 不過內建函式可以直接用"
   ]
  },
  {
   "cell_type": "markdown",
   "metadata": {
    "slideshow": {
     "slide_type": "subslide"
    }
   },
   "source": [
    "# <center>一些常用的內建函式</center>\n",
    "\n",
    "<br/>\n",
    "* 輸入輸出：input(), print()...\n",
    "* 數值轉型：int(), str()...\n",
    "* 陣列操作：reverse(), sort(), pop()...\n",
    "* 數值運算：abs(), sum(), max()..."
   ]
  },
  {
   "cell_type": "markdown",
   "metadata": {
    "slideshow": {
     "slide_type": "subslide"
    }
   },
   "source": [
    "# <center>使用內建函式的好處</center>\n",
    "\n",
    "<br/>\n",
    "* 自己寫可能會寫錯\n",
    "* 提升 Coding 效率\n",
    "* 提升可讀性，你比較好看懂，和你一起寫的人也較好看懂\n",
    "* 以 sum() 為例"
   ]
  },
  {
   "cell_type": "code",
   "execution_count": 12,
   "metadata": {
    "slideshow": {
     "slide_type": "subslide"
    }
   },
   "outputs": [
    {
     "name": "stdout",
     "output_type": "stream",
     "text": [
      "data: \t\t [0, 1, 2, 3, 4, 5, 6, 7, 8, 9]\n",
      "sum(data): \t 45\n"
     ]
    }
   ],
   "source": [
    "# sum() 可以對陣列內元素計算總和\n",
    "# run me!\n",
    "%reset -f\n",
    "\n",
    "data = list(range(0, 10))\n",
    "\n",
    "print(\"data: \\t\\t\", data)\n",
    "print(\"sum(data): \\t\", sum(data))"
   ]
  },
  {
   "cell_type": "code",
   "execution_count": 18,
   "metadata": {
    "slideshow": {
     "slide_type": "subslide"
    }
   },
   "outputs": [],
   "source": [
    "# 實現 sum() 函式部分功能\n",
    "def mySum(data):\n",
    "    \n",
    "    value = 0                         # 剛開始總何為零\n",
    "    \n",
    "    for i in data:                    # 逐個增加\n",
    "        value += i\n",
    "        \n",
    "    return value                      # 回傳總和"
   ]
  },
  {
   "cell_type": "code",
   "execution_count": 19,
   "metadata": {
    "slideshow": {
     "slide_type": "subslide"
    }
   },
   "outputs": [
    {
     "name": "stdout",
     "output_type": "stream",
     "text": [
      "sum(myCredits): \t 114\n",
      "mySum(myCredits): \t 114\n"
     ]
    }
   ],
   "source": [
    "# 兩個都拿來算一下學分\n",
    "\n",
    "myCredits = [12, 15, 14, 14, 15, 12, 18, 14]\n",
    "\n",
    "print(\"sum(myCredits): \\t\", sum(myCredits))\n",
    "print(\"mySum(myCredits): \\t\", mySum(myCredits))"
   ]
  },
  {
   "cell_type": "markdown",
   "metadata": {
    "slideshow": {
     "slide_type": "subslide"
    }
   },
   "source": [
    "### <center>然後你會發現......</center>"
   ]
  },
  {
   "cell_type": "markdown",
   "metadata": {
    "slideshow": {
     "slide_type": "subslide"
    }
   },
   "source": [
    "# <center>尷尬</center>\n",
    "### <center>學分好像不夠...Σ(O口O)</center>"
   ]
  },
  {
   "cell_type": "markdown",
   "metadata": {
    "slideshow": {
     "slide_type": "subslide"
    }
   },
   "source": [
    "### <center>都快要不能畢業了，哪有時間自己寫 mySum() 阿！</center>\n",
    "\n",
    "<br/>\n",
    "* 時間壓力\n",
    "* 可能寫錯\n",
    "* 內建函式可以幫上你"
   ]
  },
  {
   "cell_type": "markdown",
   "metadata": {
    "slideshow": {
     "slide_type": "subslide"
    }
   },
   "source": [
    "### <center> ----------------------------休息！-------------------------------</center>\n",
    "\n",
    "<br/>\n",
    "* 10 分鐘"
   ]
  },
  {
   "cell_type": "markdown",
   "metadata": {
    "slideshow": {
     "slide_type": "slide"
    }
   },
   "source": [
    "### <center>數值轉型相關</center>\n",
    "\n",
    "<br/>\n",
    "* type( )\n",
    "* bool( )\n",
    "* int( )\n",
    "* float( )\n",
    "* str( )"
   ]
  },
  {
   "cell_type": "markdown",
   "metadata": {
    "slideshow": {
     "slide_type": "slide"
    }
   },
   "source": [
    "## <center> type( ) </center>\n",
    "\n",
    "<br/>\n",
    "* 回傳數值的類別"
   ]
  },
  {
   "cell_type": "markdown",
   "metadata": {
    "slideshow": {
     "slide_type": "subslide"
    }
   },
   "source": [
    "## <center> 試試看 </center>\n",
    "\n",
    "<br/>\n",
    "* True (e.g. type(True))\n",
    "* 1\n",
    "* 1.0\n",
    "* \"1\"\n",
    "* [0, 1]\n",
    "* {0:'zero'}\n",
    "* None"
   ]
  },
  {
   "cell_type": "code",
   "execution_count": 3,
   "metadata": {
    "slideshow": {
     "slide_type": "subslide"
    }
   },
   "outputs": [
    {
     "name": "stdout",
     "output_type": "stream",
     "text": [
      "type(True): \t <class 'bool'> \n",
      "\n",
      "type(1): \t <class 'int'> \n",
      "\n",
      "type(1.0): \t <class 'float'> \n",
      "\n",
      "type(\"1\"): \t <class 'str'> \n",
      "\n"
     ]
    }
   ],
   "source": [
    "# type() 回傳數值的型別\n",
    "\n",
    "print(\"type(True): \\t\", type(True), \"\\n\")\n",
    "print(\"type(1): \\t\", type(1), \"\\n\")\n",
    "print(\"type(1.0): \\t\", type(1.0), \"\\n\")\n",
    "print(\"type(\\\"1\\\"): \\t\", type(\"1\"), \"\\n\")"
   ]
  },
  {
   "cell_type": "code",
   "execution_count": 61,
   "metadata": {
    "scrolled": true,
    "slideshow": {
     "slide_type": "subslide"
    }
   },
   "outputs": [
    {
     "name": "stdout",
     "output_type": "stream",
     "text": [
      "type([0, 1]): \t\t <class 'list'> \n",
      "\n",
      "type({0:'zero'}): \t <class 'dict'> \n",
      "\n",
      "type(None): \t\t <class 'NoneType'> \n",
      "\n"
     ]
    }
   ],
   "source": [
    "print(\"type([0, 1]): \\t\\t\", type([0, 1]), \"\\n\")\n",
    "print(\"type({0:'zero'}): \\t\", type({0:'zero'}), \"\\n\")\n",
    "print(\"type(None): \\t\\t\", type(None), \"\\n\")"
   ]
  },
  {
   "cell_type": "markdown",
   "metadata": {
    "slideshow": {
     "slide_type": "slide"
    }
   },
   "source": [
    "## <center>bool( )</center>\n",
    "\n",
    "<br/>\n",
    "* 將數值轉型為整數 bool 並回傳"
   ]
  },
  {
   "cell_type": "markdown",
   "metadata": {
    "slideshow": {
     "slide_type": "subslide"
    }
   },
   "source": [
    "## <center> 試試看 </center>\n",
    "\n",
    "<br/>\n",
    "* 0 (e.g. bool(0))\n",
    "* 1"
   ]
  },
  {
   "cell_type": "code",
   "execution_count": 62,
   "metadata": {
    "slideshow": {
     "slide_type": "subslide"
    }
   },
   "outputs": [
    {
     "name": "stdout",
     "output_type": "stream",
     "text": [
      "bool(0): \t False \t <class 'bool'> \n",
      "\n",
      "bool(1): \t True \t <class 'bool'> \n",
      "\n"
     ]
    }
   ],
   "source": [
    "# bool() 將數值轉為布林值並回傳\n",
    "\n",
    "print(\"bool(0): \\t\", bool(0), \"\\t\", type(bool(0)), \"\\n\")\n",
    "print(\"bool(1): \\t\", bool(1), \"\\t\", type(bool(1)), \"\\n\")"
   ]
  },
  {
   "cell_type": "markdown",
   "metadata": {
    "slideshow": {
     "slide_type": "slide"
    }
   },
   "source": [
    "## <center>int( )</center>\n",
    "\n",
    "<br/>\n",
    "* 將數值轉型為整數 int 並回傳"
   ]
  },
  {
   "cell_type": "markdown",
   "metadata": {
    "slideshow": {
     "slide_type": "subslide"
    }
   },
   "source": [
    "## <center> 試試看 </center>\n",
    "\n",
    "<br/>\n",
    "* \"1\" (e.g. int(\"1\"))\n",
    "* 2.2\n",
    "* False"
   ]
  },
  {
   "cell_type": "code",
   "execution_count": 45,
   "metadata": {
    "slideshow": {
     "slide_type": "subslide"
    }
   },
   "outputs": [
    {
     "name": "stdout",
     "output_type": "stream",
     "text": [
      "int(\"1\"): \t 1 \t <class 'int'> \n",
      "\n",
      "int(2.2): \t 2 \t <class 'int'> \n",
      "\n",
      "int(False): \t 0 \t <class 'int'> \n",
      "\n"
     ]
    }
   ],
   "source": [
    "# int() 將數值轉為整數並回傳\n",
    "\n",
    "print(\"int(\\\"1\\\"): \\t\", int(\"1\"), \"\\t\", type(int(\"1\")), \"\\n\")\n",
    "print(\"int(2.2): \\t\", int(2.2), \"\\t\", type(int(2.2)), \"\\n\")\n",
    "print(\"int(False): \\t\", int(False), \"\\t\", type(int(False)), \"\\n\")"
   ]
  },
  {
   "cell_type": "markdown",
   "metadata": {
    "slideshow": {
     "slide_type": "slide"
    }
   },
   "source": [
    "## <center>float( )</center>\n",
    "\n",
    "<br/>\n",
    "* 將數值轉型為浮點數 float 並回傳"
   ]
  },
  {
   "cell_type": "markdown",
   "metadata": {
    "slideshow": {
     "slide_type": "subslide"
    }
   },
   "source": [
    "## <center> 試試看 </center>\n",
    "\n",
    "<br/>\n",
    "* \"1.0\" (e.g. float(\"1.0\"))\n",
    "* 2\n",
    "* False"
   ]
  },
  {
   "cell_type": "code",
   "execution_count": 44,
   "metadata": {
    "slideshow": {
     "slide_type": "subslide"
    }
   },
   "outputs": [
    {
     "name": "stdout",
     "output_type": "stream",
     "text": [
      "float(\"1.0\"): \t 1.0 \t <class 'float'> \n",
      "\n",
      "float(2): \t 2.0 \t <class 'float'> \n",
      "\n",
      "float(False): \t 0.0 \t <class 'float'> \n",
      "\n"
     ]
    }
   ],
   "source": [
    "# float() 將數值轉為浮點數並回傳\n",
    "\n",
    "print(\"float(\\\"1.0\\\"): \\t\", float(\"1.0\"), \"\\t\", type(float(\"1.0\")), \"\\n\")\n",
    "print(\"float(2): \\t\", float(2), \"\\t\", type(float(2)), \"\\n\")\n",
    "print(\"float(False): \\t\", float(False), \"\\t\", type(float(False)), \"\\n\")"
   ]
  },
  {
   "cell_type": "markdown",
   "metadata": {
    "slideshow": {
     "slide_type": "slide"
    }
   },
   "source": [
    "## <center>str( )</center>\n",
    "\n",
    "<br/>\n",
    "* 將數值轉型為字串 string 並回傳"
   ]
  },
  {
   "cell_type": "markdown",
   "metadata": {
    "slideshow": {
     "slide_type": "subslide"
    }
   },
   "source": [
    "## <center> 試試看 </center>\n",
    "\n",
    "<br/>\n",
    "* 1 (e.g. str(1))\n",
    "* 2.0\n",
    "* False"
   ]
  },
  {
   "cell_type": "code",
   "execution_count": 41,
   "metadata": {
    "scrolled": false,
    "slideshow": {
     "slide_type": "subslide"
    }
   },
   "outputs": [
    {
     "name": "stdout",
     "output_type": "stream",
     "text": [
      "str(1): \t 1 \t <class 'str'> \n",
      "\n",
      "str(2.0): \t 2.0 \t <class 'str'> \n",
      "\n",
      "str(False): \t False \t <class 'str'> \n",
      "\n"
     ]
    }
   ],
   "source": [
    "# str() 將數值轉為字串並回傳\n",
    "\n",
    "print(\"str(1): \\t\", str(1), \"\\t\", type(str(1)), \"\\n\")\n",
    "print(\"str(2.0): \\t\", str(2.0), \"\\t\", type(str(2.0)), \"\\n\")\n",
    "print(\"str(False): \\t\", str(False), \"\\t\", type(str(False)), \"\\n\")"
   ]
  },
  {
   "cell_type": "markdown",
   "metadata": {
    "slideshow": {
     "slide_type": "slide"
    }
   },
   "source": [
    "## <center>注意!!</center>\n",
    "\n",
    "<center>![](https://fs-gateway.esdict.cn/store_main/wordthumbnail/6d0c9817-6795-4161-a817-39f59544d883.jpg)</center>\n",
    "\n",
    "## <center>盡量別寫奇怪的轉型 Code，像是...</center>"
   ]
  },
  {
   "cell_type": "code",
   "execution_count": 64,
   "metadata": {
    "slideshow": {
     "slide_type": "subslide"
    }
   },
   "outputs": [
    {
     "name": "stdout",
     "output_type": "stream",
     "text": [
      "bool(\"False\"): \t True \t <class 'bool'> \n",
      "\n"
     ]
    }
   ],
   "source": [
    "print(\"bool(\\\"False\\\"): \\t\", bool(\"False\"), \"\\t\", type(bool(\"False\")), \"\\n\")"
   ]
  },
  {
   "cell_type": "code",
   "execution_count": 65,
   "metadata": {
    "slideshow": {
     "slide_type": "subslide"
    }
   },
   "outputs": [
    {
     "ename": "ValueError",
     "evalue": "invalid literal for int() with base 10: '一百三十'",
     "output_type": "error",
     "traceback": [
      "\u001b[1;31m---------------------------------------------------------------------------\u001b[0m",
      "\u001b[1;31mValueError\u001b[0m                                Traceback (most recent call last)",
      "\u001b[1;32m<ipython-input-65-e0b11c34e110>\u001b[0m in \u001b[0;36m<module>\u001b[1;34m()\u001b[0m\n\u001b[1;32m----> 1\u001b[1;33m \u001b[0mprint\u001b[0m\u001b[1;33m(\u001b[0m\u001b[1;34m\"int(\\\"一百三十\\\"): \\t\"\u001b[0m\u001b[1;33m,\u001b[0m \u001b[0mint\u001b[0m\u001b[1;33m(\u001b[0m\u001b[1;34m\"一百三十\"\u001b[0m\u001b[1;33m)\u001b[0m\u001b[1;33m)\u001b[0m\u001b[1;33m\u001b[0m\u001b[0m\n\u001b[0m",
      "\u001b[1;31mValueError\u001b[0m: invalid literal for int() with base 10: '一百三十'"
     ]
    }
   ],
   "source": [
    "print(\"int(\\\"一百三十\\\"): \\t\", int(\"一百三十\"))"
   ]
  },
  {
   "cell_type": "markdown",
   "metadata": {
    "slideshow": {
     "slide_type": "subslide"
    }
   },
   "source": [
    "### <center>和你一起寫 Code 的隊友很可能會討厭你</center>\n",
    "\n",
    "<center>![](https://e.share.photo.xuite.net/cwai_90/1e5fe4a/17635651/958014983_m.jpg)</center>"
   ]
  },
  {
   "cell_type": "markdown",
   "metadata": {
    "slideshow": {
     "slide_type": "slide"
    }
   },
   "source": [
    "### <center>數值運算相關</center>\n",
    "\n",
    "<br/>\n",
    "* abs( )\n",
    "* pow( )\n",
    "* divmod( )\n",
    "* max( ), min( )\n",
    "* sum( )"
   ]
  },
  {
   "cell_type": "markdown",
   "metadata": {
    "slideshow": {
     "slide_type": "slide"
    }
   },
   "source": [
    "## <center>abs( )</center>\n",
    "\n",
    "<br/>\n",
    "* 計算絕對值"
   ]
  },
  {
   "cell_type": "markdown",
   "metadata": {
    "slideshow": {
     "slide_type": "subslide"
    }
   },
   "source": [
    "### <center>試試看</center>\n",
    "\n",
    "* 5 (e.g. abs(5))\n",
    "* -10\n",
    "* 3+ 4j"
   ]
  },
  {
   "cell_type": "code",
   "execution_count": 10,
   "metadata": {
    "slideshow": {
     "slide_type": "subslide"
    }
   },
   "outputs": [
    {
     "name": "stdout",
     "output_type": "stream",
     "text": [
      "abs(5): \t 5 \n",
      "\n",
      "abs(-10): \t 10 \n",
      "\n",
      "abs(3+ 4j): \t 5.0 \n",
      "\n"
     ]
    }
   ],
   "source": [
    "# abs() 計算絕對值\n",
    "\n",
    "print(\"abs(5): \\t\", abs(5), \"\\n\")\n",
    "print(\"abs(-10): \\t\", abs(-10), \"\\n\")\n",
    "print(\"abs(3+ 4j): \\t\", abs(3+ 4j), \"\\n\")"
   ]
  },
  {
   "cell_type": "markdown",
   "metadata": {
    "slideshow": {
     "slide_type": "slide"
    }
   },
   "source": [
    "## <center>pow( )</center>\n",
    "\n",
    "<br/>\n",
    "* 計算指數"
   ]
  },
  {
   "cell_type": "markdown",
   "metadata": {
    "slideshow": {
     "slide_type": "subslide"
    }
   },
   "source": [
    "### <center>試試看</center>\n",
    "\n",
    "* 4, 3 (e.g pow(4, 3))\n",
    "* 2, 0\n",
    "* 10, -2\n",
    "* 3, 1.5"
   ]
  },
  {
   "cell_type": "code",
   "execution_count": 9,
   "metadata": {
    "slideshow": {
     "slide_type": "subslide"
    }
   },
   "outputs": [
    {
     "name": "stdout",
     "output_type": "stream",
     "text": [
      "pow(4, 3): \t 64 \n",
      "\n",
      "pow(2, 0): \t 1 \n",
      "\n",
      "pow(10, -2): \t 0.01 \n",
      "\n",
      "pow(3, 1.5): \t 5.196152422706632 \n",
      "\n"
     ]
    }
   ],
   "source": [
    "# pow() 計算指數\n",
    "\n",
    "print(\"pow(4, 3): \\t\", pow(4, 3), \"\\n\")\n",
    "print(\"pow(2, 0): \\t\", pow(2, 0), \"\\n\")\n",
    "print(\"pow(10, -2): \\t\", pow(10, -2), \"\\n\")\n",
    "print(\"pow(3, 1.5): \\t\", pow(3, 1.5), \"\\n\")"
   ]
  },
  {
   "cell_type": "markdown",
   "metadata": {
    "slideshow": {
     "slide_type": "slide"
    }
   },
   "source": [
    "### <center>divmod( )</center>\n",
    "\n",
    "* 計算商數和餘數"
   ]
  },
  {
   "cell_type": "markdown",
   "metadata": {
    "slideshow": {
     "slide_type": "subslide"
    }
   },
   "source": [
    "### <center>試試看</center>\n",
    "\n",
    "* 7, 2 (e.g. divmod(7, 2))\n",
    "* 3, 10.2\n",
    "* 4.5, 4"
   ]
  },
  {
   "cell_type": "code",
   "execution_count": 20,
   "metadata": {
    "scrolled": true,
    "slideshow": {
     "slide_type": "subslide"
    }
   },
   "outputs": [
    {
     "name": "stdout",
     "output_type": "stream",
     "text": [
      "divmod(7, 2): \t\t (3, 1) \n",
      "\n",
      "divmod(3, 10.2): \t (0.0, 3.0) \n",
      "\n",
      "divmod(4.5, 4): \t (1.0, 0.5) \n",
      "\n"
     ]
    }
   ],
   "source": [
    "# divmod() 計算商數或餘數\n",
    "\n",
    "print(\"divmod(7, 2): \\t\\t\", divmod(7, 2), \"\\n\")\n",
    "print(\"divmod(3, 10.2): \\t\", divmod(3, 10.2), \"\\n\")\n",
    "print(\"divmod(4.5, 4): \\t\", divmod(4.5, 4), \"\\n\")"
   ]
  },
  {
   "cell_type": "markdown",
   "metadata": {
    "slideshow": {
     "slide_type": "slide"
    }
   },
   "source": [
    "### <center>max( ), min( )</center>\n",
    "\n",
    "* 取陣列中元素最大值，最小值"
   ]
  },
  {
   "cell_type": "markdown",
   "metadata": {
    "slideshow": {
     "slide_type": "subslide"
    }
   },
   "source": [
    "### <center>試試看</center>\n",
    "\n",
    "* [1, 2, 3] (e.g. max([1, 2, 3]), min([1, 2, 3]))\n",
    "* [2, 0.5, -4]\n",
    "* [\"A\", \"B\", \"C\"]"
   ]
  },
  {
   "cell_type": "code",
   "execution_count": 1,
   "metadata": {
    "slideshow": {
     "slide_type": "subslide"
    }
   },
   "outputs": [
    {
     "name": "stdout",
     "output_type": "stream",
     "text": [
      "max([1, 2, 3]): \t 3 \n",
      "\n",
      "min([1, 2, 3]): \t 1 \n",
      "\n",
      "max([2, 0.5, -4]): \t 2 \n",
      "\n",
      "min([2, 0.5, -4]): \t -4 \n",
      "\n",
      "max([\"A\", \"B\", \"C\"]): \t C \n",
      "\n",
      "min([\"A\", \"B\", \"C\"]): \t A \n",
      "\n"
     ]
    }
   ],
   "source": [
    "# max(), min() 取最大值，最小值\n",
    "\n",
    "print(\"max([1, 2, 3]): \\t\", max([1, 2, 3]), \"\\n\")\n",
    "print(\"min([1, 2, 3]): \\t\", min([1, 2, 3]), \"\\n\")\n",
    "print(\"max([2, 0.5, -4]): \\t\", max([2, 0.5, -4]), \"\\n\")\n",
    "print(\"min([2, 0.5, -4]): \\t\", min([2, 0.5, -4]), \"\\n\")\n",
    "print(\"max([\\\"A\\\", \\\"B\\\", \\\"C\\\"]): \\t\", max([\"A\", \"B\", \"C\"]), \"\\n\")\n",
    "print(\"min([\\\"A\\\", \\\"B\\\", \\\"C\\\"]): \\t\", min([\"A\", \"B\", \"C\"]), \"\\n\")"
   ]
  },
  {
   "cell_type": "markdown",
   "metadata": {
    "slideshow": {
     "slide_type": "slide"
    }
   },
   "source": [
    "### <center>sum( )</center>\n",
    "\n",
    "* 取陣列內所有元素總和"
   ]
  },
  {
   "cell_type": "markdown",
   "metadata": {
    "slideshow": {
     "slide_type": "subslide"
    }
   },
   "source": [
    "### <center>試試看</center>\n",
    "\n",
    "* [120, 264, 500] (e.g. sum([120, 264, 500]))\n",
    "* [10, -17.5, 3.5]\n",
    "* [True, True, False]"
   ]
  },
  {
   "cell_type": "code",
   "execution_count": 8,
   "metadata": {
    "scrolled": true,
    "slideshow": {
     "slide_type": "subslide"
    }
   },
   "outputs": [
    {
     "name": "stdout",
     "output_type": "stream",
     "text": [
      "sum([120, 264, 500]): \t\t 884 \n",
      "\n",
      "sum([10, -17.5, 3.5]): \t\t -4.0 \n",
      "\n",
      "sum([True, True, False]): \t 2 \n",
      "\n"
     ]
    }
   ],
   "source": [
    "# sum() 取總和\n",
    "\n",
    "print(\"sum([120, 264, 500]): \\t\\t\", sum([120, 264, 500]), \"\\n\")\n",
    "print(\"sum([10, -17.5, 3.5]): \\t\\t\", sum([10, -17.5, 3.5]), \"\\n\")\n",
    "print(\"sum([True, True, False]): \\t\", sum([True, True, False]), \"\\n\")"
   ]
  },
  {
   "cell_type": "markdown",
   "metadata": {
    "slideshow": {
     "slide_type": "subslide"
    }
   },
   "source": [
    "### <center> ----------------------------休息！-------------------------------</center>\n",
    "\n",
    "<br/>\n",
    "* 10 分鐘"
   ]
  },
  {
   "cell_type": "markdown",
   "metadata": {
    "slideshow": {
     "slide_type": "slide"
    }
   },
   "source": [
    "### <center>陣列操作相關</center>\n",
    "\n",
    "<br/>\n",
    "* sorted( )\n",
    "* set( )\n",
    "* reversed( )\n",
    "* zip( )\n",
    "* map( )\n",
    "* filter( )"
   ]
  },
  {
   "cell_type": "markdown",
   "metadata": {
    "slideshow": {
     "slide_type": "slide"
    }
   },
   "source": [
    "### <center>sorted( )</center>\n",
    "\n",
    "* 對陣列內元素進行排序"
   ]
  },
  {
   "cell_type": "markdown",
   "metadata": {
    "slideshow": {
     "slide_type": "subslide"
    }
   },
   "source": [
    "### <center>試試看</center>\n",
    "\n",
    "* [1, 4, 3, 2, 5] (e.g. sorted([1, 4, 3, 2, 5]))\n",
    "* [5, 2.5, 3, 4.5, 1]\n",
    "* [\"B\", \"C\", \"A\", \"E\", \"D\"]"
   ]
  },
  {
   "cell_type": "code",
   "execution_count": 19,
   "metadata": {
    "scrolled": true,
    "slideshow": {
     "slide_type": "subslide"
    }
   },
   "outputs": [
    {
     "name": "stdout",
     "output_type": "stream",
     "text": [
      "sorted([1, 4, 3, 2, 5]): \t\t [1, 2, 3, 4, 5] \n",
      "\n",
      "sorted([5, 2.5, 3, 4.5, 1]): \t\t [1, 2.5, 3, 4.5, 5] \n",
      "\n",
      "sorted([\"B\", \"C\", \"A\", \"E\", \"D\"]): \t ['A', 'B', 'C', 'D', 'E'] \n",
      "\n"
     ]
    }
   ],
   "source": [
    "# sorted() 對陣列內元素進行排序\n",
    "\n",
    "print(\"sorted([1, 4, 3, 2, 5]): \\t\\t\", sorted([1, 4, 3, 2, 5]), \"\\n\")\n",
    "print(\"sorted([5, 2.5, 3, 4.5, 1]): \\t\\t\", sorted([5, 2.5, 3, 4.5, 1]), \"\\n\")\n",
    "print(\"sorted([\\\"B\\\", \\\"C\\\", \\\"A\\\", \\\"E\\\", \\\"D\\\"]): \\t\", sorted([\"B\", \"C\", \"A\", \"E\", \"D\"]), \"\\n\")"
   ]
  },
  {
   "cell_type": "markdown",
   "metadata": {
    "slideshow": {
     "slide_type": "slide"
    }
   },
   "source": [
    "### <center>set( )</center>\n",
    "\n",
    "* 對陣列內元素取集合"
   ]
  },
  {
   "cell_type": "markdown",
   "metadata": {
    "slideshow": {
     "slide_type": "subslide"
    }
   },
   "source": [
    "### <center>試試看</center>\n",
    "\n",
    "* [1, 1, 2] (e.g. set([1, 1, 2]))\n",
    "* [1, 1, 1.0]\n",
    "* [\"B\", \"A\", \"C\", \"A\", \"C\"]"
   ]
  },
  {
   "cell_type": "code",
   "execution_count": 24,
   "metadata": {
    "scrolled": false,
    "slideshow": {
     "slide_type": "subslide"
    }
   },
   "outputs": [
    {
     "name": "stdout",
     "output_type": "stream",
     "text": [
      "set([1, 1, 2]): \t\t\t {1, 2} \n",
      "\n",
      "set([1, 1, 1.0]): \t\t\t {1} \n",
      "\n",
      "set([\"B\", \"A\", \"C\", \"A\", \"C\"]): \t {'A', 'C', 'B'} \n",
      "\n"
     ]
    }
   ],
   "source": [
    "# set() 對陣列內元素取集合\n",
    "\n",
    "print(\"set([1, 1, 2]): \\t\\t\\t\", set([1, 1, 2]), \"\\n\")\n",
    "print(\"set([1, 1, 1.0]): \\t\\t\\t\", set([1, 1, 1.0]), \"\\n\")\n",
    "print(\"set([\\\"B\\\", \\\"A\\\", \\\"C\\\", \\\"A\\\", \\\"C\\\"]): \\t\", set([\"B\", \"A\", \"C\", \"A\", \"C\"]), \"\\n\")"
   ]
  },
  {
   "cell_type": "markdown",
   "metadata": {
    "slideshow": {
     "slide_type": "slide"
    }
   },
   "source": [
    "### <center>reverse( )</center>\n",
    "\n",
    "* 對陣列內元素進行順序反轉"
   ]
  },
  {
   "cell_type": "markdown",
   "metadata": {
    "slideshow": {
     "slide_type": "subslide"
    }
   },
   "source": [
    "### <center>試試看</center>\n",
    "\n",
    "* [1, 2, 3, 4, 5] (e.g. reversed([1, 2, 3, 4, 5]))\n",
    "* [1, [1, 1], [1, 1, 2]]"
   ]
  },
  {
   "cell_type": "code",
   "execution_count": 21,
   "metadata": {
    "slideshow": {
     "slide_type": "subslide"
    }
   },
   "outputs": [
    {
     "name": "stdout",
     "output_type": "stream",
     "text": [
      "reversed([1, 2, 3, 4, 5]): \t\t <list_reverseiterator object at 0x00000239623F49B0> \n",
      "\n",
      " [5, 4, 3, 2, 1] \n",
      "\n",
      "reversed([1, [1, 1], [1, 1, 2]]): \t <list_reverseiterator object at 0x00000239623F49E8> \n",
      "\n",
      " [[1, 1, 2], [1, 1], 1] \n",
      "\n"
     ]
    }
   ],
   "source": [
    "# reversed() 對陣列內元素取集合\n",
    "\n",
    "print(\"reversed([1, 2, 3, 4, 5]): \\t\\t\", reversed([1, 2, 3, 4, 5]), \"\\n\\n\", list(reversed([1, 2, 3, 4, 5])), \"\\n\")\n",
    "print(\"reversed([1, [1, 1], [1, 1, 2]]): \\t\", reversed([1, [1, 1], [1, 1, 2]]), \"\\n\\n\", list(reversed([1, [1, 1], [1, 1, 2]])), \"\\n\")"
   ]
  },
  {
   "cell_type": "markdown",
   "metadata": {
    "slideshow": {
     "slide_type": "slide"
    }
   },
   "source": [
    "### <center>zip( )</center>\n",
    "\n",
    "* 對多個陣列內順序對應的元素進行打包"
   ]
  },
  {
   "cell_type": "markdown",
   "metadata": {
    "slideshow": {
     "slide_type": "subslide"
    }
   },
   "source": [
    "### <center>試試看</center>\n",
    "\n",
    "* [1, 2, 3], [4, 5, 6] (e.g. zip([1, 2, 3], [4, 5, 6]))\n",
    "* [1, 2, 3], [4, 5, 6, 7]"
   ]
  },
  {
   "cell_type": "code",
   "execution_count": 42,
   "metadata": {
    "slideshow": {
     "slide_type": "subslide"
    }
   },
   "outputs": [
    {
     "name": "stdout",
     "output_type": "stream",
     "text": [
      "zip([1, 2, 3], [4, 5, 6]): \t\t <zip object at 0x0000024182ADFE88> \t [(1, 4), (2, 5), (3, 6)] \n",
      "\n",
      "zip([1, 2, 3], [4, 5, 6, 7]): \t\t <zip object at 0x0000024182ADFE88> \t [(1, 4), (2, 5), (3, 6)] \n",
      "\n"
     ]
    }
   ],
   "source": [
    "# zip() 對多個陣列內順序對應的元素進行打包\n",
    "\n",
    "print(\"zip([1, 2, 3], [4, 5, 6]): \\t\\t\", zip([1, 2, 3], [4, 5, 6]), \"\\t\", list(zip([1, 2, 3], [4, 5, 6])), \"\\n\")\n",
    "print(\"zip([1, 2, 3], [4, 5, 6, 7]): \\t\\t\", zip([1, 2, 3], [4, 5, 6, 7]), \"\\t\", list(zip([1, 2, 3], [4, 5, 6, 7])), \"\\n\")"
   ]
  },
  {
   "cell_type": "markdown",
   "metadata": {
    "slideshow": {
     "slide_type": "slide"
    }
   },
   "source": [
    "### <center>map( )</center>\n",
    "\n",
    "* 對陣列內個各元素執行函數"
   ]
  },
  {
   "cell_type": "code",
   "execution_count": 50,
   "metadata": {
    "slideshow": {
     "slide_type": "subslide"
    }
   },
   "outputs": [
    {
     "name": "stdout",
     "output_type": "stream",
     "text": [
      "map(add_one, [4, 5, 6]): \t <map object at 0x0000024182ADAE48> \t [5, 6, 7] \n",
      "\n",
      "map(add_two, [1, 2, 3]): \t <map object at 0x0000024182ADAEB8> \t [3, 4, 5] \n",
      "\n"
     ]
    }
   ],
   "source": [
    "# map() 對陣列內個各元素執行函數\n",
    "\n",
    "def add_one(x):\n",
    "    return x+ 1\n",
    "\n",
    "def add_two(x):\n",
    "    return x+ 2\n",
    "\n",
    "print(\"map(add_one, [4, 5, 6]): \\t\", map(add_one, [4, 5, 6]), \"\\t\", list(map(add_one, [4, 5, 6])), \"\\n\")\n",
    "print(\"map(add_two, [1, 2, 3]): \\t\", map(add_two, [1, 2, 3]), \"\\t\", list(map(add_two, [1, 2, 3])), \"\\n\")"
   ]
  },
  {
   "cell_type": "markdown",
   "metadata": {
    "slideshow": {
     "slide_type": "slide"
    }
   },
   "source": [
    "### <center>filter( )</center>\n",
    "\n",
    "* 對陣列內個各元素進行篩選"
   ]
  },
  {
   "cell_type": "code",
   "execution_count": 52,
   "metadata": {
    "slideshow": {
     "slide_type": "subslide"
    }
   },
   "outputs": [
    {
     "name": "stdout",
     "output_type": "stream",
     "text": [
      "filter(is_odd, [4, 5, 6]): \t <filter object at 0x0000024182B048D0> \t [5] \n",
      "\n",
      "filter(is_even, [1, 2, 3]): \t <filter object at 0x0000024182B04EF0> \t [2] \n",
      "\n"
     ]
    }
   ],
   "source": [
    "# filter() 對陣列內個各元素進行篩選\n",
    "\n",
    "def is_odd(x):\n",
    "    return x % 2 == 1\n",
    "\n",
    "def is_even(x):\n",
    "    return x % 2 != 1\n",
    "\n",
    "print(\"filter(is_odd, [4, 5, 6]): \\t\", filter(is_odd, [4, 5, 6]), \"\\t\", list(filter(is_odd, [4, 5, 6])), \"\\n\")\n",
    "print(\"filter(is_even, [1, 2, 3]): \\t\", filter(is_even, [1, 2, 3]), \"\\t\", list(filter(is_even, [1, 2, 3])), \"\\n\")"
   ]
  },
  {
   "cell_type": "markdown",
   "metadata": {
    "slideshow": {
     "slide_type": "slide"
    }
   },
   "source": [
    "### <center> ----------------------------休息 + 練習-------------------------------</center>\n",
    "\n",
    "<br/>\n",
    "* 25分鐘"
   ]
  },
  {
   "cell_type": "markdown",
   "metadata": {
    "slideshow": {
     "slide_type": "slide"
    }
   },
   "source": [
    "### <center> ----------------------------題目 1-------------------------------</center>\n",
    "\n",
    "<br/>\n",
    "```\n",
    "實現這個 double_side_list 的功能\n",
    "\n",
    ">>> double_side_list(10, 20, 2)\n",
    "[18, 16, 14, 12, 10, 12, 14, 16, 18]\n",
    "\n",
    ">>> double_side_list(10, 4, 2)\n",
    "[6, 8, 10, 8, 6]\n",
    "```"
   ]
  },
  {
   "cell_type": "code",
   "execution_count": 32,
   "metadata": {
    "slideshow": {
     "slide_type": "notes"
    }
   },
   "outputs": [
    {
     "name": "stdout",
     "output_type": "stream",
     "text": [
      "[18, 16, 14, 12, 10, 12, 14, 16, 18] \n",
      "\n",
      "[6, 8, 10, 8, 6] \n",
      "\n"
     ]
    }
   ],
   "source": [
    "# 題目1參考答案\n",
    "%reset -f\n",
    "\n",
    "def double_side_list(edge_0, edge_1, interval):\n",
    "    \n",
    "    interval = -abs(interval) if (edge_0 > edge_1) else abs(interval)   # 如果要使用 range() 須注意起終點以及間隔的關係\n",
    "    right_side_list = list(range(edge_0, edge_1, interval))             # 先處理好右邊的 list\n",
    "    left_side_list = list(reversed(right_side_list))[:-1]               # 然後是左邊的\n",
    "    return left_side_list+ right_side_list                              # 連起來之後回傳\n",
    "\n",
    "print(double_side_list(10, 20, 2), \"\\n\")\n",
    "print(double_side_list(10, 4, 2), \"\\n\")"
   ]
  },
  {
   "cell_type": "markdown",
   "metadata": {
    "slideshow": {
     "slide_type": "slide"
    }
   },
   "source": [
    "### <center> ----------------------------題目 2-------------------------------</center>\n",
    "\n",
    "<br/>\n",
    "```\n",
    "各位會打橋牌嗎~?\n",
    "目前手上有一副牌，已經分好 [黑桃、紅心、鑽石、梅花]\n",
    "像這樣：\n",
    "[[\"2\", \"K\", \"6\", \"A\", \"10\", \"Q\"], [\"8\", \"K\"], [\"9\", \"Q\", \"8\", \"A\"], [\"7\"]]\n",
    "\n",
    "如果把手牌在按照大小順序整理，會有幫助於戰術規劃\n",
    "麻煩幫我整理成下面這樣：\n",
    "[[\"A\", \"K\", \"Q\", \"10\", \"6\", \"2\"], [\"K\", \"8\"], [\"A\", \"Q\", \"9\", \"8\"], [\"7\"]]\n",
    "```"
   ]
  },
  {
   "cell_type": "markdown",
   "metadata": {
    "slideshow": {
     "slide_type": "subslide"
    }
   },
   "source": [
    "### <center> ----------------------------題目 2-------------------------------</center>\n",
    "\n",
    "<br/>\n",
    "```\n",
    "deck = [[\"2\", \"K\", \"6\", \"A\", \"10\", \"Q\"], [\"8\", \"K\"], [\"9\", \"Q\", \"8\", \"A\"], [\"7\"]]\n",
    "\n",
    ">>> arrange_cards(deck)\n",
    "[[\"A\", \"K\", \"Q\", \"10\", \"6\", \"2\"], [\"K\", \"8\"], [\"A\", \"Q\", \"9\", \"8\"], [\"7\"]]\n",
    "```"
   ]
  },
  {
   "cell_type": "code",
   "execution_count": 38,
   "metadata": {
    "slideshow": {
     "slide_type": "notes"
    }
   },
   "outputs": [
    {
     "name": "stdout",
     "output_type": "stream",
     "text": [
      "[['A', 'K', 'Q', '10', '6', '2'], ['K', '8'], ['A', 'Q', '9', '8'], ['7']] \n",
      "\n",
      "[['9', '6', '4', '3'], ['J', '7', '6', '5'], ['K'], ['10', '6', '4', '2']] \n",
      "\n"
     ]
    }
   ],
   "source": [
    "# 題目2參考答案\n",
    "%reset -f\n",
    "\n",
    "def filter_sorted(cards):\n",
    "    \n",
    "    deck = [\"A\", \"K\", \"Q\", \"J\", \"10\", \"9\", \"8\", \"7\", \"6\", \"5\", \"4\", \"3\", \"2\"]       # 事先排好撲克牌順序               \n",
    "    return [x for x in deck if x in cards]                                         # 若排序好的牌在目前的牌組就留下\n",
    "                                                                                    # 否則刪掉\n",
    "\n",
    "def arrange_cards(deck):\n",
    "    return list(map(filter_sorted, deck))                                          # 套用至每個花色上\n",
    "\n",
    "new_deck_0 = [[\"2\", \"K\", \"6\", \"A\", \"10\", \"Q\"], [\"8\", \"K\"], [\"9\", \"Q\", \"8\", \"A\"], [\"7\"]]\n",
    "print(arrange_cards(new_deck_0), \"\\n\")\n",
    "\n",
    "new_deck_1 = [[\"9\", \"4\", \"6\", \"3\"], [\"J\", \"6\", \"7\", \"5\"], [\"K\"], [\"10\", \"2\", \"6\", \"4\"]]\n",
    "print(arrange_cards(new_deck_1), \"\\n\")"
   ]
  },
  {
   "cell_type": "markdown",
   "metadata": {
    "slideshow": {
     "slide_type": "slide"
    }
   },
   "source": [
    "# <center>常用內建模組</center>"
   ]
  },
  {
   "cell_type": "code",
   "execution_count": 21,
   "metadata": {
    "slideshow": {
     "slide_type": "subslide"
    }
   },
   "outputs": [
    {
     "name": "stdout",
     "output_type": "stream",
     "text": [
      "0.13472766849554318\n"
     ]
    }
   ],
   "source": [
    "# run me!\n",
    "%reset -f\n",
    "\n",
    "import timeit\n",
    "\n",
    "my_code = \"a = 2+ 2\"\n",
    "\n",
    "print (timeit.timeit(stmt = my_code, number = 10000000))"
   ]
  },
  {
   "cell_type": "markdown",
   "metadata": {
    "slideshow": {
     "slide_type": "-"
    }
   },
   "source": [
    "#### 有看到什麼神奇的東西嗎?"
   ]
  },
  {
   "cell_type": "markdown",
   "metadata": {
    "slideshow": {
     "slide_type": "subslide"
    }
   },
   "source": [
    "```\n",
    "import timeit\n",
    "\n",
    "my_code = \"a = 2+ 2\"\n",
    "\n",
    "print (timeit.timeit(stmt = my_code, number = 10000000))\n",
    "---------------------------------------------------------------------------\n",
    "```\n",
    "\n",
    "* timeit 是包含了計時功能的模組\n",
    "* 能夠用來幫自己寫的 Code 計時，做效能評估"
   ]
  },
  {
   "cell_type": "code",
   "execution_count": 33,
   "metadata": {
    "slideshow": {
     "slide_type": "subslide"
    }
   },
   "outputs": [
    {
     "name": "stdout",
     "output_type": "stream",
     "text": [
      "[0, 1, 2, 3, 4, 5, 6, 7, 8, 9]\n",
      "[0, 1, 2, 3, 4, 5, 6, 7, 8, 9]\n"
     ]
    }
   ],
   "source": [
    "# 想達成一個目標\n",
    "# 方法可不只有一種\n",
    "\n",
    "print([x for x in range(10)])\n",
    "print(list(range(10)))"
   ]
  },
  {
   "cell_type": "markdown",
   "metadata": {
    "slideshow": {
     "slide_type": "subslide"
    }
   },
   "source": [
    "# <center>各位同學們！ 下注囉！</center>\n",
    "\n",
    "## <center>[x for x in range(10)]</center>\n",
    "#### <center>v.s.</center>\n",
    "## <center>list(range(10))</center>"
   ]
  },
  {
   "cell_type": "code",
   "execution_count": 23,
   "metadata": {
    "slideshow": {
     "slide_type": "subslide"
    }
   },
   "outputs": [],
   "source": [
    "# run me!\n",
    "%reset -f\n",
    "\n",
    "import timeit\n",
    "\n",
    "my_code_0 = \"my_array_0 = [x for x in range(10)]\"\n",
    "my_code_1 = \"my_array_1 = list(range(10))\"\n",
    "\n",
    "# print (timeit.timeit(stmt = my_code_0, number = 100000), \"\\n\")\n",
    "# print (timeit.timeit(stmt = my_code_1, number = 100000), \"\\n\")"
   ]
  },
  {
   "cell_type": "markdown",
   "metadata": {
    "slideshow": {
     "slide_type": "subslide"
    }
   },
   "source": [
    "## <center>如果有其他模組載入需要計時......?</center>\n",
    "\n",
    "<br/>\n",
    "* 使用 setup 參數\n",
    "* timeit.timeit(setup, stmt, number)"
   ]
  },
  {
   "cell_type": "code",
   "execution_count": 28,
   "metadata": {
    "slideshow": {
     "slide_type": "subslide"
    }
   },
   "outputs": [
    {
     "name": "stdout",
     "output_type": "stream",
     "text": [
      "0.11213259761962036\n"
     ]
    }
   ],
   "source": [
    "# run me!\n",
    "%reset -f\n",
    "\n",
    "import timeit\n",
    "\n",
    "# 要計時的模組載入\n",
    "my_setup = \"import random\"\n",
    "\n",
    "my_code = \"my_value = random.randint(0, 10)\"\n",
    "\n",
    "print (timeit.timeit(setup= my_setup, stmt= my_code, number= 100000))"
   ]
  },
  {
   "cell_type": "markdown",
   "metadata": {
    "slideshow": {
     "slide_type": "subslide"
    }
   },
   "source": [
    "## <center>只計時一次，結果會精準嗎?</center>\n",
    "\n",
    "<br/>\n",
    "* 使用 repeat 方法\n",
    "* timeit.repeat(setup, stmt, repeat, number)\n",
    "* 會以陣列的形式回傳"
   ]
  },
  {
   "cell_type": "markdown",
   "metadata": {
    "slideshow": {
     "slide_type": "subslide"
    }
   },
   "source": [
    "# <center>有沒有人要跳槽的？</center>\n",
    "\n",
    "## <center>[x for x in range(10)]</center>\n",
    "#### <center>v.s.</center>\n",
    "## <center>list(range(10))</center>"
   ]
  },
  {
   "cell_type": "code",
   "execution_count": 24,
   "metadata": {
    "slideshow": {
     "slide_type": "subslide"
    }
   },
   "outputs": [],
   "source": [
    "# run me!\n",
    "%reset -f\n",
    "\n",
    "import timeit\n",
    "\n",
    "my_code_0 = \"my_array_0 = [x for x in range(10)]\"\n",
    "my_code_1 = \"my_array_1 = list(range(10))\"\n",
    "\n",
    "# print (timeit.repeat(stmt = my_code_0, repeat= 5, number = 100000), \"\\n\")\n",
    "# print (timeit.repeat(stmt = my_code_1, repeat= 5, number = 100000), \"\\n\")"
   ]
  },
  {
   "cell_type": "markdown",
   "metadata": {
    "slideshow": {
     "slide_type": "slide"
    }
   },
   "source": [
    "# <center>所以內建模組是什麼?</center>"
   ]
  },
  {
   "cell_type": "markdown",
   "metadata": {
    "slideshow": {
     "slide_type": "subslide"
    }
   },
   "source": [
    "<center>![](https://i.imgur.com/YuU3zMn.png)</center>\n",
    "\n",
    "* 就像妳自己寫的模組\n",
    "* 但是是內建的，所以可以直接 import"
   ]
  },
  {
   "cell_type": "markdown",
   "metadata": {
    "slideshow": {
     "slide_type": "subslide"
    }
   },
   "source": [
    "# <center>一些常用的內建模組</center>\n",
    "\n",
    "<br/>\n",
    "* timeit\n",
    "* time\n",
    "* operator\n",
    "* math\n",
    "* random"
   ]
  },
  {
   "cell_type": "markdown",
   "metadata": {
    "slideshow": {
     "slide_type": "subslide"
    }
   },
   "source": [
    "# <center>使用內建模組的好處</center>\n",
    "\n",
    "<br/>\n",
    "* 自己寫可能會寫錯\n",
    "* 提升 Coding 效率\n",
    "* 提升可讀性，你比較好看懂，和你一起寫的人也較好看懂"
   ]
  },
  {
   "cell_type": "markdown",
   "metadata": {
    "slideshow": {
     "slide_type": "subslide"
    }
   },
   "source": [
    "# <center>假設妳需要知道現在時間</center>\n",
    "\n",
    "<br/>\n",
    "* 但妳忘了戴手錶、手機\n",
    "* 也沒有朋友可以問\n",
    "* 這時候 time 模塊就派上用場了"
   ]
  },
  {
   "cell_type": "code",
   "execution_count": 3,
   "metadata": {
    "slideshow": {
     "slide_type": "subslide"
    }
   },
   "outputs": [
    {
     "name": "stdout",
     "output_type": "stream",
     "text": [
      "1530509577.6250415\n"
     ]
    }
   ],
   "source": [
    "# run me!\n",
    "%reset -f\n",
    "\n",
    "import time\n",
    "\n",
    "print(time.time())"
   ]
  },
  {
   "cell_type": "markdown",
   "metadata": {
    "slideshow": {
     "slide_type": "subslide"
    }
   },
   "source": [
    "# <center>看不懂對吧？</center>\n",
    "\n",
    "<br/>\n",
    "* 因為這是自從 1970 年 1 月 1 日午夜後經過的浮點數秒數\n",
    "* 正常人都看不懂的\n",
    "* 可以用 time.localtime() 和 time.asctime() 兩個方法來轉換"
   ]
  },
  {
   "cell_type": "code",
   "execution_count": 9,
   "metadata": {
    "slideshow": {
     "slide_type": "subslide"
    }
   },
   "outputs": [
    {
     "name": "stdout",
     "output_type": "stream",
     "text": [
      "1530510417.5949094 \n",
      "\n",
      "time.struct_time(tm_year=2018, tm_mon=7, tm_mday=2, tm_hour=13, tm_min=46, tm_sec=57, tm_wday=0, tm_yday=183, tm_isdst=0) \n",
      "\n",
      "Mon Jul  2 13:46:57 2018\n"
     ]
    }
   ],
   "source": [
    "# run me!\n",
    "%reset -f\n",
    "\n",
    "import time\n",
    "\n",
    "print(time.time(), \"\\n\")\n",
    "print(time.localtime(time.time()), \"\\n\")\n",
    "print(time.asctime(time.localtime(time.time())))"
   ]
  },
  {
   "cell_type": "markdown",
   "metadata": {
    "slideshow": {
     "slide_type": "subslide"
    }
   },
   "source": [
    "# <center>time 模組也有延遲的功能</center>\n",
    "\n",
    "<br/>\n",
    "* 如果妳需要延緩程式執行的話\n",
    "* 可以用 time.sleep() 方法"
   ]
  },
  {
   "cell_type": "code",
   "execution_count": 2,
   "metadata": {
    "slideshow": {
     "slide_type": "subslide"
    }
   },
   "outputs": [
    {
     "name": "stdout",
     "output_type": "stream",
     "text": [
      "休息 10 分鐘~ \n",
      "\n",
      "上課啦！上課啦！上課啦！上課啦！上課啦！上課啦！\n"
     ]
    }
   ],
   "source": [
    "# rum me!\n",
    "%reset -f\n",
    "\n",
    "import time\n",
    "\n",
    "print(\"休息 10 分鐘~ \\n\")\n",
    "time.sleep(6)\n",
    "print(\"上課啦！上課啦！上課啦！上課啦！上課啦！上課啦！\")"
   ]
  },
  {
   "cell_type": "markdown",
   "metadata": {
    "slideshow": {
     "slide_type": "subslide"
    }
   },
   "source": [
    "# <center>operator 模組</center>\n",
    "\n",
    "<br/>\n",
    "* 有許多功能和 python operator 相同的方法\n",
    "* 像是加減乘除、大於小於、index 操作等等"
   ]
  },
  {
   "cell_type": "code",
   "execution_count": 18,
   "metadata": {
    "slideshow": {
     "slide_type": "subslide"
    }
   },
   "outputs": [
    {
     "name": "stdout",
     "output_type": "stream",
     "text": [
      "a+ b= \t\t 9\n",
      "op.add(a, b)= \t 9 \n",
      "\n",
      "a* b= \t\t 18\n",
      "op.mul(a, b)= \t 18 \n",
      "\n",
      "a// b= \t\t\t 0\n",
      "op.floordiv(a, b)= \t 0\n"
     ]
    }
   ],
   "source": [
    "# rum me!\n",
    "%reset -f\n",
    "\n",
    "import operator as op\n",
    "\n",
    "a, b = 3, 6\n",
    "\n",
    "print(\"a+ b= \\t\\t\", a+ b)\n",
    "print(\"op.add(a, b)= \\t\", op.add(a, b), \"\\n\")\n",
    "print(\"a* b= \\t\\t\", a* b)\n",
    "print(\"op.mul(a, b)= \\t\", op.mul(a, b), \"\\n\")\n",
    "print(\"a// b= \\t\\t\\t\", a// b)\n",
    "print(\"op.floordiv(a, b)= \\t\", op.floordiv(a, b))"
   ]
  },
  {
   "cell_type": "code",
   "execution_count": 44,
   "metadata": {
    "scrolled": true,
    "slideshow": {
     "slide_type": "subslide"
    }
   },
   "outputs": [
    {
     "name": "stdout",
     "output_type": "stream",
     "text": [
      "op.getitem(a, 0)= \t 0 \n",
      "\n",
      "op.getitem(a, 5)= \t 5 \n",
      "\n",
      "op.setitem(a, 5, 2)\n",
      "op.getitem(a, 5)= \t 2 \n",
      "\n"
     ]
    }
   ],
   "source": [
    "# rum me!\n",
    "%reset -f\n",
    "\n",
    "import operator as op\n",
    "\n",
    "a = list(range(10))\n",
    "\n",
    "print(\"op.getitem(a, 0)= \\t\", op.getitem(a, 0), \"\\n\")\n",
    "print(\"op.getitem(a, 5)= \\t\", op.getitem(a, 5), \"\\n\")\n",
    "\n",
    "op.setitem(a, 5, 2)\n",
    "print(\"op.setitem(a, 5, 2)\")\n",
    "print(\"op.getitem(a, 5)= \\t\", op.getitem(a, 5), \"\\n\")"
   ]
  },
  {
   "cell_type": "markdown",
   "metadata": {
    "slideshow": {
     "slide_type": "subslide"
    }
   },
   "source": [
    "# <center>Emm...</center>\n",
    "\n",
    "<br/>\n",
    "* operator 好像是個無聊的東西呢\n",
    "* 來討論一些比較實用的吧"
   ]
  },
  {
   "cell_type": "markdown",
   "metadata": {
    "slideshow": {
     "slide_type": "subslide"
    }
   },
   "source": [
    "# <center>回想一下陣列排序的 sorted() 方法</center>\n",
    "\n",
    "<br/>\n",
    "* 如果 Elements 也是陣列呢?\n",
    "* 那還能排序嗎?\n",
    "* 用 operator.itemgetter() 方法吧!!"
   ]
  },
  {
   "cell_type": "code",
   "execution_count": 57,
   "metadata": {
    "slideshow": {
     "slide_type": "subslide"
    }
   },
   "outputs": [
    {
     "name": "stdout",
     "output_type": "stream",
     "text": [
      "4\n"
     ]
    }
   ],
   "source": [
    "# rum me!\n",
    "%reset -f\n",
    "\n",
    "import operator as op\n",
    "\n",
    "my_datas = [3, 4, 5]\n",
    "my_getter = op.itemgetter(1)\n",
    "\n",
    "print(my_getter(my_datas))"
   ]
  },
  {
   "cell_type": "code",
   "execution_count": 58,
   "metadata": {
    "slideshow": {
     "slide_type": "subslide"
    }
   },
   "outputs": [
    {
     "name": "stdout",
     "output_type": "stream",
     "text": [
      "(4, 5, 3)\n"
     ]
    }
   ],
   "source": [
    "# rum me!\n",
    "%reset -f\n",
    "\n",
    "import operator as op\n",
    "\n",
    "my_datas = [3, 4, 5]\n",
    "my_getter = op.itemgetter(1, 2, 0)\n",
    "\n",
    "print(my_getter(my_datas))"
   ]
  },
  {
   "cell_type": "code",
   "execution_count": 53,
   "metadata": {
    "slideshow": {
     "slide_type": "subslide"
    }
   },
   "outputs": [
    {
     "name": "stdout",
     "output_type": "stream",
     "text": [
      "[[3, 2, 5], [2, 6, 1], [2, 5, 2], [1, 4, 2]]\n"
     ]
    }
   ],
   "source": [
    "# rum me!\n",
    "%reset -f\n",
    "\n",
    "import operator as op\n",
    "\n",
    "def advanced_sort(datas):\n",
    "    datas = sorted(datas, key = op.itemgetter(0, 1, 2), reverse = True)\n",
    "    return datas\n",
    "\n",
    "datas = [[3, 2, 5], [1, 4, 2], [2, 6, 1], [2, 5, 2]]\n",
    "print(advanced_sort(datas))"
   ]
  },
  {
   "cell_type": "markdown",
   "metadata": {
    "slideshow": {
     "slide_type": "slide"
    }
   },
   "source": [
    "## <center>注意!!</center>\n",
    "\n",
    "<center>![](https://fs-gateway.esdict.cn/store_main/wordthumbnail/6d0c9817-6795-4161-a817-39f59544d883.jpg)</center>\n",
    "\n",
    "## <center>接下來即將牽扯到數學相關知識</center>"
   ]
  },
  {
   "cell_type": "markdown",
   "metadata": {
    "slideshow": {
     "slide_type": "subslide"
    }
   },
   "source": [
    "# <center>貼心提醒</center>\n",
    "\n",
    "<br/>\n",
    "* 如果妳數學真的真的真的非常不好\n",
    "* 不要太勉強自己思考\n",
    "* 腦袋很有可能會受傷歐~!!"
   ]
  },
  {
   "cell_type": "markdown",
   "metadata": {
    "slideshow": {
     "slide_type": "slide"
    }
   },
   "source": [
    "# <center>math 模塊</center>\n",
    "\n",
    "<br/>\n",
    "* 常數 π, e\n",
    "* 取整數、開根號\n",
    "* 階乘、對數\n",
    "* 三角函數"
   ]
  },
  {
   "cell_type": "markdown",
   "metadata": {
    "slideshow": {
     "slide_type": "subslide"
    }
   },
   "source": [
    "# <center>在座各位有人喜歡背 π 或是 e 的嗎???</center>"
   ]
  },
  {
   "cell_type": "code",
   "execution_count": 86,
   "metadata": {
    "slideshow": {
     "slide_type": "subslide"
    }
   },
   "outputs": [
    {
     "name": "stdout",
     "output_type": "stream",
     "text": [
      "math.pi= \t\t 3.141592653589793 \n",
      "\n",
      "math.e= \t\t 2.718281828459045 \n",
      "\n",
      "math.exp(2)= e**2= \t 7.38905609893065 \n",
      "\n"
     ]
    }
   ],
   "source": [
    "# rum me!\n",
    "%reset -f\n",
    "\n",
    "import math\n",
    "\n",
    "print(\"math.pi= \\t\\t\", math.pi, \"\\n\")\n",
    "print(\"math.e= \\t\\t\", math.e, \"\\n\")\n",
    "print(\"math.exp(2)= e**2= \\t\", math.exp(2), \"\\n\")"
   ]
  },
  {
   "cell_type": "code",
   "execution_count": 89,
   "metadata": {
    "slideshow": {
     "slide_type": "subslide"
    }
   },
   "outputs": [
    {
     "name": "stdout",
     "output_type": "stream",
     "text": [
      "math.ceil(value)= \t 5 \n",
      "\n",
      "math.floor(value)= \t 4 \n",
      "\n"
     ]
    }
   ],
   "source": [
    "# rum me!\n",
    "%reset -f\n",
    "\n",
    "import math\n",
    "\n",
    "value = 4.4\n",
    "\n",
    "print(\"math.ceil(value)= \\t\", math.ceil(value), \"\\n\")\n",
    "print(\"math.floor(value)= \\t\", math.floor(value), \"\\n\")"
   ]
  },
  {
   "cell_type": "code",
   "execution_count": 90,
   "metadata": {
    "slideshow": {
     "slide_type": "subslide"
    }
   },
   "outputs": [
    {
     "name": "stdout",
     "output_type": "stream",
     "text": [
      "math.factorial(10)= \t 3628800 \n",
      "\n",
      "math.log(10, 2)= \t 3.3219280948873626 \n",
      "\n",
      "math.log(10)= \t\t 2.302585092994046 \n",
      "\n",
      "math.log10(10)= \t 1.0\n"
     ]
    }
   ],
   "source": [
    "# rum me!\n",
    "%reset -f\n",
    "\n",
    "import math\n",
    "\n",
    "print(\"math.factorial(10)= \\t\", math.factorial(10), \"\\n\")\n",
    "print(\"math.log(10, 2)= \\t\", math.log(10, 2), \"\\n\")\n",
    "print(\"math.log(10)= \\t\\t\", math.log(10), \"\\n\")                # 底數預設是 e\n",
    "print(\"math.log10(10)= \\t\", math.log10(10))"
   ]
  },
  {
   "cell_type": "code",
   "execution_count": 94,
   "metadata": {
    "scrolled": false,
    "slideshow": {
     "slide_type": "subslide"
    }
   },
   "outputs": [
    {
     "name": "stdout",
     "output_type": "stream",
     "text": [
      "math.sin(value)= \t 0.8660254037844386 \n",
      "\n",
      "math.cosh(value)= \t 1.600286857702386 \n",
      "\n",
      "math.atan(value)= \t 0.808448792630022\n"
     ]
    }
   ],
   "source": [
    "# rum me!\n",
    "%reset -f\n",
    "\n",
    "import math\n",
    "\n",
    "value = math.radians(60)\n",
    "\n",
    "print(\"math.sin(value)= \\t\", math.sin(value), \"\\n\")\n",
    "print(\"math.cosh(value)= \\t\", math.cosh(value), \"\\n\")\n",
    "print(\"math.atan(value)= \\t\", math.atan(value))"
   ]
  },
  {
   "cell_type": "markdown",
   "metadata": {
    "slideshow": {
     "slide_type": "subslide"
    }
   },
   "source": [
    "### <center> ----------------------------休息！-------------------------------</center>\n",
    "\n",
    "<br/>\n",
    "* 10 分鐘"
   ]
  },
  {
   "cell_type": "markdown",
   "metadata": {
    "slideshow": {
     "slide_type": "slide"
    }
   },
   "source": [
    "# <center>random 模塊</center>\n",
    "\n",
    "<br/>\n",
    "* 充滿隨機性的模組\n",
    "* 做遊戲很常用到 !!"
   ]
  },
  {
   "cell_type": "markdown",
   "metadata": {
    "slideshow": {
     "slide_type": "subslide"
    }
   },
   "source": [
    "# <center>欸！午餐吃甚麼？</center>\n",
    "\n",
    "<br/>\n",
    "* 每天都必須面對\n",
    "* 有時間壓力\n",
    "* 人多不會想比較快\n",
    "* 堪稱世紀難題"
   ]
  },
  {
   "cell_type": "code",
   "execution_count": 25,
   "metadata": {
    "slideshow": {
     "slide_type": "subslide"
    }
   },
   "outputs": [
    {
     "name": "stdout",
     "output_type": "stream",
     "text": [
      "大肥鴨\n"
     ]
    }
   ],
   "source": [
    "# rum me!\n",
    "%reset -f\n",
    "\n",
    "import random\n",
    "\n",
    "# 午餐列表\n",
    "lunch = [\"好煮義\", \"大肥鴨\", \"三商巧福\", \"鄉村\", \"一心二葉\", \"不要吃\"]\n",
    "\n",
    "# 隨機選擇午餐\n",
    "selectLunch = random.randint(0, len(lunch)-1)\n",
    "print(lunch[selectLunch])"
   ]
  },
  {
   "cell_type": "code",
   "execution_count": 8,
   "metadata": {
    "slideshow": {
     "slide_type": "subslide"
    }
   },
   "outputs": [
    {
     "name": "stdout",
     "output_type": "stream",
     "text": [
      "74\n"
     ]
    }
   ],
   "source": [
    "# rum me!\n",
    "%reset -f\n",
    "\n",
    "import random\n",
    "\n",
    "# 0 ~ 100 之間的偶數\n",
    "randomEven = random.randrange(0, 101, 2)\n",
    "print(randomEven)"
   ]
  },
  {
   "cell_type": "markdown",
   "metadata": {
    "slideshow": {
     "slide_type": "subslide"
    }
   },
   "source": [
    "# <center>如果妳需要浮點數的話...</center>\n",
    "\n",
    "<br/>\n",
    "* random.random() 回傳 0 ~ 1 之間的隨機浮點數\n",
    "* random.uniform() 回傳指定範圍內的隨機浮點數"
   ]
  },
  {
   "cell_type": "code",
   "execution_count": 12,
   "metadata": {
    "slideshow": {
     "slide_type": "subslide"
    }
   },
   "outputs": [
    {
     "name": "stdout",
     "output_type": "stream",
     "text": [
      "random.random()= \t 0.5788453817545491 \n",
      "\n",
      "random.uniform(0, 10)= \t 5.029917347150265\n"
     ]
    }
   ],
   "source": [
    "# rum me!\n",
    "%reset -f\n",
    "\n",
    "import random\n",
    "\n",
    "print(\"random.random()= \\t\", random.random(), \"\\n\")\n",
    "print(\"random.uniform(0, 10)= \\t\", random.uniform(0, 10))"
   ]
  },
  {
   "cell_type": "markdown",
   "metadata": {
    "slideshow": {
     "slide_type": "subslide"
    }
   },
   "source": [
    "# <center>需要選陣列中的東西也可以</center>\n",
    "\n",
    "<br/>\n",
    "* random.choice() 隨機選擇陣列中其中一個 element\n",
    "* random.sample() 隨機選擇陣列中其中多個 element"
   ]
  },
  {
   "cell_type": "code",
   "execution_count": 20,
   "metadata": {
    "slideshow": {
     "slide_type": "subslide"
    }
   },
   "outputs": [
    {
     "name": "stdout",
     "output_type": "stream",
     "text": [
      "random.choice(datas)= \t\t 123 \n",
      "\n",
      "random.sample(datas,3)= \t [True, 'ABC', 'DEF']\n"
     ]
    }
   ],
   "source": [
    "# rum me!\n",
    "%reset -f\n",
    "\n",
    "import random\n",
    "\n",
    "datas = [\"ABC\", \"DEF\", 123, 456, True, False]\n",
    "\n",
    "print(\"random.choice(datas)= \\t\\t\", random.choice(datas), \"\\n\")\n",
    "print(\"random.sample(datas,3)= \\t\", random.sample(datas,3))"
   ]
  },
  {
   "cell_type": "markdown",
   "metadata": {
    "slideshow": {
     "slide_type": "subslide"
    }
   },
   "source": [
    "# <center>洗牌也是沒問題的</center>\n",
    "\n",
    "<br/>\n",
    "* random.shuffle() 隨機排序"
   ]
  },
  {
   "cell_type": "code",
   "execution_count": 27,
   "metadata": {
    "slideshow": {
     "slide_type": "subslide"
    }
   },
   "outputs": [
    {
     "name": "stdout",
     "output_type": "stream",
     "text": [
      "deck= \t ['8', '5', 'A', '4', 'Q', '2', '9', '3', '10', '7', 'J', 'K', '6']\n"
     ]
    }
   ],
   "source": [
    "# rum me!\n",
    "%reset -f\n",
    "\n",
    "import random\n",
    "\n",
    "deck = [\"A\", \"K\", \"Q\", \"J\", \"10\", \"9\", \"8\", \"7\", \"6\", \"5\", \"4\", \"3\", \"2\"]\n",
    "\n",
    "random.shuffle(deck)\n",
    "print(\"deck= \\t\", deck)"
   ]
  },
  {
   "cell_type": "markdown",
   "metadata": {
    "slideshow": {
     "slide_type": "slide"
    }
   },
   "source": [
    "### <center> ----------------------------題目 1-------------------------------</center>\n",
    "\n",
    "<br/>\n",
    "```\n",
    "有一副新買的撲克牌，已將鬼牌抽掉\n",
    "剩下的排組為 deck, 4 種花色各 13 張\n",
    "\n",
    "現在需要將牌發成四人份，一人13張\n",
    "洗牌過後依照固定順序輪流發牌\n",
    "最後以二維陣列呈現四人手牌\n",
    "```"
   ]
  },
  {
   "cell_type": "markdown",
   "metadata": {
    "slideshow": {
     "slide_type": "subslide"
    }
   },
   "source": [
    "### <center>如果妳需要生成資料的話</center>"
   ]
  },
  {
   "cell_type": "code",
   "execution_count": 27,
   "metadata": {
    "slideshow": {
     "slide_type": "-"
    }
   },
   "outputs": [
    {
     "name": "stdout",
     "output_type": "stream",
     "text": [
      "['黑桃A', '黑桃K', '黑桃Q', '黑桃J', '黑桃10', '黑桃9', '黑桃8', '黑桃7', '黑桃6', '黑桃5', '黑桃4', '黑桃3', '黑桃2', '紅心A', '紅心K', '紅心Q', '紅心J', '紅心10', '紅心9', '紅心8', '紅心7', '紅心6', '紅心5', '紅心4', '紅心3', '紅心2', '鑽石A', '鑽石K', '鑽石Q', '鑽石J', '鑽石10', '鑽石9', '鑽石8', '鑽石7', '鑽石6', '鑽石5', '鑽石4', '鑽石3', '鑽石2', '梅花A', '梅花K', '梅花Q', '梅花J', '梅花10', '梅花9', '梅花8', '梅花7', '梅花6', '梅花5', '梅花4', '梅花3', '梅花2']\n"
     ]
    }
   ],
   "source": [
    "deck = [x+y for x in [\"黑桃\", \"紅心\", \"鑽石\", \"梅花\"] \n",
    "            for y in [\"A\", \"K\", \"Q\", \"J\", \"10\", \"9\", \"8\", \"7\", \"6\", \"5\", \"4\", \"3\", \"2\"]]\n",
    "\n",
    "print(deck)"
   ]
  },
  {
   "cell_type": "code",
   "execution_count": 28,
   "metadata": {
    "slideshow": {
     "slide_type": "notes"
    }
   },
   "outputs": [
    {
     "name": "stdout",
     "output_type": "stream",
     "text": [
      "[['梅花Q', '紅心2', '黑桃4', '梅花7', '鑽石3', '黑桃A', '紅心Q', '梅花4', '鑽石5', '鑽石7', '黑桃J', '梅花2', '鑽石Q'], ['黑桃2', '紅心9', '梅花5', '紅心5', '鑽石6', '紅心K', '黑桃K', '紅心4', '鑽石2', '黑桃3', '紅心6', '黑桃5', '紅心J'], ['鑽石K', '鑽石8', '黑桃Q', '梅花K', '梅花J', '鑽石4', '黑桃6', '紅心3', '紅心8', '鑽石A', '黑桃10', '梅花A', '紅心10'], ['鑽石10', '紅心7', '梅花3', '鑽石J', '黑桃7', '梅花10', '梅花8', '梅花9', '紅心A', '黑桃8', '鑽石9', '黑桃9', '梅花6']]\n"
     ]
    }
   ],
   "source": [
    "# 題目1參考答案\n",
    "# rum me!\n",
    "%reset -f\n",
    "\n",
    "import random\n",
    "import operator as op\n",
    "\n",
    "deck = [x+y for x in [\"黑桃\", \"紅心\", \"鑽石\", \"梅花\"] \n",
    "            for y in [\"A\", \"K\", \"Q\", \"J\", \"10\", \"9\", \"8\", \"7\", \"6\", \"5\", \"4\", \"3\", \"2\"]]\n",
    "\n",
    "# 洗牌\n",
    "random.shuffle(deck)\n",
    "\n",
    "# 發牌\n",
    "selectors = [op.itemgetter(*list(range(x, len(deck), 4))) for x in range(0, 4)]\n",
    "players = [list(selector(deck)) for selector in selectors]\n",
    "\n",
    "print(players)"
   ]
  },
  {
   "cell_type": "markdown",
   "metadata": {
    "slideshow": {
     "slide_type": "slide"
    }
   },
   "source": [
    "### <center> ----------------------------題目 2-------------------------------</center>\n",
    "\n",
    "<br/>\n",
    "```\n",
    "現在有個二維陣列, \n",
    "每個元素皆為 [ele_0, ele_1, ......, ele_n], 長度皆為 n\n",
    "ele_0, ...... ele_n 皆為可排序之數值, 請寫一個排序函數\n",
    "依次比較 ele_0, ele_1, ......, ele_n, 進行上升排序\n",
    "```"
   ]
  },
  {
   "cell_type": "markdown",
   "metadata": {
    "slideshow": {
     "slide_type": "subslide"
    }
   },
   "source": [
    "### <center>如果妳需要生成資料的話</center>"
   ]
  },
  {
   "cell_type": "code",
   "execution_count": 13,
   "metadata": {
    "slideshow": {
     "slide_type": "-"
    }
   },
   "outputs": [
    {
     "name": "stdout",
     "output_type": "stream",
     "text": [
      "[5, 4, 3, 1, 4, 0, 0, 0, 2, 1]\n",
      "[3, 4, 5, 5, 3, 2, 1, 2, 0, 4]\n",
      "[5, 2, 3, 4, 1, 2, 3, 4, 3, 5]\n",
      "[1, 1, 2, 2, 0, 3, 5, 2, 5, 2]\n",
      "[2, 5, 2, 2, 1, 5, 2, 0, 1, 3]\n",
      "[0, 0, 5, 1, 2, 0, 1, 3, 2, 0]\n",
      "[5, 4, 3, 2, 4, 4, 3, 2, 0, 5]\n",
      "[1, 4, 2, 5, 1, 4, 0, 4, 1, 4]\n",
      "[4, 1, 5, 3, 4, 1, 4, 0, 5, 5]\n",
      "[5, 3, 4, 3, 0, 3, 2, 2, 1, 3]\n"
     ]
    }
   ],
   "source": [
    "# run me!\n",
    "%reset -f\n",
    "\n",
    "import random\n",
    "\n",
    "# 生成測試資料\n",
    "datas = [[random.randint(0, 5) for x in range(10)] for y in range(10)]\n",
    "for data in datas:\n",
    "    print(data)"
   ]
  },
  {
   "cell_type": "code",
   "execution_count": 12,
   "metadata": {
    "slideshow": {
     "slide_type": "notes"
    }
   },
   "outputs": [
    {
     "name": "stdout",
     "output_type": "stream",
     "text": [
      "[0, 5, 4, 4, 0, 4, 3, 2, 0, 3]\n",
      "[1, 0, 4, 1, 3, 3, 3, 3, 0, 5]\n",
      "[1, 1, 4, 2, 4, 5, 3, 2, 1, 2]\n",
      "[0, 1, 4, 2, 1, 3, 4, 0, 2, 4]\n",
      "[1, 0, 0, 2, 3, 3, 2, 4, 0, 1]\n",
      "[5, 2, 1, 4, 1, 1, 5, 4, 4, 4]\n",
      "[1, 4, 4, 1, 5, 0, 4, 4, 4, 0]\n",
      "[0, 0, 1, 1, 5, 0, 1, 0, 2, 5]\n",
      "[4, 4, 1, 0, 5, 0, 0, 0, 2, 1]\n",
      "[4, 2, 4, 5, 0, 2, 2, 4, 3, 5]\n",
      "\n",
      "----------------------------------\n",
      "\n",
      "[0, 0, 1, 1, 5, 0, 1, 0, 2, 5]\n",
      "[0, 1, 4, 2, 1, 3, 4, 0, 2, 4]\n",
      "[0, 5, 4, 4, 0, 4, 3, 2, 0, 3]\n",
      "[1, 0, 0, 2, 3, 3, 2, 4, 0, 1]\n",
      "[1, 0, 4, 1, 3, 3, 3, 3, 0, 5]\n",
      "[1, 1, 4, 2, 4, 5, 3, 2, 1, 2]\n",
      "[1, 4, 4, 1, 5, 0, 4, 4, 4, 0]\n",
      "[4, 2, 4, 5, 0, 2, 2, 4, 3, 5]\n",
      "[4, 4, 1, 0, 5, 0, 0, 0, 2, 1]\n",
      "[5, 2, 1, 4, 1, 1, 5, 4, 4, 4]\n"
     ]
    }
   ],
   "source": [
    "# 題目2參考答案\n",
    "%reset -f\n",
    "\n",
    "import operator as op\n",
    "import random\n",
    "\n",
    "# 生成測試資料\n",
    "datas = [[random.randint(0, 5) for x in range(10)] for y in range(10)]\n",
    "for data in datas:\n",
    "    print(data)\n",
    "\n",
    "print(\"\\n----------------------------------\\n\")\n",
    "\n",
    "# 排序函數\n",
    "def advanced_sort(datas):\n",
    "    return sorted(datas, key = op.itemgetter(*list(range(len(datas[0])))))\n",
    "\n",
    "for i in advanced_sort(datas):\n",
    "    print(i)\n"
   ]
  }
 ],
 "metadata": {
  "celltoolbar": "Slideshow",
  "kernelspec": {
   "display_name": "Python 3",
   "language": "python",
   "name": "python3"
  },
  "language_info": {
   "codemirror_mode": {
    "name": "ipython",
    "version": 3
   },
   "file_extension": ".py",
   "mimetype": "text/x-python",
   "name": "python",
   "nbconvert_exporter": "python",
   "pygments_lexer": "ipython3",
   "version": "3.6.3"
  },
  "livereveal": {
   "theme": "serif",
   "transition": "zoom"
  }
 },
 "nbformat": 4,
 "nbformat_minor": 2
}
