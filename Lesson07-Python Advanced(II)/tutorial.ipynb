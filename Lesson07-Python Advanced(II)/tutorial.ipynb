{
 "cells": [
  {
   "cell_type": "markdown",
   "metadata": {
    "slideshow": {
     "slide_type": "slide"
    }
   },
   "source": [
    "# Python Advanced(II)\n",
    "## 常用內建函式"
   ]
  },
  {
   "cell_type": "markdown",
   "metadata": {
    "slideshow": {
     "slide_type": "slide"
    }
   },
   "source": [
    "## The Python interpreter has a number of functions and types built into it that are always available."
   ]
  },
  {
   "cell_type": "markdown",
   "metadata": {
    "slideshow": {
     "slide_type": "slide"
    }
   },
   "source": [
    "# Outline\n",
    "\n",
    "* Tutorial 1 / Mission 1\n",
    "* Tutorial 2 / Mission 2\n",
    "* Break-----------------\n",
    "* Tutorial 3 / Mission 3\n",
    "* Tutorial 4 / Mission 4"
   ]
  },
  {
   "cell_type": "markdown",
   "metadata": {
    "slideshow": {
     "slide_type": "slide"
    }
   },
   "source": [
    "# Tutorial 1 -- 轉型\n",
    "\n",
    "* bool()\n",
    "* int()\n",
    "* float()\n",
    "* str()"
   ]
  },
  {
   "cell_type": "code",
   "execution_count": 15,
   "metadata": {
    "slideshow": {
     "slide_type": "slide"
    }
   },
   "outputs": [
    {
     "name": "stdout",
     "output_type": "stream",
     "text": [
      "False True \n",
      "----------\n",
      "\n",
      "False True \n",
      "----------\n",
      "\n"
     ]
    }
   ],
   "source": [
    "# bool() 會回傳一個 bool\n",
    "\n",
    "print(bool(0), bool(1), \"\\n----------\\n\")\n",
    "print(bool(0.0), bool(1.0), \"\\n----------\\n\")"
   ]
  },
  {
   "cell_type": "code",
   "execution_count": 24,
   "metadata": {
    "slideshow": {
     "slide_type": "slide"
    }
   },
   "outputs": [
    {
     "name": "stdout",
     "output_type": "stream",
     "text": [
      "0 -1 \n",
      "----------\n",
      "\n",
      "10 0 \n",
      "----------\n",
      "\n"
     ]
    }
   ],
   "source": [
    "# int() 會回傳一個 int\n",
    "\n",
    "print(int(0.1), int(-1.1), \"\\n----------\\n\")\n",
    "print(int(\"10\"), int(False), \"\\n----------\\n\")"
   ]
  },
  {
   "cell_type": "code",
   "execution_count": 25,
   "metadata": {
    "slideshow": {
     "slide_type": "slide"
    }
   },
   "outputs": [
    {
     "name": "stdout",
     "output_type": "stream",
     "text": [
      "1.0 -1.0 \n",
      "----------\n",
      "\n",
      "10.0 1.0 \n",
      "----------\n",
      "\n"
     ]
    }
   ],
   "source": [
    "# float() 會回傳一個 float\n",
    "\n",
    "print(float(1), float(-1), \"\\n----------\\n\")\n",
    "print(float(\"10.0\"), float(True), \"\\n----------\\n\")"
   ]
  },
  {
   "cell_type": "code",
   "execution_count": 27,
   "metadata": {
    "slideshow": {
     "slide_type": "slide"
    }
   },
   "outputs": [
    {
     "name": "stdout",
     "output_type": "stream",
     "text": [
      "0 -1 \n",
      "----------\n",
      "\n",
      "True -10.0 \n",
      "----------\n",
      "\n"
     ]
    }
   ],
   "source": [
    "# str() 會回傳一個 str\n",
    "\n",
    "print(str(0), str(-1), \"\\n----------\\n\")\n",
    "print(str(True), str(-10.0), \"\\n----------\\n\")"
   ]
  },
  {
   "cell_type": "markdown",
   "metadata": {
    "slideshow": {
     "slide_type": "slide"
    }
   },
   "source": [
    "# Your turn !!\n",
    "\n",
    "* 放一些奇怪的東西進去，比如：\n",
    "* bool(\"a\")\n",
    "* int(\"10.0\")\n",
    "* float(\"10\")"
   ]
  }
 ],
 "metadata": {
  "celltoolbar": "Slideshow",
  "kernelspec": {
   "display_name": "Python 3",
   "language": "python",
   "name": "python3"
  },
  "language_info": {
   "codemirror_mode": {
    "name": "ipython",
    "version": 3
   },
   "file_extension": ".py",
   "mimetype": "text/x-python",
   "name": "python",
   "nbconvert_exporter": "python",
   "pygments_lexer": "ipython3",
   "version": "3.6.3"
  },
  "livereveal": {
   "theme": "serif",
   "transition": "zoom"
  }
 },
 "nbformat": 4,
 "nbformat_minor": 2
}
