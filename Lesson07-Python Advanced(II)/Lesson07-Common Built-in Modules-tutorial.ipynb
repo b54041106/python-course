{
 "cells": [
  {
   "cell_type": "markdown",
   "metadata": {
    "slideshow": {
     "slide_type": "slide"
    }
   },
   "source": [
    "# <center>常用內建模組</center>"
   ]
  },
  {
   "cell_type": "code",
   "execution_count": 21,
   "metadata": {
    "slideshow": {
     "slide_type": "subslide"
    }
   },
   "outputs": [
    {
     "name": "stdout",
     "output_type": "stream",
     "text": [
      "0.13472766849554318\n"
     ]
    }
   ],
   "source": [
    "# run me!\n",
    "%reset -f\n",
    "\n",
    "import timeit\n",
    "\n",
    "my_code = \"a = 2+ 2\"\n",
    "\n",
    "print (timeit.timeit(stmt = my_code, number = 10000000))"
   ]
  },
  {
   "cell_type": "markdown",
   "metadata": {
    "slideshow": {
     "slide_type": "-"
    }
   },
   "source": [
    "#### 有看到什麼神奇的東西嗎?"
   ]
  },
  {
   "cell_type": "markdown",
   "metadata": {
    "slideshow": {
     "slide_type": "subslide"
    }
   },
   "source": [
    "```\n",
    "import timeit\n",
    "\n",
    "my_code = \"a = 2+ 2\"\n",
    "\n",
    "print (timeit.timeit(stmt = my_code, number = 10000000))\n",
    "---------------------------------------------------------------------------\n",
    "```\n",
    "\n",
    "* timeit 是包含了計時功能的模組\n",
    "* 能夠用來幫自己寫的 Code 計時，做效能評估"
   ]
  },
  {
   "cell_type": "code",
   "execution_count": 33,
   "metadata": {
    "slideshow": {
     "slide_type": "subslide"
    }
   },
   "outputs": [
    {
     "name": "stdout",
     "output_type": "stream",
     "text": [
      "[0, 1, 2, 3, 4, 5, 6, 7, 8, 9]\n",
      "[0, 1, 2, 3, 4, 5, 6, 7, 8, 9]\n"
     ]
    }
   ],
   "source": [
    "# 想達成一個目標\n",
    "# 方法可不只有一種\n",
    "\n",
    "print([x for x in range(10)])\n",
    "print(list(range(10)))"
   ]
  },
  {
   "cell_type": "markdown",
   "metadata": {
    "slideshow": {
     "slide_type": "subslide"
    }
   },
   "source": [
    "# <center>各位同學們！ 下注囉！</center>\n",
    "\n",
    "## <center>[x for x in range(10)]</center>\n",
    "#### <center>v.s.</center>\n",
    "## <center>list(range(10))</center>"
   ]
  },
  {
   "cell_type": "code",
   "execution_count": 23,
   "metadata": {
    "slideshow": {
     "slide_type": "subslide"
    }
   },
   "outputs": [],
   "source": [
    "# run me!\n",
    "%reset -f\n",
    "\n",
    "import timeit\n",
    "\n",
    "my_code_0 = \"my_array_0 = [x for x in range(10)]\"\n",
    "my_code_1 = \"my_array_1 = list(range(10))\"\n",
    "\n",
    "# print (timeit.timeit(stmt = my_code_0, number = 100000), \"\\n\")\n",
    "# print (timeit.timeit(stmt = my_code_1, number = 100000), \"\\n\")"
   ]
  },
  {
   "cell_type": "markdown",
   "metadata": {
    "slideshow": {
     "slide_type": "subslide"
    }
   },
   "source": [
    "## <center>如果有其他模組載入需要計時......?</center>\n",
    "\n",
    "<br/>\n",
    "* 使用 setup 參數\n",
    "* timeit.timeit(setup, stmt, number)"
   ]
  },
  {
   "cell_type": "code",
   "execution_count": 28,
   "metadata": {
    "slideshow": {
     "slide_type": "subslide"
    }
   },
   "outputs": [
    {
     "name": "stdout",
     "output_type": "stream",
     "text": [
      "0.11213259761962036\n"
     ]
    }
   ],
   "source": [
    "# run me!\n",
    "%reset -f\n",
    "\n",
    "import timeit\n",
    "\n",
    "# 要計時的模組載入\n",
    "my_setup = \"import random\"\n",
    "\n",
    "my_code = \"my_value = random.randint(0, 10)\"\n",
    "\n",
    "print (timeit.timeit(setup= my_setup, stmt= my_code, number= 100000))"
   ]
  },
  {
   "cell_type": "markdown",
   "metadata": {
    "slideshow": {
     "slide_type": "subslide"
    }
   },
   "source": [
    "## <center>只計時一次，結果會精準嗎?</center>\n",
    "\n",
    "<br/>\n",
    "* 使用 repeat 方法\n",
    "* timeit.repeat(setup, stmt, repeat, number)\n",
    "* 會以陣列的形式回傳"
   ]
  },
  {
   "cell_type": "markdown",
   "metadata": {
    "slideshow": {
     "slide_type": "subslide"
    }
   },
   "source": [
    "# <center>有沒有人要跳槽的？</center>\n",
    "\n",
    "## <center>[x for x in range(10)]</center>\n",
    "#### <center>v.s.</center>\n",
    "## <center>list(range(10))</center>"
   ]
  },
  {
   "cell_type": "code",
   "execution_count": 24,
   "metadata": {
    "slideshow": {
     "slide_type": "subslide"
    }
   },
   "outputs": [],
   "source": [
    "# run me!\n",
    "%reset -f\n",
    "\n",
    "import timeit\n",
    "\n",
    "my_code_0 = \"my_array_0 = [x for x in range(10)]\"\n",
    "my_code_1 = \"my_array_1 = list(range(10))\"\n",
    "\n",
    "# print (timeit.repeat(stmt = my_code_0, repeat= 5, number = 100000), \"\\n\")\n",
    "# print (timeit.repeat(stmt = my_code_1, repeat= 5, number = 100000), \"\\n\")"
   ]
  },
  {
   "cell_type": "markdown",
   "metadata": {
    "slideshow": {
     "slide_type": "slide"
    }
   },
   "source": [
    "# <center>所以內建模組是什麼?</center>"
   ]
  },
  {
   "cell_type": "markdown",
   "metadata": {
    "slideshow": {
     "slide_type": "subslide"
    }
   },
   "source": [
    "<center>![](https://i.imgur.com/YuU3zMn.png)</center>\n",
    "\n",
    "* 就像妳自己寫的模組\n",
    "* 但是是內建的，所以可以直接 import"
   ]
  },
  {
   "cell_type": "markdown",
   "metadata": {
    "slideshow": {
     "slide_type": "subslide"
    }
   },
   "source": [
    "# <center>一些常用的內建模組</center>\n",
    "\n",
    "<br/>\n",
    "* timeit\n",
    "* time\n",
    "* operator\n",
    "* math\n",
    "* random"
   ]
  },
  {
   "cell_type": "markdown",
   "metadata": {
    "slideshow": {
     "slide_type": "subslide"
    }
   },
   "source": [
    "# <center>使用內建模組的好處</center>\n",
    "\n",
    "<br/>\n",
    "* 自己寫可能會寫錯\n",
    "* 提升 Coding 效率\n",
    "* 提升可讀性，你比較好看懂，和你一起寫的人也較好看懂"
   ]
  },
  {
   "cell_type": "markdown",
   "metadata": {
    "slideshow": {
     "slide_type": "subslide"
    }
   },
   "source": [
    "# <center>假設妳需要知道現在時間</center>\n",
    "\n",
    "<br/>\n",
    "* 但妳忘了戴手錶、手機\n",
    "* 也沒有朋友可以問\n",
    "* 這時候 time 模塊就派上用場了"
   ]
  },
  {
   "cell_type": "code",
   "execution_count": 3,
   "metadata": {
    "slideshow": {
     "slide_type": "subslide"
    }
   },
   "outputs": [
    {
     "name": "stdout",
     "output_type": "stream",
     "text": [
      "1530509577.6250415\n"
     ]
    }
   ],
   "source": [
    "# run me!\n",
    "%reset -f\n",
    "\n",
    "import time\n",
    "\n",
    "print(time.time())"
   ]
  },
  {
   "cell_type": "markdown",
   "metadata": {
    "slideshow": {
     "slide_type": "subslide"
    }
   },
   "source": [
    "# <center>看不懂對吧？</center>\n",
    "\n",
    "<br/>\n",
    "* 因為這是自從 1970 年 1 月 1 日午夜後經過的浮點數秒數\n",
    "* 正常人都看不懂的\n",
    "* 可以用 time.localtime() 和 time.asctime() 兩個方法來轉換"
   ]
  },
  {
   "cell_type": "code",
   "execution_count": 9,
   "metadata": {
    "slideshow": {
     "slide_type": "subslide"
    }
   },
   "outputs": [
    {
     "name": "stdout",
     "output_type": "stream",
     "text": [
      "1530510417.5949094 \n",
      "\n",
      "time.struct_time(tm_year=2018, tm_mon=7, tm_mday=2, tm_hour=13, tm_min=46, tm_sec=57, tm_wday=0, tm_yday=183, tm_isdst=0) \n",
      "\n",
      "Mon Jul  2 13:46:57 2018\n"
     ]
    }
   ],
   "source": [
    "# run me!\n",
    "%reset -f\n",
    "\n",
    "import time\n",
    "\n",
    "print(time.time(), \"\\n\")\n",
    "print(time.localtime(time.time()), \"\\n\")\n",
    "print(time.asctime(time.localtime(time.time())))"
   ]
  },
  {
   "cell_type": "markdown",
   "metadata": {
    "slideshow": {
     "slide_type": "subslide"
    }
   },
   "source": [
    "# <center>time 模組也有延遲的功能</center>\n",
    "\n",
    "<br/>\n",
    "* 如果妳需要延緩程式執行的話\n",
    "* 可以用 time.sleep() 方法"
   ]
  },
  {
   "cell_type": "code",
   "execution_count": 2,
   "metadata": {
    "slideshow": {
     "slide_type": "subslide"
    }
   },
   "outputs": [
    {
     "name": "stdout",
     "output_type": "stream",
     "text": [
      "休息 10 分鐘~ \n",
      "\n",
      "上課啦！上課啦！上課啦！上課啦！上課啦！上課啦！\n"
     ]
    }
   ],
   "source": [
    "# rum me!\n",
    "%reset -f\n",
    "\n",
    "import time\n",
    "\n",
    "print(\"休息 10 分鐘~ \\n\")\n",
    "time.sleep(6)\n",
    "print(\"上課啦！上課啦！上課啦！上課啦！上課啦！上課啦！\")"
   ]
  },
  {
   "cell_type": "markdown",
   "metadata": {
    "slideshow": {
     "slide_type": "subslide"
    }
   },
   "source": [
    "# <center>operator 模組</center>\n",
    "\n",
    "<br/>\n",
    "* 有許多功能和 python operator 相同的方法\n",
    "* 像是加減乘除、大於小於、index 操作等等"
   ]
  },
  {
   "cell_type": "code",
   "execution_count": 18,
   "metadata": {
    "slideshow": {
     "slide_type": "subslide"
    }
   },
   "outputs": [
    {
     "name": "stdout",
     "output_type": "stream",
     "text": [
      "a+ b= \t\t 9\n",
      "op.add(a, b)= \t 9 \n",
      "\n",
      "a* b= \t\t 18\n",
      "op.mul(a, b)= \t 18 \n",
      "\n",
      "a// b= \t\t\t 0\n",
      "op.floordiv(a, b)= \t 0\n"
     ]
    }
   ],
   "source": [
    "# rum me!\n",
    "%reset -f\n",
    "\n",
    "import operator as op\n",
    "\n",
    "a, b = 3, 6\n",
    "\n",
    "print(\"a+ b= \\t\\t\", a+ b)\n",
    "print(\"op.add(a, b)= \\t\", op.add(a, b), \"\\n\")\n",
    "print(\"a* b= \\t\\t\", a* b)\n",
    "print(\"op.mul(a, b)= \\t\", op.mul(a, b), \"\\n\")\n",
    "print(\"a// b= \\t\\t\\t\", a// b)\n",
    "print(\"op.floordiv(a, b)= \\t\", op.floordiv(a, b))"
   ]
  },
  {
   "cell_type": "code",
   "execution_count": 44,
   "metadata": {
    "scrolled": true,
    "slideshow": {
     "slide_type": "subslide"
    }
   },
   "outputs": [
    {
     "name": "stdout",
     "output_type": "stream",
     "text": [
      "op.getitem(a, 0)= \t 0 \n",
      "\n",
      "op.getitem(a, 5)= \t 5 \n",
      "\n",
      "op.setitem(a, 5, 2)\n",
      "op.getitem(a, 5)= \t 2 \n",
      "\n"
     ]
    }
   ],
   "source": [
    "# rum me!\n",
    "%reset -f\n",
    "\n",
    "import operator as op\n",
    "\n",
    "a = list(range(10))\n",
    "\n",
    "print(\"op.getitem(a, 0)= \\t\", op.getitem(a, 0), \"\\n\")\n",
    "print(\"op.getitem(a, 5)= \\t\", op.getitem(a, 5), \"\\n\")\n",
    "\n",
    "op.setitem(a, 5, 2)\n",
    "print(\"op.setitem(a, 5, 2)\")\n",
    "print(\"op.getitem(a, 5)= \\t\", op.getitem(a, 5), \"\\n\")"
   ]
  },
  {
   "cell_type": "markdown",
   "metadata": {
    "slideshow": {
     "slide_type": "subslide"
    }
   },
   "source": [
    "# <center>Emm...</center>\n",
    "\n",
    "<br/>\n",
    "* operator 好像是個無聊的東西呢\n",
    "* 來討論一些比較實用的吧"
   ]
  },
  {
   "cell_type": "markdown",
   "metadata": {
    "slideshow": {
     "slide_type": "subslide"
    }
   },
   "source": [
    "# <center>回想一下陣列排序的 sorted() 方法</center>\n",
    "\n",
    "<br/>\n",
    "* 如果 Elements 也是陣列呢?\n",
    "* 那還能排序嗎?\n",
    "* 用 operator.itemgetter() 方法吧!!"
   ]
  },
  {
   "cell_type": "code",
   "execution_count": 57,
   "metadata": {
    "slideshow": {
     "slide_type": "subslide"
    }
   },
   "outputs": [
    {
     "name": "stdout",
     "output_type": "stream",
     "text": [
      "4\n"
     ]
    }
   ],
   "source": [
    "# rum me!\n",
    "%reset -f\n",
    "\n",
    "import operator as op\n",
    "\n",
    "my_datas = [3, 4, 5]\n",
    "my_getter = op.itemgetter(1)\n",
    "\n",
    "print(my_getter(my_datas))"
   ]
  },
  {
   "cell_type": "code",
   "execution_count": 58,
   "metadata": {
    "slideshow": {
     "slide_type": "subslide"
    }
   },
   "outputs": [
    {
     "name": "stdout",
     "output_type": "stream",
     "text": [
      "(4, 5, 3)\n"
     ]
    }
   ],
   "source": [
    "# rum me!\n",
    "%reset -f\n",
    "\n",
    "import operator as op\n",
    "\n",
    "my_datas = [3, 4, 5]\n",
    "my_getter = op.itemgetter(1, 2, 0)\n",
    "\n",
    "print(my_getter(my_datas))"
   ]
  },
  {
   "cell_type": "code",
   "execution_count": 53,
   "metadata": {
    "slideshow": {
     "slide_type": "subslide"
    }
   },
   "outputs": [
    {
     "name": "stdout",
     "output_type": "stream",
     "text": [
      "[[3, 2, 5], [2, 6, 1], [2, 5, 2], [1, 4, 2]]\n"
     ]
    }
   ],
   "source": [
    "# rum me!\n",
    "%reset -f\n",
    "\n",
    "import operator as op\n",
    "\n",
    "def advanced_sort(datas):\n",
    "    datas = sorted(datas, key = op.itemgetter(0, 1, 2), reverse = True)\n",
    "    return datas\n",
    "\n",
    "datas = [[3, 2, 5], [1, 4, 2], [2, 6, 1], [2, 5, 2]]\n",
    "print(advanced_sort(datas))"
   ]
  },
  {
   "cell_type": "markdown",
   "metadata": {
    "slideshow": {
     "slide_type": "slide"
    }
   },
   "source": [
    "## <center>注意!!</center>\n",
    "\n",
    "<center>![](https://fs-gateway.esdict.cn/store_main/wordthumbnail/6d0c9817-6795-4161-a817-39f59544d883.jpg)</center>\n",
    "\n",
    "## <center>接下來即將牽扯到數學相關知識</center>"
   ]
  },
  {
   "cell_type": "markdown",
   "metadata": {
    "slideshow": {
     "slide_type": "subslide"
    }
   },
   "source": [
    "# <center>貼心提醒</center>\n",
    "\n",
    "<br/>\n",
    "* 如果妳數學真的真的真的非常不好\n",
    "* 不要太勉強自己思考\n",
    "* 腦袋很有可能會受傷歐~!!"
   ]
  },
  {
   "cell_type": "markdown",
   "metadata": {
    "slideshow": {
     "slide_type": "slide"
    }
   },
   "source": [
    "# <center>math 模塊</center>\n",
    "\n",
    "<br/>\n",
    "* 常數 π, e\n",
    "* 取整數、開根號\n",
    "* 階乘、對數\n",
    "* 三角函數"
   ]
  },
  {
   "cell_type": "markdown",
   "metadata": {
    "slideshow": {
     "slide_type": "subslide"
    }
   },
   "source": [
    "# <center>在座各位有人喜歡背 π 或是 e 的嗎???</center>"
   ]
  },
  {
   "cell_type": "code",
   "execution_count": 86,
   "metadata": {
    "slideshow": {
     "slide_type": "subslide"
    }
   },
   "outputs": [
    {
     "name": "stdout",
     "output_type": "stream",
     "text": [
      "math.pi= \t\t 3.141592653589793 \n",
      "\n",
      "math.e= \t\t 2.718281828459045 \n",
      "\n",
      "math.exp(2)= e**2= \t 7.38905609893065 \n",
      "\n"
     ]
    }
   ],
   "source": [
    "# rum me!\n",
    "%reset -f\n",
    "\n",
    "import math\n",
    "\n",
    "print(\"math.pi= \\t\\t\", math.pi, \"\\n\")\n",
    "print(\"math.e= \\t\\t\", math.e, \"\\n\")\n",
    "print(\"math.exp(2)= e**2= \\t\", math.exp(2), \"\\n\")"
   ]
  },
  {
   "cell_type": "code",
   "execution_count": 89,
   "metadata": {
    "slideshow": {
     "slide_type": "subslide"
    }
   },
   "outputs": [
    {
     "name": "stdout",
     "output_type": "stream",
     "text": [
      "math.ceil(value)= \t 5 \n",
      "\n",
      "math.floor(value)= \t 4 \n",
      "\n"
     ]
    }
   ],
   "source": [
    "# rum me!\n",
    "%reset -f\n",
    "\n",
    "import math\n",
    "\n",
    "value = 4.4\n",
    "\n",
    "print(\"math.ceil(value)= \\t\", math.ceil(value), \"\\n\")\n",
    "print(\"math.floor(value)= \\t\", math.floor(value), \"\\n\")"
   ]
  },
  {
   "cell_type": "code",
   "execution_count": 90,
   "metadata": {
    "slideshow": {
     "slide_type": "subslide"
    }
   },
   "outputs": [
    {
     "name": "stdout",
     "output_type": "stream",
     "text": [
      "math.factorial(10)= \t 3628800 \n",
      "\n",
      "math.log(10, 2)= \t 3.3219280948873626 \n",
      "\n",
      "math.log(10)= \t\t 2.302585092994046 \n",
      "\n",
      "math.log10(10)= \t 1.0\n"
     ]
    }
   ],
   "source": [
    "# rum me!\n",
    "%reset -f\n",
    "\n",
    "import math\n",
    "\n",
    "print(\"math.factorial(10)= \\t\", math.factorial(10), \"\\n\")\n",
    "print(\"math.log(10, 2)= \\t\", math.log(10, 2), \"\\n\")\n",
    "print(\"math.log(10)= \\t\\t\", math.log(10), \"\\n\")                # 底數預設是 e\n",
    "print(\"math.log10(10)= \\t\", math.log10(10))"
   ]
  },
  {
   "cell_type": "code",
   "execution_count": 94,
   "metadata": {
    "scrolled": false,
    "slideshow": {
     "slide_type": "subslide"
    }
   },
   "outputs": [
    {
     "name": "stdout",
     "output_type": "stream",
     "text": [
      "math.sin(value)= \t 0.8660254037844386 \n",
      "\n",
      "math.cosh(value)= \t 1.600286857702386 \n",
      "\n",
      "math.atan(value)= \t 0.808448792630022\n"
     ]
    }
   ],
   "source": [
    "# rum me!\n",
    "%reset -f\n",
    "\n",
    "import math\n",
    "\n",
    "value = math.radians(60)\n",
    "\n",
    "print(\"math.sin(value)= \\t\", math.sin(value), \"\\n\")\n",
    "print(\"math.cosh(value)= \\t\", math.cosh(value), \"\\n\")\n",
    "print(\"math.atan(value)= \\t\", math.atan(value))"
   ]
  },
  {
   "cell_type": "markdown",
   "metadata": {
    "slideshow": {
     "slide_type": "subslide"
    }
   },
   "source": [
    "### <center> ----------------------------休息！-------------------------------</center>\n",
    "\n",
    "<br/>\n",
    "* 10 分鐘"
   ]
  },
  {
   "cell_type": "markdown",
   "metadata": {
    "slideshow": {
     "slide_type": "slide"
    }
   },
   "source": [
    "# <center>random 模塊</center>\n",
    "\n",
    "<br/>\n",
    "* 充滿隨機性的模組\n",
    "* 做遊戲很常用到 !!"
   ]
  },
  {
   "cell_type": "markdown",
   "metadata": {
    "slideshow": {
     "slide_type": "subslide"
    }
   },
   "source": [
    "# <center>欸！午餐吃甚麼？</center>\n",
    "\n",
    "<br/>\n",
    "* 每天都必須面對\n",
    "* 有時間壓力\n",
    "* 人多不會想比較快\n",
    "* 堪稱世紀難題"
   ]
  },
  {
   "cell_type": "code",
   "execution_count": 25,
   "metadata": {
    "slideshow": {
     "slide_type": "subslide"
    }
   },
   "outputs": [
    {
     "name": "stdout",
     "output_type": "stream",
     "text": [
      "大肥鴨\n"
     ]
    }
   ],
   "source": [
    "# rum me!\n",
    "%reset -f\n",
    "\n",
    "import random\n",
    "\n",
    "# 午餐列表\n",
    "lunch = [\"好煮義\", \"大肥鴨\", \"三商巧福\", \"鄉村\", \"一心二葉\", \"不要吃\"]\n",
    "\n",
    "# 隨機選擇午餐\n",
    "selectLunch = random.randint(0, len(lunch)-1)\n",
    "print(lunch[selectLunch])"
   ]
  },
  {
   "cell_type": "code",
   "execution_count": 8,
   "metadata": {
    "slideshow": {
     "slide_type": "subslide"
    }
   },
   "outputs": [
    {
     "name": "stdout",
     "output_type": "stream",
     "text": [
      "74\n"
     ]
    }
   ],
   "source": [
    "# rum me!\n",
    "%reset -f\n",
    "\n",
    "import random\n",
    "\n",
    "# 0 ~ 100 之間的偶數\n",
    "randomEven = random.randrange(0, 101, 2)\n",
    "print(randomEven)"
   ]
  },
  {
   "cell_type": "markdown",
   "metadata": {
    "slideshow": {
     "slide_type": "subslide"
    }
   },
   "source": [
    "# <center>如果妳需要浮點數的話...</center>\n",
    "\n",
    "<br/>\n",
    "* random.random() 回傳 0 ~ 1 之間的隨機浮點數\n",
    "* random.uniform() 回傳指定範圍內的隨機浮點數"
   ]
  },
  {
   "cell_type": "code",
   "execution_count": 12,
   "metadata": {
    "slideshow": {
     "slide_type": "subslide"
    }
   },
   "outputs": [
    {
     "name": "stdout",
     "output_type": "stream",
     "text": [
      "random.random()= \t 0.5788453817545491 \n",
      "\n",
      "random.uniform(0, 10)= \t 5.029917347150265\n"
     ]
    }
   ],
   "source": [
    "# rum me!\n",
    "%reset -f\n",
    "\n",
    "import random\n",
    "\n",
    "print(\"random.random()= \\t\", random.random(), \"\\n\")\n",
    "print(\"random.uniform(0, 10)= \\t\", random.uniform(0, 10))"
   ]
  },
  {
   "cell_type": "markdown",
   "metadata": {
    "slideshow": {
     "slide_type": "subslide"
    }
   },
   "source": [
    "# <center>需要選陣列中的東西也可以</center>\n",
    "\n",
    "<br/>\n",
    "* random.choice() 隨機選擇陣列中其中一個 element\n",
    "* random.sample() 隨機選擇陣列中其中多個 element"
   ]
  },
  {
   "cell_type": "code",
   "execution_count": 20,
   "metadata": {
    "slideshow": {
     "slide_type": "subslide"
    }
   },
   "outputs": [
    {
     "name": "stdout",
     "output_type": "stream",
     "text": [
      "random.choice(datas)= \t\t 123 \n",
      "\n",
      "random.sample(datas,3)= \t [True, 'ABC', 'DEF']\n"
     ]
    }
   ],
   "source": [
    "# rum me!\n",
    "%reset -f\n",
    "\n",
    "import random\n",
    "\n",
    "datas = [\"ABC\", \"DEF\", 123, 456, True, False]\n",
    "\n",
    "print(\"random.choice(datas)= \\t\\t\", random.choice(datas), \"\\n\")\n",
    "print(\"random.sample(datas,3)= \\t\", random.sample(datas,3))"
   ]
  },
  {
   "cell_type": "markdown",
   "metadata": {
    "slideshow": {
     "slide_type": "subslide"
    }
   },
   "source": [
    "# <center>洗牌也是沒問題的</center>\n",
    "\n",
    "<br/>\n",
    "* random.shuffle() 隨機排序"
   ]
  },
  {
   "cell_type": "code",
   "execution_count": 27,
   "metadata": {
    "slideshow": {
     "slide_type": "subslide"
    }
   },
   "outputs": [
    {
     "name": "stdout",
     "output_type": "stream",
     "text": [
      "deck= \t ['8', '5', 'A', '4', 'Q', '2', '9', '3', '10', '7', 'J', 'K', '6']\n"
     ]
    }
   ],
   "source": [
    "# rum me!\n",
    "%reset -f\n",
    "\n",
    "import random\n",
    "\n",
    "deck = [\"A\", \"K\", \"Q\", \"J\", \"10\", \"9\", \"8\", \"7\", \"6\", \"5\", \"4\", \"3\", \"2\"]\n",
    "\n",
    "random.shuffle(deck)\n",
    "print(\"deck= \\t\", deck)"
   ]
  },
  {
   "cell_type": "markdown",
   "metadata": {
    "slideshow": {
     "slide_type": "slide"
    }
   },
   "source": [
    "### <center> ----------------------------題目 1-------------------------------</center>\n",
    "\n",
    "<br/>\n",
    "```\n",
    "有一副新買的撲克牌，已將鬼牌抽掉\n",
    "剩下的排組為 deck, 4 種花色各 13 張\n",
    "\n",
    "現在需要將牌發成四人份，一人13張\n",
    "洗牌過後依照固定順序輪流發牌\n",
    "最後以二維陣列呈現四人手牌\n",
    "```"
   ]
  },
  {
   "cell_type": "markdown",
   "metadata": {
    "slideshow": {
     "slide_type": "subslide"
    }
   },
   "source": [
    "### <center>如果妳需要生成資料的話</center>"
   ]
  },
  {
   "cell_type": "code",
   "execution_count": 27,
   "metadata": {
    "slideshow": {
     "slide_type": "-"
    }
   },
   "outputs": [
    {
     "name": "stdout",
     "output_type": "stream",
     "text": [
      "['黑桃A', '黑桃K', '黑桃Q', '黑桃J', '黑桃10', '黑桃9', '黑桃8', '黑桃7', '黑桃6', '黑桃5', '黑桃4', '黑桃3', '黑桃2', '紅心A', '紅心K', '紅心Q', '紅心J', '紅心10', '紅心9', '紅心8', '紅心7', '紅心6', '紅心5', '紅心4', '紅心3', '紅心2', '鑽石A', '鑽石K', '鑽石Q', '鑽石J', '鑽石10', '鑽石9', '鑽石8', '鑽石7', '鑽石6', '鑽石5', '鑽石4', '鑽石3', '鑽石2', '梅花A', '梅花K', '梅花Q', '梅花J', '梅花10', '梅花9', '梅花8', '梅花7', '梅花6', '梅花5', '梅花4', '梅花3', '梅花2']\n"
     ]
    }
   ],
   "source": [
    "deck = [x+y for x in [\"黑桃\", \"紅心\", \"鑽石\", \"梅花\"] \n",
    "            for y in [\"A\", \"K\", \"Q\", \"J\", \"10\", \"9\", \"8\", \"7\", \"6\", \"5\", \"4\", \"3\", \"2\"]]\n",
    "\n",
    "print(deck)"
   ]
  },
  {
   "cell_type": "markdown",
   "metadata": {
    "slideshow": {
     "slide_type": "slide"
    }
   },
   "source": [
    "### <center> ----------------------------題目 2-------------------------------</center>\n",
    "\n",
    "<br/>\n",
    "```\n",
    "現在有個二維陣列, \n",
    "每個元素皆為 [ele_0, ele_1, ......, ele_n], 長度皆為 n\n",
    "ele_0, ...... ele_n 皆為可排序之數值, 請寫一個排序函數\n",
    "依次比較 ele_0, ele_1, ......, ele_n, 進行上升排序\n",
    "```"
   ]
  },
  {
   "cell_type": "markdown",
   "metadata": {
    "slideshow": {
     "slide_type": "subslide"
    }
   },
   "source": [
    "### <center>如果妳需要生成資料的話</center>"
   ]
  },
  {
   "cell_type": "code",
   "execution_count": 13,
   "metadata": {
    "slideshow": {
     "slide_type": "-"
    }
   },
   "outputs": [
    {
     "name": "stdout",
     "output_type": "stream",
     "text": [
      "[5, 4, 3, 1, 4, 0, 0, 0, 2, 1]\n",
      "[3, 4, 5, 5, 3, 2, 1, 2, 0, 4]\n",
      "[5, 2, 3, 4, 1, 2, 3, 4, 3, 5]\n",
      "[1, 1, 2, 2, 0, 3, 5, 2, 5, 2]\n",
      "[2, 5, 2, 2, 1, 5, 2, 0, 1, 3]\n",
      "[0, 0, 5, 1, 2, 0, 1, 3, 2, 0]\n",
      "[5, 4, 3, 2, 4, 4, 3, 2, 0, 5]\n",
      "[1, 4, 2, 5, 1, 4, 0, 4, 1, 4]\n",
      "[4, 1, 5, 3, 4, 1, 4, 0, 5, 5]\n",
      "[5, 3, 4, 3, 0, 3, 2, 2, 1, 3]\n"
     ]
    }
   ],
   "source": [
    "# run me!\n",
    "%reset -f\n",
    "\n",
    "import random\n",
    "\n",
    "# 生成測試資料\n",
    "datas = [[random.randint(0, 5) for x in range(10)] for y in range(10)]\n",
    "for data in datas:\n",
    "    print(data)"
   ]
  }
 ],
 "metadata": {
  "celltoolbar": "Slideshow",
  "kernelspec": {
   "display_name": "Python 3",
   "language": "python",
   "name": "python3"
  },
  "language_info": {
   "codemirror_mode": {
    "name": "ipython",
    "version": 3
   },
   "file_extension": ".py",
   "mimetype": "text/x-python",
   "name": "python",
   "nbconvert_exporter": "python",
   "pygments_lexer": "ipython3",
   "version": "3.6.3"
  },
  "livereveal": {
   "theme": "serif",
   "transition": "zoom"
  }
 },
 "nbformat": 4,
 "nbformat_minor": 2
}
