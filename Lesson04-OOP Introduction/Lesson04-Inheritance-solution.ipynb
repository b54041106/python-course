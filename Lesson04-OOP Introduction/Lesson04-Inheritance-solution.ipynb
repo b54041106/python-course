{
 "cells": [
  {
   "cell_type": "markdown",
   "metadata": {
    "slideshow": {
     "slide_type": "slide"
    }
   },
   "source": [
    "# Exercise1 - 列入計分\n",
    "\n",
    "- 這世界充滿著許多動物，幾乎所有的動物都會「叫」、「吃飯」、「睡覺」...\n",
    "- 請你定義一個 class `Animal`\n",
    "    - 設定它是四隻腳, `feet_number = 4`\n",
    "    - 設定它會說話, 說 `\"Hello! I'm an animal.\"`\n",
    "- 在定義一個 child class `Dog`，繼承自 parent class `Animal`"
   ]
  },
  {
   "cell_type": "markdown",
   "metadata": {
    "slideshow": {
     "slide_type": "subslide"
    }
   },
   "source": [
    "<center><img src=\"https://imgur.com/Sl68ysU.jpg\"></center>"
   ]
  },
  {
   "cell_type": "markdown",
   "metadata": {
    "slideshow": {
     "slide_type": "fragment"
    }
   },
   "source": [
    "- 驗證是否正確：\n",
    "```python\n",
    "dog = Dog()\n",
    "print(dog.feet_number) # 要印出 4\n",
    "dog.shout() # 要印出 \"Hello! I'm an animal.\"\n",
    "```"
   ]
  },
  {
   "cell_type": "markdown",
   "metadata": {},
   "source": [
    "## 解答"
   ]
  },
  {
   "cell_type": "code",
   "execution_count": 5,
   "metadata": {},
   "outputs": [],
   "source": [
    "class Animal():\n",
    "    def __init__(self):\n",
    "        self.feet_number = 4\n",
    "    def shout(self):\n",
    "        print(\"Hello! I'm an animal.\")\n",
    "\n",
    "class Dog(Animal):\n",
    "    pass"
   ]
  },
  {
   "cell_type": "code",
   "execution_count": 6,
   "metadata": {},
   "outputs": [
    {
     "name": "stdout",
     "output_type": "stream",
     "text": [
      "4\n",
      "Hello! I'm an animal.\n"
     ]
    }
   ],
   "source": [
    "dog = Dog()\n",
    "print(dog.feet_number) # 要印出 4\n",
    "dog.shout() # 要印出 \"Hello! I'm an animal.\""
   ]
  }
 ],
 "metadata": {
  "kernelspec": {
   "display_name": "Python 3",
   "language": "python",
   "name": "python3"
  },
  "language_info": {
   "codemirror_mode": {
    "name": "ipython",
    "version": 3
   },
   "file_extension": ".py",
   "mimetype": "text/x-python",
   "name": "python",
   "nbconvert_exporter": "python",
   "pygments_lexer": "ipython3",
   "version": "3.6.5"
  }
 },
 "nbformat": 4,
 "nbformat_minor": 2
}
