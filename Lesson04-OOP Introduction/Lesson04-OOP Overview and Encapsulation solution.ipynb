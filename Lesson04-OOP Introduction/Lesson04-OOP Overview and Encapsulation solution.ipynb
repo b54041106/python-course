{
 "cells": [
  {
   "cell_type": "markdown",
   "metadata": {
    "slideshow": {
     "slide_type": "slide"
    }
   },
   "source": [
    "# [X-Village] Lesson04-Overview and Encapsulation solution\n",
    "by 梁祐承"
   ]
  },
  {
   "cell_type": "markdown",
   "metadata": {
    "slideshow": {
     "slide_type": "slide"
    }
   },
   "source": [
    "#### Practice 1\n",
    "請設計一個Class `Car`，具有`Color`和`Speed`兩種data\n",
    "並用這個Class生成兩個`Car`物件，具有不同的`Color`且`Speed`為0"
   ]
  },
  {
   "cell_type": "code",
   "execution_count": 13,
   "metadata": {
    "slideshow": {
     "slide_type": "subslide"
    }
   },
   "outputs": [
    {
     "name": "stdout",
     "output_type": "stream",
     "text": [
      "Blue\n",
      "0\n",
      "Red\n",
      "0\n"
     ]
    }
   ],
   "source": [
    "class Car:\n",
    "    color = None\n",
    "    speed = None\n",
    "    \n",
    "    def __init__(self, color, speed=0):\n",
    "        self.color = color\n",
    "        self.speed = speed\n",
    "        \n",
    "        \n",
    "blueCar = Car('Blue')\n",
    "redCar = Car('Red', 0)\n",
    "print(blueCar.color)\n",
    "print(blueCar.speed)\n",
    "print(redCar.color)\n",
    "print(redCar.speed)"
   ]
  },
  {
   "cell_type": "markdown",
   "metadata": {
    "slideshow": {
     "slide_type": "slide"
    }
   },
   "source": [
    "#### Practice 2 (15min)\n",
    "修改剛剛的Class `Car`，增加`boost()`和`step_break()`兩個函式，分別讓`speed`增加或減少"
   ]
  },
  {
   "cell_type": "code",
   "execution_count": 14,
   "metadata": {
    "slideshow": {
     "slide_type": "subslide"
    }
   },
   "outputs": [
    {
     "name": "stdout",
     "output_type": "stream",
     "text": [
      "0\n",
      "1\n",
      "0\n"
     ]
    }
   ],
   "source": [
    "class Car:\n",
    "    color = None\n",
    "    speed = None\n",
    "    \n",
    "    def __init__(self, color, speed=0):\n",
    "        self.color = color\n",
    "        self.speed = speed\n",
    "        \n",
    "    def boost(self):\n",
    "        self.speed += 1\n",
    "        \n",
    "    def step_break(self):\n",
    "        self.speed -= 1\n",
    "        if self.speed < 0:\n",
    "            self.speed = 0\n",
    "            \n",
    "redCar = Car('Red', 0)\n",
    "print(redCar.speed)\n",
    "redCar.boost()\n",
    "print(redCar.speed)\n",
    "redCar.step_break()\n",
    "print(redCar.speed)"
   ]
  },
  {
   "cell_type": "markdown",
   "metadata": {
    "slideshow": {
     "slide_type": "slide"
    }
   },
   "source": [
    "#### Practice 3 (20min)\n",
    "修改剛剛的Class `Car`\n",
    "1. 增加`getSpeed()`函式，回傳Car的`speed`\n",
    "2. 增加`setSpeed(newSpeed)`函式，若傳入的`newSpeed`超過100或小於0就印出錯誤訊息並不要修改`speed`"
   ]
  },
  {
   "cell_type": "code",
   "execution_count": 26,
   "metadata": {
    "slideshow": {
     "slide_type": "subslide"
    }
   },
   "outputs": [
    {
     "name": "stdout",
     "output_type": "stream",
     "text": [
      "1\n",
      "80\n",
      "Too fast!\n",
      "80\n"
     ]
    }
   ],
   "source": [
    "class Car:\n",
    "    color = None\n",
    "    __speed = None\n",
    "    \n",
    "    def __init__(self, color, speed=0):\n",
    "        self.color = color\n",
    "        self.__speed = speed\n",
    "        \n",
    "    def boost(self):\n",
    "        self.__speed += 1\n",
    "        \n",
    "    def step_break(self):\n",
    "        self.__speed -= 1\n",
    "        if self.__speed < 0:\n",
    "            self.__speed = 0\n",
    "    \n",
    "    def getSpeed(self):\n",
    "        return self.__speed\n",
    "    \n",
    "    def setSpeed(self, newSpeed):\n",
    "        if newSpeed > 100:\n",
    "            print('Too fast!')\n",
    "        elif newSpeed < 0:\n",
    "            print('Minus????')\n",
    "        else:\n",
    "            self.__speed = newSpeed\n",
    "            \n",
    "\n",
    "redCar = Car('Red')\n",
    "redCar.boost()\n",
    "print(redCar.getSpeed())\n",
    "redCar.setSpeed(80)\n",
    "print(redCar.getSpeed())\n",
    "redCar.setSpeed(101)\n",
    "print(redCar.getSpeed())\n"
   ]
  },
  {
   "cell_type": "markdown",
   "metadata": {
    "slideshow": {
     "slide_type": "subslide"
    }
   },
   "source": [
    "#### Practice 4 (10min)\n",
    "修改下一頁Code，新增`boot()`函式隱藏開機細節"
   ]
  },
  {
   "cell_type": "code",
   "execution_count": 25,
   "metadata": {
    "slideshow": {
     "slide_type": "subslide"
    }
   },
   "outputs": [
    {
     "name": "stdout",
     "output_type": "stream",
     "text": [
      "Power turned on\n",
      "BIOS loaded\n",
      "Bootloader loaded\n",
      "OS loaded\n",
      "Boot complete\n"
     ]
    }
   ],
   "source": [
    "import time\n",
    "\n",
    "class Computer:\n",
    "    def powerOn(self):\n",
    "        pass\n",
    "    def loadBIOS(self):\n",
    "        time.sleep(1)\n",
    "    def loadBootloader(self):\n",
    "        time.sleep(1)\n",
    "    def loadOS(self):\n",
    "        time.sleep(3)\n",
    "    def boot(self):\n",
    "        self.powerOn()\n",
    "        print('Power turned on')\n",
    "        self.loadBIOS()\n",
    "        print('BIOS loaded')\n",
    "        self.loadBootloader()\n",
    "        print('Bootloader loaded')\n",
    "        self.loadOS()\n",
    "        print('OS loaded')\n",
    "        \n",
    "pc = Computer()\n",
    "pc.boot()\n",
    "print('Boot complete')"
   ]
  }
 ],
 "metadata": {
  "celltoolbar": "Slideshow",
  "kernelspec": {
   "display_name": "Python 3",
   "language": "python",
   "name": "python3"
  },
  "language_info": {
   "codemirror_mode": {
    "name": "ipython",
    "version": 3
   },
   "file_extension": ".py",
   "mimetype": "text/x-python",
   "name": "python",
   "nbconvert_exporter": "python",
   "pygments_lexer": "ipython3",
   "version": "3.6.5"
  }
 },
 "nbformat": 4,
 "nbformat_minor": 2
}
