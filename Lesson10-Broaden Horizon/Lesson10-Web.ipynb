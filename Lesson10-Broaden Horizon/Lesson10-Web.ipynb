{
 "cells": [
  {
   "cell_type": "markdown",
   "metadata": {
    "slideshow": {
     "slide_type": "slide"
    }
   },
   "source": [
    "# [X-Village] Lesson10 - Ｗeb 淺談\n",
    "### by 伯駿"
   ]
  },
  {
   "cell_type": "markdown",
   "metadata": {
    "slideshow": {
     "slide_type": "subslide"
    }
   },
   "source": [
    "接下來的時間你會學到\n",
    "- 為什麼學網頁？\n",
    "- 網頁的組成\n",
    "- 網頁的學習路線 (Roadmap)"
   ]
  },
  {
   "cell_type": "markdown",
   "metadata": {
    "slideshow": {
     "slide_type": "slide"
    }
   },
   "source": [
    "## 1. 為什麼學網頁"
   ]
  },
  {
   "attachments": {},
   "cell_type": "markdown",
   "metadata": {
    "slideshow": {
     "slide_type": "subslide"
    }
   },
   "source": [
    "### 先別管為什麼學網頁了，你知道 簡報 (PPT/Keynote) 是幹嘛用的嗎？\n",
    "\n",
    "<img src=\"https://i.imgur.com/j7afENz.png\">"
   ]
  },
  {
   "cell_type": "markdown",
   "metadata": {
    "slideshow": {
     "slide_type": "subslide"
    }
   },
   "source": [
    "### 跟報紙，書籍一樣，只是個媒介，協助你傳遞資訊，分享想法。\n",
    "\n",
    "spread/share idea, information"
   ]
  },
  {
   "cell_type": "markdown",
   "metadata": {
    "slideshow": {
     "slide_type": "subslide"
    }
   },
   "source": [
    "### 而 Web 也是如此\n",
    "### 其最基本的用途就像簡報，是個協助傳遞資訊的媒介，但更便利，能更大範圍的傳教，呈現想法。\n",
    "\n",
    "個人網頁，活動網頁，公司網頁..."
   ]
  },
  {
   "cell_type": "markdown",
   "metadata": {
    "slideshow": {
     "slide_type": "subslide"
    }
   },
   "source": [
    "### Web 只有這樣嗎？"
   ]
  },
  {
   "cell_type": "markdown",
   "metadata": {
    "slideshow": {
     "slide_type": "subslide"
    }
   },
   "source": [
    "你還看過什麼網頁？\n",
    "\n",
    "FB，Netflex，Airbnb，蝦皮，Hahow...\n",
    "他們有什麼共通點？"
   ]
  },
  {
   "cell_type": "markdown",
   "metadata": {
    "slideshow": {
     "slide_type": "subslide"
    }
   },
   "source": [
    "共通點: 都是服務，都是解決問題的工具。\n",
    "\n",
    "當你有個 idea ，你幾乎可以用 web 實踐他。\n",
    "\n",
    "若你寫給自己用的工具，別人也想用，也確實能解決別人的問題，他就有了意義，價值。\n",
    "\n",
    "而當別人喜歡這個工具，也樂意為其付錢，你就有了產品。"
   ]
  },
  {
   "cell_type": "markdown",
   "metadata": {
    "slideshow": {
     "slide_type": "subslide"
    }
   },
   "source": [
    "### 為什麼學網頁？\n",
    "- 你能用更好的管道來傳達，分享資訊，想法。\n",
    "- 你能自己開發工具，快速測試想法，構建自己所想的服務。"
   ]
  },
  {
   "cell_type": "markdown",
   "metadata": {
    "slideshow": {
     "slide_type": "slide"
    }
   },
   "source": [
    "## 2. 網頁的的組成"
   ]
  },
  {
   "cell_type": "code",
   "execution_count": null,
   "metadata": {
    "slideshow": {
     "slide_type": "subslide"
    }
   },
   "outputs": [],
   "source": []
  },
  {
   "cell_type": "markdown",
   "metadata": {
    "slideshow": {
     "slide_type": "slide"
    }
   },
   "source": [
    "## 3. 網頁的學習路線 (Roadmap)"
   ]
  },
  {
   "cell_type": "code",
   "execution_count": null,
   "metadata": {
    "slideshow": {
     "slide_type": "subslide"
    }
   },
   "outputs": [],
   "source": []
  }
 ],
 "metadata": {
  "celltoolbar": "Slideshow",
  "kernelspec": {
   "display_name": "Python 3",
   "language": "python",
   "name": "python3"
  },
  "language_info": {
   "codemirror_mode": {
    "name": "ipython",
    "version": 3
   },
   "file_extension": ".py",
   "mimetype": "text/x-python",
   "name": "python",
   "nbconvert_exporter": "python",
   "pygments_lexer": "ipython3",
   "version": "3.6.2"
  }
 },
 "nbformat": 4,
 "nbformat_minor": 2
}
