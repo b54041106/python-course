{
 "cells": [
  {
   "cell_type": "markdown",
   "metadata": {
    "slideshow": {
     "slide_type": "slide"
    }
   },
   "source": [
    "# [X-Village] Lesson10 - Ｗeb 淺談\n",
    "### by 伯駿\n",
    "\n",
    "[Sli.do](https://app.sli.do/) #6598"
   ]
  },
  {
   "cell_type": "markdown",
   "metadata": {
    "slideshow": {
     "slide_type": "subslide"
    }
   },
   "source": [
    "接下來的時間你會學到\n",
    "- 為什麼學網頁？\n",
    "- 網頁的組成\n",
    "- 網頁的學習路線 (Roadmap)"
   ]
  },
  {
   "cell_type": "markdown",
   "metadata": {
    "slideshow": {
     "slide_type": "slide"
    }
   },
   "source": [
    "## 1. 為什麼學網頁"
   ]
  },
  {
   "cell_type": "markdown",
   "metadata": {
    "slideshow": {
     "slide_type": "subslide"
    }
   },
   "source": [
    "### 先別管為什麼學網頁了，你知道 簡報 (PPT/Keynote) 是幹嘛用的嗎？\n",
    "\n",
    "<img src=\"https://i.imgur.com/j7afENz.png\">"
   ]
  },
  {
   "cell_type": "markdown",
   "metadata": {
    "slideshow": {
     "slide_type": "subslide"
    }
   },
   "source": [
    "### 跟報紙，書籍一樣，只是個媒介，協助你傳遞資訊，分享想法。\n",
    "\n",
    "spread/share idea, information\n",
    "\n",
    "<img src=\"https://i.imgur.com/h0Vdnis.png\">"
   ]
  },
  {
   "cell_type": "markdown",
   "metadata": {
    "slideshow": {
     "slide_type": "subslide"
    }
   },
   "source": [
    "### 而 Web 也是如此\n",
    "### 其最基本的用途就像簡報，是個協助傳遞資訊的媒介，但更便利，能更大範圍分享，呈現想法。\n",
    "\n",
    "像是個人網頁，活動網頁，公司網頁...\n",
    "\n",
    "<img src=\"https://i.imgur.com/MQojpCt.png\">\n",
    "連結: [1](http://redrussak.com/), [2](https://colorlib.com/preview/#balay)"
   ]
  },
  {
   "cell_type": "markdown",
   "metadata": {
    "slideshow": {
     "slide_type": "subslide"
    }
   },
   "source": [
    "### 那Web 只有這樣嗎？"
   ]
  },
  {
   "cell_type": "markdown",
   "metadata": {
    "slideshow": {
     "slide_type": "subslide"
    }
   },
   "source": [
    "你還看過什麼網頁？\n",
    "\n",
    "FB，Netflex，Airbnb，蝦皮，Hahow...\n",
    "他們有什麼共通點？"
   ]
  },
  {
   "cell_type": "markdown",
   "metadata": {
    "slideshow": {
     "slide_type": "subslide"
    }
   },
   "source": [
    "共通點: 都是服務 (資訊分享，知識學習，解決問題，社交，娛樂...)"
   ]
  },
  {
   "cell_type": "markdown",
   "metadata": {
    "slideshow": {
     "slide_type": "subslide"
    }
   },
   "source": [
    "\n",
    "此外，這類網站不像 PPT 只是單純呈現資訊，他們能處理使用者的資料。\n",
    "\n",
    "也就是說，開發者可以用 web 來實作服務。\n",
    "\n",
    "<img src=\"https://i.imgur.com/YJ0SdRI.png\">"
   ]
  },
  {
   "cell_type": "markdown",
   "metadata": {
    "slideshow": {
     "slide_type": "subslide"
    }
   },
   "source": [
    "### 這也是第二個用途\n",
    "\n",
    "你能用他開發自己想用的工具/服務/平台/遊戲...。"
   ]
  },
  {
   "cell_type": "markdown",
   "metadata": {
    "slideshow": {
     "slide_type": "subslide"
    }
   },
   "source": [
    "### 為什麼學網頁？\n",
    "- 你能用更好的管道來傳達，分享資訊，想法。\n",
    "- 你能自己開發工具，快速測試想法，構建自己所想的服務。"
   ]
  },
  {
   "cell_type": "markdown",
   "metadata": {
    "slideshow": {
     "slide_type": "slide"
    }
   },
   "source": [
    "## 2. 網頁的的組成"
   ]
  },
  {
   "cell_type": "markdown",
   "metadata": {
    "slideshow": {
     "slide_type": "subslide"
    }
   },
   "source": [
    "### 你所看到的網頁可以他由三部分組成：\n",
    "\n",
    "<img src=\"https://i.imgur.com/6tuQ9BT.png\">"
   ]
  },
  {
   "cell_type": "markdown",
   "metadata": {
    "slideshow": {
     "slide_type": "subslide"
    }
   },
   "source": [
    "<img src=\"https://i.imgur.com/AcS1vqw.png\">"
   ]
  },
  {
   "cell_type": "markdown",
   "metadata": {
    "slideshow": {
     "slide_type": "subslide"
    }
   },
   "source": [
    "<img src=\"https://i.imgur.com/9w4tY34.png\">"
   ]
  },
  {
   "cell_type": "markdown",
   "metadata": {
    "slideshow": {
     "slide_type": "subslide"
    }
   },
   "source": [
    "另外html 內的東西之所以要分那麼多層，是因為網頁版來就是分層的\n",
    "<img src=\"https://i.imgur.com/TiaGzIo.png\">\n",
    "[圖片來源](https://www.google.com.tw/url?sa=i&source=images&cd=&cad=rja&uact=8&ved=2ahUKEwjVyqOn-6vcAhVOObwKHWbcAf0QjB16BAgBEAQ&url=https%3A%2F%2Fithelp.ithome.com.tw%2Farticles%2F10159534%3Fsc%3Dpt&psig=AOvVaw3TYM9jcQkWjfbMojQ749ua&ust=1532117060952729)"
   ]
  },
  {
   "cell_type": "markdown",
   "metadata": {
    "slideshow": {
     "slide_type": "subslide"
    }
   },
   "source": [
    "<img src=\"https://i.imgur.com/Ql29JiN.png\">"
   ]
  },
  {
   "cell_type": "markdown",
   "metadata": {
    "slideshow": {
     "slide_type": "subslide"
    }
   },
   "source": [
    "### 上述瀏覽器解析HTML, CSS, JS後顯示的內容也是UI，而在瀏覽器處理的這些部分我們稱之為網頁前端。\n",
    "你傳給瀏覽器的東西，使用者都看得到，你的網頁在瀏覽器做的事，使用者都能做。 \n",
    "<img src=\"https://i.imgur.com/tSe18KA.png\">"
   ]
  },
  {
   "cell_type": "markdown",
   "metadata": {
    "slideshow": {
     "slide_type": "subslide"
    }
   },
   "source": [
    "### 那伺服器端需要做什麼？\n",
    "\n",
    "<img src=\"https://i.imgur.com/9S1IgVF.png\">"
   ]
  },
  {
   "cell_type": "markdown",
   "metadata": {
    "slideshow": {
     "slide_type": "subslide"
    }
   },
   "source": [
    "### 基本用途\n",
    "- 可以從剛剛的圖想到，就是根據你說的 url /後的路徑提供指定的檔案給你。 <br>\n",
    "(怎麼根據 https://netdbncku.github.io 找到這台伺服器是[路由器]()的事)\n",
    "- 如果你的後端只是個放檔案的地方，你的網站的內容都寫死在code裡要改內容必須改code，則這種網站稱為靜態網站。\n",
    "\n",
    "<img src=\"https://i.imgur.com/m8r9rIl.png\">"
   ]
  },
  {
   "cell_type": "markdown",
   "metadata": {
    "slideshow": {
     "slide_type": "subslide"
    }
   },
   "source": [
    "### 進階用途\n",
    "- 要能根據你的 Request 給予相應的內容，處理資料邏輯，身份認證(登入)，與資料庫的溝通\n",
    "\n",
    "<img src=\"https://i.imgur.com/s8or72R.png\">"
   ]
  },
  {
   "cell_type": "markdown",
   "metadata": {
    "slideshow": {
     "slide_type": "subslide"
    }
   },
   "source": [
    "## 左邊的伺服器端通常稱為後端\n",
    "\n",
    "你可以用 python 或 node.js 或 Go 或 php 或 JAVA... 來寫\n",
    "<img src=\"https://i.imgur.com/u3AMHfS.png\">"
   ]
  },
  {
   "cell_type": "markdown",
   "metadata": {
    "slideshow": {
     "slide_type": "subslide"
    }
   },
   "source": [
    "#### 如果沒有前端，你的資料無法良好的呈現給使用者。\n",
    "#### 如果沒有能處理資料的後端，你的網頁每次呈現給使用者的內容都會一樣。(不改code)\n"
   ]
  },
  {
   "cell_type": "markdown",
   "metadata": {
    "slideshow": {
     "slide_type": "subslide"
    }
   },
   "source": [
    "### 如何讓別人看到我寫好的網站?\n",
    "\n",
    "我們需要有個網址對吧？<br>\n",
    "\n",
    "如果你想把你寫好的網站給別人看，無論如何你都需要一個別人可以連上的雲端空間來放你的 html (可能還有css, javascript)檔案。<br>\n",
    "但如果你沒有要能處理資料的後端(網站只是單純顯示資訊)，也不在乎你的網址是 https://xxxx..github.io/yyyy or http://ooxxxzz.xxx <br>  \n",
    "那麼\"別人可以連上的雲端空間\" 可以是 Github。  你只要把你的網頁檔案丟上 Github ，然後在Setting內設定一下即可。\n"
   ]
  },
  {
   "cell_type": "markdown",
   "metadata": {
    "slideshow": {
     "slide_type": "slide"
    }
   },
   "source": [
    "## 3. 網頁的學習路線 (Roadmap)\n",
    "\n",
    "<img src=\"https://i.imgur.com/yOcdEdL.png\">"
   ]
  },
  {
   "cell_type": "markdown",
   "metadata": {
    "slideshow": {
     "slide_type": "subslide"
    }
   },
   "source": [
    "## 一般來說，想在未知的地方前進，你需要地圖或是導遊，\n",
    "後面的簡報內容希望能當地圖\n",
    "\n",
    "<img src=\"https://i.imgur.com/QhGkGq4.jpg\">\n",
    "[圖片來源](http://www.navigatemaps.com/tag/buried-treasure/)"
   ]
  },
  {
   "cell_type": "markdown",
   "metadata": {
    "slideshow": {
     "slide_type": "subslide"
    }
   },
   "source": [
    "### 畢竟我們是 X-Village\n",
    "\n",
    "導遊的職位會由長老來擔任\n",
    "<img src=\"https://i.imgur.com/u2h9SFj.png\">"
   ]
  },
  {
   "cell_type": "markdown",
   "metadata": {
    "slideshow": {
     "slide_type": "slide"
    }
   },
   "source": [
    "<img src=\"https://i.imgur.com/0zJfpXj.png\">"
   ]
  },
  {
   "cell_type": "markdown",
   "metadata": {
    "slideshow": {
     "slide_type": "subslide"
    }
   },
   "source": [
    "## 剛才你已經了解了網頁的組成\n",
    "\n",
    "你也了解了常用的 html 的 tag 與嵌套關係， <br>\n",
    "後來你也花了幾天的時間學習 CSS 的基礎常用用法，了解常用的排版與外觀的CSS syle是什麼，也有能力刻個簡單的網頁了 <br>\n",
    "OK，準備離開新手村，讓網頁上線!\n",
    "\n",
    "<img src=\"https://i.imgur.com/GWLPv8K.png\">"
   ]
  },
  {
   "cell_type": "markdown",
   "metadata": {
    "slideshow": {
     "slide_type": "subslide"
    }
   },
   "source": [
    "<div style=\"width: 700px; height: 600px; background-color: black;\">\n",
    "    <img src=\"https://i.imgur.com/h1Uf2nZ.png\">\n",
    "</div>"
   ]
  },
  {
   "cell_type": "markdown",
   "metadata": {
    "slideshow": {
     "slide_type": "subslide"
    }
   },
   "source": [
    "<div style=\"width: 700px; height: 600px;\">\n",
    "    <img src=\"https://i.imgur.com/FDCCGJu.png\">\n",
    "</div>"
   ]
  },
  {
   "cell_type": "markdown",
   "metadata": {
    "slideshow": {
     "slide_type": "subslide"
    }
   },
   "source": [
    "<div style=\"width: 700px; height: 600px; background-color: black;\">\n",
    "    <img src=\"https://i.imgur.com/ckxoIYM.png\">\n",
    "</div>"
   ]
  },
  {
   "cell_type": "markdown",
   "metadata": {
    "slideshow": {
     "slide_type": "subslide"
    }
   },
   "source": [
    "<div style=\"width: 700px; height: 600px;\">\n",
    "    <img src=\"https://i.imgur.com/Moyxmrc.png\">\n",
    "</div>"
   ]
  },
  {
   "cell_type": "markdown",
   "metadata": {
    "slideshow": {
     "slide_type": "subslide"
    }
   },
   "source": [
    "<img src=\"https://i.imgur.com/i3TGd1J.png\">"
   ]
  },
  {
   "cell_type": "markdown",
   "metadata": {
    "slideshow": {
     "slide_type": "subslide"
    }
   },
   "source": [
    "<div style=\"width: 700px; height: 600px;\">\n",
    "    <img src=\"https://i.imgur.com/DjeBwOU.png\">\n",
    "    <a href=\"https://santri.eu/en/faq/rwd\">圖片來源</a>\n",
    "</div>"
   ]
  },
  {
   "cell_type": "markdown",
   "metadata": {
    "slideshow": {
     "slide_type": "subslide"
    }
   },
   "source": [
    "<img src=\"https://i.imgur.com/y1iQFO7.png\">\n",
    "上面的方法是改變html的外觀，<br>\n",
    "來有另外兩種實作方式是，根據不同的尺寸顯示不同的網站(換個網址)，或是載入不同的CSS檔"
   ]
  },
  {
   "cell_type": "markdown",
   "metadata": {
    "slideshow": {
     "slide_type": "subslide"
    }
   },
   "source": [
    "### 每寫一個網站，就要自己寫一堆 html 和 CSS 好麻煩...\n",
    "\n",
    "<img src=\"https://i.imgur.com/3TUjDFX.png\">"
   ]
  },
  {
   "cell_type": "markdown",
   "metadata": {
    "slideshow": {
     "slide_type": "subslide"
    }
   },
   "source": [
    "<img src=\"https://i.imgur.com/tLYEzr4.png\">"
   ]
  },
  {
   "cell_type": "markdown",
   "metadata": {
    "slideshow": {
     "slide_type": "subslide"
    }
   },
   "source": [
    "<img src=\"https://i.imgur.com/b828TIz.png\">"
   ]
  },
  {
   "cell_type": "markdown",
   "metadata": {
    "slideshow": {
     "slide_type": "subslide"
    }
   },
   "source": [
    "<img src=\"https://i.imgur.com/7d7mfWH.png\">"
   ]
  },
  {
   "cell_type": "markdown",
   "metadata": {
    "slideshow": {
     "slide_type": "subslide"
    }
   },
   "source": [
    "<img src=\"https://i.imgur.com/v3WpO7f.png\">\n",
    "使用上只要先引用 [Bootstrape](https://getbootstrap.com/) 的 CSS 跟 Javascript file 即可，它也提供各種主題(部落格，電商用，管理頁面...)的常用網頁元件。"
   ]
  },
  {
   "cell_type": "markdown",
   "metadata": {
    "slideshow": {
     "slide_type": "subslide"
    }
   },
   "source": [
    "<img src=\"https://i.imgur.com/DiPD45A.png\">\n",
    "可以快速做出圖中的元件，像是導覽列，下拉選單，按鈕效果，Tab分頁，幻燈片..."
   ]
  },
  {
   "cell_type": "markdown",
   "metadata": {
    "slideshow": {
     "slide_type": "subslide"
    }
   },
   "source": [
    "<img src=\"https://i.imgur.com/XjIf97r.png\">\n",
    "一行 CSS 都不用自己寫，只要使用它定義好的 class 就可以做出圖中的網站"
   ]
  },
  {
   "cell_type": "markdown",
   "metadata": {
    "slideshow": {
     "slide_type": "subslide"
    }
   },
   "source": [
    "<img src=\"https://i.imgur.com/PondOtk.png\">\n",
    "當然 CSS framework 也不會只有一種，各種風格都有 👍"
   ]
  },
  {
   "cell_type": "markdown",
   "metadata": {
    "slideshow": {
     "slide_type": "subslide"
    }
   },
   "source": [
    "<img src=\"https://i.imgur.com/suisGwb.png\">"
   ]
  },
  {
   "cell_type": "markdown",
   "metadata": {
    "slideshow": {
     "slide_type": "subslide"
    }
   },
   "source": [
    "<img src=\"https://i.imgur.com/w1QNAfZ.png\">\n",
    "網路上也有很多別人寫好的主題，歡迎使用(有些要付費)，你也可以把它改成自己想要的樣子。"
   ]
  },
  {
   "cell_type": "markdown",
   "metadata": {
    "slideshow": {
     "slide_type": "subslide"
    }
   },
   "source": [
    "像這個網站叫做 [html 5 up](https://html5up.net/)。 上面有很多免費主題。<br>\n",
    "\"一開始“，這些現成的主題通常會比自己做得好看，你可能會開始覺得直接改就好，就不再自己寫了。\n",
    "<img src=\"https://i.imgur.com/Z3FFXqY.png\">"
   ]
  },
  {
   "cell_type": "markdown",
   "metadata": {
    "slideshow": {
     "slide_type": "subslide"
    }
   },
   "source": [
    "<img src=\"https://i.imgur.com/Dii1j92.png\">"
   ]
  },
  {
   "cell_type": "markdown",
   "metadata": {
    "slideshow": {
     "slide_type": "subslide"
    }
   },
   "source": [
    "<img src=\"https://i.imgur.com/2NST9XB.png\">"
   ]
  },
  {
   "cell_type": "markdown",
   "metadata": {
    "slideshow": {
     "slide_type": "subslide"
    }
   },
   "source": [
    "### 雖然長老這樣說，但在座的各位畢竟也不是學CS 或網頁專業的，如果你的目的也只是想要有個很潮的網頁，怎麼寫出來不管的話，那的確不用再往下鑽研沒錯啦.... 畢竟學到這裡就可以做(改)出各種花枝招展的個人網頁了。\n",
    "<img src=\"https://i.imgur.com/2v0EBID.png\">\n",
    "[網頁連結](https://w3layouts.com/personal/)"
   ]
  },
  {
   "cell_type": "markdown",
   "metadata": {
    "slideshow": {
     "slide_type": "slide"
    }
   },
   "source": [
    "<img src=\"https://i.imgur.com/wVI8sZk.png\">"
   ]
  },
  {
   "cell_type": "markdown",
   "metadata": {
    "slideshow": {
     "slide_type": "subslide"
    }
   },
   "source": [
    "<img src=\"https://i.imgur.com/LH8NWZJ.png\">"
   ]
  },
  {
   "cell_type": "markdown",
   "metadata": {
    "slideshow": {
     "slide_type": "slide"
    }
   },
   "source": [
    "<img src=\"https://i.imgur.com/8A3Ed5I.png\">"
   ]
  },
  {
   "cell_type": "markdown",
   "metadata": {
    "slideshow": {
     "slide_type": "subslide"
    }
   },
   "source": [
    "<img src=\"https://i.imgur.com/66CDoys.png\">"
   ]
  },
  {
   "cell_type": "markdown",
   "metadata": {
    "slideshow": {
     "slide_type": "subslide"
    }
   },
   "source": [
    "<img src=\"https://i.imgur.com/GraYDCv.png\">"
   ]
  },
  {
   "cell_type": "markdown",
   "metadata": {
    "slideshow": {
     "slide_type": "subslide"
    }
   },
   "source": [
    "### 但你寫者寫者可能就會發現 Javascript 有點囉唆...\n",
    "<img src=\"https://i.imgur.com/LqWwuuN.png\">"
   ]
  },
  {
   "cell_type": "markdown",
   "metadata": {
    "slideshow": {
     "slide_type": "subslide"
    }
   },
   "source": [
    "<img src=\"https://i.imgur.com/3UdKAAI.png\">"
   ]
  },
  {
   "cell_type": "markdown",
   "metadata": {
    "slideshow": {
     "slide_type": "subslide"
    }
   },
   "source": [
    "<img src=\"https://i.imgur.com/6TxcJLS.png\">"
   ]
  },
  {
   "cell_type": "markdown",
   "metadata": {
    "slideshow": {
     "slide_type": "subslide"
    }
   },
   "source": [
    "<img src=\"https://i.imgur.com/FWCU7x8.png\">"
   ]
  },
  {
   "cell_type": "markdown",
   "metadata": {
    "slideshow": {
     "slide_type": "subslide"
    }
   },
   "source": [
    "很多場合都可以用 jQuery（誤）\n",
    "<img src=\"https://i.stack.imgur.com/ssRUr.gif\">"
   ]
  },
  {
   "cell_type": "markdown",
   "metadata": {
    "slideshow": {
     "slide_type": "subslide"
    }
   },
   "source": [
    "<img src=\"https://i.imgur.com/UL3FR11.png\">"
   ]
  },
  {
   "cell_type": "markdown",
   "metadata": {
    "slideshow": {
     "slide_type": "subslide"
    }
   },
   "source": [
    "因為 Todo List 會需要做 html 的增加，刪除，修改，而一般網頁多數的操作也是這幾個，因此只要會寫 Todo List，基本的網頁互動通常就會寫了。\n",
    "<img src=\"https://i.imgur.com/g6xhYvZ.png\">"
   ]
  },
  {
   "cell_type": "markdown",
   "metadata": {
    "slideshow": {
     "slide_type": "slide"
    }
   },
   "source": [
    "### 你在寫 JS 的時候可能會發現一些問題\n",
    "\n",
    "<img src=\"https://i.imgur.com/tx0fMe7.png\">\n",
    "想學好JS, Scope 與型別的觀念必須要很清楚。\n",
    "[圖片來源](http://blog.mclain.ca/tag/bitcoin/)"
   ]
  },
  {
   "cell_type": "markdown",
   "metadata": {
    "slideshow": {
     "slide_type": "subslide"
    }
   },
   "source": [
    "<img src=\"https://i.imgur.com/Bj0dd5E.png\">"
   ]
  },
  {
   "cell_type": "markdown",
   "metadata": {
    "slideshow": {
     "slide_type": "subslide"
    }
   },
   "source": [
    "<img src=\"https://i.imgur.com/E9qQqkD.png\">"
   ]
  },
  {
   "cell_type": "markdown",
   "metadata": {
    "slideshow": {
     "slide_type": "subslide"
    }
   },
   "source": [
    "<img src=\"https://i.imgur.com/WaOsC36.png\">\n",
    "此外出了模組化 import export 等用法"
   ]
  },
  {
   "cell_type": "markdown",
   "metadata": {
    "slideshow": {
     "slide_type": "subslide"
    }
   },
   "source": [
    "但 Javascript 一般是在瀏覽器上面跑的，而瀏覽器有很多個，他們不見得都能跑最新的JS(使用者也不見得會更新)\n",
    "<img src=\"https://i.imgur.com/FZ7QhdJ.png\">"
   ]
  },
  {
   "cell_type": "markdown",
   "metadata": {
    "slideshow": {
     "slide_type": "subslide"
    }
   },
   "source": [
    "<img src=\"https://i.imgur.com/TCut7pd.png\">"
   ]
  },
  {
   "cell_type": "markdown",
   "metadata": {
    "slideshow": {
     "slide_type": "subslide"
    }
   },
   "source": [
    "<img src=\"https://i.imgur.com/UihSsKk.png\">"
   ]
  },
  {
   "cell_type": "markdown",
   "metadata": {
    "slideshow": {
     "slide_type": "subslide"
    }
   },
   "source": [
    "<img src=\"https://i.imgur.com/YuqioQA.png\">"
   ]
  },
  {
   "cell_type": "markdown",
   "metadata": {
    "slideshow": {
     "slide_type": "subslide"
    }
   },
   "source": [
    "<img src=\"https://i.imgur.com/3hW3pNw.png\">"
   ]
  },
  {
   "cell_type": "markdown",
   "metadata": {
    "slideshow": {
     "slide_type": "subslide"
    }
   },
   "source": [
    "<img src=\"https://i.imgur.com/kcrmOiR.png\">"
   ]
  },
  {
   "cell_type": "markdown",
   "metadata": {
    "slideshow": {
     "slide_type": "subslide"
    }
   },
   "source": [
    "<img src=\"https://i.imgur.com/0Oc5jsh.png\">"
   ]
  },
  {
   "cell_type": "markdown",
   "metadata": {
    "slideshow": {
     "slide_type": "subslide"
    }
   },
   "source": [
    "### 有想放棄的感覺嗎？\n",
    "\n",
    "\n",
    "<img src=\"https://i.imgur.com/d663nX3.png\">"
   ]
  },
  {
   "cell_type": "markdown",
   "metadata": {
    "slideshow": {
     "slide_type": "slide"
    }
   },
   "source": [
    "### 既然接觸過 python ，你可能會想 JS 有沒有像 pip這種東西"
   ]
  },
  {
   "cell_type": "markdown",
   "metadata": {
    "slideshow": {
     "slide_type": "subslide"
    }
   },
   "source": [
    "<img src=\"https://i.imgur.com/9Yp4sms.png\">"
   ]
  },
  {
   "cell_type": "markdown",
   "metadata": {
    "slideshow": {
     "slide_type": "subslide"
    }
   },
   "source": [
    "有，你有NPM，裡面各種各樣的套件都有，就連 [\"判斷是不是13\"](https://github.com/jezen/is-thirteen) 的套件都有喔 👍\n",
    "<img src=\"https://i.imgur.com/qicMWXh.png\">"
   ]
  },
  {
   "cell_type": "markdown",
   "metadata": {
    "slideshow": {
     "slide_type": "slide"
    }
   },
   "source": [
    "### 我很熟Javascript了，那 Javascript 只能在瀏覽器上跑嗎？\n",
    "\n",
    "~~我有一把錘子了，哪裡還有釘子嗎？~~"
   ]
  },
  {
   "cell_type": "markdown",
   "metadata": {
    "slideshow": {
     "slide_type": "subslide"
    }
   },
   "source": [
    "<img src=\"https://i.imgur.com/mTE1aU8.png\">"
   ]
  },
  {
   "cell_type": "markdown",
   "metadata": {
    "slideshow": {
     "slide_type": "subslide"
    }
   },
   "source": [
    "<img src=\"https://i.imgur.com/C7RGGfl.png\">"
   ]
  },
  {
   "cell_type": "markdown",
   "metadata": {
    "slideshow": {
     "slide_type": "slide"
    }
   },
   "source": [
    "<img src=\"https://i.imgur.com/Vgvce2m.png\">"
   ]
  },
  {
   "cell_type": "markdown",
   "metadata": {
    "slideshow": {
     "slide_type": "subslide"
    }
   },
   "source": [
    "<img src=\"https://i.imgur.com/u0Vbg0K.png\">"
   ]
  },
  {
   "cell_type": "markdown",
   "metadata": {
    "slideshow": {
     "slide_type": "subslide"
    }
   },
   "source": [
    "<img src=\"https://i.imgur.com/72twesD.pngg\">"
   ]
  },
  {
   "cell_type": "markdown",
   "metadata": {
    "slideshow": {
     "slide_type": "subslide"
    }
   },
   "source": [
    "<img src=\"https://i.imgur.com/oH4wrhP.png\">"
   ]
  },
  {
   "cell_type": "markdown",
   "metadata": {
    "slideshow": {
     "slide_type": "subslide"
    }
   },
   "source": [
    "<img src=\"https://i.imgur.com/R4IzyKu.png\">"
   ]
  },
  {
   "cell_type": "markdown",
   "metadata": {
    "slideshow": {
     "slide_type": "slide"
    }
   },
   "source": [
    "<img src=\"https://i.imgur.com/Jmrr6EK.png\">"
   ]
  },
  {
   "cell_type": "markdown",
   "metadata": {
    "slideshow": {
     "slide_type": "subslide"
    }
   },
   "source": [
    "<img src=\"https://i.imgur.com/eIKs2UD.png\">\n",
    "你通常要再學會資料庫存取語法 \"SQL\"。"
   ]
  },
  {
   "cell_type": "markdown",
   "metadata": {
    "slideshow": {
     "slide_type": "subslide"
    }
   },
   "source": [
    "<img src=\"https://i.imgur.com/PhUOMQD.png\">"
   ]
  },
  {
   "cell_type": "markdown",
   "metadata": {
    "slideshow": {
     "slide_type": "subslide"
    }
   },
   "source": [
    "<img src=\"https://i.imgur.com/YkYRI9C.png\">"
   ]
  },
  {
   "cell_type": "markdown",
   "metadata": {
    "slideshow": {
     "slide_type": "subslide"
    }
   },
   "source": [
    "### 當然還有很多東西需要學，如果要走得遠，後面還會有安全問題，優化問題，負載問題等坑。\n",
    "寫一個 100個人用的系統，跟寫 1000000人用的系統會碰到的問題是不同層次的。"
   ]
  },
  {
   "cell_type": "markdown",
   "metadata": {
    "slideshow": {
     "slide_type": "subslide"
    }
   },
   "source": [
    "但有個好處是，在後端，你可以用各種語言來寫，你可以用 python 或 GO, 或JAVA 或 node.js 或 php.... 都可以"
   ]
  },
  {
   "cell_type": "markdown",
   "metadata": {
    "slideshow": {
     "slide_type": "subslide"
    }
   },
   "source": [
    "### 此外，當你學會基本的後端資料庫存取之後，其實你就可以寫自己的部落格(有登入)了，而當你會寫部落格，你可以再挑戰論壇。而當你會寫論壇以後，你幾乎可以寫出各種大型服務的簡易版本，如臉書 / airbnb... ，你會具有能獨立開發工具的能力，只是介面看人能力，可能不會很漂亮就是了。"
   ]
  },
  {
   "cell_type": "markdown",
   "metadata": {
    "slideshow": {
     "slide_type": "slide"
    }
   },
   "source": [
    "<img src=\"https://i.imgur.com/0M1uLdE.png\">"
   ]
  },
  {
   "cell_type": "markdown",
   "metadata": {
    "slideshow": {
     "slide_type": "subslide"
    }
   },
   "source": [
    "<img src=\"https://i.imgur.com/TWo5kPh.png\">"
   ]
  },
  {
   "cell_type": "markdown",
   "metadata": {
    "slideshow": {
     "slide_type": "subslide"
    }
   },
   "source": [
    "### 前端框架大亂鬥？"
   ]
  },
  {
   "cell_type": "markdown",
   "metadata": {
    "slideshow": {
     "slide_type": "subslide"
    }
   },
   "source": [
    "<img src=\"https://i.imgur.com/judFHI5.png\">"
   ]
  },
  {
   "cell_type": "markdown",
   "metadata": {
    "slideshow": {
     "slide_type": "subslide"
    }
   },
   "source": [
    "<img src=\"https://i.imgur.com/pyqa6ZN.png\">"
   ]
  },
  {
   "cell_type": "markdown",
   "metadata": {
    "slideshow": {
     "slide_type": "subslide"
    }
   },
   "source": [
    "<img src=\"https://i.imgur.com/UtYZlgX.png\">"
   ]
  },
  {
   "cell_type": "markdown",
   "metadata": {
    "slideshow": {
     "slide_type": "subslide"
    }
   },
   "source": [
    "### 為了解決這些問題，各大技術龍頭開發了各種框架\n",
    "\n",
    "<img src=\"https://i.imgur.com/7pPucEU.png\">\n",
    "\n",
    "[圖片來源 reactjs-vs-angular5-vs-vue-js-what-to-choose-in-2018](https://medium.com/@TechMagic/reactjs-vs-angular5-vs-vue-js-what-to-choose-in-2018-b91e028fa91d)"
   ]
  },
  {
   "cell_type": "markdown",
   "metadata": {
    "slideshow": {
     "slide_type": "subslide"
    }
   },
   "source": [
    "### 出現了各種論戰，各種比較文...\n",
    "<img src=\"https://i.imgur.com/rf6ZOvj.jpg\">\n",
    "[圖片來源](http://blog.debugme.eu/react-vs-angular2/)"
   ]
  },
  {
   "cell_type": "markdown",
   "metadata": {
    "slideshow": {
     "slide_type": "subslide"
    }
   },
   "source": [
    "<img src=\"https://i.imgur.com/F7aKFCT.png\">"
   ]
  },
  {
   "cell_type": "markdown",
   "metadata": {
    "slideshow": {
     "slide_type": "subslide"
    }
   },
   "source": [
    "當你學了 A 技術，可能隔年 A 技術又出了新版本要重新學，可能後年又出了完全不一樣的新技術B，然後大後年...\n",
    "<img src=\"https://i.imgur.com/jG5p0Cc.png\">\n",
    "在這段\"終身學習\" 的過程中你會開始懷疑人生"
   ]
  },
  {
   "cell_type": "markdown",
   "metadata": {
    "slideshow": {
     "slide_type": "subslide"
    }
   },
   "source": [
    "### 總地來說，沒有最好的套件，只有最適合的套件，根據狀況選擇工具即可\n",
    "\n",
    "<img src=\"https://i.imgur.com/HzA5k2c.png\">"
   ]
  },
  {
   "cell_type": "markdown",
   "metadata": {
    "slideshow": {
     "slide_type": "subslide"
    }
   },
   "source": [
    "### 初學網頁的話，可當作上面沒看到，真的有需要的話先學好 jQuery，之後熟了可以再摸 Vue.js"
   ]
  },
  {
   "cell_type": "markdown",
   "metadata": {
    "slideshow": {
     "slide_type": "subslide"
    }
   },
   "source": [
    "### 不過現在 JavaScript 語法很多地方都可以用，你可以寫遊戲，也可以寫VRAR，也可以寫手機APP，算是泛用性很高的投資。"
   ]
  },
  {
   "cell_type": "markdown",
   "metadata": {
    "slideshow": {
     "slide_type": "slide"
    }
   },
   "source": [
    "## 現在有興趣嗎？\n",
    "現在就打開 [codecademy](https://www.codecademy.com/catalog/subject/all) 來學吧!\n",
    "\n",
    "<img src=\"https://i.imgur.com/ehOc4yf.png\">"
   ]
  },
  {
   "cell_type": "markdown",
   "metadata": {
    "slideshow": {
     "slide_type": "subslide"
    }
   },
   "source": [
    "### 題外話\n",
    "- Programmer: 會寫程式的人\n",
    "- Software Developer: 有能力完成專案的人\n",
    "- Software Engineer: 有能力在\"有限的時間\"跟\"有限的預算\"內完成專案的人"
   ]
  },
  {
   "cell_type": "markdown",
   "metadata": {
    "slideshow": {
     "slide_type": "subslide"
    }
   },
   "source": [
    "### References\n",
    "\n",
    "- [零基礎的小明要如何成為前端工程師？](https://medium.com/hulis-blog/frontend-engineer-guide-297821512f4e)"
   ]
  },
  {
   "cell_type": "markdown",
   "metadata": {
    "slideshow": {
     "slide_type": "subslide"
    }
   },
   "source": [
    "### 如果你好奇的話...\n",
    "\n",
    "簡報使用的圖片都是從 [openclipart](https://openclipart.org/) 來的，他是開放圖庫。\n",
    "<img src=\"https://i.imgur.com/Y164Nvx.png\">"
   ]
  },
  {
   "cell_type": "markdown",
   "metadata": {
    "slideshow": {
     "slide_type": "subslide"
    }
   },
   "source": [
    "### 你問那些圖是怎麼做的？\n",
    "\n",
    "powerpoint啊\n",
    "<img src=\"https://i.imgur.com/0c0o3ro.png\">"
   ]
  }
 ],
 "metadata": {
  "celltoolbar": "Slideshow",
  "kernelspec": {
   "display_name": "Python 3",
   "language": "python",
   "name": "python3"
  },
  "language_info": {
   "codemirror_mode": {
    "name": "ipython",
    "version": 3
   },
   "file_extension": ".py",
   "mimetype": "text/x-python",
   "name": "python",
   "nbconvert_exporter": "python",
   "pygments_lexer": "ipython3",
   "version": "3.6.2"
  }
 },
 "nbformat": 4,
 "nbformat_minor": 2
}
