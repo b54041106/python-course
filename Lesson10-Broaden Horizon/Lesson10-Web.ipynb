{
 "cells": [
  {
   "cell_type": "markdown",
   "metadata": {
    "slideshow": {
     "slide_type": "slide"
    }
   },
   "source": [
    "# [X-Village] Lesson10 - Ｗeb 淺談\n",
    "### by 伯駿"
   ]
  },
  {
   "cell_type": "markdown",
   "metadata": {
    "slideshow": {
     "slide_type": "subslide"
    }
   },
   "source": [
    "接下來的時間你會學到\n",
    "- 為什麼學網頁？\n",
    "- 網頁的組成\n",
    "- 網頁的學習路線 (Roadmap)"
   ]
  },
  {
   "cell_type": "markdown",
   "metadata": {
    "slideshow": {
     "slide_type": "slide"
    }
   },
   "source": [
    "## 1. 為什麼學網頁"
   ]
  },
  {
   "cell_type": "markdown",
   "metadata": {
    "slideshow": {
     "slide_type": "subslide"
    }
   },
   "source": [
    "### 先別管為什麼學網頁了，你知道 簡報 (PPT/Keynote) 是幹嘛用的嗎？\n",
    "\n",
    "<img src=\"https://i.imgur.com/j7afENz.png\">"
   ]
  },
  {
   "cell_type": "markdown",
   "metadata": {
    "slideshow": {
     "slide_type": "subslide"
    }
   },
   "source": [
    "### 跟報紙，書籍一樣，只是個媒介，協助你傳遞資訊，分享想法。\n",
    "\n",
    "spread/share idea, information"
   ]
  },
  {
   "cell_type": "markdown",
   "metadata": {
    "slideshow": {
     "slide_type": "subslide"
    }
   },
   "source": [
    "### 而 Web 也是如此\n",
    "### 其最基本的用途就像簡報，是個協助傳遞資訊的媒介，但更便利，能更大範圍分享，呈現想法。\n",
    "\n",
    "個人網頁，活動網頁，公司網頁..."
   ]
  },
  {
   "cell_type": "markdown",
   "metadata": {
    "slideshow": {
     "slide_type": "subslide"
    }
   },
   "source": [
    "### Web 只有這樣嗎？"
   ]
  },
  {
   "cell_type": "markdown",
   "metadata": {
    "slideshow": {
     "slide_type": "subslide"
    }
   },
   "source": [
    "你還看過什麼網頁？\n",
    "\n",
    "FB，Netflex，Airbnb，蝦皮，Hahow...\n",
    "他們有什麼共通點？"
   ]
  },
  {
   "cell_type": "markdown",
   "metadata": {
    "slideshow": {
     "slide_type": "subslide"
    }
   },
   "source": [
    "共通點: 都是服務 (資訊分享，知識學習，解決問題，社交，娛樂...)"
   ]
  },
  {
   "cell_type": "markdown",
   "metadata": {
    "slideshow": {
     "slide_type": "subslide"
    }
   },
   "source": [
    "\n",
    "此外，這類網站不像 PPT 只是單純呈現資訊，他們能處理使用者的資料。\n",
    "\n",
    "也就是說，開發者可以用 web 來實作服務。"
   ]
  },
  {
   "cell_type": "markdown",
   "metadata": {
    "slideshow": {
     "slide_type": "-"
    }
   },
   "source": [
    "### 這也是第二個用途\n",
    "\n",
    "你能用他開發自己想用的工具/服務/平台/遊戲...。"
   ]
  },
  {
   "cell_type": "markdown",
   "metadata": {
    "slideshow": {
     "slide_type": "subslide"
    }
   },
   "source": [
    "### 為什麼學網頁？\n",
    "- 你能用更好的管道來傳達，分享資訊，想法。\n",
    "- 你能自己開發工具，快速測試想法，構建自己所想的服務。"
   ]
  },
  {
   "cell_type": "markdown",
   "metadata": {
    "slideshow": {
     "slide_type": "slide"
    }
   },
   "source": [
    "## 2. 網頁的的組成"
   ]
  },
  {
   "cell_type": "markdown",
   "metadata": {
    "slideshow": {
     "slide_type": "subslide"
    }
   },
   "source": [
    "### 你所看到的網頁可以他由三部分組成：\n",
    "\n",
    "<img src=\"https://i.imgur.com/6tuQ9BT.png\">"
   ]
  },
  {
   "cell_type": "markdown",
   "metadata": {
    "slideshow": {
     "slide_type": "subslide"
    }
   },
   "source": [
    "<img src=\"https://i.imgur.com/AcS1vqw.png\">"
   ]
  },
  {
   "cell_type": "markdown",
   "metadata": {
    "slideshow": {
     "slide_type": "subslide"
    }
   },
   "source": [
    "<img src=\"https://i.imgur.com/9w4tY34.png\">"
   ]
  },
  {
   "cell_type": "markdown",
   "metadata": {
    "slideshow": {
     "slide_type": "subslide"
    }
   },
   "source": [
    "<img src=\"https://i.imgur.com/Ql29JiN.png\">"
   ]
  },
  {
   "cell_type": "markdown",
   "metadata": {
    "slideshow": {
     "slide_type": "subslide"
    }
   },
   "source": [
    "### 上述瀏覽器解析HTML, CSS, JS後顯示的內容也是UI，而在瀏覽器處理的這些部分我們稱之為網頁前端。\n",
    "你傳給瀏覽器的東西，使用者都看得到，你的網頁在瀏覽器做的事，使用者都能做。 \n",
    "<img src=\"https://i.imgur.com/tSe18KA.png\">"
   ]
  },
  {
   "cell_type": "markdown",
   "metadata": {
    "slideshow": {
     "slide_type": "subslide"
    }
   },
   "source": [
    "### 那伺服器端需要做什麼？\n",
    "\n",
    "<img src=\"https://i.imgur.com/9S1IgVF.png\">"
   ]
  },
  {
   "cell_type": "markdown",
   "metadata": {
    "slideshow": {
     "slide_type": "subslide"
    }
   },
   "source": [
    "### 基本用途\n",
    "- 可以從剛剛的圖想到，就是根據你說的 url /後的路徑提供指定的檔案給你。 <br>\n",
    "(怎麼根據 https://netdbncku.github.io 找到這台伺服器是[路由器]()的事)\n",
    "\n",
    "<img src=\"https://i.imgur.com/m8r9rIl.png\">"
   ]
  },
  {
   "cell_type": "markdown",
   "metadata": {
    "slideshow": {
     "slide_type": "subslide"
    }
   },
   "source": [
    "### 進階用途\n",
    "- 要能根據你的 Request 給予相應的內容，處理資料邏輯，身份認證(登入)，與資料庫的溝通\n",
    "\n",
    "<img src=\"https://i.imgur.com/s8or72R.png\">"
   ]
  },
  {
   "cell_type": "markdown",
   "metadata": {
    "slideshow": {
     "slide_type": "subslide"
    }
   },
   "source": [
    "## 左邊的伺服器端通常稱為後端\n",
    "\n",
    "你可以用 python 或 node.js 或 Go 或 php 或 JAVA... 來寫\n",
    "<img src=\"https://i.imgur.com/u3AMHfS.png\">"
   ]
  },
  {
   "cell_type": "markdown",
   "metadata": {
    "slideshow": {
     "slide_type": "subslide"
    }
   },
   "source": [
    "#### 如果沒有前端，你的資料無法良好的呈現給使用者。\n",
    "#### 如果沒有能處理資料的後端，你的網頁每次呈現給使用者的內容都會一樣。"
   ]
  },
  {
   "cell_type": "markdown",
   "metadata": {
    "slideshow": {
     "slide_type": "slide"
    }
   },
   "source": [
    "## 3. 網頁的學習路線 (Roadmap)"
   ]
  },
  {
   "cell_type": "code",
   "execution_count": null,
   "metadata": {
    "slideshow": {
     "slide_type": "subslide"
    }
   },
   "outputs": [],
   "source": []
  }
 ],
 "metadata": {
  "celltoolbar": "Slideshow",
  "kernelspec": {
   "display_name": "Python 3",
   "language": "python",
   "name": "python3"
  },
  "language_info": {
   "codemirror_mode": {
    "name": "ipython",
    "version": 3
   },
   "file_extension": ".py",
   "mimetype": "text/x-python",
   "name": "python",
   "nbconvert_exporter": "python",
   "pygments_lexer": "ipython3",
   "version": "3.6.2"
  }
 },
 "nbformat": 4,
 "nbformat_minor": 2
}
