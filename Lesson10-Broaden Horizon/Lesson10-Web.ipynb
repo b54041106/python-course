{
 "cells": [
  {
   "cell_type": "markdown",
   "metadata": {
    "slideshow": {
     "slide_type": "slide"
    }
   },
   "source": [
    "# [X-Village] Lesson10 - Ｗeb 淺談\n",
    "### by 伯駿"
   ]
  },
  {
   "cell_type": "markdown",
   "metadata": {
    "slideshow": {
     "slide_type": "subslide"
    }
   },
   "source": [
    "接下來的時間你會學到\n",
    "- 為什麼學網頁？\n",
    "- 網頁的組成\n",
    "- 網頁的學習路線 (Roadmap)"
   ]
  },
  {
   "cell_type": "markdown",
   "metadata": {
    "slideshow": {
     "slide_type": "slide"
    }
   },
   "source": [
    "## 1. 為什麼學網頁"
   ]
  },
  {
   "cell_type": "markdown",
   "metadata": {
    "slideshow": {
     "slide_type": "subslide"
    }
   },
   "source": [
    "### 先別管為什麼學網頁了，你知道 簡報 (PPT/Keynote) 是幹嘛用的嗎？\n",
    "\n",
    "<img src=\"https://i.imgur.com/j7afENz.png\">"
   ]
  },
  {
   "cell_type": "markdown",
   "metadata": {
    "slideshow": {
     "slide_type": "subslide"
    }
   },
   "source": [
    "### 跟報紙，書籍一樣，只是個媒介，協助你傳遞資訊，分享想法。\n",
    "\n",
    "spread/share idea, information"
   ]
  },
  {
   "cell_type": "markdown",
   "metadata": {
    "slideshow": {
     "slide_type": "subslide"
    }
   },
   "source": [
    "### 而 Web 也是如此\n",
    "### 其最基本的用途就像簡報，是個協助傳遞資訊的媒介，但更便利，能更大範圍分享，呈現想法。\n",
    "\n",
    "像是個人網頁，活動網頁，公司網頁..."
   ]
  },
  {
   "cell_type": "markdown",
   "metadata": {
    "slideshow": {
     "slide_type": "subslide"
    }
   },
   "source": [
    "### 那Web 只有這樣嗎？"
   ]
  },
  {
   "cell_type": "markdown",
   "metadata": {
    "slideshow": {
     "slide_type": "subslide"
    }
   },
   "source": [
    "你還看過什麼網頁？\n",
    "\n",
    "FB，Netflex，Airbnb，蝦皮，Hahow...\n",
    "他們有什麼共通點？"
   ]
  },
  {
   "cell_type": "markdown",
   "metadata": {
    "slideshow": {
     "slide_type": "subslide"
    }
   },
   "source": [
    "共通點: 都是服務 (資訊分享，知識學習，解決問題，社交，娛樂...)"
   ]
  },
  {
   "cell_type": "markdown",
   "metadata": {
    "slideshow": {
     "slide_type": "subslide"
    }
   },
   "source": [
    "\n",
    "此外，這類網站不像 PPT 只是單純呈現資訊，他們能處理使用者的資料。\n",
    "\n",
    "也就是說，開發者可以用 web 來實作服務。"
   ]
  },
  {
   "cell_type": "markdown",
   "metadata": {
    "slideshow": {
     "slide_type": "-"
    }
   },
   "source": [
    "### 這也是第二個用途\n",
    "\n",
    "你能用他開發自己想用的工具/服務/平台/遊戲...。"
   ]
  },
  {
   "cell_type": "markdown",
   "metadata": {
    "slideshow": {
     "slide_type": "subslide"
    }
   },
   "source": [
    "### 為什麼學網頁？\n",
    "- 你能用更好的管道來傳達，分享資訊，想法。\n",
    "- 你能自己開發工具，快速測試想法，構建自己所想的服務。"
   ]
  },
  {
   "cell_type": "markdown",
   "metadata": {
    "slideshow": {
     "slide_type": "slide"
    }
   },
   "source": [
    "## 2. 網頁的的組成"
   ]
  },
  {
   "cell_type": "markdown",
   "metadata": {
    "slideshow": {
     "slide_type": "subslide"
    }
   },
   "source": [
    "### 你所看到的網頁可以他由三部分組成：\n",
    "\n",
    "<img src=\"https://i.imgur.com/6tuQ9BT.png\">"
   ]
  },
  {
   "cell_type": "markdown",
   "metadata": {
    "slideshow": {
     "slide_type": "subslide"
    }
   },
   "source": [
    "<img src=\"https://i.imgur.com/AcS1vqw.png\">"
   ]
  },
  {
   "cell_type": "markdown",
   "metadata": {
    "slideshow": {
     "slide_type": "subslide"
    }
   },
   "source": [
    "<img src=\"https://i.imgur.com/9w4tY34.png\">"
   ]
  },
  {
   "cell_type": "markdown",
   "metadata": {
    "slideshow": {
     "slide_type": "subslide"
    }
   },
   "source": [
    "<img src=\"https://i.imgur.com/Ql29JiN.png\">"
   ]
  },
  {
   "cell_type": "markdown",
   "metadata": {
    "slideshow": {
     "slide_type": "subslide"
    }
   },
   "source": [
    "### 上述瀏覽器解析HTML, CSS, JS後顯示的內容也是UI，而在瀏覽器處理的這些部分我們稱之為網頁前端。\n",
    "你傳給瀏覽器的東西，使用者都看得到，你的網頁在瀏覽器做的事，使用者都能做。 \n",
    "<img src=\"https://i.imgur.com/tSe18KA.png\">"
   ]
  },
  {
   "cell_type": "markdown",
   "metadata": {
    "slideshow": {
     "slide_type": "subslide"
    }
   },
   "source": [
    "### 那伺服器端需要做什麼？\n",
    "\n",
    "<img src=\"https://i.imgur.com/9S1IgVF.png\">"
   ]
  },
  {
   "cell_type": "markdown",
   "metadata": {
    "slideshow": {
     "slide_type": "subslide"
    }
   },
   "source": [
    "### 基本用途\n",
    "- 可以從剛剛的圖想到，就是根據你說的 url /後的路徑提供指定的檔案給你。 <br>\n",
    "(怎麼根據 https://netdbncku.github.io 找到這台伺服器是[路由器]()的事)\n",
    "- 如果你的後端只是個放檔案的地方，你的網站的內容都寫死在code裡要改內容必須改code，則這種網站稱為靜態網站。\n",
    "\n",
    "<img src=\"https://i.imgur.com/m8r9rIl.png\">"
   ]
  },
  {
   "cell_type": "markdown",
   "metadata": {
    "slideshow": {
     "slide_type": "subslide"
    }
   },
   "source": [
    "### 進階用途\n",
    "- 要能根據你的 Request 給予相應的內容，處理資料邏輯，身份認證(登入)，與資料庫的溝通\n",
    "\n",
    "<img src=\"https://i.imgur.com/s8or72R.png\">"
   ]
  },
  {
   "cell_type": "markdown",
   "metadata": {
    "slideshow": {
     "slide_type": "subslide"
    }
   },
   "source": [
    "## 左邊的伺服器端通常稱為後端\n",
    "\n",
    "你可以用 python 或 node.js 或 Go 或 php 或 JAVA... 來寫\n",
    "<img src=\"https://i.imgur.com/u3AMHfS.png\">"
   ]
  },
  {
   "cell_type": "markdown",
   "metadata": {
    "slideshow": {
     "slide_type": "subslide"
    }
   },
   "source": [
    "#### 如果沒有前端，你的資料無法良好的呈現給使用者。\n",
    "#### 如果沒有能處理資料的後端，你的網頁每次呈現給使用者的內容都會一樣。(不改code)\n"
   ]
  },
  {
   "cell_type": "markdown",
   "metadata": {
    "slideshow": {
     "slide_type": "subslide"
    }
   },
   "source": [
    "### 如何讓別人看到我寫好的網站?\n",
    "\n",
    "我們需要有個網址對吧？<br>\n",
    "\n",
    "如果你想把你寫好的網站給別人看，無論如何你都需要一個別人可以連上的雲端空間來放你的 html (可能還有css, javascript)檔案。<br>\n",
    "但如果你沒有要能處理資料的後端(網站只是單純顯示資訊)，也不在乎你的網址是 https://xxxx..github.io/yyyy or http://ooxxxzz.xxx <br>  \n",
    "那麼\"別人可以連上的雲端空間\" 可以是 Github。  你只要把你的網頁檔案丟上 Github ，然後在Setting內設定一下即可。\n"
   ]
  },
  {
   "cell_type": "markdown",
   "metadata": {
    "slideshow": {
     "slide_type": "slide"
    }
   },
   "source": [
    "## 3. 網頁的學習路線 (Roadmap)\n",
    "\n",
    "程序猿 Z 的成長故事\n",
    "<img src=\"https://i.imgur.com/yOcdEdL.png\">"
   ]
  },
  {
   "cell_type": "markdown",
   "metadata": {
    "slideshow": {
     "slide_type": "subslide"
    }
   },
   "source": [
    "<div style=\"width: 700px; height: 600px; background-color: black;\">\n",
    "    <img src=\"https://i.imgur.com/h1Uf2nZ.png\">\n",
    "</div>"
   ]
  },
  {
   "cell_type": "markdown",
   "metadata": {
    "slideshow": {
     "slide_type": "subslide"
    }
   },
   "source": [
    "<div style=\"width: 700px; height: 600px;\">\n",
    "    <img src=\"https://i.imgur.com/FDCCGJu.png\">\n",
    "</div>"
   ]
  },
  {
   "cell_type": "markdown",
   "metadata": {},
   "source": [
    "<div style=\"width: 700px; height: 600px; background-color: black;\">\n",
    "    <img src=\"https://i.imgur.com/ckxoIYM.png\">\n",
    "</div>"
   ]
  },
  {
   "cell_type": "markdown",
   "metadata": {
    "slideshow": {
     "slide_type": "subslide"
    }
   },
   "source": [
    "<div style=\"width: 700px; height: 600px;\">\n",
    "    <img src=\"https://i.imgur.com/qvorNfU.png\">\n",
    "</div>"
   ]
  },
  {
   "cell_type": "markdown",
   "metadata": {
    "slideshow": {
     "slide_type": "subslide"
    }
   },
   "source": [
    "<div style=\"width: 700px; height: 600px;\">\n",
    "    <img src=\"https://i.imgur.com/DjeBwOU.png\">\n",
    "    <a href=\"https://santri.eu/en/faq/rwd\">圖片來源</a>\n",
    "</div>"
   ]
  },
  {
   "cell_type": "markdown",
   "metadata": {
    "slideshow": {
     "slide_type": "subslide"
    }
   },
   "source": [
    "<img src=\"https://i.imgur.com/y1iQFO7.png\">\n",
    "上面的方法是改變html的外觀，<br>\n",
    "來有另外兩種實作方式是，根據不同的尺寸顯示不同的網站(換個網址)，或是載入不同的CSS檔"
   ]
  },
  {
   "cell_type": "markdown",
   "metadata": {
    "slideshow": {
     "slide_type": "subslide"
    }
   },
   "source": [
    "### 每寫一個網站，就要自己寫一堆 CSS 好麻煩...\n",
    "\n",
    "<img src=\"https://i.imgur.com/3TUjDFX.png\">"
   ]
  },
  {
   "cell_type": "markdown",
   "metadata": {
    "slideshow": {
     "slide_type": "subslide"
    }
   },
   "source": [
    "<img src=\"https://i.imgur.com/KYEcLdq.png\">"
   ]
  },
  {
   "cell_type": "markdown",
   "metadata": {
    "slideshow": {
     "slide_type": "subslide"
    }
   },
   "source": [
    "<img src=\"https://i.imgur.com/4uIRc44.png\">"
   ]
  },
  {
   "cell_type": "markdown",
   "metadata": {
    "slideshow": {
     "slide_type": "subslide"
    }
   },
   "source": [
    "<img src=\"https://i.imgur.com/v3WpO7f.png\">\n",
    "使用上只要先引用他的 CSS 跟 Javascript file 即可，它也提供各種主題(部落格，電商用，管理頁面...)的常用網頁元件。"
   ]
  },
  {
   "cell_type": "markdown",
   "metadata": {
    "slideshow": {
     "slide_type": "subslide"
    }
   },
   "source": [
    "<img src=\"https://i.imgur.com/DiPD45A.png\">\n",
    "可以快速做出圖中的元件，像是導覽列，下拉選單，按鈕效果，Tab分頁，幻燈片..."
   ]
  },
  {
   "cell_type": "markdown",
   "metadata": {
    "slideshow": {
     "slide_type": "subslide"
    }
   },
   "source": [
    "<img src=\"https://i.imgur.com/XjIf97r.png\">\n",
    "一行 CSS 都不用自己寫，只要使用它定義好的 class 就可以做出圖中的網站"
   ]
  },
  {
   "cell_type": "markdown",
   "metadata": {
    "slideshow": {
     "slide_type": "subslide"
    }
   },
   "source": [
    "<img src=\"https://i.imgur.com/PondOtk.png\">\n",
    "當然 CSS framework 也不會只有一種，各種風格都有 👍"
   ]
  },
  {
   "cell_type": "markdown",
   "metadata": {
    "slideshow": {
     "slide_type": "subslide"
    }
   },
   "source": [
    "<img src=\"https://i.imgur.com/SAmeqNo.png\">"
   ]
  },
  {
   "cell_type": "markdown",
   "metadata": {
    "slideshow": {
     "slide_type": "subslide"
    }
   },
   "source": [
    "<img src=\"https://i.imgur.com/w1QNAfZ.png\">\n",
    "網路上也有很多別人寫好的主題，歡迎使用(有些要付費)，你也可以把它改成自己想要的樣子。"
   ]
  },
  {
   "cell_type": "markdown",
   "metadata": {
    "slideshow": {
     "slide_type": "subslide"
    }
   },
   "source": [
    "像這個網站叫做 [html 5 up](https://html5up.net/)。 上面有很多免費主題。<br>\n",
    "\"一開始“，這些現成的主題通常會比自己做得好看，你可能會開始覺得直接改就好，就不再自己寫了。\n",
    "<img src=\"https://i.imgur.com/Z3FFXqY.png\">"
   ]
  },
  {
   "cell_type": "markdown",
   "metadata": {},
   "source": [
    "<img src=\"https://i.imgur.com/wUlvWIO.png\">"
   ]
  },
  {
   "cell_type": "markdown",
   "metadata": {},
   "source": [
    "<img src=\"https://i.imgur.com/Lf1wcMs.png\">"
   ]
  },
  {
   "cell_type": "markdown",
   "metadata": {
    "slideshow": {
     "slide_type": "subslide"
    }
   },
   "source": [
    "### 雖然長老這樣說，但在座的各位畢竟也不是學CS 或網頁專業的，如果你的目的也只是想要有個很潮的網頁，怎麼寫出來不管的話，那的確不用再往下鑽研沒錯啦.... 畢竟學到這裡就可以做(改)出各種花枝招展的個人網頁了。\n",
    "<img src=\"https://i.imgur.com/2v0EBID.png\">\n",
    "[網頁連結](https://w3layouts.com/personal/)"
   ]
  },
  {
   "cell_type": "markdown",
   "metadata": {
    "slideshow": {
     "slide_type": "slide"
    }
   },
   "source": [
    "<img src=\"https://i.imgur.com/wVI8sZk.png\">"
   ]
  },
  {
   "cell_type": "markdown",
   "metadata": {
    "slideshow": {
     "slide_type": "subslide"
    }
   },
   "source": [
    "<img src=\"https://i.imgur.com/LH8NWZJ.png\">"
   ]
  },
  {
   "cell_type": "markdown",
   "metadata": {
    "slideshow": {
     "slide_type": "subslide"
    }
   },
   "source": [
    "<img src=\"https://i.imgur.com/Cuxmwkr.png\">"
   ]
  },
  {
   "cell_type": "markdown",
   "metadata": {
    "slideshow": {
     "slide_type": "subslide"
    }
   },
   "source": [
    "<img src=\"https://i.imgur.com/GraYDCv.png\">"
   ]
  },
  {
   "cell_type": "markdown",
   "metadata": {
    "slideshow": {
     "slide_type": "subslide"
    }
   },
   "source": [
    "### 但你寫者寫者可能就會發現 Javascript 有點囉唆...\n",
    "<img src=\"https://i.imgur.com/LqWwuuN.png\">"
   ]
  },
  {
   "cell_type": "markdown",
   "metadata": {
    "slideshow": {
     "slide_type": "subslide"
    }
   },
   "source": [
    "<img src=\"https://i.imgur.com/3UdKAAI.png\">"
   ]
  },
  {
   "cell_type": "markdown",
   "metadata": {
    "slideshow": {
     "slide_type": "subslide"
    }
   },
   "source": [
    "<img src=\"https://i.imgur.com/FWCU7x8.png\">"
   ]
  },
  {
   "cell_type": "markdown",
   "metadata": {
    "slideshow": {
     "slide_type": "subslide"
    }
   },
   "source": [
    "很多場合都可以用 jQuery（誤）\n",
    "<img src=\"https://i.stack.imgur.com/ssRUr.gif\">"
   ]
  },
  {
   "cell_type": "markdown",
   "metadata": {
    "slideshow": {
     "slide_type": "subslide"
    }
   },
   "source": [
    "<img src=\"https://i.imgur.com/RT6rJuO.png\">"
   ]
  },
  {
   "cell_type": "markdown",
   "metadata": {
    "slideshow": {
     "slide_type": "subslide"
    }
   },
   "source": [
    "因為 Todo List 會需要做 html 的增加，刪除，修改，而一般網頁多數的操作也是這幾個，因此只要會寫 Todo List，基本的網頁互動通常就會寫了。\n",
    "<img src=\"https://i.imgur.com/g6xhYvZ.png\">"
   ]
  },
  {
   "cell_type": "markdown",
   "metadata": {
    "slideshow": {
     "slide_type": "slide"
    }
   },
   "source": [
    "### 你在寫 JS 的時候可能會發現一些問題\n",
    "\n",
    "<img src=\"https://i.imgur.com/Ozx9fBj.png\">\n",
    "想學好JS, Scope 與型別的觀念必須要很清楚。\n",
    "[圖片來源](http://blog.mclain.ca/tag/bitcoin/)"
   ]
  },
  {
   "cell_type": "markdown",
   "metadata": {
    "slideshow": {
     "slide_type": "subslide"
    }
   },
   "source": [
    "<img src=\"https://i.imgur.com/7Tjw3up.png\">"
   ]
  },
  {
   "cell_type": "markdown",
   "metadata": {
    "slideshow": {
     "slide_type": "subslide"
    }
   },
   "source": [
    "<img src=\"https://i.imgur.com/WaOsC36.png\">"
   ]
  },
  {
   "cell_type": "markdown",
   "metadata": {
    "slideshow": {
     "slide_type": "subslide"
    }
   },
   "source": [
    "但 Javascript 一般是在瀏覽器上面跑的，而瀏覽器有很多個，他們不見得都能跑最新的JS(使用者也不見得會更新)\n",
    "<img src=\"https://i.imgur.com/FZ7QhdJ.png\">"
   ]
  },
  {
   "cell_type": "markdown",
   "metadata": {
    "slideshow": {
     "slide_type": "subslide"
    }
   },
   "source": [
    "<img src=\"https://i.imgur.com/0eBxtXU.png\">"
   ]
  },
  {
   "cell_type": "markdown",
   "metadata": {
    "slideshow": {
     "slide_type": "subslide"
    }
   },
   "source": [
    "<img src=\"https://i.imgur.com/UihSsKk.png\">"
   ]
  },
  {
   "cell_type": "markdown",
   "metadata": {
    "slideshow": {
     "slide_type": "subslide"
    }
   },
   "source": [
    "<img src=\"https://i.imgur.com/jPDkfxb.png\">"
   ]
  },
  {
   "cell_type": "markdown",
   "metadata": {
    "slideshow": {
     "slide_type": "subslide"
    }
   },
   "source": [
    "<img src=\"https://i.imgur.com/3hW3pNw.png\">"
   ]
  },
  {
   "cell_type": "markdown",
   "metadata": {
    "slideshow": {
     "slide_type": "subslide"
    }
   },
   "source": [
    "<img src=\"https://i.imgur.com/0Oc5jsh.png\">"
   ]
  },
  {
   "cell_type": "markdown",
   "metadata": {
    "slideshow": {
     "slide_type": "slide"
    }
   },
   "source": [
    "### 既然接觸過 python ，你可能會想 JS 有沒有像 pip這種東西"
   ]
  },
  {
   "cell_type": "markdown",
   "metadata": {
    "slideshow": {
     "slide_type": "subslide"
    }
   },
   "source": [
    "有，你有NPM，裡面各種各樣的套件都有，就連 \"判斷是不是13\" 的套件都有\n",
    "<img src=\"https://i.imgur.com/qicMWXh.png\">"
   ]
  },
  {
   "cell_type": "markdown",
   "metadata": {
    "slideshow": {
     "slide_type": "slide"
    }
   },
   "source": [
    "### 我很熟Javascript了，那 Javascript 只能在瀏覽器上跑嗎？\n",
    "\n",
    "~~我有一把錘子了，哪裡還有釘子嗎？~~"
   ]
  },
  {
   "cell_type": "markdown",
   "metadata": {
    "slideshow": {
     "slide_type": "subslide"
    }
   },
   "source": [
    "<img src=\"https://i.imgur.com/C7RGGfl.png\">"
   ]
  },
  {
   "cell_type": "markdown",
   "metadata": {
    "slideshow": {
     "slide_type": "slide"
    }
   },
   "source": [
    "<img src=\"https://i.imgur.com/Y95Y45X.png\">"
   ]
  },
  {
   "cell_type": "markdown",
   "metadata": {
    "slideshow": {
     "slide_type": "subslide"
    }
   },
   "source": [
    "<img src=\"https://i.imgur.com/pD8LegC.png\">"
   ]
  },
  {
   "cell_type": "markdown",
   "metadata": {
    "slideshow": {
     "slide_type": "subslide"
    }
   },
   "source": [
    "<div style=\"width: 700px; height: 600px;\">\n",
    "    <img src=\"https://i.imgur.com/qvorNfU.png\">\n",
    "</div>"
   ]
  },
  {
   "cell_type": "code",
   "execution_count": null,
   "metadata": {},
   "outputs": [],
   "source": [
    "var myButton = document.querySelector('#foo');  # 選取 id 為 #foo 東西, JS 寫法\n",
    "var myButton = $('#foo') # jQuery 的寫法\n",
    "\n",
    "# 選取 \"另一個東西\" 的 code\n",
    "# 一段設定監聽這個東西被點擊\"會怎樣\"的 code\n",
    "# \"會怎樣\" 的 code, 一般是函式，裡面寫要怎麼 改動 \"另一個東西\"\n",
    "..."
   ]
  },
  {
   "cell_type": "code",
   "execution_count": null,
   "metadata": {
    "slideshow": {
     "slide_type": "subslide"
    }
   },
   "outputs": [],
   "source": [
    "剛才你已經學到了 html, css, 與 Javascript 的用途，基本上只要學會這三項就可實作出各種基本的網站了。"
   ]
  },
  {
   "cell_type": "code",
   "execution_count": null,
   "metadata": {},
   "outputs": [],
   "source": [
    "接下來要逐步往後面走"
   ]
  },
  {
   "cell_type": "markdown",
   "metadata": {},
   "source": [
    "但你在寫的過程中會發現，很多東西自己寫太累了，所以這時我們會用一些 CSS 的 framework, bootsrape"
   ]
  },
  {
   "cell_type": "code",
   "execution_count": null,
   "metadata": {},
   "outputs": [],
   "source": [
    "首先你已經知道 Javascript 可以操作html，發送 request，處理網頁邏輯了，但Javascript 有個缺點，他在，為此有人推出了 jQuery，jQuery"
   ]
  },
  {
   "cell_type": "code",
   "execution_count": null,
   "metadata": {},
   "outputs": [],
   "source": [
    "<head>\n",
    "    # html 的 head 裡面要先加這一行\n",
    "    <meta name=\"viewport\" content=\"width=device-width\"> \n",
    "</head>\n",
    "\n",
    "# 下面放在 css 裡面\n",
    "@media only screen and (max-width: 600px) { # 若螢幕寬度小於 600px, 啟用裡面的 CSS\n",
    "    body {\n",
    "        background-color: lightblue; \n",
    "    }\n",
    "}\n"
   ]
  },
  {
   "cell_type": "code",
   "execution_count": null,
   "metadata": {},
   "outputs": [],
   "source": [
    "接下來你只要學會用 JS 找到這個element, 修改 element, 新增element, 刪除 element, 你就可以開始做一個 實作出一個簡單的待辦事項"
   ]
  },
  {
   "cell_type": "code",
   "execution_count": null,
   "metadata": {},
   "outputs": [],
   "source": [
    "但是現在是 2018 年了，\n",
    "- RWD\n",
    "- 如果螢幕尺寸小於多少，要怎麼設計？"
   ]
  },
  {
   "cell_type": "code",
   "execution_count": null,
   "metadata": {},
   "outputs": [],
   "source": [
    "寫者寫者，你可能會發現，後來出了 ES6, 之後每年更新一次，"
   ]
  },
  {
   "cell_type": "code",
   "execution_count": null,
   "metadata": {},
   "outputs": [],
   "source": [
    "但因為要直接編譯JS的是瀏覽器，通常他們釋出新版本時，不會那麼快更新，為此我們需要有個轉換器轉換成也就是 babel,"
   ]
  },
  {
   "cell_type": "code",
   "execution_count": null,
   "metadata": {},
   "outputs": [],
   "source": [
    "但我們不一定只要轉換這個，像是我們也可能需要轉換別的，或是需要將一些流程自動化，後來就出了各種打包工具"
   ]
  },
  {
   "cell_type": "code",
   "execution_count": null,
   "metadata": {},
   "outputs": [],
   "source": [
    "我們開始需要 node 與 npm，"
   ]
  },
  {
   "cell_type": "code",
   "execution_count": null,
   "metadata": {},
   "outputs": [],
   "source": [
    "你要開始選方向了，你要專務在後端，還是專注在前端，還是你兩個\n",
    "\n",
    "會寫網頁 != 前端工程師\n",
    "兩個都會 != 全端"
   ]
  },
  {
   "cell_type": "code",
   "execution_count": null,
   "metadata": {},
   "outputs": [],
   "source": [
    "後端的話你需要了解，Database, SQL"
   ]
  },
  {
   "cell_type": "code",
   "execution_count": null,
   "metadata": {},
   "outputs": [],
   "source": [
    "還有登入的驗證機制"
   ]
  },
  {
   "cell_type": "code",
   "execution_count": null,
   "metadata": {},
   "outputs": [],
   "source": [
    "如果上面都會了，你可以開始寫個 部落格網站"
   ]
  },
  {
   "cell_type": "code",
   "execution_count": null,
   "metadata": {},
   "outputs": [],
   "source": [
    "部落格網站會了，可以開始寫個 論壇"
   ]
  },
  {
   "cell_type": "code",
   "execution_count": null,
   "metadata": {},
   "outputs": [],
   "source": [
    "會寫論壇後，你也可以開始寫一些服務的簡單版"
   ]
  },
  {
   "cell_type": "code",
   "execution_count": null,
   "metadata": {},
   "outputs": [],
   "source": [
    "不想走後端，專注前端"
   ]
  },
  {
   "cell_type": "code",
   "execution_count": null,
   "metadata": {},
   "outputs": [],
   "source": [
    "前端特效，需要用"
   ]
  },
  {
   "cell_type": "code",
   "execution_count": null,
   "metadata": {},
   "outputs": [],
   "source": [
    "2018年了，網頁開發也已經逐漸成熟，為了追求更快的瀏覽，更好的開發/維護效率，我們出了 react，vue，\n",
    "未來可能還有 web assembly"
   ]
  }
 ],
 "metadata": {
  "celltoolbar": "Slideshow",
  "kernelspec": {
   "display_name": "Python 3",
   "language": "python",
   "name": "python3"
  },
  "language_info": {
   "codemirror_mode": {
    "name": "ipython",
    "version": 3
   },
   "file_extension": ".py",
   "mimetype": "text/x-python",
   "name": "python",
   "nbconvert_exporter": "python",
   "pygments_lexer": "ipython3",
   "version": "3.6.2"
  }
 },
 "nbformat": 4,
 "nbformat_minor": 2
}
