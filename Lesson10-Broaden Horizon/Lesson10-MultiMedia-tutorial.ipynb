{
 "cells": [
  {
   "cell_type": "markdown",
   "metadata": {
    "slideshow": {
     "slide_type": "slide"
    }
   },
   "source": [
    "# [X-Village]淺談 MultiMedia\n",
    "\n",
    "by Rain"
   ]
  },
  {
   "cell_type": "markdown",
   "metadata": {
    "slideshow": {
     "slide_type": "subslide"
    }
   },
   "source": [
    "# <center>說說看</center>\n",
    "\n",
    "<br/>\n",
    "### <center>你們覺得怎樣算是 MultiMedia 呢?</center>"
   ]
  },
  {
   "cell_type": "markdown",
   "metadata": {
    "slideshow": {
     "slide_type": "subslide"
    }
   },
   "source": [
    "# <center>我自己覺得啦!! 並非正解</center>\n",
    "\n",
    "<br/>\n",
    "### <center>將多種媒體結合在一起來傳達資訊，像是...</center>"
   ]
  },
  {
   "cell_type": "markdown",
   "metadata": {
    "slideshow": {
     "slide_type": "subslide"
    }
   },
   "source": [
    "# <center>文字(包含顏文字)</center>"
   ]
  },
  {
   "cell_type": "markdown",
   "metadata": {
    "slideshow": {
     "slide_type": "fragment"
    }
   },
   "source": [
    "# <center>音樂</center>"
   ]
  },
  {
   "cell_type": "markdown",
   "metadata": {
    "slideshow": {
     "slide_type": "fragment"
    }
   },
   "source": [
    "# <center>圖像</center>"
   ]
  },
  {
   "cell_type": "markdown",
   "metadata": {
    "slideshow": {
     "slide_type": "subslide"
    }
   },
   "source": [
    "# <center>還有很多其他的</center>\n",
    "\n",
    "<br/>\n",
    "### <center>不過受限於時間，就先不提了</center>"
   ]
  },
  {
   "cell_type": "markdown",
   "metadata": {
    "slideshow": {
     "slide_type": "slide"
    }
   },
   "source": [
    "# <center>許多產業也有多媒體的應用</center>\n",
    "\n",
    "<br/>\n",
    "### <center>電影、音樂、動畫、遊戲、建築、運動、教育......</center>"
   ]
  },
  {
   "cell_type": "markdown",
   "metadata": {
    "slideshow": {
     "slide_type": "subslide"
    }
   },
   "source": [
    "# <center>這裡就先淺談遊戲的部分吧</center>\n",
    "\n",
    "<br/>\n",
    "* 遊戲企劃\n",
    "* 遊戲音效\n",
    "* 技術美術"
   ]
  },
  {
   "cell_type": "markdown",
   "metadata": {
    "slideshow": {
     "slide_type": "subslide"
    }
   },
   "source": [
    "# <center>遊戲企劃</center>\n",
    "---\n",
    "\n",
    "<br/>\n",
    "* 概念圖\n",
    "* 運鏡\n",
    "* 劇情"
   ]
  },
  {
   "cell_type": "markdown",
   "metadata": {
    "slideshow": {
     "slide_type": "subslide"
    }
   },
   "source": [
    "# <center>概念圖</center>\n",
    "---\n",
    "\n",
    "<br/>\n",
    "* 場景中腳色分布圖\n",
    "* 戰爭地圖\n",
    "* 遊戲流程圖"
   ]
  },
  {
   "cell_type": "markdown",
   "metadata": {
    "slideshow": {
     "slide_type": "subslide"
    }
   },
   "source": [
    "# <center>運鏡</center>\n",
    "---\n",
    "\n",
    "<br/>\n",
    "* 鏡頭敘事\n",
    "* 構圖"
   ]
  },
  {
   "cell_type": "markdown",
   "metadata": {
    "slideshow": {
     "slide_type": "subslide"
    }
   },
   "source": [
    "# <center>劇情</center>\n",
    "---\n",
    "\n",
    "<br/>\n",
    "* 劇情推進\n",
    "* 時空背景\n",
    "* 敘事角度"
   ]
  },
  {
   "cell_type": "markdown",
   "metadata": {
    "slideshow": {
     "slide_type": "subslide"
    }
   },
   "source": [
    "# <center>遊戲音效</center>\n",
    "---\n",
    "\n",
    "<br/>\n",
    "* 環境音效\n",
    "* 場地音效\n",
    "* 特效音效\n",
    "* 口白配音"
   ]
  },
  {
   "cell_type": "markdown",
   "metadata": {
    "slideshow": {
     "slide_type": "subslide"
    }
   },
   "source": [
    "# <center>環境音效</center>\n",
    "---\n",
    "\n",
    "<br/>\n",
    "* 時空背景\n",
    "* 地理位置\n",
    "* (e.g. 地下水道的滴水聲、城牆上會有風聲......)"
   ]
  },
  {
   "cell_type": "markdown",
   "metadata": {
    "slideshow": {
     "slide_type": "subslide"
    }
   },
   "source": [
    "# <center>內容參考</center>\n",
    "---\n",
    "\n",
    "<br/>\n",
    "* [遊戲音效](http://a85115230.pixnet.net/blog/post/364670916-%E9%81%8A%E6%88%B2%E9%9F%B3%E6%95%88%E8%A8%AD%E8%A8%88%E5%BF%85%E5%82%99%E7%9A%84%E6%8A%80%E5%B7%A7%EF%BC%9Aperfect-looping)"
   ]
  },
  {
   "cell_type": "code",
   "execution_count": null,
   "metadata": {},
   "outputs": [],
   "source": []
  }
 ],
 "metadata": {
  "celltoolbar": "Slideshow",
  "kernelspec": {
   "display_name": "Python 3",
   "language": "python",
   "name": "python3"
  },
  "language_info": {
   "codemirror_mode": {
    "name": "ipython",
    "version": 3
   },
   "file_extension": ".py",
   "mimetype": "text/x-python",
   "name": "python",
   "nbconvert_exporter": "python",
   "pygments_lexer": "ipython3",
   "version": "3.6.3"
  }
 },
 "nbformat": 4,
 "nbformat_minor": 2
}
