{
 "cells": [
  {
   "cell_type": "markdown",
   "metadata": {
    "slideshow": {
     "slide_type": "slide"
    }
   },
   "source": [
    "# [X-Village] Lesson10 - 淺談 MultiMedia\n",
    "\n",
    "by Rain"
   ]
  },
  {
   "cell_type": "markdown",
   "metadata": {
    "slideshow": {
     "slide_type": "subslide"
    }
   },
   "source": [
    "# <center>Outline</center>\n",
    "\n",
    "* 簡介 MultiMedia\n",
    "* 經驗分享\n",
    "* Unity 簡介"
   ]
  },
  {
   "cell_type": "markdown",
   "metadata": {
    "slideshow": {
     "slide_type": "slide"
    }
   },
   "source": [
    "# <center>說說看</center>\n",
    "\n",
    "<br/>\n",
    "### <center>你們覺得怎樣算是 MultiMedia 呢?</center>"
   ]
  },
  {
   "cell_type": "markdown",
   "metadata": {
    "slideshow": {
     "slide_type": "subslide"
    }
   },
   "source": [
    "# <center>我自己覺得啦!! 並非正解</center>\n",
    "\n",
    "<br/>\n",
    "### <center>將多種媒體結合在一起來傳達資訊，像是...</center>"
   ]
  },
  {
   "cell_type": "markdown",
   "metadata": {
    "slideshow": {
     "slide_type": "subslide"
    }
   },
   "source": [
    "# <center>文字(包含顏文字 OwO)</center>"
   ]
  },
  {
   "cell_type": "markdown",
   "metadata": {
    "slideshow": {
     "slide_type": "fragment"
    }
   },
   "source": [
    "# <center>音樂</center>"
   ]
  },
  {
   "cell_type": "markdown",
   "metadata": {
    "slideshow": {
     "slide_type": "fragment"
    }
   },
   "source": [
    "# <center>圖像</center>"
   ]
  },
  {
   "cell_type": "markdown",
   "metadata": {
    "slideshow": {
     "slide_type": "subslide"
    }
   },
   "source": [
    "# <center>還有很多其他的</center>\n",
    "\n",
    "<br/>\n",
    "### <center>不過受限於時間，就先不提了</center>"
   ]
  },
  {
   "cell_type": "markdown",
   "metadata": {
    "slideshow": {
     "slide_type": "slide"
    }
   },
   "source": [
    "# <center>許多產業也有多媒體的應用</center>\n",
    "\n",
    "<br/>\n",
    "### <center>電影、音樂、動畫、遊戲、建築、運動、教育......</center>"
   ]
  },
  {
   "cell_type": "markdown",
   "metadata": {
    "slideshow": {
     "slide_type": "subslide"
    }
   },
   "source": [
    "# <center>就來談談遊戲這一塊吧</center>\n",
    "\n",
    "<center>![](http://www.armygroup.com.tw/shop/images/201407/goods_img/16771054_P_1404741364546.jpg)</center>"
   ]
  },
  {
   "cell_type": "markdown",
   "metadata": {
    "slideshow": {
     "slide_type": "fragment"
    }
   },
   "source": [
    "* 妳們應該比較有興趣~\n",
    "* 我剛好有些涉獵，能和各位分享一些有趣的事~"
   ]
  },
  {
   "attachments": {},
   "cell_type": "markdown",
   "metadata": {
    "slideshow": {
     "slide_type": "subslide"
    }
   },
   "source": [
    "# <center>目前我接觸比較多的是程式部分</center>\n",
    "\n",
    "<center>![](https://free.com.tw/blog/wp-content/uploads/2017/01/Typing-Speed-Test48447084_m.jpg)</center>"
   ]
  },
  {
   "cell_type": "markdown",
   "metadata": {
    "slideshow": {
     "slide_type": "subslide"
    }
   },
   "source": [
    "#  <center>不過未來想轉職!!! 想成為技術美術!!!</center>\n",
    "\n",
    "<br/><br/>\n",
    "<center>就是會做美術的程式</center>\n",
    "<center>或是會寫程式的美術</center>"
   ]
  },
  {
   "cell_type": "markdown",
   "metadata": {
    "slideshow": {
     "slide_type": "subslide"
    }
   },
   "source": [
    "## <center>那....技術美術都在做什麼呢?</center>\n",
    "---"
   ]
  },
  {
   "cell_type": "markdown",
   "metadata": {
    "slideshow": {
     "slide_type": "fragment"
    }
   },
   "source": [
    "* 美術工具製作(e.g. Blender plugins, Maya Plugins)\n",
    "* 美術資源導入(e.g. 圖片規格、模型規格)\n",
    "* 美術特效(e.g. 渲染材質、場景特效、後處理)\n",
    "* 專案優化(e.g. LOD, 渲染優化)"
   ]
  },
  {
   "cell_type": "markdown",
   "metadata": {
    "slideshow": {
     "slide_type": "slide"
    }
   },
   "source": [
    "# <center>就來談談我最狂熱的美術特效吧!!</center>\n",
    "---\n",
    "\n",
    "<br/>\n",
    "* 渲染材質\n",
    "* 場景特效\n",
    "* 後處理"
   ]
  },
  {
   "cell_type": "markdown",
   "metadata": {
    "slideshow": {
     "slide_type": "subslide"
    }
   },
   "source": [
    "## <center>渲染材質 (e.g. 鋼鐵、玻璃、水面)</center>\n",
    "\n",
    "<br/>\n",
    "<center>![](https://news.steel-360.com/wp-content/uploads/2017/10/GST-on-Steel-610x259.jpg)</center>"
   ]
  },
  {
   "cell_type": "markdown",
   "metadata": {
    "slideshow": {
     "slide_type": "subslide"
    }
   },
   "source": [
    "## <center>場景特效 (e.g. 爆炸、傳送門、旋風)</center>\n",
    "\n",
    "<br/>\n",
    "<center>![](https://www.aboutcg.com/wp-content/uploads/2016/02/853_tut_news.jpg)</center>"
   ]
  },
  {
   "cell_type": "markdown",
   "metadata": {
    "slideshow": {
     "slide_type": "subslide"
    }
   },
   "source": [
    "## <center>後處理 (e.g. 動態模糊、畫面扭曲、過曝)</center>\n",
    "\n",
    "<br/>\n",
    "<center>![](http://doc.asika.tw/img/2011-1/592bdbac6d72_14CD6/clip_image080.jpg)</center>"
   ]
  },
  {
   "cell_type": "markdown",
   "metadata": {
    "slideshow": {
     "slide_type": "subslide"
    }
   },
   "source": [
    "# <center>如果要達成那些效果......</center>\n",
    "\n",
    "* 渲染管線(Rendering pipeline)<br/>\n",
    "    * 電腦畫出畫面的流程\n",
    "\n",
    "* 著色器(Shader)<br/>\n",
    "    * 對選染管線中的流程做特殊的操作\n",
    "\n",
    "* 影像處理(Image process)<br/>\n",
    "    * 要怎麼做才能達到我要的效果?"
   ]
  },
  {
   "cell_type": "markdown",
   "metadata": {
    "slideshow": {
     "slide_type": "slide"
    }
   },
   "source": [
    "## <center>有關於渲染管線.....</center>\n",
    "\n",
    "<br/>\n",
    "#### <center>他是 3D 電腦圖學的一部份</center>"
   ]
  },
  {
   "cell_type": "markdown",
   "metadata": {
    "slideshow": {
     "slide_type": "subslide"
    }
   },
   "source": [
    "## <center>3D 電腦圖學</center>\n",
    "\n",
    "<br/>\n",
    "* 建模 : 輸出具體的多面體資料\n",
    "* 渲染 : 根據多面體資料呈現螢幕上的畫面"
   ]
  },
  {
   "cell_type": "markdown",
   "metadata": {
    "slideshow": {
     "slide_type": "slide"
    }
   },
   "source": [
    "## <center>現在我們有....</center>\n",
    "\n",
    "<br/>\n",
    "* 點的資料\n",
    "* 邊的資料\n",
    "* 三角面/多邊形面的資料"
   ]
  },
  {
   "cell_type": "markdown",
   "metadata": {
    "slideshow": {
     "slide_type": "subslide"
    }
   },
   "source": [
    "## <center>從 點 開始!!</center>\n",
    "\n",
    "<br/>\n",
    "一個點可以有許多屬性，像是...\n",
    "* 空間座標(Coordinate)\n",
    "* 法向量 (Normal)\n",
    "* 顏色(Color)\n",
    "* 紋理座標(Texture Coordinate)\n",
    "* ...."
   ]
  },
  {
   "cell_type": "markdown",
   "metadata": {
    "slideshow": {
     "slide_type": "slide"
    }
   },
   "source": [
    "## <center>Step1. 物件座標系 → 空間座標系</center>\n",
    "\n",
    "<br/>\n",
    "* 每個多面體都有自己的物件座標\n",
    "* 當我們有多個多面體在同個場景時\n",
    "* 需要將它們轉換到同個座標"
   ]
  },
  {
   "cell_type": "markdown",
   "metadata": {
    "slideshow": {
     "slide_type": "subslide"
    }
   },
   "source": [
    "## <center>物件座標系 → 空間座標系(Unity)</center>\n",
    "\n",
    "<br/>\n",
    "<center>![](https://i.imgur.com/WgipR8T.png)</center>"
   ]
  },
  {
   "cell_type": "markdown",
   "metadata": {
    "slideshow": {
     "slide_type": "subslide"
    }
   },
   "source": [
    "## <center>空間座標系 → 視點座標系(Unity)</center>\n",
    "\n",
    "<br/>\n",
    "<center>![](https://i.imgur.com/Pd3yCFX.png)</center>"
   ]
  },
  {
   "cell_type": "code",
   "execution_count": null,
   "metadata": {},
   "outputs": [],
   "source": []
  }
 ],
 "metadata": {
  "celltoolbar": "Slideshow",
  "kernelspec": {
   "display_name": "Python 3",
   "language": "python",
   "name": "python3"
  },
  "language_info": {
   "codemirror_mode": {
    "name": "ipython",
    "version": 3
   },
   "file_extension": ".py",
   "mimetype": "text/x-python",
   "name": "python",
   "nbconvert_exporter": "python",
   "pygments_lexer": "ipython3",
   "version": "3.6.3"
  }
 },
 "nbformat": 4,
 "nbformat_minor": 2
}
