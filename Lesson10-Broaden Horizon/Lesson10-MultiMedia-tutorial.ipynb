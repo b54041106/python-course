{
 "cells": [
  {
   "cell_type": "markdown",
   "metadata": {
    "slideshow": {
     "slide_type": "slide"
    }
   },
   "source": [
    "# [X-Village] Lesson10 - 淺談 MultiMedia\n",
    "\n",
    "by Rain"
   ]
  },
  {
   "cell_type": "markdown",
   "metadata": {
    "slideshow": {
     "slide_type": "subslide"
    }
   },
   "source": [
    "# <center>Outline</center>\n",
    "\n",
    "* 簡介MultiMedia\n",
    "* 經驗分享\n",
    "* Unity 簡介"
   ]
  },
  {
   "cell_type": "markdown",
   "metadata": {
    "slideshow": {
     "slide_type": "slide"
    }
   },
   "source": [
    "# <center>說說看</center>\n",
    "\n",
    "<br/>\n",
    "### <center>你們覺得怎樣算是 MultiMedia 呢?</center>"
   ]
  },
  {
   "cell_type": "markdown",
   "metadata": {
    "slideshow": {
     "slide_type": "subslide"
    }
   },
   "source": [
    "# <center>我自己覺得啦!! 並非正解</center>\n",
    "\n",
    "<br/>\n",
    "### <center>將多種媒體結合在一起來傳達資訊</center>"
   ]
  },
  {
   "cell_type": "markdown",
   "metadata": {
    "slideshow": {
     "slide_type": "slide"
    }
   },
   "source": [
    "# <center>許多產業也有多媒體的應用</center>\n",
    "\n",
    "<br/>\n",
    "### <center>電影、音樂、動畫、遊戲、建築、運動、教育......</center>"
   ]
  },
  {
   "cell_type": "markdown",
   "metadata": {
    "slideshow": {
     "slide_type": "subslide"
    }
   },
   "source": [
    "# <center>就來談談遊戲這一塊吧</center>\n",
    "\n",
    "<center><img src=\"https://imgur.com/6LYvrlt.jpg\"></center>"
   ]
  },
  {
   "cell_type": "markdown",
   "metadata": {
    "slideshow": {
     "slide_type": "fragment"
    }
   },
   "source": [
    "* 妳們應該比較有興趣~\n",
    "* 我剛好有些涉獵，能和各位分享一些有趣的事~"
   ]
  },
  {
   "cell_type": "markdown",
   "metadata": {
    "slideshow": {
     "slide_type": "subslide"
    }
   },
   "source": [
    "# <center>目前我接觸比較多的是程式部分</center>\n",
    "\n",
    "<center><img src=\"https://imgur.com/kLFVkBC.jpg\"></center>"
   ]
  },
  {
   "cell_type": "markdown",
   "metadata": {
    "slideshow": {
     "slide_type": "subslide"
    }
   },
   "source": [
    "#  <center>不過未來想轉職!!! 想成為技術美術!!!</center>\n",
    "\n",
    "<br/><br/>\n",
    "<center>就是會做美術的程式</center>\n",
    "<center>或是會寫程式的美術</center>"
   ]
  },
  {
   "cell_type": "markdown",
   "metadata": {
    "slideshow": {
     "slide_type": "subslide"
    }
   },
   "source": [
    "## <center>那....技術美術都在做什麼呢?</center>\n",
    "---"
   ]
  },
  {
   "cell_type": "markdown",
   "metadata": {
    "slideshow": {
     "slide_type": "fragment"
    }
   },
   "source": [
    "* 美術工具製作(e.g. Blender plugins, Maya Plugins)\n",
    "* 美術資源導入(e.g. 圖片規格、模型規格)\n",
    "* 美術特效(e.g. 渲染材質、場景特效、後處理)\n",
    "* 專案優化(e.g. LOD, 渲染優化)"
   ]
  },
  {
   "cell_type": "markdown",
   "metadata": {
    "slideshow": {
     "slide_type": "slide"
    }
   },
   "source": [
    "# <center>就來談談我最狂熱的美術特效吧!!</center>\n",
    "---\n",
    "\n",
    "<br/>\n",
    "* 渲染材質：鏽蝕鎧甲、生物皮膚、玻璃\n",
    "* 場景特效：爆炸、傳送門、龍捲風\n",
    "* 後製處理：動態模糊、畫面扭曲、過曝"
   ]
  },
  {
   "cell_type": "markdown",
   "metadata": {
    "slideshow": {
     "slide_type": "subslide"
    }
   },
   "source": [
    "# <center>如果要達成那些效果......</center>\n",
    "\n",
    "* 渲染管線(Rendering pipeline)<br/>\n",
    "    * 電腦畫出畫面的流程\n",
    "\n",
    "* 著色器(Shader)<br/>\n",
    "    * 對選染管線中的流程做特殊的操作\n",
    "\n",
    "* 影像處理(Image process)<br/>\n",
    "    * 要怎麼做才能達到我要的效果?"
   ]
  },
  {
   "cell_type": "markdown",
   "metadata": {
    "slideshow": {
     "slide_type": "subslide"
    }
   },
   "source": [
    "## <center>就來談談渲染管線吧</center>\n",
    "\n",
    "<br/>\n",
    "#### <center>或許你們之後能夠用另一個角度來看多媒體畫面</center>"
   ]
  },
  {
   "cell_type": "markdown",
   "metadata": {
    "slideshow": {
     "slide_type": "subslide"
    }
   },
   "source": [
    "## <center>休息啦!</center>\n",
    "\n",
    "<br/>\n",
    "#### <center>10 分鐘</center>"
   ]
  },
  {
   "cell_type": "markdown",
   "metadata": {
    "slideshow": {
     "slide_type": "slide"
    }
   },
   "source": [
    "## <center>有關於渲染管線.....</center>\n",
    "\n",
    "<br/>\n",
    "#### <center>他是 3D 電腦圖學的一部份</center>"
   ]
  },
  {
   "cell_type": "markdown",
   "metadata": {
    "slideshow": {
     "slide_type": "subslide"
    }
   },
   "source": [
    "## <center>3D 電腦圖學</center>\n",
    "\n",
    "<br/>\n",
    "* 建模 : 輸出具體的多面體資料\n",
    "* 渲染 : 根據多面體資料呈現螢幕上的畫面"
   ]
  },
  {
   "cell_type": "markdown",
   "metadata": {
    "slideshow": {
     "slide_type": "slide"
    }
   },
   "source": [
    "## <center>現在我們有....</center>\n",
    "\n",
    "<br/>\n",
    "* 點的資料\n",
    "* 邊的資料\n",
    "* 三角面/多邊形面的資料"
   ]
  },
  {
   "cell_type": "markdown",
   "metadata": {
    "slideshow": {
     "slide_type": "subslide"
    }
   },
   "source": [
    "## <center>從 點 開始!!</center>\n",
    "\n",
    "<br/>\n",
    "一個點可以有許多屬性，像是...\n",
    "* 空間座標(Coordinate)\n",
    "* 法向量 (Normal)\n",
    "* 顏色(Color)\n",
    "* ...."
   ]
  },
  {
   "cell_type": "markdown",
   "metadata": {
    "slideshow": {
     "slide_type": "subslide"
    }
   },
   "source": [
    "<center><img src=\"https://i.imgur.com/NcI9ldG.png\"></center>"
   ]
  },
  {
   "cell_type": "markdown",
   "metadata": {
    "slideshow": {
     "slide_type": "slide"
    }
   },
   "source": [
    "## <center>Step1. 物件座標系 → 空間座標系</center>\n",
    "\n",
    "<br/>\n",
    "* 每個多面體都有自己的物件座標\n",
    "* 當有多個多面體在同個場景時\n",
    "* 需要將它們轉換到同個座標"
   ]
  },
  {
   "cell_type": "markdown",
   "metadata": {
    "slideshow": {
     "slide_type": "subslide"
    }
   },
   "source": [
    "<center><img src=\"https://imgur.com/OzFvo8p.png\"></center>\n",
    "\n",
    "#### <center>圖片來源： Unity</center>"
   ]
  },
  {
   "cell_type": "markdown",
   "metadata": {
    "slideshow": {
     "slide_type": "slide"
    }
   },
   "source": [
    "## <center>Step2. 空間座標系 → 視點座標系</center>\n",
    "\n",
    "<br/>\n",
    "* Z 軸座標會成為距離視點的遠近依據\n",
    "* 後期用於處理深度"
   ]
  },
  {
   "cell_type": "markdown",
   "metadata": {
    "slideshow": {
     "slide_type": "subslide"
    }
   },
   "source": [
    "## <center>視點坐標系</center>\n",
    "\n",
    "<center><img src=\"https://imgur.com/RXGtjV8.png\"></center>\n",
    "\n",
    "#### <center>圖片來源： 維基百科</center>"
   ]
  },
  {
   "cell_type": "markdown",
   "metadata": {
    "slideshow": {
     "slide_type": "slide"
    }
   },
   "source": [
    "## <center>Step3. 3D 投影</center>\n",
    "\n",
    "<br/>\n",
    "* 決定視野空間\n",
    "* 只有視野空間內的物體需要被繪製"
   ]
  },
  {
   "cell_type": "markdown",
   "metadata": {
    "slideshow": {
     "slide_type": "subslide"
    }
   },
   "source": [
    "## <center>截頭金字塔空間</center>\n",
    "\n",
    "<center><img src=\"https://imgur.com/ThqoJ3M.png\"></center>\n",
    "\n",
    "#### <center>圖片來源： 維基百科</center>"
   ]
  },
  {
   "cell_type": "markdown",
   "metadata": {
    "slideshow": {
     "slide_type": "subslide"
    }
   },
   "source": [
    "<center><div style=\"width: 50%;\"><img src=\"https://imgur.com/jWCKDEH.png\"></div></center>\n",
    "\n",
    "#### <center>圖片來源： OpenGL Tutorial</center>"
   ]
  },
  {
   "cell_type": "markdown",
   "metadata": {
    "slideshow": {
     "slide_type": "slide"
    }
   },
   "source": [
    "## <center>Step4. 光照運算</center>\n",
    "\n",
    "<br/>\n",
    "* 場景中可能會有光源\n",
    "* 需要計算光照影響\n",
    "* 光照會因為追求的效果可能在不同時間點進行"
   ]
  },
  {
   "cell_type": "markdown",
   "metadata": {
    "slideshow": {
     "slide_type": "subslide"
    }
   },
   "source": [
    "## <center>光線追蹤</center>\n",
    "\n",
    "<br/>\n",
    "* 追蹤視點發出的光線，而非光源\n",
    "* 有更逼真的模擬效果\n",
    "* 但十分消耗效能"
   ]
  },
  {
   "cell_type": "markdown",
   "metadata": {
    "slideshow": {
     "slide_type": "subslide"
    }
   },
   "source": [
    "<center><div style=\"width: 50%;\"><img src=\"https://imgur.com/Xm9cppD.png\"></div></center>\n",
    "\n",
    "#### <center>圖片來源： 維基百科</center>"
   ]
  },
  {
   "cell_type": "markdown",
   "metadata": {
    "slideshow": {
     "slide_type": "subslide"
    }
   },
   "source": [
    "<center><img src=\"https://imgur.com/TPgQXK2.png\"></center>\n",
    "\n",
    "#### <center>圖片來源： https://blog.csdn.net/wozhengtao/article/details/51137059</center>"
   ]
  },
  {
   "cell_type": "markdown",
   "metadata": {
    "slideshow": {
     "slide_type": "slide"
    }
   },
   "source": [
    "## <center>Step5. 視野範圍裁切</center>\n",
    "\n",
    "<br/>\n",
    "* 剔除視野空間外的物件\n",
    "* 減輕渲染負荷"
   ]
  },
  {
   "cell_type": "markdown",
   "metadata": {
    "slideshow": {
     "slide_type": "subslide"
    }
   },
   "source": [
    "## <center>剔除紅色截頭金字塔外的部分</center>\n",
    "\n",
    "<center><div style=\"width: 50%;\"><img src=\"https://imgur.com/jWCKDEH.png\"></div></center>\n",
    "\n",
    "#### <center>圖片來源： OpenGL Tutorial</center>"
   ]
  },
  {
   "cell_type": "markdown",
   "metadata": {
    "slideshow": {
     "slide_type": "slide"
    }
   },
   "source": [
    "## <center>Step6. 視窗坐標系轉換</center>\n",
    "\n",
    "<br/>\n",
    "* 轉換梯型空間為長方體空間\n",
    "* 視窗長寬即為長方體長寬"
   ]
  },
  {
   "cell_type": "markdown",
   "metadata": {
    "slideshow": {
     "slide_type": "subslide"
    }
   },
   "source": [
    "## <center>紅色長方體外的部分已經被剔除掉了</center>\n",
    "<center><div style=\"width: 50%;\"><img src=\"https://imgur.com/3DbEwYz.png\"></div></center>\n",
    "\n",
    "#### <center>圖片來源： OpenGL Tutorial</center>"
   ]
  },
  {
   "cell_type": "markdown",
   "metadata": {
    "slideshow": {
     "slide_type": "subslide"
    }
   },
   "source": [
    "## <center>轉為視窗長寬</center>\n",
    "\n",
    "<center><img src=\"https://imgur.com/dy9fvSg.gif\"></center>"
   ]
  },
  {
   "cell_type": "markdown",
   "metadata": {
    "slideshow": {
     "slide_type": "slide"
    }
   },
   "source": [
    "## <center>Step7. 光柵化</center>\n",
    "\n",
    "<br/>\n",
    "* 將一切圖形基元轉換為像素\n",
    "* 處理的對象從點變成了像素"
   ]
  },
  {
   "cell_type": "markdown",
   "metadata": {
    "slideshow": {
     "slide_type": "subslide"
    }
   },
   "source": [
    "<center><img src=\"https://imgur.com/rsH9l4p.png\"></center>"
   ]
  },
  {
   "cell_type": "markdown",
   "metadata": {
    "slideshow": {
     "slide_type": "slide"
    }
   },
   "source": [
    "## <center>Step8. 像素著色</center>\n",
    "\n",
    "<br/>\n",
    "* 材質紋理貼圖\n",
    "* 光照資訊\n",
    "* 深度處理\n",
    "* 雙重緩衝"
   ]
  },
  {
   "cell_type": "markdown",
   "metadata": {
    "slideshow": {
     "slide_type": "slide"
    }
   },
   "source": [
    "## <center>Step9. 後處理</center>\n",
    "\n",
    "<br/>\n",
    "* 濾鏡\n",
    "* 畫面扭曲\n",
    "* 雜訊"
   ]
  },
  {
   "cell_type": "markdown",
   "metadata": {
    "slideshow": {
     "slide_type": "slide"
    }
   },
   "source": [
    "## <center>還記得 Shader 嗎?</center>\n",
    "\n",
    "<br/>\n",
    "#### <center>他究竟是在哪個階段執行的呢?</center>"
   ]
  },
  {
   "cell_type": "markdown",
   "metadata": {
    "slideshow": {
     "slide_type": "subslide"
    }
   },
   "source": [
    "<center><img src=\"https://imgur.com/hC1joNo.png\"></center>\n",
    "\n",
    "#### <center>圖片來源： 維基百科</center>"
   ]
  },
  {
   "cell_type": "markdown",
   "metadata": {
    "slideshow": {
     "slide_type": "subslide"
    }
   },
   "source": [
    "## <center>休息啦!</center>\n",
    "\n",
    "<br/>\n",
    "#### <center>10 分鐘</center>"
   ]
  },
  {
   "cell_type": "markdown",
   "metadata": {
    "slideshow": {
     "slide_type": "subslide"
    }
   },
   "source": [
    "## 參考資料\n",
    "\n",
    "* [維基百科](https://en.wikipedia.org/wiki/Graphics_pipeline)\n",
    "* [維基百科](https://en.wikipedia.org/wiki/Ray_tracing_(graphics)\n",
    "* [OpenGL Tutorial](http://www.opengl-tutorial.org/beginners-tutorials/tutorial-3-matrices/)\n",
    "* https://blog.csdn.net/wozhengtao/article/details/51137059"
   ]
  }
 ],
 "metadata": {
  "celltoolbar": "Slideshow",
  "kernelspec": {
   "display_name": "Python 3",
   "language": "python",
   "name": "python3"
  },
  "language_info": {
   "codemirror_mode": {
    "name": "ipython",
    "version": 3
   },
   "file_extension": ".py",
   "mimetype": "text/x-python",
   "name": "python",
   "nbconvert_exporter": "python",
   "pygments_lexer": "ipython3",
   "version": "3.6.3"
  }
 },
 "nbformat": 4,
 "nbformat_minor": 2
}
