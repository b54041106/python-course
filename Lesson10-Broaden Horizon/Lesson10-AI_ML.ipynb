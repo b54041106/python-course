{
 "cells": [
  {
   "cell_type": "markdown",
   "metadata": {
    "slideshow": {
     "slide_type": "slide"
    }
   },
   "source": [
    "# [X-Village] Lesson10 - AI/ML Introduction\n",
    "Speaker: Amber (吳思嬋）"
   ]
  },
  {
   "cell_type": "markdown",
   "metadata": {
    "slideshow": {
     "slide_type": "subslide"
    }
   },
   "source": [
    "## 什麼是 AI ?"
   ]
  },
  {
   "cell_type": "markdown",
   "metadata": {
    "slideshow": {
     "slide_type": "subslide"
    }
   },
   "source": [
    "## 從應用的層面來看...\n",
    "* Google Alphago (2016)\n",
    "* [Google Duplex1 (2018)](https://www.youtube.com/watch?time_continue=58&v=47xJkeG9BZI)\n",
    "* [Google Duplex2 (2018)](https://www.youtube.com/watch?v=TjS_nXzwbN8)"
   ]
  },
  {
   "cell_type": "markdown",
   "metadata": {
    "slideshow": {
     "slide_type": "subslide"
    }
   },
   "source": [
    "## 從學術的觀點來看...\n",
    "---\n",
    "* 認知科學應用 (Cognitive Science)\n",
    "    * model 人類認知的過程 (ex. 學習與理解語言)\n",
    "* 知識工程 (Knowledge Engineering)\n",
    "    * 使用人類的知識來完成特定的任務\n",
    "* 解決問題的方法 (Problem-Solving Method) -- AI的核心\n",
    "    * 如何編碼和使用知識來找到最後的答案"
   ]
  },
  {
   "cell_type": "markdown",
   "metadata": {
    "slideshow": {
     "slide_type": "subslide"
    }
   },
   "source": [
    "## 總體來說... AI 就是 Making Rational Agents\n",
    "---\n",
    "Rational behaviour: 在擁有的資訊中，選取能實現目標的動作(action)\n",
    "<img src=\"https://i.imgur.com/FzNi90a.png\" width=450 height=180 />"
   ]
  },
  {
   "cell_type": "markdown",
   "metadata": {
    "slideshow": {
     "slide_type": "subslide"
    }
   },
   "source": [
    "## 範例1 - 設計吸塵器Agent\n",
    "---\n",
    "<img src=\"https://i.imgur.com/WwoHYt7.png\" width=450 height=180 />"
   ]
  },
  {
   "cell_type": "markdown",
   "metadata": {
    "slideshow": {
     "slide_type": "subslide"
    }
   },
   "source": [
    "##  我們設計的吸塵器擁有 Rationality 嗎？\n",
    "---\n",
    "對目標的定義，會影響到agent的執行結果。"
   ]
  },
  {
   "cell_type": "markdown",
   "metadata": {
    "slideshow": {
     "slide_type": "subslide"
    }
   },
   "source": [
    "## Rationality 的指標\n",
    "---\n",
    "* **Information gathering** - To maximize future rewards\n",
    "* **Learn from percepts** - Extending prior knowledge\n",
    "* **Agent autonomy** - Compensate for incorrect prior knowledge"
   ]
  },
  {
   "cell_type": "markdown",
   "metadata": {
    "slideshow": {
     "slide_type": "subslide"
    }
   },
   "source": [
    "## 學習型Agent (Learning agent) 架構\n",
    "---\n",
    "<img src=\"https://i.imgur.com/0nNtrL3.png\" width=600 height=300 />"
   ]
  },
  {
   "cell_type": "markdown",
   "metadata": {
    "slideshow": {
     "slide_type": "subslide"
    }
   },
   "source": [
    "## 實現 Rational Agent 的黑魔法\n",
    "---\n",
    "* 機器學習（Machine Learning）\n",
    "* 深度學習（Deep Learning）"
   ]
  },
  {
   "cell_type": "markdown",
   "metadata": {
    "slideshow": {
     "slide_type": "subslide"
    }
   },
   "source": [
    "## 什麼是機器學習(Machine Learning)\n",
    "---\n",
    "* 簡單來說，可以從過往的資料和經驗中學習，經過**訓練(Training)** 和 **預測(Predict)**，可以實現 Rational Agent。\n",
    "* 獲取數據 > 分析數據 > 建立模型(model) > 預測未來\n",
    "* 可以分為 監督式學習(Supervised learning), 非監督式學習(Un-supervised learning) 和 強化式學習(Reinforcement Learning)"
   ]
  },
  {
   "cell_type": "markdown",
   "metadata": {
    "slideshow": {
     "slide_type": "subslide"
    }
   },
   "source": [
    "什麼是深度學習(Deep Learning) - Alphago\n",
    "---\n",
    "深度學習(**深度類神經網路**)是機器學習的分支，透過模仿人類大腦的組成方式，來進行學習。"
   ]
  },
  {
   "cell_type": "markdown",
   "metadata": {
    "slideshow": {
     "slide_type": "subslide"
    }
   },
   "source": [
    "## 在黑魔法的背後是什麼？"
   ]
  },
  {
   "cell_type": "markdown",
   "metadata": {
    "slideshow": {
     "slide_type": "fragment"
    }
   },
   "source": [
    "## 是數學..."
   ]
  },
  {
   "cell_type": "markdown",
   "metadata": {
    "slideshow": {
     "slide_type": "fragment"
    }
   },
   "source": [
    "## 是數學!!!"
   ]
  },
  {
   "cell_type": "markdown",
   "metadata": {
    "slideshow": {
     "slide_type": "fragment"
    }
   },
   "source": [
    "## 大量的數學QQ"
   ]
  },
  {
   "cell_type": "markdown",
   "metadata": {
    "slideshow": {
     "slide_type": "subslide"
    }
   },
   "source": [
    "## 線性代數、演算法、微積分、機率論、統計學、..... \n",
    "---\n",
    "* [linear regression](https://en.wikipedia.org/wiki/Linear_regression)\n",
    "* [Polynomial regression](https://en.wikipedia.org/wiki/Polynomial_regression)\n",
    "* [logistic regression](https://en.wikipedia.org/wiki/Logistic_regression)\n",
    "* [Mean squared error](https://en.wikipedia.org/wiki/Mean_squared_error)\n",
    "* [Gradient descent](https://en.wikipedia.org/wiki/Gradient_descent)\n",
    "* [Normal equation](http://mlwiki.org/index.php/Normal_Equation)"
   ]
  },
  {
   "cell_type": "markdown",
   "metadata": {
    "slideshow": {
     "slide_type": "subslide"
    }
   },
   "source": [
    "## 對於數學頭痛的話，不要擔心，我們還有「多媒體應用」和「網頁開發」的選修可以選擇哦！"
   ]
  },
  {
   "cell_type": "markdown",
   "metadata": {
    "slideshow": {
     "slide_type": "subslide"
    }
   },
   "source": [
    "## AI 和 ML 有什麼不同？\n",
    "---\n",
    "* AI 就是建立 rational agent 來實現我們想要它實現的事(ex. 聊天機器人, 打掃機器人, 會下圍棋的機器人, 無人自駕車, 預約助理,...)  \n",
    "* ML 則是實現 AI 的眾多核心技術之一，它的背後是數學理論基礎。"
   ]
  },
  {
   "cell_type": "markdown",
   "metadata": {
    "slideshow": {
     "slide_type": "subslide"
    }
   },
   "source": [
    "## 在選修課中，我們會理論與實務並重，實務上以使用 [scikit-learn ](http://scikit-learn.org/stable/documentation.html)套件為主。"
   ]
  },
  {
   "cell_type": "markdown",
   "metadata": {
    "slideshow": {
     "slide_type": "subslide"
    }
   },
   "source": [
    "## 什麼是scikit-learn\n",
    "---\n",
    "Python 用來實現黑魔法的工具之一。"
   ]
  },
  {
   "cell_type": "markdown",
   "metadata": {
    "slideshow": {
     "slide_type": "subslide"
    }
   },
   "source": [
    "## 如何安裝  [scikit-learn ](http://scikit-learn.org/stable/documentation.html)\n",
    "---\n",
    "```pip3 install sklearn``` or ```pip install sklearn```"
   ]
  },
  {
   "cell_type": "markdown",
   "metadata": {
    "slideshow": {
     "slide_type": "subslide"
    }
   },
   "source": [
    "## 實務範例 - 分類 iris(鳶尾花)¶\n",
    "---\n",
    "如果你今天擁有setosa (山鳶尾), versicolor(變色鳶尾), virginica(維吉尼亞鳶尾)的花瓣大小, 花萼大小的資料  \n",
    "能不能藉由花瓣和花萼的特徵來分類資料？  \n",
    "<img src=\"https://i.imgur.com/meNOG6c.jpg\" width=400 height=300 />"
   ]
  },
  {
   "cell_type": "markdown",
   "metadata": {
    "slideshow": {
     "slide_type": "subslide"
    }
   },
   "source": [
    "## 遇到分類問題，想一想有哪些常用的分類演算法。\n",
    "---\n",
    "* [決策樹分類演算法(Decision Tree)](https://zh.wikipedia.org/wiki/%E5%86%B3%E7%AD%96%E6%A0%91)\n",
    "* [最近鄰居演算法(KNN)](https://zh.wikipedia.org/wiki/%E6%9C%80%E8%BF%91%E9%84%B0%E5%B1%85%E6%B3%95)\n",
    "* [支持向量機演算法(SVM)](https://zh.wikipedia.org/wiki/%E6%94%AF%E6%8C%81%E5%90%91%E9%87%8F%E6%9C%BA)\n",
    "* [隨機森林演算法(Random Decision Forests)](https://zh.wikipedia.org/wiki/%E9%9A%8F%E6%9C%BA%E6%A3%AE%E6%9E%97)"
   ]
  },
  {
   "cell_type": "markdown",
   "metadata": {
    "slideshow": {
     "slide_type": "subslide"
    }
   },
   "source": [
    "## 決策樹分類演算法\n",
    "---\n",
    "針對一系列資料特徵問是非問題，直到能將資料分群。\n",
    "<img src=\"https://i.imgur.com/Ad4xLJH.png\" width=500 height=300 />"
   ]
  },
  {
   "cell_type": "markdown",
   "metadata": {
    "slideshow": {
     "slide_type": "subslide"
    }
   },
   "source": [
    "<img src=\"https://i.imgur.com/XYDe8HF.png\" width=500 height=300 />"
   ]
  },
  {
   "cell_type": "markdown",
   "metadata": {
    "slideshow": {
     "slide_type": "subslide"
    }
   },
   "source": [
    "## [鳶尾花資料](https://drive.google.com/open?id=1gzNDFrDSfD2lFHokntf49-bfMVS-mqPq)\n",
    "---\n",
    "<img src=\"https://i.imgur.com/Un9wdlZ.png\" width=600 height=300 />"
   ]
  },
  {
   "cell_type": "markdown",
   "metadata": {
    "slideshow": {
     "slide_type": "subslide"
    }
   },
   "source": [
    "## 在sklearn中，有內建好的鳶尾花資料，我們該如何取得？"
   ]
  },
  {
   "cell_type": "code",
   "execution_count": 1,
   "metadata": {
    "slideshow": {
     "slide_type": "fragment"
    }
   },
   "outputs": [
    {
     "name": "stdout",
     "output_type": "stream",
     "text": [
      "Target_Name:  ['setosa' 'versicolor' 'virginica']\n",
      "Target: [0 0 0 0 0]\n",
      "Data:  [[ 5.1  3.5  1.4  0.2]\n",
      " [ 4.9  3.   1.4  0.2]\n",
      " [ 4.7  3.2  1.3  0.2]\n",
      " [ 4.6  3.1  1.5  0.2]\n",
      " [ 5.   3.6  1.4  0.2]]\n"
     ]
    }
   ],
   "source": [
    "from sklearn import datasets # 引入sklearn的資料集\n",
    "iris = datasets.load_iris() # 載入鳶尾花資料集\n",
    "print(\"Target_Name: \", iris.target_names) # 取出 target欄位的名稱 setosa (山鳶尾), versicolor (變色鳶尾), virginica (維吉尼亞鳶尾)\n",
    "print(\"Target:\",iris.target[:5]) # 印出 target 欄位的資料\n",
    "print(\"Data: \", iris.data[:5]) # 取出鳶尾花特徵資料 sepal（花萼） length, width;  peta（花瓣） length, width"
   ]
  },
  {
   "cell_type": "markdown",
   "metadata": {
    "slideshow": {
     "slide_type": "subslide"
    }
   },
   "source": [
    "## 取得資料後，我們需要將資料分成 訓練集(training data) 和 測試集 (testing data)\n",
    "---\n",
    "* training data: 用來建立模型(model)\n",
    "* testing data: 用來驗證模型(model)的訓練成果"
   ]
  },
  {
   "cell_type": "markdown",
   "metadata": {
    "slideshow": {
     "slide_type": "subslide"
    }
   },
   "source": [
    "## 使用 sklearn 工具幫助我們將資料分成 訓練集(training data) 和 測試集 (testing data)\n",
    "---\n",
    "* 常用的方法 [train_test_split](http://scikit-learn.org/0.16/modules/generated/sklearn.cross_validation.train_test_split.html)"
   ]
  },
  {
   "cell_type": "code",
   "execution_count": 2,
   "metadata": {
    "slideshow": {
     "slide_type": "fragment"
    }
   },
   "outputs": [
    {
     "name": "stdout",
     "output_type": "stream",
     "text": [
      "[[ 5.9  3.   4.2  1.5]\n",
      " [ 5.8  2.6  4.   1.2]\n",
      " [ 6.8  3.   5.5  2.1]\n",
      " [ 4.7  3.2  1.3  0.2]\n",
      " [ 6.9  3.1  5.1  2.3]] \n",
      " [1 1 2 0 2]\n"
     ]
    }
   ],
   "source": [
    "from sklearn import datasets \n",
    "from sklearn.model_selection import train_test_split # 引入 train_test_split 套件\n",
    "iris = datasets.load_iris()\n",
    "\n",
    "# X_train: 訓練集資料特徵, y_train: 訓練集分類target, X_test: 測試集資料特徵, y_test: 測試集分類target\n",
    "X_train, X_test, y_train, y_test = train_test_split(\n",
    "        iris.data, iris.target, random_state=0)\n",
    "\n",
    "print(X_train[:5], '\\n', y_train[:5]) # 印出前五筆資料"
   ]
  },
  {
   "cell_type": "markdown",
   "metadata": {
    "slideshow": {
     "slide_type": "subslide"
    }
   },
   "source": [
    "## 如何使用決策樹演算法？\n",
    "---\n",
    "* 在 sklearn 工具中，有已經寫好的 [決策樹分類演算法(Decision Tree)](http://scikit-learn.org/stable/modules/generated/sklearn.tree.DecisionTreeClassifier.html)，只要引入就能使用"
   ]
  },
  {
   "cell_type": "code",
   "execution_count": null,
   "metadata": {
    "slideshow": {
     "slide_type": "subslide"
    }
   },
   "outputs": [],
   "source": [
    "from sklearn import datasets # 引入 sklearn 的資料集\n",
    "from sklearn.model_selection import train_test_split # 引入 train_test_split 套件\n",
    "from sklearn.tree import DecisionTreeClassifier # 引入決策樹分類演算法套件\n",
    "\n",
    "iris = datasets.load_iris() # 載入鳶尾花資料\n",
    "X_train, X_test, y_train, y_test = train_test_split(\n",
    "        iris.data, iris.target, random_state=0) # 將資料分成訓練集和測試集\n",
    "\n",
    "# 使用決策樹分類演算法以及訓練集(training data)資料完成模型(model)的訓練\n",
    "'''\n",
    "請試著閱讀文件並完成這個部分\n",
    "'''\n",
    "# 完成模型(model)訓練後，使用測試集(testing data)資料進行模型(model)的驗證\n",
    "'''\n",
    "請試著閱讀文件並完成這個部分\n",
    "'''"
   ]
  },
  {
   "cell_type": "markdown",
   "metadata": {
    "slideshow": {
     "slide_type": "subslide"
    }
   },
   "source": [
    "## 使用工具看似簡單，但在AI/ML的背後，是需要眾多數學理論的基礎，請謹慎入坑。"
   ]
  },
  {
   "cell_type": "markdown",
   "metadata": {
    "slideshow": {
     "slide_type": "subslide"
    }
   },
   "source": [
    "## Q1: 課程會如何進行？\n",
    "---\n",
    "* 在目前規劃中，理論與實務並行，X-Village 團隊會根據實際情形調整課程內容。"
   ]
  },
  {
   "cell_type": "markdown",
   "metadata": {
    "slideshow": {
     "slide_type": "subslide"
    }
   },
   "source": [
    "## Q2: 如果數學基礎不足，還是很想學AI/ML相關技術，可以嗎？\n",
    "---\n",
    "當然可以，但我們強烈希望您擁有積極熱情主動學習的心。"
   ]
  },
  {
   "cell_type": "markdown",
   "metadata": {
    "slideshow": {
     "slide_type": "subslide"
    }
   },
   "source": [
    "## Q3: 在選修課程開始前，我可以做些什麼？\n",
    "---\n",
    "1. 我們強烈建議您預先安裝好 scikit-learn 套件，並學著看懂官方文件，進行練習與操作。\n",
    "2. 您可以上網找AI/ML相關的開放式課程來增加基礎能力\n",
    "    * [Learn with Google](https://ai.google/education#%3Fmodal_active=none)"
   ]
  }
 ],
 "metadata": {
  "celltoolbar": "Slideshow",
  "kernelspec": {
   "display_name": "Python 3",
   "language": "python",
   "name": "python3"
  },
  "language_info": {
   "codemirror_mode": {
    "name": "ipython",
    "version": 3
   },
   "file_extension": ".py",
   "mimetype": "text/x-python",
   "name": "python",
   "nbconvert_exporter": "python",
   "pygments_lexer": "ipython3",
   "version": "3.6.5"
  }
 },
 "nbformat": 4,
 "nbformat_minor": 2
}
