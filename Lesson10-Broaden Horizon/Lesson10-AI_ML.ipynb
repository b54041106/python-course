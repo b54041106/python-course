{
 "cells": [
  {
   "cell_type": "markdown",
   "metadata": {
    "slideshow": {
     "slide_type": "slide"
    }
   },
   "source": [
    "# [X-Village] Lesson10 - AI/ML Introduction\n",
    "Speaker: Amber (吳思嬋）"
   ]
  },
  {
   "cell_type": "markdown",
   "metadata": {
    "slideshow": {
     "slide_type": "subslide"
    }
   },
   "source": [
    "## 什麼是 AI ?"
   ]
  },
  {
   "cell_type": "markdown",
   "metadata": {
    "slideshow": {
     "slide_type": "subslide"
    }
   },
   "source": [
    "## 從應用的層面來看...\n",
    "* Google Alphago (2016)\n",
    "* [Google Duplex1 (2018)](https://www.youtube.com/watch?time_continue=58&v=47xJkeG9BZI)\n",
    "* [Google Duplex2 (2018)](https://www.youtube.com/watch?v=TjS_nXzwbN8)"
   ]
  },
  {
   "cell_type": "markdown",
   "metadata": {
    "slideshow": {
     "slide_type": "subslide"
    }
   },
   "source": [
    "## 從學術的觀點來看...\n",
    "---\n",
    "* 認知科學應用 (Cognitive Science)\n",
    "    * model 人類認知的過程 (ex. 學習與理解語言)\n",
    "* 知識工程 (Knowledge Engineering)\n",
    "    * 使用人類的知識來完成特定的任務\n",
    "* 解決問題的方法 (Problem-Solving Method) -- AI的核心\n",
    "    * 如何編碼和使用知識來找到最後的答案"
   ]
  },
  {
   "cell_type": "markdown",
   "metadata": {
    "slideshow": {
     "slide_type": "subslide"
    }
   },
   "source": [
    "## 範例1 - 如果你想訓練一隻小精靈走迷宮\n",
    "---\n",
    "<img src=\"https://i.imgur.com/nhAVyLk.png\" width=450 height=180 />"
   ]
  },
  {
   "cell_type": "markdown",
   "metadata": {
    "slideshow": {
     "slide_type": "subslide"
    }
   },
   "source": [
    "## [A star 搜尋演算法](https://zh.wikipedia.org/wiki/A*%E6%90%9C%E5%B0%8B%E6%BC%94%E7%AE%97%E6%B3%95)\n",
    "---\n",
    "* [demo](https://drive.google.com/open?id=1afzMXxmM-94Yz6MUhH-qub_4U0oifj2b)\n",
    "<img src=\"https://i.imgur.com/Rwx9Aqs.png\" width=450 height=180 />"
   ]
  },
  {
   "cell_type": "markdown",
   "metadata": {
    "slideshow": {
     "slide_type": "subslide"
    }
   },
   "source": [
    "## [BFS搜尋演算法](https://zh.wikipedia.org/wiki/%E5%B9%BF%E5%BA%A6%E4%BC%98%E5%85%88%E6%90%9C%E7%B4%A2)\n",
    "---\n",
    "* [demo](https://drive.google.com/open?id=1H672KosX7Ua7Z1sA9nG8rCLkuYf4EFKB) \n",
    "<img src=\"https://i.imgur.com/qsUmoAf.png\" width=450 height=180 />"
   ]
  },
  {
   "cell_type": "markdown",
   "metadata": {
    "slideshow": {
     "slide_type": "subslide"
    }
   },
   "source": [
    "## [Reference - Project 1: Search in Pacman](http://ai.berkeley.edu/search.html)"
   ]
  },
  {
   "cell_type": "markdown",
   "metadata": {
    "slideshow": {
     "slide_type": "subslide"
    }
   },
   "source": [
    "## 會走迷宮的小精靈，是AI嗎？"
   ]
  },
  {
   "cell_type": "markdown",
   "metadata": {
    "slideshow": {
     "slide_type": "subslide"
    }
   },
   "source": [
    "## 總體來說... AI 就是 Making Rational Agents\n",
    "---\n",
    "Rational behaviour: 在可利用的資訊中，**最大化的實現目標**\n",
    "<img src=\"https://i.imgur.com/FzNi90a.png\" width=450 height=180 />"
   ]
  },
  {
   "cell_type": "markdown",
   "metadata": {
    "slideshow": {
     "slide_type": "subslide"
    }
   },
   "source": [
    "## 範例2 - 設計吸塵器Agent\n",
    "---\n",
    "<img src=\"https://i.imgur.com/ybxDaCY.png\" width=450 height=180 />"
   ]
  },
  {
   "cell_type": "markdown",
   "metadata": {
    "slideshow": {
     "slide_type": "subslide"
    }
   },
   "source": [
    "##  我們設計的吸塵器擁有 Rationality 嗎？"
   ]
  },
  {
   "cell_type": "markdown",
   "metadata": {
    "slideshow": {
     "slide_type": "subslide"
    }
   },
   "source": [
    "## Rationality 有四種考量\n",
    "---\n",
    "* 表現的衡量 (Performance measure)\n",
    "* 對當前環境擁有的先備知識 (Prior environment knowledge)\n",
    "* 執行的動作（Actions）\n",
    "* 觀察 (Percept sequence to date)"
   ]
  },
  {
   "cell_type": "markdown",
   "metadata": {
    "slideshow": {
     "slide_type": "subslide"
    }
   },
   "source": [
    "## Rationality 的指標\n",
    "---\n",
    "* **Information gathering** - To maximize future rewards\n",
    "* **Learn from percepts** - Extending prior knowledge\n",
    "* **Agent autonomy** - Compensate for incorrect prior knowledge"
   ]
  },
  {
   "cell_type": "markdown",
   "metadata": {
    "slideshow": {
     "slide_type": "subslide"
    }
   },
   "source": [
    "## Agent 的類型\n",
    "---\n",
    "* Simple reflex agents \n",
    "* Model-based reflex agents \n",
    "* Goal-based agents （目標導向）\n",
    "* Utility-based agents (利益考量）"
   ]
  },
  {
   "cell_type": "markdown",
   "metadata": {
    "slideshow": {
     "slide_type": "subslide"
    }
   },
   "source": [
    "## Learning agent\n",
    "---\n",
    "<img src=\"https://i.imgur.com/0nNtrL3.png\" width=600 height=300 />"
   ]
  },
  {
   "cell_type": "markdown",
   "metadata": {
    "slideshow": {
     "slide_type": "subslide"
    }
   },
   "source": [
    "## 任務環境（Task Environment)\n",
    "---\n",
    "* 全局觀察 v.s 部分觀察 (Fully observable vs. partially observable)\n",
    "* 單個agent v.s 多個agent (Single agent vs. multi-agent)\n",
    "* 可決定的 v.s 隨機的 (Deterministic vs. stochastic)\n",
    "* 單元劇 v.s 連續劇 (Episodic vs. Sequential)\n",
    "* 靜態的 v.s 動態的 (Static vs. Dynamic)\n",
    "* 離散的 v.s 連續的 (Discrete vs. continuous)"
   ]
  },
  {
   "cell_type": "markdown",
   "metadata": {
    "slideshow": {
     "slide_type": "subslide"
    }
   },
   "source": [
    "## 實現 Rational Agent 的黑魔法\n",
    "---\n",
    "* 機器學習（Machine Learning）\n",
    "* 深度學習（Deep Learning）"
   ]
  },
  {
   "cell_type": "markdown",
   "metadata": {
    "slideshow": {
     "slide_type": "subslide"
    }
   },
   "source": [
    "## 在這些技術的背後是什麼？"
   ]
  },
  {
   "cell_type": "markdown",
   "metadata": {
    "slideshow": {
     "slide_type": "fragment"
    }
   },
   "source": [
    "## 是數學..."
   ]
  },
  {
   "cell_type": "markdown",
   "metadata": {
    "slideshow": {
     "slide_type": "fragment"
    }
   },
   "source": [
    "## 是數學!!!"
   ]
  },
  {
   "cell_type": "markdown",
   "metadata": {
    "slideshow": {
     "slide_type": "fragment"
    }
   },
   "source": [
    "## 大量的數學QQ"
   ]
  },
  {
   "cell_type": "markdown",
   "metadata": {
    "slideshow": {
     "slide_type": "subslide"
    }
   },
   "source": [
    "## 線性代數、演算法、微積分、機率論、統計學、..... \n",
    "---\n",
    "* [linear regression](https://en.wikipedia.org/wiki/Linear_regression)\n",
    "* [Polynomial regression](https://en.wikipedia.org/wiki/Polynomial_regression)\n",
    "* [logistic regression](https://en.wikipedia.org/wiki/Logistic_regression)\n",
    "* [Mean squared error](https://en.wikipedia.org/wiki/Mean_squared_error)\n",
    "* [Gradient descent](https://en.wikipedia.org/wiki/Gradient_descent)\n",
    "* [Normal equation](http://mlwiki.org/index.php/Normal_Equation)"
   ]
  },
  {
   "cell_type": "markdown",
   "metadata": {
    "slideshow": {
     "slide_type": "subslide"
    }
   },
   "source": [
    "## 對於數學頭痛的話，不要擔心，我們還有「多媒體應用」和「網頁開發」的選修可以選擇哦！"
   ]
  },
  {
   "cell_type": "markdown",
   "metadata": {
    "slideshow": {
     "slide_type": "subslide"
    }
   },
   "source": [
    "## 在選修課中，我們會理論與實務並重。實務上以使用 [scikit-learn ](http://scikit-learn.org/stable/documentation.html)套件為主。"
   ]
  },
  {
   "cell_type": "markdown",
   "metadata": {
    "slideshow": {
     "slide_type": "subslide"
    }
   },
   "source": [
    "## Q1: 課程會如何進行？\n",
    "---\n",
    "目前規劃上，在上午的時間會帶理論基礎，在下午的時間會帶專案操作，X-Village 團隊會根據實際情形調整課程內容。"
   ]
  },
  {
   "cell_type": "markdown",
   "metadata": {
    "slideshow": {
     "slide_type": "subslide"
    }
   },
   "source": [
    "## Q2: 如果數學基礎不足，還是很想學AI/ML相關技術，可以嗎？\n",
    "---\n",
    "當然可以，但我們強烈希望您擁有積極熱情主動學習的心，並且擁有自學的能力。"
   ]
  },
  {
   "cell_type": "markdown",
   "metadata": {
    "slideshow": {
     "slide_type": "subslide"
    }
   },
   "source": [
    "## Q3: 在選修課程開始前，我可以做些什麼增加基礎？\n",
    "---\n",
    "1. 我們強烈建議您預先安裝好scikit-learn套件，並學著看官方文件，進行練習與操作。\n",
    "2. 您可以上網找AI/ML相關的開放式課程來增加基礎能力。"
   ]
  },
  {
   "cell_type": "markdown",
   "metadata": {
    "slideshow": {
     "slide_type": "subslide"
    }
   },
   "source": [
    "## 安裝 [scikit-learn ](http://scikit-learn.org/stable/documentation.html)\n",
    "---\n",
    "* ```pip3 install sklearn``` or ```pip install sklearn```"
   ]
  },
  {
   "cell_type": "markdown",
   "metadata": {
    "slideshow": {
     "slide_type": "subslide"
    }
   },
   "source": [
    "## 範例3- 訓練一個agent，可以分類 iris(鳶尾花)\n",
    "---\n",
    "* 分類目標：setosa (山鳶尾), versicolor(變色鳶尾), virginica(維吉尼亞鳶尾)\n",
    "* 特徵資料(label): \n",
    "    * sepal(花萼) 長度, 寬度\n",
    "    * peta(花瓣) 長度, 寬度\n",
    "<img src=\"https://i.imgur.com/meNOG6c.jpg\" width=400 height=300 />"
   ]
  },
  {
   "cell_type": "code",
   "execution_count": 1,
   "metadata": {
    "slideshow": {
     "slide_type": "subslide"
    }
   },
   "outputs": [
    {
     "name": "stdout",
     "output_type": "stream",
     "text": [
      "Target_Name:  ['setosa' 'versicolor' 'virginica']\n",
      "Target: [0 0 0 0 0]\n",
      "Data:  [[ 5.1  3.5  1.4  0.2]\n",
      " [ 4.9  3.   1.4  0.2]\n",
      " [ 4.7  3.2  1.3  0.2]\n",
      " [ 4.6  3.1  1.5  0.2]\n",
      " [ 5.   3.6  1.4  0.2]]\n"
     ]
    }
   ],
   "source": [
    "from sklearn import datasets # 引入sklearn的資料集\n",
    "iris = datasets.load_iris() # 載入鳶尾花資料集\n",
    "print(\"Target_Name: \", iris.target_names) # 取出目標分類 setosa (山鳶尾), versicolor (變色鳶尾), virginica (維吉尼亞鳶尾)\n",
    "print(\"Target:\",iris.target[:5])\n",
    "print(\"Data: \", iris.data[:5]) # 取出鳶尾花特徵資料 sepal（花萼） length, width;  peta（花瓣） length, width\n",
    "#print(\"Data_detail: \", iris.DESCR) #看整體資料細節"
   ]
  },
  {
   "cell_type": "markdown",
   "metadata": {
    "slideshow": {
     "slide_type": "fragment"
    }
   },
   "source": [
    "<img src=\"https://i.imgur.com/Un9wdlZ.png\" width=600 height=300 />\n",
    "\n",
    "* [整份資料](https://drive.google.com/open?id=1gzNDFrDSfD2lFHokntf49-bfMVS-mqPq)"
   ]
  },
  {
   "cell_type": "markdown",
   "metadata": {
    "slideshow": {
     "slide_type": "subslide"
    }
   },
   "source": [
    "## 訓練集(training data) and 測試集 (testing data)\n",
    "---\n",
    "* 使用 [train_test_split](http://scikit-learn.org/stable/modules/generated/sklearn.model_selection.train_test_split.html) 套件可以將資料隨機分成 training data 和 testing data\n",
    "* training data: 用來訓練model\n",
    "* testing data: 用來驗證model的訓練成果"
   ]
  },
  {
   "cell_type": "code",
   "execution_count": 2,
   "metadata": {
    "slideshow": {
     "slide_type": "subslide"
    }
   },
   "outputs": [
    {
     "name": "stdout",
     "output_type": "stream",
     "text": [
      "[[ 5.9  3.   4.2  1.5]\n",
      " [ 5.8  2.6  4.   1.2]\n",
      " [ 6.8  3.   5.5  2.1]\n",
      " [ 4.7  3.2  1.3  0.2]\n",
      " [ 6.9  3.1  5.1  2.3]] \n",
      " [1 1 2 0 2]\n"
     ]
    }
   ],
   "source": [
    "from sklearn import datasets \n",
    "from sklearn.model_selection import train_test_split # 引入 train_test_split 套件\n",
    "iris = datasets.load_iris()\n",
    "# X_train: 訓練集資料特徵, y_train: 訓練集分類target, X_test: 測試集資料特徵, y_test: 測試集分類target\n",
    "X_train, X_test, y_train, y_test = train_test_split(\n",
    "        iris.data, iris.target, random_state=0)\n",
    "\n",
    "print(X_train[:5], '\\n', y_train[:5])"
   ]
  },
  {
   "cell_type": "markdown",
   "metadata": {
    "slideshow": {
     "slide_type": "subslide"
    }
   },
   "source": [
    "## [決策樹分類演算法(Decision Tree)](http://scikit-learn.org/stable/modules/generated/sklearn.tree.DecisionTreeClassifier.html)\n",
    "---\n",
    "針對一系列資料特徵問是非問題，直到能將資料分群。"
   ]
  },
  {
   "cell_type": "markdown",
   "metadata": {
    "slideshow": {
     "slide_type": "subslide"
    }
   },
   "source": [
    "<img src=\"https://i.imgur.com/Ad4xLJH.png\" width=600 height=300 />"
   ]
  },
  {
   "cell_type": "markdown",
   "metadata": {
    "slideshow": {
     "slide_type": "subslide"
    }
   },
   "source": [
    "<img src=\"https://i.imgur.com/XYDe8HF.png\" width=600 height=300 />"
   ]
  },
  {
   "cell_type": "code",
   "execution_count": null,
   "metadata": {
    "slideshow": {
     "slide_type": "subslide"
    }
   },
   "outputs": [],
   "source": [
    "from sklearn import datasets # 引入 sklearn 的資料集\n",
    "from sklearn.model_selection import train_test_split # 引入 train_test_split 套件\n",
    "from sklearn.tree import DecisionTreeClassifier # 引入決策樹分類演算法套件\n",
    "\n",
    "iris = datasets.load_iris() # 載入鳶尾花資料\n",
    "X_train, X_test, y_train, y_test = train_test_split(\n",
    "        iris.data, iris.target, random_state=0) # 將資料分成訓練集和測試集\n",
    "\n",
    "# 使用決策樹分類演算法 完成model的訓練\n",
    "'''\n",
    "請試著完成這個部分\n",
    "'''\n",
    "# 完成訓練後，進行test data的預測\n",
    "'''\n",
    "請試著完成這個部分\n",
    "'''\n",
    "\n",
    "#print(\"預測：\", y_predict)\n",
    "#print(\"正解\",y_test)"
   ]
  }
 ],
 "metadata": {
  "celltoolbar": "Slideshow",
  "kernelspec": {
   "display_name": "Python 3",
   "language": "python",
   "name": "python3"
  },
  "language_info": {
   "codemirror_mode": {
    "name": "ipython",
    "version": 3
   },
   "file_extension": ".py",
   "mimetype": "text/x-python",
   "name": "python",
   "nbconvert_exporter": "python",
   "pygments_lexer": "ipython3",
   "version": "3.6.5"
  }
 },
 "nbformat": 4,
 "nbformat_minor": 2
}
