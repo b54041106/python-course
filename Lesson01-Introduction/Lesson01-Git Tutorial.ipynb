{
 "cells": [
  {
   "cell_type": "markdown",
   "metadata": {
    "slideshow": {
     "slide_type": "slide"
    }
   },
   "source": [
    "# [X-Village]  Git & Github Basic"
   ]
  },
  {
   "cell_type": "markdown",
   "metadata": {
    "slideshow": {
     "slide_type": "subslide"
    }
   },
   "source": [
    "# VCS"
   ]
  },
  {
   "cell_type": "markdown",
   "metadata": {
    "slideshow": {
     "slide_type": "subslide"
    }
   },
   "source": [
    "# Version Control System"
   ]
  },
  {
   "cell_type": "markdown",
   "metadata": {
    "slideshow": {
     "slide_type": "fragment"
    }
   },
   "source": [
    "## 版本控制系統"
   ]
  },
  {
   "cell_type": "markdown",
   "metadata": {
    "slideshow": {
     "slide_type": "subslide"
    }
   },
   "source": [
    "# Why ?"
   ]
  },
  {
   "cell_type": "markdown",
   "metadata": {
    "slideshow": {
     "slide_type": "subslide"
    }
   },
   "source": [
    "# 做報告/PPT\n",
    "* 備份\n",
    "* 想要做新的效果"
   ]
  },
  {
   "cell_type": "markdown",
   "metadata": {
    "slideshow": {
     "slide_type": "fragment"
    }
   },
   "source": [
    "# 打電動\n",
    "* 存檔/讀檔\n",
    "* 多結局遊戲"
   ]
  },
  {
   "cell_type": "markdown",
   "metadata": {
    "slideshow": {
     "slide_type": "subslide"
    }
   },
   "source": [
    "* Detroit: Become Human\n",
    "![](https://imgur.com/cWoR7aV.png)"
   ]
  },
  {
   "cell_type": "markdown",
   "metadata": {
    "slideshow": {
     "slide_type": "subslide"
    }
   },
   "source": [
    "# 特色\n",
    "### * 記錄所發生 \"變化\"，而不是整份的 code <br>\n",
    "### * 備份\n",
    "  之後Code寫錯可以回朔（打BOSS前先存檔)<br>\n",
    "  \n",
    "  \n",
    "### * 歷史紀錄\n",
    "  誰？在什麼時候？做了什麼？<br>\n",
    "  \n",
    "  \n",
    "### * 協同工作\n",
    "  多人合作同一專案不同部分，自動合併不怕互相覆蓋 <br>\n",
    "  (如果沒有同一段Code被不同人修改)"
   ]
  },
  {
   "cell_type": "markdown",
   "metadata": {
    "slideshow": {
     "slide_type": "slide"
    }
   },
   "source": [
    "# Git\n",
    "![](https://imgur.com/vjtDInI.png)"
   ]
  },
  {
   "cell_type": "markdown",
   "metadata": {
    "slideshow": {
     "slide_type": "subslide"
    }
   },
   "source": [
    "## Git\n",
    "\n",
    "### * Linus Trovalds 為了管理 Linux 核心而創造\n",
    "快速、完整開發的歷史紀錄\n",
    "\n",
    "### * 分散式版本控管\n",
    "不依賴中央主機，同時支援本地與遠端操作\n",
    "\n",
    "### * 開源且免費\n",
    "大家都在用，好東西，不學嗎？"
   ]
  },
  {
   "cell_type": "markdown",
   "metadata": {
    "slideshow": {
     "slide_type": "subslide"
    }
   },
   "source": [
    "# 安裝Git\n",
    "## LinuX\n",
    "Fedora \n",
    "\n",
    "`yum install git-core`\n",
    "\n",
    "    \n",
    "Debian, Ubuntu\n",
    "    \n",
    "`sudo apt-get install git`"
   ]
  },
  {
   "cell_type": "markdown",
   "metadata": {
    "slideshow": {
     "slide_type": "subslide"
    }
   },
   "source": [
    "## Mac\n",
    "\n",
    "* 安裝[Homebrew](https://brew.sh/)<br>\n",
    "`brew install git`\n",
    "<br>\n",
    "\n",
    "## Windows \n",
    "* [Git for Windows](https://gitforwindows.org)\n"
   ]
  },
  {
   "cell_type": "markdown",
   "metadata": {
    "slideshow": {
     "slide_type": "slide"
    }
   },
   "source": [
    "# 使用 CLI 操作 Git\n",
    "## CLI\n",
    "* Mac - 終端機(Terminal)\n",
    "* Windows - Git Bash"
   ]
  },
  {
   "cell_type": "markdown",
   "metadata": {
    "slideshow": {
     "slide_type": "subslide"
    }
   },
   "source": [
    "## 常用的指令\n",
    "` cd < folderName > 進入該資料夾 `\n",
    "\n",
    "* 路徑觀念 <br>\n",
    ". 現在位置 <br>\n",
    ".. 上層位置 <br>\n",
    "~ 家目錄 <br>\n",
    "\n",
    "` pwd 顯示現在路徑 `"
   ]
  },
  {
   "cell_type": "markdown",
   "metadata": {
    "slideshow": {
     "slide_type": "subslide"
    }
   },
   "source": [
    "## 練習 1\n",
    "安裝 git，並印出版本號\n",
    "* 完成 git 安裝\n",
    "* 打開 CLI\n",
    "* 輸入\n",
    "` git --version `\n",
    "* 得到git的版本號代表成功"
   ]
  },
  {
   "cell_type": "markdown",
   "metadata": {
    "slideshow": {
     "slide_type": "subslide"
    }
   },
   "source": [
    "# 基本設定\n",
    "* 名稱 <br>\n",
    "` git config --global user.name \"Your Name\" `\n",
    "* Email <br>\n",
    "` git config --global user.email \"Your Email\"`\n",
    "\n",
    "一開始git會要求要先設定名稱跟E-mail <br>\n",
    "這裡在之後要設定為GitHub或其他的帳號 <br>\n",
    "不過也可以設定無效的使用者名稱 <br>"
   ]
  },
  {
   "cell_type": "markdown",
   "metadata": {
    "slideshow": {
     "slide_type": "subslide"
    }
   },
   "source": [
    "## 練習 2\n",
    "* 設定好\n",
    "* 輸入<br>\n",
    "` git config -l `\n",
    "\n",
    "這個指令為查看目前 git 設定內容，檢視一下結果"
   ]
  },
  {
   "cell_type": "markdown",
   "metadata": {
    "slideshow": {
     "slide_type": "subslide"
    }
   },
   "source": [
    "## 透過 Git 設定\n",
    "\n",
    "我們可達到\n",
    "* 設定指令別名、縮寫\n",
    "* 更改顏色\n",
    "* 更改預設編輯器\n",
    "* 檔案大小寫判定\n",
    "\n",
    "### 設定時使用 --global 的參數 <br>表示對於所有的 git project 都會採用這組預設值\n"
   ]
  },
  {
   "cell_type": "markdown",
   "metadata": {
    "slideshow": {
     "slide_type": "slide"
    }
   },
   "source": [
    "# Repository\n",
    "## 又稱Repo\n",
    "* 數據/版本庫\n",
    "在目錄下建立Git開始管理"
   ]
  },
  {
   "cell_type": "markdown",
   "metadata": {
    "slideshow": {
     "slide_type": "subslide"
    }
   },
   "source": [
    "## Local Operations\n",
    "![](https://imgur.com/LgpvDsP.png)"
   ]
  },
  {
   "cell_type": "markdown",
   "metadata": {
    "slideshow": {
     "slide_type": "subslide"
    }
   },
   "source": [
    "## File Status Lifecycle\n",
    "![](https://imgur.com/u8p4yjz.png)"
   ]
  },
  {
   "cell_type": "markdown",
   "metadata": {
    "slideshow": {
     "slide_type": "subslide"
    }
   },
   "source": [
    "# Create Local Repo\n",
    "### 初始(建立數據庫)一個Git專案\n",
    "` git init` <br>\n",
    "\n",
    "* 會建立一個 .git\n",
    " + 這個隱藏資料夾紀錄了git所有的操作\n",
    " + 裡面都是一般的file，沒有daemon或背景作業\n",
    " + 建議沒事就不要去動它了\n",
    " + 絕對不要對他rm -rf .git，不然git的紀錄就會全部不見 <br>\n",
    " "
   ]
  },
  {
   "cell_type": "markdown",
   "metadata": {
    "slideshow": {
     "slide_type": "fragment"
    }
   },
   "source": [
    "### 查看 git 狀態\n",
    "` git status` <br>\n",
    "\n",
    "1. 分支\n",
    "2. 哪些檔案沒被追蹤、修改、Stage中？"
   ]
  },
  {
   "cell_type": "markdown",
   "metadata": {
    "slideshow": {
     "slide_type": "subslide"
    }
   },
   "source": [
    "## 練習 3\n",
    "### 初始化 Git\n",
    "* 到桌面<br>\n",
    "` cd ~/Desktop `\n",
    "* 新增一個資料夾&進入<br>\n",
    "```\n",
    "mkdir Git-Demo\n",
    "> cd Git-Demo\n",
    "```\n",
    "* 初始化 git <br>\n",
    "` git init`\n",
    "* 查看狀態 <br>\n",
    "` git status`"
   ]
  },
  {
   "cell_type": "markdown",
   "metadata": {
    "slideshow": {
     "slide_type": "subslide"
    }
   },
   "source": [
    "```\n",
    "On branch master\n",
    "No commits yet\n",
    "nothing to commit (create/copy files and use \"git add\" to track)\n",
    "```\n",
    "### 因為還沒有東西，所以Nothing to commit"
   ]
  },
  {
   "cell_type": "markdown",
   "metadata": {
    "slideshow": {
     "slide_type": "slide"
    }
   },
   "source": [
    "# Stage\n",
    "## 4個Stage\n",
    "1. untracked (新的檔案，還沒加入git中)\n",
    "2. unmodified (完成add，但還沒commit)\n",
    "3. modified (add完後又做了修改)\n",
    "4. staged (commit完成，到這個階段就已經完成紀錄)"
   ]
  },
  {
   "cell_type": "markdown",
   "metadata": {
    "slideshow": {
     "slide_type": "subslide"
    }
   },
   "source": [
    "## Git add\n",
    "* 新增一個檔案\n",
    "` touch < file name > `\n",
    "    \n",
    "* 將此檔案加入或移出 Staging Area\n",
    "```\n",
    "git add file1 file2\n",
    "git reset file1 file2\n",
    "```\n",
    "* 提交！\n",
    "` git commit -m\"message\" `"
   ]
  },
  {
   "cell_type": "markdown",
   "metadata": {
    "slideshow": {
     "slide_type": "subslide"
    }
   },
   "source": [
    "## 檢視提交紀錄\n",
    "```\n",
    "git log\n",
    "git log --graph --oneline\n",
    "```\n",
    "1. 檢視所有提交紀錄詳情\n",
    "2. --graph 和 --oneline是參數，使log簡潔、易讀"
   ]
  },
  {
   "cell_type": "markdown",
   "metadata": {
    "slideshow": {
     "slide_type": "subslide"
    }
   },
   "source": [
    "# Commit\n",
    "## 敘述這次的修改\n",
    "\n",
    "* Priciple\n",
    " + 為每個不同的修改做一次commit\n",
    " + 不要一個commit中記錄太多的修改\n",
    " + 讓你的commit說一個故事"
   ]
  },
  {
   "cell_type": "markdown",
   "metadata": {
    "slideshow": {
     "slide_type": "fragment"
    }
   },
   "source": [
    "* More Specific\n",
    " + 第一行應該在80字以下\n",
    " + 使用現在式\n",
    " + 不要去重複任何可以在git diff中被找到的東西\n",
    " + 更多的細節，應該空下第二行，從第三行開始寫\n",
    " + 在第三行以後，提到為什麼做了這次的修改"
   ]
  },
  {
   "cell_type": "markdown",
   "metadata": {
    "slideshow": {
     "slide_type": "subslide"
    }
   },
   "source": [
    "## 練習 4\n",
    "### 使用add、commit <br> (過程中多使用status)\n",
    "* 新增一個檔案 Fire.txt\n",
    "* 將其加入 staging area\n",
    "* 提交，commit message 為 \"add Fire.txt\"\n",
    "* 再新增一個檔案 Water.txt\n",
    "* 將其加入 staging area\n",
    "* 提交，commit message 為 \"add Water.txt\"\n",
    "* 檢視提交紀錄(log)，看看結果"
   ]
  },
  {
   "cell_type": "markdown",
   "metadata": {
    "slideshow": {
     "slide_type": "subslide"
    }
   },
   "source": [
    "## Log\n",
    "![](https://imgur.com/bq5RAFh.png)\n",
    "***"
   ]
  },
  {
   "cell_type": "markdown",
   "metadata": {
    "slideshow": {
     "slide_type": "fragment"
    }
   },
   "source": [
    "## Log with graph\n",
    "![](https://imgur.com/bK9NNLc.png)"
   ]
  },
  {
   "cell_type": "markdown",
   "metadata": {
    "slideshow": {
     "slide_type": "subslide"
    }
   },
   "source": [
    "# 版本概念\n",
    "## Head\n",
    "* 意指目前所在的位置\n",
    "\n",
    "## Commit ID\n",
    "* 為一串SHA1碼，代表著那次Commit的ID(身分證)"
   ]
  },
  {
   "cell_type": "markdown",
   "metadata": {
    "slideshow": {
     "slide_type": "slide"
    }
   },
   "source": [
    "## Diff\n",
    "## 在進入回朔之前 <br> 我們必須要知道如何在不同紀錄間做比較"
   ]
  },
  {
   "cell_type": "markdown",
   "metadata": {
    "slideshow": {
     "slide_type": "subslide"
    }
   },
   "source": [
    "# Diff\n",
    "## 看\"target\"和上一次Commit的不同\n",
    "` git diff \"target\"`\n",
    "\n",
    "## 常用的target\n",
    "* \"SHA1\" 與SHA1碼對應的 commit\n",
    "* HEAD^ 或 HEAD~1 可以用來表示上一個 commit\n",
    "* HEAD^^ 或 HEAD~2 可以用來表示上兩個 commit\n",
    "* 以此類推"
   ]
  },
  {
   "cell_type": "markdown",
   "metadata": {
    "slideshow": {
     "slide_type": "subslide"
    }
   },
   "source": [
    "# Diff\n",
    "## 看從a到b的改變\n",
    "` git diff a b`\n",
    "\n",
    "## 看modified的檔案和上一次commit的不同\n",
    "` git diff `\n",
    "\n",
    "## 看unmodified的檔案和上一次commit的不同 \n",
    "#### (建議在每一次add後commit前都要用，確認這次的commit是預期的)\n",
    "` git diff --staged `\n"
   ]
  },
  {
   "cell_type": "markdown",
   "metadata": {
    "slideshow": {
     "slide_type": "slide"
    }
   },
   "source": [
    "# Restore\n",
    "\n",
    "## Checkout\n",
    "* 回到特定commit的狀態\n",
    "` git checkout \"SHA1\" `\n",
    "\n",
    "## Reset\n",
    "* 回到un/modified狀態 (也就是取消Add)\n",
    "` git reset \"SHA1\" `"
   ]
  },
  {
   "cell_type": "markdown",
   "metadata": {
    "slideshow": {
     "slide_type": "subslide"
    }
   },
   "source": [
    "# Checkout\n",
    "* 原本的master長這樣子<br>\n",
    "` A - B - C (HEAD, master)`"
   ]
  },
  {
   "cell_type": "markdown",
   "metadata": {
    "slideshow": {
     "slide_type": "fragment"
    }
   },
   "source": [
    "* 如果使用了git checkout B則會變成<br>\n",
    "` A - B (HEAD) - C (master)`"
   ]
  },
  {
   "cell_type": "markdown",
   "metadata": {
    "slideshow": {
     "slide_type": "fragment"
    }
   },
   "source": [
    "* 如果在這時候創建新的branch，git checkout -b new-branch，則會變成<br>\n",
    "```\n",
    " A - B - C (master)\n",
    "       \\\n",
    "        D (HEAD, new-branch)\n",
    "```"
   ]
  },
  {
   "cell_type": "markdown",
   "metadata": {
    "slideshow": {
     "slide_type": "subslide"
    }
   },
   "source": [
    "# Reset \n",
    "### 拆掉Commit \n",
    "#### (Commit拆掉後可以後悔)"
   ]
  },
  {
   "cell_type": "markdown",
   "metadata": {
    "slideshow": {
     "slide_type": "fragment"
    }
   },
   "source": [
    "![](https://imgur.com/EjAe0PT.png)"
   ]
  },
  {
   "cell_type": "markdown",
   "metadata": {
    "slideshow": {
     "slide_type": "slide"
    }
   },
   "source": [
    "# Branch (分支)\n",
    "+ Branch是git很重要的功能\n",
    " + 想像成複製很多份同樣的code，各自做不同的修改\n",
    " + 通常可以用在測試或攥寫新功能\n",
    "+ 可以想像是解支線任務\n",
    " + 切出支線解不同的任務，每一個支線都能有自己的存檔\n",
    " + 最後再整併成主線的一部份(也可以不整併)"
   ]
  },
  {
   "cell_type": "markdown",
   "metadata": {
    "slideshow": {
     "slide_type": "subslide"
    }
   },
   "source": [
    "## Branch\n",
    "* 開新的分支！<br>\n",
    "` git branch \"branch name\" `\n",
    "* 切過去<br>\n",
    "` git checkout \"branch name\" `\n",
    "* 一個指令做到上述兩步驟<br>\n",
    "` git checkout -b \"branch_name\" `"
   ]
  },
  {
   "cell_type": "markdown",
   "metadata": {
    "slideshow": {
     "slide_type": "subslide"
    }
   },
   "source": [
    "## Branch\n",
    "* 查看有哪些分支<br>\n",
    "` git branch `\n",
    "\n",
    "* 切回 master 繼續原本工作<br>\n",
    "` git checkout master `\n"
   ]
  },
  {
   "cell_type": "markdown",
   "metadata": {
    "slideshow": {
     "slide_type": "subslide"
    }
   },
   "source": [
    "## Branch  合併\n",
    "* 先切到 master<br>\n",
    "` git checkout master `\n",
    "\n",
    "* 切回 master 繼續原本工作<br>\n",
    "` git merge \"branch_name\" `\n"
   ]
  },
  {
   "cell_type": "markdown",
   "metadata": {
    "slideshow": {
     "slide_type": "subslide"
    }
   },
   "source": [
    "## 練習 5\n",
    "* 開一個新分支，命名為 \"Develop\"<br>\n",
    "` git branch Develop `\n",
    "* 切換到 new_feature\n",
    "* 新增一個檔案 Day1.txt，並提交(訊息為： \"add Day1.txt\")\n",
    "* 切換回 master\n",
    "* 打開 Water.txt\n",
    "* 在 Water.txt 中新增一行字 「A cup of water.」後，存擋\n",
    "* 提交，(訊息為： \"modify Water.txt\")\n",
    "* 合併 Develop 到 master 上\n",
    "* 檢視提交紀錄，看看結果(請加上 --graph 和 --oneline 參數)\n"
   ]
  },
  {
   "cell_type": "markdown",
   "metadata": {
    "slideshow": {
     "slide_type": "slide"
    }
   },
   "source": [
    "# GitHub\n",
    "* 世界上最大的代碼存放網站和開源社群"
   ]
  },
  {
   "cell_type": "markdown",
   "metadata": {
    "slideshow": {
     "slide_type": "fragment"
    }
   },
   "source": [
    "### 完整且彈性的協作機制\n",
    "* 原始碼版本控管\n",
    "* 完整的原始碼協作/審核機制\n",
    "* 議題追蹤與專案管理\n",
    "* 免費網頁空間"
   ]
  },
  {
   "cell_type": "markdown",
   "metadata": {
    "slideshow": {
     "slide_type": "subslide"
    }
   },
   "source": [
    "## 建立雲端 Repository\n",
    "![](https://imgur.com/ylnJcPT.png)"
   ]
  },
  {
   "cell_type": "markdown",
   "metadata": {
    "slideshow": {
     "slide_type": "subslide"
    }
   },
   "source": [
    "## 建立雲端 Repository\n",
    "![](https://imgur.com/aaIKGvN.png)"
   ]
  },
  {
   "cell_type": "markdown",
   "metadata": {
    "slideshow": {
     "slide_type": "subslide"
    }
   },
   "source": [
    "## 將 Code Push上雲端\n",
    "![](https://imgur.com/OCSQsrZ.png)\n",
    "* 預設的遠端伺服器\n",
    "` git remote add origin https://github.com….`\n",
    "* 將分支推上遠端 repository\n",
    "` git push [remote-name] [branch-name] `"
   ]
  },
  {
   "cell_type": "markdown",
   "metadata": {
    "slideshow": {
     "slide_type": "subslide"
    }
   },
   "source": [
    "## 常用功能\n",
    "### Clone\n",
    "* 把雲端上的 repository，連同所有 git 紀錄一起拉下來\n",
    "![](https://imgur.com/bqLVukT.png)\n",
    "` git clone https://github.com/....`"
   ]
  },
  {
   "cell_type": "markdown",
   "metadata": {
    "slideshow": {
     "slide_type": "subslide"
    }
   },
   "source": [
    "## 常用功能\n",
    "\n",
    "### Fork\n",
    "* 把雲端上的 Repo，複製一份到自己帳號\n",
    "> 就像是在餐桌上用叉子把盤子上的一塊肉叉到自己的盤子上。\n",
    "\n",
    "### Pull request\n",
    "* 通知來源專案擁有人進行合併審核"
   ]
  },
  {
   "cell_type": "markdown",
   "metadata": {
    "slideshow": {
     "slide_type": "subslide"
    }
   },
   "source": [
    "## 練習 6\n",
    "### 建立 GitHub 帳號\n",
    "### 將前幾次的Git-Demo 推上 GitHub\n",
    "* 建立遠端 repository"
   ]
  },
  {
   "cell_type": "markdown",
   "metadata": {
    "slideshow": {
     "slide_type": "slide"
    }
   },
   "source": [
    "# Visual studio code & Git\n",
    "* 實地操作"
   ]
  },
  {
   "cell_type": "markdown",
   "metadata": {
    "slideshow": {
     "slide_type": "slide"
    }
   },
   "source": [
    "# Reference\n",
    "* [git-tutorial by Lee-W](https://github.com/Lee-W/git-tutorial)https://github.com/Lee-W/git-tutorial)\n",
    "* [Git教學 @zlargon](https://legacy.gitbook.com/book/zlargon/git-tutorial/details)\n",
    "* [30 天精通 Git 版本控管](https://github.com/doggy8088/Learn-Git-in-30-days) <br>\n",
    "\n",
    "### Commit Reset\n",
    "* [剛才的 Commit 後悔了，想要拆掉重做](https://gitbook.tw/chapters/using-git/reset-commit.html)\n",
    "* [細說git-reset和git-checkout的不同之處](https://medicineyeh.wordpress.com/2015/01/22/%E7%B4%B0%E8%AA%AAgit-reset%E5%92%8Cgit-checkout%E7%9A%84%E4%B8%8D%E5%90%8C%E4%B9%8B%E8%99%95/)"
   ]
  }
 ],
 "metadata": {
  "celltoolbar": "Slideshow",
  "kernelspec": {
   "display_name": "Python 3",
   "language": "python",
   "name": "python3"
  },
  "language_info": {
   "codemirror_mode": {
    "name": "ipython",
    "version": 3
   },
   "file_extension": ".py",
   "mimetype": "text/x-python",
   "name": "python",
   "nbconvert_exporter": "python",
   "pygments_lexer": "ipython3",
   "version": "3.6.5"
  }
 },
 "nbformat": 4,
 "nbformat_minor": 2
}
