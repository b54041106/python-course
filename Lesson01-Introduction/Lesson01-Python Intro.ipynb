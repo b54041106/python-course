{
 "cells": [
  {
   "cell_type": "markdown",
   "metadata": {
    "slideshow": {
     "slide_type": "slide"
    }
   },
   "source": [
    "# Lesson01-Python Intro\n",
    "by 李子顥"
   ]
  },
  {
   "cell_type": "markdown",
   "metadata": {
    "slideshow": {
     "slide_type": "subslide"
    }
   },
   "source": [
    "# Why Python ?\n",
    "![](https://imgur.com/RMNaBrW.png)"
   ]
  },
  {
   "cell_type": "markdown",
   "metadata": {
    "slideshow": {
     "slide_type": "subslide"
    }
   },
   "source": [
    "## 適合初學者\n",
    "#### 相比C / C++ 更為親民\n",
    "`print(\"Hello, world!\")`"
   ]
  },
  {
   "cell_type": "markdown",
   "metadata": {
    "slideshow": {
     "slide_type": "subslide"
    }
   },
   "source": [
    "##  優點\n",
    "* 簡單、易學\n",
    "* 語法簡潔\n",
    "* 生態成熟、豐富強大的擴充庫\n",
    "* 開發效率高\n",
    "* 應用領域廣泛"
   ]
  },
  {
   "cell_type": "markdown",
   "metadata": {
    "slideshow": {
     "slide_type": "subslide"
    }
   },
   "source": [
    "## 大公司都在用\n",
    "### Google, Youtube, Instagram, Dropbox...."
   ]
  },
  {
   "cell_type": "markdown",
   "metadata": {
    "slideshow": {
     "slide_type": "subslide"
    }
   },
   "source": [
    "## 做什麼？\n",
    "### * 資料挖掘、分析\n",
    "### * 科學運算\n",
    "### * 機器學習\n",
    "### * Web\n",
    "### * GUI\n",
    "### * 遊戲\n",
    "### ...\n"
   ]
  },
  {
   "cell_type": "markdown",
   "metadata": {
    "slideshow": {
     "slide_type": "subslide"
    }
   },
   "source": [
    "##  缺點\n",
    "* 執行速度不夠快\n",
    "* Python 2 & 3不相容"
   ]
  },
  {
   "cell_type": "markdown",
   "metadata": {
    "slideshow": {
     "slide_type": "subslide"
    }
   },
   "source": [
    "# 這課程教什麼\n",
    "1. 環境設定\n",
    "2. 基本語法介紹，常用資料型態與功能\n",
    "3. 函式，類別，域名\n",
    "4. 物件導向程式介紹"
   ]
  },
  {
   "cell_type": "markdown",
   "metadata": {
    "slideshow": {
     "slide_type": "subslide"
    }
   },
   "source": [
    "5. 錯誤例外處理\n",
    "6. Python 各式協定\n",
    "7. 常用模組函式介紹\n",
    "8. 正規表示式\n",
    "9. 爬蟲教學"
   ]
  },
  {
   "cell_type": "markdown",
   "metadata": {
    "slideshow": {
     "slide_type": "slide"
    }
   },
   "source": [
    "# 環境設定"
   ]
  },
  {
   "cell_type": "markdown",
   "metadata": {
    "slideshow": {
     "slide_type": "subslide"
    }
   },
   "source": [
    "# Version\n",
    "## Python 2.x或3.x？\n",
    "![](https://imgur.com/jgi6iDz.png)"
   ]
  },
  {
   "cell_type": "markdown",
   "metadata": {
    "slideshow": {
     "slide_type": "subslide"
    }
   },
   "source": [
    "## Python 3.6\n",
    "### Not Python 3.7"
   ]
  },
  {
   "cell_type": "markdown",
   "metadata": {
    "slideshow": {
     "slide_type": "subslide"
    }
   },
   "source": [
    "# 了解 Python 環境\n",
    "* 簡單來說就是構成執行Python(.py)的環境"
   ]
  },
  {
   "cell_type": "markdown",
   "metadata": {
    "slideshow": {
     "slide_type": "subslide"
    }
   },
   "source": [
    "# pip 指令\n",
    "## 用於管理 Python Packages"
   ]
  },
  {
   "cell_type": "markdown",
   "metadata": {
    "slideshow": {
     "slide_type": "fragment"
    }
   },
   "source": [
    "# 同時安裝2.X和3.X 指令問題"
   ]
  },
  {
   "cell_type": "markdown",
   "metadata": {
    "slideshow": {
     "slide_type": "fragment"
    }
   },
   "source": [
    "## Mac\n",
    "* 內建 Python 2.7"
   ]
  },
  {
   "cell_type": "markdown",
   "metadata": {
    "slideshow": {
     "slide_type": "subslide"
    }
   },
   "source": [
    "# 指令\n",
    "` python XXX.py` <br>\n",
    "## 若同時安裝2.X和3.X \n",
    "* 通常 pip/python 指向Python 2.X\n",
    "*     pip3/python3 指向Python 3.X"
   ]
  },
  {
   "cell_type": "markdown",
   "metadata": {
    "slideshow": {
     "slide_type": "fragment"
    }
   },
   "source": [
    "## 若只有3.X\n",
    "* python/python3 都會指向Python 3.X\n",
    "* pip3\n",
    "\n",
    "### 每個人習慣不一樣"
   ]
  },
  {
   "cell_type": "markdown",
   "metadata": {
    "slideshow": {
     "slide_type": "subslide"
    }
   },
   "source": [
    "# 助教上課、出作業時\n",
    "## 你可能會看到\n",
    "` python XXX.py`\n",
    "#### 或\n",
    "` python3 XXX.py`\n",
    "## 都是指用Python 3執行 "
   ]
  },
  {
   "cell_type": "markdown",
   "metadata": {
    "slideshow": {
     "slide_type": "subslide"
    }
   },
   "source": [
    "## 為什麼需要多個Python 環境？\n",
    "* 不同專案、套件需求"
   ]
  },
  {
   "cell_type": "markdown",
   "metadata": {
    "slideshow": {
     "slide_type": "subslide"
    }
   },
   "source": [
    "# Package and environment managers\n",
    "\n",
    "* pip (Python package manager) with virtualenv\n",
    "* Conda (A package and environment manager)\n"
   ]
  },
  {
   "cell_type": "markdown",
   "metadata": {
    "slideshow": {
     "slide_type": "subslide"
    }
   },
   "source": [
    "## Conda\n",
    "### 創建/管理虛擬環境讓你：\n",
    "* 可以使用不同的Python 或Package 版本要求開發應用程序\n",
    "* 使用具有不同Python 或Package 版本要求的應用程序\n",
    "* 與其他開發人員合作\n",
    "### 将几乎所有的工具、第三方包都当做package对待，甚至包括python和conda自身"
   ]
  },
  {
   "cell_type": "markdown",
   "metadata": {
    "slideshow": {
     "slide_type": "subslide"
    }
   },
   "source": [
    "## Conda Installer\n",
    "### * Anaconda (free)\n",
    "* 包含Python 2.7和3.X，超多資料科學套件...<br>\n",
    "* spyder, jupter notebook....常用的都有，<br>\n",
    "* 剩下的再用pip install個別去安裝即可，<br>\n",
    "* 可以用GUI管理，但佔用較多空間 <br>\n",
    "\n",
    "### * Miniconda (free)\n",
    "* 預設較少套件，佔用空間小"
   ]
  },
  {
   "cell_type": "markdown",
   "metadata": {
    "slideshow": {
     "slide_type": "slide"
    }
   },
   "source": [
    "# 安裝Python 3.6\n",
    "## Mac\n",
    "* [Python.org](https://www.python.org/downloads/)\n",
    "* [Homebrew](https://brew.sh/)<br>\n",
    " + [Mac下Homebrew的安裝與使用](https://www.jianshu.com/p/bca8fc1ff3f0) <br>\n",
    " 用Command Line Tools for Xcode 來跳過安裝Xcode) <br>\n",
    "`xcode-select --install`<br>\n",
    " + [MAC OSX 正確地同時安裝 PYTHON 2.7 和 PYTHON3](https://stringpiggy.hpd.io/mac-osx-python3-dual-install/)\n",
    " \n",
    "* [Anaconda](https://www.anaconda.com/download/)"
   ]
  },
  {
   "cell_type": "markdown",
   "metadata": {
    "slideshow": {
     "slide_type": "subslide"
    }
   },
   "source": [
    "## Windows\n",
    "* [Python.org](https://www.python.org/downloads/)\n",
    "* [Anaconda](https://www.anaconda.com/download/)"
   ]
  },
  {
   "cell_type": "markdown",
   "metadata": {
    "slideshow": {
     "slide_type": "subslide"
    }
   },
   "source": [
    "## 選擇 Python 3.6\n",
    "![](https://imgur.com/9Tlc4kM.png)"
   ]
  },
  {
   "cell_type": "markdown",
   "metadata": {
    "slideshow": {
     "slide_type": "subslide"
    }
   },
   "source": [
    "## 選擇 executable installer\n",
    "![](https://imgur.com/Iq4gGQl.png)"
   ]
  },
  {
   "cell_type": "markdown",
   "metadata": {
    "slideshow": {
     "slide_type": "subslide"
    }
   },
   "source": [
    "## 很重要！！ Path 要勾 (其他照預設)\n",
    "![](https://imgur.com/zoToFTZ.png)"
   ]
  },
  {
   "cell_type": "markdown",
   "metadata": {
    "slideshow": {
     "slide_type": "subslide"
    }
   },
   "source": [
    "## 用CMD檢查\n",
    "![](https://imgur.com/jfYe6qQ.png)"
   ]
  },
  {
   "cell_type": "markdown",
   "metadata": {
    "slideshow": {
     "slide_type": "subslide"
    }
   },
   "source": [
    "## 練習 1\n",
    "* 安裝好Python 3.6"
   ]
  }
 ],
 "metadata": {
  "celltoolbar": "Slideshow",
  "kernelspec": {
   "display_name": "Python 3",
   "language": "python",
   "name": "python3"
  },
  "language_info": {
   "codemirror_mode": {
    "name": "ipython",
    "version": 3
   },
   "file_extension": ".py",
   "mimetype": "text/x-python",
   "name": "python",
   "nbconvert_exporter": "python",
   "pygments_lexer": "ipython3",
   "version": "3.6.5"
  }
 },
 "nbformat": 4,
 "nbformat_minor": 2
}
