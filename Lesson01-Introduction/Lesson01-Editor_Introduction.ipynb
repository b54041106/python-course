{
 "cells": [
  {
   "cell_type": "markdown",
   "metadata": {
    "slideshow": {
     "slide_type": "slide"
    }
   },
   "source": [
    "## 程式編輯器介紹\n"
   ]
  },
  {
   "cell_type": "markdown",
   "metadata": {
    "slideshow": {
     "slide_type": "slide"
    }
   },
   "source": [
    "##### 什麼是編輯器 / IDE"
   ]
  },
  {
   "cell_type": "markdown",
   "metadata": {
    "slideshow": {
     "slide_type": "subslide"
    }
   },
   "source": [
    "###### 整合開發環境 IDE (Integrated Development Environment)\n",
    "- 包含許多進行開發所需的工具 例如編輯器/Debugger/執行環境/版本控制系統\n",
    "- 常針對特定的程式語言\n",
    "- 大部分具有圖形化使用者界面"
   ]
  },
  {
   "cell_type": "markdown",
   "metadata": {
    "slideshow": {
     "slide_type": "subslide"
    }
   },
   "source": [
    "- Eclipse <img src=\"https://www.eclipse.org/downloads/packages/sites/all/themes/solstice/_themes/solstice_packages/logo.png\" width=\"300\">\n",
    "- Visual Studio<img src=\"https://upload.wikimedia.org/wikipedia/commons/thumb/6/61/Visual_Studio_2017_logo_and_wordmark.svg/330px-Visual_Studio_2017_logo_and_wordmark.svg.png\" width=\"300\">\n",
    "- Android Studio<img src=\"https://cdn-images-1.medium.com/max/1217/1*Mfno8ZsfyDYFkjpRH1MNSw.png\" width=\"300\" align=\"center\">"
   ]
  },
  {
   "cell_type": "markdown",
   "metadata": {
    "slideshow": {
     "slide_type": "subslide"
    }
   },
   "source": [
    "###### 文字編輯器 Text Editor\n",
    "- 具基本的文字編輯功能，若是針對程式開發設計的則通常可以透過插件擴充功能\n",
    "- 須搭配其他開發工具 如終端機(Terminal) / Debugger / Compiler"
   ]
  },
  {
   "cell_type": "markdown",
   "metadata": {
    "slideshow": {
     "slide_type": "subslide"
    }
   },
   "source": [
    "- Vim: 文字界面編輯器\n",
    "<img src=\"https://i.imgur.com/ujpBPMS.png\" width=\"100\">\n",
    "- Sublime Text\n",
    "<img src=\"https://www.sublimetext.com/images/logo.svg\" width=\"800\">\n",
    "- Visual Studio Code\n",
    "<img src=\"https://upload.wikimedia.org/wikipedia/commons/thumb/2/2d/Visual_Studio_Code_1.18_icon.svg/1200px-Visual_Studio_Code_1.18_icon.svg.png\" width=\"100\">"
   ]
  },
  {
   "cell_type": "markdown",
   "metadata": {
    "slideshow": {
     "slide_type": "slide"
    }
   },
   "source": [
    "###### Pycharm - IDE for Python\n",
    "<img src=\"https://upload.wikimedia.org/wikipedia/commons/thumb/a/a1/PyCharm_Logo.svg/330px-PyCharm_Logo.svg.png\" width=\"200\">"
   ]
  },
  {
   "cell_type": "markdown",
   "metadata": {
    "slideshow": {
     "slide_type": "notes"
    }
   },
   "source": [
    "此處簡單 Demo Pycharm / VIM"
   ]
  },
  {
   "cell_type": "markdown",
   "metadata": {
    "slideshow": {
     "slide_type": "subslide"
    }
   },
   "source": [
    "###### Jupyter Notebook\n",
    "<img src=\"http://jupyter.org/assets/main-logo.svg\" width=\"150\">\n",
    "- 可執行多種程式語言\n",
    "- 支援Markdown語法\n",
    "- 可使用nbviewer顯示`.ipynb`檔案 -> https://nbviewer.jupyter.org/"
   ]
  },
  {
   "cell_type": "code",
   "execution_count": 9,
   "metadata": {
    "slideshow": {
     "slide_type": "subslide"
    }
   },
   "outputs": [
    {
     "name": "stdout",
     "output_type": "stream",
     "text": [
      "1\n",
      "2\n",
      "3\n",
      "4\n",
      "Python in Jupyter notebook\n"
     ]
    }
   ],
   "source": [
    "# Jupyter Notebook 執行 Python\n",
    "for i in range (1, 5):\n",
    "    print(i)\n",
    "print(\"Python in Jupyter notebook\")"
   ]
  },
  {
   "cell_type": "markdown",
   "metadata": {
    "slideshow": {
     "slide_type": "slide"
    }
   },
   "source": [
    "###### Visual Studio Code (VSCode)\n",
    "- 微軟於2015年推出的文字編輯器 (透過大量插件可趨近IDE的功能)\n",
    "- 不同於 Visual Studio，VSCode 支援 Windows / Linux / macOS 且開放原始碼\n",
    "- Debug / 自動補全 / Code tracing 功能完整"
   ]
  },
  {
   "cell_type": "markdown",
   "metadata": {
    "slideshow": {
     "slide_type": "subslide"
    }
   },
   "source": [
    "###### VSCode 安裝 & 基本設定\n",
    "- 根據自己的系統選擇適合的版本 https://code.visualstudio.com/"
   ]
  },
  {
   "cell_type": "markdown",
   "metadata": {
    "slideshow": {
     "slide_type": "subslide"
    }
   },
   "source": [
    "![](https://i.imgur.com/1JNiYWi.png)"
   ]
  },
  {
   "cell_type": "markdown",
   "metadata": {
    "slideshow": {
     "slide_type": "subslide"
    }
   },
   "source": [
    "![](https://i.imgur.com/FYaUjwY.png)"
   ]
  },
  {
   "cell_type": "markdown",
   "metadata": {
    "slideshow": {
     "slide_type": "subslide"
    }
   },
   "source": [
    "![](https://i.imgur.com/MkzcWHT.png)"
   ]
  },
  {
   "cell_type": "markdown",
   "metadata": {
    "slideshow": {
     "slide_type": "subslide"
    }
   },
   "source": [
    "![](https://i.imgur.com/q1kAMAA.png)"
   ]
  },
  {
   "cell_type": "markdown",
   "metadata": {
    "slideshow": {
     "slide_type": "subslide"
    }
   },
   "source": [
    "![](https://i.imgur.com/vUb3Pbw.png)"
   ]
  },
  {
   "cell_type": "markdown",
   "metadata": {
    "slideshow": {
     "slide_type": "subslide"
    }
   },
   "source": [
    "![](https://i.imgur.com/ZObZmt6.png)"
   ]
  },
  {
   "cell_type": "markdown",
   "metadata": {
    "slideshow": {
     "slide_type": "subslide"
    }
   },
   "source": [
    "![](https://i.imgur.com/jHZX0SI.png)"
   ]
  },
  {
   "cell_type": "markdown",
   "metadata": {
    "slideshow": {
     "slide_type": "subslide"
    }
   },
   "source": [
    "![](https://i.imgur.com/8xl7jHV.png)"
   ]
  }
 ],
 "metadata": {
  "celltoolbar": "Slideshow",
  "kernelspec": {
   "display_name": "Python 3",
   "language": "python",
   "name": "python3"
  },
  "language_info": {
   "codemirror_mode": {
    "name": "ipython",
    "version": 3
   },
   "file_extension": ".py",
   "mimetype": "text/x-python",
   "name": "python",
   "nbconvert_exporter": "python",
   "pygments_lexer": "ipython3",
   "version": "3.6.5"
  }
 },
 "nbformat": 4,
 "nbformat_minor": 2
}
