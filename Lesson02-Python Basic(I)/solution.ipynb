{
 "cells": [
  {
   "cell_type": "code",
   "execution_count": 3,
   "metadata": {},
   "outputs": [
    {
     "name": "stdout",
     "output_type": "stream",
     "text": [
      "7.0 -9.0\n"
     ]
    }
   ],
   "source": [
    "a = 1\n",
    "b = 2\n",
    "c = -63\n",
    "\n",
    "x1 = (-b + (b**2 - 4*a*c)**(1/2))/2\n",
    "x2 = (-b - (b**2 - 4*a*c)**(1/2))/2\n",
    "print(x1, x2)"
   ]
  },
  {
   "cell_type": "code",
   "execution_count": 2,
   "metadata": {},
   "outputs": [
    {
     "name": "stdout",
     "output_type": "stream",
     "text": [
      "Enter a number :50\n",
      "Too big\n",
      "Enter a number :33\n",
      "Too big\n",
      "Enter a number :22\n",
      "Too big\n",
      "Enter a number :10\n",
      "Too big\n",
      "Enter a number :5\n",
      "Too big\n",
      "Enter a number :1\n",
      "Correct\n"
     ]
    }
   ],
   "source": [
    "import random\n",
    "\n",
    "answer = random.randint(1,100)\n",
    "\n",
    "guess = -1\n",
    "while guess != answer:\n",
    "    guess = int(input(\"Enter a number :\"))\n",
    "    if guess < answer:\n",
    "        print(\"Too small\")\n",
    "    elif guess > answer:\n",
    "        print(\"Too big\")\n",
    "    else:\n",
    "        print(\"Correct\")\n",
    "        break\n"
   ]
  }
 ],
 "metadata": {
  "kernelspec": {
   "display_name": "Python 3",
   "language": "python",
   "name": "python3"
  },
  "language_info": {
   "codemirror_mode": {
    "name": "ipython",
    "version": 3
   },
   "file_extension": ".py",
   "mimetype": "text/x-python",
   "name": "python",
   "nbconvert_exporter": "python",
   "pygments_lexer": "ipython3",
   "version": "3.6.5"
  }
 },
 "nbformat": 4,
 "nbformat_minor": 2
}
