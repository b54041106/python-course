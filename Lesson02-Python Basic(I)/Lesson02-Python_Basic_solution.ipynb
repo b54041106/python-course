{
 "cells": [
  {
   "cell_type": "markdown",
   "metadata": {},
   "source": [
    "# 一元二次方程式兩根"
   ]
  },
  {
   "cell_type": "code",
   "execution_count": 1,
   "metadata": {},
   "outputs": [
    {
     "name": "stdout",
     "output_type": "stream",
     "text": [
      "7.0 -9.0\n"
     ]
    }
   ],
   "source": [
    "a = 1\n",
    "b = 2\n",
    "c = -63\n",
    "\n",
    "x1 = (-b + (b**2 - 4*a*c)**(1/2))/2\n",
    "x2 = (-b - (b**2 - 4*a*c)**(1/2))/2\n",
    "print(x1, x2)"
   ]
  },
  {
   "cell_type": "markdown",
   "metadata": {},
   "source": [
    "# 象限"
   ]
  },
  {
   "cell_type": "code",
   "execution_count": 2,
   "metadata": {},
   "outputs": [
    {
     "name": "stdout",
     "output_type": "stream",
     "text": [
      "II\n"
     ]
    }
   ],
   "source": [
    "x = -1   \n",
    "y = 10\n",
    "\n",
    "if x > 0:\n",
    "    if y > 0:\n",
    "        print(\"I\")\n",
    "    else:\n",
    "        print(\"IV\")\n",
    "else:\n",
    "    if y > 0:\n",
    "        print(\"II\")\n",
    "    else:\n",
    "        print(\"III\") "
   ]
  },
  {
   "cell_type": "code",
   "execution_count": 3,
   "metadata": {},
   "outputs": [
    {
     "name": "stdout",
     "output_type": "stream",
     "text": [
      "A is in III\n",
      "B is in IV\n",
      "C is in I\n",
      "D is in II\n"
     ]
    }
   ],
   "source": [
    "A = [-1, -10]\n",
    "B = [5, -5]\n",
    "C = [1, 1]\n",
    "D = [-2, 3]\n",
    "dots = [\n",
    "    ['A', A], \n",
    "    ['B', B], \n",
    "    ['C', C], \n",
    "    ['D', D]\n",
    "]\n",
    "\n",
    "for i in dots:\n",
    "    print(i[0], \"is in\", end=' ')\n",
    "    if i[1][0] > 0 and i[1][1] > 0:\n",
    "        print(\"I\")\n",
    "    elif i[1][0] < 0 and i[1][1] > 0:\n",
    "        print(\"II\")\n",
    "    elif i[1][0] < 0 and i[1][1] < 0:\n",
    "        print(\"III\")\n",
    "    elif i[1][0] > 0 and i[1][1] < 0:\n",
    "        print(\"IV\")"
   ]
  },
  {
   "cell_type": "markdown",
   "metadata": {},
   "source": [
    "# 三角形"
   ]
  },
  {
   "cell_type": "code",
   "execution_count": 4,
   "metadata": {},
   "outputs": [
    {
     "name": "stdout",
     "output_type": "stream",
     "text": [
      "*****\n",
      "****\n",
      "***\n",
      "**\n",
      "*\n"
     ]
    }
   ],
   "source": [
    "i = 0\n",
    "j = 0\n",
    "while i < 5:\n",
    "    while j < 5:\n",
    "        print('*',end='')\n",
    "        j += 1\n",
    "    i += 1\n",
    "    j = i\n",
    "    print('') # print換行"
   ]
  },
  {
   "cell_type": "markdown",
   "metadata": {},
   "source": [
    "## 補充"
   ]
  },
  {
   "cell_type": "code",
   "execution_count": 5,
   "metadata": {},
   "outputs": [
    {
     "name": "stdout",
     "output_type": "stream",
     "text": [
      "*****\n",
      " ****\n",
      "  ***\n",
      "   **\n",
      "    *\n"
     ]
    }
   ],
   "source": [
    "i = 0\n",
    "j = 0\n",
    "while i < 5:\n",
    "    while j < 5:\n",
    "        if j >= i:\n",
    "            print('*', end='')\n",
    "        else:\n",
    "            print(' ', end='')\n",
    "        j += 1\n",
    "    i += 1\n",
    "    j = 0\n",
    "    print('') # print換行"
   ]
  },
  {
   "cell_type": "markdown",
   "metadata": {},
   "source": [
    "# 正三角形\n",
    "## 輸入為0時，跳出迴圈"
   ]
  },
  {
   "cell_type": "code",
   "execution_count": 6,
   "metadata": {},
   "outputs": [
    {
     "name": "stdout",
     "output_type": "stream",
     "text": [
      "Please enter the length of side of the regular triangle: 20\n",
      "* * * * * * * * * * * * * * * * * * * * \n",
      " * * * * * * * * * * * * * * * * * * * \n",
      "  * * * * * * * * * * * * * * * * * * \n",
      "   * * * * * * * * * * * * * * * * * \n",
      "    * * * * * * * * * * * * * * * * \n",
      "     * * * * * * * * * * * * * * * \n",
      "      * * * * * * * * * * * * * * \n",
      "       * * * * * * * * * * * * * \n",
      "        * * * * * * * * * * * * \n",
      "         * * * * * * * * * * * \n",
      "          * * * * * * * * * * \n",
      "           * * * * * * * * * \n",
      "            * * * * * * * * \n",
      "             * * * * * * * \n",
      "              * * * * * * \n",
      "               * * * * * \n",
      "                * * * * \n",
      "                 * * * \n",
      "                  * * \n",
      "                   * \n",
      "Please enter the length of side of the regular triangle: 10\n",
      "* * * * * * * * * * \n",
      " * * * * * * * * * \n",
      "  * * * * * * * * \n",
      "   * * * * * * * \n",
      "    * * * * * * \n",
      "     * * * * * \n",
      "      * * * * \n",
      "       * * * \n",
      "        * * \n",
      "         * \n",
      "Please enter the length of side of the regular triangle: 33\n",
      "* * * * * * * * * * * * * * * * * * * * * * * * * * * * * * * * * \n",
      " * * * * * * * * * * * * * * * * * * * * * * * * * * * * * * * * \n",
      "  * * * * * * * * * * * * * * * * * * * * * * * * * * * * * * * \n",
      "   * * * * * * * * * * * * * * * * * * * * * * * * * * * * * * \n",
      "    * * * * * * * * * * * * * * * * * * * * * * * * * * * * * \n",
      "     * * * * * * * * * * * * * * * * * * * * * * * * * * * * \n",
      "      * * * * * * * * * * * * * * * * * * * * * * * * * * * \n",
      "       * * * * * * * * * * * * * * * * * * * * * * * * * * \n",
      "        * * * * * * * * * * * * * * * * * * * * * * * * * \n",
      "         * * * * * * * * * * * * * * * * * * * * * * * * \n",
      "          * * * * * * * * * * * * * * * * * * * * * * * \n",
      "           * * * * * * * * * * * * * * * * * * * * * * \n",
      "            * * * * * * * * * * * * * * * * * * * * * \n",
      "             * * * * * * * * * * * * * * * * * * * * \n",
      "              * * * * * * * * * * * * * * * * * * * \n",
      "               * * * * * * * * * * * * * * * * * * \n",
      "                * * * * * * * * * * * * * * * * * \n",
      "                 * * * * * * * * * * * * * * * * \n",
      "                  * * * * * * * * * * * * * * * \n",
      "                   * * * * * * * * * * * * * * \n",
      "                    * * * * * * * * * * * * * \n",
      "                     * * * * * * * * * * * * \n",
      "                      * * * * * * * * * * * \n",
      "                       * * * * * * * * * * \n",
      "                        * * * * * * * * * \n",
      "                         * * * * * * * * \n",
      "                          * * * * * * * \n",
      "                           * * * * * * \n",
      "                            * * * * * \n",
      "                             * * * * \n",
      "                              * * * \n",
      "                               * * \n",
      "                                * \n",
      "Please enter the length of side of the regular triangle: 5\n",
      "* * * * * \n",
      " * * * * \n",
      "  * * * \n",
      "   * * \n",
      "    * \n",
      "Please enter the length of side of the regular triangle: 3\n",
      "* * * \n",
      " * * \n",
      "  * \n",
      "Please enter the length of side of the regular triangle: 0\n"
     ]
    }
   ],
   "source": [
    "while True:\n",
    "    i = 0\n",
    "    j = 0\n",
    "    n = int(input(\"Please enter the length of side of the regular triangle: \"))\n",
    "    if n == 0:\n",
    "        break\n",
    "    for i in range(n):\n",
    "        for k in range(i):\n",
    "            print(\" \", end='')\n",
    "\n",
    "        for j in range(n-i):\n",
    "            print(\"*\", end='')\n",
    "            print(\" \", end='')\n",
    "        print()"
   ]
  },
  {
   "cell_type": "markdown",
   "metadata": {},
   "source": [
    "# 終極密碼"
   ]
  },
  {
   "cell_type": "code",
   "execution_count": 7,
   "metadata": {},
   "outputs": [
    {
     "name": "stdout",
     "output_type": "stream",
     "text": [
      "Enter a number :55\n",
      "Too small\n",
      "Enter a number :75\n",
      "Too big\n",
      "Enter a number :66\n",
      "Too small\n",
      "Enter a number :70\n",
      "Too small\n",
      "Enter a number :72\n",
      "Too big\n",
      "Enter a number :71\n",
      "Correct\n"
     ]
    }
   ],
   "source": [
    "import random\n",
    "\n",
    "answer = random.randint(1,100)\n",
    "\n",
    "guess = -1\n",
    "while guess != answer:\n",
    "    guess = int(input(\"Enter a number :\"))\n",
    "    if guess < answer:\n",
    "        print(\"Too small\")\n",
    "    elif guess > answer:\n",
    "        print(\"Too big\")\n",
    "    else:\n",
    "        print(\"Correct\")\n",
    "        break\n"
   ]
  },
  {
   "cell_type": "markdown",
   "metadata": {},
   "source": [
    "## 印出 1 ~ 50 的質數"
   ]
  },
  {
   "cell_type": "code",
   "execution_count": 8,
   "metadata": {},
   "outputs": [
    {
     "name": "stdout",
     "output_type": "stream",
     "text": [
      "2 3 5 7 11 13 17 19 23 29 31 37 41 43 47 "
     ]
    }
   ],
   "source": [
    "count_factor = 0\n",
    "for i in range(2, 51):\n",
    "    for j in range(2, i):    # count numbers of factor\n",
    "        if i % j == 0:\n",
    "            count_factor += 1\n",
    "            \n",
    "    if count_factor == 0:    \n",
    "        print(i, end=' ')\n",
    "    count_factor = 0"
   ]
  }
 ],
 "metadata": {
  "kernelspec": {
   "display_name": "Python 3",
   "language": "python",
   "name": "python3"
  },
  "language_info": {
   "codemirror_mode": {
    "name": "ipython",
    "version": 3
   },
   "file_extension": ".py",
   "mimetype": "text/x-python",
   "name": "python",
   "nbconvert_exporter": "python",
   "pygments_lexer": "ipython3",
   "version": "3.6.5"
  }
 },
 "nbformat": 4,
 "nbformat_minor": 2
}
