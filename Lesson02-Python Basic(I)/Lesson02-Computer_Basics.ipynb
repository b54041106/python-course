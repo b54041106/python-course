{
 "cells": [
  {
   "cell_type": "markdown",
   "metadata": {
    "slideshow": {
     "slide_type": "slide"
    }
   },
   "source": [
    "## 淺談電腦基本運作\n"
   ]
  },
  {
   "cell_type": "markdown",
   "metadata": {
    "slideshow": {
     "slide_type": "subslide"
    }
   },
   "source": [
    "### 基本硬體組件\n",
    "- 主機版 Motherboard\n",
    "- 中央處理器 CPU\n",
    "- 記憶體 RAM\n",
    "- 儲存裝置 Storage\n",
    "- I/O 裝置\n",
    "- 圖形處理器 GPU"
   ]
  },
  {
   "cell_type": "markdown",
   "metadata": {
    "slideshow": {
     "slide_type": "slide"
    }
   },
   "source": [
    "#### 主機版 Motherboard\n",
    "- 連接所有組件，提供各種界面\n",
    "- 須根據所搭配的晶片組使用相應的 CPU / RAM"
   ]
  },
  {
   "cell_type": "markdown",
   "metadata": {
    "slideshow": {
     "slide_type": "subslide"
    }
   },
   "source": [
    "![](http://www.coolaler.com.tw/adrien/news/1106/110621_gigabyte.jpg)"
   ]
  },
  {
   "attachments": {},
   "cell_type": "markdown",
   "metadata": {
    "slideshow": {
     "slide_type": "slide"
    }
   },
   "source": [
    "#### 中央處理器 CPU\n",
    "CPU是電腦的核心，負責大部分的計算工作\n",
    "<img src=\"https://icdn3.digitaltrends.com/image/amd-ryzen-7-1700-cpu-inhand1-2.jpg\" width=300>\n",
    "<img src=\"https://www.ekwb.com/wp-content/uploads/2016/08/09.jpg\" width=300>\n"
   ]
  },
  {
   "cell_type": "markdown",
   "metadata": {
    "slideshow": {
     "slide_type": "subslide"
    }
   },
   "source": [
    "###### Controller & ALU\n",
    "CPU具有各種不同用途的處理單元，比較重要的有以下兩項：\n",
    "- 控制單元 CU (Control Unit)\n",
    "    - 負責解讀指令，並讓ALU進行運算\n",
    "- 算術邏輯單元 ALU (Arithmetic Logic Unit)\n",
    "    - 進行加法/減法/AND/OR等運算"
   ]
  },
  {
   "cell_type": "markdown",
   "metadata": {
    "slideshow": {
     "slide_type": "subslide"
    }
   },
   "source": [
    "###### 二進位 Binary"
   ]
  },
  {
   "cell_type": "markdown",
   "metadata": {
    "slideshow": {
     "slide_type": "subslide"
    }
   },
   "source": [
    "###### 指令集"
   ]
  },
  {
   "cell_type": "markdown",
   "metadata": {
    "slideshow": {
     "slide_type": "subslide"
    }
   },
   "source": [
    "###### CPU頻率"
   ]
  },
  {
   "cell_type": "markdown",
   "metadata": {
    "slideshow": {
     "slide_type": "subslide"
    }
   },
   "source": [
    "###### 邏輯閘"
   ]
  },
  {
   "cell_type": "markdown",
   "metadata": {
    "slideshow": {
     "slide_type": "slide"
    }
   },
   "source": [
    "###### 記憶體 RAM"
   ]
  },
  {
   "cell_type": "markdown",
   "metadata": {
    "slideshow": {
     "slide_type": "slide"
    }
   },
   "source": [
    "###### 儲存裝置 Storage\n",
    "- HDD / SSD\n",
    "- Memory hierarchy"
   ]
  },
  {
   "cell_type": "markdown",
   "metadata": {
    "slideshow": {
     "slide_type": "slide"
    }
   },
   "source": [
    "###### I/O 裝置"
   ]
  },
  {
   "cell_type": "markdown",
   "metadata": {
    "slideshow": {
     "slide_type": "slide"
    }
   },
   "source": [
    "###### 圖形處理器 GPU"
   ]
  },
  {
   "cell_type": "markdown",
   "metadata": {},
   "source": [
    "### 基本軟體概念\n",
    "- 電腦如何啟動\n",
    "- 作業系統\n",
    "- 電腦如何執行程式"
   ]
  },
  {
   "cell_type": "markdown",
   "metadata": {},
   "source": [
    "#### 電腦如何啟動"
   ]
  },
  {
   "cell_type": "markdown",
   "metadata": {
    "slideshow": {
     "slide_type": "slide"
    }
   },
   "source": [
    "#### 作業系統\n",
    "- Kernel / Shell"
   ]
  },
  {
   "cell_type": "markdown",
   "metadata": {
    "slideshow": {
     "slide_type": "slide"
    }
   },
   "source": [
    "#### 電腦如何執行程式\n",
    "- Executable file\n",
    "- Runtime\n",
    "- Loader\n",
    "- PATH\n",
    "- "
   ]
  },
  {
   "cell_type": "code",
   "execution_count": null,
   "metadata": {},
   "outputs": [],
   "source": []
  }
 ],
 "metadata": {
  "celltoolbar": "Slideshow",
  "kernelspec": {
   "display_name": "Python 3",
   "language": "python",
   "name": "python3"
  },
  "language_info": {
   "codemirror_mode": {
    "name": "ipython",
    "version": 3
   },
   "file_extension": ".py",
   "mimetype": "text/x-python",
   "name": "python",
   "nbconvert_exporter": "python",
   "pygments_lexer": "ipython3",
   "version": "3.6.5"
  }
 },
 "nbformat": 4,
 "nbformat_minor": 2
}
