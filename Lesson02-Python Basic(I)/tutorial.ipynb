{
 "cells": [
  {
   "cell_type": "markdown",
   "metadata": {
    "slideshow": {
     "slide_type": "slide"
    }
   },
   "source": [
    "# [X-village] Python Basic(I)"
   ]
  },
  {
   "cell_type": "markdown",
   "metadata": {
    "slideshow": {
     "slide_type": "slide"
    }
   },
   "source": [
    "# hackMD 教學"
   ]
  },
  {
   "cell_type": "markdown",
   "metadata": {
    "slideshow": {
     "slide_type": "subslide"
    }
   },
   "source": [
    "## hackMD 是什麼？\n",
    "\n",
    "* 是個跨平台(web、app)的即時協作筆記\n",
    "* markdown 語法"
   ]
  },
  {
   "cell_type": "markdown",
   "metadata": {
    "slideshow": {
     "slide_type": "subslide"
    }
   },
   "source": [
    "## hackMD 有什麼特色？\n",
    "* 易懂、易讀、易編寫\n",
    "* 支援簡報模式(reveal.js)\n",
    "* 多人共同即時協作"
   ]
  },
  {
   "cell_type": "markdown",
   "metadata": {
    "slideshow": {
     "slide_type": "subslide"
    }
   },
   "source": [
    "## hackMD 常用功能\n",
    "\n",
    "* 寫企劃書、筆記....等等\n",
    "![](https://i.imgur.com/bY4rfia.png)\n"
   ]
  },
  {
   "cell_type": "markdown",
   "metadata": {
    "slideshow": {
     "slide_type": "subslide"
    }
   },
   "source": [
    "* 程式碼\n",
    "![](https://i.imgur.com/wHCGYmG.png)"
   ]
  },
  {
   "cell_type": "markdown",
   "metadata": {
    "slideshow": {
     "slide_type": "subslide"
    }
   },
   "source": [
    "* 代辦事項\n",
    "![](https://i.imgur.com/WsbhOQj.png)"
   ]
  },
  {
   "cell_type": "markdown",
   "metadata": {
    "slideshow": {
     "slide_type": "subslide"
    }
   },
   "source": [
    "* 字型\n",
    "![](https://i.imgur.com/1oXJUlO.png)"
   ]
  },
  {
   "cell_type": "markdown",
   "metadata": {
    "slideshow": {
     "slide_type": "subslide"
    }
   },
   "source": [
    "* 超連結\n",
    "![](https://i.imgur.com/ajMV71c.png)"
   ]
  },
  {
   "cell_type": "markdown",
   "metadata": {
    "slideshow": {
     "slide_type": "subslide"
    }
   },
   "source": [
    "## Demo\n",
    "\n",
    "* [hackMD](https://hackmd.io/)\n",
    "\n",
    "* [Demo](https://hackmd.io/8wON67EQRcCNh715UkiC-w)"
   ]
  },
  {
   "cell_type": "markdown",
   "metadata": {
    "slideshow": {
     "slide_type": "slide"
    }
   },
   "source": [
    "# 寫python時遇到問題怎麼辦？\n",
    "![](https://i.imgur.com/w4IoUNg.png)"
   ]
  },
  {
   "cell_type": "markdown",
   "metadata": {
    "slideshow": {
     "slide_type": "subslide"
    }
   },
   "source": [
    "# 寫python時遇到問題怎麼辦？\n",
    "1. python doc\n",
    "2. stackoverflow\n",
    "3. google\n",
    "4. 同儕、老師、助教等等"
   ]
  },
  {
   "cell_type": "markdown",
   "metadata": {
    "slideshow": {
     "slide_type": "subslide"
    }
   },
   "source": [
    "## [python doc](https://docs.python.org/3/)\n",
    "* 安裝問題\n",
    "* 教學\n",
    "* 標準函式庫\n",
    "* 更新模組\n",
    "* 等等....."
   ]
  },
  {
   "cell_type": "markdown",
   "metadata": {
    "slideshow": {
     "slide_type": "subslide"
    }
   },
   "source": [
    "## [python doc](https://docs.python.org/3/) (cont'd)\n",
    "![](https://i.imgur.com/ITGIfI7.png)"
   ]
  },
  {
   "cell_type": "markdown",
   "metadata": {
    "slideshow": {
     "slide_type": "subslide"
    }
   },
   "source": [
    "## [stackoverflow](https://stackoverflow.com/)\n",
    "![](https://i.imgur.com/oDRzt5I.jpg)\n"
   ]
  },
  {
   "cell_type": "markdown",
   "metadata": {
    "slideshow": {
     "slide_type": "subslide"
    }
   },
   "source": [
    "## [stackoverflow](https://stackoverflow.com/) (cont'd)\n",
    "\n",
    "* 遇到 errors、bugs\n",
    "![](https://i.imgur.com/WtXaX0b.png)\n"
   ]
  },
  {
   "cell_type": "markdown",
   "metadata": {
    "slideshow": {
     "slide_type": "subslide"
    }
   },
   "source": [
    "## [stackoverflow](https://stackoverflow.com/) (cont'd)\n",
    "\n",
    "* 找工作\n",
    "![](https://i.imgur.com/6ctFqeF.png)\n"
   ]
  },
  {
   "cell_type": "markdown",
   "metadata": {
    "slideshow": {
     "slide_type": "subslide"
    }
   },
   "source": [
    "## [Google](https://www.google.com)\n",
    "\n",
    "![](https://i.imgur.com/iKoqpPh.png)"
   ]
  },
  {
   "cell_type": "markdown",
   "metadata": {},
   "source": [
    "## 同儕\n",
    "![](https://i.imgur.com/r5yIVEC.png)"
   ]
  },
  {
   "cell_type": "code",
   "execution_count": null,
   "metadata": {},
   "outputs": [],
   "source": []
  }
 ],
 "metadata": {
  "celltoolbar": "Slideshow",
  "kernelspec": {
   "display_name": "Python 3",
   "language": "python",
   "name": "python3"
  },
  "language_info": {
   "codemirror_mode": {
    "name": "ipython",
    "version": 3
   },
   "file_extension": ".py",
   "mimetype": "text/x-python",
   "name": "python",
   "nbconvert_exporter": "python",
   "pygments_lexer": "ipython3",
   "version": "3.6.4"
  }
 },
 "nbformat": 4,
 "nbformat_minor": 2
}
