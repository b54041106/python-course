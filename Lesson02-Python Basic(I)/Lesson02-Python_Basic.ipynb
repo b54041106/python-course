{
 "cells": [
  {
   "cell_type": "markdown",
   "metadata": {
    "slideshow": {
     "slide_type": "slide"
    }
   },
   "source": [
    "# [X-Village] Lesson 02 -Python_Basic(I)\n",
    "## by 鍾日超"
   ]
  },
  {
   "cell_type": "markdown",
   "metadata": {
    "slideshow": {
     "slide_type": "slide"
    }
   },
   "source": [
    "# 寫python時遇到問題怎麼辦？\n",
    "![](https://i.imgur.com/w4IoUNg.png)"
   ]
  },
  {
   "cell_type": "markdown",
   "metadata": {
    "slideshow": {
     "slide_type": "subslide"
    }
   },
   "source": [
    "# 寫python時遇到問題怎麼辦？\n",
    "1. python doc\n",
    "2. stackoverflow\n",
    "3. google\n",
    "4. 同儕、老師、助教等等"
   ]
  },
  {
   "cell_type": "markdown",
   "metadata": {
    "slideshow": {
     "slide_type": "subslide"
    }
   },
   "source": [
    "## [python doc](https://docs.python.org/3/)\n",
    "* 安裝問題\n",
    "* 教學\n",
    "* 標準函式庫\n",
    "* 更新模組\n",
    "* 等等....."
   ]
  },
  {
   "cell_type": "markdown",
   "metadata": {
    "slideshow": {
     "slide_type": "subslide"
    }
   },
   "source": [
    "## [python doc](https://docs.python.org/3/) (cont'd)\n",
    "![](https://i.imgur.com/ITGIfI7.png)"
   ]
  },
  {
   "cell_type": "markdown",
   "metadata": {
    "slideshow": {
     "slide_type": "subslide"
    }
   },
   "source": [
    "## [stackoverflow](https://stackoverflow.com/)\n",
    "![](https://i.imgur.com/oDRzt5I.jpg)\n"
   ]
  },
  {
   "cell_type": "markdown",
   "metadata": {
    "slideshow": {
     "slide_type": "subslide"
    }
   },
   "source": [
    "## [stackoverflow](https://stackoverflow.com/) (cont'd)\n",
    "\n",
    "* 遇到 errors、bugs\n",
    "![](https://i.imgur.com/WtXaX0b.png)\n"
   ]
  },
  {
   "cell_type": "markdown",
   "metadata": {
    "slideshow": {
     "slide_type": "subslide"
    }
   },
   "source": [
    "## [stackoverflow](https://stackoverflow.com/) (cont'd)\n",
    "\n",
    "* 找工作\n",
    "![](https://i.imgur.com/6ctFqeF.png)\n"
   ]
  },
  {
   "cell_type": "markdown",
   "metadata": {
    "slideshow": {
     "slide_type": "subslide"
    }
   },
   "source": [
    "## [Google](https://www.google.com)\n",
    "\n",
    "![](https://i.imgur.com/iKoqpPh.png)"
   ]
  },
  {
   "cell_type": "markdown",
   "metadata": {
    "slideshow": {
     "slide_type": "subslide"
    }
   },
   "source": [
    "## 同儕\n",
    "![](https://i.imgur.com/r5yIVEC.png)"
   ]
  },
  {
   "cell_type": "markdown",
   "metadata": {
    "slideshow": {
     "slide_type": "slide"
    }
   },
   "source": [
    "# Python\n",
    "![](https://i.imgur.com/X7cGHpS.png)"
   ]
  },
  {
   "cell_type": "markdown",
   "metadata": {
    "slideshow": {
     "slide_type": "subslide"
    }
   },
   "source": [
    "# 介紹 python"
   ]
  },
  {
   "cell_type": "markdown",
   "metadata": {
    "slideshow": {
     "slide_type": "subslide"
    }
   },
   "source": [
    "# 第一個課堂練習  印出 \"Hello World !\""
   ]
  },
  {
   "cell_type": "code",
   "execution_count": 1,
   "metadata": {
    "slideshow": {
     "slide_type": "fragment"
    }
   },
   "outputs": [],
   "source": [
    "# Exercise"
   ]
  },
  {
   "cell_type": "markdown",
   "metadata": {
    "slideshow": {
     "slide_type": "slide"
    }
   },
   "source": [
    "# Python基本介紹 (cont'd)\n",
    "1. 物件(Object)\n",
    "2. 變數(Variable)\n",
    "3. 數值型態(Int、Float)\n",
    "4. 表達式(Expression)\n",
    "5. 運算子與運算元(Operator and operand)"
   ]
  },
  {
   "cell_type": "markdown",
   "metadata": {
    "slideshow": {
     "slide_type": "subslide"
    }
   },
   "source": [
    "# 1.物件(Object)\n",
    "* python中 每一個東西都是一個物件\n",
    "* 物件可以被理解為一種容器\n",
    "* 每個物件有屬於自己的型別(type)與值(value)\n",
    "* 在記憶體中佔有空間\n",
    "![](https://i.imgur.com/pdgvc4L.png)"
   ]
  },
  {
   "cell_type": "code",
   "execution_count": 2,
   "metadata": {
    "slideshow": {
     "slide_type": "subslide"
    }
   },
   "outputs": [
    {
     "data": {
      "text/plain": [
       "123"
      ]
     },
     "execution_count": 2,
     "metadata": {},
     "output_type": "execute_result"
    }
   ],
   "source": [
    "123"
   ]
  },
  {
   "cell_type": "code",
   "execution_count": 3,
   "metadata": {
    "slideshow": {
     "slide_type": "fragment"
    }
   },
   "outputs": [
    {
     "data": {
      "text/plain": [
       "int"
      ]
     },
     "execution_count": 3,
     "metadata": {},
     "output_type": "execute_result"
    }
   ],
   "source": [
    "type(123)"
   ]
  },
  {
   "cell_type": "code",
   "execution_count": 4,
   "metadata": {
    "slideshow": {
     "slide_type": "fragment"
    }
   },
   "outputs": [
    {
     "data": {
      "text/plain": [
       "'Hello World!'"
      ]
     },
     "execution_count": 4,
     "metadata": {},
     "output_type": "execute_result"
    }
   ],
   "source": [
    "\"Hello World!\""
   ]
  },
  {
   "cell_type": "code",
   "execution_count": 5,
   "metadata": {
    "slideshow": {
     "slide_type": "fragment"
    }
   },
   "outputs": [
    {
     "data": {
      "text/plain": [
       "str"
      ]
     },
     "execution_count": 5,
     "metadata": {},
     "output_type": "execute_result"
    }
   ],
   "source": [
    "type(\"Hello World!\")"
   ]
  },
  {
   "cell_type": "markdown",
   "metadata": {
    "slideshow": {
     "slide_type": "subslide"
    }
   },
   "source": [
    "## 2.變數(Variable)\n",
    "* 不用宣告型別(int、float)\n",
    "* 為物件命名(不能為保留字)\n",
    "* 記憶體位址為物件的記憶體位址"
   ]
  },
  {
   "cell_type": "markdown",
   "metadata": {
    "slideshow": {
     "slide_type": "subslide"
    }
   },
   "source": [
    "* 不用宣告型別\n",
    "![](https://i.imgur.com/z9rBsXB.png)"
   ]
  },
  {
   "cell_type": "code",
   "execution_count": 6,
   "metadata": {
    "slideshow": {
     "slide_type": "fragment"
    }
   },
   "outputs": [
    {
     "name": "stdout",
     "output_type": "stream",
     "text": [
      "1\n",
      "<class 'int'>\n"
     ]
    }
   ],
   "source": [
    "a = 1\n",
    "print(a)\n",
    "print(type(a))"
   ]
  },
  {
   "cell_type": "code",
   "execution_count": 7,
   "metadata": {
    "slideshow": {
     "slide_type": "fragment"
    }
   },
   "outputs": [
    {
     "name": "stdout",
     "output_type": "stream",
     "text": [
      "Hello\n",
      "<class 'str'>\n"
     ]
    }
   ],
   "source": [
    "b = \"Hello\"\n",
    "print(b)\n",
    "print(type(b))"
   ]
  },
  {
   "cell_type": "markdown",
   "metadata": {
    "slideshow": {
     "slide_type": "subslide"
    }
   },
   "source": [
    "## 為物件命名 － 命名方式\n",
    "    * 開頭必為大小寫英文字母或底線\n",
    "    * 非開頭可以為大小寫英文字母、數字、底線\n",
    "    * 大小寫敏感性(case sensitivity)\n",
    "    * 不可為保留字(reserved words)及運算子(operator)\n",
    "    \n",
    "![](https://i.imgur.com/MKfCASH.png)"
   ]
  },
  {
   "cell_type": "markdown",
   "metadata": {
    "slideshow": {
     "slide_type": "subslide"
    }
   },
   "source": [
    "## 合法的變數命名方式\n"
   ]
  },
  {
   "cell_type": "code",
   "execution_count": 8,
   "metadata": {
    "slideshow": {
     "slide_type": "fragment"
    }
   },
   "outputs": [
    {
     "name": "stdout",
     "output_type": "stream",
     "text": [
      "Mary Joe John\n"
     ]
    }
   ],
   "source": [
    "name0   = \"Mary\"\n",
    "_nAmE_2 = \"Joe\"\n",
    "Name0   = \"John\" # case sensitivity\n",
    "print(name0 , _nAmE_2 , Name0)"
   ]
  },
  {
   "cell_type": "markdown",
   "metadata": {
    "slideshow": {
     "slide_type": "fragment"
    }
   },
   "source": [
    "## 錯誤變數命名方式，大家可以依序把註解拿掉看看結果"
   ]
  },
  {
   "cell_type": "code",
   "execution_count": 9,
   "metadata": {
    "slideshow": {
     "slide_type": "fragment"
    }
   },
   "outputs": [],
   "source": [
    "#1name  = \"Mike\"\n",
    "#+name  = \"James\" # + 為運算子\n",
    "#name.1 = \"Kate\"\n",
    "#for    = \"Cindy\" # for 為保留字"
   ]
  },
  {
   "cell_type": "markdown",
   "metadata": {
    "slideshow": {
     "slide_type": "subslide"
    }
   },
   "source": [
    "## 正確的命名方式 - 有意義的命名\n",
    "* 小寫、兩個單字以底線隔開、有意義的名字"
   ]
  },
  {
   "cell_type": "code",
   "execution_count": 10,
   "metadata": {
    "scrolled": true,
    "slideshow": {
     "slide_type": "fragment"
    }
   },
   "outputs": [
    {
     "name": "stdout",
     "output_type": "stream",
     "text": [
      "50\n"
     ]
    }
   ],
   "source": [
    "a1 = 5\n",
    "a2 = 10\n",
    "a3 = a1 * a2\n",
    "print(a3)"
   ]
  },
  {
   "cell_type": "code",
   "execution_count": 11,
   "metadata": {
    "slideshow": {
     "slide_type": "fragment"
    }
   },
   "outputs": [
    {
     "name": "stdout",
     "output_type": "stream",
     "text": [
      "50\n",
      "90\n"
     ]
    }
   ],
   "source": [
    "bike_time = 5\n",
    "bike_speed = 10\n",
    "bike_distance = bike_time * bike_speed\n",
    "print(bike_distance)\n",
    "\n",
    "car_time = 3\n",
    "car_speed = 30\n",
    "car_distance = car_time * car_speed\n",
    "print(car_distance)"
   ]
  },
  {
   "cell_type": "markdown",
   "metadata": {
    "slideshow": {
     "slide_type": "subslide"
    }
   },
   "source": [
    "## 3. 數值型態(Numbers)\n",
    "* 整數(Integer)\n",
    "* 浮點數(Float)\n",
    "![](https://i.imgur.com/kD3JGSz.png)"
   ]
  },
  {
   "cell_type": "code",
   "execution_count": 12,
   "metadata": {
    "slideshow": {
     "slide_type": "fragment"
    }
   },
   "outputs": [
    {
     "name": "stdout",
     "output_type": "stream",
     "text": [
      "5\n",
      "0\n",
      "-10\n",
      "3.3333333333333335\n",
      "1\n",
      "3\n",
      "0.01\n"
     ]
    }
   ],
   "source": [
    "print(10 + (-5))\n",
    "print(1+2+3+4-4-3-2-1)\n",
    "print(10*(-1))\n",
    "print(10/3) # 會變成浮點數\n",
    "print(10%3)\n",
    "print(10//3)\n",
    "print(10**(-2))"
   ]
  },
  {
   "cell_type": "markdown",
   "metadata": {
    "slideshow": {
     "slide_type": "subslide"
    }
   },
   "source": [
    "## 浮點數\n",
    "* 0.5 = 2**(-1)\n",
    "* 0.9 = 2\\**(-1) + 2\\**(-2) + 2\\**(-3) ...."
   ]
  },
  {
   "cell_type": "code",
   "execution_count": 13,
   "metadata": {
    "slideshow": {
     "slide_type": "fragment"
    }
   },
   "outputs": [
    {
     "data": {
      "text/plain": [
       "3.33"
      ]
     },
     "execution_count": 13,
     "metadata": {},
     "output_type": "execute_result"
    }
   ],
   "source": [
    "round(10/3,2)"
   ]
  },
  {
   "cell_type": "markdown",
   "metadata": {
    "slideshow": {
     "slide_type": "fragment"
    }
   },
   "source": [
    "### 浮點數與整數運算會變為浮點數"
   ]
  },
  {
   "cell_type": "code",
   "execution_count": 14,
   "metadata": {
    "slideshow": {
     "slide_type": "fragment"
    }
   },
   "outputs": [
    {
     "name": "stdout",
     "output_type": "stream",
     "text": [
      "3.5\n",
      "<class 'float'>\n",
      "3.0\n",
      "<class 'float'>\n"
     ]
    }
   ],
   "source": [
    "print(1.5+2)\n",
    "print(type(1.5+2))\n",
    "print(1.5//0.5) # 浮點數運算完 還是浮點數\n",
    "print(type(1.5//0.2))"
   ]
  },
  {
   "cell_type": "markdown",
   "metadata": {},
   "source": [
    "* 參考：[IEEE754](https://zh.wikipedia.org/wiki/IEEE_754)"
   ]
  },
  {
   "cell_type": "markdown",
   "metadata": {
    "slideshow": {
     "slide_type": "subslide"
    }
   },
   "source": [
    "## 4. [表達式(Expression)](https://docs.python.org/3/reference/expressions.html)\n",
    "### 運算式 \n",
    "*  1+1  、 a\\*x+b\\*y 、  1.5*10**2 、  2>1 \n",
    "\n",
    "### 變數\n",
    "* 變數 = 表達式\n",
    "* 變數,變數,變數,變數 ... 變數 = 表達式,表達式,表達式,表達式 ... 表達式,"
   ]
  },
  {
   "cell_type": "code",
   "execution_count": 15,
   "metadata": {
    "slideshow": {
     "slide_type": "fragment"
    }
   },
   "outputs": [
    {
     "name": "stdout",
     "output_type": "stream",
     "text": [
      "1 2 True -1.23 Dog 15\n"
     ]
    }
   ],
   "source": [
    "a = 1\n",
    "b, c, d, e, f = 1+1, 10>-5, -1.23, \"Dog\", a*10+5\n",
    "print(a,b,c,d,e,f)"
   ]
  },
  {
   "cell_type": "markdown",
   "metadata": {
    "slideshow": {
     "slide_type": "subslide"
    }
   },
   "source": [
    "## 5. 運算元與運算子\n",
    "### 運算式 = 運算元(物件) + 運算子\n",
    "### 運算子\n",
    "* 數學運算子\n",
    "* 布林運算子(又稱邏輯運算子)\n",
    "* 比較運算子\n",
    "* 位元運算子\n",
    "* 賦值運算子"
   ]
  },
  {
   "cell_type": "markdown",
   "metadata": {
    "slideshow": {
     "slide_type": "subslide"
    }
   },
   "source": [
    "## 數學運算子\n",
    "![](https://i.imgur.com/kD3JGSz.png)"
   ]
  },
  {
   "cell_type": "markdown",
   "metadata": {
    "slideshow": {
     "slide_type": "subslide"
    }
   },
   "source": [
    "## 比較運算子\n",
    "![](https://i.imgur.com/CDunWsU.png)"
   ]
  },
  {
   "cell_type": "code",
   "execution_count": 16,
   "metadata": {
    "slideshow": {
     "slide_type": "fragment"
    }
   },
   "outputs": [
    {
     "name": "stdout",
     "output_type": "stream",
     "text": [
      "True\n",
      "False\n",
      "False\n",
      "True\n",
      "False\n",
      "True\n"
     ]
    }
   ],
   "source": [
    "a = 10\n",
    "b = -1.5\n",
    "print(a > b)\n",
    "print(a < b)\n",
    "print(a == b)\n",
    "print(a >= b)\n",
    "print(a <= b)\n",
    "print(a != b)"
   ]
  },
  {
   "cell_type": "markdown",
   "metadata": {
    "slideshow": {
     "slide_type": "subslide"
    }
   },
   "source": [
    "## 布林運算子(又稱邏輯運算子)\n",
    "![](https://i.imgur.com/U06tnQq.png)"
   ]
  },
  {
   "cell_type": "code",
   "execution_count": 17,
   "metadata": {
    "slideshow": {
     "slide_type": "fragment"
    }
   },
   "outputs": [
    {
     "data": {
      "text/plain": [
       "True"
      ]
     },
     "execution_count": 17,
     "metadata": {},
     "output_type": "execute_result"
    }
   ],
   "source": [
    "(1+1 > 2)or(2 > 0)"
   ]
  },
  {
   "cell_type": "code",
   "execution_count": 18,
   "metadata": {
    "slideshow": {
     "slide_type": "fragment"
    }
   },
   "outputs": [
    {
     "data": {
      "text/plain": [
       "True"
      ]
     },
     "execution_count": 18,
     "metadata": {},
     "output_type": "execute_result"
    }
   ],
   "source": [
    "not(False)and(3 > 2)"
   ]
  },
  {
   "cell_type": "markdown",
   "metadata": {
    "slideshow": {
     "slide_type": "subslide"
    }
   },
   "source": [
    "## 位元運算子(2位元)\n",
    "![](https://i.imgur.com/efYImn4.png)"
   ]
  },
  {
   "cell_type": "markdown",
   "metadata": {
    "slideshow": {
     "slide_type": "subslide"
    }
   },
   "source": [
    "## 賦值運算子\n",
    "![](https://i.imgur.com/HPTL7WA.png)"
   ]
  },
  {
   "cell_type": "code",
   "execution_count": 19,
   "metadata": {
    "slideshow": {
     "slide_type": "fragment"
    }
   },
   "outputs": [
    {
     "name": "stdout",
     "output_type": "stream",
     "text": [
      "4\n"
     ]
    }
   ],
   "source": [
    "a = 2\n",
    "a **= 2\n",
    "print(a)"
   ]
  },
  {
   "cell_type": "markdown",
   "metadata": {
    "slideshow": {
     "slide_type": "subslide"
    }
   },
   "source": [
    "# 運算子優先順序\n",
    "![](https://i.imgur.com/Ne5M4sH.png)\n"
   ]
  },
  {
   "cell_type": "code",
   "execution_count": 20,
   "metadata": {
    "slideshow": {
     "slide_type": "fragment"
    }
   },
   "outputs": [
    {
     "data": {
      "text/plain": [
       "15.0"
      ]
     },
     "execution_count": 20,
     "metadata": {},
     "output_type": "execute_result"
    }
   ],
   "source": [
    "a = 3 + 10/5*2*(1+2)\n",
    "a"
   ]
  },
  {
   "cell_type": "markdown",
   "metadata": {
    "slideshow": {
     "slide_type": "subslide"
    }
   },
   "source": [
    "# 課堂練習\n",
    "![](https://i.imgur.com/k7u7f7y.png)"
   ]
  },
  {
   "cell_type": "code",
   "execution_count": 21,
   "metadata": {
    "slideshow": {
     "slide_type": "fragment"
    }
   },
   "outputs": [],
   "source": [
    "# Exercise\n"
   ]
  },
  {
   "cell_type": "markdown",
   "metadata": {
    "slideshow": {
     "slide_type": "slide"
    }
   },
   "source": [
    "# Python基本介紹 (cont'd)\n",
    "1. 常見資料型態\n",
    "    * 數值\n",
    "    * 布林\n",
    "    * 字串\n",
    "    * 序列\n",
    "    * 字典\n",
    "2. 輸入與輸出\n",
    "3. 條件句\n",
    "4. 迴圈"
   ]
  },
  {
   "cell_type": "markdown",
   "metadata": {
    "slideshow": {
     "slide_type": "subslide"
    }
   },
   "source": [
    "# 1.常見資料型態\n",
    "## 布林(Boolean) : True、False(字首一定要大寫)"
   ]
  },
  {
   "cell_type": "code",
   "execution_count": 22,
   "metadata": {
    "slideshow": {
     "slide_type": "fragment"
    }
   },
   "outputs": [
    {
     "data": {
      "text/plain": [
       "False"
      ]
     },
     "execution_count": 22,
     "metadata": {},
     "output_type": "execute_result"
    }
   ],
   "source": [
    "2 > 3"
   ]
  },
  {
   "cell_type": "code",
   "execution_count": 23,
   "metadata": {
    "slideshow": {
     "slide_type": "fragment"
    }
   },
   "outputs": [
    {
     "data": {
      "text/plain": [
       "False"
      ]
     },
     "execution_count": 23,
     "metadata": {},
     "output_type": "execute_result"
    }
   ],
   "source": [
    "not True"
   ]
  },
  {
   "cell_type": "markdown",
   "metadata": {
    "slideshow": {
     "slide_type": "subslide"
    }
   },
   "source": [
    "## 序列\n",
    "### * List：有順序的物件集合，具有索引特性，長度可變動。\n",
    "![](https://i.imgur.com/He0Jgra.png)"
   ]
  },
  {
   "cell_type": "code",
   "execution_count": 24,
   "metadata": {
    "slideshow": {
     "slide_type": "fragment"
    }
   },
   "outputs": [
    {
     "name": "stdout",
     "output_type": "stream",
     "text": [
      "[1, 2, 3, 4, 5] ['apple', 'banana'] [1, 0.9, 'cat', [1, 2], ['apple', 'banana']]\n",
      "1\n",
      "0.9\n",
      "['apple', 'banana']\n"
     ]
    }
   ],
   "source": [
    "a = []\n",
    "numbers = [1, 2, 3, 4, 5]\n",
    "fruit = ['apple', 'banana']\n",
    "mixed = [1, 0.9, 'cat', [1, 2], fruit]\n",
    "print(numbers, fruit, mixed)\n",
    "print(mixed[0])\n",
    "print(mixed[1])\n",
    "print(mixed[-1])"
   ]
  },
  {
   "cell_type": "markdown",
   "metadata": {
    "slideshow": {
     "slide_type": "subslide"
    }
   },
   "source": [
    "## 常見的運算方式\n",
    "![](https://i.imgur.com/a2HyTV1.png)"
   ]
  },
  {
   "cell_type": "code",
   "execution_count": 25,
   "metadata": {
    "slideshow": {
     "slide_type": "subslide"
    }
   },
   "outputs": [
    {
     "name": "stdout",
     "output_type": "stream",
     "text": [
      "['guava', 'banana', 'grape', 'watermelon']\n",
      "['banana', 'grape']\n",
      "[1, 3, 5, 7, 9]\n",
      "[0, 2, 4, 6, 8, 10]\n",
      "True\n",
      "True\n",
      "[0, 2, 4, 6, 8, 10, 1, 3, 5, 7, 9]\n",
      "[1, 1, 1, 1, 1, 1, 1, 1, 1, 1]\n",
      "10\n",
      "[1, 3, 5, 7, 9]\n",
      "9\n",
      "1\n"
     ]
    }
   ],
   "source": [
    "fruit = ['apple', 'banana', 'grape', 'watermelon']\n",
    "fruit[0] = 'guava'\n",
    "print(fruit)\n",
    "print(fruit[1:3])\n",
    "\n",
    "a = [0, 1, 2, 3, 4, 5, 6, 7, 8, 9, 10]\n",
    "print(a[1:10:2])\n",
    "\n",
    "del[a[1:10:2]]\n",
    "print(a)\n",
    "\n",
    "print(2 in a)\n",
    "print(3 not in a)\n",
    "\n",
    "b = [1, 3, 5, 7, 9]\n",
    "print(a + b)\n",
    "\n",
    "c = [1]*10\n",
    "print(c)\n",
    "print(len(c))\n",
    "\n",
    "print(b)\n",
    "print(max(b))\n",
    "print(min(b))"
   ]
  },
  {
   "cell_type": "markdown",
   "metadata": {
    "slideshow": {
     "slide_type": "subslide"
    }
   },
   "source": [
    "## 常用的函式\n",
    "![](https://i.imgur.com/MfOe4Ea.png)\n"
   ]
  },
  {
   "cell_type": "markdown",
   "metadata": {
    "slideshow": {
     "slide_type": "subslide"
    }
   },
   "source": [
    "## * Tuple：就像是List，不過串列是可變動（Mutable）物件，而Tuple是不可變動（Immutable）物件。\n",
    "### 切記!有更動到值的運算都不能使用"
   ]
  },
  {
   "cell_type": "code",
   "execution_count": 26,
   "metadata": {
    "slideshow": {
     "slide_type": "fragment"
    }
   },
   "outputs": [
    {
     "name": "stdout",
     "output_type": "stream",
     "text": [
      "(1, 2, -1.2, 'hi')\n",
      "<class 'tuple'>\n"
     ]
    }
   ],
   "source": [
    "a = (1, 2, -1.2, 'hi')\n",
    "print(a)\n",
    "print(type(a))\n",
    "\n",
    "# fruit[0] = 'guava'"
   ]
  },
  {
   "cell_type": "code",
   "execution_count": 27,
   "metadata": {
    "slideshow": {
     "slide_type": "fragment"
    }
   },
   "outputs": [
    {
     "name": "stdout",
     "output_type": "stream",
     "text": [
      "('apple', 'banana', 'grape', 'watermelon', 'guava')\n",
      "('apple', 'banana', 'grape', 'watermelon', 'guava', 'apple', 'banana', 'grape', 'watermelon', 'guava')\n"
     ]
    }
   ],
   "source": [
    "fruit = ('apple', 'banana', 'grape', 'watermelon')\n",
    "fruit = fruit + ('guava',)\n",
    "print(fruit)\n",
    "fruit = fruit * 2\n",
    "print(fruit)"
   ]
  },
  {
   "cell_type": "markdown",
   "metadata": {
    "slideshow": {
     "slide_type": "subslide"
    }
   },
   "source": [
    "### 為什麼要加逗號？\n",
    "![](https://i.imgur.com/Wmt3tQE.png)"
   ]
  },
  {
   "cell_type": "code",
   "execution_count": 28,
   "metadata": {
    "slideshow": {
     "slide_type": "fragment"
    }
   },
   "outputs": [
    {
     "name": "stdout",
     "output_type": "stream",
     "text": [
      "<class 'int'>\n",
      "<class 'tuple'>\n",
      "<class 'tuple'>\n"
     ]
    }
   ],
   "source": [
    "a = (1)\n",
    "print(type(a))\n",
    "\n",
    "b = (1,)\n",
    "print(type(b))\n",
    "\n",
    "c = (1, 2)\n",
    "print(type(c))"
   ]
  },
  {
   "cell_type": "markdown",
   "metadata": {
    "slideshow": {
     "slide_type": "subslide"
    }
   },
   "source": [
    "* 字典(Dictionary)\n",
    "![](https://i.imgur.com/CMiFRRC.png)\n"
   ]
  },
  {
   "cell_type": "code",
   "execution_count": 29,
   "metadata": {
    "slideshow": {
     "slide_type": "subslide"
    }
   },
   "outputs": [
    {
     "name": "stdout",
     "output_type": "stream",
     "text": [
      "Physics score =  50\n"
     ]
    }
   ],
   "source": [
    "subject = ['Chinese', 'English', 'Math', 'History', 'Physics', 'Chemistry']\n",
    "score = [98, 65, 87, 77, 50, 88]\n",
    "\n",
    "ind = subject.index('Physics')\n",
    "print(\"Physics score = \", score[ind])"
   ]
  },
  {
   "cell_type": "markdown",
   "metadata": {
    "slideshow": {
     "slide_type": "fragment"
    }
   },
   "source": [
    "## 字典的出現，使我們更方便取得對應的值。"
   ]
  },
  {
   "cell_type": "code",
   "execution_count": 30,
   "metadata": {
    "slideshow": {
     "slide_type": "fragment"
    }
   },
   "outputs": [
    {
     "name": "stdout",
     "output_type": "stream",
     "text": [
      "Physics score =  50\n"
     ]
    }
   ],
   "source": [
    "grade = {\n",
    "    'Chinese' : 98,\n",
    "    'English' : 65,\n",
    "    'Math' : 87,\n",
    "    'History' : 77,\n",
    "    'Physics' : 50,\n",
    "    'Chemistry' : 88\n",
    "}\n",
    "\n",
    "print(\"Physics score = \", grade['Physics'])"
   ]
  },
  {
   "cell_type": "code",
   "execution_count": 31,
   "metadata": {
    "slideshow": {
     "slide_type": "subslide"
    }
   },
   "outputs": [
    {
     "name": "stdout",
     "output_type": "stream",
     "text": [
      "<class 'dict'>\n"
     ]
    }
   ],
   "source": [
    "a = {}\n",
    "print(type(a))"
   ]
  },
  {
   "cell_type": "markdown",
   "metadata": {
    "slideshow": {
     "slide_type": "fragment"
    }
   },
   "source": [
    "## key 與 value 可以為任意型態"
   ]
  },
  {
   "cell_type": "code",
   "execution_count": 32,
   "metadata": {
    "slideshow": {
     "slide_type": "fragment"
    }
   },
   "outputs": [
    {
     "name": "stdout",
     "output_type": "stream",
     "text": [
      "{0: 'Hi!', 'Apple': 123}\n"
     ]
    }
   ],
   "source": [
    "a = {\n",
    "    0 : 'Hi!',\n",
    "    'Apple' : 123,\n",
    "}\n",
    "print(a)"
   ]
  },
  {
   "cell_type": "markdown",
   "metadata": {
    "slideshow": {
     "slide_type": "subslide"
    }
   },
   "source": [
    "## 常用的函式\n",
    "![](https://i.imgur.com/6m7kEmu.png)"
   ]
  },
  {
   "cell_type": "markdown",
   "metadata": {
    "slideshow": {
     "slide_type": "subslide"
    }
   },
   "source": [
    "## 字串(String)\n",
    "![](https://i.imgur.com/He0Jgra.png)\n"
   ]
  },
  {
   "cell_type": "code",
   "execution_count": 33,
   "metadata": {
    "slideshow": {
     "slide_type": "fragment"
    }
   },
   "outputs": [
    {
     "name": "stdout",
     "output_type": "stream",
     "text": [
      "Apple Banana\n",
      "p\n",
      "a\n"
     ]
    }
   ],
   "source": [
    "a = \"Apple\"\n",
    "b = 'Banana'\n",
    "c = a + \" \" + b\n",
    "print(c)\n",
    "print(c[1])\n",
    "print(c[-1])"
   ]
  },
  {
   "cell_type": "markdown",
   "metadata": {
    "slideshow": {
     "slide_type": "subslide"
    }
   },
   "source": [
    "# 2.輸入與輸出\n",
    "![](https://i.imgur.com/mNbvViQ.png)"
   ]
  },
  {
   "cell_type": "markdown",
   "metadata": {
    "slideshow": {
     "slide_type": "fragment"
    }
   },
   "source": [
    "## 輸入：input()  - string"
   ]
  },
  {
   "cell_type": "code",
   "execution_count": 34,
   "metadata": {
    "scrolled": true,
    "slideshow": {
     "slide_type": "fragment"
    }
   },
   "outputs": [],
   "source": [
    "# a = input()\n",
    "# print(a)"
   ]
  },
  {
   "cell_type": "code",
   "execution_count": 35,
   "metadata": {
    "slideshow": {
     "slide_type": "subslide"
    }
   },
   "outputs": [],
   "source": [
    "# a = input(\"Enter a number: \")\n",
    "# print(\"The number you type is :\", a)\n",
    "# print(type(a))"
   ]
  },
  {
   "cell_type": "code",
   "execution_count": 36,
   "metadata": {
    "slideshow": {
     "slide_type": "fragment"
    }
   },
   "outputs": [],
   "source": [
    "# a = input(\"Enter a number: \")\n",
    "# print(2 + a)"
   ]
  },
  {
   "cell_type": "markdown",
   "metadata": {
    "slideshow": {
     "slide_type": "fragment"
    }
   },
   "source": [
    "![](https://i.imgur.com/zxbyFhS.png)\n"
   ]
  },
  {
   "cell_type": "markdown",
   "metadata": {
    "slideshow": {
     "slide_type": "subslide"
    }
   },
   "source": [
    "## 轉換型別 - int() 、 float() 、 str()"
   ]
  },
  {
   "cell_type": "code",
   "execution_count": 37,
   "metadata": {
    "slideshow": {
     "slide_type": "fragment"
    }
   },
   "outputs": [
    {
     "name": "stdout",
     "output_type": "stream",
     "text": [
      "<class 'str'>\n",
      "<class 'int'>\n",
      "<class 'float'>\n",
      "<class 'str'>\n"
     ]
    }
   ],
   "source": [
    "a = \"123\"\n",
    "print(type(a))\n",
    "\n",
    "b = int(a)\n",
    "print(type(b))\n",
    "\n",
    "c = float(b)\n",
    "print(type(c))\n",
    "\n",
    "d = str(c)\n",
    "print(type(d))"
   ]
  },
  {
   "cell_type": "markdown",
   "metadata": {
    "slideshow": {
     "slide_type": "subslide"
    }
   },
   "source": [
    "## 輸出：print() \n",
    "* sep = '' 印出東西以什麼間隔，預設為空白。\n",
    "* end = '' 指定在句尾印出什麼，預設為換行。"
   ]
  },
  {
   "cell_type": "code",
   "execution_count": 38,
   "metadata": {
    "scrolled": true,
    "slideshow": {
     "slide_type": "fragment"
    }
   },
   "outputs": [
    {
     "name": "stdout",
     "output_type": "stream",
     "text": [
      "1 2.0 3 4\n"
     ]
    }
   ],
   "source": [
    "print(1, 2.0, '3', 4)"
   ]
  },
  {
   "cell_type": "code",
   "execution_count": 39,
   "metadata": {
    "slideshow": {
     "slide_type": "fragment"
    }
   },
   "outputs": [
    {
     "name": "stdout",
     "output_type": "stream",
     "text": [
      "1////2.0////3////4\n"
     ]
    }
   ],
   "source": [
    "print(1, 2.0, '3', 4,  sep = '////' )"
   ]
  },
  {
   "cell_type": "code",
   "execution_count": 40,
   "metadata": {
    "scrolled": true,
    "slideshow": {
     "slide_type": "fragment"
    }
   },
   "outputs": [
    {
     "name": "stdout",
     "output_type": "stream",
     "text": [
      "1 2.0 3 4!!!!!!!"
     ]
    }
   ],
   "source": [
    "print(1, 2.0, \"3\", 4, end = '!!!!!!!' )"
   ]
  },
  {
   "cell_type": "markdown",
   "metadata": {
    "slideshow": {
     "slide_type": "subslide"
    }
   },
   "source": [
    "# 3.條件句\n",
    "![](https://i.imgur.com/Kok5Wbb.png)"
   ]
  },
  {
   "cell_type": "code",
   "execution_count": 41,
   "metadata": {
    "slideshow": {
     "slide_type": "subslide"
    }
   },
   "outputs": [],
   "source": [
    "# weather = input()\n",
    "# if weather == 'rainy':\n",
    "#     print(\"Bring umbrella\")\n",
    "# print(\"Go out.\")"
   ]
  },
  {
   "cell_type": "code",
   "execution_count": 42,
   "metadata": {
    "slideshow": {
     "slide_type": "fragment"
    }
   },
   "outputs": [
    {
     "name": "stdout",
     "output_type": "stream",
     "text": [
      "In the if.\n",
      "Out of if.\n"
     ]
    }
   ],
   "source": [
    "if True:\n",
    "    print(\"In the if.\" )\n",
    "print(\"Out of if.\")"
   ]
  },
  {
   "cell_type": "markdown",
   "metadata": {
    "slideshow": {
     "slide_type": "subslide"
    }
   },
   "source": [
    "## 縮排(indentation)\n",
    "* 不同的程式區塊(block)\n",
    "* 一個程式的縮排要統一使用相同的空白數或統一使用tab\n",
    "* 建議使用四個空白鍵\n",
    "![](https://i.imgur.com/bKOBVNH.png)"
   ]
  },
  {
   "cell_type": "code",
   "execution_count": 43,
   "metadata": {
    "slideshow": {
     "slide_type": "subslide"
    }
   },
   "outputs": [
    {
     "name": "stdout",
     "output_type": "stream",
     "text": [
      "True\n",
      "True\n"
     ]
    }
   ],
   "source": [
    "if 2 > 0:\n",
    " print(\"True\")\n",
    " print(\"True\")"
   ]
  },
  {
   "cell_type": "markdown",
   "metadata": {
    "slideshow": {
     "slide_type": "fragment"
    }
   },
   "source": [
    "![](https://i.imgur.com/HYjWTxL.png)"
   ]
  },
  {
   "cell_type": "markdown",
   "metadata": {
    "slideshow": {
     "slide_type": "subslide"
    }
   },
   "source": [
    "![](https://i.imgur.com/jZZXFHt.png)"
   ]
  },
  {
   "cell_type": "code",
   "execution_count": 44,
   "metadata": {
    "slideshow": {
     "slide_type": "fragment"
    }
   },
   "outputs": [
    {
     "name": "stdout",
     "output_type": "stream",
     "text": [
      "Yeah! I pass.\n"
     ]
    }
   ],
   "source": [
    "score = 60\n",
    "if score >= 60:\n",
    "    print(\"Yeah! I pass.\")\n",
    "else:\n",
    "    print(\"Oh no! I fail.\")"
   ]
  },
  {
   "cell_type": "markdown",
   "metadata": {
    "slideshow": {
     "slide_type": "subslide"
    }
   },
   "source": [
    "![](https://i.imgur.com/kzep88k.png)\n"
   ]
  },
  {
   "cell_type": "code",
   "execution_count": 45,
   "metadata": {
    "slideshow": {
     "slide_type": "subslide"
    }
   },
   "outputs": [
    {
     "name": "stdout",
     "output_type": "stream",
     "text": [
      "B\n",
      "End\n"
     ]
    }
   ],
   "source": [
    "score = 80\n",
    "if score >= 90:\n",
    "    print('A')\n",
    "elif 90 > score >= 80:\n",
    "    print('B')\n",
    "elif 80 > score >= 70:\n",
    "    print('C')\n",
    "else:\n",
    "    print('D')\n",
    "print('End')\n",
    "    "
   ]
  },
  {
   "cell_type": "code",
   "execution_count": 46,
   "metadata": {
    "slideshow": {
     "slide_type": "fragment"
    }
   },
   "outputs": [
    {
     "name": "stdout",
     "output_type": "stream",
     "text": [
      "B\n",
      "End\n"
     ]
    }
   ],
   "source": [
    "score = 80\n",
    "if score >= 90:\n",
    "    print('A')\n",
    "elif score >= 80:\n",
    "    print('B')\n",
    "elif score >= 70:\n",
    "    print('C')\n",
    "else:\n",
    "    print('D')\n",
    "print('End')"
   ]
  },
  {
   "attachments": {},
   "cell_type": "markdown",
   "metadata": {
    "slideshow": {
     "slide_type": "subslide"
    }
   },
   "source": [
    "## 巢狀 if \n",
    "![](https://i.imgur.com/Md8x6tA.png)"
   ]
  },
  {
   "cell_type": "code",
   "execution_count": 47,
   "metadata": {
    "slideshow": {
     "slide_type": "subslide"
    }
   },
   "outputs": [
    {
     "name": "stdout",
     "output_type": "stream",
     "text": [
      "B\n",
      "End\n"
     ]
    }
   ],
   "source": [
    "score = 80\n",
    "if score >= 80:\n",
    "    if score >= 90:\n",
    "        print('A')\n",
    "    else:\n",
    "        print('B')\n",
    "else: \n",
    "    if score >= 70:\n",
    "        print('C')\n",
    "    else:\n",
    "        print('D')\n",
    "print('End')"
   ]
  },
  {
   "cell_type": "markdown",
   "metadata": {
    "slideshow": {
     "slide_type": "fragment"
    }
   },
   "source": [
    "![](https://i.imgur.com/NgRORrT.png)\n"
   ]
  },
  {
   "cell_type": "code",
   "execution_count": 48,
   "metadata": {
    "slideshow": {
     "slide_type": "subslide"
    }
   },
   "outputs": [],
   "source": [
    "if 0.1*3 == 0.3:\n",
    "    print('True')"
   ]
  },
  {
   "cell_type": "code",
   "execution_count": 49,
   "metadata": {
    "slideshow": {
     "slide_type": "subslide"
    }
   },
   "outputs": [
    {
     "data": {
      "text/plain": [
       "False"
      ]
     },
     "execution_count": 49,
     "metadata": {},
     "output_type": "execute_result"
    }
   ],
   "source": [
    "0.1*3 == 0.3"
   ]
  },
  {
   "cell_type": "code",
   "execution_count": 50,
   "metadata": {
    "slideshow": {
     "slide_type": "fragment"
    }
   },
   "outputs": [
    {
     "name": "stdout",
     "output_type": "stream",
     "text": [
      "True\n"
     ]
    }
   ],
   "source": [
    "if 0.1*3 - 0.3 > 10**(-20):\n",
    "    print('True')\n"
   ]
  },
  {
   "cell_type": "markdown",
   "metadata": {
    "slideshow": {
     "slide_type": "subslide"
    }
   },
   "source": [
    "# 課堂練習(不計分)\n",
    "## 思考一下下面程式碼有什麼問題"
   ]
  },
  {
   "cell_type": "code",
   "execution_count": 51,
   "metadata": {
    "slideshow": {
     "slide_type": "fragment"
    }
   },
   "outputs": [
    {
     "name": "stdout",
     "output_type": "stream",
     "text": [
      "C\n"
     ]
    }
   ],
   "source": [
    "score = 70\n",
    "if score < 70:\n",
    "    print('D')\n",
    "elif score >= 70:\n",
    "    print('C')\n",
    "elif score >= 80:\n",
    "    print('B')\n",
    "elif score >= 90:\n",
    "    print('A')"
   ]
  },
  {
   "cell_type": "markdown",
   "metadata": {
    "slideshow": {
     "slide_type": "subslide"
    }
   },
   "source": [
    "# 課堂練習(計分)\n",
    "## A B C D 四點分別為第幾象限，請用if else做判斷。\n",
    "![](https://i.imgur.com/pE4TMoc.png)\n"
   ]
  },
  {
   "cell_type": "code",
   "execution_count": 52,
   "metadata": {
    "slideshow": {
     "slide_type": "fragment"
    }
   },
   "outputs": [],
   "source": [
    "# Exercise\n",
    "A = [-1, -10]\n",
    "B = [5, -5]\n",
    "C = [1, 1]\n",
    "D = [-2, 3]"
   ]
  },
  {
   "cell_type": "markdown",
   "metadata": {
    "slideshow": {
     "slide_type": "subslide"
    }
   },
   "source": [
    "# 4.迴圈"
   ]
  },
  {
   "cell_type": "markdown",
   "metadata": {
    "slideshow": {
     "slide_type": "subslide"
    }
   },
   "source": [
    "# 5.註解\n",
    "* 增加程式可讀性\n",
    "* 方便除錯\n",
    "* 紀錄用法 "
   ]
  },
  {
   "cell_type": "code",
   "execution_count": 53,
   "metadata": {
    "slideshow": {
     "slide_type": "fragment"
    }
   },
   "outputs": [
    {
     "name": "stdout",
     "output_type": "stream",
     "text": [
      "Out of comment\n"
     ]
    }
   ],
   "source": [
    "# print(\"In single line comment\")\n",
    "print(\"Out of comment\")\n"
   ]
  },
  {
   "cell_type": "code",
   "execution_count": 54,
   "metadata": {
    "slideshow": {
     "slide_type": "fragment"
    }
   },
   "outputs": [
    {
     "name": "stdout",
     "output_type": "stream",
     "text": [
      "Out of comment\n"
     ]
    }
   ],
   "source": [
    "''' \n",
    "print(\"In multiple lines comment\")\n",
    "print(\"In multiple lines comment\")\n",
    "'''\n",
    "print(\"Out of comment\")"
   ]
  },
  {
   "cell_type": "markdown",
   "metadata": {
    "slideshow": {
     "slide_type": "slide"
    }
   },
   "source": [
    "# 課堂練習 - 終極密碼 (計分)\n",
    "## 說明：隨機產生一個1~100整數的答案(已寫好)，寫一個可以一直猜答案的小程式，若猜的答案太小輸出\"Too small\"，若猜的答案太大輸出\"Too big\"，猜對答案輸出\"Correct\"，程式才結束。\n",
    "![](https://i.imgur.com/X0Lv7AK.png)\n"
   ]
  },
  {
   "cell_type": "code",
   "execution_count": 55,
   "metadata": {
    "slideshow": {
     "slide_type": "fragment"
    }
   },
   "outputs": [],
   "source": [
    "# Exercise\n",
    "import random\n",
    "\n",
    "answer = random.randint(1,100)\n"
   ]
  }
 ],
 "metadata": {
  "celltoolbar": "Slideshow",
  "kernelspec": {
   "display_name": "Python 3",
   "language": "python",
   "name": "python3"
  },
  "language_info": {
   "codemirror_mode": {
    "name": "ipython",
    "version": 3
   },
   "file_extension": ".py",
   "mimetype": "text/x-python",
   "name": "python",
   "nbconvert_exporter": "python",
   "pygments_lexer": "ipython3",
   "version": "3.6.5"
  }
 },
 "nbformat": 4,
 "nbformat_minor": 2
}
