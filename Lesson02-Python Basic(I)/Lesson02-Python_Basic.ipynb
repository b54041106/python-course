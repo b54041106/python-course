{
 "cells": [
  {
   "cell_type": "markdown",
   "metadata": {
    "slideshow": {
     "slide_type": "slide"
    }
   },
   "source": [
    "# [X-Village] Lesson 02 - Python_Basic(I)\n",
    "## by 鍾日超"
   ]
  },
  {
   "cell_type": "markdown",
   "metadata": {
    "slideshow": {
     "slide_type": "slide"
    }
   },
   "source": [
    "# 寫python時遇到問題怎麼辦？\n",
    "![](https://i.imgur.com/w4IoUNg.png)"
   ]
  },
  {
   "cell_type": "markdown",
   "metadata": {
    "slideshow": {
     "slide_type": "subslide"
    }
   },
   "source": [
    "# 寫python時遇到問題怎麼辦？\n",
    "1. python doc\n",
    "2. stackoverflow\n",
    "3. google\n",
    "4. 同儕、老師、助教等等"
   ]
  },
  {
   "cell_type": "markdown",
   "metadata": {
    "slideshow": {
     "slide_type": "subslide"
    }
   },
   "source": [
    "## [python doc](https://docs.python.org/3/)\n",
    "* 安裝問題\n",
    "* 教學\n",
    "* 標準函式庫\n",
    "* 更新模組\n",
    "* 等等....."
   ]
  },
  {
   "cell_type": "markdown",
   "metadata": {
    "slideshow": {
     "slide_type": "subslide"
    }
   },
   "source": [
    "## [python doc](https://docs.python.org/3/) (cont'd)\n",
    "![](https://i.imgur.com/ITGIfI7.png)"
   ]
  },
  {
   "cell_type": "markdown",
   "metadata": {
    "slideshow": {
     "slide_type": "subslide"
    }
   },
   "source": [
    "## [stackoverflow](https://stackoverflow.com/)\n",
    "![](https://i.imgur.com/oDRzt5I.jpg)\n"
   ]
  },
  {
   "cell_type": "markdown",
   "metadata": {
    "slideshow": {
     "slide_type": "subslide"
    }
   },
   "source": [
    "## [stackoverflow](https://stackoverflow.com/) (cont'd)\n",
    "\n",
    "* 遇到 errors、bugs\n",
    "![](https://i.imgur.com/WtXaX0b.png)\n"
   ]
  },
  {
   "cell_type": "markdown",
   "metadata": {
    "slideshow": {
     "slide_type": "subslide"
    }
   },
   "source": [
    "## [stackoverflow](https://stackoverflow.com/) (cont'd)\n",
    "\n",
    "* 找工作\n",
    "![](https://i.imgur.com/6ctFqeF.png)\n"
   ]
  },
  {
   "cell_type": "markdown",
   "metadata": {
    "slideshow": {
     "slide_type": "subslide"
    }
   },
   "source": [
    "## [Google](https://www.google.com)\n",
    "\n",
    "![](https://i.imgur.com/iKoqpPh.png)"
   ]
  },
  {
   "cell_type": "markdown",
   "metadata": {
    "slideshow": {
     "slide_type": "subslide"
    }
   },
   "source": [
    "## 同儕\n",
    "![](https://i.imgur.com/r5yIVEC.png)"
   ]
  },
  {
   "cell_type": "markdown",
   "metadata": {
    "slideshow": {
     "slide_type": "slide"
    }
   },
   "source": [
    "# Python\n",
    "![](https://i.imgur.com/X7cGHpS.png)\n"
   ]
  },
  {
   "cell_type": "markdown",
   "metadata": {
    "slideshow": {
     "slide_type": "subslide"
    }
   },
   "source": [
    "# 直譯器與編譯器\n",
    "*  直譯器：把高階程式語言一行一行直接轉譯執行，每次執行程式時都要先轉成另一種語言再作執行，因此直譯器的程式運行速度比較緩慢。\n",
    "*  編譯器：編譯器已一次將所有原程式碼翻譯成另一種語言(例如：機器碼)，執行時便無需再依賴編譯器或額外的程式，故而其運行速度比較快。\n",
    "-節選自wiki\n",
    "\n",
    "![](https://i.imgur.com/Tubwtxe.png)\n",
    "\n"
   ]
  },
  {
   "cell_type": "markdown",
   "metadata": {
    "slideshow": {
     "slide_type": "subslide"
    }
   },
   "source": [
    "# 直譯器與編譯器(cont'd)\n",
    "![](https://i.imgur.com/CtqIyIp.png)\n"
   ]
  },
  {
   "cell_type": "markdown",
   "metadata": {
    "slideshow": {
     "slide_type": "slide"
    }
   },
   "source": [
    "# Python基本介紹\n",
    "1. 註解\n",
    "2. 一行很長的程式碼分成兩行（\\）\n",
    "3. 保留字"
   ]
  },
  {
   "cell_type": "markdown",
   "metadata": {
    "slideshow": {
     "slide_type": "subslide"
    }
   },
   "source": [
    "## 1.註解\n",
    "* 增加程式可讀性\n",
    "* 方便除錯\n",
    "* 紀錄用法 "
   ]
  },
  {
   "cell_type": "code",
   "execution_count": 1,
   "metadata": {
    "slideshow": {
     "slide_type": "fragment"
    }
   },
   "outputs": [
    {
     "name": "stdout",
     "output_type": "stream",
     "text": [
      "Out of comment\n"
     ]
    }
   ],
   "source": [
    "# print(\"In single line comment\")\n",
    "print(\"Out of comment\")"
   ]
  },
  {
   "cell_type": "code",
   "execution_count": 2,
   "metadata": {
    "slideshow": {
     "slide_type": "fragment"
    }
   },
   "outputs": [
    {
     "name": "stdout",
     "output_type": "stream",
     "text": [
      "Out of comment\n"
     ]
    }
   ],
   "source": [
    "''' \n",
    "print(\"In multiple lines comment\")\n",
    "print(\"In multiple lines comment\")\n",
    "'''\n",
    "print(\"Out of comment\")"
   ]
  },
  {
   "cell_type": "markdown",
   "metadata": {
    "slideshow": {
     "slide_type": "subslide"
    }
   },
   "source": [
    "## 2. 一行很長的程式碼分成兩行（\\）(不被建議使用)\n"
   ]
  },
  {
   "cell_type": "code",
   "execution_count": 3,
   "metadata": {
    "slideshow": {
     "slide_type": "fragment"
    }
   },
   "outputs": [
    {
     "name": "stdout",
     "output_type": "stream",
     "text": [
      "Python is an easy to learn, powerful programming language. It has efficient high-level data structures and a simple but effective approach to object-oriented programming. Python’s elegant syntax and dynamic typing, together with its interpreted nature, make it an ideal language for scripting and rapid application development in many areas on most platforms.\n"
     ]
    }
   ],
   "source": [
    "print(\"Python is an easy to learn, powerful programming language. It has efficient high-level data structures and a simple but effective approach to object-oriented programming. Python’s elegant syntax and dynamic typing, together with its interpreted nature, make it an ideal language for scripting and rapid application development in many areas on most platforms.\")"
   ]
  },
  {
   "cell_type": "code",
   "execution_count": 4,
   "metadata": {
    "slideshow": {
     "slide_type": "fragment"
    }
   },
   "outputs": [
    {
     "name": "stdout",
     "output_type": "stream",
     "text": [
      "Python is an easy to learn, powerful programming language. It has efficient high-level data structures and a simple but effective approach to object-oriented programming. Python’s elegant syntax and dynamic typing, together with its interpreted nature, make it an ideal language for scripting and rapid application development in many areas on most platforms.\n"
     ]
    }
   ],
   "source": [
    "print(\"Python is an easy to learn, powerful programming language. \\\n",
    "It has efficient high-level data structures and a simple but effective approach to object-oriented programming. \\\n",
    "Python’s elegant syntax and dynamic typing, together with its interpreted nature, \\\n",
    "make it an ideal language for scripting and rapid application development in many areas on most platforms.\")"
   ]
  },
  {
   "cell_type": "markdown",
   "metadata": {},
   "source": [
    "# 建議使用方式"
   ]
  },
  {
   "cell_type": "code",
   "execution_count": 5,
   "metadata": {
    "slideshow": {
     "slide_type": "fragment"
    }
   },
   "outputs": [
    {
     "name": "stdout",
     "output_type": "stream",
     "text": [
      "Python is an easy to learn, powerful programming language.\n",
      "It has efficient high-level data structures and a simple but effective approach to object-oriented programming.\n",
      "Python’s elegant syntax and dynamic typing, together with its interpreted nature,make it an ideal language for scripting and rapid application development in many areas on most platforms.\n"
     ]
    }
   ],
   "source": [
    "print( \"Python is an easy to learn, powerful programming language.\\n\"\n",
    "    \"It has efficient high-level data structures and a simple but effective approach to object-oriented programming.\\n\"\n",
    "    \"Python’s elegant syntax and dynamic typing, together with its interpreted nature,\"\n",
    "    \"make it an ideal language for scripting and rapid application development in many areas on most platforms.\"\n",
    "     )"
   ]
  },
  {
   "cell_type": "markdown",
   "metadata": {
    "slideshow": {
     "slide_type": "subslide"
    }
   },
   "source": [
    "## 3. 保留字\n",
    "![](https://i.imgur.com/MKfCASH.png)"
   ]
  },
  {
   "cell_type": "markdown",
   "metadata": {
    "slideshow": {
     "slide_type": "subslide"
    }
   },
   "source": [
    "# 第一個課堂練習  印出 \"Hello World !\""
   ]
  },
  {
   "cell_type": "code",
   "execution_count": 6,
   "metadata": {
    "slideshow": {
     "slide_type": "fragment"
    }
   },
   "outputs": [],
   "source": [
    "# Exercise"
   ]
  },
  {
   "cell_type": "markdown",
   "metadata": {
    "slideshow": {
     "slide_type": "slide"
    }
   },
   "source": [
    "# Python基本介紹 (cont'd)\n",
    "1. 物件(Object)\n",
    "2. 變數(Variable)\n",
    "3. 數值型態(Int、Float)\n",
    "4. 表達式(Expression)\n",
    "5. 運算子與運算元(Operator and operand)"
   ]
  },
  {
   "cell_type": "markdown",
   "metadata": {
    "slideshow": {
     "slide_type": "subslide"
    }
   },
   "source": [
    "# 1.物件(Object)\n",
    "* python中 每一個東西都是一個物件\n",
    "* 物件可以被理解為一種容器\n",
    "* 每個物件有屬於自己的型別(type)與值(value)\n",
    "* 在記憶體中佔有空間\n",
    "![](https://i.imgur.com/PXdYplA.png)\n"
   ]
  },
  {
   "cell_type": "code",
   "execution_count": 7,
   "metadata": {
    "slideshow": {
     "slide_type": "subslide"
    }
   },
   "outputs": [
    {
     "data": {
      "text/plain": [
       "123"
      ]
     },
     "execution_count": 7,
     "metadata": {},
     "output_type": "execute_result"
    }
   ],
   "source": [
    "123"
   ]
  },
  {
   "cell_type": "code",
   "execution_count": 8,
   "metadata": {
    "slideshow": {
     "slide_type": "fragment"
    }
   },
   "outputs": [
    {
     "data": {
      "text/plain": [
       "int"
      ]
     },
     "execution_count": 8,
     "metadata": {},
     "output_type": "execute_result"
    }
   ],
   "source": [
    "type(123)"
   ]
  },
  {
   "cell_type": "code",
   "execution_count": 9,
   "metadata": {
    "slideshow": {
     "slide_type": "fragment"
    }
   },
   "outputs": [
    {
     "data": {
      "text/plain": [
       "'Hello World!'"
      ]
     },
     "execution_count": 9,
     "metadata": {},
     "output_type": "execute_result"
    }
   ],
   "source": [
    "\"Hello World!\""
   ]
  },
  {
   "cell_type": "code",
   "execution_count": 10,
   "metadata": {
    "slideshow": {
     "slide_type": "fragment"
    }
   },
   "outputs": [
    {
     "data": {
      "text/plain": [
       "str"
      ]
     },
     "execution_count": 10,
     "metadata": {},
     "output_type": "execute_result"
    }
   ],
   "source": [
    "type(\"Hello World!\")"
   ]
  },
  {
   "cell_type": "markdown",
   "metadata": {
    "slideshow": {
     "slide_type": "subslide"
    }
   },
   "source": [
    "## 2.變數(Variable)\n",
    "* 不用宣告型別(int、float)\n",
    "* 為物件命名(不能為保留字)\n",
    "* 記憶體位址為物件的記憶體位址\n"
   ]
  },
  {
   "cell_type": "markdown",
   "metadata": {
    "slideshow": {
     "slide_type": "subslide"
    }
   },
   "source": [
    "* 不用宣告型別\n",
    "![](https://i.imgur.com/z9rBsXB.png)\n"
   ]
  },
  {
   "cell_type": "code",
   "execution_count": 11,
   "metadata": {
    "slideshow": {
     "slide_type": "fragment"
    }
   },
   "outputs": [
    {
     "name": "stdout",
     "output_type": "stream",
     "text": [
      "1\n",
      "<class 'int'>\n"
     ]
    }
   ],
   "source": [
    "a = 1\n",
    "print(a)\n",
    "print(type(a))"
   ]
  },
  {
   "cell_type": "code",
   "execution_count": 12,
   "metadata": {
    "slideshow": {
     "slide_type": "fragment"
    }
   },
   "outputs": [
    {
     "name": "stdout",
     "output_type": "stream",
     "text": [
      "Hello\n",
      "<class 'str'>\n"
     ]
    }
   ],
   "source": [
    "b = \"Hello\"\n",
    "print(b)\n",
    "print(type(b))"
   ]
  },
  {
   "cell_type": "markdown",
   "metadata": {
    "slideshow": {
     "slide_type": "subslide"
    }
   },
   "source": [
    "* 為物件命名 － 命名方式\n",
    "    * 開頭必為大小寫英文字母或底線\n",
    "    * 非開頭可以為大小寫英文字母、數字、底線\n",
    "    * 大小寫敏感性(case sensitivity)\n",
    "    * 不可為保留字(reserved words)及運算子(operator)"
   ]
  },
  {
   "cell_type": "code",
   "execution_count": 13,
   "metadata": {
    "slideshow": {
     "slide_type": "fragment"
    }
   },
   "outputs": [
    {
     "name": "stdout",
     "output_type": "stream",
     "text": [
      "Mary Joe John\n"
     ]
    }
   ],
   "source": [
    "# 合法的變數命名方式\n",
    "name0   = \"Mary\"\n",
    "_nAmE_2 = \"Joe\"\n",
    "Name0   = \"John\" # case sensitivity\n",
    "print(name0 , _nAmE_2 , Name0)"
   ]
  },
  {
   "cell_type": "code",
   "execution_count": 14,
   "metadata": {
    "slideshow": {
     "slide_type": "fragment"
    }
   },
   "outputs": [],
   "source": [
    "# 錯誤變數命名方式，大家可以依序註解看看結果\n",
    "# 1name  = \"Mike\"\n",
    "# +name  = \"James\" # + 為運算子\n",
    "# name.1 = \"Kate\"\n",
    "# for    = \"Cindy\" # for 為保留字"
   ]
  },
  {
   "cell_type": "markdown",
   "metadata": {
    "slideshow": {
     "slide_type": "subslide"
    }
   },
   "source": [
    "* 為物件命名 － 有意義的命名(cont'd)"
   ]
  },
  {
   "cell_type": "code",
   "execution_count": 15,
   "metadata": {
    "slideshow": {
     "slide_type": "fragment"
    }
   },
   "outputs": [
    {
     "name": "stdout",
     "output_type": "stream",
     "text": [
      "50\n"
     ]
    }
   ],
   "source": [
    "a1 = 5\n",
    "a2 = 10\n",
    "a3 = a1 * a2\n",
    "print(a3)"
   ]
  },
  {
   "cell_type": "code",
   "execution_count": 16,
   "metadata": {
    "slideshow": {
     "slide_type": "fragment"
    }
   },
   "outputs": [
    {
     "name": "stdout",
     "output_type": "stream",
     "text": [
      "50\n"
     ]
    }
   ],
   "source": [
    "time = 5\n",
    "speed = 10\n",
    "distance = time * speed\n",
    "print(distance)"
   ]
  },
  {
   "cell_type": "markdown",
   "metadata": {
    "slideshow": {
     "slide_type": "subslide"
    }
   },
   "source": [
    "# 課堂練習\n",
    "## 將 a b這兩個變數的內容做交換"
   ]
  },
  {
   "cell_type": "code",
   "execution_count": 17,
   "metadata": {
    "slideshow": {
     "slide_type": "fragment"
    }
   },
   "outputs": [
    {
     "name": "stdout",
     "output_type": "stream",
     "text": [
      "I'm the first setence. I'm the second setence.\n"
     ]
    }
   ],
   "source": [
    "a = \"I'm the first setence.\"\n",
    "b = \"I'm the second setence.\"\n",
    "\n",
    "# Eercise\n",
    "\n",
    "\n",
    "\n",
    "print(a,b)"
   ]
  },
  {
   "cell_type": "markdown",
   "metadata": {
    "slideshow": {
     "slide_type": "subslide"
    }
   },
   "source": [
    "## 3. 數值型態(Numbers)\n",
    "* 整數(Integer)\n",
    "* 浮點數(Float)\n",
    "![](https://i.imgur.com/pGdrr10.png)"
   ]
  },
  {
   "cell_type": "markdown",
   "metadata": {
    "slideshow": {
     "slide_type": "subslide"
    }
   },
   "source": [
    "## 範例"
   ]
  },
  {
   "cell_type": "code",
   "execution_count": 18,
   "metadata": {
    "slideshow": {
     "slide_type": "fragment"
    }
   },
   "outputs": [
    {
     "name": "stdout",
     "output_type": "stream",
     "text": [
      "5\n",
      "0\n",
      "-10\n",
      "3.3333333333333335\n",
      "1\n",
      "3\n",
      "0.01\n"
     ]
    }
   ],
   "source": [
    "print(10 + (-5))\n",
    "print(1+2+3+4-4-3-2-1)\n",
    "print(10*(-1))\n",
    "print(10/3) # 會變成浮點數\n",
    "print(10%3)\n",
    "print(10//3)\n",
    "print(10**(-2))"
   ]
  },
  {
   "cell_type": "markdown",
   "metadata": {
    "slideshow": {
     "slide_type": "subslide"
    }
   },
   "source": [
    "## 範例\n",
    "### 浮點數與整數運算會變為浮點數"
   ]
  },
  {
   "cell_type": "code",
   "execution_count": 19,
   "metadata": {
    "slideshow": {
     "slide_type": "fragment"
    }
   },
   "outputs": [
    {
     "name": "stdout",
     "output_type": "stream",
     "text": [
      "3.5\n",
      "<class 'float'>\n",
      "7.0\n",
      "<class 'float'>\n"
     ]
    }
   ],
   "source": [
    "print(1.5+2)\n",
    "print(type(1.5+2))\n",
    "print(1.5//0.2) # 浮點數運算完 還是浮點數\n",
    "print(type(1.5//0.2))"
   ]
  },
  {
   "cell_type": "markdown",
   "metadata": {
    "slideshow": {
     "slide_type": "subslide"
    }
   },
   "source": [
    "## 4. [表達式(Expression)](https://docs.python.org/3/reference/expressions.html)\n",
    "### 運算式 \n",
    "*  1+1  、 a*x+b*y 、  1.5*10**2 、  2>1 \n",
    "\n",
    "### 變數宣告\n",
    "* 變數 = 表達式\n",
    "* 變數,變數,變數,變數 ... 變數 = 表達式,表達式,表達式,表達式 ... 表達式,"
   ]
  },
  {
   "cell_type": "code",
   "execution_count": 20,
   "metadata": {
    "slideshow": {
     "slide_type": "fragment"
    }
   },
   "outputs": [
    {
     "name": "stdout",
     "output_type": "stream",
     "text": [
      "1 2 True -1.23 Dog 15\n"
     ]
    }
   ],
   "source": [
    "a = 1\n",
    "b, c, d, e, f = 1+1, 10>-5, -1.23, \"Dog\", a*10+5\n",
    "print(a,b,c,d,e,f)"
   ]
  },
  {
   "cell_type": "markdown",
   "metadata": {
    "slideshow": {
     "slide_type": "subslide"
    }
   },
   "source": [
    "## 5. 運算元與運算子\n",
    "### 運算式 = 運算元(物件) + 運算子\n",
    "### 運算子\n",
    "* 數學運算子\n",
    "* 布林運算子(又稱邏輯運算子)\n",
    "* 比較運算子\n",
    "* 位元運算子\n",
    "* 賦值運算子\n"
   ]
  },
  {
   "cell_type": "markdown",
   "metadata": {
    "slideshow": {
     "slide_type": "subslide"
    }
   },
   "source": [
    "## 數學運算子\n",
    "![](https://i.imgur.com/kD3JGSz.png)\n"
   ]
  },
  {
   "cell_type": "markdown",
   "metadata": {
    "slideshow": {
     "slide_type": "subslide"
    }
   },
   "source": [
    "## 比較運算子\n",
    "=![](https://i.imgur.com/CDunWsU.png)\n"
   ]
  },
  {
   "cell_type": "code",
   "execution_count": 21,
   "metadata": {
    "slideshow": {
     "slide_type": "fragment"
    }
   },
   "outputs": [
    {
     "name": "stdout",
     "output_type": "stream",
     "text": [
      "True\n",
      "False\n",
      "False\n",
      "True\n",
      "False\n",
      "True\n"
     ]
    }
   ],
   "source": [
    "a = 10\n",
    "b = -1.5\n",
    "print(a > b)\n",
    "print(a < b)\n",
    "print(a == b)\n",
    "print(a >= b)\n",
    "print(a <= b)\n",
    "print(a != b)"
   ]
  },
  {
   "cell_type": "markdown",
   "metadata": {
    "slideshow": {
     "slide_type": "subslide"
    }
   },
   "source": [
    "## 布林運算子(又稱邏輯運算子)\n",
    "![](https://i.imgur.com/U06tnQq.png)\n"
   ]
  },
  {
   "cell_type": "code",
   "execution_count": 22,
   "metadata": {
    "scrolled": true,
    "slideshow": {
     "slide_type": "fragment"
    }
   },
   "outputs": [
    {
     "name": "stdout",
     "output_type": "stream",
     "text": [
      "True\n",
      "True\n"
     ]
    }
   ],
   "source": [
    "print((1+1 > 2)or(2 > 0))\n",
    "print(not(False)and(3 > 2))"
   ]
  },
  {
   "cell_type": "markdown",
   "metadata": {
    "slideshow": {
     "slide_type": "subslide"
    }
   },
   "source": [
    "## 位元運算子(2位元)\n",
    "![](https://i.imgur.com/efYImn4.png)"
   ]
  },
  {
   "cell_type": "markdown",
   "metadata": {
    "slideshow": {
     "slide_type": "subslide"
    }
   },
   "source": [
    "## 賦值運算子\n",
    "![](https://i.imgur.com/HPTL7WA.png)"
   ]
  },
  {
   "cell_type": "code",
   "execution_count": 23,
   "metadata": {
    "slideshow": {
     "slide_type": "fragment"
    }
   },
   "outputs": [
    {
     "name": "stdout",
     "output_type": "stream",
     "text": [
      "4\n"
     ]
    }
   ],
   "source": [
    "a = 2\n",
    "a **= 2\n",
    "print(a)"
   ]
  },
  {
   "cell_type": "markdown",
   "metadata": {
    "slideshow": {
     "slide_type": "subslide"
    }
   },
   "source": [
    "# 運算子優先順序\n",
    "![](https://i.imgur.com/nPMep11.png)\n"
   ]
  },
  {
   "cell_type": "code",
   "execution_count": 24,
   "metadata": {
    "slideshow": {
     "slide_type": "fragment"
    }
   },
   "outputs": [
    {
     "name": "stdout",
     "output_type": "stream",
     "text": [
      "163\n"
     ]
    }
   ],
   "source": [
    "a = 1 + 2*3**4\n",
    "print(a)"
   ]
  },
  {
   "cell_type": "markdown",
   "metadata": {
    "slideshow": {
     "slide_type": "subslide"
    }
   },
   "source": [
    "# 課堂練習\n",
    "![](https://i.imgur.com/7HesjFa.png)\n"
   ]
  },
  {
   "cell_type": "code",
   "execution_count": 25,
   "metadata": {
    "slideshow": {
     "slide_type": "fragment"
    }
   },
   "outputs": [],
   "source": [
    "# Exercise"
   ]
  },
  {
   "cell_type": "markdown",
   "metadata": {
    "slideshow": {
     "slide_type": "slide"
    }
   },
   "source": [
    "# Python基本介紹 (cont'd)\n",
    "1. 常見資料型態\n",
    "    * 數值\n",
    "    * 布林\n",
    "    * 字串\n",
    "    * 序列\n",
    "    * 字典\n",
    "2. 輸入與輸出\n",
    "3. 條件句\n",
    "4. 迴圈"
   ]
  },
  {
   "cell_type": "markdown",
   "metadata": {
    "slideshow": {
     "slide_type": "subslide"
    }
   },
   "source": [
    "# 1.常見資料型態\n",
    "## 布林(Boolean) : True、False(字首一定要大寫)"
   ]
  },
  {
   "cell_type": "code",
   "execution_count": 26,
   "metadata": {
    "slideshow": {
     "slide_type": "fragment"
    }
   },
   "outputs": [
    {
     "name": "stdout",
     "output_type": "stream",
     "text": [
      "False\n",
      "False\n"
     ]
    }
   ],
   "source": [
    "print(2 > 3)\n",
    "print(not True)"
   ]
  },
  {
   "cell_type": "markdown",
   "metadata": {
    "slideshow": {
     "slide_type": "fragment"
    }
   },
   "source": [
    "### 0 為 False"
   ]
  },
  {
   "cell_type": "code",
   "execution_count": 27,
   "metadata": {
    "slideshow": {
     "slide_type": "fragment"
    }
   },
   "outputs": [
    {
     "name": "stdout",
     "output_type": "stream",
     "text": [
      "0\n",
      "100\n",
      "True\n"
     ]
    }
   ],
   "source": [
    "print(True & 0)\n",
    "print(100 | False)\n",
    "print(not 0)"
   ]
  },
  {
   "cell_type": "markdown",
   "metadata": {
    "slideshow": {
     "slide_type": "subslide"
    }
   },
   "source": [
    "## 字串(String)\n",
    "![](https://i.imgur.com/He0Jgra.png)"
   ]
  },
  {
   "cell_type": "code",
   "execution_count": 28,
   "metadata": {
    "slideshow": {
     "slide_type": "fragment"
    }
   },
   "outputs": [
    {
     "name": "stdout",
     "output_type": "stream",
     "text": [
      "Apple Banana\n",
      "p\n",
      "a\n"
     ]
    }
   ],
   "source": [
    "a = \"Apple\"\n",
    "b = 'Banana'\n",
    "c = a + \" \" + b\n",
    "print(c)\n",
    "print(c[1])\n",
    "print(c[-1])"
   ]
  },
  {
   "cell_type": "markdown",
   "metadata": {
    "slideshow": {
     "slide_type": "subslide"
    }
   },
   "source": [
    "## 序列\n",
    "### * 串列(List)：有順序的物件集合，具有索引特性，長度可變動。"
   ]
  },
  {
   "cell_type": "code",
   "execution_count": 29,
   "metadata": {
    "slideshow": {
     "slide_type": "fragment"
    }
   },
   "outputs": [
    {
     "name": "stdout",
     "output_type": "stream",
     "text": [
      "[1, 2, 3, 4, 5] ['apple', 'banana'] [1, 0.9, 'cat', [1, 2], ['apple', 'banana']]\n",
      "1\n",
      "0.9\n",
      "['apple', 'banana']\n"
     ]
    }
   ],
   "source": [
    "a = []\n",
    "numbers = [1, 2, 3, 4, 5]\n",
    "fruit = ['apple', 'banana']\n",
    "mixed = [1, 0.9, 'cat', [1, 2], fruit]\n",
    "print(numbers, fruit, mixed)\n",
    "print(mixed[0])\n",
    "print(mixed[1])\n",
    "print(mixed[-1])"
   ]
  },
  {
   "cell_type": "markdown",
   "metadata": {},
   "source": [
    "## 常見的運算方式\n",
    "![](https://i.imgur.com/lRrgsTm.png)\n"
   ]
  },
  {
   "cell_type": "code",
   "execution_count": 30,
   "metadata": {
    "slideshow": {
     "slide_type": "fragment"
    }
   },
   "outputs": [
    {
     "name": "stdout",
     "output_type": "stream",
     "text": [
      "['guava', 'banana', 'grape', 'watermelon']\n",
      "['banana', 'grape']\n",
      "[1, 3, 5, 7, 9]\n",
      "[0, 2, 4, 6, 8, 10]\n",
      "True\n",
      "True\n",
      "[0, 2, 4, 6, 8, 10, 1, 3, 5, 7, 9]\n",
      "[1, 1, 1, 1, 1, 1, 1, 1, 1, 1]\n",
      "10\n",
      "[1, 3, 5, 7, 9]\n",
      "9\n",
      "1\n"
     ]
    }
   ],
   "source": [
    "fruit = ['apple', 'banana', 'grape', 'watermelon']\n",
    "fruit[0] = 'guava'\n",
    "print(fruit)\n",
    "print(fruit[1:3])\n",
    "\n",
    "a = [0, 1, 2, 3, 4, 5, 6, 7, 8, 9, 10]\n",
    "print(a[1:10:2])\n",
    "\n",
    "del[a[1:10:2]]\n",
    "print(a)\n",
    "\n",
    "print(2 in a)\n",
    "print(3 not in a)\n",
    "\n",
    "b = [1, 3, 5, 7, 9]\n",
    "print(a + b)\n",
    "\n",
    "c = [1]*10\n",
    "print(c)\n",
    "print(len(c))\n",
    "\n",
    "print(b)\n",
    "print(max(b))\n",
    "print(min(b))"
   ]
  },
  {
   "cell_type": "markdown",
   "metadata": {
    "slideshow": {
     "slide_type": "subslide"
    }
   },
   "source": [
    "## 常用的函式\n",
    "![](https://i.imgur.com/eolSP7B.png)\n"
   ]
  },
  {
   "cell_type": "markdown",
   "metadata": {
    "slideshow": {
     "slide_type": "subslide"
    }
   },
   "source": [
    "* append、insert、pop"
   ]
  },
  {
   "cell_type": "code",
   "execution_count": 31,
   "metadata": {
    "slideshow": {
     "slide_type": "fragment"
    }
   },
   "outputs": [
    {
     "name": "stdout",
     "output_type": "stream",
     "text": [
      "[123, -12.3, 'apple']\n",
      "[123, -12.3]\n",
      "[-12.3]\n",
      "[10, -12.3]\n"
     ]
    }
   ],
   "source": [
    "a = []\n",
    "a.append(123)\n",
    "a.append(-12.3)\n",
    "a.append('apple')\n",
    "print(a)\n",
    "\n",
    "a.pop()\n",
    "print(a)\n",
    "\n",
    "a.pop(0)\n",
    "print(a)\n",
    "\n",
    "a.insert(0,10)\n",
    "print(a)"
   ]
  },
  {
   "cell_type": "markdown",
   "metadata": {
    "slideshow": {
     "slide_type": "subslide"
    }
   },
   "source": [
    "* index"
   ]
  },
  {
   "cell_type": "code",
   "execution_count": 32,
   "metadata": {
    "slideshow": {
     "slide_type": "fragment"
    }
   },
   "outputs": [
    {
     "name": "stdout",
     "output_type": "stream",
     "text": [
      "0\n"
     ]
    }
   ],
   "source": [
    "fruit = ['apple', 'banana', 'grape', 'watermelon']\n",
    "print(fruit.index('apple'))"
   ]
  },
  {
   "cell_type": "markdown",
   "metadata": {
    "slideshow": {
     "slide_type": "fragment"
    }
   },
   "source": [
    "* remove"
   ]
  },
  {
   "cell_type": "code",
   "execution_count": 33,
   "metadata": {
    "slideshow": {
     "slide_type": "fragment"
    }
   },
   "outputs": [
    {
     "name": "stdout",
     "output_type": "stream",
     "text": [
      "[1, 1, 2, 3, 1]\n",
      "[1, 2, 3, 1]\n",
      "[2, 3, 1]\n"
     ]
    }
   ],
   "source": [
    "a = [1, 1, 2, 3, 1,]\n",
    "print(a)\n",
    "\n",
    "a.remove(1)\n",
    "print(a)\n",
    "\n",
    "a.remove(1)\n",
    "print(a)"
   ]
  },
  {
   "cell_type": "markdown",
   "metadata": {
    "slideshow": {
     "slide_type": "subslide"
    }
   },
   "source": [
    "* reverse 、 sort"
   ]
  },
  {
   "cell_type": "code",
   "execution_count": 35,
   "metadata": {
    "slideshow": {
     "slide_type": "fragment"
    }
   },
   "outputs": [
    {
     "name": "stdout",
     "output_type": "stream",
     "text": [
      "[0, 1, 2, 3, 4, 5, 6, 7, 8, 9, 10]\n",
      "[10, 9, 8, 7, 6, 5, 4, 3, 2, 1, 0]\n",
      "[0, 1, 2, 3, 4, 5, 6, 7, 8, 9, 10]\n"
     ]
    }
   ],
   "source": [
    "a = [0, 1, 2, 3, 4, 5, 6, 7, 8, 9, 10]\n",
    "print(a)\n",
    "\n",
    "a.reverse()\n",
    "print(a)\n",
    "\n",
    "a.sort()\n",
    "print(a)"
   ]
  },
  {
   "cell_type": "markdown",
   "metadata": {
    "slideshow": {
     "slide_type": "fragment"
    }
   },
   "source": [
    "* count"
   ]
  },
  {
   "cell_type": "code",
   "execution_count": 36,
   "metadata": {
    "slideshow": {
     "slide_type": "fragment"
    }
   },
   "outputs": [
    {
     "name": "stdout",
     "output_type": "stream",
     "text": [
      "[1, 1, 1, 1, 1, 1, 1, 1, 1, 1]\n",
      "10\n"
     ]
    }
   ],
   "source": [
    "a = [1] * 10\n",
    "print(a)\n",
    "print(a.count(1))"
   ]
  },
  {
   "cell_type": "markdown",
   "metadata": {
    "slideshow": {
     "slide_type": "subslide"
    }
   },
   "source": [
    "## * 元組(Tuple)：就像是串列（List），不過串列是可變動（Mutable）物件，而Tuple是不可變動（Immutable）物件。\n",
    "### 切記!有更動到值的運算都不能使用"
   ]
  },
  {
   "cell_type": "code",
   "execution_count": 37,
   "metadata": {
    "slideshow": {
     "slide_type": "fragment"
    }
   },
   "outputs": [
    {
     "name": "stdout",
     "output_type": "stream",
     "text": [
      "(1, 2, -1.2, 'hi')\n",
      "<class 'tuple'>\n",
      "apple\n",
      "<class 'tuple'>\n"
     ]
    }
   ],
   "source": [
    "a = (1, 2, -1.2, 'hi')\n",
    "print(a)\n",
    "print(type(a))\n",
    "\n",
    "fruit = 'apple', 'banana', 'grape', 'watermelon'\n",
    "print(fruit[0])\n",
    "print(type(fruit))\n",
    "\n",
    "# fruit[0] = 'guava'"
   ]
  },
  {
   "cell_type": "code",
   "execution_count": 38,
   "metadata": {
    "slideshow": {
     "slide_type": "fragment"
    }
   },
   "outputs": [
    {
     "name": "stdout",
     "output_type": "stream",
     "text": [
      "('apple', 'banana', 'grape', 'watermelon', 'guava')\n",
      "('apple', 'banana', 'grape', 'watermelon', 'guava', 'apple', 'banana', 'grape', 'watermelon', 'guava')\n"
     ]
    }
   ],
   "source": [
    "fruit = ('apple', 'banana', 'grape', 'watermelon')\n",
    "fruit = fruit + ('guava',)\n",
    "print(fruit)\n",
    "fruit = fruit * 2\n",
    "print(fruit)"
   ]
  },
  {
   "cell_type": "markdown",
   "metadata": {
    "slideshow": {
     "slide_type": "subslide"
    }
   },
   "source": [
    "### 為什麼要加逗號？\n",
    "![](https://i.imgur.com/Wmt3tQE.png)"
   ]
  }
 ],
 "metadata": {
  "celltoolbar": "Slideshow",
  "kernelspec": {
   "display_name": "Python 3",
   "language": "python",
   "name": "python3"
  },
  "language_info": {
   "codemirror_mode": {
    "name": "ipython",
    "version": 3
   },
   "file_extension": ".py",
   "mimetype": "text/x-python",
   "name": "python",
   "nbconvert_exporter": "python",
   "pygments_lexer": "ipython3",
   "version": "3.6.4"
  }
 },
 "nbformat": 4,
 "nbformat_minor": 2
}
