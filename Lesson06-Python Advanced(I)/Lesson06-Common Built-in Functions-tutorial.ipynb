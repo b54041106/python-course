{
 "cells": [
  {
   "cell_type": "markdown",
   "metadata": {
    "slideshow": {
     "slide_type": "slide"
    }
   },
   "source": [
    "# [X-Village]常用內建函式\n",
    "by Rain"
   ]
  },
  {
   "cell_type": "code",
   "execution_count": 1,
   "metadata": {
    "slideshow": {
     "slide_type": "subslide"
    }
   },
   "outputs": [
    {
     "name": "stdout",
     "output_type": "stream",
     "text": [
      "[0, 2, 4, 6, 8] \n",
      "\n",
      "[8, 6, 4, 2, 0]\n"
     ]
    }
   ],
   "source": [
    "myList = list(range(0, 10, 2))\n",
    "print(myList, \"\\n\")\n",
    "\n",
    "myList.reverse()\n",
    "print(myList)"
   ]
  },
  {
   "cell_type": "markdown",
   "metadata": {
    "slideshow": {
     "slide_type": "-"
    }
   },
   "source": [
    "#### 有看到什麼神奇的東西嗎?"
   ]
  },
  {
   "cell_type": "markdown",
   "metadata": {
    "slideshow": {
     "slide_type": "subslide"
    }
   },
   "source": [
    "myList = list(range(0, 10, 2))<br/>\n",
    "print(myList, \"\\n\")<br/>\n",
    "<br/>\n",
    "myList.reverse()<br/>\n",
    "print(myList)<br/>\n",
    "\n",
    "* list(range( )) : 用來生成 list，很好用\n",
    "* print( ) : 印出資訊\n",
    "* reverse( ) : 把 list 反轉"
   ]
  },
  {
   "cell_type": "code",
   "execution_count": 2,
   "metadata": {
    "slideshow": {
     "slide_type": "subslide"
    }
   },
   "outputs": [
    {
     "name": "stdout",
     "output_type": "stream",
     "text": [
      "[0, 2, 4, 6, 8, 9, 7, 5, 3, 1] \n",
      "\n",
      "[0, 1, 2, 3, 4, 5, 6, 7, 8, 9]\n"
     ]
    }
   ],
   "source": [
    "myList = []\n",
    "\n",
    "for i in range(0, 10):\n",
    "    myList.append(9-i)\n",
    "    myList.reverse()\n",
    "    \n",
    "print(myList, \"\\n\")\n",
    "\n",
    "myList.sort()\n",
    "print(myList)"
   ]
  },
  {
   "cell_type": "markdown",
   "metadata": {
    "slideshow": {
     "slide_type": "slide"
    }
   },
   "source": [
    "# <center>所以內建函式是什麼?</center>"
   ]
  },
  {
   "cell_type": "markdown",
   "metadata": {
    "slideshow": {
     "slide_type": "subslide"
    }
   },
   "source": [
    "<center>![](https://upload.wikimedia.org/wikipedia/commons/b/b8/Apple_slicing_function.png)</center>\n",
    "\n",
    "<br/>\n",
    "* 就像你自己寫的函式一樣\n",
    "* 不過內建函式可以直接用"
   ]
  },
  {
   "cell_type": "markdown",
   "metadata": {
    "slideshow": {
     "slide_type": "subslide"
    }
   },
   "source": [
    "# <center>一些常用的內建函式</center>\n",
    "\n",
    "<br/>\n",
    "* 輸入輸出：input(), print()...\n",
    "* 數值轉型：int(), str()...\n",
    "* 陣列操作：reverse(), sort(), pop()...\n",
    "* 數值運算：abs(), sum(), max()..."
   ]
  },
  {
   "cell_type": "markdown",
   "metadata": {
    "slideshow": {
     "slide_type": "subslide"
    }
   },
   "source": [
    "# <center>使用內建函式的好處</center>\n",
    "\n",
    "<br/>\n",
    "* 自己寫可能會寫錯\n",
    "* 提升 Coding 效率\n",
    "* 提升可讀性，你比較好看懂，和你一起寫的人也較好看懂\n",
    "* 以 sum() 為例"
   ]
  },
  {
   "cell_type": "code",
   "execution_count": 3,
   "metadata": {
    "slideshow": {
     "slide_type": "subslide"
    }
   },
   "outputs": [
    {
     "name": "stdout",
     "output_type": "stream",
     "text": [
      "data: \t\t [0, 1, 2, 3, 4, 5, 6, 7, 8, 9]\n",
      "sum(data): \t 45\n"
     ]
    }
   ],
   "source": [
    "# sum() 可以對陣列內元素計算總和\n",
    "\n",
    "data = list(range(0, 10))\n",
    "\n",
    "print(\"data: \\t\\t\", data)\n",
    "print(\"sum(data): \\t\", sum(data))"
   ]
  },
  {
   "cell_type": "code",
   "execution_count": 4,
   "metadata": {
    "slideshow": {
     "slide_type": "subslide"
    }
   },
   "outputs": [],
   "source": [
    "# 實現 sum() 函式部分功能\n",
    "def mySum(data):\n",
    "    \n",
    "    value = 0                         # 剛開始總何為零\n",
    "    \n",
    "    for i in data:                    # 逐個增加\n",
    "        value += i\n",
    "        \n",
    "    return value                      # 回傳總和"
   ]
  },
  {
   "cell_type": "code",
   "execution_count": 5,
   "metadata": {
    "slideshow": {
     "slide_type": "subslide"
    }
   },
   "outputs": [
    {
     "name": "stdout",
     "output_type": "stream",
     "text": [
      "sum(myCredits): \t 114\n",
      "mySum(myCredits): \t 114\n"
     ]
    }
   ],
   "source": [
    "# 兩個都拿來算一下學分\n",
    "\n",
    "myCredits = [12, 15, 14, 14, 15, 12, 18, 14]\n",
    "\n",
    "print(\"sum(myCredits): \\t\", sum(myCredits))\n",
    "print(\"mySum(myCredits): \\t\", mySum(myCredits))"
   ]
  },
  {
   "cell_type": "markdown",
   "metadata": {
    "slideshow": {
     "slide_type": "subslide"
    }
   },
   "source": [
    "### <center>然後你會發現......</center>"
   ]
  },
  {
   "cell_type": "markdown",
   "metadata": {
    "slideshow": {
     "slide_type": "subslide"
    }
   },
   "source": [
    "# <center>尷尬</center>\n",
    "### <center>學分好像不夠...Σ(O口O)</center>"
   ]
  },
  {
   "cell_type": "markdown",
   "metadata": {
    "slideshow": {
     "slide_type": "subslide"
    }
   },
   "source": [
    "### <center>都快要不能畢業了，哪有時間自己寫 mySum() 阿！</center>\n",
    "\n",
    "<br/>\n",
    "* 時間壓力\n",
    "* 可能寫錯\n",
    "* 內建函式可以幫上你"
   ]
  },
  {
   "cell_type": "markdown",
   "metadata": {
    "slideshow": {
     "slide_type": "subslide"
    }
   },
   "source": [
    "### <center> ----------------------------休息！-------------------------------</center>\n",
    "\n",
    "<br/>\n",
    "* 10 分鐘"
   ]
  },
  {
   "cell_type": "markdown",
   "metadata": {
    "slideshow": {
     "slide_type": "slide"
    }
   },
   "source": [
    "### <center>數值轉型相關</center>\n",
    "\n",
    "<br/>\n",
    "* type( )\n",
    "* bool( )\n",
    "* int( )\n",
    "* float( )\n",
    "* str( )"
   ]
  },
  {
   "cell_type": "markdown",
   "metadata": {
    "slideshow": {
     "slide_type": "slide"
    }
   },
   "source": [
    "## <center> type( ) </center>\n",
    "\n",
    "<br/>\n",
    "* 回傳數值的類別"
   ]
  },
  {
   "cell_type": "markdown",
   "metadata": {
    "slideshow": {
     "slide_type": "subslide"
    }
   },
   "source": [
    "## <center> 試試看 </center>\n",
    "\n",
    "<br/>\n",
    "* True (e.g. type(True))\n",
    "* 1\n",
    "* 1.0\n",
    "* \"1\"\n",
    "* [0, 1]\n",
    "* {0:'zero'}\n",
    "* None"
   ]
  },
  {
   "cell_type": "code",
   "execution_count": 6,
   "metadata": {
    "slideshow": {
     "slide_type": "subslide"
    }
   },
   "outputs": [
    {
     "name": "stdout",
     "output_type": "stream",
     "text": [
      "type(True): \t <class 'bool'> \n",
      "\n",
      "type(1): \t <class 'int'> \n",
      "\n",
      "type(1.0): \t <class 'float'> \n",
      "\n",
      "type(\"1\"): \t <class 'str'> \n",
      "\n"
     ]
    }
   ],
   "source": [
    "# type() 回傳數值的型別\n",
    "\n",
    "print(\"type(True): \\t\", type(True), \"\\n\")\n",
    "print(\"type(1): \\t\", type(1), \"\\n\")\n",
    "print(\"type(1.0): \\t\", type(1.0), \"\\n\")\n",
    "print(\"type(\\\"1\\\"): \\t\", type(\"1\"), \"\\n\")"
   ]
  },
  {
   "cell_type": "code",
   "execution_count": 7,
   "metadata": {
    "scrolled": true,
    "slideshow": {
     "slide_type": "subslide"
    }
   },
   "outputs": [
    {
     "name": "stdout",
     "output_type": "stream",
     "text": [
      "type([0, 1]): \t\t <class 'list'> \n",
      "\n",
      "type({0:'zero'}): \t <class 'dict'> \n",
      "\n",
      "type(None): \t\t <class 'NoneType'> \n",
      "\n"
     ]
    }
   ],
   "source": [
    "print(\"type([0, 1]): \\t\\t\", type([0, 1]), \"\\n\")\n",
    "print(\"type({0:'zero'}): \\t\", type({0:'zero'}), \"\\n\")\n",
    "print(\"type(None): \\t\\t\", type(None), \"\\n\")"
   ]
  },
  {
   "cell_type": "markdown",
   "metadata": {
    "slideshow": {
     "slide_type": "slide"
    }
   },
   "source": [
    "## <center>bool( )</center>\n",
    "\n",
    "<br/>\n",
    "* 將數值轉型為整數 bool 並回傳"
   ]
  },
  {
   "cell_type": "markdown",
   "metadata": {
    "slideshow": {
     "slide_type": "subslide"
    }
   },
   "source": [
    "## <center> 試試看 </center>\n",
    "\n",
    "<br/>\n",
    "* 0 (e.g. bool(0))\n",
    "* 1"
   ]
  },
  {
   "cell_type": "code",
   "execution_count": 8,
   "metadata": {
    "slideshow": {
     "slide_type": "subslide"
    }
   },
   "outputs": [
    {
     "name": "stdout",
     "output_type": "stream",
     "text": [
      "bool(0): \t False \t <class 'bool'> \n",
      "\n",
      "bool(1): \t True \t <class 'bool'> \n",
      "\n"
     ]
    }
   ],
   "source": [
    "# bool() 將數值轉為布林值並回傳\n",
    "\n",
    "print(\"bool(0): \\t\", bool(0), \"\\t\", type(bool(0)), \"\\n\")\n",
    "print(\"bool(1): \\t\", bool(1), \"\\t\", type(bool(1)), \"\\n\")"
   ]
  },
  {
   "cell_type": "markdown",
   "metadata": {
    "slideshow": {
     "slide_type": "slide"
    }
   },
   "source": [
    "## <center>int( )</center>\n",
    "\n",
    "<br/>\n",
    "* 將數值轉型為整數 int 並回傳"
   ]
  },
  {
   "cell_type": "markdown",
   "metadata": {
    "slideshow": {
     "slide_type": "subslide"
    }
   },
   "source": [
    "## <center> 試試看 </center>\n",
    "\n",
    "<br/>\n",
    "* \"1\" (e.g. int(\"1\"))\n",
    "* 2.2\n",
    "* False"
   ]
  },
  {
   "cell_type": "code",
   "execution_count": 9,
   "metadata": {
    "slideshow": {
     "slide_type": "subslide"
    }
   },
   "outputs": [
    {
     "name": "stdout",
     "output_type": "stream",
     "text": [
      "int(\"1\"): \t 1 \t <class 'int'> \n",
      "\n",
      "int(2.2): \t 2 \t <class 'int'> \n",
      "\n",
      "int(False): \t 0 \t <class 'int'> \n",
      "\n"
     ]
    }
   ],
   "source": [
    "# int() 將數值轉為整數並回傳\n",
    "\n",
    "print(\"int(\\\"1\\\"): \\t\", int(\"1\"), \"\\t\", type(int(\"1\")), \"\\n\")\n",
    "print(\"int(2.2): \\t\", int(2.2), \"\\t\", type(int(2.2)), \"\\n\")\n",
    "print(\"int(False): \\t\", int(False), \"\\t\", type(int(False)), \"\\n\")"
   ]
  },
  {
   "cell_type": "markdown",
   "metadata": {
    "slideshow": {
     "slide_type": "slide"
    }
   },
   "source": [
    "## <center>float( )</center>\n",
    "\n",
    "<br/>\n",
    "* 將數值轉型為浮點數 float 並回傳"
   ]
  },
  {
   "cell_type": "markdown",
   "metadata": {
    "slideshow": {
     "slide_type": "subslide"
    }
   },
   "source": [
    "## <center> 試試看 </center>\n",
    "\n",
    "<br/>\n",
    "* \"1.0\" (e.g. float(\"1.0\"))\n",
    "* 2\n",
    "* False"
   ]
  },
  {
   "cell_type": "code",
   "execution_count": 10,
   "metadata": {
    "slideshow": {
     "slide_type": "subslide"
    }
   },
   "outputs": [
    {
     "name": "stdout",
     "output_type": "stream",
     "text": [
      "float(\"1.0\"): \t 1.0 \t <class 'float'> \n",
      "\n",
      "float(2): \t 2.0 \t <class 'float'> \n",
      "\n",
      "float(False): \t 0.0 \t <class 'float'> \n",
      "\n"
     ]
    }
   ],
   "source": [
    "# float() 將數值轉為浮點數並回傳\n",
    "\n",
    "print(\"float(\\\"1.0\\\"): \\t\", float(\"1.0\"), \"\\t\", type(float(\"1.0\")), \"\\n\")\n",
    "print(\"float(2): \\t\", float(2), \"\\t\", type(float(2)), \"\\n\")\n",
    "print(\"float(False): \\t\", float(False), \"\\t\", type(float(False)), \"\\n\")"
   ]
  },
  {
   "cell_type": "markdown",
   "metadata": {
    "slideshow": {
     "slide_type": "slide"
    }
   },
   "source": [
    "## <center>str( )</center>\n",
    "\n",
    "<br/>\n",
    "* 將數值轉型為字串 string 並回傳"
   ]
  },
  {
   "cell_type": "markdown",
   "metadata": {
    "slideshow": {
     "slide_type": "subslide"
    }
   },
   "source": [
    "## <center> 試試看 </center>\n",
    "\n",
    "<br/>\n",
    "* 1 (e.g. str(1))\n",
    "* 2.0\n",
    "* False"
   ]
  },
  {
   "cell_type": "code",
   "execution_count": 11,
   "metadata": {
    "scrolled": false,
    "slideshow": {
     "slide_type": "subslide"
    }
   },
   "outputs": [
    {
     "name": "stdout",
     "output_type": "stream",
     "text": [
      "str(1): \t 1 \t <class 'str'> \n",
      "\n",
      "str(2.0): \t 2.0 \t <class 'str'> \n",
      "\n",
      "str(False): \t False \t <class 'str'> \n",
      "\n"
     ]
    }
   ],
   "source": [
    "# str() 將數值轉為字串並回傳\n",
    "\n",
    "print(\"str(1): \\t\", str(1), \"\\t\", type(str(1)), \"\\n\")\n",
    "print(\"str(2.0): \\t\", str(2.0), \"\\t\", type(str(2.0)), \"\\n\")\n",
    "print(\"str(False): \\t\", str(False), \"\\t\", type(str(False)), \"\\n\")"
   ]
  },
  {
   "cell_type": "markdown",
   "metadata": {
    "slideshow": {
     "slide_type": "slide"
    }
   },
   "source": [
    "## <center>注意!!</center>\n",
    "\n",
    "<center>![](https://fs-gateway.esdict.cn/store_main/wordthumbnail/6d0c9817-6795-4161-a817-39f59544d883.jpg)</center>\n",
    "\n",
    "## <center>盡量別寫奇怪的轉型 Code，像是...</center>"
   ]
  },
  {
   "cell_type": "code",
   "execution_count": 12,
   "metadata": {
    "slideshow": {
     "slide_type": "subslide"
    }
   },
   "outputs": [
    {
     "name": "stdout",
     "output_type": "stream",
     "text": [
      "bool(\"False\"): \t True \t <class 'bool'> \n",
      "\n"
     ]
    }
   ],
   "source": [
    "print(\"bool(\\\"False\\\"): \\t\", bool(\"False\"), \"\\t\", type(bool(\"False\")), \"\\n\")"
   ]
  },
  {
   "cell_type": "code",
   "execution_count": 13,
   "metadata": {
    "slideshow": {
     "slide_type": "subslide"
    }
   },
   "outputs": [
    {
     "ename": "ValueError",
     "evalue": "invalid literal for int() with base 10: '一百三十'",
     "output_type": "error",
     "traceback": [
      "\u001b[1;31m---------------------------------------------------------------------------\u001b[0m",
      "\u001b[1;31mValueError\u001b[0m                                Traceback (most recent call last)",
      "\u001b[1;32m<ipython-input-13-e0b11c34e110>\u001b[0m in \u001b[0;36m<module>\u001b[1;34m()\u001b[0m\n\u001b[1;32m----> 1\u001b[1;33m \u001b[0mprint\u001b[0m\u001b[1;33m(\u001b[0m\u001b[1;34m\"int(\\\"一百三十\\\"): \\t\"\u001b[0m\u001b[1;33m,\u001b[0m \u001b[0mint\u001b[0m\u001b[1;33m(\u001b[0m\u001b[1;34m\"一百三十\"\u001b[0m\u001b[1;33m)\u001b[0m\u001b[1;33m)\u001b[0m\u001b[1;33m\u001b[0m\u001b[0m\n\u001b[0m",
      "\u001b[1;31mValueError\u001b[0m: invalid literal for int() with base 10: '一百三十'"
     ]
    }
   ],
   "source": [
    "print(\"int(\\\"一百三十\\\"): \\t\", int(\"一百三十\"))"
   ]
  },
  {
   "cell_type": "markdown",
   "metadata": {
    "slideshow": {
     "slide_type": "subslide"
    }
   },
   "source": [
    "### <center>和你一起寫 Code 的隊友很可能會討厭你</center>\n",
    "\n",
    "<center>![](https://e.share.photo.xuite.net/cwai_90/1e5fe4a/17635651/958014983_m.jpg)</center>"
   ]
  },
  {
   "cell_type": "markdown",
   "metadata": {
    "slideshow": {
     "slide_type": "slide"
    }
   },
   "source": [
    "### <center>數值運算相關</center>\n",
    "\n",
    "<br/>\n",
    "* abs( )\n",
    "* pow( )\n",
    "* divmod( )\n",
    "* max( ), min( )\n",
    "* sum( )"
   ]
  },
  {
   "cell_type": "markdown",
   "metadata": {
    "slideshow": {
     "slide_type": "slide"
    }
   },
   "source": [
    "## <center>abs( )</center>\n",
    "\n",
    "<br/>\n",
    "* 計算絕對值"
   ]
  },
  {
   "cell_type": "markdown",
   "metadata": {
    "slideshow": {
     "slide_type": "subslide"
    }
   },
   "source": [
    "### <center>試試看</center>\n",
    "\n",
    "* 5 (e.g. abs(5))\n",
    "* -10\n",
    "* 3+ 4j"
   ]
  },
  {
   "cell_type": "code",
   "execution_count": 15,
   "metadata": {
    "slideshow": {
     "slide_type": "subslide"
    }
   },
   "outputs": [
    {
     "name": "stdout",
     "output_type": "stream",
     "text": [
      "abs(5): \t 5 \n",
      "\n",
      "abs(-10): \t 10 \n",
      "\n",
      "abs(3+ 4j): \t 5.0 \n",
      "\n"
     ]
    }
   ],
   "source": [
    "# abs() 計算絕對值\n",
    "\n",
    "print(\"abs(5): \\t\", abs(5), \"\\n\")\n",
    "print(\"abs(-10): \\t\", abs(-10), \"\\n\")\n",
    "print(\"abs(3+ 4j): \\t\", abs(3+ 4j), \"\\n\")"
   ]
  },
  {
   "cell_type": "markdown",
   "metadata": {
    "slideshow": {
     "slide_type": "slide"
    }
   },
   "source": [
    "## <center>pow( )</center>\n",
    "\n",
    "<br/>\n",
    "* 計算指數"
   ]
  },
  {
   "cell_type": "markdown",
   "metadata": {
    "slideshow": {
     "slide_type": "subslide"
    }
   },
   "source": [
    "### <center>試試看</center>\n",
    "\n",
    "* 4, 3 (e.g pow(4, 3))\n",
    "* 2, 0\n",
    "* 10, -2\n",
    "* 3, 1.5"
   ]
  },
  {
   "cell_type": "code",
   "execution_count": 16,
   "metadata": {
    "slideshow": {
     "slide_type": "subslide"
    }
   },
   "outputs": [
    {
     "name": "stdout",
     "output_type": "stream",
     "text": [
      "pow(4, 3): \t 64 \n",
      "\n",
      "pow(2, 0): \t 1 \n",
      "\n",
      "pow(10, -2): \t 0.01 \n",
      "\n",
      "pow(3, 1.5): \t 5.196152422706632 \n",
      "\n"
     ]
    }
   ],
   "source": [
    "# pow() 計算指數\n",
    "\n",
    "print(\"pow(4, 3): \\t\", pow(4, 3), \"\\n\")\n",
    "print(\"pow(2, 0): \\t\", pow(2, 0), \"\\n\")\n",
    "print(\"pow(10, -2): \\t\", pow(10, -2), \"\\n\")\n",
    "print(\"pow(3, 1.5): \\t\", pow(3, 1.5), \"\\n\")"
   ]
  },
  {
   "cell_type": "markdown",
   "metadata": {
    "slideshow": {
     "slide_type": "slide"
    }
   },
   "source": [
    "### <center>divmod( )</center>\n",
    "\n",
    "* 計算商數和餘數"
   ]
  },
  {
   "cell_type": "markdown",
   "metadata": {
    "slideshow": {
     "slide_type": "subslide"
    }
   },
   "source": [
    "### <center>試試看</center>\n",
    "\n",
    "* 7, 2 (e.g. divmod(7, 2))\n",
    "* 3, 10.2\n",
    "* 4.5, 4"
   ]
  },
  {
   "cell_type": "code",
   "execution_count": 17,
   "metadata": {
    "scrolled": true,
    "slideshow": {
     "slide_type": "subslide"
    }
   },
   "outputs": [
    {
     "name": "stdout",
     "output_type": "stream",
     "text": [
      "divmod(7, 2): \t\t (3, 1) \n",
      "\n",
      "divmod(3, 10.2): \t (0.0, 3.0) \n",
      "\n",
      "divmod(4.5, 4): \t (1.0, 0.5) \n",
      "\n"
     ]
    }
   ],
   "source": [
    "# divmod() 計算商數或餘數\n",
    "\n",
    "print(\"divmod(7, 2): \\t\\t\", divmod(7, 2), \"\\n\")\n",
    "print(\"divmod(3, 10.2): \\t\", divmod(3, 10.2), \"\\n\")\n",
    "print(\"divmod(4.5, 4): \\t\", divmod(4.5, 4), \"\\n\")"
   ]
  },
  {
   "cell_type": "markdown",
   "metadata": {
    "slideshow": {
     "slide_type": "slide"
    }
   },
   "source": [
    "### <center>max( ), min( )</center>\n",
    "\n",
    "* 取陣列中元素最大值，最小值"
   ]
  },
  {
   "cell_type": "markdown",
   "metadata": {
    "slideshow": {
     "slide_type": "subslide"
    }
   },
   "source": [
    "### <center>試試看</center>\n",
    "\n",
    "* [1, 2, 3] (e.g. max([1, 2, 3]), min([1, 2, 3]))\n",
    "* [2, 0.5, -4]\n",
    "* [\"A\", \"B\", \"C\"]"
   ]
  },
  {
   "cell_type": "code",
   "execution_count": 18,
   "metadata": {
    "slideshow": {
     "slide_type": "subslide"
    }
   },
   "outputs": [
    {
     "name": "stdout",
     "output_type": "stream",
     "text": [
      "max([1, 2, 3]): \t 3 \n",
      "\n",
      "min([1, 2, 3]): \t 1 \n",
      "\n",
      "max([2, 0.5, -4]): \t 2 \n",
      "\n",
      "min([2, 0.5, -4]): \t -4 \n",
      "\n",
      "max([\"A\", \"B\", \"C\"]): \t C \n",
      "\n",
      "min([\"A\", \"B\", \"C\"]): \t A \n",
      "\n"
     ]
    }
   ],
   "source": [
    "# max(), min() 取最大值，最小值\n",
    "\n",
    "print(\"max([1, 2, 3]): \\t\", max([1, 2, 3]), \"\\n\")\n",
    "print(\"min([1, 2, 3]): \\t\", min([1, 2, 3]), \"\\n\")\n",
    "print(\"max([2, 0.5, -4]): \\t\", max([2, 0.5, -4]), \"\\n\")\n",
    "print(\"min([2, 0.5, -4]): \\t\", min([2, 0.5, -4]), \"\\n\")\n",
    "print(\"max([\\\"A\\\", \\\"B\\\", \\\"C\\\"]): \\t\", max([\"A\", \"B\", \"C\"]), \"\\n\")\n",
    "print(\"min([\\\"A\\\", \\\"B\\\", \\\"C\\\"]): \\t\", min([\"A\", \"B\", \"C\"]), \"\\n\")"
   ]
  },
  {
   "cell_type": "markdown",
   "metadata": {
    "slideshow": {
     "slide_type": "slide"
    }
   },
   "source": [
    "### <center>sum( )</center>\n",
    "\n",
    "* 取陣列內所有元素總和"
   ]
  },
  {
   "cell_type": "markdown",
   "metadata": {
    "slideshow": {
     "slide_type": "subslide"
    }
   },
   "source": [
    "### <center>試試看</center>\n",
    "\n",
    "* [120, 264, 500] (e.g. sum([120, 264, 500]))\n",
    "* [10, -17.5, 3.5]\n",
    "* [True, True, False]"
   ]
  },
  {
   "cell_type": "code",
   "execution_count": 19,
   "metadata": {
    "scrolled": true,
    "slideshow": {
     "slide_type": "subslide"
    }
   },
   "outputs": [
    {
     "name": "stdout",
     "output_type": "stream",
     "text": [
      "sum([120, 264, 500]): \t\t 884 \n",
      "\n",
      "sum([10, -17.5, 3.5]): \t\t -4.0 \n",
      "\n",
      "sum([True, True, False]): \t 2 \n",
      "\n"
     ]
    }
   ],
   "source": [
    "# sum() 取總和\n",
    "\n",
    "print(\"sum([120, 264, 500]): \\t\\t\", sum([120, 264, 500]), \"\\n\")\n",
    "print(\"sum([10, -17.5, 3.5]): \\t\\t\", sum([10, -17.5, 3.5]), \"\\n\")\n",
    "print(\"sum([True, True, False]): \\t\", sum([True, True, False]), \"\\n\")"
   ]
  },
  {
   "cell_type": "markdown",
   "metadata": {
    "slideshow": {
     "slide_type": "subslide"
    }
   },
   "source": [
    "### <center> ----------------------------休息！-------------------------------</center>\n",
    "\n",
    "<br/>\n",
    "* 10 分鐘"
   ]
  },
  {
   "cell_type": "markdown",
   "metadata": {
    "slideshow": {
     "slide_type": "slide"
    }
   },
   "source": [
    "### <center>陣列操作相關</center>\n",
    "\n",
    "<br/>\n",
    "* sorted( )\n",
    "* set( )\n",
    "* reversed( )\n",
    "* zip( )\n",
    "* map( )\n",
    "* filter( )"
   ]
  },
  {
   "cell_type": "markdown",
   "metadata": {
    "slideshow": {
     "slide_type": "slide"
    }
   },
   "source": [
    "### <center>sorted( )</center>\n",
    "\n",
    "* 對陣列內元素進行排序"
   ]
  },
  {
   "cell_type": "markdown",
   "metadata": {
    "slideshow": {
     "slide_type": "subslide"
    }
   },
   "source": [
    "### <center>試試看</center>\n",
    "\n",
    "* [1, 4, 3, 2, 5] (e.g. sorted([1, 4, 3, 2, 5]))\n",
    "* [5, 2.5, 3, 4.5, 1]\n",
    "* [\"B\", \"C\", \"A\", \"E\", \"D\"]"
   ]
  },
  {
   "cell_type": "code",
   "execution_count": 20,
   "metadata": {
    "scrolled": true,
    "slideshow": {
     "slide_type": "subslide"
    }
   },
   "outputs": [
    {
     "name": "stdout",
     "output_type": "stream",
     "text": [
      "sorted([1, 4, 3, 2, 5]): \t\t [1, 2, 3, 4, 5] \n",
      "\n",
      "sorted([5, 2.5, 3, 4.5, 1]): \t\t [1, 2.5, 3, 4.5, 5] \n",
      "\n",
      "sorted([\"B\", \"C\", \"A\", \"E\", \"D\"]): \t ['A', 'B', 'C', 'D', 'E'] \n",
      "\n"
     ]
    }
   ],
   "source": [
    "# sorted() 對陣列內元素進行排序\n",
    "\n",
    "print(\"sorted([1, 4, 3, 2, 5]): \\t\\t\", sorted([1, 4, 3, 2, 5]), \"\\n\")\n",
    "print(\"sorted([5, 2.5, 3, 4.5, 1]): \\t\\t\", sorted([5, 2.5, 3, 4.5, 1]), \"\\n\")\n",
    "print(\"sorted([\\\"B\\\", \\\"C\\\", \\\"A\\\", \\\"E\\\", \\\"D\\\"]): \\t\", sorted([\"B\", \"C\", \"A\", \"E\", \"D\"]), \"\\n\")"
   ]
  },
  {
   "cell_type": "markdown",
   "metadata": {
    "slideshow": {
     "slide_type": "slide"
    }
   },
   "source": [
    "### <center>set( )</center>\n",
    "\n",
    "* 對陣列內元素取集合"
   ]
  },
  {
   "cell_type": "markdown",
   "metadata": {
    "slideshow": {
     "slide_type": "subslide"
    }
   },
   "source": [
    "### <center>試試看</center>\n",
    "\n",
    "* [1, 1, 2] (e.g. set([1, 1, 2]))\n",
    "* [1, 1, 1.0]\n",
    "* [\"B\", \"A\", \"C\", \"A\", \"C\"]"
   ]
  },
  {
   "cell_type": "code",
   "execution_count": 21,
   "metadata": {
    "scrolled": false,
    "slideshow": {
     "slide_type": "subslide"
    }
   },
   "outputs": [
    {
     "name": "stdout",
     "output_type": "stream",
     "text": [
      "set([1, 1, 2]): \t\t\t {1, 2} \n",
      "\n",
      "set([1, 1, 1.0]): \t\t\t {1} \n",
      "\n",
      "set([\"B\", \"A\", \"C\", \"A\", \"C\"]): \t {'B', 'C', 'A'} \n",
      "\n"
     ]
    }
   ],
   "source": [
    "# set() 對陣列內元素取集合\n",
    "\n",
    "print(\"set([1, 1, 2]): \\t\\t\\t\", set([1, 1, 2]), \"\\n\")\n",
    "print(\"set([1, 1, 1.0]): \\t\\t\\t\", set([1, 1, 1.0]), \"\\n\")\n",
    "print(\"set([\\\"B\\\", \\\"A\\\", \\\"C\\\", \\\"A\\\", \\\"C\\\"]): \\t\", set([\"B\", \"A\", \"C\", \"A\", \"C\"]), \"\\n\")"
   ]
  },
  {
   "cell_type": "markdown",
   "metadata": {
    "slideshow": {
     "slide_type": "slide"
    }
   },
   "source": [
    "### <center>reverse( )</center>\n",
    "\n",
    "* 對陣列內元素進行順序反轉"
   ]
  },
  {
   "cell_type": "markdown",
   "metadata": {
    "slideshow": {
     "slide_type": "subslide"
    }
   },
   "source": [
    "### <center>試試看</center>\n",
    "\n",
    "* [1, 2, 3, 4, 5] (e.g. reversed([1, 2, 3, 4, 5]))\n",
    "* [1, [1, 1], [1, 1, 2]]"
   ]
  },
  {
   "cell_type": "code",
   "execution_count": 22,
   "metadata": {
    "slideshow": {
     "slide_type": "subslide"
    }
   },
   "outputs": [
    {
     "name": "stdout",
     "output_type": "stream",
     "text": [
      "reversed([1, 2, 3, 4, 5]): \t\t <list_reverseiterator object at 0x00000151FA820630> \n",
      "\n",
      " [5, 4, 3, 2, 1] \n",
      "\n",
      "reversed([1, [1, 1], [1, 1, 2]]): \t <list_reverseiterator object at 0x00000151FA8205F8> \n",
      "\n",
      " [[1, 1, 2], [1, 1], 1] \n",
      "\n"
     ]
    }
   ],
   "source": [
    "# reversed() 對陣列內元素取集合\n",
    "\n",
    "print(\"reversed([1, 2, 3, 4, 5]): \\t\\t\", reversed([1, 2, 3, 4, 5]), \"\\n\\n\", list(reversed([1, 2, 3, 4, 5])), \"\\n\")\n",
    "print(\"reversed([1, [1, 1], [1, 1, 2]]): \\t\", reversed([1, [1, 1], [1, 1, 2]]), \"\\n\\n\", list(reversed([1, [1, 1], [1, 1, 2]])), \"\\n\")"
   ]
  },
  {
   "cell_type": "markdown",
   "metadata": {
    "slideshow": {
     "slide_type": "slide"
    }
   },
   "source": [
    "### <center>zip( )</center>\n",
    "\n",
    "* 對多個陣列內順序對應的元素進行打包"
   ]
  },
  {
   "cell_type": "markdown",
   "metadata": {
    "slideshow": {
     "slide_type": "subslide"
    }
   },
   "source": [
    "### <center>試試看</center>\n",
    "\n",
    "* [1, 2, 3], [4, 5, 6] (e.g. zip([1, 2, 3], [4, 5, 6]))\n",
    "* [1, 2, 3], [4, 5, 6, 7]"
   ]
  },
  {
   "cell_type": "code",
   "execution_count": 23,
   "metadata": {
    "slideshow": {
     "slide_type": "subslide"
    }
   },
   "outputs": [
    {
     "name": "stdout",
     "output_type": "stream",
     "text": [
      "zip([1, 2, 3], [4, 5, 6]): \t\t <zip object at 0x00000151FA77FC48> \t [(1, 4), (2, 5), (3, 6)] \n",
      "\n",
      "zip([1, 2, 3], [4, 5, 6, 7]): \t\t <zip object at 0x00000151FA77FC48> \t [(1, 4), (2, 5), (3, 6)] \n",
      "\n"
     ]
    }
   ],
   "source": [
    "# zip() 對多個陣列內順序對應的元素進行打包\n",
    "\n",
    "print(\"zip([1, 2, 3], [4, 5, 6]): \\t\\t\", zip([1, 2, 3], [4, 5, 6]), \"\\t\", list(zip([1, 2, 3], [4, 5, 6])), \"\\n\")\n",
    "print(\"zip([1, 2, 3], [4, 5, 6, 7]): \\t\\t\", zip([1, 2, 3], [4, 5, 6, 7]), \"\\t\", list(zip([1, 2, 3], [4, 5, 6, 7])), \"\\n\")"
   ]
  },
  {
   "cell_type": "markdown",
   "metadata": {
    "slideshow": {
     "slide_type": "slide"
    }
   },
   "source": [
    "### <center>map( )</center>\n",
    "\n",
    "* 對陣列內個各元素執行函數"
   ]
  },
  {
   "cell_type": "code",
   "execution_count": 24,
   "metadata": {
    "slideshow": {
     "slide_type": "subslide"
    }
   },
   "outputs": [
    {
     "name": "stdout",
     "output_type": "stream",
     "text": [
      "map(add_one, [4, 5, 6]): \t <map object at 0x00000151FA81F7B8> \t [5, 6, 7] \n",
      "\n",
      "map(add_two, [1, 2, 3]): \t <map object at 0x00000151FA81F780> \t [3, 4, 5] \n",
      "\n"
     ]
    }
   ],
   "source": [
    "# map() 對陣列內個各元素執行函數\n",
    "\n",
    "def add_one(x):\n",
    "    return x+ 1\n",
    "\n",
    "def add_two(x):\n",
    "    return x+ 2\n",
    "\n",
    "print(\"map(add_one, [4, 5, 6]): \\t\", map(add_one, [4, 5, 6]), \"\\t\", list(map(add_one, [4, 5, 6])), \"\\n\")\n",
    "print(\"map(add_two, [1, 2, 3]): \\t\", map(add_two, [1, 2, 3]), \"\\t\", list(map(add_two, [1, 2, 3])), \"\\n\")"
   ]
  },
  {
   "cell_type": "markdown",
   "metadata": {
    "slideshow": {
     "slide_type": "slide"
    }
   },
   "source": [
    "### <center>filter( )</center>\n",
    "\n",
    "* 對陣列內個各元素進行篩選"
   ]
  },
  {
   "cell_type": "code",
   "execution_count": 25,
   "metadata": {
    "slideshow": {
     "slide_type": "subslide"
    }
   },
   "outputs": [
    {
     "name": "stdout",
     "output_type": "stream",
     "text": [
      "filter(is_odd, [4, 5, 6]): \t <filter object at 0x00000151FA821860> \t [5] \n",
      "\n",
      "filter(is_even, [1, 2, 3]): \t <filter object at 0x00000151FA821828> \t [2] \n",
      "\n"
     ]
    }
   ],
   "source": [
    "# filter() 對陣列內個各元素進行篩選\n",
    "\n",
    "def is_odd(x):\n",
    "    return x % 2 == 1\n",
    "\n",
    "def is_even(x):\n",
    "    return x % 2 != 1\n",
    "\n",
    "print(\"filter(is_odd, [4, 5, 6]): \\t\", filter(is_odd, [4, 5, 6]), \"\\t\", list(filter(is_odd, [4, 5, 6])), \"\\n\")\n",
    "print(\"filter(is_even, [1, 2, 3]): \\t\", filter(is_even, [1, 2, 3]), \"\\t\", list(filter(is_even, [1, 2, 3])), \"\\n\")"
   ]
  },
  {
   "cell_type": "markdown",
   "metadata": {
    "slideshow": {
     "slide_type": "slide"
    }
   },
   "source": [
    "### <center> ----------------------------休息 + 練習-------------------------------</center>\n",
    "\n",
    "<br/>\n",
    "* 25分鐘"
   ]
  },
  {
   "cell_type": "markdown",
   "metadata": {
    "slideshow": {
     "slide_type": "slide"
    }
   },
   "source": [
    "### <center> ----------------------------題目 1-------------------------------</center>\n",
    "\n",
    "<br/>\n",
    "```\n",
    "實現這個 double_side_list 的功能\n",
    "\n",
    ">>> double_side_list(10, 20, 2)\n",
    "[18, 16, 14, 12, 10, 12, 14, 16, 18]\n",
    "\n",
    ">>> double_side_list(10, 4, 2)\n",
    "[6, 8, 10, 8, 6]\n",
    "```"
   ]
  },
  {
   "cell_type": "markdown",
   "metadata": {
    "slideshow": {
     "slide_type": "slide"
    }
   },
   "source": [
    "### <center> ----------------------------題目 2-------------------------------</center>\n",
    "\n",
    "<br/>\n",
    "```\n",
    "各位會打橋牌嗎~?\n",
    "目前手上有一副牌，已經分好 [黑桃、紅心、鑽石、梅花]\n",
    "像這樣：\n",
    "[[\"2\", \"K\", \"6\", \"A\", \"10\", \"Q\"], [\"8\", \"K\"], [\"9\", \"Q\", \"8\", \"A\"], [\"7\"]]\n",
    "\n",
    "如果把手牌在按照大小順序整理，會有幫助於戰術規劃\n",
    "麻煩幫我整理成下面這樣：\n",
    "[[\"A\", \"K\", \"Q\", \"10\", \"6\", \"2\"], [\"K\", \"8\"], [\"A\", \"Q\", \"9\", \"8\"], [\"7\"]]\n",
    "```"
   ]
  }
 ],
 "metadata": {
  "celltoolbar": "Slideshow",
  "kernelspec": {
   "display_name": "Python 3",
   "language": "python",
   "name": "python3"
  },
  "language_info": {
   "codemirror_mode": {
    "name": "ipython",
    "version": 3
   },
   "file_extension": ".py",
   "mimetype": "text/x-python",
   "name": "python",
   "nbconvert_exporter": "python",
   "pygments_lexer": "ipython3",
   "version": "3.6.3"
  },
  "livereveal": {
   "theme": "serif",
   "transition": "zoom"
  }
 },
 "nbformat": 4,
 "nbformat_minor": 2
}
