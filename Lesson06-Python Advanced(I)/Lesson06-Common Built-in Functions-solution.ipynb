{
 "cells": [
  {
   "cell_type": "markdown",
   "metadata": {
    "slideshow": {
     "slide_type": "slide"
    }
   },
   "source": [
    "## [X-Village] Lesson06 - 常用內建函式\n",
    "by Rain"
   ]
  },
  {
   "cell_type": "markdown",
   "metadata": {
    "slideshow": {
     "slide_type": "subslide"
    }
   },
   "source": [
    "#### 看看這段 Code"
   ]
  },
  {
   "cell_type": "code",
   "execution_count": 1,
   "metadata": {
    "slideshow": {
     "slide_type": "-"
    }
   },
   "outputs": [
    {
     "name": "stdout",
     "output_type": "stream",
     "text": [
      "[0, 2, 4, 6, 8] \n",
      "\n",
      "[8, 6, 4, 2, 0]\n"
     ]
    }
   ],
   "source": [
    "myList = list(range(0, 10, 2))\n",
    "print(myList, \"\\n\")\n",
    "\n",
    "myList.reverse()\n",
    "print(myList)"
   ]
  },
  {
   "cell_type": "markdown",
   "metadata": {
    "slideshow": {
     "slide_type": "fragment"
    }
   },
   "source": [
    "#### 有看到什麼神奇的東西嗎?"
   ]
  },
  {
   "cell_type": "code",
   "execution_count": 2,
   "metadata": {
    "slideshow": {
     "slide_type": "subslide"
    }
   },
   "outputs": [],
   "source": [
    "myList = list(range(0, 10, 2))\n",
    "# print(myList, \"\\n\")\n",
    "\n",
    "myList.reverse()\n",
    "# print(myList)"
   ]
  },
  {
   "cell_type": "markdown",
   "metadata": {
    "slideshow": {
     "slide_type": "-"
    }
   },
   "source": [
    "#### reverse( ) : 把 list 反轉"
   ]
  },
  {
   "cell_type": "markdown",
   "metadata": {
    "slideshow": {
     "slide_type": "subslide"
    }
   },
   "source": [
    "#### 再看個例子"
   ]
  },
  {
   "cell_type": "code",
   "execution_count": 2,
   "metadata": {
    "slideshow": {
     "slide_type": "-"
    }
   },
   "outputs": [
    {
     "name": "stdout",
     "output_type": "stream",
     "text": [
      "[0, 2, 4, 6, 8, 9, 7, 5, 3, 1] \n",
      "\n",
      "[0, 1, 2, 3, 4, 5, 6, 7, 8, 9]\n"
     ]
    }
   ],
   "source": [
    "myList = []\n",
    "\n",
    "for i in range(0, 10):\n",
    "    myList.append(9-i)      # 在陣列尾端增加元素\n",
    "    myList.reverse()        # 反轉陣列\n",
    "    \n",
    "print(myList, \"\\n\")\n",
    "\n",
    "myList.sort()               # 陣列排序\n",
    "print(myList)"
   ]
  },
  {
   "cell_type": "markdown",
   "metadata": {
    "slideshow": {
     "slide_type": "slide"
    }
   },
   "source": [
    "## <center>所以內建函式是什麼?</center>\n",
    "<br/>"
   ]
  },
  {
   "cell_type": "markdown",
   "metadata": {
    "slideshow": {
     "slide_type": "fragment"
    }
   },
   "source": [
    "* 就像你自己寫的函式一樣\n",
    "* 不過 Python 已經寫好了\n",
    "* 可以直接用，別客氣"
   ]
  },
  {
   "cell_type": "markdown",
   "metadata": {
    "slideshow": {
     "slide_type": "subslide"
    }
   },
   "source": [
    "## <center>一些常用的內建函式</center>\n",
    "\n",
    "<br/>\n",
    "* 輸入輸出：input(), print()...\n",
    "* 數值轉型：int(), str()...\n",
    "* 陣列操作：reverse(), sort(), pop()...\n",
    "* 數值運算：abs(), sum(), max()..."
   ]
  },
  {
   "cell_type": "markdown",
   "metadata": {
    "slideshow": {
     "slide_type": "subslide"
    }
   },
   "source": [
    "## <center>使用內建函式的好處</center>\n",
    "\n",
    "<br/>\n",
    "* 自己寫可能會寫錯\n",
    "* 提升 Coding 效率\n",
    "* 提升可讀性，你比較好看懂\n",
    "* 和你一起寫的人也較好看懂"
   ]
  },
  {
   "cell_type": "markdown",
   "metadata": {
    "slideshow": {
     "slide_type": "subslide"
    }
   },
   "source": [
    "#### 比如說，sum()可以用來算總和"
   ]
  },
  {
   "cell_type": "code",
   "execution_count": 8,
   "metadata": {
    "slideshow": {
     "slide_type": "-"
    }
   },
   "outputs": [
    {
     "name": "stdout",
     "output_type": "stream",
     "text": [
      "data: \t\t [0, 1, 2, 3, 4, 5, 6, 7, 8, 9]\n",
      "sum(data): \t 45\n",
      "sum(data, 2): \t 47\n"
     ]
    }
   ],
   "source": [
    "data = list(range(0, 10))\n",
    "\n",
    "print(\"data: \\t\\t\", data)\n",
    "print(\"sum(data): \\t\", sum(data))\n",
    "print(\"sum(data, 2): \\t\", sum(data, 2))"
   ]
  },
  {
   "cell_type": "markdown",
   "metadata": {
    "slideshow": {
     "slide_type": "subslide"
    }
   },
   "source": [
    "#### 實現 sum() 函式部分功能"
   ]
  },
  {
   "cell_type": "code",
   "execution_count": 4,
   "metadata": {
    "slideshow": {
     "slide_type": "-"
    }
   },
   "outputs": [],
   "source": [
    "def mySum(data):\n",
    "    value = 0                         # 剛開始總何為零\n",
    "    \n",
    "    for i in data:                    # 逐個增加\n",
    "        value += i\n",
    "        \n",
    "    return value                      # 回傳總和"
   ]
  },
  {
   "cell_type": "markdown",
   "metadata": {
    "slideshow": {
     "slide_type": "subslide"
    }
   },
   "source": [
    "#### 兩個都拿來算一下學分"
   ]
  },
  {
   "cell_type": "code",
   "execution_count": 5,
   "metadata": {
    "slideshow": {
     "slide_type": "-"
    }
   },
   "outputs": [
    {
     "name": "stdout",
     "output_type": "stream",
     "text": [
      "sum(myCredits): \t 114\n",
      "mySum(myCredits): \t 114\n"
     ]
    }
   ],
   "source": [
    "myCredits = [12, 15, 14, 14, 15, 12, 18, 14]\n",
    "\n",
    "print(\"sum(myCredits): \\t\", sum(myCredits))\n",
    "print(\"mySum(myCredits): \\t\", mySum(myCredits))"
   ]
  },
  {
   "cell_type": "markdown",
   "metadata": {
    "slideshow": {
     "slide_type": "subslide"
    }
   },
   "source": [
    "### <center>然後你會發現......</center>"
   ]
  },
  {
   "cell_type": "markdown",
   "metadata": {
    "slideshow": {
     "slide_type": "subslide"
    }
   },
   "source": [
    "# <center>尷尬</center>\n",
    "\n",
    "<br/>\n",
    "#### <center>學分好像不夠...Σ(O口O)</center>"
   ]
  },
  {
   "cell_type": "markdown",
   "metadata": {
    "slideshow": {
     "slide_type": "subslide"
    }
   },
   "source": [
    "## <center>都快要不能畢業了，哪有時間自己寫 mySum() 阿！</center>\n",
    "\n",
    "<br/>\n",
    "* 時間壓力\n",
    "* 可能寫錯\n",
    "* 內建函式可以幫上你"
   ]
  },
  {
   "cell_type": "markdown",
   "metadata": {
    "slideshow": {
     "slide_type": "slide"
    }
   },
   "source": [
    "## <center>關於這堂課...</center>"
   ]
  },
  {
   "cell_type": "markdown",
   "metadata": {
    "slideshow": {
     "slide_type": "slide"
    }
   },
   "source": [
    "## <center>這堂課應該怎麼學？</center>\n",
    "\n",
    "<br/>\n",
    "#### <center>以下是一些個人建議</center>"
   ]
  },
  {
   "cell_type": "markdown",
   "metadata": {
    "slideshow": {
     "slide_type": "subslide"
    }
   },
   "source": [
    "## <center>其實你不一定要聽我講課</center>\n",
    "\n",
    "<br/>\n",
    "#### <center>教材中附有不少參考連結，你如果覺得自己還蠻猛的，可以自行研究</center>"
   ]
  },
  {
   "cell_type": "markdown",
   "metadata": {
    "slideshow": {
     "slide_type": "subslide"
    }
   },
   "source": [
    "## <center>課堂練習不需要照抄我的範例</center>\n",
    "\n",
    "<br/>\n",
    "#### <center>會有蠻多練習時間，我會提供範例，但建議可以試著自己寫寫看</center>"
   ]
  },
  {
   "cell_type": "markdown",
   "metadata": {
    "slideshow": {
     "slide_type": "subslide"
    }
   },
   "source": [
    "## <center>最後會有 Exercises</center>\n",
    "\n",
    "<br/>\n",
    "#### <center>在你寫完之後，可以試著找不同的寫法，以及更好的解法</center>"
   ]
  },
  {
   "cell_type": "markdown",
   "metadata": {
    "slideshow": {
     "slide_type": "slide"
    }
   },
   "source": [
    "## <center>這堂課的重點在哪？</center>\n",
    "\n",
    "<br/>\n",
    "#### <center>以下是一些個人建議</center>"
   ]
  },
  {
   "cell_type": "markdown",
   "metadata": {
    "slideshow": {
     "slide_type": "subslide"
    }
   },
   "source": [
    "## <center>先學會用</center>\n",
    "\n",
    "<br/>\n",
    "#### <center>了解寫法與功能，讓你能完成你想要的事</center>"
   ]
  },
  {
   "cell_type": "markdown",
   "metadata": {
    "slideshow": {
     "slide_type": "subslide"
    }
   },
   "source": [
    "## <center>再思考怎麼用比較好</center>\n",
    "\n",
    "<br/>\n",
    "#### <center>比較容易看懂，比較方便修改，比較好的效能</center>"
   ]
  },
  {
   "cell_type": "markdown",
   "metadata": {
    "slideshow": {
     "slide_type": "slide"
    }
   },
   "source": [
    "## <center>然後是怎麼用對你和你的夥伴都比較好</center>\n",
    "\n",
    "<br/>\n",
    "#### <center>詳細情況可能就要問你夥伴了~</center>"
   ]
  },
  {
   "cell_type": "markdown",
   "metadata": {
    "slideshow": {
     "slide_type": "subslide"
    }
   },
   "source": [
    "### <center> ----------------------------休息啦！-------------------------------</center>\n",
    "\n",
    "<br/>\n",
    "* 10 分鐘"
   ]
  },
  {
   "cell_type": "markdown",
   "metadata": {
    "slideshow": {
     "slide_type": "slide"
    }
   },
   "source": [
    "### <center>數值轉型相關</center>\n",
    "\n",
    "<br/>\n",
    "* type( )\n",
    "* bool( )\n",
    "* int( )\n",
    "* float( )\n",
    "* str( )"
   ]
  },
  {
   "cell_type": "markdown",
   "metadata": {
    "slideshow": {
     "slide_type": "slide"
    }
   },
   "source": [
    "### [type( )](http://www.runoob.com/python/python-func-type.html)\n",
    "\n",
    "用於回傳參數的類別\n",
    "* 動手試試放一些數值進去，比如說 type(True)"
   ]
  },
  {
   "cell_type": "code",
   "execution_count": 1,
   "metadata": {
    "slideshow": {
     "slide_type": "-"
    }
   },
   "outputs": [
    {
     "name": "stdout",
     "output_type": "stream",
     "text": [
      "type(True): \t <class 'bool'>\n"
     ]
    }
   ],
   "source": [
    "print(\"type(True): \\t\", type(True))"
   ]
  },
  {
   "cell_type": "markdown",
   "metadata": {
    "slideshow": {
     "slide_type": "slide"
    }
   },
   "source": [
    "### [bool( )](http://www.runoob.com/python/python-func-bool.html)\n",
    "\n",
    "將參數轉型為 bool 類別並回傳\n",
    "* 動手試試放一些數值進去，比如說 bool(1)"
   ]
  },
  {
   "cell_type": "code",
   "execution_count": 2,
   "metadata": {
    "slideshow": {
     "slide_type": "-"
    }
   },
   "outputs": [
    {
     "name": "stdout",
     "output_type": "stream",
     "text": [
      "bool(1): \t True \t <class 'bool'>\n"
     ]
    }
   ],
   "source": [
    "print(\"bool(1): \\t\", bool(1), \"\\t\", type(bool(1)))"
   ]
  },
  {
   "cell_type": "markdown",
   "metadata": {
    "slideshow": {
     "slide_type": "slide"
    }
   },
   "source": [
    "### [int( )](http://www.runoob.com/python/python-func-int.html)\n",
    "\n",
    "將參數轉型為 int 類別並回傳\n",
    "* 動手試試放一些數值進去，比如說 int(1.0)"
   ]
  },
  {
   "cell_type": "code",
   "execution_count": 3,
   "metadata": {
    "scrolled": true,
    "slideshow": {
     "slide_type": "-"
    }
   },
   "outputs": [
    {
     "name": "stdout",
     "output_type": "stream",
     "text": [
      "int(1): \t 1 \t <class 'int'>\n"
     ]
    }
   ],
   "source": [
    "print(\"int(1): \\t\", int(1), \"\\t\", type(int(1)))"
   ]
  },
  {
   "cell_type": "markdown",
   "metadata": {
    "slideshow": {
     "slide_type": "subslide"
    }
   },
   "source": [
    "#### 放 array 進去會造成 Type Error"
   ]
  },
  {
   "cell_type": "code",
   "execution_count": 1,
   "metadata": {
    "scrolled": false,
    "slideshow": {
     "slide_type": "-"
    }
   },
   "outputs": [
    {
     "ename": "TypeError",
     "evalue": "int() argument must be a string, a bytes-like object or a number, not 'list'",
     "output_type": "error",
     "traceback": [
      "\u001b[1;31m---------------------------------------------------------------------------\u001b[0m",
      "\u001b[1;31mTypeError\u001b[0m                                 Traceback (most recent call last)",
      "\u001b[1;32m<ipython-input-1-20620949172d>\u001b[0m in \u001b[0;36m<module>\u001b[1;34m()\u001b[0m\n\u001b[1;32m----> 1\u001b[1;33m \u001b[0mprint\u001b[0m\u001b[1;33m(\u001b[0m\u001b[1;34m\"int([0, 1]): \\t\\t\"\u001b[0m\u001b[1;33m,\u001b[0m \u001b[0mint\u001b[0m\u001b[1;33m(\u001b[0m\u001b[1;33m[\u001b[0m\u001b[1;36m0\u001b[0m\u001b[1;33m,\u001b[0m \u001b[1;36m1\u001b[0m\u001b[1;33m]\u001b[0m\u001b[1;33m)\u001b[0m\u001b[1;33m,\u001b[0m \u001b[1;34m\"\\t\"\u001b[0m\u001b[1;33m,\u001b[0m \u001b[0mtype\u001b[0m\u001b[1;33m(\u001b[0m\u001b[0mint\u001b[0m\u001b[1;33m(\u001b[0m\u001b[1;33m[\u001b[0m\u001b[1;36m0\u001b[0m\u001b[1;33m,\u001b[0m \u001b[1;36m1\u001b[0m\u001b[1;33m]\u001b[0m\u001b[1;33m)\u001b[0m\u001b[1;33m)\u001b[0m\u001b[1;33m)\u001b[0m\u001b[1;33m\u001b[0m\u001b[0m\n\u001b[0m",
      "\u001b[1;31mTypeError\u001b[0m: int() argument must be a string, a bytes-like object or a number, not 'list'"
     ]
    }
   ],
   "source": [
    "print(\"int([0, 1]): \\t\\t\", int([0, 1]), \"\\t\", type(int([0, 1])))"
   ]
  },
  {
   "cell_type": "markdown",
   "metadata": {
    "slideshow": {
     "slide_type": "slide"
    }
   },
   "source": [
    "### [float( )](http://www.runoob.com/python/python-func-float.html)\n",
    "\n",
    "將參數轉型為 float 類別並回傳\n",
    "* 動手試試放一些數值進去，比如說 float(\"1\")"
   ]
  },
  {
   "cell_type": "code",
   "execution_count": 4,
   "metadata": {
    "scrolled": false,
    "slideshow": {
     "slide_type": "-"
    }
   },
   "outputs": [
    {
     "name": "stdout",
     "output_type": "stream",
     "text": [
      "float(\"1\"): \t 1.0 \t <class 'float'>\n"
     ]
    }
   ],
   "source": [
    "print(\"float(\\\"1\\\"): \\t\", float(\"1\"), \"\\t\", type(float(\"1\")))"
   ]
  },
  {
   "cell_type": "markdown",
   "metadata": {
    "slideshow": {
     "slide_type": "subslide"
    }
   },
   "source": [
    "#### 放 dictionary 進去會造成 Type Error"
   ]
  },
  {
   "cell_type": "code",
   "execution_count": 4,
   "metadata": {
    "scrolled": true,
    "slideshow": {
     "slide_type": "-"
    }
   },
   "outputs": [
    {
     "ename": "TypeError",
     "evalue": "float() argument must be a string or a number, not 'dict'",
     "output_type": "error",
     "traceback": [
      "\u001b[1;31m---------------------------------------------------------------------------\u001b[0m",
      "\u001b[1;31mTypeError\u001b[0m                                 Traceback (most recent call last)",
      "\u001b[1;32m<ipython-input-4-c0e763115e03>\u001b[0m in \u001b[0;36m<module>\u001b[1;34m()\u001b[0m\n\u001b[1;32m----> 1\u001b[1;33m \u001b[0mprint\u001b[0m\u001b[1;33m(\u001b[0m\u001b[1;34m\"float({0:'zero'}): \\t\"\u001b[0m\u001b[1;33m,\u001b[0m \u001b[0mfloat\u001b[0m\u001b[1;33m(\u001b[0m\u001b[1;33m{\u001b[0m\u001b[1;36m0\u001b[0m\u001b[1;33m:\u001b[0m\u001b[1;34m'zero'\u001b[0m\u001b[1;33m}\u001b[0m\u001b[1;33m)\u001b[0m\u001b[1;33m,\u001b[0m \u001b[1;34m\"\\t\"\u001b[0m\u001b[1;33m,\u001b[0m \u001b[0mtype\u001b[0m\u001b[1;33m(\u001b[0m\u001b[0mfloat\u001b[0m\u001b[1;33m(\u001b[0m\u001b[1;33m{\u001b[0m\u001b[1;36m0\u001b[0m\u001b[1;33m:\u001b[0m\u001b[1;34m'zero'\u001b[0m\u001b[1;33m}\u001b[0m\u001b[1;33m)\u001b[0m\u001b[1;33m)\u001b[0m\u001b[1;33m)\u001b[0m\u001b[1;33m\u001b[0m\u001b[0m\n\u001b[0m",
      "\u001b[1;31mTypeError\u001b[0m: float() argument must be a string or a number, not 'dict'"
     ]
    }
   ],
   "source": [
    "print(\"float({0:'zero'}): \\t\", float({0:'zero'}), \"\\t\", type(float({0:'zero'})))"
   ]
  },
  {
   "cell_type": "markdown",
   "metadata": {
    "slideshow": {
     "slide_type": "slide"
    }
   },
   "source": [
    "### [str( )](http://www.runoob.com/python/python-func-str.html)\n",
    "\n",
    "將參數轉型為 string 類別並回傳\n",
    "* 動手試試放一些數值進去，比如說 string([0, 1])"
   ]
  },
  {
   "cell_type": "code",
   "execution_count": 5,
   "metadata": {
    "scrolled": true,
    "slideshow": {
     "slide_type": "-"
    }
   },
   "outputs": [
    {
     "name": "stdout",
     "output_type": "stream",
     "text": [
      "str([0, 1]): \t\t [0, 1] \t <class 'str'>\n"
     ]
    }
   ],
   "source": [
    "print(\"str([0, 1]): \\t\\t\", str([0, 1]), \"\\t\", type(str([0, 1])))"
   ]
  },
  {
   "cell_type": "markdown",
   "metadata": {
    "slideshow": {
     "slide_type": "slide"
    }
   },
   "source": [
    "## <center>注意!!</center>\n",
    "\n",
    "<center><img src=\"https://imgur.com/fPny7M5.jpg\"></center>\n",
    "\n",
    "#### <center>盡量別寫奇怪的轉型 Code，像是...</center>"
   ]
  },
  {
   "cell_type": "code",
   "execution_count": 12,
   "metadata": {
    "slideshow": {
     "slide_type": "subslide"
    }
   },
   "outputs": [
    {
     "name": "stdout",
     "output_type": "stream",
     "text": [
      "bool(\"False\"): \t True \t <class 'bool'> \n",
      "\n"
     ]
    }
   ],
   "source": [
    "print(\"bool(\\\"False\\\"): \\t\", bool(\"False\"), \"\\t\", type(bool(\"False\")), \"\\n\")"
   ]
  },
  {
   "cell_type": "code",
   "execution_count": 13,
   "metadata": {
    "slideshow": {
     "slide_type": "subslide"
    }
   },
   "outputs": [
    {
     "ename": "ValueError",
     "evalue": "invalid literal for int() with base 10: '一百三十'",
     "output_type": "error",
     "traceback": [
      "\u001b[1;31m---------------------------------------------------------------------------\u001b[0m",
      "\u001b[1;31mValueError\u001b[0m                                Traceback (most recent call last)",
      "\u001b[1;32m<ipython-input-13-e0b11c34e110>\u001b[0m in \u001b[0;36m<module>\u001b[1;34m()\u001b[0m\n\u001b[1;32m----> 1\u001b[1;33m \u001b[0mprint\u001b[0m\u001b[1;33m(\u001b[0m\u001b[1;34m\"int(\\\"一百三十\\\"): \\t\"\u001b[0m\u001b[1;33m,\u001b[0m \u001b[0mint\u001b[0m\u001b[1;33m(\u001b[0m\u001b[1;34m\"一百三十\"\u001b[0m\u001b[1;33m)\u001b[0m\u001b[1;33m)\u001b[0m\u001b[1;33m\u001b[0m\u001b[0m\n\u001b[0m",
      "\u001b[1;31mValueError\u001b[0m: invalid literal for int() with base 10: '一百三十'"
     ]
    }
   ],
   "source": [
    "print(\"int(\\\"一百三十\\\"): \\t\", int(\"一百三十\"))"
   ]
  },
  {
   "cell_type": "markdown",
   "metadata": {
    "slideshow": {
     "slide_type": "subslide"
    }
   },
   "source": [
    "### <center>和你一起寫 Code 的隊友很可能會討厭你</center>\n",
    "<center><img src=\"https://imgur.com/nmXrQCF.jpg\"></center>"
   ]
  },
  {
   "cell_type": "markdown",
   "metadata": {
    "slideshow": {
     "slide_type": "slide"
    }
   },
   "source": [
    "### <center>數值運算相關</center>\n",
    "\n",
    "<br/>\n",
    "* abs( )\n",
    "* pow( )\n",
    "* divmod( )\n",
    "* max( ), min( )\n",
    "* sum( )"
   ]
  },
  {
   "cell_type": "markdown",
   "metadata": {
    "slideshow": {
     "slide_type": "slide"
    }
   },
   "source": [
    "### [abs( )](http://www.runoob.com/python/func-number-abs.html)\n",
    "\n",
    "用於計算絕對值，或複數座標平面上的點與原點的距離\n",
    "* 動手試試放一些數值進去，比如說 abs(5)\n",
    "* -10\n",
    "* 3+ 4j"
   ]
  },
  {
   "cell_type": "code",
   "execution_count": 30,
   "metadata": {
    "scrolled": true,
    "slideshow": {
     "slide_type": "subslide"
    }
   },
   "outputs": [
    {
     "name": "stdout",
     "output_type": "stream",
     "text": [
      "abs(5): \t 5\n",
      "abs(-10): \t 10\n",
      "abs(3+ 4j): \t 5.0\n"
     ]
    }
   ],
   "source": [
    "# abs() 計算絕對值\n",
    "\n",
    "print(\"abs(5): \\t\", abs(5))\n",
    "print(\"abs(-10): \\t\", abs(-10))\n",
    "print(\"abs(3+ 4j): \\t\", abs(3+ 4j))"
   ]
  },
  {
   "cell_type": "markdown",
   "metadata": {
    "slideshow": {
     "slide_type": "slide"
    }
   },
   "source": [
    "### [pow( )](http://www.runoob.com/python/func-number-pow.html)\n",
    "\n",
    "用於計算指數，pow(a, b) 是 a 的 b 次方\n",
    "* 動手試試放一些數值進去，比如說 pow(4, 3)\n",
    "* 2, 0\n",
    "* 10, -2\n",
    "* 3, 1.5"
   ]
  },
  {
   "cell_type": "code",
   "execution_count": 31,
   "metadata": {
    "scrolled": true,
    "slideshow": {
     "slide_type": "subslide"
    }
   },
   "outputs": [
    {
     "name": "stdout",
     "output_type": "stream",
     "text": [
      "pow(4, 3): \t 64\n",
      "pow(2, 0): \t 1\n",
      "pow(10, -2): \t 0.01\n",
      "pow(3, 1.5): \t 5.196152422706632\n"
     ]
    }
   ],
   "source": [
    "print(\"pow(4, 3): \\t\", pow(4, 3))\n",
    "print(\"pow(2, 0): \\t\", pow(2, 0))\n",
    "print(\"pow(10, -2): \\t\", pow(10, -2))\n",
    "print(\"pow(3, 1.5): \\t\", pow(3, 1.5))"
   ]
  },
  {
   "cell_type": "markdown",
   "metadata": {
    "slideshow": {
     "slide_type": "slide"
    }
   },
   "source": [
    "### [divmod( )](http://www.runoob.com/python/python-func-divmod.html)\n",
    "\n",
    "用於計算商數和餘數，第一個參數是被除數，第二個是除數\n",
    "* 動手試試放一些數值進去，比如說 divmod(7, 2)\n",
    "* 3, 10.2\n",
    "* 4.5, 4"
   ]
  },
  {
   "cell_type": "code",
   "execution_count": 32,
   "metadata": {
    "scrolled": false,
    "slideshow": {
     "slide_type": "subslide"
    }
   },
   "outputs": [
    {
     "name": "stdout",
     "output_type": "stream",
     "text": [
      "divmod(7, 2): \t\t (3, 1)\n",
      "divmod(3, 10.2): \t (0.0, 3.0)\n",
      "divmod(4.5, 4): \t (1.0, 0.5)\n"
     ]
    }
   ],
   "source": [
    "print(\"divmod(7, 2): \\t\\t\", divmod(7, 2))\n",
    "print(\"divmod(3, 10.2): \\t\", divmod(3, 10.2))\n",
    "print(\"divmod(4.5, 4): \\t\", divmod(4.5, 4))"
   ]
  },
  {
   "cell_type": "markdown",
   "metadata": {
    "slideshow": {
     "slide_type": "slide"
    }
   },
   "source": [
    "### [max( )](http://www.runoob.com/python/func-number-max.html), [min( )](http://www.runoob.com/python/func-number-min.html)\n",
    "\n",
    "用於取陣列中元素最大值，最小值\n",
    "* 動手試試放一些數值進去，比如說 max([1, 2, 3]), min([1, 2, 3])\n",
    "* [2, 0.5, -4]\n",
    "* [\"A\", \"B\", \"C\"]"
   ]
  },
  {
   "cell_type": "code",
   "execution_count": 33,
   "metadata": {
    "slideshow": {
     "slide_type": "subslide"
    }
   },
   "outputs": [
    {
     "name": "stdout",
     "output_type": "stream",
     "text": [
      "max([1, 2, 3]): \t 3\n",
      "min([1, 2, 3]): \t 1 \n",
      "\n",
      "max([2, 0.5, -4]): \t 2\n",
      "min([2, 0.5, -4]): \t -4 \n",
      "\n",
      "max([\"A\", \"B\", \"C\"]): \t C\n",
      "min([\"A\", \"B\", \"C\"]): \t A\n"
     ]
    }
   ],
   "source": [
    "print(\"max([1, 2, 3]): \\t\", max([1, 2, 3]))\n",
    "print(\"min([1, 2, 3]): \\t\", min([1, 2, 3]), \"\\n\")\n",
    "\n",
    "print(\"max([2, 0.5, -4]): \\t\", max([2, 0.5, -4]))\n",
    "print(\"min([2, 0.5, -4]): \\t\", min([2, 0.5, -4]), \"\\n\")\n",
    "\n",
    "print(\"max([\\\"A\\\", \\\"B\\\", \\\"C\\\"]): \\t\", max([\"A\", \"B\", \"C\"]))\n",
    "print(\"min([\\\"A\\\", \\\"B\\\", \\\"C\\\"]): \\t\", min([\"A\", \"B\", \"C\"]))"
   ]
  },
  {
   "cell_type": "markdown",
   "metadata": {
    "slideshow": {
     "slide_type": "slide"
    }
   },
   "source": [
    "### [sum( )](http://www.runoob.com/python/python-func-sum.html)\n",
    "\n",
    "用於取陣列內所有元素總和\n",
    "* 動手試試放一些數值進去，比如說 sum([120, 264, 500])\n",
    "* [10, -17.5, 3.5]\n",
    "* [True, True, False]"
   ]
  },
  {
   "cell_type": "code",
   "execution_count": 34,
   "metadata": {
    "scrolled": true,
    "slideshow": {
     "slide_type": "subslide"
    }
   },
   "outputs": [
    {
     "name": "stdout",
     "output_type": "stream",
     "text": [
      "sum([120, 264, 500]): \t\t 884\n",
      "sum([10, -17.5, 3.5]): \t\t -4.0\n",
      "sum([True, True, False]): \t 2\n"
     ]
    }
   ],
   "source": [
    "print(\"sum([120, 264, 500]): \\t\\t\", sum([120, 264, 500]))\n",
    "print(\"sum([10, -17.5, 3.5]): \\t\\t\", sum([10, -17.5, 3.5]))\n",
    "print(\"sum([True, True, False]): \\t\", sum([True, True, False]))"
   ]
  },
  {
   "cell_type": "markdown",
   "metadata": {
    "slideshow": {
     "slide_type": "subslide"
    }
   },
   "source": [
    "### <center> ----------------------------休息！-------------------------------</center>\n",
    "\n",
    "<br/>\n",
    "* 10 分鐘"
   ]
  },
  {
   "cell_type": "markdown",
   "metadata": {
    "slideshow": {
     "slide_type": "slide"
    }
   },
   "source": [
    "### <center>陣列操作相關</center>\n",
    "\n",
    "<br/>\n",
    "* sorted( )\n",
    "* set( )\n",
    "* reversed( )\n",
    "* zip( )\n",
    "* map( )\n",
    "* filter( )"
   ]
  },
  {
   "cell_type": "markdown",
   "metadata": {
    "slideshow": {
     "slide_type": "slide"
    }
   },
   "source": [
    "### [sorted( )](http://www.runoob.com/python/python-func-sorted.html)\n",
    "\n",
    "用於對陣列內元素進行排序\n",
    "* 動手試試放一些數值進去，比如說 sorted([1, 4, 3, 2, 5])\n",
    "* [5, 2.5, 3, 4.5, 1]\n",
    "* [\"B\", \"C\", \"A\", \"E\", \"D\"]"
   ]
  },
  {
   "cell_type": "code",
   "execution_count": 36,
   "metadata": {
    "scrolled": true,
    "slideshow": {
     "slide_type": "subslide"
    }
   },
   "outputs": [
    {
     "name": "stdout",
     "output_type": "stream",
     "text": [
      "sorted([1, 4, 3, 2, 5]): \t\t [1, 2, 3, 4, 5]\n",
      "sorted([5, 2.5, 3, 4.5, 1]): \t\t [1, 2.5, 3, 4.5, 5]\n",
      "sorted([\"B\", \"C\", \"A\", \"E\", \"D\"]): \t ['A', 'B', 'C', 'D', 'E']\n"
     ]
    }
   ],
   "source": [
    "print(\"sorted([1, 4, 3, 2, 5]): \\t\\t\", sorted([1, 4, 3, 2, 5]))\n",
    "print(\"sorted([5, 2.5, 3, 4.5, 1]): \\t\\t\", sorted([5, 2.5, 3, 4.5, 1]))\n",
    "print(\"sorted([\\\"B\\\", \\\"C\\\", \\\"A\\\", \\\"E\\\", \\\"D\\\"]): \\t\", sorted([\"B\", \"C\", \"A\", \"E\", \"D\"]))"
   ]
  },
  {
   "cell_type": "markdown",
   "metadata": {
    "slideshow": {
     "slide_type": "slide"
    }
   },
   "source": [
    "### [set( )](http://www.runoob.com/python/python-func-set.html)\n",
    "\n",
    "用於對陣列內元素取集合\n",
    "* 動手試試放一些數值進去，比如說 set([1, 1, 2])\n",
    "* [1, 1, 1.0]\n",
    "* [\"B\", \"A\", \"C\", \"A\", \"C\"]"
   ]
  },
  {
   "cell_type": "code",
   "execution_count": 37,
   "metadata": {
    "scrolled": false,
    "slideshow": {
     "slide_type": "subslide"
    }
   },
   "outputs": [
    {
     "name": "stdout",
     "output_type": "stream",
     "text": [
      "set([1, 1, 2]): \t\t\t {1, 2}\n",
      "set([1, 1, 1.0]): \t\t\t {1}\n",
      "set([\"B\", \"A\", \"C\", \"A\", \"C\"]): \t {'A', 'B', 'C'}\n"
     ]
    }
   ],
   "source": [
    "print(\"set([1, 1, 2]): \\t\\t\\t\", set([1, 1, 2]))\n",
    "print(\"set([1, 1, 1.0]): \\t\\t\\t\", set([1, 1, 1.0]))\n",
    "print(\"set([\\\"B\\\", \\\"A\\\", \\\"C\\\", \\\"A\\\", \\\"C\\\"]): \\t\", set([\"B\", \"A\", \"C\", \"A\", \"C\"]))"
   ]
  },
  {
   "cell_type": "markdown",
   "metadata": {
    "slideshow": {
     "slide_type": "slide"
    }
   },
   "source": [
    "### [reverse( )](http://www.runoob.com/python3/python3-func-reversed.html)\n",
    "\n",
    "用於對陣列內元素進行順序反轉\n",
    "* 動手試試放一些數值進去，比如說 reversed([1, 2, 3, 4, 5])\n",
    "* [1, [1, 1], [1, 1, 2]]"
   ]
  },
  {
   "cell_type": "code",
   "execution_count": 42,
   "metadata": {
    "scrolled": true,
    "slideshow": {
     "slide_type": "subslide"
    }
   },
   "outputs": [
    {
     "name": "stdout",
     "output_type": "stream",
     "text": [
      "reversed([1, 2, 3, 4, 5]): \t\t <list_reverseiterator object at 0x000001DBA6296860>\n",
      "list(reversed([1, 2, 3, 4, 5])): \t [5, 4, 3, 2, 1] \n",
      "\n",
      "reversed([1, [1, 1], [1, 1, 2]]): \t <list_reverseiterator object at 0x000001DBA6296860>\n",
      "list(reversed([1, [1, 1], [1, 1, 2]])):\t [[1, 1, 2], [1, 1], 1]\n"
     ]
    }
   ],
   "source": [
    "print(\"reversed([1, 2, 3, 4, 5]): \\t\\t\", reversed([1, 2, 3, 4, 5]))\n",
    "print(\"list(reversed([1, 2, 3, 4, 5])): \\t\", list(reversed([1, 2, 3, 4, 5])), \"\\n\")\n",
    "\n",
    "print(\"reversed([1, [1, 1], [1, 1, 2]]): \\t\", reversed([1, [1, 1], [1, 1, 2]]))\n",
    "print(\"list(reversed([1, [1, 1], [1, 1, 2]])):\\t\", list(reversed([1, [1, 1], [1, 1, 2]])))"
   ]
  },
  {
   "cell_type": "markdown",
   "metadata": {
    "slideshow": {
     "slide_type": "slide"
    }
   },
   "source": [
    "### [zip( )](http://www.runoob.com/python/python-func-zip.html)\n",
    "\n",
    "用於對多個陣列內順序對應的元素進行打包\n",
    "* 動手試試放一些數值進去，比如說 zip([1, 2, 3], [4, 5, 6])\n",
    "* [1, 2, 3], [4, 5, 6, 7]"
   ]
  },
  {
   "cell_type": "code",
   "execution_count": 45,
   "metadata": {
    "slideshow": {
     "slide_type": "subslide"
    }
   },
   "outputs": [
    {
     "name": "stdout",
     "output_type": "stream",
     "text": [
      "zip([1, 2, 3], [4, 5, 6]): \t\t <zip object at 0x000001DBA6162A48>\n",
      "list(zip([1, 2, 3], [4, 5, 6])): \t [(1, 4), (2, 5), (3, 6)] \n",
      "\n",
      "zip([1, 2, 3], [4, 5, 6, 7]): \t\t <zip object at 0x000001DBA6162A48>\n",
      "list(zip([1, 2, 3], [4, 5, 6, 7])): \t [(1, 4), (2, 5), (3, 6)]\n"
     ]
    }
   ],
   "source": [
    "print(\"zip([1, 2, 3], [4, 5, 6]): \\t\\t\", zip([1, 2, 3], [4, 5, 6]))\n",
    "print(\"list(zip([1, 2, 3], [4, 5, 6])): \\t\", list(zip([1, 2, 3], [4, 5, 6])), \"\\n\")\n",
    "\n",
    "print(\"zip([1, 2, 3], [4, 5, 6, 7]): \\t\\t\", zip([1, 2, 3], [4, 5, 6, 7]))\n",
    "print(\"list(zip([1, 2, 3], [4, 5, 6, 7])): \\t\", list(zip([1, 2, 3], [4, 5, 6, 7])))"
   ]
  },
  {
   "cell_type": "markdown",
   "metadata": {
    "slideshow": {
     "slide_type": "slide"
    }
   },
   "source": [
    "#### [map( )](http://www.runoob.com/python/python-func-map.html) - 用於對陣列內個各元素執行函數"
   ]
  },
  {
   "cell_type": "code",
   "execution_count": 51,
   "metadata": {
    "slideshow": {
     "slide_type": "-"
    }
   },
   "outputs": [
    {
     "name": "stdout",
     "output_type": "stream",
     "text": [
      "map(add_one, [4, 5, 6]): \t <map object at 0x000001DBA6270C50>\n",
      "list(map(add_one, [4, 5, 6])): \t [5, 6, 7] \n",
      "\n",
      "map(add_two, [1, 2, 3]): \t <map object at 0x000001DBA6270A58>\n",
      "list(map(add_two, [1, 2, 3])): \t [3, 4, 5]\n"
     ]
    }
   ],
   "source": [
    "def add_one(x): return x+ 1\n",
    "def add_two(x): return x+ 2\n",
    "\n",
    "print(\"map(add_one, [4, 5, 6]): \\t\", map(add_one, [4, 5, 6]))\n",
    "print(\"list(map(add_one, [4, 5, 6])): \\t\", list(map(add_one, [4, 5, 6])), \"\\n\")\n",
    "\n",
    "print(\"map(add_two, [1, 2, 3]): \\t\", map(add_two, [1, 2, 3]))\n",
    "print(\"list(map(add_two, [1, 2, 3])): \\t\", list(map(add_two, [1, 2, 3])))"
   ]
  },
  {
   "cell_type": "markdown",
   "metadata": {
    "slideshow": {
     "slide_type": "slide"
    }
   },
   "source": [
    "#### [filter( )](http://www.runoob.com/python/python-func-filter.html) - 對陣列內個各元素進行篩選"
   ]
  },
  {
   "cell_type": "code",
   "execution_count": 56,
   "metadata": {
    "slideshow": {
     "slide_type": "-"
    }
   },
   "outputs": [
    {
     "name": "stdout",
     "output_type": "stream",
     "text": [
      "filter(is_odd, [4, 5, 6]): \t\t <filter object at 0x000001DBA62AE3C8>\n",
      "list(filter(is_odd, [4, 5, 6])): \t [5] \n",
      "\n",
      "filter(is_even, [1, 2, 3]): \t\t <filter object at 0x000001DBA62AE2B0>\n",
      "list(filter(is_even, [1, 2, 3])): \t [2]\n"
     ]
    }
   ],
   "source": [
    "def is_odd(x): return x % 2 == 1\n",
    "def is_even(x): return x % 2 != 1\n",
    "\n",
    "print(\"filter(is_odd, [4, 5, 6]): \\t\\t\", filter(is_odd, [4, 5, 6]))\n",
    "print(\"list(filter(is_odd, [4, 5, 6])): \\t\", list(filter(is_odd, [4, 5, 6])), \"\\n\")\n",
    "\n",
    "print(\"filter(is_even, [1, 2, 3]): \\t\\t\", filter(is_even, [1, 2, 3]))\n",
    "print(\"list(filter(is_even, [1, 2, 3])): \\t\", list(filter(is_even, [1, 2, 3])))"
   ]
  },
  {
   "cell_type": "markdown",
   "metadata": {
    "slideshow": {
     "slide_type": "slide"
    }
   },
   "source": [
    "### <center> ----------------------------休息 + 練習-------------------------------</center>\n",
    "\n",
    "<br/>\n",
    "* 60分鐘"
   ]
  },
  {
   "cell_type": "markdown",
   "metadata": {
    "slideshow": {
     "slide_type": "slide"
    }
   },
   "source": [
    "### <center> ----------------------------題目 1-------------------------------</center>\n",
    "\n",
    "實現這個 double_side_list 的功能<br/>\n",
    "第一個參數是中心，第二個參數是邊界，第三個參數是間隔<br/>\n",
    "輸出有回文效果的 List<br/>\n",
    "<br/>\n",
    "\\>>> double_side_list(10, 20, 2)<br/>\n",
    "[18, 16, 14, 12, 10, 12, 14, 16, 18]<br/>\n",
    "<br/>\n",
    "\\>>> double_side_list(10, 4, 2)<br/>\n",
    "[6, 8, 10, 8, 6]<br/>"
   ]
  },
  {
   "cell_type": "code",
   "execution_count": 57,
   "metadata": {
    "slideshow": {
     "slide_type": "subslide"
    }
   },
   "outputs": [
    {
     "name": "stdout",
     "output_type": "stream",
     "text": [
      "[18, 16, 14, 12, 10, 12, 14, 16, 18] \n",
      "\n",
      "[6, 8, 10, 8, 6] \n",
      "\n"
     ]
    }
   ],
   "source": [
    "# 題目1參考答案\n",
    "\n",
    "def double_side_list(edge_0, edge_1, interval):\n",
    "    \n",
    "    interval = -abs(interval) if (edge_0 > edge_1) else abs(interval)   # 如果要使用 range() 須注意起終點以及間隔的關係\n",
    "    right_side_list = list(range(edge_0, edge_1, interval))             # 先處理好右邊的 list\n",
    "    left_side_list = list(reversed(right_side_list))[:-1]               # 然後是左邊的\n",
    "    return left_side_list+ right_side_list                              # 連起來之後回傳\n",
    "\n",
    "print(double_side_list(10, 20, 2), \"\\n\")\n",
    "print(double_side_list(10, 4, 2), \"\\n\")"
   ]
  },
  {
   "cell_type": "markdown",
   "metadata": {
    "slideshow": {
     "slide_type": "slide"
    }
   },
   "source": [
    "### <center> ----------------------------題目 2-------------------------------</center>\n",
    "\n",
    "各位會打橋牌嗎~?<br/>\n",
    "目前手上有一副牌，已經分好 [黑桃、紅心、鑽石、梅花]，像這樣：<br/>\n",
    "[[\"2\", \"K\", \"6\", \"A\", \"10\", \"Q\"], [\"8\", \"K\"], [\"9\", \"Q\", \"8\", \"A\"], [\"7\"]]<br/>\n",
    "<br/>\n",
    "如果把手牌中各個花色按照大小順序整理，會有幫助於戰術規劃，像這樣：<br/>\n",
    "[[\"A\", \"K\", \"Q\", \"10\", \"6\", \"2\"], [\"K\", \"8\"], [\"A\", \"Q\", \"9\", \"8\"], [\"7\"]]<br/>\n",
    "<br/>\n",
    "\\>>> sortCards([[\"2\", \"K\", \"6\", \"A\", \"10\", \"Q\"], [\"8\", \"K\"], [\"9\", \"Q\", \"8\", \"A\"], [\"7\"]])<br/>\n",
    "<<< [[\"A\", \"K\", \"Q\", \"10\", \"6\", \"2\"], [\"K\", \"8\"], [\"A\", \"Q\", \"9\", \"8\"], [\"7\"]]"
   ]
  },
  {
   "cell_type": "code",
   "execution_count": 1,
   "metadata": {
    "slideshow": {
     "slide_type": "subslide"
    }
   },
   "outputs": [
    {
     "name": "stdout",
     "output_type": "stream",
     "text": [
      "[['A', 'K', 'Q', '10', '6', '2'], ['K', '8'], ['A', 'Q', '9', '8'], ['7']] \n",
      "\n",
      "[['9', '6', '4', '3'], ['J', '7', '6', '5'], ['K'], ['10', '6', '4', '2']] \n",
      "\n"
     ]
    }
   ],
   "source": [
    "# 題目2參考答案\n",
    "\n",
    "def filter_sorted(cards):\n",
    "    \n",
    "    deck = [\"A\", \"K\", \"Q\", \"J\", \"10\", \"9\", \"8\", \"7\", \"6\", \"5\", \"4\", \"3\", \"2\"]       # 事先排好撲克牌順序               \n",
    "    return [x for x in deck if x in cards]                                         # 若排序好的牌在目前的牌組就留下\n",
    "                                                                                    # 否則刪掉\n",
    "\n",
    "def arrange_cards(deck):\n",
    "    return list(map(filter_sorted, deck))                                          # 套用至每個花色上\n",
    "\n",
    "new_deck_0 = [[\"2\", \"K\", \"6\", \"A\", \"10\", \"Q\"], [\"8\", \"K\"], [\"9\", \"Q\", \"8\", \"A\"], [\"7\"]]\n",
    "print(arrange_cards(new_deck_0), \"\\n\")\n",
    "\n",
    "new_deck_1 = [[\"9\", \"4\", \"6\", \"3\"], [\"J\", \"6\", \"7\", \"5\"], [\"K\"], [\"10\", \"2\", \"6\", \"4\"]]\n",
    "print(arrange_cards(new_deck_1), \"\\n\")"
   ]
  },
  {
   "cell_type": "markdown",
   "metadata": {
    "slideshow": {
     "slide_type": "slide"
    }
   },
   "source": [
    "### <center> ----------------------------題目 3-------------------------------</center>\n",
    "\n",
    "各位會下西洋棋嗎？<br/>\n",
    "西洋棋裡面有一種棋子是 Queen，他的進攻範圍如下圖：\n",
    "\n",
    "<center><img src=\"https://qph.fs.quoracdn.net/main-qimg-04a0f0702f86ecb8931bdd75af9e9a55\"></center>\n",
    "\n",
    "也就是直的橫的斜的都能攻擊，而且距離無限!!"
   ]
  },
  {
   "cell_type": "markdown",
   "metadata": {
    "slideshow": {
     "slide_type": "subslide"
    }
   },
   "source": [
    "## <center>八皇后規則</center>\n",
    "\n",
    "* 棋盤上只有八支皇后\n",
    "* 目標條件為，八支皇后皆無法互相攻擊\n",
    "* 請寫一個判斷是否達成目標條件的函數"
   ]
  },
  {
   "cell_type": "markdown",
   "metadata": {
    "slideshow": {
     "slide_type": "subslide"
    }
   },
   "source": [
    "<center><div style=\"width: 30%;\"><img src=\"https://steemitimages.com/DQmV7sd3jnxQJbapCbb4RqKGUXYKv62G7RznuVzecsb6rPo/download%20(2).png\"></div></center>\n",
    "\n",
    "\\>>> eightQueens([[0, 0], [1, 4], [2, 7], [3, 5], [4, 2], [5, 6], [6, 1], [7, 3]])<br/>\n",
    "<<< True"
   ]
  },
  {
   "cell_type": "code",
   "execution_count": 2,
   "metadata": {
    "slideshow": {
     "slide_type": "subslide"
    }
   },
   "outputs": [
    {
     "name": "stdout",
     "output_type": "stream",
     "text": [
      "True\n"
     ]
    }
   ],
   "source": [
    "# 題目3參考答案\n",
    "\n",
    "def EightQueen(positions):\n",
    "    horizontalScan =  len(set([x[1] for x in positions])) == 8                    # 檢查水平方向是否無法互相攻擊\n",
    "    verticalScan = len(set([x[0] for x in positions])) == 8                       # 檢查垂直方向是否無法互相攻擊\n",
    "    slashScan = len(set([sum(x) for x in positions])) == 8                        # 檢查左上右下斜線是否無法互相攻擊\n",
    "    backslashScan = len(set([x[0]- x[1] for x in positions])) == 8                # 檢查右上左下斜線是否無法互相攻擊\n",
    "    return horizontalScan and verticalScan and slashScan and backslashScan        # 四種檢查有一種為 False 即回傳 False\n",
    "\n",
    "print(EightQueen([[0, 0], [1, 4], [2, 7], [3, 5], [4, 2], [5, 6], [6, 1], [7, 3]]))"
   ]
  },
  {
   "cell_type": "markdown",
   "metadata": {
    "slideshow": {
     "slide_type": "slide"
    }
   },
   "source": [
    "### <center> ----------------------------題目 4 (挑戰題)-------------------------------</center>\n",
    "\n",
    "挑戰題不計分，助教也不會講解，請自行研究~<br/>\n",
    "萊文斯坦距離是一種用於描述兩字串間相似程度的方式<br/>\n",
    "可以使用插入字元、移除字元、替換字元三種操作<br/>\n",
    "使用操作的最少步驟就是萊文斯坦距離<br/>\n",
    "常常用來檢測作業抄襲、聊天機器人開發等等<br/>\n",
    "<br/>\n",
    "參考資料：[維基百科](https://zh.wikipedia.org/zh-tw/%E8%90%8A%E6%96%87%E6%96%AF%E5%9D%A6%E8%B7%9D%E9%9B%A2)"
   ]
  },
  {
   "cell_type": "markdown",
   "metadata": {
    "slideshow": {
     "slide_type": "subslide"
    }
   },
   "source": [
    "目標：<br/>\n",
    "寫一個函數，能吃兩個字串<br/>\n",
    "並回傳兩字串間的萊文斯坦距離<br/>\n",
    "<br/>\n",
    "\\>>> levenshtein(\"kitten\", \"sitting\")<br/>\n",
    "<<< 3"
   ]
  }
 ],
 "metadata": {
  "celltoolbar": "Slideshow",
  "kernelspec": {
   "display_name": "Python 3",
   "language": "python",
   "name": "python3"
  },
  "language_info": {
   "codemirror_mode": {
    "name": "ipython",
    "version": 3
   },
   "file_extension": ".py",
   "mimetype": "text/x-python",
   "name": "python",
   "nbconvert_exporter": "python",
   "pygments_lexer": "ipython3",
   "version": "3.6.3"
  },
  "livereveal": {
   "theme": "serif",
   "transition": "zoom"
  }
 },
 "nbformat": 4,
 "nbformat_minor": 2
}
