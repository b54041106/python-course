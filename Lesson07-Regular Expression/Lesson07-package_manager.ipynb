{
 "cells": [
  {
   "cell_type": "markdown",
   "metadata": {
    "slideshow": {
     "slide_type": "slide"
    }
   },
   "source": [
    "# [X-Village] Lesson07-package_manager\n",
    "# by 劉正仁"
   ]
  },
  {
   "cell_type": "markdown",
   "metadata": {
    "slideshow": {
     "slide_type": "subslide"
    }
   },
   "source": [
    "# Package Manager\n",
    "\n",
    "顧名思義就是管理套件(Package)的程式(Manager)。  \n",
    "\n",
    "![Package manager](./images/package1.png)"
   ]
  },
  {
   "cell_type": "markdown",
   "metadata": {
    "slideshow": {
     "slide_type": "subslide"
    }
   },
   "source": [
    "# Package Manger (Con't)\n",
    "\n",
    "很多公司跟開發者，都會將他們開發出來的套件(Package)發布給其他開發者，有免費的也有需要付費的。  \n",
    "\n",
    "![package2](./images/package2.png)"
   ]
  },
  {
   "cell_type": "markdown",
   "metadata": {},
   "source": [
    "# Package Manager (Con't)\n",
    "\n",
    "這些開源(open source)的套件(package)都存在於網路中，[python 官方網站](https://pypi.org/)提供一個地方讓開發者分享自己的努力。  \n",
    "\n",
    "![](./images/package3.png)"
   ]
  },
  {
   "cell_type": "markdown",
   "metadata": {
    "slideshow": {
     "slide_type": "subslide"
    }
   },
   "source": [
    "# Package Manager (Con't)\n",
    "\n",
    "**pip** 這個程式就是 python 提供的套件管理程式(Package Manager)。  \n",
    "pip 的責任就是幫我們從網路中下載這些第三方的套件(Third-party package) 到我們的電腦中做使用。  \n",
    "\n",
    "![](./images/package4.jpg)"
   ]
  },
  {
   "cell_type": "code",
   "execution_count": null,
   "metadata": {},
   "outputs": [],
   "source": []
  }
 ],
 "metadata": {
  "celltoolbar": "Slideshow",
  "kernelspec": {
   "display_name": "Python 3",
   "language": "python",
   "name": "python3"
  },
  "language_info": {
   "codemirror_mode": {
    "name": "ipython",
    "version": 3
   },
   "file_extension": ".py",
   "mimetype": "text/x-python",
   "name": "python",
   "nbconvert_exporter": "python",
   "pygments_lexer": "ipython3",
   "version": "3.5.2"
  }
 },
 "nbformat": 4,
 "nbformat_minor": 2
}
