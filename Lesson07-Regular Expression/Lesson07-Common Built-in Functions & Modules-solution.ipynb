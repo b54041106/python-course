{
 "cells": [
  {
   "cell_type": "markdown",
   "metadata": {
    "slideshow": {
     "slide_type": "slide"
    }
   },
   "source": [
    "## [X-Village] Lesson07 - 常用內建函式 & 模組\n",
    "by Rain"
   ]
  },
  {
   "cell_type": "markdown",
   "metadata": {
    "slideshow": {
     "slide_type": "subslide"
    }
   },
   "source": [
    "#### 看看這段 Code"
   ]
  },
  {
   "cell_type": "code",
   "execution_count": 2,
   "metadata": {
    "slideshow": {
     "slide_type": "-"
    }
   },
   "outputs": [
    {
     "name": "stdout",
     "output_type": "stream",
     "text": [
      "[0, 2, 4, 6, 8]\n",
      "20\n"
     ]
    }
   ],
   "source": [
    "my_list = list(range(0, 10, 2))\n",
    "print(my_list)\n",
    "print(sum(my_list))"
   ]
  },
  {
   "cell_type": "markdown",
   "metadata": {
    "slideshow": {
     "slide_type": "fragment"
    }
   },
   "source": [
    "#### sum( ) 計算 list 中元素的總和"
   ]
  },
  {
   "cell_type": "markdown",
   "metadata": {
    "slideshow": {
     "slide_type": "slide"
    }
   },
   "source": [
    "## <center>所以內建函式是什麼?</center><br/>"
   ]
  },
  {
   "cell_type": "markdown",
   "metadata": {
    "slideshow": {
     "slide_type": "fragment"
    }
   },
   "source": [
    "* 就像你自己寫的函式一樣"
   ]
  },
  {
   "cell_type": "markdown",
   "metadata": {
    "slideshow": {
     "slide_type": "fragment"
    }
   },
   "source": [
    "* 不過 Python 已經寫好了"
   ]
  },
  {
   "cell_type": "markdown",
   "metadata": {
    "slideshow": {
     "slide_type": "fragment"
    }
   },
   "source": [
    "* 可以直接用，別客氣"
   ]
  },
  {
   "cell_type": "markdown",
   "metadata": {
    "slideshow": {
     "slide_type": "subslide"
    }
   },
   "source": [
    "## <center>一些常用的內建函式</center>\n",
    "\n",
    "<br/>\n",
    "* 輸入輸出：input(), print()...\n",
    "* 數值轉型：int(), str()...\n",
    "* 陣列操作：reverse(), sort(), pop()...\n",
    "* 數值運算：abs(), sum(), max()..."
   ]
  },
  {
   "cell_type": "markdown",
   "metadata": {
    "slideshow": {
     "slide_type": "subslide"
    }
   },
   "source": [
    "## <center>使用內建函式的好處</center>\n",
    "<br/>"
   ]
  },
  {
   "cell_type": "markdown",
   "metadata": {
    "slideshow": {
     "slide_type": "fragment"
    }
   },
   "source": [
    "* 自己寫可能會寫錯"
   ]
  },
  {
   "cell_type": "markdown",
   "metadata": {
    "slideshow": {
     "slide_type": "fragment"
    }
   },
   "source": [
    "* 提升 Coding 效率"
   ]
  },
  {
   "cell_type": "markdown",
   "metadata": {
    "slideshow": {
     "slide_type": "fragment"
    }
   },
   "source": [
    "* 提升可讀性"
   ]
  },
  {
   "cell_type": "markdown",
   "metadata": {
    "slideshow": {
     "slide_type": "subslide"
    }
   },
   "source": [
    "#### 比如說，sum()可以用來算總和"
   ]
  },
  {
   "cell_type": "code",
   "execution_count": 8,
   "metadata": {
    "slideshow": {
     "slide_type": "-"
    }
   },
   "outputs": [
    {
     "name": "stdout",
     "output_type": "stream",
     "text": [
      "data: \t\t [0, 1, 2, 3, 4, 5, 6, 7, 8, 9]\n",
      "sum(data): \t 45\n",
      "sum(data, 2): \t 47\n"
     ]
    }
   ],
   "source": [
    "data = list(range(0, 10))\n",
    "\n",
    "print(\"data: \\t\\t\", data)\n",
    "print(\"sum(data): \\t\", sum(data))\n",
    "print(\"sum(data, 2): \\t\", sum(data, 2))"
   ]
  },
  {
   "cell_type": "markdown",
   "metadata": {
    "slideshow": {
     "slide_type": "subslide"
    }
   },
   "source": [
    "#### 實現 sum() 函式部分功能"
   ]
  },
  {
   "cell_type": "code",
   "execution_count": 3,
   "metadata": {
    "slideshow": {
     "slide_type": "-"
    }
   },
   "outputs": [],
   "source": [
    "def my_sum(data):\n",
    "    value = 0                         # 剛開始總何為零\n",
    "    \n",
    "    for i in data:                    # 逐個增加\n",
    "        value += i\n",
    "        \n",
    "    return value                      # 回傳總和"
   ]
  },
  {
   "cell_type": "markdown",
   "metadata": {
    "slideshow": {
     "slide_type": "subslide"
    }
   },
   "source": [
    "#### 兩個都拿來算一下學分"
   ]
  },
  {
   "cell_type": "code",
   "execution_count": 5,
   "metadata": {
    "slideshow": {
     "slide_type": "-"
    }
   },
   "outputs": [
    {
     "name": "stdout",
     "output_type": "stream",
     "text": [
      "sum(my_credits): \t 114\n",
      "my_sum(my_credits): \t 114\n"
     ]
    }
   ],
   "source": [
    "my_credits = [12, 15, 14, 14, 15, 12, 18, 14]\n",
    "\n",
    "print(\"sum(my_credits): \\t\", sum(my_credits))\n",
    "print(\"my_sum(my_credits): \\t\", my_sum(my_credits))"
   ]
  },
  {
   "cell_type": "markdown",
   "metadata": {
    "slideshow": {
     "slide_type": "subslide"
    }
   },
   "source": [
    "### <center>然後你會發現......</center>"
   ]
  },
  {
   "cell_type": "markdown",
   "metadata": {
    "slideshow": {
     "slide_type": "subslide"
    }
   },
   "source": [
    "# <center>尷尬</center>\n",
    "\n",
    "<br/>\n",
    "#### <center>學分好像不夠...Σ(O口O)</center>"
   ]
  },
  {
   "cell_type": "markdown",
   "metadata": {
    "slideshow": {
     "slide_type": "subslide"
    }
   },
   "source": [
    "## <center>都快要不能畢業了，哪有時間自己寫 my_sum() 阿！</center>\n",
    "<br/>"
   ]
  },
  {
   "cell_type": "markdown",
   "metadata": {
    "slideshow": {
     "slide_type": "fragment"
    }
   },
   "source": [
    "* 時間壓力"
   ]
  },
  {
   "cell_type": "markdown",
   "metadata": {
    "slideshow": {
     "slide_type": "fragment"
    }
   },
   "source": [
    "* 可能寫錯"
   ]
  },
  {
   "cell_type": "markdown",
   "metadata": {
    "slideshow": {
     "slide_type": "fragment"
    }
   },
   "source": [
    "* 內建函式可以幫上你"
   ]
  },
  {
   "cell_type": "markdown",
   "metadata": {
    "slideshow": {
     "slide_type": "slide"
    }
   },
   "source": [
    "## <center>關於這堂課...</center>"
   ]
  },
  {
   "cell_type": "markdown",
   "metadata": {
    "slideshow": {
     "slide_type": "slide"
    }
   },
   "source": [
    "## <center>這堂課應該怎麼學？</center>\n",
    "\n",
    "<br/>\n",
    "#### <center>以下是一些個人建議</center>"
   ]
  },
  {
   "cell_type": "markdown",
   "metadata": {
    "slideshow": {
     "slide_type": "subslide"
    }
   },
   "source": [
    "## <center>其實你不一定要聽我講課</center>\n",
    "\n",
    "<br/>\n",
    "#### <center>教材中附有不少參考連結，你如果覺得自己還蠻猛的，可以自行研究</center>"
   ]
  },
  {
   "cell_type": "markdown",
   "metadata": {
    "slideshow": {
     "slide_type": "subslide"
    }
   },
   "source": [
    "## <center>課堂練習不需要照抄我的範例</center>\n",
    "\n",
    "<br/>\n",
    "#### <center>會有蠻多練習時間，我會提供範例，但建議可以試著自己寫寫看</center>"
   ]
  },
  {
   "cell_type": "markdown",
   "metadata": {
    "slideshow": {
     "slide_type": "subslide"
    }
   },
   "source": [
    "## <center>最後會有 Exercises</center>\n",
    "\n",
    "<br/>\n",
    "#### <center>在你寫完之後，可以試著找不同的寫法，以及更好的解法</center>"
   ]
  },
  {
   "cell_type": "markdown",
   "metadata": {
    "slideshow": {
     "slide_type": "slide"
    }
   },
   "source": [
    "## <center>這堂課的重點在哪？</center>\n",
    "\n",
    "<br/>\n",
    "#### <center>以下是一些個人建議</center>"
   ]
  },
  {
   "cell_type": "markdown",
   "metadata": {
    "slideshow": {
     "slide_type": "subslide"
    }
   },
   "source": [
    "## <center>先學會用</center>\n",
    "\n",
    "<br/>\n",
    "#### <center>了解寫法與功能，讓你能完成你想要的事</center>"
   ]
  },
  {
   "cell_type": "markdown",
   "metadata": {
    "slideshow": {
     "slide_type": "subslide"
    }
   },
   "source": [
    "## <center>再思考怎麼用比較好</center>\n",
    "\n",
    "<br/>\n",
    "#### <center>比較容易看懂，比較方便修改，比較好的效能</center>"
   ]
  },
  {
   "cell_type": "markdown",
   "metadata": {
    "slideshow": {
     "slide_type": "subslide"
    }
   },
   "source": [
    "## <center>然後是怎麼用對你和你的夥伴都比較好</center>\n",
    "\n",
    "<br/>\n",
    "#### <center>詳細情況可能就要問你夥伴了~</center>"
   ]
  },
  {
   "cell_type": "markdown",
   "metadata": {
    "slideshow": {
     "slide_type": "slide"
    }
   },
   "source": [
    "### <center>數值運算相關</center>\n",
    "\n",
    "<br/>\n",
    "* abs( )\n",
    "* pow( )\n",
    "* divmod( )\n",
    "* max( ), min( )\n",
    "* sum( )"
   ]
  },
  {
   "cell_type": "markdown",
   "metadata": {
    "slideshow": {
     "slide_type": "slide"
    }
   },
   "source": [
    "### [abs( )](http://www.runoob.com/python/func-number-abs.html)\n",
    "\n",
    "用於計算絕對值，或複數座標平面上的點與原點的距離\n",
    "* 動手試試放一些數值進去，比如說 abs(5)\n",
    "* -10\n",
    "* 3+ 4j"
   ]
  },
  {
   "cell_type": "code",
   "execution_count": null,
   "metadata": {
    "slideshow": {
     "slide_type": "subslide"
    }
   },
   "outputs": [],
   "source": [
    "# Try"
   ]
  },
  {
   "cell_type": "markdown",
   "metadata": {
    "slideshow": {
     "slide_type": "slide"
    }
   },
   "source": [
    "### [pow( )](http://www.runoob.com/python/func-number-pow.html)\n",
    "\n",
    "用於計算指數，pow(a, b) 是 a 的 b 次方\n",
    "* 動手試試放一些數值進去，比如說 pow(4, 3)\n",
    "* 2, 0\n",
    "* 10, -2\n",
    "* 3, 1.5"
   ]
  },
  {
   "cell_type": "code",
   "execution_count": null,
   "metadata": {
    "slideshow": {
     "slide_type": "subslide"
    }
   },
   "outputs": [],
   "source": [
    "# Try"
   ]
  },
  {
   "cell_type": "markdown",
   "metadata": {
    "slideshow": {
     "slide_type": "slide"
    }
   },
   "source": [
    "### [divmod( )](http://www.runoob.com/python/python-func-divmod.html)\n",
    "\n",
    "用於計算商數和餘數，第一個參數是被除數，第二個是除數\n",
    "* 動手試試放一些數值進去，比如說 divmod(7, 2)\n",
    "* 3, 10.2\n",
    "* 4.5, 4"
   ]
  },
  {
   "cell_type": "code",
   "execution_count": null,
   "metadata": {
    "slideshow": {
     "slide_type": "subslide"
    }
   },
   "outputs": [],
   "source": [
    "# Try"
   ]
  },
  {
   "cell_type": "markdown",
   "metadata": {
    "slideshow": {
     "slide_type": "slide"
    }
   },
   "source": [
    "### [max( )](http://www.runoob.com/python/func-number-max.html), [min( )](http://www.runoob.com/python/func-number-min.html)\n",
    "\n",
    "用於取陣列中元素最大值，最小值\n",
    "* 動手試試放一些數值進去，比如說 max([1, 2, 3]), min([1, 2, 3])\n",
    "* [2, 0.5, -4]\n",
    "* [\"A\", \"B\", \"C\"]"
   ]
  },
  {
   "cell_type": "code",
   "execution_count": null,
   "metadata": {
    "slideshow": {
     "slide_type": "subslide"
    }
   },
   "outputs": [],
   "source": [
    "# Try"
   ]
  },
  {
   "cell_type": "markdown",
   "metadata": {
    "slideshow": {
     "slide_type": "slide"
    }
   },
   "source": [
    "### [sum( )](http://www.runoob.com/python/python-func-sum.html)\n",
    "\n",
    "用於取陣列內所有元素總和\n",
    "* 動手試試放一些數值進去，比如說 sum([120, 264, 500])\n",
    "* [10, -17.5, 3.5]\n",
    "* [True, True, False]"
   ]
  },
  {
   "cell_type": "code",
   "execution_count": null,
   "metadata": {
    "slideshow": {
     "slide_type": "subslide"
    }
   },
   "outputs": [],
   "source": [
    "# Try"
   ]
  },
  {
   "cell_type": "markdown",
   "metadata": {
    "slideshow": {
     "slide_type": "slide"
    }
   },
   "source": [
    "### <center>陣列操作相關</center>\n",
    "\n",
    "<br/>\n",
    "* sorted( )\n",
    "* set( )\n",
    "* reversed( )\n",
    "* zip( )\n",
    "* map( )\n",
    "* filter( )"
   ]
  },
  {
   "cell_type": "markdown",
   "metadata": {
    "slideshow": {
     "slide_type": "slide"
    }
   },
   "source": [
    "### [sorted( )](http://www.runoob.com/python/python-func-sorted.html)\n",
    "\n",
    "用於對陣列內元素進行排序\n",
    "* 動手試試放一些數值進去，比如說 sorted([1, 4, 3, 2, 5])\n",
    "* [5, 2.5, 3, 4.5, 1]\n",
    "* [\"B\", \"C\", \"A\", \"E\", \"D\"]"
   ]
  },
  {
   "cell_type": "code",
   "execution_count": 5,
   "metadata": {
    "scrolled": true,
    "slideshow": {
     "slide_type": "subslide"
    }
   },
   "outputs": [
    {
     "data": {
      "text/plain": [
       "[1, 2.5, 3, 4.5, 5]"
      ]
     },
     "execution_count": 5,
     "metadata": {},
     "output_type": "execute_result"
    }
   ],
   "source": [
    "# Try"
   ]
  },
  {
   "cell_type": "markdown",
   "metadata": {
    "slideshow": {
     "slide_type": "slide"
    }
   },
   "source": [
    "### [set( )](http://www.runoob.com/python/python-func-set.html)\n",
    "\n",
    "用於對陣列內元素取集合\n",
    "* 動手試試放一些數值進去，比如說 set([1, 1, 2])\n",
    "* [1, 1, 1.0]\n",
    "* [\"B\", \"A\", \"C\", \"A\", \"C\"]"
   ]
  },
  {
   "cell_type": "code",
   "execution_count": 3,
   "metadata": {
    "scrolled": false,
    "slideshow": {
     "slide_type": "subslide"
    }
   },
   "outputs": [],
   "source": [
    "# Try"
   ]
  },
  {
   "cell_type": "markdown",
   "metadata": {
    "slideshow": {
     "slide_type": "slide"
    }
   },
   "source": [
    "### [reverse( )](http://www.runoob.com/python3/python3-func-reversed.html)\n",
    "\n",
    "用於對陣列內元素進行順序反轉\n",
    "* 動手試試放一些數值進去，比如說 reversed([1, 2, 3, 4, 5])\n",
    "* [1, [1, 1], [1, 1, 2]]"
   ]
  },
  {
   "cell_type": "code",
   "execution_count": 6,
   "metadata": {
    "scrolled": true,
    "slideshow": {
     "slide_type": "subslide"
    }
   },
   "outputs": [],
   "source": [
    "# Try"
   ]
  },
  {
   "cell_type": "markdown",
   "metadata": {
    "slideshow": {
     "slide_type": "slide"
    }
   },
   "source": [
    "### [zip( )](http://www.runoob.com/python/python-func-zip.html)\n",
    "\n",
    "用於對多個陣列內順序對應的元素進行打包\n",
    "* 動手試試放一些數值進去，比如說 zip([1, 2, 3], [4, 5, 6])\n",
    "* [1, 2, 3], [4, 5, 6, 7]"
   ]
  },
  {
   "cell_type": "code",
   "execution_count": 7,
   "metadata": {
    "slideshow": {
     "slide_type": "subslide"
    }
   },
   "outputs": [],
   "source": [
    "# Try"
   ]
  },
  {
   "cell_type": "markdown",
   "metadata": {
    "slideshow": {
     "slide_type": "slide"
    }
   },
   "source": [
    "#### [map( )](http://www.runoob.com/python/python-func-map.html) - 用於對陣列內個各元素執行函數"
   ]
  },
  {
   "cell_type": "code",
   "execution_count": 51,
   "metadata": {
    "slideshow": {
     "slide_type": "-"
    }
   },
   "outputs": [
    {
     "name": "stdout",
     "output_type": "stream",
     "text": [
      "map(add_one, [4, 5, 6]): \t <map object at 0x000001DBA6270C50>\n",
      "list(map(add_one, [4, 5, 6])): \t [5, 6, 7] \n",
      "\n",
      "map(add_two, [1, 2, 3]): \t <map object at 0x000001DBA6270A58>\n",
      "list(map(add_two, [1, 2, 3])): \t [3, 4, 5]\n"
     ]
    }
   ],
   "source": [
    "def add_one(x): return x+ 1\n",
    "def add_two(x): return x+ 2\n",
    "\n",
    "print(\"map(add_one, [4, 5, 6]): \\t\", map(add_one, [4, 5, 6]))\n",
    "print(\"list(map(add_one, [4, 5, 6])): \\t\", list(map(add_one, [4, 5, 6])), \"\\n\")\n",
    "\n",
    "print(\"map(add_two, [1, 2, 3]): \\t\", map(add_two, [1, 2, 3]))\n",
    "print(\"list(map(add_two, [1, 2, 3])): \\t\", list(map(add_two, [1, 2, 3])))"
   ]
  },
  {
   "cell_type": "code",
   "execution_count": 8,
   "metadata": {
    "slideshow": {
     "slide_type": "subslide"
    }
   },
   "outputs": [],
   "source": [
    "# Try"
   ]
  },
  {
   "cell_type": "markdown",
   "metadata": {
    "slideshow": {
     "slide_type": "slide"
    }
   },
   "source": [
    "#### [filter( )](http://www.runoob.com/python/python-func-filter.html) - 對陣列內個各元素進行篩選"
   ]
  },
  {
   "cell_type": "code",
   "execution_count": 56,
   "metadata": {
    "slideshow": {
     "slide_type": "-"
    }
   },
   "outputs": [
    {
     "name": "stdout",
     "output_type": "stream",
     "text": [
      "filter(is_odd, [4, 5, 6]): \t\t <filter object at 0x000001DBA62AE3C8>\n",
      "list(filter(is_odd, [4, 5, 6])): \t [5] \n",
      "\n",
      "filter(is_even, [1, 2, 3]): \t\t <filter object at 0x000001DBA62AE2B0>\n",
      "list(filter(is_even, [1, 2, 3])): \t [2]\n"
     ]
    }
   ],
   "source": [
    "def is_odd(x): return x % 2 == 1\n",
    "def is_even(x): return x % 2 != 1\n",
    "\n",
    "print(\"filter(is_odd, [4, 5, 6]): \\t\\t\", filter(is_odd, [4, 5, 6]))\n",
    "print(\"list(filter(is_odd, [4, 5, 6])): \\t\", list(filter(is_odd, [4, 5, 6])), \"\\n\")\n",
    "\n",
    "print(\"filter(is_even, [1, 2, 3]): \\t\\t\", filter(is_even, [1, 2, 3]))\n",
    "print(\"list(filter(is_even, [1, 2, 3])): \\t\", list(filter(is_even, [1, 2, 3])))"
   ]
  },
  {
   "cell_type": "code",
   "execution_count": null,
   "metadata": {
    "slideshow": {
     "slide_type": "slide"
    }
   },
   "outputs": [],
   "source": [
    "# Try"
   ]
  },
  {
   "cell_type": "markdown",
   "metadata": {
    "slideshow": {
     "slide_type": "slide"
    }
   },
   "source": [
    "### <center> ----------------------------休息 + 練習-------------------------------</center>\n",
    "\n",
    "<br/>\n",
    "* 30分鐘"
   ]
  },
  {
   "cell_type": "markdown",
   "metadata": {
    "slideshow": {
     "slide_type": "slide"
    }
   },
   "source": [
    "### <center> ----------------------------題目 1-------------------------------</center>\n",
    "\n",
    "實現這個 double_side_list 的功能<br/>\n",
    "第一個參數是中心，第二個參數是邊界，第三個參數是間隔<br/>\n",
    "輸出有回文效果的 list<br/>\n",
    "<br/>\n",
    "\\>>> double_side_list(10, 20, 2)<br/>\n",
    "[18, 16, 14, 12, 10, 12, 14, 16, 18]<br/>\n",
    "<br/>\n",
    "\\>>> double_side_list(10, 4, 2)<br/>\n",
    "[6, 8, 10, 8, 6]<br/>"
   ]
  },
  {
   "cell_type": "code",
   "execution_count": 57,
   "metadata": {
    "slideshow": {
     "slide_type": "subslide"
    }
   },
   "outputs": [
    {
     "name": "stdout",
     "output_type": "stream",
     "text": [
      "[18, 16, 14, 12, 10, 12, 14, 16, 18] \n",
      "\n",
      "[6, 8, 10, 8, 6] \n",
      "\n"
     ]
    }
   ],
   "source": [
    "# 題目1參考答案\n",
    "\n",
    "def double_side_list(edge_0, edge_1, interval):\n",
    "    \n",
    "    interval = -abs(interval) if (edge_0 > edge_1) else abs(interval)   # 如果要使用 range() 須注意起終點以及間隔的關係\n",
    "    right_side_list = list(range(edge_0, edge_1, interval))             # 先處理好右邊的 list\n",
    "    left_side_list = list(reversed(right_side_list))[:-1]               # 然後是左邊的\n",
    "    return left_side_list+ right_side_list                              # 連起來之後回傳\n",
    "\n",
    "print(double_side_list(10, 20, 2), \"\\n\")\n",
    "print(double_side_list(10, 4, 2), \"\\n\")"
   ]
  },
  {
   "cell_type": "markdown",
   "metadata": {
    "slideshow": {
     "slide_type": "slide"
    }
   },
   "source": [
    "### <center> ----------------------------題目 2-------------------------------</center>\n",
    "\n",
    "各位會打橋牌嗎~?<br/>\n",
    "目前手上有一副牌，已經分好 [黑桃、紅心、鑽石、梅花]，像這樣：<br/>\n",
    "[[\"2\", \"K\", \"6\", \"A\", \"10\", \"Q\"], [\"8\", \"K\"], [\"9\", \"Q\", \"8\", \"A\"], [\"7\"]]<br/>\n",
    "<br/>\n",
    "如果把手牌中各個花色按照大小順序整理，會有幫助於戰術規劃，像這樣：<br/>\n",
    "[[\"A\", \"K\", \"Q\", \"10\", \"6\", \"2\"], [\"K\", \"8\"], [\"A\", \"Q\", \"9\", \"8\"], [\"7\"]]<br/>\n",
    "<br/>\n",
    "\\>>> sort_cards([[\"2\", \"K\", \"6\", \"A\", \"10\", \"Q\"], [\"8\", \"K\"], [\"9\", \"Q\", \"8\", \"A\"], [\"7\"]])<br/>\n",
    "<<< [[\"A\", \"K\", \"Q\", \"10\", \"6\", \"2\"], [\"K\", \"8\"], [\"A\", \"Q\", \"9\", \"8\"], [\"7\"]]"
   ]
  },
  {
   "cell_type": "code",
   "execution_count": 1,
   "metadata": {
    "slideshow": {
     "slide_type": "subslide"
    }
   },
   "outputs": [
    {
     "name": "stdout",
     "output_type": "stream",
     "text": [
      "[['A', 'K', 'Q', '10', '6', '2'], ['K', '8'], ['A', 'Q', '9', '8'], ['7']] \n",
      "\n",
      "[['9', '6', '4', '3'], ['J', '7', '6', '5'], ['K'], ['10', '6', '4', '2']] \n",
      "\n"
     ]
    }
   ],
   "source": [
    "# 題目2參考答案\n",
    "\n",
    "def filter_sorted(cards):\n",
    "    \n",
    "    deck = [\"A\", \"K\", \"Q\", \"J\", \"10\", \"9\", \"8\", \"7\", \"6\", \"5\", \"4\", \"3\", \"2\"]       # 事先排好撲克牌順序               \n",
    "    return [x for x in deck if x in cards]                                         # 若排序好的牌在目前的牌組就留下\n",
    "                                                                                    # 否則刪掉\n",
    "\n",
    "def arrange_cards(deck):\n",
    "    return list(map(filter_sorted, deck))                                          # 套用至每個花色上\n",
    "\n",
    "new_deck_0 = [[\"2\", \"K\", \"6\", \"A\", \"10\", \"Q\"], [\"8\", \"K\"], [\"9\", \"Q\", \"8\", \"A\"], [\"7\"]]\n",
    "print(arrange_cards(new_deck_0), \"\\n\")\n",
    "\n",
    "new_deck_1 = [[\"9\", \"4\", \"6\", \"3\"], [\"J\", \"6\", \"7\", \"5\"], [\"K\"], [\"10\", \"2\", \"6\", \"4\"]]\n",
    "print(arrange_cards(new_deck_1), \"\\n\")"
   ]
  },
  {
   "cell_type": "markdown",
   "metadata": {
    "slideshow": {
     "slide_type": "slide"
    }
   },
   "source": [
    "### <center> ----------------------------題目 3 (挑戰題)-------------------------------</center>\n",
    "\n",
    "挑戰題不計分，助教也不會講解，請自行研究~<br/>\n",
    "各位會下西洋棋嗎？<br/>\n",
    "西洋棋裡面有一種棋子是 Queen，他的進攻範圍如下圖：\n",
    "\n",
    "<center><img src=\"https://qph.fs.quoracdn.net/main-qimg-04a0f0702f86ecb8931bdd75af9e9a55\"></center>\n",
    "\n",
    "也就是直的橫的斜的都能攻擊，而且距離無限!!"
   ]
  },
  {
   "cell_type": "markdown",
   "metadata": {
    "slideshow": {
     "slide_type": "subslide"
    }
   },
   "source": [
    "## <center>八皇后規則</center>\n",
    "\n",
    "* 棋盤上只有八支皇后\n",
    "* 目標條件為，八支皇后皆無法互相攻擊\n",
    "* 請寫一個判斷是否達成目標條件的函數"
   ]
  },
  {
   "cell_type": "markdown",
   "metadata": {
    "slideshow": {
     "slide_type": "subslide"
    }
   },
   "source": [
    "<center><div style=\"width: 30%;\"><img src=\"https://steemitimages.com/DQmV7sd3jnxQJbapCbb4RqKGUXYKv62G7RznuVzecsb6rPo/download%20(2).png\"></div></center>\n",
    "\n",
    "\\>>> eight_queens([[0, 0], [1, 4], [2, 7], [3, 5], [4, 2], [5, 6], [6, 1], [7, 3]])<br/>\n",
    "<<< True"
   ]
  },
  {
   "cell_type": "code",
   "execution_count": 2,
   "metadata": {
    "slideshow": {
     "slide_type": "subslide"
    }
   },
   "outputs": [
    {
     "name": "stdout",
     "output_type": "stream",
     "text": [
      "True\n"
     ]
    }
   ],
   "source": [
    "# 題目3參考答案\n",
    "\n",
    "def eight_queen(positions):\n",
    "    horizontal_scan =  len(set([x[1] for x in positions])) == 8                    # 檢查水平方向是否無法互相攻擊\n",
    "    vertical_scan = len(set([x[0] for x in positions])) == 8                       # 檢查垂直方向是否無法互相攻擊\n",
    "    slash_scan = len(set([sum(x) for x in positions])) == 8                        # 檢查左上右下斜線是否無法互相攻擊\n",
    "    backslash_scan = len(set([x[0]- x[1] for x in positions])) == 8                # 檢查右上左下斜線是否無法互相攻擊\n",
    "    return horizontal_scan and vertical_scan and slash_scan and backslash_scan     # 四種檢查有一種為 False 即回傳 False\n",
    "\n",
    "print(eight_queen([[0, 0], [1, 4], [2, 7], [3, 5], [4, 2], [5, 6], [6, 1], [7, 3]]))"
   ]
  },
  {
   "cell_type": "markdown",
   "metadata": {
    "slideshow": {
     "slide_type": "slide"
    }
   },
   "source": [
    "### <center> ----------------------------題目 4 (挑戰題)-------------------------------</center>\n",
    "\n",
    "挑戰題不計分，助教也不會講解，請自行研究~<br/>\n",
    "萊文斯坦距離是一種用於描述兩字串間相似程度的方式<br/>\n",
    "可以使用插入字元、移除字元、替換字元三種操作<br/>\n",
    "使用操作的最少步驟就是萊文斯坦距離<br/>\n",
    "常常用來檢測作業抄襲、聊天機器人開發等等<br/>\n",
    "<br/>\n",
    "參考資料：[維基百科](https://zh.wikipedia.org/zh-tw/%E8%90%8A%E6%96%87%E6%96%AF%E5%9D%A6%E8%B7%9D%E9%9B%A2)"
   ]
  },
  {
   "cell_type": "markdown",
   "metadata": {
    "slideshow": {
     "slide_type": "subslide"
    }
   },
   "source": [
    "目標：<br/>\n",
    "寫一個函數，能吃兩個字串<br/>\n",
    "並回傳兩字串間的萊文斯坦距離<br/>\n",
    "<br/>\n",
    "\\>>> levenshtein(\"kitten\", \"sitting\")<br/>\n",
    "<<< 3"
   ]
  },
  {
   "cell_type": "markdown",
   "metadata": {
    "slideshow": {
     "slide_type": "subslide"
    }
   },
   "source": [
    "#### 看看這段 Code"
   ]
  },
  {
   "cell_type": "code",
   "execution_count": 21,
   "metadata": {
    "slideshow": {
     "slide_type": "-"
    }
   },
   "outputs": [
    {
     "name": "stdout",
     "output_type": "stream",
     "text": [
      "0.13661817744211743\n"
     ]
    }
   ],
   "source": [
    "import timeit\n",
    "\n",
    "my_code = \"a = 2+ 2\"\n",
    "\n",
    "print (timeit.timeit(stmt = my_code, number = 10000000))"
   ]
  },
  {
   "cell_type": "markdown",
   "metadata": {
    "slideshow": {
     "slide_type": "fragment"
    }
   },
   "source": [
    "#### 有看到什麼神奇的東西嗎?"
   ]
  },
  {
   "cell_type": "code",
   "execution_count": 21,
   "metadata": {
    "slideshow": {
     "slide_type": "subslide"
    }
   },
   "outputs": [
    {
     "name": "stdout",
     "output_type": "stream",
     "text": [
      "0.13661817744211743\n"
     ]
    }
   ],
   "source": [
    "import timeit\n",
    "\n",
    "my_code = \"a = 2+ 2\"\n",
    "\n",
    "print (timeit.timeit(stmt = my_code, number = 10000000))"
   ]
  },
  {
   "cell_type": "markdown",
   "metadata": {
    "slideshow": {
     "slide_type": "-"
    }
   },
   "source": [
    "* [timeit](https://docs.python.org/3.6/library/timeit.html) 是包含了計時功能的模組\n",
    "* 能夠用來幫自己寫的 Code 計時，做效能評估"
   ]
  },
  {
   "cell_type": "markdown",
   "metadata": {
    "slideshow": {
     "slide_type": "subslide"
    }
   },
   "source": [
    "#### 想達成一個目標，方法可不只有一種"
   ]
  },
  {
   "cell_type": "code",
   "execution_count": 22,
   "metadata": {
    "slideshow": {
     "slide_type": "-"
    }
   },
   "outputs": [
    {
     "name": "stdout",
     "output_type": "stream",
     "text": [
      "[0, 1, 2, 3, 4, 5, 6, 7, 8, 9]\n",
      "[0, 1, 2, 3, 4, 5, 6, 7, 8, 9]\n"
     ]
    }
   ],
   "source": [
    "print([x for x in range(10)])\n",
    "print(list(range(10)))"
   ]
  },
  {
   "cell_type": "markdown",
   "metadata": {
    "slideshow": {
     "slide_type": "subslide"
    }
   },
   "source": [
    "#### 你們覺得哪個比較快呢?"
   ]
  },
  {
   "cell_type": "code",
   "execution_count": 23,
   "metadata": {
    "slideshow": {
     "slide_type": "-"
    }
   },
   "outputs": [],
   "source": [
    "import timeit\n",
    "\n",
    "my_code_0 = \"my_array_0 = [x for x in range(1000)]\"\n",
    "my_code_1 = \"my_array_1 = list(range(1000))\"\n",
    "\n",
    "# print (timeit.timeit(stmt = my_code_0, number=100000), \"\\n\")\n",
    "# print (timeit.timeit(stmt = my_code_1, number=100000), \"\\n\")"
   ]
  },
  {
   "cell_type": "markdown",
   "metadata": {
    "slideshow": {
     "slide_type": "subslide"
    }
   },
   "source": [
    "## <center>如果有其他模組載入需要計時......?</center>\n",
    "\n",
    "<br/>\n",
    "* 使用 setup 參數\n",
    "* timeit.timeit(setup, stmt, number)"
   ]
  },
  {
   "cell_type": "code",
   "execution_count": 24,
   "metadata": {
    "slideshow": {
     "slide_type": "subslide"
    }
   },
   "outputs": [
    {
     "name": "stdout",
     "output_type": "stream",
     "text": [
      "0.10938082335655963\n"
     ]
    }
   ],
   "source": [
    "import timeit\n",
    "\n",
    "# 要計時的模組載入\n",
    "my_setup = \"import random\"\n",
    "\n",
    "my_code = \"my_value = random.randint(0, 10)\"\n",
    "\n",
    "print (timeit.timeit(setup= my_setup, stmt= my_code, number= 100000))"
   ]
  },
  {
   "cell_type": "markdown",
   "metadata": {
    "slideshow": {
     "slide_type": "subslide"
    }
   },
   "source": [
    "## <center>只計時一次，結果會精準嗎?</center>\n",
    "\n",
    "<br/>\n",
    "* 使用 repeat 方法\n",
    "* timeit.repeat(setup, stmt, repeat, number)\n",
    "* 會以陣列的形式回傳"
   ]
  },
  {
   "cell_type": "markdown",
   "metadata": {
    "slideshow": {
     "slide_type": "subslide"
    }
   },
   "source": [
    "#### 有人要跳槽嗎??"
   ]
  },
  {
   "cell_type": "code",
   "execution_count": 25,
   "metadata": {},
   "outputs": [],
   "source": [
    "import timeit\n",
    "\n",
    "my_code_0 = \"my_array_0 = [x for x in range(1000)]\"\n",
    "my_code_1 = \"my_array_1 = list(range(1000))\"\n",
    "\n",
    "# print (timeit.repeat(stmt = my_code_0, repeat= 5, number = 100000), \"\\n\")\n",
    "# print (timeit.repeat(stmt = my_code_1, repeat= 5, number = 100000), \"\\n\")"
   ]
  },
  {
   "cell_type": "markdown",
   "metadata": {
    "slideshow": {
     "slide_type": "slide"
    }
   },
   "source": [
    "# <center>所以內建模組是什麼?</center>"
   ]
  },
  {
   "cell_type": "markdown",
   "metadata": {
    "slideshow": {
     "slide_type": "subslide"
    }
   },
   "source": [
    "<center><img src=\"https://imgur.com/DPxXYbh.png\"></center>\n",
    "\n",
    "* 就像你自己寫的模組\n",
    "* 不過 Python 已經寫好了\n",
    "* 可以直接用，別客氣"
   ]
  },
  {
   "cell_type": "markdown",
   "metadata": {
    "slideshow": {
     "slide_type": "subslide"
    }
   },
   "source": [
    "# <center>一些常用的內建模組</center>\n",
    "\n",
    "* timeit\n",
    "* time\n",
    "* operator\n",
    "* random"
   ]
  },
  {
   "cell_type": "markdown",
   "metadata": {
    "slideshow": {
     "slide_type": "subslide"
    }
   },
   "source": [
    "# <center>使用內建模組的好處</center>\n",
    "<br/>"
   ]
  },
  {
   "cell_type": "markdown",
   "metadata": {
    "slideshow": {
     "slide_type": "fragment"
    }
   },
   "source": [
    "* 自己寫可能會寫錯"
   ]
  },
  {
   "cell_type": "markdown",
   "metadata": {
    "slideshow": {
     "slide_type": "fragment"
    }
   },
   "source": [
    "* 提升 Coding 效率"
   ]
  },
  {
   "cell_type": "markdown",
   "metadata": {
    "slideshow": {
     "slide_type": "fragment"
    }
   },
   "source": [
    "* 提升可讀性"
   ]
  },
  {
   "cell_type": "markdown",
   "metadata": {
    "slideshow": {
     "slide_type": "slide"
    }
   },
   "source": [
    "# <center>如果你需要延遲程式執行</center>\n",
    "\n",
    "<br/>\n",
    "* 可以使用 time 模組\n",
    "* time.sleep() 參數放入想延遲的秒數 "
   ]
  },
  {
   "cell_type": "code",
   "execution_count": 27,
   "metadata": {
    "slideshow": {
     "slide_type": "subslide"
    }
   },
   "outputs": [
    {
     "name": "stdout",
     "output_type": "stream",
     "text": [
      "休息 10 分鐘~ \n",
      "\n",
      "上課啦！上課啦！上課啦！上課啦！上課啦！上課啦！\n"
     ]
    }
   ],
   "source": [
    "import time\n",
    "\n",
    "print(\"休息 10 分鐘~ \\n\")\n",
    "# time.sleep(600)\n",
    "print(\"上課啦！上課啦！上課啦！上課啦！上課啦！上課啦！\")"
   ]
  },
  {
   "cell_type": "markdown",
   "metadata": {
    "slideshow": {
     "slide_type": "slide"
    }
   },
   "source": [
    "# <center><a href=\"https://docs.python.org/3.6/library/operator.html\">operator 模組</a></center>\n",
    "\n",
    "<br/>\n",
    "* 有許多功能和 python operator 相同的方法\n",
    "* 像是加減乘除、大於小於、index 操作等等"
   ]
  },
  {
   "cell_type": "code",
   "execution_count": 28,
   "metadata": {
    "slideshow": {
     "slide_type": "subslide"
    }
   },
   "outputs": [
    {
     "name": "stdout",
     "output_type": "stream",
     "text": [
      "a+ b= \t\t 9\n",
      "op.add(a, b)= \t 9 \n",
      "\n",
      "a* b= \t\t 18\n",
      "op.mul(a, b)= \t 18 \n",
      "\n",
      "a// b= \t\t\t 0\n",
      "op.floordiv(a, b)= \t 0\n"
     ]
    }
   ],
   "source": [
    "import operator as op\n",
    "\n",
    "a, b = 3, 6\n",
    "\n",
    "print(\"a+ b= \\t\\t\", a+ b)\n",
    "print(\"op.add(a, b)= \\t\", op.add(a, b), \"\\n\")\n",
    "\n",
    "print(\"a* b= \\t\\t\", a* b)\n",
    "print(\"op.mul(a, b)= \\t\", op.mul(a, b), \"\\n\")\n",
    "\n",
    "print(\"a// b= \\t\\t\\t\", a// b)\n",
    "print(\"op.floordiv(a, b)= \\t\", op.floordiv(a, b))"
   ]
  },
  {
   "cell_type": "code",
   "execution_count": 29,
   "metadata": {
    "slideshow": {
     "slide_type": "subslide"
    }
   },
   "outputs": [
    {
     "name": "stdout",
     "output_type": "stream",
     "text": [
      "op.getitem(a, 0)= \t 0\n",
      "op.getitem(a, 5)= \t 5 \n",
      "\n",
      "op.setitem(a, 5, 2)\n",
      "op.getitem(a, 5)= \t 2 \n",
      "\n"
     ]
    }
   ],
   "source": [
    "import operator as op\n",
    "\n",
    "a = list(range(10))\n",
    "\n",
    "print(\"op.getitem(a, 0)= \\t\", op.getitem(a, 0))\n",
    "print(\"op.getitem(a, 5)= \\t\", op.getitem(a, 5), \"\\n\")\n",
    "\n",
    "op.setitem(a, 5, 2)\n",
    "print(\"op.setitem(a, 5, 2)\")\n",
    "print(\"op.getitem(a, 5)= \\t\", op.getitem(a, 5), \"\\n\")"
   ]
  },
  {
   "cell_type": "markdown",
   "metadata": {
    "slideshow": {
     "slide_type": "subslide"
    }
   },
   "source": [
    "# <center>Emm...</center>\n",
    "\n",
    "<br/>\n",
    "* operator 好像是個無聊的東西呢\n",
    "* 來討論一些比較實用的吧"
   ]
  },
  {
   "cell_type": "code",
   "execution_count": 33,
   "metadata": {
    "slideshow": {
     "slide_type": "subslide"
    }
   },
   "outputs": [
    {
     "name": "stdout",
     "output_type": "stream",
     "text": [
      "4\n"
     ]
    }
   ],
   "source": [
    "import operator as op\n",
    "\n",
    "my_datas = [3, 4, 5]\n",
    "my_getter = op.itemgetter(1)\n",
    "\n",
    "print(my_getter(my_datas))"
   ]
  },
  {
   "cell_type": "code",
   "execution_count": 34,
   "metadata": {
    "slideshow": {
     "slide_type": "subslide"
    }
   },
   "outputs": [
    {
     "name": "stdout",
     "output_type": "stream",
     "text": [
      "(4, 5, 3)\n"
     ]
    }
   ],
   "source": [
    "import operator as op\n",
    "\n",
    "my_datas = [3, 4, 5]\n",
    "my_getter = op.itemgetter(1, 2, 0)\n",
    "\n",
    "print(my_getter(my_datas))"
   ]
  },
  {
   "cell_type": "markdown",
   "metadata": {
    "slideshow": {
     "slide_type": "subslide"
    }
   },
   "source": [
    "#### 這比較難理解，先懂得如何使用即可"
   ]
  },
  {
   "cell_type": "code",
   "execution_count": 35,
   "metadata": {
    "slideshow": {
     "slide_type": "-"
    }
   },
   "outputs": [
    {
     "name": "stdout",
     "output_type": "stream",
     "text": [
      "[[1, 4, 2], [2, 5, 2], [2, 6, 1], [3, 2, 5]]\n"
     ]
    }
   ],
   "source": [
    "import operator as op\n",
    "\n",
    "def advanced_sort(datas):\n",
    "    datas = sorted(datas, key = op.itemgetter(0, 1, 2))\n",
    "    return datas\n",
    "\n",
    "datas = [[3, 2, 5], [1, 4, 2], [2, 6, 1], [2, 5, 2]]\n",
    "print(advanced_sort(datas))"
   ]
  },
  {
   "cell_type": "markdown",
   "metadata": {
    "slideshow": {
     "slide_type": "slide"
    }
   },
   "source": [
    "# <center><a href=\"https://docs.python.org/3/library/random.html\">random 模塊</a></center>\n",
    "\n",
    "<br/>\n",
    "* 充滿隨機性的模組\n",
    "* 做遊戲很常用到 !!"
   ]
  },
  {
   "cell_type": "markdown",
   "metadata": {
    "slideshow": {
     "slide_type": "subslide"
    }
   },
   "source": [
    "# <center>欸！午餐吃甚麼？</center>\n",
    "\n",
    "<br/>\n",
    "* 每天都必須面對\n",
    "* 有時間壓力\n",
    "* 人多不會想比較快\n",
    "* 堪稱世紀難題"
   ]
  },
  {
   "cell_type": "code",
   "execution_count": 36,
   "metadata": {
    "slideshow": {
     "slide_type": "subslide"
    }
   },
   "outputs": [
    {
     "name": "stdout",
     "output_type": "stream",
     "text": [
      "三商巧福\n"
     ]
    }
   ],
   "source": [
    "import random\n",
    "\n",
    "# 午餐列表\n",
    "lunch = [\"好煮義\", \"大肥鴨\", \"三商巧福\", \"鄉村\", \"一心二葉\", \"不要吃\"]\n",
    "\n",
    "# 隨機選擇午餐\n",
    "selectLunch = random.randint(0, len(lunch)-1)\n",
    "print(lunch[selectLunch])"
   ]
  },
  {
   "cell_type": "markdown",
   "metadata": {
    "slideshow": {
     "slide_type": "subslide"
    }
   },
   "source": [
    "#### 專案出包理由產生器"
   ]
  },
  {
   "cell_type": "code",
   "execution_count": 37,
   "metadata": {
    "slideshow": {
     "slide_type": "-"
    }
   },
   "outputs": [
    {
     "name": "stdout",
     "output_type": "stream",
     "text": [
      "坐我旁邊那個PM需求沒說清楚\n"
     ]
    }
   ],
   "source": [
    "from random import randint\n",
    "\n",
    "def project_excuse():\n",
    "    pool_0 = [\"負責談合約的\", \"坐我旁邊那個\", \"(閉上眼睛)\", \"到上架前一天\"]\n",
    "    pool_1 = [\"設計師\", \"工程師\", \"行銷\", \"PM\"]\n",
    "    pool_2 = [\"還不知道有這專案\", \"根本是在整我\", \"需求沒說清楚\", \"只會出一張嘴\"]\n",
    "    return pool_0[randint(0, len(pool_0)-1)]+ pool_1[randint(0, len(pool_1)-1)]+ pool_2[randint(0, len(pool_2)-1)]\n",
    "\n",
    "print(project_excuse())"
   ]
  },
  {
   "cell_type": "code",
   "execution_count": 38,
   "metadata": {
    "slideshow": {
     "slide_type": "subslide"
    }
   },
   "outputs": [
    {
     "name": "stdout",
     "output_type": "stream",
     "text": [
      "32\n"
     ]
    }
   ],
   "source": [
    "import random\n",
    "\n",
    "# 0 ~ 100 之間的偶數\n",
    "random_even = random.randrange(0, 101, 2)\n",
    "print(random_even)"
   ]
  },
  {
   "cell_type": "markdown",
   "metadata": {
    "slideshow": {
     "slide_type": "subslide"
    }
   },
   "source": [
    "# <center>如果你需要浮點數的話...</center>\n",
    "\n",
    "<br/>\n",
    "* random.random() 回傳 0 ~ 1 之間的浮點數\n",
    "* random.uniform() 回傳指定範圍內的浮點數"
   ]
  },
  {
   "cell_type": "code",
   "execution_count": 40,
   "metadata": {
    "slideshow": {
     "slide_type": "subslide"
    }
   },
   "outputs": [
    {
     "name": "stdout",
     "output_type": "stream",
     "text": [
      "random.random()= \t 0.009249367842527834\n",
      "random.uniform(0, 10)= \t 4.246927092387198\n"
     ]
    }
   ],
   "source": [
    "import random\n",
    "\n",
    "print(\"random.random()= \\t\", random.random())\n",
    "print(\"random.uniform(0, 10)= \\t\", random.uniform(0, 10))"
   ]
  },
  {
   "cell_type": "markdown",
   "metadata": {
    "slideshow": {
     "slide_type": "subslide"
    }
   },
   "source": [
    "# <center>需要選陣列中的東西也可以</center>\n",
    "\n",
    "<br/>\n",
    "* random.choice() 隨機選擇陣列中其中一個 element\n",
    "* random.sample() 隨機選擇陣列中其中多個 element"
   ]
  },
  {
   "cell_type": "code",
   "execution_count": 41,
   "metadata": {
    "slideshow": {
     "slide_type": "subslide"
    }
   },
   "outputs": [
    {
     "name": "stdout",
     "output_type": "stream",
     "text": [
      "random.choice(datas)= \t\t 123\n",
      "random.sample(datas, 2)= \t [456, 'ABC']\n"
     ]
    }
   ],
   "source": [
    "import random\n",
    "\n",
    "datas = [\"ABC\", \"DEF\", 123, 456, True, False]\n",
    "\n",
    "print(\"random.choice(datas)= \\t\\t\", random.choice(datas))\n",
    "print(\"random.sample(datas, 2)= \\t\", random.sample(datas, 2))"
   ]
  },
  {
   "cell_type": "markdown",
   "metadata": {
    "slideshow": {
     "slide_type": "subslide"
    }
   },
   "source": [
    "# <center>洗牌也是沒問題的</center>\n",
    "\n",
    "<br/>\n",
    "* random.shuffle() 隨機排序"
   ]
  },
  {
   "cell_type": "code",
   "execution_count": 42,
   "metadata": {
    "slideshow": {
     "slide_type": "subslide"
    }
   },
   "outputs": [
    {
     "name": "stdout",
     "output_type": "stream",
     "text": [
      "deck= \t ['8', '9', '7', '10', '6', '5', 'Q', '3', 'J', '2', '4', 'A', 'K']\n"
     ]
    }
   ],
   "source": [
    "import random\n",
    "\n",
    "deck = [\"A\", \"K\", \"Q\", \"J\", \"10\", \"9\", \"8\", \"7\", \"6\", \"5\", \"4\", \"3\", \"2\"]\n",
    "\n",
    "random.shuffle(deck)\n",
    "print(\"deck= \\t\", deck)"
   ]
  },
  {
   "cell_type": "markdown",
   "metadata": {
    "slideshow": {
     "slide_type": "slide"
    }
   },
   "source": [
    "### <center> ----------------------------題目 1-------------------------------</center>\n",
    "\n",
    "有一副新買的撲克牌，已將鬼牌抽掉<br/>\n",
    "剩下的排組為 deck, 4 種花色各 13 張<br/>\n",
    "現在需要將牌發成四人份，一人 13 張<br/>\n",
    "洗牌過後依照固定順序輪流發牌<br/>\n",
    "最後以二維陣列呈現四人手牌：<br/>\n",
    "[第一人手牌, 第二人手牌, 第三人手牌, 第四人手牌]<br/>"
   ]
  },
  {
   "cell_type": "markdown",
   "metadata": {
    "slideshow": {
     "slide_type": "subslide"
    }
   },
   "source": [
    "### <center>輸入資料</center>"
   ]
  },
  {
   "cell_type": "code",
   "execution_count": 43,
   "metadata": {
    "slideshow": {
     "slide_type": "-"
    }
   },
   "outputs": [
    {
     "name": "stdout",
     "output_type": "stream",
     "text": [
      "['黑桃A', '黑桃K', '黑桃Q', '黑桃J', '黑桃10', '黑桃9', '黑桃8', '黑桃7', '黑桃6', '黑桃5', '黑桃4', '黑桃3', '黑桃2', '紅心A', '紅心K', '紅心Q', '紅心J', '紅心10', '紅心9', '紅心8', '紅心7', '紅心6', '紅心5', '紅心4', '紅心3', '紅心2', '鑽石A', '鑽石K', '鑽石Q', '鑽石J', '鑽石10', '鑽石9', '鑽石8', '鑽石7', '鑽石6', '鑽石5', '鑽石4', '鑽石3', '鑽石2', '梅花A', '梅花K', '梅花Q', '梅花J', '梅花10', '梅花9', '梅花8', '梅花7', '梅花6', '梅花5', '梅花4', '梅花3', '梅花2']\n"
     ]
    }
   ],
   "source": [
    "deck = [x+y for x in [\"黑桃\", \"紅心\", \"鑽石\", \"梅花\"] \n",
    "            for y in [\"A\", \"K\", \"Q\", \"J\", \"10\", \"9\", \"8\", \"7\", \"6\", \"5\", \"4\", \"3\", \"2\"]]\n",
    "\n",
    "print(deck)"
   ]
  },
  {
   "cell_type": "markdown",
   "metadata": {
    "slideshow": {
     "slide_type": "subslide"
    }
   },
   "source": [
    "### <center>範例輸出</center>\n",
    "\n",
    "<br/>\n",
    "[['梅花6', '紅心8', '梅花9', '梅花4', '黑桃6', '鑽石3', '紅心6', '紅心9', '紅心2', '鑽石5', '梅花J', '梅花5', '梅花K'],<br/> ['紅心3', '黑桃4', '梅花A', '鑽石9', '紅心K', '鑽石10', '鑽石6', '黑桃Q', '鑽石Q', '鑽石2', '黑桃10', '梅花8', '鑽石A'],<br/>['紅心J', '黑桃9', '紅心A', '紅心Q', '黑桃5', '黑桃J', '黑桃A', '梅花2', '黑桃7', '梅花7', '梅花3', '鑽石4', '梅花Q'],<br/>['黑桃8', '黑桃3', '鑽石J', '梅花10', '紅心4', '鑽石8', '鑽石7', '黑桃2', '黑桃K', '紅心10', '紅心7', '紅心5', '鑽石K']]"
   ]
  },
  {
   "cell_type": "code",
   "execution_count": 44,
   "metadata": {
    "slideshow": {
     "slide_type": "subslide"
    }
   },
   "outputs": [
    {
     "name": "stdout",
     "output_type": "stream",
     "text": [
      "[['黑桃3', '鑽石A', '鑽石6', '紅心2', '梅花6', '鑽石2', '梅花8', '紅心K', '梅花10', '黑桃J', '紅心9', '梅花J', '鑽石8'], ['鑽石J', '紅心5', '鑽石7', '紅心A', '梅花K', '鑽石3', '紅心10', '鑽石10', '鑽石5', '鑽石K', '紅心8', '梅花Q', '黑桃10'], ['紅心3', '紅心Q', '梅花7', '紅心4', '黑桃4', '黑桃K', '梅花A', '梅花9', '鑽石9', '黑桃A', '黑桃8', '黑桃2', '梅花5'], ['黑桃5', '紅心7', '黑桃6', '黑桃7', '梅花3', '鑽石Q', '黑桃9', '黑桃Q', '鑽石4', '紅心J', '紅心6', '梅花4', '梅花2']]\n"
     ]
    }
   ],
   "source": [
    "# 題目1參考答案\n",
    "import random\n",
    "import operator as op\n",
    "\n",
    "myDeck = [x+y for x in [\"黑桃\", \"紅心\", \"鑽石\", \"梅花\"] \n",
    "              for y in [\"A\", \"K\", \"Q\", \"J\", \"10\", \"9\", \"8\", \"7\", \"6\", \"5\", \"4\", \"3\", \"2\"]]\n",
    "\n",
    "def CardMachine(deck):\n",
    "    \n",
    "    # 洗牌\n",
    "    random.shuffle(deck)\n",
    "    \n",
    "    # 發牌\n",
    "    return [list(selector(deck)) for selector in [op.itemgetter(*list(range(x, len(deck), 4))) for x in range(0, 4)]]\n",
    "\n",
    "print(CardMachine(myDeck))"
   ]
  },
  {
   "cell_type": "markdown",
   "metadata": {
    "slideshow": {
     "slide_type": "slide"
    }
   },
   "source": [
    "### <center> ----------------------------題目 2-------------------------------</center>\n",
    "\n",
    "凱薩加密法是其中一種替換加密法<br/>\n",
    "其中有個關鍵數值是偏移量，明文會依據偏移量替換為密文<br/>\n",
    "假設明文為 xvillage，偏移量為 3<br/>\n",
    "那麼明文中每個字母會依照 A→Z 的方向位移3個字母<br/>\n",
    "因此密文就是 ayloodjh<br/>\n",
    "<br/>\n",
    "參考資料：[維基百科](https://zh.wikipedia.org/wiki/%E5%87%B1%E6%92%92%E5%AF%86%E7%A2%BC)"
   ]
  },
  {
   "cell_type": "markdown",
   "metadata": {
    "slideshow": {
     "slide_type": "subslide"
    }
   },
   "source": [
    "目標：<br/>\n",
    "寫一個函數實現凱薩加密法功能<br/>\n",
    "第一個參數為明文字串，須為全小寫英文字母<br/>\n",
    "第二個參數為偏移量，為整數<br/>\n",
    "最後會回傳凱薩加密後的密文<br/>\n",
    "<br/>\n",
    "\\>>> caesarCipher(\"xvillage\", 3)<br/>\n",
    "<<< \"ayloodjh\""
   ]
  },
  {
   "cell_type": "code",
   "execution_count": 50,
   "metadata": {
    "slideshow": {
     "slide_type": "subslide"
    }
   },
   "outputs": [
    {
     "name": "stdout",
     "output_type": "stream",
     "text": [
      "ayloodjh\n"
     ]
    }
   ],
   "source": [
    "# 題目2參考解答\n",
    "\n",
    "import operator as op\n",
    "\n",
    "def caesarCipher(words, bias):\n",
    "    \n",
    "    alphabets = \"abcdefghijklmnopqrstuvwxyz\"\n",
    "    caesar = op.itemgetter(*[(alphabets.index(i)+ 3)% len(alphabets) for i in words])\n",
    "    \n",
    "    return \"\".join(list(caesar(alphabets)))\n",
    "\n",
    "print(caesarCipher(\"xvillage\", 3))"
   ]
  },
  {
   "cell_type": "markdown",
   "metadata": {
    "slideshow": {
     "slide_type": "slide"
    }
   },
   "source": [
    "### <center> ----------------------------題目 3(挑戰題)-------------------------------</center>\n",
    "挑戰題不計分，助教也不會講解，請自行研究~<br/>\n",
    "現在有個二維陣列, <br/>\n",
    "每個元素皆為 [element_0, element_1, ......, ele_n], 長度皆為 n<br/>\n",
    "element_0, ...... element_n 皆為可排序之數值, 請寫一個排序函數<br/>\n",
    "依次比較 element_0, ......, ele_n, 進行上升排序<br/>"
   ]
  },
  {
   "cell_type": "markdown",
   "metadata": {
    "slideshow": {
     "slide_type": "subslide"
    }
   },
   "source": [
    "### <center>輸入資料</center>"
   ]
  },
  {
   "cell_type": "code",
   "execution_count": 51,
   "metadata": {
    "slideshow": {
     "slide_type": "subslide"
    }
   },
   "outputs": [
    {
     "name": "stdout",
     "output_type": "stream",
     "text": [
      "[4, 2, 3, 0, 4, 3, 1, 1, 2, 0]\n",
      "[4, 5, 2, 5, 4, 1, 3, 1, 2, 5]\n",
      "[4, 4, 3, 0, 3, 4, 2, 3, 4, 4]\n",
      "[4, 1, 0, 1, 3, 0, 5, 5, 0, 1]\n",
      "[0, 0, 0, 1, 4, 5, 1, 5, 5, 1]\n",
      "[2, 3, 2, 1, 2, 5, 2, 0, 2, 1]\n",
      "[2, 2, 1, 4, 5, 4, 4, 4, 4, 2]\n",
      "[3, 3, 3, 1, 5, 2, 4, 5, 1, 1]\n",
      "[5, 4, 5, 2, 2, 5, 2, 3, 1, 2]\n",
      "[3, 5, 1, 1, 3, 1, 2, 2, 1, 2]\n"
     ]
    }
   ],
   "source": [
    "import random\n",
    "\n",
    "datas = [[random.randint(0, 5) for x in range(10)] for y in range(10)]\n",
    "for data in datas:\n",
    "    print(data)"
   ]
  },
  {
   "cell_type": "markdown",
   "metadata": {
    "slideshow": {
     "slide_type": "subslide"
    }
   },
   "source": [
    "### <center>範例輸出</center>\n",
    "\n",
    "[[0, 0, 4, 4, 0, 1, 1, 4, 3, 3],<br/>\n",
    "[1, 3, 2, 5, 3, 2, 3, 4, 1, 0],<br/>\n",
    "[3, 2, 4, 2, 3, 5, 5, 1, 2, 3],<br/>\n",
    "[3, 5, 0, 4, 5, 0, 5, 0, 0, 2],<br/>\n",
    "[4, 1, 0, 5, 0, 3, 4, 0, 0, 5],<br/>\n",
    "[4, 4, 0, 5, 0, 2, 3, 1, 3, 4],<br/>\n",
    "[5, 0, 1, 2, 4, 5, 4, 1, 1, 4],<br/>\n",
    "[5, 2, 2, 5, 4, 0, 4, 0, 3, 2],<br/>\n",
    "[5, 4, 2, 3, 0, 4, 1, 1, 2, 1],<br/>\n",
    "[5, 5, 3, 2, 3, 3, 4, 5, 0, 5]]"
   ]
  },
  {
   "cell_type": "code",
   "execution_count": 52,
   "metadata": {
    "slideshow": {
     "slide_type": "subslide"
    }
   },
   "outputs": [
    {
     "name": "stdout",
     "output_type": "stream",
     "text": [
      "[0, 0, 4, 1, 0, 3, 5, 2, 4, 3]\n",
      "[0, 4, 3, 4, 2, 1, 5, 5, 0, 4]\n",
      "[1, 1, 0, 5, 0, 0, 3, 2, 2, 1]\n",
      "[1, 3, 1, 3, 2, 5, 0, 3, 0, 5]\n",
      "[1, 3, 2, 2, 5, 1, 4, 3, 2, 3]\n",
      "[2, 1, 1, 5, 3, 5, 4, 1, 5, 0]\n",
      "[2, 1, 4, 3, 0, 2, 2, 5, 0, 2]\n",
      "[2, 3, 4, 1, 1, 3, 1, 0, 5, 4]\n",
      "[3, 4, 0, 1, 1, 2, 3, 2, 2, 3]\n",
      "[4, 4, 5, 1, 1, 5, 3, 3, 4, 5]\n"
     ]
    }
   ],
   "source": [
    "# 題目2參考答案\n",
    "import operator as op\n",
    "import random\n",
    "\n",
    "# 生成測試資料\n",
    "datas = [[random.randint(0, 5) for x in range(10)] for y in range(10)]\n",
    "\n",
    "# 排序函數\n",
    "def advanced_sort(datas):\n",
    "    return sorted(datas, key = op.itemgetter(*list(range(len(datas[0])))))\n",
    "\n",
    "for i in advanced_sort(datas):\n",
    "    print(i)"
   ]
  }
 ],
 "metadata": {
  "celltoolbar": "Slideshow",
  "kernelspec": {
   "display_name": "Python 3",
   "language": "python",
   "name": "python3"
  },
  "language_info": {
   "codemirror_mode": {
    "name": "ipython",
    "version": 3
   },
   "file_extension": ".py",
   "mimetype": "text/x-python",
   "name": "python",
   "nbconvert_exporter": "python",
   "pygments_lexer": "ipython3",
   "version": "3.6.3"
  },
  "livereveal": {
   "theme": "serif",
   "transition": "zoom"
  }
 },
 "nbformat": 4,
 "nbformat_minor": 2
}
