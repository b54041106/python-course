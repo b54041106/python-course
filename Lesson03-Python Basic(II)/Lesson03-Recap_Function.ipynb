{
 "cells": [
  {
   "cell_type": "markdown",
   "metadata": {
    "slideshow": {
     "slide_type": "slide"
    }
   },
   "source": [
    "## [X-Village] Lesson03 - Recap Function\n",
    "---\n",
    "speaker: Amber(吳思嬋）"
   ]
  },
  {
   "cell_type": "markdown",
   "metadata": {
    "slideshow": {
     "slide_type": "subslide"
    }
   },
   "source": [
    "## 練習1 - 不能使用function，(練習1~4都有寫，才能列入一次練習的課堂成績)\n",
    "* 加班費計算公式: 每小時可得200元\n",
    "* 績效獎金計算公式：\n",
    "    * 績效評分 大於 90分，可得獎金8000元\n",
    "    * 績效評分 介於 70~90分，可得獎金6000元\n",
    "    * 績效評分 小於 70分，可得獎金4000元\n",
    "\n",
    "* 月薪 ＝ 績效獎金＋加班費\n",
    "\n",
    "* **Question: 請計算員工A, B, C 的月薪。**\n",
    "    * 員工A: 績效評分：91分, 加班時數20小時\n",
    "    * 員工B: 績效評分：75分, 加班時數15小時\n",
    "    * 員工C: 績效評分：60分, 加班時數25小時"
   ]
  },
  {
   "cell_type": "markdown",
   "metadata": {
    "slideshow": {
     "slide_type": "subslide"
    }
   },
   "source": [
    "## Answer1:\n",
    "* 員工A: 績效評分：91分, 加班時數20小時 -> 月薪12000\n",
    "* 員工B: 績效評分：75分, 加班時數15小時 -> 月薪9000\n",
    "* 員工C: 績效評分：60分, 加班時數25小時 -> 月薪9000"
   ]
  },
  {
   "cell_type": "markdown",
   "metadata": {
    "slideshow": {
     "slide_type": "subslide"
    }
   },
   "source": [
    "## 練習2 - 不能使用function，(練習1~4都有寫，才能列入一次練習的課堂成績)\n",
    "* 加班費計算公式: 每小時可得200元\n",
    "* 績效獎金計算公式：\n",
    "    * 績效評分 大於 90分，可得獎金8000元\n",
    "    * 績效評分 介於 70~90分，可得獎金6000元\n",
    "    * 績效評分 小於 70分，可得獎金4000元\n",
    "\n",
    "* 月薪 ＝ 績效獎金＋加班費\n",
    "\n",
    "* **Question: 請計算員工D, E, F的月薪，須保留練習1 員工A, B, C的結果。**\n",
    "    * 員工D: 績效評分：75分, 加班時數10小時\n",
    "    * 員工E: 績效評分：80分, 加班時數12小時\n",
    "    * 員工F: 績效評分：90分, 加班時數25小時"
   ]
  },
  {
   "cell_type": "markdown",
   "metadata": {
    "slideshow": {
     "slide_type": "subslide"
    }
   },
   "source": [
    "## Answer2:\n",
    "* 員工A: 績效評分：91分, 加班時數20小時 -> 月薪12000\n",
    "* 員工B: 績效評分：75分, 加班時數15小時 -> 月薪9000\n",
    "* 員工C: 績效評分：60分, 加班時數25小時 -> 月薪9000\n",
    "* 員工D: 績效評分：75分, 加班時數10小時 -> 月薪8000\n",
    "* 員工E: 績效評分：80分, 加班時數12小時 -> 月薪8400\n",
    "* 員工F: 績效評分：90分, 加班時數25小時 -> 月薪11000"
   ]
  },
  {
   "cell_type": "markdown",
   "metadata": {
    "slideshow": {
     "slide_type": "subslide"
    }
   },
   "source": [
    "## 練習3 - 不能使用function，(練習1~4都有寫，才能列入課堂成績)\n",
    "* 加班費計算公式: 每小時可得200元\n",
    "* 績效獎金計算公式：\n",
    "    * 績效評分 大於 90分，可得獎金8000元\n",
    "    * 績效評分 介於 70~90分，可得獎金6000元\n",
    "    * 績效評分 小於 70分，可得獎金4000元\n",
    "\n",
    "* 月薪 ＝ 績效獎金＋加班費\n",
    "\n",
    "* **Question: 請計算員工G, H, I 的月薪，須保留練習1 員工A, B, C 和 練習2 員工D, E, F的結果。**\n",
    "    * 員工G: 績效評分：45分, 加班時數14小時\n",
    "    * 員工H: 績效評分：95分, 加班時數13小時\n",
    "    * 員工I: 績效評分：88分, 加班時數2小時"
   ]
  },
  {
   "cell_type": "markdown",
   "metadata": {
    "slideshow": {
     "slide_type": "subslide"
    }
   },
   "source": [
    "## Answer3:\n",
    "* 員工A: 績效評分：91分, 加班時數20小時 -> 月薪12000\n",
    "* 員工B: 績效評分：75分, 加班時數15小時 -> 月薪9000\n",
    "* 員工C: 績效評分：60分, 加班時數25小時 -> 月薪9000\n",
    "* 員工D: 績效評分：75分, 加班時數10小時 -> 月薪8000\n",
    "* 員工E: 績效評分：80分, 加班時數12小時 -> 月薪8400\n",
    "* 員工F: 績效評分：90分, 加班時數25小時 -> 月薪11000\n",
    "* 員工G: 績效評分：45分, 加班時數14小時 -> 月薪6800\n",
    "* 員工H: 績效評分：95分, 加班時數13小時 -> 月薪10600\n",
    "* 員工I: 績效評分：88分, 加班時數2小時 -> 月薪6400"
   ]
  },
  {
   "cell_type": "markdown",
   "metadata": {
    "slideshow": {
     "slide_type": "subslide"
    }
   },
   "source": [
    "![](https://i.imgur.com/cCia0rA.png)"
   ]
  },
  {
   "cell_type": "markdown",
   "metadata": {
    "slideshow": {
     "slide_type": "subslide"
    }
   },
   "source": [
    "## 練習4 - 使用function，(練習1~4都有寫，才能列入一次練習的課堂成績)\n",
    "* 加班費計算公式: 每小時可得200元\n",
    "* 績效獎金計算公式：\n",
    "    * 績效評分 大於 90分，可得獎金8000元\n",
    "    * 績效評分 介於 70~90分，可得獎金6000元\n",
    "    * 績效評分 小於 70分，可得獎金4000元\n",
    "\n",
    "* 月薪 ＝ 績效獎金＋加班費\n",
    "\n",
    "* **Question: 請計算員工A, B, C 的月薪。**\n",
    "    * 員工A: 績效評分：55分, 加班時數14小時\n",
    "    * 員工B: 績效評分：96分, 加班時數13小時\n",
    "    * 員工C: 績效評分：85分, 加班時數22小時"
   ]
  },
  {
   "cell_type": "markdown",
   "metadata": {
    "slideshow": {
     "slide_type": "subslide"
    }
   },
   "source": [
    "## Answer3:\n",
    "* 員工A: 績效評分：45分, 加班時數14小時 -> 月薪8800\n",
    "* 員工B: 績效評分：95分, 加班時數13小時 -> 月薪10600\n",
    "* 員工C: 績效評分：88分, 加班時數22小時 -> 月薪10400"
   ]
  },
  {
   "cell_type": "markdown",
   "metadata": {
    "slideshow": {
     "slide_type": "subslide"
    }
   },
   "source": [
    "## Maximizing code reuse !!!!!!!!!!!!!!!"
   ]
  },
  {
   "cell_type": "markdown",
   "metadata": {},
   "source": [
    "### 自我練習 - 請建立function，參數為n，功能為印出n層巴斯卡三角形。\n",
    "* f(9)\n",
    "* output\n",
    "<img src=\"https://i.imgur.com/pVXYFnu.png\" width=300 height=200 />"
   ]
  },
  {
   "cell_type": "markdown",
   "metadata": {
    "slideshow": {
     "slide_type": "subslide"
    }
   },
   "source": [
    "## Python Scope - Global scope(1)\n",
    "<img src=\"https://i.imgur.com/EZ9Rn3k.png\" width=450 height=300 />"
   ]
  },
  {
   "cell_type": "markdown",
   "metadata": {
    "slideshow": {
     "slide_type": "subslide"
    }
   },
   "source": [
    "## Python Scope - Global scope(2)\n",
    "<img src=\"https://i.imgur.com/XTuA6Bs.png\" width=600 height=400 />"
   ]
  },
  {
   "cell_type": "markdown",
   "metadata": {
    "slideshow": {
     "slide_type": "subslide"
    }
   },
   "source": [
    "## Python Scope - Global scope(3)\n",
    "<img src=\"https://i.imgur.com/OtCgv9o.png\" width=600 height=400 />"
   ]
  },
  {
   "cell_type": "markdown",
   "metadata": {
    "slideshow": {
     "slide_type": "subslide"
    }
   },
   "source": [
    "## 練習5 - 請圈出下列程式碼的global scope (練習5~7都有寫，才能列入一次練習的課堂成績)"
   ]
  },
  {
   "cell_type": "code",
   "execution_count": 24,
   "metadata": {
    "slideshow": {
     "slide_type": "fragment"
    }
   },
   "outputs": [
    {
     "name": "stdout",
     "output_type": "stream",
     "text": [
      "result1:  正常\n",
      "result2:  過重\n"
     ]
    }
   ],
   "source": [
    "height = 1.63 #公尺\n",
    "weight = 50 #公斤\n",
    "calculate = weight / (height*height)\n",
    "if calculate < 18.5:\n",
    "    result = '過輕'\n",
    "elif 18.5 < calculate and calculate < 24:\n",
    "    result = '正常'\n",
    "else:\n",
    "    result='過重'\n",
    "print(\"result1: \", result)\n",
    "\n",
    "height = 1.80 #公尺\n",
    "weight = 88 #公斤\n",
    "calculate = weight / (height*height)\n",
    "if calculate < 18.5:\n",
    "    result = '過輕'\n",
    "elif 18.5 < calculate and calculate < 24:\n",
    "    result = '正常'\n",
    "else:\n",
    "    result='過重'\n",
    "print(\"result2: \", result)"
   ]
  },
  {
   "cell_type": "markdown",
   "metadata": {
    "slideshow": {
     "slide_type": "subslide"
    }
   },
   "source": [
    "## Python Scope - Local scope(1)\n",
    "<img src=\"https://i.imgur.com/Cj34HqB.png\" width=800 height=600 />"
   ]
  },
  {
   "cell_type": "markdown",
   "metadata": {
    "slideshow": {
     "slide_type": "subslide"
    }
   },
   "source": [
    "## Python Scope - Local scope(2)\n",
    "<img src=\"https://i.imgur.com/Eeo36I5.png\" width=800 height=600 />"
   ]
  },
  {
   "cell_type": "markdown",
   "metadata": {
    "slideshow": {
     "slide_type": "subslide"
    }
   },
   "source": [
    "## Python Scope - Local scope(3)\n",
    "<img src=\"https://i.imgur.com/aUhTFf3.png\" width=600 height=400 />"
   ]
  },
  {
   "cell_type": "markdown",
   "metadata": {
    "slideshow": {
     "slide_type": "subslide"
    }
   },
   "source": [
    "## 練習6 - 請圈出下列程式碼的 local scope (練習5~7都有寫，才能列入一次練習的課堂成績)"
   ]
  },
  {
   "cell_type": "code",
   "execution_count": 28,
   "metadata": {
    "slideshow": {
     "slide_type": "fragment"
    }
   },
   "outputs": [
    {
     "name": "stdout",
     "output_type": "stream",
     "text": [
      "result1:  過輕\n",
      "Hello World\n"
     ]
    }
   ],
   "source": [
    "# 公式：體重(公斤) / 身高^2(公尺^2)\n",
    "# 過輕：BMI ＜ 18.5; 正常：18.5≦ BMI＜24; 過重：24≦BMI\n",
    "def bmi(height, weight):\n",
    "    calculate = weight / (height*height)\n",
    "    if calculate < 18.5:\n",
    "        result = '過輕'\n",
    "        return result\n",
    "    elif 18.5 < calculate and calculate < 24:\n",
    "        result = '正常'\n",
    "        return result\n",
    "    else:\n",
    "        result='過重'\n",
    "        return result\n",
    "    \n",
    "r = bmi(1.63, 48)\n",
    "print(\"result1: \", r) # 正常\n",
    "\n",
    "def f(x, y):\n",
    "    if x == 'Hello':\n",
    "        print('Hello World')\n",
    "\n",
    "f('Hello', 2)\n",
    "\n",
    "def g():\n",
    "    j = 0\n",
    "    for i in range(10):\n",
    "        j = j + 1\n",
    "    return j"
   ]
  },
  {
   "cell_type": "markdown",
   "metadata": {
    "slideshow": {
     "slide_type": "subslide"
    }
   },
   "source": [
    "## Python Scope - Global and Local\n",
    "<img src=\"https://i.imgur.com/zb8pJIX.png\" width=600 height=400 />"
   ]
  },
  {
   "cell_type": "markdown",
   "metadata": {
    "slideshow": {
     "slide_type": "subslide"
    }
   },
   "source": [
    "## 練習7 - 請圈出下列程式碼的 global 和 local scope (練習5~7都有寫，才能列入一次練習的課堂成績)"
   ]
  },
  {
   "cell_type": "code",
   "execution_count": 31,
   "metadata": {
    "slideshow": {
     "slide_type": "fragment"
    }
   },
   "outputs": [
    {
     "name": "stdout",
     "output_type": "stream",
     "text": [
      "(1, 2, 3, 4, 5, 6, 8, 'hello')\n",
      "('how', 'do', 'you', 'do')\n",
      "1 2\n",
      "(3, 4, 5, 6, 8, 'hello')\n"
     ]
    }
   ],
   "source": [
    "# varargs collecting, one * for tuple\n",
    "def f1(*args):\n",
    "    print(args)\n",
    "    \n",
    "f1(1, 2, 3, 4, 5, 6, 8, 'hello')\n",
    "f1('how', 'do', 'you', 'do')\n",
    "\n",
    "def f2(x, y, *args):\n",
    "    print(x,y)\n",
    "    print(args)\n",
    "    \n",
    "f2(1,2,3,4,5,6,8,'hello')"
   ]
  },
  {
   "cell_type": "markdown",
   "metadata": {},
   "source": [
    "## Python Scope Rule - LEGB rule (1)\n",
    "---\n",
    "<img src=\"https://i.imgur.com/5am8Cm4.png\" width=450 height=180 />"
   ]
  },
  {
   "cell_type": "code",
   "execution_count": 35,
   "metadata": {
    "slideshow": {
     "slide_type": "subslide"
    }
   },
   "outputs": [
    {
     "name": "stdout",
     "output_type": "stream",
     "text": [
      "88 4503725440\n",
      "99 4503725792\n"
     ]
    }
   ],
   "source": [
    "x = 99\n",
    "def f():\n",
    "    x = 88\n",
    "    print(x, id(x))\n",
    "\n",
    "f()\n",
    "print(x, id(x))"
   ]
  },
  {
   "cell_type": "markdown",
   "metadata": {
    "slideshow": {
     "slide_type": "subslide"
    }
   },
   "source": [
    "## Python Scope Rule - LEGB rule (2)\n",
    "---\n",
    "<img src=\"https://i.imgur.com/t4bj22u.png\" width=600 height=400 />"
   ]
  },
  {
   "cell_type": "code",
   "execution_count": 37,
   "metadata": {
    "slideshow": {
     "slide_type": "subslide"
    }
   },
   "outputs": [
    {
     "name": "stdout",
     "output_type": "stream",
     "text": [
      "99\n"
     ]
    }
   ],
   "source": [
    "x = 99\n",
    "\n",
    "def f():\n",
    "    print(x)\n",
    "\n",
    "f()"
   ]
  },
  {
   "cell_type": "markdown",
   "metadata": {
    "slideshow": {
     "slide_type": "subslide"
    }
   },
   "source": [
    "## Python Scope Rule - LEGB rule (2)\n",
    "---\n",
    "<img src=\"https://i.imgur.com/tmNvTuo.png\" width=600 height=400 />"
   ]
  },
  {
   "cell_type": "markdown",
   "metadata": {
    "slideshow": {
     "slide_type": "subslide"
    }
   },
   "source": [
    "## 練習8 - 請圈出下列程式碼的 global 和 local scope，根據LEGB原則向助教解釋每一行印出值的理由， (練習8, 9都有寫，才能列入一次練習的課堂成績)"
   ]
  },
  {
   "cell_type": "code",
   "execution_count": 44,
   "metadata": {
    "slideshow": {
     "slide_type": "fragment"
    }
   },
   "outputs": [
    {
     "name": "stdout",
     "output_type": "stream",
     "text": [
      "x1: 23\n",
      "x2: 23\n",
      "y1: 22\n",
      "w1: 12\n",
      "y2: 23\n"
     ]
    }
   ],
   "source": [
    "x = 23\n",
    "\n",
    "def f():\n",
    "    print('x1:', x)\n",
    "\n",
    "y = 23\n",
    "def g(y, w):\n",
    "    y = 22\n",
    "    print('y1:', y)\n",
    "    print('w1:', w)\n",
    "    \n",
    "f()\n",
    "print('x2:', x)\n",
    "g(10, 12)\n",
    "print('y2:', y)"
   ]
  },
  {
   "cell_type": "markdown",
   "metadata": {
    "slideshow": {
     "slide_type": "subslide"
    }
   },
   "source": [
    "## 練習9 - 請圈出下列程式碼的 global 和 local scope，並向助教說明哪些 name 屬於 global scope 或 local scope， (練習8, 9都有寫，才能列入一次練習的課堂成績)"
   ]
  },
  {
   "cell_type": "code",
   "execution_count": 49,
   "metadata": {
    "slideshow": {
     "slide_type": "fragment"
    }
   },
   "outputs": [],
   "source": [
    "x = 99\n",
    "m = 11\n",
    "\n",
    "def f(y, w): \n",
    "    z = x + y\n",
    "    w = w + 1\n",
    "    m = 12\n",
    "    return z\n",
    "\n",
    "value = f(1, 2)"
   ]
  }
 ],
 "metadata": {
  "celltoolbar": "Slideshow",
  "kernelspec": {
   "display_name": "Python 3",
   "language": "python",
   "name": "python3"
  },
  "language_info": {
   "codemirror_mode": {
    "name": "ipython",
    "version": 3
   },
   "file_extension": ".py",
   "mimetype": "text/x-python",
   "name": "python",
   "nbconvert_exporter": "python",
   "pygments_lexer": "ipython3",
   "version": "3.6.5"
  }
 },
 "nbformat": 4,
 "nbformat_minor": 2
}
