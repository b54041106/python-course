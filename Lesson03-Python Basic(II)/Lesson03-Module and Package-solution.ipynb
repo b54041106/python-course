{
 "cells": [
  {
   "cell_type": "markdown",
   "metadata": {
    "slideshow": {
     "slide_type": "slide"
    }
   },
   "source": [
    "# 課程練習：動手寫 module\n",
    "### 列入計分\n",
    "寫一個 zoo module，完成以下功能：\n",
    "```python\n",
    "import zoo\n",
    "zoo.duck()\n",
    "# 印出 quak!\n",
    "zoo.cat()\n",
    "# 印出 meow~\n",
    "zoo.tiger()\n",
    "# 印出 woof\n",
    "```"
   ]
  },
  {
   "cell_type": "markdown",
   "metadata": {},
   "source": [
    "# 參考解答"
   ]
  },
  {
   "cell_type": "markdown",
   "metadata": {},
   "source": [
    "```python\n",
    "# zoo.py\n",
    "def duck():\n",
    "    print('quak!')\n",
    "def cat():\n",
    "    print('meow~')\n",
    "def tiger():\n",
    "    print('woof')\n",
    "-------------------\n",
    "\n",
    "# main.py\n",
    "import zoo\n",
    "zoo.duck()\n",
    "zoo.cat()\n",
    "zoo.tiger()\n",
    "```"
   ]
  },
  {
   "cell_type": "markdown",
   "metadata": {},
   "source": [
    "# 課程練習：datetime 套件\n",
    "### 列入計分\n",
    "1. 以上頁之方式，搜尋 datetime 的套件相關資訊\n",
    "2. 找到下列 datetime 套件的模組\n",
    "    1. datetime.date\n",
    "    2. datetime.timedelta\n",
    "    3. datetime.date.isoformat，\n",
    "3. 完成一個 function print_next_day，可以印出明天的日期字串（若是明天執行，則會印出後天的字串）\n",
    "    \n",
    "```python\n",
    "print_next_day()\n",
    "# 印出字串 2018-07-13\n",
    "# 格式需一模一樣\n",
    "```"
   ]
  },
  {
   "cell_type": "markdown",
   "metadata": {},
   "source": [
    "# 參考解答"
   ]
  },
  {
   "cell_type": "code",
   "execution_count": 13,
   "metadata": {},
   "outputs": [
    {
     "name": "stdout",
     "output_type": "stream",
     "text": [
      "2018-07-20\n"
     ]
    }
   ],
   "source": [
    "from datetime import date, timedelta\n",
    "\n",
    "def print_next_day():\n",
    "    next_day = date.today() + timedelta(days=1)\n",
    "    next_day_str = next_day.isoformat()\n",
    "    print(next_day_str)\n",
    "\n",
    "print_next_day()"
   ]
  }
 ],
 "metadata": {
  "kernelspec": {
   "display_name": "Python 3",
   "language": "python",
   "name": "python3"
  },
  "language_info": {
   "codemirror_mode": {
    "name": "ipython",
    "version": 3
   },
   "file_extension": ".py",
   "mimetype": "text/x-python",
   "name": "python",
   "nbconvert_exporter": "python",
   "pygments_lexer": "ipython3",
   "version": "3.5.2"
  }
 },
 "nbformat": 4,
 "nbformat_minor": 2
}
