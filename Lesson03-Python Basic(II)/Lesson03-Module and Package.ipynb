{
 "cells": [
  {
   "cell_type": "markdown",
   "metadata": {
    "slideshow": {
     "slide_type": "slide"
    }
   },
   "source": [
    "# [X-Village] Lesson 3 - Module and Package\n",
    "by 李至青"
   ]
  },
  {
   "cell_type": "markdown",
   "metadata": {
    "slideshow": {
     "slide_type": "slide"
    }
   },
   "source": [
    "# 令人怦然心動的模組魔法\n",
    "借用別人的功能、收納你的程式碼\n",
    "![](./folder.jpg)"
   ]
  },
  {
   "cell_type": "markdown",
   "metadata": {
    "slideshow": {
     "slide_type": "slide"
    }
   },
   "source": [
    "# 模組\n",
    "1. Python 中內建的模組\n",
    "2. 課程練習：random.choice() #不計分\n",
    "3. 如何使用模組\n",
    "4. 課程練習：動手寫 module #計分\n",
    "5. 生活中的模組 \n",
    "6. 程式中的模組"
   ]
  },
  {
   "cell_type": "markdown",
   "metadata": {
    "slideshow": {
     "slide_type": "slide"
    }
   },
   "source": [
    "# Python 中內建的模組"
   ]
  },
  {
   "cell_type": "code",
   "execution_count": 20,
   "metadata": {
    "slideshow": {
     "slide_type": "fragment"
    }
   },
   "outputs": [
    {
     "data": {
      "text/plain": [
       "0.4668728680655134"
      ]
     },
     "execution_count": 20,
     "metadata": {},
     "output_type": "execute_result"
    }
   ],
   "source": [
    "import random\n",
    "random.random()"
   ]
  },
  {
   "cell_type": "code",
   "execution_count": 21,
   "metadata": {
    "slideshow": {
     "slide_type": "fragment"
    }
   },
   "outputs": [
    {
     "data": {
      "text/plain": [
       "13"
      ]
     },
     "execution_count": 21,
     "metadata": {},
     "output_type": "execute_result"
    }
   ],
   "source": [
    "random.randint(1,100)"
   ]
  },
  {
   "cell_type": "markdown",
   "metadata": {
    "slideshow": {
     "slide_type": "subslide"
    }
   },
   "source": [
    "# 如何看文件 - 找開根號的功能\n",
    "\n",
    "1. Google ```python random```\n",
    "![](./google.png)\n",
    "2. 如果有官方文件，可以看官方文件比較清楚\n",
    "![](./search_result.png)\n",
    "3. 找到你要的條目"
   ]
  },
  {
   "cell_type": "markdown",
   "metadata": {
    "slideshow": {
     "slide_type": "subslide"
    }
   },
   "source": [
    "# 注意版本！\n",
    "1. 在終端機輸入 python 「大寫V」: ```python -V / python3 -V```\n",
    "2. 在這個課程中，我們使用 python3 教學\n",
    "3. 你看的文件，要跟你的版本一樣"
   ]
  },
  {
   "cell_type": "markdown",
   "metadata": {
    "slideshow": {
     "slide_type": "subslide"
    }
   },
   "source": [
    "## 找到函數文件\n",
    "1. 看功能說明\n",
    "2. 看參數\n",
    "3. 看返回值\n",
    "![](./randint.png)"
   ]
  },
  {
   "cell_type": "code",
   "execution_count": 22,
   "metadata": {
    "slideshow": {
     "slide_type": "subslide"
    }
   },
   "outputs": [
    {
     "data": {
      "text/plain": [
       "2.0"
      ]
     },
     "execution_count": 22,
     "metadata": {},
     "output_type": "execute_result"
    }
   ],
   "source": [
    "import math\n",
    "math.sqrt(4)"
   ]
  },
  {
   "cell_type": "markdown",
   "metadata": {
    "slideshow": {
     "slide_type": "slide"
    }
   },
   "source": [
    "# 課堂練習 - random.choice()\n",
    "### 不列入計分\n",
    "1. 參考 https://docs.python.org/3/library/random.html#module-random ， 或者利用 Google 搜尋\n",
    "2. 找到 random.choice()，了解它的用途"
   ]
  },
  {
   "cell_type": "markdown",
   "metadata": {
    "slideshow": {
     "slide_type": "subslide"
    }
   },
   "source": [
    "# 如何使用模組\n",
    "\n",
    "每個 ```*.py``` 檔案，都是模組。\n",
    "\n",
    "每個模組，可以包含一個以上的 function，class 和 variable。 \n"
   ]
  },
  {
   "cell_type": "markdown",
   "metadata": {
    "slideshow": {
     "slide_type": "subslide"
    }
   },
   "source": [
    "```python\n",
    "# words.py\n",
    "GREETING = '大家早安!'\n",
    "THANKS = '謝謝大家'\n",
    "MYNAME = '李至青'\n",
    "MYPRO = '開發網頁'\n",
    "-----------------------\n",
    "\n",
    "# main.py\n",
    "import words# 不用加副檔名\n",
    "\n",
    "print(words.MYNAME)\n",
    "print(words.THANKS)\n",
    "print(words.MYPRO)\n",
    "print(words.GREETING)\n",
    "```"
   ]
  },
  {
   "cell_type": "code",
   "execution_count": 68,
   "metadata": {
    "slideshow": {
     "slide_type": "subslide"
    }
   },
   "outputs": [
    {
     "data": {
      "text/plain": [
       "'大家早安!'"
      ]
     },
     "execution_count": 68,
     "metadata": {},
     "output_type": "execute_result"
    }
   ],
   "source": [
    "from words import GREETING\n",
    "\n",
    "GREETING"
   ]
  },
  {
   "cell_type": "code",
   "execution_count": 69,
   "metadata": {
    "scrolled": false,
    "slideshow": {
     "slide_type": "fragment"
    }
   },
   "outputs": [
    {
     "data": {
      "text/plain": [
       "'大家早安!'"
      ]
     },
     "execution_count": 69,
     "metadata": {},
     "output_type": "execute_result"
    }
   ],
   "source": [
    "import words as w # 使用縮寫時機為：1. 讓語法更簡便 2. 避免命名衝突\n",
    "\n",
    "w.GREETING"
   ]
  },
  {
   "cell_type": "markdown",
   "metadata": {
    "slideshow": {
     "slide_type": "subslide"
    }
   },
   "source": [
    "# 藉由模組打造你的程式碼城堡"
   ]
  },
  {
   "cell_type": "code",
   "execution_count": 17,
   "metadata": {
    "slideshow": {
     "slide_type": "fragment"
    }
   },
   "outputs": [],
   "source": [
    "# opening.py\n",
    "import words\n",
    "\n",
    "\n",
    "def say():\n",
    "    print(words.GREETING + '我是' + words.MYNAME + '，喜歡' + words.MYPRO)"
   ]
  },
  {
   "cell_type": "code",
   "execution_count": 18,
   "metadata": {
    "slideshow": {
     "slide_type": "fragment"
    }
   },
   "outputs": [],
   "source": [
    "# ending.py\n",
    "import words\n",
    "\n",
    "\n",
    "def say():\n",
    "    print(words.THANKS + ' by ' + words.MYNAME)"
   ]
  },
  {
   "cell_type": "code",
   "execution_count": 19,
   "metadata": {
    "slideshow": {
     "slide_type": "subslide"
    }
   },
   "outputs": [
    {
     "name": "stdout",
     "output_type": "stream",
     "text": [
      "大家早安!我是李至青，喜歡開發網頁\n",
      "謝謝大家 by 李至青\n"
     ]
    }
   ],
   "source": [
    "# main.py\n",
    "import opening\n",
    "import ending\n",
    "\n",
    "opening.say()\n",
    "ending.say()"
   ]
  },
  {
   "cell_type": "markdown",
   "metadata": {
    "slideshow": {
     "slide_type": "subslide"
    }
   },
   "source": [
    "```TEXT\n",
    ".\n",
    "├── ending.py # 定義結束函式\n",
    "├── words.py # 定義用詞字串\n",
    "├── opending.py # 定義開場函式\n",
    "└── main.py # 程式進入點\n",
    "```\n",
    "## 如果我改了 words 中定義的字串，會發生什麼事？"
   ]
  },
  {
   "cell_type": "markdown",
   "metadata": {
    "slideshow": {
     "slide_type": "slide"
    }
   },
   "source": [
    "# 課程練習：動手寫 module\n",
    "### 列入計分\n",
    "寫一個 zoo module，完成以下功能：\n",
    "```python\n",
    "import zoo\n",
    "zoo.duck()\n",
    "# 印出 quak!\n",
    "zoo.cat()\n",
    "# 印出 meow~\n",
    "zoo.tiger()\n",
    "# 印出 woof\n",
    "```"
   ]
  },
  {
   "cell_type": "markdown",
   "metadata": {
    "slideshow": {
     "slide_type": "slide"
    }
   },
   "source": [
    "# 模組的好壞，在於切分的方式\n",
    "## 看看生活中的模組"
   ]
  },
  {
   "cell_type": "markdown",
   "metadata": {
    "slideshow": {
     "slide_type": "subslide"
    }
   },
   "source": [
    "# 生活中的模組\n",
    "## 為什麼豬肉要這麼切？\n",
    "![](./pig.jpg)"
   ]
  },
  {
   "cell_type": "markdown",
   "metadata": {
    "slideshow": {
     "slide_type": "subslide"
    }
   },
   "source": [
    "# 生活中的模組\n",
    "## 如果沒有隔間，那會發生什麼事情？\n",
    "![](./interior.jpg)"
   ]
  },
  {
   "cell_type": "markdown",
   "metadata": {
    "slideshow": {
     "slide_type": "subslide"
    }
   },
   "source": [
    "# 生活中的模組\n",
    "## 電池模組化的好處？如何跟其他元件連結？\n",
    "![](./iphone.jpg)"
   ]
  },
  {
   "cell_type": "markdown",
   "metadata": {
    "slideshow": {
     "slide_type": "subslide"
    }
   },
   "source": [
    "# 生活中的模組\n",
    "\n",
    "1. 重複使用，節省資源：廚房跟客房的廁所，設計可以是一樣的。\n",
    "2. 功能專一，容易除錯：你知道要去廚房，才能找到流理臺。電池壞掉的時候，不用去修理螢幕\n",
    "3. 使用接口，隱藏細節：使用電池，只需要裝對接口，不用了解內部的運作。去買得來速，只要到櫃台點餐，不用知道餐點怎麼做。\n",
    "4. 易於使用，節省資源：當你想吃豬腳，你不用買一隻豬。"
   ]
  },
  {
   "cell_type": "markdown",
   "metadata": {
    "slideshow": {
     "slide_type": "slide"
    }
   },
   "source": [
    "# 那在程式中的模組呢？\n",
    "## 可以讓你...\n",
    "\n",
    "## 1. 讓你站在巨人的肩膀上\n",
    "## 2. 整理你的程式碼"
   ]
  },
  {
   "cell_type": "markdown",
   "metadata": {
    "slideshow": {
     "slide_type": "subslide"
    }
   },
   "source": [
    "# 一個好的模組能夠...\n",
    "## 重複使用，節省資源：模組是組成軟體的元件、或者是包含一個以上流程的部分程式。\n",
    "\n",
    "## A module is a software component or part of a program that contains one or more routines.\n",
    "\n",
    "\n",
    "\n",
    "\n",
    "Techopedia(n.d.)"
   ]
  },
  {
   "cell_type": "markdown",
   "metadata": {
    "slideshow": {
     "slide_type": "subslide"
    }
   },
   "source": [
    "## 廚房跟客房的廁所，設計可以是一樣的。\n",
    "## 不要重造輪子。"
   ]
  },
  {
   "cell_type": "markdown",
   "metadata": {
    "slideshow": {
     "slide_type": "subslide"
    }
   },
   "source": [
    "# 一個好的模組能夠...\n",
    "## 功能專一，容易除錯：模組可以讓程式設計人員的工作更容易，因為可以專注在整個軟體中的特定的功能。\n",
    "\n",
    "## Modules make a programmer's job easy by allowing the programmer to focus on only one area of the functionality of the software application. \n",
    "\n",
    "\n",
    "\n",
    "\n",
    "Techopedia(n.d.)"
   ]
  },
  {
   "cell_type": "markdown",
   "metadata": {
    "slideshow": {
     "slide_type": "subslide"
    }
   },
   "source": [
    "## 你知道要去廚房，才能找到流理臺。 \n",
    "## 手機螢幕壞了，只要換掉螢幕就好了。\n",
    "# 在所有程式碼中除錯 vs. 在其中一個元件中除錯"
   ]
  },
  {
   "cell_type": "markdown",
   "metadata": {
    "slideshow": {
     "slide_type": "subslide"
    }
   },
   "source": [
    "# 一個好的模組能夠...\n",
    "## 使用接口，隱藏細節：模組透過介面整合進軟體。\n",
    "\n",
    "## Modules are typically incorporated into the program (software) through interfaces.\n",
    "\n",
    "Techopedia(n.d.)"
   ]
  },
  {
   "cell_type": "markdown",
   "metadata": {
    "slideshow": {
     "slide_type": "subslide"
    }
   },
   "source": [
    "## 電池透過接口連接手機，手機不必管電池內部怎麼運作。\n",
    "## 去買得來速，只要到櫃台點餐，不用知道餐點怎麼做。\n",
    "# 使用一個模組時，只需要知道使用接口就好了"
   ]
  },
  {
   "cell_type": "markdown",
   "metadata": {
    "slideshow": {
     "slide_type": "subslide"
    }
   },
   "source": [
    "# 製作模組的關鍵在於「切分」的方式，想想豬肉的例子\n",
    "不好的模組化是：\n",
    "1. 你只需要松板肉，卻要買下一隻豬\n",
    "2. 手機只壞了電池，卻要連螢幕一起換\n",
    "3. 去到了客廳，卻發現有個馬桶"
   ]
  },
  {
   "cell_type": "markdown",
   "metadata": {
    "slideshow": {
     "slide_type": "subslide"
    }
   },
   "source": [
    "# 好的模組是\n",
    "## 高內聚、低耦合\n",
    "一樣的東西放在一起，不同模組降低彼此的相依。\n",
    "1. 容易擴充\n",
    "2. 方便維護\n",
    "3. 重用程式碼\n"
   ]
  },
  {
   "cell_type": "markdown",
   "metadata": {
    "slideshow": {
     "slide_type": "subslide"
    }
   },
   "source": [
    "# 容易擴充\n",
    "1. 漢堡 vs. 紅豆麵包\n",
    "2. 你不用把程式剖開，就可以加上新的功能，也不影響到舊的功能\n",
    "3. 設計時，考慮擴充的可能性\n",
    "    1. 想想你的九九乘法表，可以輕易改成九百九十九乘法表嗎？\n",
    "    2. 想想你的九九乘法表，可以輕易把改成九九加減乘除法表嗎？"
   ]
  },
  {
   "cell_type": "markdown",
   "metadata": {
    "slideshow": {
     "slide_type": "subslide"
    }
   },
   "source": [
    "# 方便維護\n",
    "1. 便當 vs. 丼飯\n",
    "2. 容易追蹤錯誤\n",
    "    1. 當九九乘法表印錯計算結果，你能初步知道錯誤會出現在哪個模組/函式/區塊嗎？"
   ]
  },
  {
   "cell_type": "markdown",
   "metadata": {
    "slideshow": {
     "slide_type": "subslide"
    }
   },
   "source": [
    "# 重用程式碼\n",
    "1. 大樓的多數樓層可以用同樣的設計\n",
    "2. 減少程式碼規模，增進可讀性\n",
    "    1. 1 \\* 1 的計算，跟 1 \\* 2 的計算都是 n \\* n 的計算"
   ]
  },
  {
   "cell_type": "markdown",
   "metadata": {
    "slideshow": {
     "slide_type": "subslide"
    }
   },
   "source": [
    "# 思考五分鐘\n",
    "## 以這些準則，如何寫一個更模組化的九九乘法表？\n",
    "1. 容易擴充\n",
    "2. 方便維護\n",
    "3. 重用程式碼\n"
   ]
  },
  {
   "cell_type": "markdown",
   "metadata": {
    "slideshow": {
     "slide_type": "subslide"
    }
   },
   "source": [
    "## 這是一個可以參考的例子，不是最好的做法"
   ]
  },
  {
   "cell_type": "markdown",
   "metadata": {
    "slideshow": {
     "slide_type": "subslide"
    }
   },
   "source": [
    "```python\n",
    "# config.py\n",
    "range1 = [1, 9]\n",
    "range2 = [1, 9]\n",
    "\n",
    "--------------------------------------\n",
    "# calc.py\n",
    "def calc(a,b):\n",
    "    return [\n",
    "        {'sign': '*', 'result':a*b},\n",
    "    ];\n",
    "\n",
    "--------------------------------------\n",
    "# main.py\n",
    "import config\n",
    "import calc\n",
    "\n",
    "\n",
    "for i in range(config.range1[0], config.range1[1] + 1):\n",
    "    for j in range(config.range2[0], config.range2[1] + 1):\n",
    "        for k in calc.calc(i, j):\n",
    "            print(str(i) + str(k['sign']) + str(j) + '=' + str(k['result']), end=\" \")\n",
    "    print()\n",
    "```"
   ]
  },
  {
   "cell_type": "markdown",
   "metadata": {
    "slideshow": {
     "slide_type": "subslide"
    }
   },
   "source": [
    "# 我應該總是模組化我的程式碼嗎？\n",
    "1. 如果你想要再次使用這段程式碼\n",
    "2. 如果你有時間"
   ]
  },
  {
   "cell_type": "markdown",
   "metadata": {
    "slideshow": {
     "slide_type": "subslide"
    }
   },
   "source": [
    "# 模組天堂與無模組的地獄\n",
    "<div style=\"display:flex;\"><img style=\"width:50%;padding:24px;\" src=\"./folder.jpg\"><img  style=\"width:50%;padding:24px;\" src=\"./mess.jpg\"></div>"
   ]
  },
  {
   "cell_type": "markdown",
   "metadata": {
    "slideshow": {
     "slide_type": "slide"
    }
   },
   "source": [
    "# 套件\n",
    "1. 什麼是套件\n",
    "2. 如何使用套件\n",
    "3. 如何找模組/套件\n",
    "5. 課程練習：datetime 套件 #計分"
   ]
  },
  {
   "cell_type": "markdown",
   "metadata": {
    "slideshow": {
     "slide_type": "subslide"
    }
   },
   "source": [
    "# 什麼是套件\n",
    "## 套件之於模組\n",
    "## 就像目錄之於檔案\n",
    "## 就像工具箱之於工具"
   ]
  },
  {
   "cell_type": "markdown",
   "metadata": {
    "slideshow": {
     "slide_type": "subslide"
    }
   },
   "source": [
    "# 如何定義套件\n",
    "## 把模組通通收進資料夾吧！\n",
    "\n",
    "一定要加上 \\__init\\__.py ，才是定義一個 package"
   ]
  },
  {
   "cell_type": "markdown",
   "metadata": {
    "slideshow": {
     "slide_type": "fragment"
    }
   },
   "source": [
    "```Text\n",
    "say/\n",
    "├── __init__.py\n",
    "├── hello.py\n",
    "├── sorry.py\n",
    "└── bye.py\n",
    "```"
   ]
  },
  {
   "cell_type": "markdown",
   "metadata": {
    "slideshow": {
     "slide_type": "subslide"
    }
   },
   "source": [
    "# __init__.py\n",
    "1. init 左右為「兩個」底線\n",
    "2. 為 import package時，初始化執行的程式，可為空\n",
    "3. 若你希望 import say，會自動 import hello，那就必須加上 import say.hello\n",
    "\n",
    "```python\n",
    "# __init__.py\n",
    "import say.hello\n",
    "import say.bye\n",
    "import say.sorry\n",
    "```"
   ]
  },
  {
   "cell_type": "code",
   "execution_count": 52,
   "metadata": {
    "slideshow": {
     "slide_type": "subslide"
    }
   },
   "outputs": [],
   "source": [
    "# hello.py\n",
    "def cht():\n",
    "    print('哈摟!')\n",
    "\n",
    "\n",
    "def en():\n",
    "    print('hello!')\n",
    "\n",
    "\n",
    "def se():\n",
    "    print('Hej!')"
   ]
  },
  {
   "cell_type": "code",
   "execution_count": 54,
   "metadata": {
    "slideshow": {
     "slide_type": "fragment"
    }
   },
   "outputs": [
    {
     "name": "stdout",
     "output_type": "stream",
     "text": [
      "Hej!\n"
     ]
    }
   ],
   "source": [
    "import say\n",
    "say.hello.se()"
   ]
  },
  {
   "cell_type": "code",
   "execution_count": 65,
   "metadata": {
    "slideshow": {
     "slide_type": "fragment"
    }
   },
   "outputs": [
    {
     "name": "stdout",
     "output_type": "stream",
     "text": [
      "哈摟!\n"
     ]
    }
   ],
   "source": [
    "from say import hello\n",
    "hello.cht()"
   ]
  },
  {
   "cell_type": "markdown",
   "metadata": {
    "slideshow": {
     "slide_type": "subslide"
    }
   },
   "source": [
    "# dir()\n",
    "1. directory 的縮寫，是目錄！\n",
    "2. 看看套件/模組有什麼功能"
   ]
  },
  {
   "cell_type": "code",
   "execution_count": 58,
   "metadata": {
    "slideshow": {
     "slide_type": "fragment"
    }
   },
   "outputs": [
    {
     "data": {
      "text/plain": [
       "['__builtins__',\n",
       " '__cached__',\n",
       " '__doc__',\n",
       " '__file__',\n",
       " '__loader__',\n",
       " '__name__',\n",
       " '__package__',\n",
       " '__path__',\n",
       " '__spec__',\n",
       " 'bye',\n",
       " 'hello',\n",
       " 'say',\n",
       " 'sorry']"
      ]
     },
     "execution_count": 58,
     "metadata": {},
     "output_type": "execute_result"
    }
   ],
   "source": [
    "dir(say)"
   ]
  },
  {
   "cell_type": "code",
   "execution_count": 61,
   "metadata": {
    "slideshow": {
     "slide_type": "subslide"
    }
   },
   "outputs": [
    {
     "data": {
      "text/plain": [
       "['__builtins__',\n",
       " '__cached__',\n",
       " '__doc__',\n",
       " '__file__',\n",
       " '__loader__',\n",
       " '__name__',\n",
       " '__package__',\n",
       " '__spec__',\n",
       " 'cht',\n",
       " 'en',\n",
       " 'se']"
      ]
     },
     "execution_count": 61,
     "metadata": {},
     "output_type": "execute_result"
    }
   ],
   "source": [
    "dir(say.sorry)"
   ]
  },
  {
   "cell_type": "code",
   "execution_count": 63,
   "metadata": {
    "slideshow": {
     "slide_type": "fragment"
    }
   },
   "outputs": [
    {
     "name": "stdout",
     "output_type": "stream",
     "text": [
      "sorry\n"
     ]
    }
   ],
   "source": [
    "say.sorry.en()"
   ]
  },
  {
   "cell_type": "markdown",
   "metadata": {
    "slideshow": {
     "slide_type": "slide"
    }
   },
   "source": [
    "# 如何找套件\n",
    "1. 在直譯器中: ```help('modules')```\n",
    "2. Go to  stackoverflow\n",
    "3. Python Documentation"
   ]
  },
  {
   "cell_type": "markdown",
   "metadata": {
    "slideshow": {
     "slide_type": "slide"
    }
   },
   "source": [
    "# 課程練習：datetime 套件\n",
    "### 列入計分\n",
    "1. 以上頁之方式，搜尋 datetime 的套件相關資訊\n",
    "2. 找到下列 datetime 套件的模組\n",
    "    1. datetime.date\n",
    "    2. datetime.timedelta\n",
    "    3. datetime.date.isoformat，\n",
    "3. 完成一個 function print_next_day，可以印出明天的日期字串（若是明天執行，則會印出後天的字串）\n",
    "    \n",
    "```python\n",
    "print_next_day()\n",
    "# 印出字串 2018-07-13\n",
    "# 格式需一模一樣\n",
    "```"
   ]
  },
  {
   "cell_type": "markdown",
   "metadata": {
    "slideshow": {
     "slide_type": "slide"
    }
   },
   "source": [
    "# 資料來源\n",
    "1. https://www.techopedia.com/definition/3843/module\n",
    "2. https://kaochenlong.com/2011/10/13/python-module/\n",
    "3. https://medium.com/pyladies-taiwan/python-的-import-陷阱-3538e74f57e3\n",
    "4. https://www.learnpython.org/en/Modules_and_Packages\n",
    "5. https://blog.revathskumar.com/2011/10/python-list-all-packages-installed.html\n",
    "6. https://docs.python.org/3/tutorial/modules.html\n",
    "\n",
    "# 圖片來源\n",
    "1. http://www.heilu.com.tw/%E8%B1%AC%E8%82%89%E5%B0%8F%E7%99%BE%E7%A7%91.html\n",
    "2. https://unsplash.com/photos/FF14FKgecyM\n",
    "3. https://www.searchome.net/photo.aspx?id=130244\n",
    "4. https://unsplash.com/photos/Vj1OqmW4oh8\n",
    "5. https://unsplash.com/photos/Kw_zQBAChws"
   ]
  }
 ],
 "metadata": {
  "celltoolbar": "Slideshow",
  "kernelspec": {
   "display_name": "Python 3",
   "language": "python",
   "name": "python3"
  },
  "language_info": {
   "codemirror_mode": {
    "name": "ipython",
    "version": 3
   },
   "file_extension": ".py",
   "mimetype": "text/x-python",
   "name": "python",
   "nbconvert_exporter": "python",
   "pygments_lexer": "ipython3",
   "version": "3.5.2"
  }
 },
 "nbformat": 4,
 "nbformat_minor": 2
}
