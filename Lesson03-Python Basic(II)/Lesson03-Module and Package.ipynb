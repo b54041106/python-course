{
 "cells": [
  {
   "cell_type": "markdown",
   "metadata": {
    "slideshow": {
     "slide_type": "slide"
    }
   },
   "source": [
    "# Lesson03-Module and Package\n",
    "by 李至青"
   ]
  },
  {
   "cell_type": "markdown",
   "metadata": {
    "slideshow": {
     "slide_type": "slide"
    }
   },
   "source": [
    "# 令人怦然心動的模組魔法\n",
    "![](./folder.jpg)"
   ]
  },
  {
   "cell_type": "markdown",
   "metadata": {
    "slideshow": {
     "slide_type": "slide"
    }
   },
   "source": [
    "# 模組\n",
    "1. 生活中的模組\n",
    "2. 模組是什麼？\n",
    "3. 為什麼要用模組？\n",
    "4. Python 中的模組\n",
    "5. 如何使用模組\n",
    "6. 課程練習：動手寫 module"
   ]
  },
  {
   "cell_type": "markdown",
   "metadata": {
    "slideshow": {
     "slide_type": "slide"
    }
   },
   "source": [
    "# 生活中的模組\n",
    "![](./pig.jpg)"
   ]
  },
  {
   "cell_type": "markdown",
   "metadata": {
    "slideshow": {
     "slide_type": "subslide"
    }
   },
   "source": [
    "# 生活中的模組\n",
    "![](./interior.jpg)"
   ]
  },
  {
   "cell_type": "markdown",
   "metadata": {
    "slideshow": {
     "slide_type": "subslide"
    }
   },
   "source": [
    "# 生活中的模組\n",
    "![](./iphone.jpg)"
   ]
  },
  {
   "cell_type": "markdown",
   "metadata": {
    "slideshow": {
     "slide_type": "subslide"
    }
   },
   "source": [
    "# 生活中的模組\n",
    "\n",
    "1. 當你想吃豬腳，你不用買一隻豬\n",
    "2. 你知道要去廚房，才能找到流理臺\n",
    "3. 電池壞掉的時候，不用去修理螢幕"
   ]
  },
  {
   "cell_type": "markdown",
   "metadata": {
    "slideshow": {
     "slide_type": "slide"
    }
   },
   "source": [
    "## 那在軟體中的模組是什麼？"
   ]
  },
  {
   "cell_type": "markdown",
   "metadata": {
    "slideshow": {
     "slide_type": "subslide"
    }
   },
   "source": [
    "# 模組是什麼？\n",
    "## 模組是組成軟體的元件、或者是包含一個以上流程的部分程式。\n",
    "\n",
    "## A module is a software component or part of a program that contains one or more routines.\n",
    "\n",
    "\n",
    "\n",
    "\n",
    "Techopedia(n.d.)"
   ]
  },
  {
   "cell_type": "markdown",
   "metadata": {
    "slideshow": {
     "slide_type": "subslide"
    }
   },
   "source": [
    "# 模組是什麼？\n",
    "## 模組可以讓程式設計人員的工作更容易，因為可以專注在整個軟體中的特定的功能。\n",
    "\n",
    "## Modules make a programmer's job easy by allowing the programmer to focus on only one area of the functionality of the software application. \n",
    "\n",
    "\n",
    "\n",
    "\n",
    "Techopedia(n.d.)"
   ]
  },
  {
   "cell_type": "markdown",
   "metadata": {
    "slideshow": {
     "slide_type": "subslide"
    }
   },
   "source": [
    "# 模組是什麼？\n",
    "## 模組透過介面整合進軟體。\n",
    "\n",
    "## Modules are typically incorporated into the program (software) through interfaces.\n",
    "\n",
    "Techopedia(n.d.)"
   ]
  },
  {
   "cell_type": "markdown",
   "metadata": {
    "slideshow": {
     "slide_type": "subslide"
    }
   },
   "source": [
    "# 為什麼要用模組\n",
    "\n",
    "1. 讓你站在巨人的肩膀上\n",
    "2. 整理你的程式碼"
   ]
  },
  {
   "cell_type": "markdown",
   "metadata": {
    "slideshow": {
     "slide_type": "slide"
    }
   },
   "source": [
    "# Python 中的模組"
   ]
  },
  {
   "cell_type": "code",
   "execution_count": 1,
   "metadata": {
    "slideshow": {
     "slide_type": "fragment"
    }
   },
   "outputs": [
    {
     "data": {
      "text/plain": [
       "0.3834749877692337"
      ]
     },
     "execution_count": 1,
     "metadata": {},
     "output_type": "execute_result"
    }
   ],
   "source": [
    "import random\n",
    "random.random()"
   ]
  },
  {
   "cell_type": "code",
   "execution_count": 2,
   "metadata": {
    "slideshow": {
     "slide_type": "fragment"
    }
   },
   "outputs": [
    {
     "data": {
      "text/plain": [
       "91"
      ]
     },
     "execution_count": 2,
     "metadata": {},
     "output_type": "execute_result"
    }
   ],
   "source": [
    "random.randint(1,100)"
   ]
  },
  {
   "cell_type": "markdown",
   "metadata": {
    "slideshow": {
     "slide_type": "subslide"
    }
   },
   "source": [
    "# 如何看文件\n",
    "https://docs.python.org/3/library/random.html#module-random"
   ]
  },
  {
   "cell_type": "markdown",
   "metadata": {
    "slideshow": {
     "slide_type": "fragment"
    }
   },
   "source": [
    "## 確認文件版本跟你的Python版本一致\n",
    "```bash\n",
    "$python3 -V\n",
    "```\n",
    "\n",
    "![](./doc.png)"
   ]
  },
  {
   "cell_type": "markdown",
   "metadata": {
    "slideshow": {
     "slide_type": "subslide"
    }
   },
   "source": [
    "## 找到函數\n",
    "1. 看功能說明\n",
    "2. 看參數\n",
    "3. 看返回值\n",
    "![](./randint.png)"
   ]
  },
  {
   "cell_type": "markdown",
   "metadata": {},
   "source": [
    "# 課堂練習 - random.choice()\n",
    "1. 參考 https://docs.python.org/3/library/random.html#module-random ， 或者利用 Google 搜尋\n",
    "2. 找到 random.choice()，了解它的用途"
   ]
  },
  {
   "cell_type": "markdown",
   "metadata": {
    "slideshow": {
     "slide_type": "subslide"
    }
   },
   "source": [
    "# 如何使用模組\n",
    "\n",
    "每個 ```*.py``` 檔案，都是模組。\n",
    "\n",
    "每個模組，可以包含一個以上的 function，class 和 variable。 \n"
   ]
  },
  {
   "cell_type": "code",
   "execution_count": 3,
   "metadata": {
    "slideshow": {
     "slide_type": "fragment"
    }
   },
   "outputs": [],
   "source": [
    "# sample.py\n",
    "def hello():\n",
    "    print('hello!')"
   ]
  },
  {
   "cell_type": "code",
   "execution_count": 4,
   "metadata": {
    "slideshow": {
     "slide_type": "fragment"
    }
   },
   "outputs": [
    {
     "name": "stdout",
     "output_type": "stream",
     "text": [
      "hello!\n"
     ]
    }
   ],
   "source": [
    "import sample # 不用加副檔名\n",
    "sample.hello()"
   ]
  },
  {
   "cell_type": "code",
   "execution_count": 5,
   "metadata": {
    "slideshow": {
     "slide_type": "fragment"
    }
   },
   "outputs": [
    {
     "name": "stdout",
     "output_type": "stream",
     "text": [
      "hello!\n"
     ]
    }
   ],
   "source": [
    "import sample as s\n",
    "s.hello()"
   ]
  },
  {
   "cell_type": "code",
   "execution_count": 6,
   "metadata": {
    "scrolled": false,
    "slideshow": {
     "slide_type": "fragment"
    }
   },
   "outputs": [
    {
     "name": "stdout",
     "output_type": "stream",
     "text": [
      "hello!\n"
     ]
    }
   ],
   "source": [
    "from sample import hello\n",
    "hello()"
   ]
  },
  {
   "cell_type": "markdown",
   "metadata": {
    "slideshow": {
     "slide_type": "slide"
    }
   },
   "source": [
    "# 課程練習：動手寫 module\n",
    "寫一個 zoo module，完成以下功能：\n",
    "```python\n",
    "import zoo\n",
    "zoo.duck()\n",
    "# 印出 quak!\n",
    "zoo.cat()\n",
    "# 印出 meow~\n",
    "zoo.tiger()\n",
    "# 印出 woof\n",
    "```"
   ]
  },
  {
   "cell_type": "markdown",
   "metadata": {
    "slideshow": {
     "slide_type": "slide"
    }
   },
   "source": [
    "# 套件\n",
    "1. 什麼是套件\n",
    "2. 如何使用套件\n",
    "3. 如何找模組/套件\n",
    "4. 課程練習：動手寫 package\n",
    "5. 課程練習：練習使用套件"
   ]
  },
  {
   "cell_type": "markdown",
   "metadata": {
    "slideshow": {
     "slide_type": "subslide"
    }
   },
   "source": [
    "# 什麼是套件\n",
    "## 套件之於模組\n",
    "## 就像目錄之於檔案\n",
    "## 就像工具箱之於工具"
   ]
  },
  {
   "cell_type": "markdown",
   "metadata": {
    "slideshow": {
     "slide_type": "subslide"
    }
   },
   "source": [
    "# 如何定義套件\n",
    "## 把模組通通收進資料夾吧！\n",
    "\n",
    "然後再加上 \\__init\\__.py"
   ]
  },
  {
   "cell_type": "markdown",
   "metadata": {
    "slideshow": {
     "slide_type": "fragment"
    }
   },
   "source": [
    "```Text\n",
    "lesson03/\n",
    "├── __init__.py\n",
    "└── sample.py\n",
    "```"
   ]
  },
  {
   "cell_type": "code",
   "execution_count": 7,
   "metadata": {
    "slideshow": {
     "slide_type": "subslide"
    }
   },
   "outputs": [
    {
     "ename": "AttributeError",
     "evalue": "module 'lesson03' has no attribute 'sample'",
     "output_type": "error",
     "traceback": [
      "\u001b[0;31m---------------------------------------------------------------------------\u001b[0m",
      "\u001b[0;31mAttributeError\u001b[0m                            Traceback (most recent call last)",
      "\u001b[0;32m<ipython-input-7-f62fd614cfc6>\u001b[0m in \u001b[0;36m<module>\u001b[0;34m()\u001b[0m\n\u001b[1;32m      1\u001b[0m \u001b[0;32mimport\u001b[0m \u001b[0mlesson03\u001b[0m\u001b[0;34m\u001b[0m\u001b[0m\n\u001b[0;32m----> 2\u001b[0;31m \u001b[0mlesson03\u001b[0m\u001b[0;34m.\u001b[0m\u001b[0msample\u001b[0m\u001b[0;34m.\u001b[0m\u001b[0mhello\u001b[0m\u001b[0;34m(\u001b[0m\u001b[0;34m)\u001b[0m\u001b[0;34m\u001b[0m\u001b[0m\n\u001b[0m",
      "\u001b[0;31mAttributeError\u001b[0m: module 'lesson03' has no attribute 'sample'"
     ]
    }
   ],
   "source": [
    "import lesson03\n",
    "lesson03.sample.hello()"
   ]
  },
  {
   "cell_type": "code",
   "execution_count": null,
   "metadata": {
    "slideshow": {
     "slide_type": "fragment"
    }
   },
   "outputs": [],
   "source": [
    "from lesson03 import sample\n",
    "sample.hello()"
   ]
  },
  {
   "cell_type": "markdown",
   "metadata": {
    "slideshow": {
     "slide_type": "slide"
    }
   },
   "source": [
    "# 如何找套件\n",
    "1. 在直譯器中: ```help('modules')```\n",
    "2. Go to  stackoverflow\n",
    "3. Python Documentation"
   ]
  },
  {
   "cell_type": "markdown",
   "metadata": {
    "slideshow": {
     "slide_type": "slide"
    }
   },
   "source": [
    "# 課程練習：datetime 套件\n",
    "1. 以上頁之方式，搜尋 datetime 的套件相關資訊\n",
    "2. 利用下列 datetime 套件的模組，完成以下 function:\n",
    "    1. datetime.date\n",
    "    2. datetime.timedelta\n",
    "    3. datetime.date.isoformat，\n",
    "    \n",
    "```python\n",
    "print_next_day()\n",
    "# 印出字串 2018-07-13\n",
    "```"
   ]
  },
  {
   "cell_type": "markdown",
   "metadata": {
    "slideshow": {
     "slide_type": "slide"
    }
   },
   "source": [
    "# 資料來源\n",
    "1. https://www.techopedia.com/definition/3843/module\n",
    "2. https://kaochenlong.com/2011/10/13/python-module/\n",
    "3. https://medium.com/pyladies-taiwan/python-的-import-陷阱-3538e74f57e3\n",
    "4. https://www.learnpython.org/en/Modules_and_Packages\n",
    "5. https://blog.revathskumar.com/2011/10/python-list-all-packages-installed.html\n",
    "6. https://docs.python.org/3/tutorial/modules.html\n",
    "\n",
    "# 圖片來源\n",
    "1. http://www.heilu.com.tw/%E8%B1%AC%E8%82%89%E5%B0%8F%E7%99%BE%E7%A7%91.html\n",
    "2. https://unsplash.com/photos/FF14FKgecyM\n",
    "3. https://www.searchome.net/photo.aspx?id=130244\n",
    "4. https://unsplash.com/photos/Vj1OqmW4oh8"
   ]
  }
 ],
 "metadata": {
  "celltoolbar": "Slideshow",
  "kernelspec": {
   "display_name": "Python 3",
   "language": "python",
   "name": "python3"
  },
  "language_info": {
   "codemirror_mode": {
    "name": "ipython",
    "version": 3
   },
   "file_extension": ".py",
   "mimetype": "text/x-python",
   "name": "python",
   "nbconvert_exporter": "python",
   "pygments_lexer": "ipython3",
   "version": "3.6.3"
  }
 },
 "nbformat": 4,
 "nbformat_minor": 2
}
