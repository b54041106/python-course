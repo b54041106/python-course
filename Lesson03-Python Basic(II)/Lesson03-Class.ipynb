{
 "cells": [
  {
   "cell_type": "markdown",
   "metadata": {
    "slideshow": {
     "slide_type": "slide"
    }
   },
   "source": [
    "# [X-Village] Lesson03 - Class\n",
    "---\n",
    "speaker: amber(吳思嬋)"
   ]
  },
  {
   "cell_type": "markdown",
   "metadata": {
    "slideshow": {
     "slide_type": "subslide"
    }
   },
   "source": [
    "## Class statement\n",
    "---\n",
    "![](https://i.imgur.com/3TjK61X.png)"
   ]
  },
  {
   "cell_type": "code",
   "execution_count": 1,
   "metadata": {
    "slideshow": {
     "slide_type": "subslide"
    }
   },
   "outputs": [
    {
     "name": "stdout",
     "output_type": "stream",
     "text": [
      "42\n",
      "Hello world\n"
     ]
    }
   ],
   "source": [
    "class Demo:\n",
    "    spam = 42 # Generates a class data attribute\n",
    "    def method1(self):\n",
    "        print('Hello world')\n",
    "        \n",
    "x = Demo() # Make instances object\n",
    "print(x.spam)\n",
    "x.method1()"
   ]
  },
  {
   "cell_type": "markdown",
   "metadata": {
    "slideshow": {
     "slide_type": "fragment"
    }
   },
   "source": [
    "## What is differenct between def and class?"
   ]
  },
  {
   "cell_type": "markdown",
   "metadata": {
    "slideshow": {
     "slide_type": "subslide"
    }
   },
   "source": [
    "### Exercise (10min)\n",
    "---\n",
    "當程式執行完畢，請寫出 print 的結果。"
   ]
  },
  {
   "cell_type": "code",
   "execution_count": null,
   "metadata": {
    "slideshow": {
     "slide_type": "fragment"
    }
   },
   "outputs": [],
   "source": [
    "# exercise\n",
    "print(\"A\")\n",
    "class Demo:\n",
    "    print(\"B\")\n",
    "    def method1(self):\n",
    "        print(\"C\")\n",
    "    print(\"D\")\n",
    "print(\"E\")\n",
    "\n",
    "def f():\n",
    "    print('F')\n",
    "\n",
    "f()\n",
    "p1 = Demo()\n",
    "p1.method1()"
   ]
  },
  {
   "cell_type": "code",
   "execution_count": 2,
   "metadata": {
    "slideshow": {
     "slide_type": "subslide"
    }
   },
   "outputs": [
    {
     "name": "stdout",
     "output_type": "stream",
     "text": [
      "A\n",
      "B\n",
      "D\n",
      "E\n",
      "F\n",
      "C\n"
     ]
    }
   ],
   "source": [
    "# Answer\n",
    "print(\"A\")\n",
    "class Demo:\n",
    "    print(\"B\")\n",
    "    def method1(self):\n",
    "        print(\"C\")\n",
    "    print(\"D\")\n",
    "print(\"E\")\n",
    "\n",
    "def f():\n",
    "    print('F')\n",
    "\n",
    "f()\n",
    "p1 = Demo()\n",
    "p1.method1()"
   ]
  },
  {
   "cell_type": "code",
   "execution_count": 3,
   "metadata": {
    "slideshow": {
     "slide_type": "subslide"
    }
   },
   "outputs": [
    {
     "name": "stdout",
     "output_type": "stream",
     "text": [
      "A\n",
      "B\n",
      "D\n",
      "E\n"
     ]
    }
   ],
   "source": [
    "# Answer - step1\n",
    "print(\"A\")\n",
    "class Demo:\n",
    "    print(\"B\")\n",
    "    def method1(self):\n",
    "        print(\"C\")\n",
    "    print(\"D\")\n",
    "print(\"E\")\n",
    "\n",
    "def f():\n",
    "    print('F')\n",
    "\n",
    "#f()\n",
    "#p1 = Demo()\n",
    "#p1.method1()"
   ]
  },
  {
   "cell_type": "code",
   "execution_count": 4,
   "metadata": {
    "slideshow": {
     "slide_type": "subslide"
    }
   },
   "outputs": [
    {
     "name": "stdout",
     "output_type": "stream",
     "text": [
      "A\n",
      "B\n",
      "D\n",
      "E\n",
      "F\n",
      "C\n"
     ]
    }
   ],
   "source": [
    "# Answer - step2\n",
    "print(\"A\")\n",
    "class Demo:\n",
    "    print(\"B\")\n",
    "    def method1(self):\n",
    "        print(\"C\")\n",
    "    print(\"D\")\n",
    "print(\"E\")\n",
    "\n",
    "def f():\n",
    "    print('F')\n",
    "\n",
    "f()\n",
    "p1 = Demo()\n",
    "p1.method1()"
   ]
  },
  {
   "cell_type": "markdown",
   "metadata": {
    "slideshow": {
     "slide_type": "subslide"
    }
   },
   "source": [
    "## classes resemble both modules and functions\n",
    "---\n",
    "* Like functions, class statements are local scopes where names created by nested assignments live.\n",
    "\n",
    "* Like names in a module, names assigned in a class statement become attributes in a class object."
   ]
  },
  {
   "cell_type": "markdown",
   "metadata": {
    "slideshow": {
     "slide_type": "subslide"
    }
   },
   "source": [
    "## Classes Are Attributes in Modules\n",
    "---\n",
    "*Class name* is just a variable assigned to an object when the class statement runs, and the object can be referenced with any normal expression."
   ]
  },
  {
   "cell_type": "code",
   "execution_count": null,
   "metadata": {
    "slideshow": {
     "slide_type": "fragment"
    }
   },
   "outputs": [],
   "source": [
    "from modulename import FirstClass # Copy name into my scope\n",
    "a = FirstClass() # Use class name directly"
   ]
  },
  {
   "cell_type": "code",
   "execution_count": null,
   "metadata": {
    "slideshow": {
     "slide_type": "fragment"
    }
   },
   "outputs": [],
   "source": [
    "import modulename # Access the whole module\n",
    "a = modulename.FirstClass() # Qualify to reference"
   ]
  },
  {
   "cell_type": "markdown",
   "metadata": {
    "slideshow": {
     "slide_type": "subslide"
    }
   },
   "source": [
    "## Classes Versus Modules\n",
    "---\n",
    "* Modules\n",
    "    * Implement data/logic packages\n",
    "    * Are created with Python files or other-language extensions \n",
    "    * Are used by being imported\n",
    "    * Form the top-level in Python program structure\n",
    "* Classes\n",
    "    * Implement new full-featured objects \n",
    "    * Are created with class statements\n",
    "    * Are used by being called\n",
    "    * Always live within a module"
   ]
  },
  {
   "cell_type": "markdown",
   "metadata": {
    "slideshow": {
     "slide_type": "subslide"
    }
   },
   "source": [
    "## Instance Objects\n",
    "* Calling a class object like a function makes a new instance object.\n",
    "* Each instance object inherits class attributes and gets its own namespace\n",
    "* Assignments to attributes of *self* in methods make per-instance attributes"
   ]
  },
  {
   "cell_type": "code",
   "execution_count": 5,
   "metadata": {
    "slideshow": {
     "slide_type": "fragment"
    }
   },
   "outputs": [
    {
     "name": "stdout",
     "output_type": "stream",
     "text": [
      "t1: Hello\n",
      "t1: World!!\n",
      "t1: Bye\n"
     ]
    }
   ],
   "source": [
    "class FirstClass: # Define a class object\n",
    "    x = 'Hello' # attribute\n",
    "    \n",
    "t1 = FirstClass() # instance object\n",
    "print('t1:', t1.x) # instance.attribute\n",
    "t1.data = 'World!!'  # create new attribute\n",
    "print('t1:', t1.data)\n",
    "t1.x = 'Bye'\n",
    "print('t1:', t1.x)"
   ]
  },
  {
   "cell_type": "code",
   "execution_count": 6,
   "metadata": {
    "slideshow": {
     "slide_type": "subslide"
    }
   },
   "outputs": [
    {
     "name": "stdout",
     "output_type": "stream",
     "text": [
      "Hello\n"
     ]
    }
   ],
   "source": [
    "class FirstClass: # Define a class object\n",
    "    x = 'Hello' # attribute\n",
    "    \n",
    "t1 = FirstClass() # instance object\n",
    "t1.x = 'Bye'\n",
    "\n",
    "t2 = FirstClass() # instance object\n",
    "print(t2.x)"
   ]
  },
  {
   "cell_type": "markdown",
   "metadata": {
    "slideshow": {
     "slide_type": "subslide"
    }
   },
   "source": [
    "## Methods (1)\n",
    "---\n",
    "Methods are just function objects created by def statements nested in a class statement’s body\n",
    "* **Method’s first argument always receives the instance object that is the implied subject of the method call.**\n",
    "<img src=\"https://i.imgur.com/3TjK61X.png\" width=600 height=300 />"
   ]
  },
  {
   "cell_type": "markdown",
   "metadata": {
    "slideshow": {
     "slide_type": "subslide"
    }
   },
   "source": [
    "## Methods (2)\n",
    "---\n",
    "* *instance.method(args...)*\n",
    "* *class.method(instance, args...)*"
   ]
  },
  {
   "cell_type": "code",
   "execution_count": 7,
   "metadata": {
    "slideshow": {
     "slide_type": "fragment"
    }
   },
   "outputs": [
    {
     "name": "stdout",
     "output_type": "stream",
     "text": [
      "instance call\n"
     ]
    }
   ],
   "source": [
    "class Demo: # Define class\n",
    "    def printer(self, text): # Define method\n",
    "        self.message = text # Change instance\n",
    "\n",
    "x = Demo() # Make instance\n",
    "x.printer('instance call') # Call its method\n",
    "print(x.message) # Instance changed"
   ]
  },
  {
   "cell_type": "code",
   "execution_count": 8,
   "metadata": {
    "slideshow": {
     "slide_type": "subslide"
    }
   },
   "outputs": [
    {
     "name": "stdout",
     "output_type": "stream",
     "text": [
      "class call\n"
     ]
    }
   ],
   "source": [
    "class Demo: # Define class\n",
    "    def printer(self, text): # Define method\n",
    "        self.message = text # Change instance\n",
    "\n",
    "x = Demo()\n",
    "Demo.printer(x, 'class call') # Direct class call\n",
    "print(x.message) # Instance changed"
   ]
  },
  {
   "cell_type": "code",
   "execution_count": 9,
   "metadata": {
    "slideshow": {
     "slide_type": "fragment"
    }
   },
   "outputs": [
    {
     "ename": "TypeError",
     "evalue": "printer() missing 1 required positional argument: 'text'",
     "output_type": "error",
     "traceback": [
      "\u001b[0;31m---------------------------------------------------------------------------\u001b[0m",
      "\u001b[0;31mTypeError\u001b[0m                                 Traceback (most recent call last)",
      "\u001b[0;32m<ipython-input-9-38a74f32b76e>\u001b[0m in \u001b[0;36m<module>\u001b[0;34m()\u001b[0m\n\u001b[1;32m      4\u001b[0m \u001b[0;34m\u001b[0m\u001b[0m\n\u001b[1;32m      5\u001b[0m \u001b[0mx\u001b[0m \u001b[0;34m=\u001b[0m \u001b[0mDemo\u001b[0m\u001b[0;34m(\u001b[0m\u001b[0;34m)\u001b[0m\u001b[0;34m\u001b[0m\u001b[0m\n\u001b[0;32m----> 6\u001b[0;31m \u001b[0mDemo\u001b[0m\u001b[0;34m.\u001b[0m\u001b[0mprinter\u001b[0m\u001b[0;34m(\u001b[0m\u001b[0;34m'class call'\u001b[0m\u001b[0;34m)\u001b[0m \u001b[0;31m# Direct class call\u001b[0m\u001b[0;34m\u001b[0m\u001b[0m\n\u001b[0m\u001b[1;32m      7\u001b[0m \u001b[0mprint\u001b[0m\u001b[0;34m(\u001b[0m\u001b[0mx\u001b[0m\u001b[0;34m.\u001b[0m\u001b[0mmessage\u001b[0m\u001b[0;34m)\u001b[0m \u001b[0;31m# Instance changed\u001b[0m\u001b[0;34m\u001b[0m\u001b[0m\n",
      "\u001b[0;31mTypeError\u001b[0m: printer() missing 1 required positional argument: 'text'"
     ]
    }
   ],
   "source": [
    "class Demo: # Define class\n",
    "    def printer(self, text): # Define method\n",
    "        self.message = text # Change instance\n",
    "\n",
    "x = Demo()\n",
    "Demo.printer('class call') # Direct class call\n",
    "print(x.message) # Instance changed"
   ]
  },
  {
   "cell_type": "markdown",
   "metadata": {
    "slideshow": {
     "slide_type": "subslide"
    }
   },
   "source": [
    "## Constructors Method: ＿init＿\n",
    "---\n"
   ]
  },
  {
   "cell_type": "code",
   "execution_count": 10,
   "metadata": {
    "slideshow": {
     "slide_type": "fragment"
    }
   },
   "outputs": [
    {
     "name": "stdout",
     "output_type": "stream",
     "text": [
      "Hello\n"
     ]
    }
   ],
   "source": [
    "# __init__ is run when a new instance object is created\n",
    "class Super:\n",
    "    def __init__(self, x):\n",
    "        self.x = x\n",
    "\n",
    "z = Super('Hello')\n",
    "print(z.x)"
   ]
  },
  {
   "cell_type": "code",
   "execution_count": 11,
   "metadata": {
    "slideshow": {
     "slide_type": "subslide"
    }
   },
   "outputs": [
    {
     "name": "stdout",
     "output_type": "stream",
     "text": [
      "John 35\n",
      "Joe 18\n"
     ]
    }
   ],
   "source": [
    "# __init__ is run when a new instance object is created\n",
    "class People:\n",
    "    def __init__(self, name, age):\n",
    "        self.name = name\n",
    "        self.age = age\n",
    "        \n",
    "x = People('John', '35')\n",
    "y = People('Joe', '18')\n",
    "print(x.name, x.age)\n",
    "print(y.name, y.age)"
   ]
  },
  {
   "cell_type": "markdown",
   "metadata": {
    "slideshow": {
     "slide_type": "subslide"
    }
   },
   "source": [
    "### Exercise  - 計算BMI (10min)\n",
    "---\n",
    "1. 建立 class BMI, 須包含 set_info, get_bmi , get_state, display method\n",
    "2. example:\n",
    "    * x = BMI('John', 'boy') # Name: John, gender: boy\n",
    "    * x.get_bmi(1.75, 55) # 175cm, 55kg, bmi: 17.95\n",
    "    * x.get_state() # 判斷過輕, 適中, 過重\n",
    "    * x.display() # Name: John, gender: boy, bmi: 17.95, state: 過輕"
   ]
  },
  {
   "cell_type": "code",
   "execution_count": 12,
   "metadata": {
    "slideshow": {
     "slide_type": "subslide"
    }
   },
   "outputs": [
    {
     "name": "stdout",
     "output_type": "stream",
     "text": [
      "Name: John \n",
      "gender: boy \n",
      "bmi: 17.959183673469386 \n",
      "state: 過輕\n"
     ]
    }
   ],
   "source": [
    "# Answer\n",
    "class BMI:\n",
    "    def __init__(self, name, gender):\n",
    "        self.name = name\n",
    "        self.gender = gender\n",
    "        \n",
    "    def get_bmi(self, height, weight):\n",
    "        self.bmi = weight / (height*height)\n",
    "        \n",
    "    def get_state(self):\n",
    "        if self.bmi < 18.5:\n",
    "            self.state = '過輕'\n",
    "        elif self.bmi < 24:\n",
    "            self.state = '適中'\n",
    "        else:\n",
    "            self.state = '過重'\n",
    "            \n",
    "    def display(self):\n",
    "        print('Name:', self.name,'\\n' \n",
    "              'gender:', self.gender,'\\n'\n",
    "              'bmi:', self.bmi,'\\n'\n",
    "              'state:', self.state)\n",
    "x = BMI('John', 'boy')\n",
    "x.get_bmi(1.75, 55) # 175cm, 55kg\n",
    "x.get_state()\n",
    "x.display()"
   ]
  },
  {
   "cell_type": "markdown",
   "metadata": {
    "slideshow": {
     "slide_type": "subslide"
    }
   },
   "source": [
    "## Inheritance (1)\n",
    "---"
   ]
  },
  {
   "cell_type": "code",
   "execution_count": 13,
   "metadata": {
    "slideshow": {
     "slide_type": "fragment"
    }
   },
   "outputs": [
    {
     "name": "stdout",
     "output_type": "stream",
     "text": [
      "t1-x t1-data\n"
     ]
    }
   ],
   "source": [
    "class FirstClass:\n",
    "    x = 'F-x'\n",
    "    \n",
    "t1 = FirstClass()\n",
    "t1.x = 't1-x'\n",
    "t1.data = 't1-data'\n",
    "print(t1.x, t1.data)"
   ]
  },
  {
   "cell_type": "markdown",
   "metadata": {
    "slideshow": {
     "slide_type": "fragment"
    }
   },
   "source": [
    "<img src=\"https://i.imgur.com/LL4rcLw.png\" width=600 height=300 />"
   ]
  },
  {
   "cell_type": "code",
   "execution_count": 14,
   "metadata": {
    "slideshow": {
     "slide_type": "subslide"
    }
   },
   "outputs": [
    {
     "name": "stdout",
     "output_type": "stream",
     "text": [
      "F-x t1-data\n"
     ]
    }
   ],
   "source": [
    "class FirstClass:\n",
    "    x = 'F-x'\n",
    "    \n",
    "t1 = FirstClass()\n",
    "t1.data = 't1-data'\n",
    "print(t1.x, t1.data)"
   ]
  },
  {
   "cell_type": "markdown",
   "metadata": {
    "slideshow": {
     "slide_type": "fragment"
    }
   },
   "source": [
    "<img src=\"https://i.imgur.com/RES9Qe0.png\" width=600 height=300 />"
   ]
  },
  {
   "cell_type": "markdown",
   "metadata": {
    "slideshow": {
     "slide_type": "subslide"
    }
   },
   "source": [
    "## Inheritance (2)\n",
    "---\n",
    "* Superclasses are listed in parentheses in a class header\n",
    "* Classes inherit attributes from their superclasses\n",
    "* Instances inherit attributes from all accessible classes.\n",
    "* Each *object.attribute* reference invokes a new, independent search\n",
    "* Logic changes are made by subclassing, not by changing superclasses\n",
    "<img src=\"https://i.imgur.com/3TjK61X.png\" width=600 height=300 />"
   ]
  },
  {
   "cell_type": "code",
   "execution_count": 15,
   "metadata": {
    "slideshow": {
     "slide_type": "subslide"
    }
   },
   "outputs": [
    {
     "name": "stdout",
     "output_type": "stream",
     "text": [
      "FirstClass\n",
      "Hello-World\n",
      "Bye-World\n"
     ]
    }
   ],
   "source": [
    "class FirstClass: # Define a class object\n",
    "    x = 'Hello-World'\n",
    "    y = 'FirstClass'\n",
    "class SencondClass(FirstClass): # FirstClass is superclass\n",
    "    x = 'Bye-World'\n",
    "    \n",
    "z = SencondClass()\n",
    "print(z.y)\n",
    "\n",
    "v = FirstClass()\n",
    "print(v.x)\n",
    "print(z.x)"
   ]
  },
  {
   "cell_type": "markdown",
   "metadata": {
    "slideshow": {
     "slide_type": "subslide"
    }
   },
   "source": [
    "## Example\n",
    "---\n",
    "![](https://i.imgur.com/0B1vBCY.png)"
   ]
  },
  {
   "cell_type": "code",
   "execution_count": 16,
   "metadata": {
    "slideshow": {
     "slide_type": "fragment"
    }
   },
   "outputs": [
    {
     "name": "stdout",
     "output_type": "stream",
     "text": [
      "T-x F-y F-w z-data\n"
     ]
    }
   ],
   "source": [
    "class FirstClass: # Define a class object\n",
    "    y = 'F-y'\n",
    "    w = 'F-w'\n",
    "    \n",
    "class SecondClass:\n",
    "    x = 'S-x'\n",
    "    w = 'S-w'\n",
    "    \n",
    "class ThirdClass(FirstClass, SecondClass):\n",
    "    x = 'T-x'\n",
    "    \n",
    "z = ThirdClass()\n",
    "z.data = 'z-data'\n",
    "print(z.x, z.y, z.w, z.data)"
   ]
  },
  {
   "cell_type": "markdown",
   "metadata": {
    "slideshow": {
     "slide_type": "subslide"
    }
   },
   "source": [
    "## Exercise (10min)\n",
    "---\n",
    "請問， test attribute u, v, w, x, y, z 的答案依序為何？"
   ]
  },
  {
   "cell_type": "code",
   "execution_count": null,
   "metadata": {
    "slideshow": {
     "slide_type": "fragment"
    }
   },
   "outputs": [],
   "source": [
    "# Exercise\n",
    "class Parent:   \n",
    "    x = 'P-x'\n",
    "    y = 'P-y'\n",
    "class Child1(Parent):\n",
    "    w = 'C1-w'\n",
    "    x = 'C1-x'\n",
    "class Child2(Child1):\n",
    "    v = 'C2-v'\n",
    "    y = 'C2-y'\n",
    "    z = 'C2-z'\n",
    "class Child3(Child2, Child1):\n",
    "    u = 'C3-u'\n",
    "    w = 'C3-t'\n",
    "    \n",
    "test = Child3()\n",
    "print(test.u, test.v, test.w, test.x, test.y,  test.z)"
   ]
  },
  {
   "cell_type": "code",
   "execution_count": 17,
   "metadata": {
    "slideshow": {
     "slide_type": "subslide"
    }
   },
   "outputs": [
    {
     "name": "stdout",
     "output_type": "stream",
     "text": [
      "C3-u C2-v C1-w P-x C2-y C2-z\n"
     ]
    }
   ],
   "source": [
    "# Answer\n",
    "class Parent:   \n",
    "    x = 'P-x'\n",
    "    y = 'P-y'\n",
    "\n",
    "class Child1(Parent):\n",
    "    w = 'C1-w'\n",
    "\n",
    "class Child2(Child1):\n",
    "    v = 'C2-v'\n",
    "    y = 'C2-y'\n",
    "    z = 'C2-z'\n",
    "    \n",
    "class Child3(Child2):\n",
    "    u = 'C3-u'\n",
    "    \n",
    "test = Child3()\n",
    "print(test.u, test.v, test.w, test.x, test.y,  test.z)"
   ]
  },
  {
   "cell_type": "markdown",
   "metadata": {
    "slideshow": {
     "slide_type": "subslide"
    }
   },
   "source": [
    "##  Inherited Methods\n",
    "---"
   ]
  },
  {
   "cell_type": "code",
   "execution_count": 18,
   "metadata": {
    "slideshow": {
     "slide_type": "fragment"
    }
   },
   "outputs": [
    {
     "name": "stdout",
     "output_type": "stream",
     "text": [
      "Sub.method: 20\n",
      "in Super.method: 9\n"
     ]
    }
   ],
   "source": [
    "class Super:\n",
    "    def method(self, x, y):\n",
    "        self.ans = x + y \n",
    "        print('in Super.method:', self.ans)\n",
    "        \n",
    "class Sub(Super):\n",
    "    def method(self, x, y): # Override method\n",
    "        self.ans = x*y\n",
    "        print('Sub.method:', self.ans) # Add actions here\n",
    "        Super.method(self, x ,y)\n",
    "        \n",
    "z = Sub()\n",
    "z.method(4, 5)"
   ]
  },
  {
   "cell_type": "markdown",
   "metadata": {
    "slideshow": {
     "slide_type": "subslide"
    }
   },
   "source": [
    "## Name Mangling: __name\n",
    "---"
   ]
  },
  {
   "cell_type": "code",
   "execution_count": 19,
   "metadata": {
    "slideshow": {
     "slide_type": "fragment"
    }
   },
   "outputs": [
    {
     "name": "stdout",
     "output_type": "stream",
     "text": [
      "John\n"
     ]
    },
    {
     "ename": "AttributeError",
     "evalue": "'C1' object has no attribute '__name'",
     "output_type": "error",
     "traceback": [
      "\u001b[0;31m---------------------------------------------------------------------------\u001b[0m",
      "\u001b[0;31mAttributeError\u001b[0m                            Traceback (most recent call last)",
      "\u001b[0;32m<ipython-input-19-d4b03c3b917a>\u001b[0m in \u001b[0;36m<module>\u001b[0;34m()\u001b[0m\n\u001b[1;32m      5\u001b[0m \u001b[0mI\u001b[0m \u001b[0;34m=\u001b[0m \u001b[0mC1\u001b[0m\u001b[0;34m(\u001b[0m\u001b[0;34m)\u001b[0m\u001b[0;34m\u001b[0m\u001b[0m\n\u001b[1;32m      6\u001b[0m \u001b[0mprint\u001b[0m\u001b[0;34m(\u001b[0m\u001b[0mI\u001b[0m\u001b[0;34m.\u001b[0m\u001b[0mname\u001b[0m\u001b[0;34m)\u001b[0m\u001b[0;34m\u001b[0m\u001b[0m\n\u001b[0;32m----> 7\u001b[0;31m \u001b[0mprint\u001b[0m\u001b[0;34m(\u001b[0m\u001b[0mI\u001b[0m\u001b[0;34m.\u001b[0m\u001b[0m__name\u001b[0m\u001b[0;34m)\u001b[0m\u001b[0;34m\u001b[0m\u001b[0m\n\u001b[0m",
      "\u001b[0;31mAttributeError\u001b[0m: 'C1' object has no attribute '__name'"
     ]
    }
   ],
   "source": [
    "class C1:\n",
    "    name = 'John'\n",
    "    __name = 'Joe'\n",
    "\n",
    "I = C1()\n",
    "print(I.name)\n",
    "print(I.__name)"
   ]
  },
  {
   "cell_type": "code",
   "execution_count": 20,
   "metadata": {
    "slideshow": {
     "slide_type": "subslide"
    }
   },
   "outputs": [
    {
     "name": "stdout",
     "output_type": "stream",
     "text": [
      "Joe\n",
      "Herry\n"
     ]
    }
   ],
   "source": [
    "class C1:\n",
    "    name = 'John'\n",
    "    __name = 'Joe'\n",
    "    def get_name(self):\n",
    "        print(self.__name)\n",
    "    def set_name(self, x):\n",
    "        self.__name = x # self._C1__name\n",
    "\n",
    "I = C1()\n",
    "I.get_name()\n",
    "I.set_name('Herry')\n",
    "I.get_name()"
   ]
  },
  {
   "cell_type": "markdown",
   "metadata": {
    "slideshow": {
     "slide_type": "subslide"
    }
   },
   "source": [
    "## Why Use Name Mangling\n",
    "---\n",
    "Within a class’s method in Python, whenever a method assigns to a **self** attribute (e.g., *self.attr = value*), it changes or creates an attribute in the instance. Because this is true even if multiple classes in a hierarchy assign to the same attribute, collisions are possible."
   ]
  },
  {
   "cell_type": "code",
   "execution_count": 21,
   "metadata": {
    "slideshow": {
     "slide_type": "subslide"
    }
   },
   "outputs": [
    {
     "name": "stdout",
     "output_type": "stream",
     "text": [
      "{'X': 99}\n",
      "99\n",
      "99\n"
     ]
    }
   ],
   "source": [
    "class C1:\n",
    "    def meth1(self): \n",
    "        self.X = 88 # I assume X is mine \n",
    "    def meth2(self): \n",
    "        print(self.X)\n",
    "\n",
    "class C2:\n",
    "    def metha(self): \n",
    "        self.X = 99 # Me too\n",
    "    def methb(self): \n",
    "        print(self.X)\n",
    "        \n",
    "class C3(C1, C2):\n",
    "    pass\n",
    "\n",
    "I = C3()\n",
    "I.meth1()\n",
    "I.metha()\n",
    "print(I.__dict__)\n",
    "I.meth2()\n",
    "I.methb()"
   ]
  },
  {
   "cell_type": "code",
   "execution_count": 22,
   "metadata": {
    "slideshow": {
     "slide_type": "subslide"
    }
   },
   "outputs": [
    {
     "name": "stdout",
     "output_type": "stream",
     "text": [
      "{'_C1__X': 88, '_C2__X': 99}\n",
      "88\n",
      "99\n"
     ]
    }
   ],
   "source": [
    "class C1:\n",
    "    def meth1(self): \n",
    "        self.__X = 88 \n",
    "    def meth2(self): \n",
    "        print(self.__X)\n",
    "        \n",
    "class C2:\n",
    "    def metha(self): \n",
    "        self.__X = 99 \n",
    "    def methb(self): \n",
    "        print(self.__X)\n",
    "        \n",
    "class C3(C1, C2): \n",
    "    pass \n",
    "\n",
    "I = C3()\n",
    "I.meth1()\n",
    "I.metha()\n",
    "print(I.__dict__)\n",
    "I.meth2()\n",
    "I.methb()"
   ]
  },
  {
   "cell_type": "markdown",
   "metadata": {
    "slideshow": {
     "slide_type": "slide"
    }
   },
   "source": [
    "## 下課十分鐘。"
   ]
  },
  {
   "cell_type": "markdown",
   "metadata": {
    "slideshow": {
     "slide_type": "subslide"
    }
   },
   "source": [
    "## Namespaces\n",
    "---\n",
    "* **Unqualified names:** (e.g., *X*) deal with scopes.\n",
    "* **Qualified attribute names:** (e.g., *object.X*) use object namespaces.\n",
    "* Some scopes initialize object namespaces (for modules and classes)."
   ]
  },
  {
   "cell_type": "code",
   "execution_count": 23,
   "metadata": {
    "slideshow": {
     "slide_type": "fragment"
    }
   },
   "outputs": [
    {
     "name": "stdout",
     "output_type": "stream",
     "text": [
      "unqualified_name Qualified_attribute_name\n"
     ]
    }
   ],
   "source": [
    "x = 'unqualified_name'\n",
    "\n",
    "class Demo:\n",
    "    x = 'Qualified_attribute_name'\n",
    "    \n",
    "z = Demo()\n",
    "print(x, z.x)"
   ]
  },
  {
   "cell_type": "markdown",
   "metadata": {
    "slideshow": {
     "slide_type": "subslide"
    }
   },
   "source": [
    "## Unqualified Names: Global Unless Assigned\n",
    "---\n",
    "* Assignment (*X = value*)\n",
    "    * Makes names local by default - creates or changes the name X in the current local scope, unless declared global\n",
    "* Reference (*X*)\n",
    "    * Looks for the name X with LEGB rule"
   ]
  },
  {
   "cell_type": "markdown",
   "metadata": {
    "slideshow": {
     "slide_type": "subslide"
    }
   },
   "source": [
    "Qualified Attribute Names: Object Namespaces\n",
    "---\n",
    "* Assignment (*object.X = value*)\n",
    "    * Creates or alters the attribute name X in the namespace of the object being qualified, and none other. \n",
    "* Reference (*object.X*)\n",
    "    * For class-based objects, searches for the attribute name X in object, then in all accessible classes above it, using the inheritance search procedure. For nonclass objects such as modules, fetches X from object directly"
   ]
  },
  {
   "cell_type": "markdown",
   "metadata": {
    "slideshow": {
     "slide_type": "subslide"
    }
   },
   "source": [
    "## The “Zen” of Namespaces: Assignments Classify Names\n",
    "---\n",
    "**The place where you *assign* a name is crucial - it fully determines the scope or object in which a name will reside**"
   ]
  },
  {
   "cell_type": "code",
   "execution_count": 24,
   "metadata": {
    "slideshow": {
     "slide_type": "subslide"
    }
   },
   "outputs": [],
   "source": [
    "# File manynames.py\n",
    "X = 11 # Global (module) name\n",
    "\n",
    "def f(): \n",
    "    print(X) # Access global X (11)\n",
    "    \n",
    "def g():\n",
    "    X = 22 # Local variable\n",
    "    print(X)\n",
    "    \n",
    "class DemoClass:\n",
    "    X = 33 # Class attribute (C.X)\n",
    "    def method(self): \n",
    "        X = 44 # Local variable in method\n",
    "        self.X = 55 # Instance attribute (instance.X)"
   ]
  },
  {
   "cell_type": "code",
   "execution_count": null,
   "metadata": {
    "slideshow": {
     "slide_type": "subslide"
    }
   },
   "outputs": [],
   "source": [
    "# manynames.py, continued\n",
    "if __name__ == '__main__':\n",
    "    print(X) # 11: module (a.k.a. manynames.X outside file)\n",
    "    f() # 11: global\n",
    "    g() # 22: local\n",
    "    print(X) # 11: module name unchanged\n",
    "    \n",
    "    obj = DemoClass() # Make instance\n",
    "    print(obj.X) # 33: class name inherited by instance\n",
    "    \n",
    "    obj.method() # Attach attribute name X to instance now\n",
    "    print(obj.X) # 55: instance\n",
    "    print(DemoClass.X) # 33: class (a.k.a. obj.X if no X in instance)\n",
    "    \n",
    "    print(DemoClass.X)  # FAILS: only visible in method\n",
    "    print(g.X) # FAILS: only visible in function\n",
    "'''\n",
    "class DemoClass:\n",
    "    X = 33 # Class attribute (C.X)\n",
    "    def method(self): \n",
    "        X = 44 # Local variable in method\n",
    "        self.X = 55 # Instance attribute (instance.X)\n",
    "'''    "
   ]
  },
  {
   "cell_type": "code",
   "execution_count": null,
   "metadata": {
    "slideshow": {
     "slide_type": "subslide"
    }
   },
   "outputs": [],
   "source": [
    "# otherfile.py\n",
    "import manynames\n",
    "\n",
    "X = 66 \n",
    "print(X) # 66: the global here\n",
    "print(manynames.X) # 11: globals become attributes after imports\n",
    "\n",
    "manynames.f() # 11: manynames's X, not the one here! \n",
    "manynames.g() # 22: local in other file's function\n",
    "\n",
    "print(manynames.DemoClass.X) # 33: attribute of class in other module\n",
    "\n",
    "I = manynames.DemoClass() \n",
    "print(I.X) # 33: still from class here\n",
    "\n",
    "I.m()\n",
    "print(I.X) # 55: now from instance!"
   ]
  },
  {
   "cell_type": "markdown",
   "metadata": {
    "slideshow": {
     "slide_type": "subslide"
    }
   },
   "source": [
    "## Exercise (10 min)\n",
    "---"
   ]
  },
  {
   "cell_type": "code",
   "execution_count": null,
   "metadata": {
    "slideshow": {
     "slide_type": "fragment"
    }
   },
   "outputs": [],
   "source": [
    "# Exercise\n",
    "X =1\n",
    "# enclosing function f\n",
    "def f(): \n",
    "    X = 2\n",
    "    print(X)\n",
    "    # nested class\n",
    "    class DemoClass:\n",
    "        X= 3\n",
    "        print(X)\n",
    "        def m1(self): \n",
    "            print(X) \n",
    "            print(self.X)\n",
    "        def m2(self): \n",
    "            X= 4 \n",
    "            print(X) \n",
    "            self.X = 5 \n",
    "            print(self.X)\n",
    "            \n",
    "    I = DemoClass() \n",
    "    I.m1() \n",
    "    I.m2()\n",
    "    \n",
    "print(X)\n",
    "f()"
   ]
  },
  {
   "cell_type": "code",
   "execution_count": 26,
   "metadata": {
    "slideshow": {
     "slide_type": "subslide"
    }
   },
   "outputs": [
    {
     "name": "stdout",
     "output_type": "stream",
     "text": [
      "1\n",
      "2\n",
      "3\n",
      "2\n",
      "3\n",
      "4\n",
      "5\n"
     ]
    }
   ],
   "source": [
    "# answer\n",
    "X =1\n",
    "# enclosing function f\n",
    "def f(): \n",
    "    X = 2 # Hides global\n",
    "    print(X) # Local: 2\n",
    "    # nested class\n",
    "    class DemoClass:\n",
    "        X = 3 # Class local hides nester's: C.X or I.X (not scoped)\n",
    "        print(X) # Local: 3\n",
    "        def m1(self): \n",
    "            print(X) # In enclosing def (not 3 in class!): 2\n",
    "            print(self.X) # Inherited class local: 3\n",
    "        def m2(self): \n",
    "            X= 4 # Hides enclosing (nester, not class)\n",
    "            print(X) # Local: 4\n",
    "            self.X = 5 # Hides class\n",
    "            print(self.X) # Located in instance: 5\n",
    "    \n",
    "    I = DemoClass() \n",
    "    I.m1() \n",
    "    I.m2()\n",
    "    \n",
    "print(X)\n",
    "f() "
   ]
  },
  {
   "cell_type": "markdown",
   "metadata": {
    "slideshow": {
     "slide_type": "slide"
    }
   },
   "source": [
    "## Operator Overloading\n",
    "---\n",
    "**operator overloading**  simply means intercepting built-in operations in a class’s methods"
   ]
  },
  {
   "cell_type": "markdown",
   "metadata": {
    "slideshow": {
     "slide_type": "subslide"
    }
   },
   "source": [
    "## Operator Overloading - key idea\n",
    "---\n",
    "* Operator overloading lets classes intercept normal Python operations.\n",
    "* Classes can overload all Python expression operators.\n",
    "* Classes can also overload built-in operations such as printing, function calls, attribute access, etc.\n",
    "* Overloading makes class instances act more like built-in types\n",
    "* Overloading is implemented by providing specially named methods in a class."
   ]
  },
  {
   "cell_type": "markdown",
   "metadata": {
    "slideshow": {
     "slide_type": "subslide"
    }
   },
   "source": [
    "## Constructor Method: ＿init＿"
   ]
  },
  {
   "cell_type": "code",
   "execution_count": 27,
   "metadata": {
    "slideshow": {
     "slide_type": "fragment"
    }
   },
   "outputs": [
    {
     "name": "stdout",
     "output_type": "stream",
     "text": [
      "Hello\n"
     ]
    }
   ],
   "source": [
    "# __init__ is run when a new instance object is created\n",
    "class Super:\n",
    "    def __init__(self, x):\n",
    "        self.x = x\n",
    "z = Super('Hello')\n",
    "print(z.x)"
   ]
  },
  {
   "cell_type": "markdown",
   "metadata": {
    "slideshow": {
     "slide_type": "subslide"
    }
   },
   "source": [
    "## Operator ‘+’ Method: ＿add＿"
   ]
  },
  {
   "cell_type": "code",
   "execution_count": 29,
   "metadata": {
    "slideshow": {
     "slide_type": "fragment"
    }
   },
   "outputs": [
    {
     "name": "stdout",
     "output_type": "stream",
     "text": [
      "7\n"
     ]
    }
   ],
   "source": [
    "class Number:\n",
    "    def __init__(self, start):\n",
    "        self.data = start\n",
    "    def __add__(self, other):\n",
    "        return Number(self.data + other)\n",
    "\n",
    "x = Number(5)\n",
    "y = x + 2\n",
    "print(y.data)"
   ]
  },
  {
   "cell_type": "code",
   "execution_count": 30,
   "metadata": {
    "slideshow": {
     "slide_type": "fragment"
    }
   },
   "outputs": [
    {
     "name": "stdout",
     "output_type": "stream",
     "text": [
      "Hello World\n"
     ]
    }
   ],
   "source": [
    "class Number:\n",
    "    def __init__(self, start):\n",
    "        self.data = start\n",
    "    def __add__(self, other):\n",
    "        return Number(self.data + other)\n",
    "\n",
    "x = Number('Hello ')\n",
    "y = x + 'World'\n",
    "print(y.data)"
   ]
  },
  {
   "cell_type": "markdown",
   "metadata": {
    "slideshow": {
     "slide_type": "subslide"
    }
   },
   "source": [
    "## Operator ‘-’ Method: ＿sub＿"
   ]
  },
  {
   "cell_type": "code",
   "execution_count": 31,
   "metadata": {
    "slideshow": {
     "slide_type": "fragment"
    }
   },
   "outputs": [
    {
     "name": "stdout",
     "output_type": "stream",
     "text": [
      "2\n"
     ]
    }
   ],
   "source": [
    "class Number:\n",
    "    def __init__(self, start):\n",
    "        self.data = start\n",
    "    def __sub__(self, other):\n",
    "        return Number(self.data - other)\n",
    "\n",
    "x = Number(5)\n",
    "y = x - 3\n",
    "print(y.data)"
   ]
  },
  {
   "cell_type": "markdown",
   "metadata": {
    "slideshow": {
     "slide_type": "subslide"
    }
   },
   "source": [
    "##  Operator ‘＊’ Method: ＿mul＿\n",
    "--- \n",
    "(10 min) 建立class Demo, overloading 乘法。\n",
    "* example:\n",
    "    * a = Demo('Hello')\n",
    "    * a.display() >> Hello\n",
    "    * b = a * 3 \n",
    "    * b.display() >>  HelloHelloHello"
   ]
  },
  {
   "cell_type": "code",
   "execution_count": 32,
   "metadata": {
    "slideshow": {
     "slide_type": "subslide"
    }
   },
   "outputs": [
    {
     "name": "stdout",
     "output_type": "stream",
     "text": [
      "current data: Hello\n",
      "current data: HelloHelloHello\n"
     ]
    }
   ],
   "source": [
    "# answer\n",
    "#__mul__ is run when a Demo instance appears in a * expression\n",
    "class Demo(): \n",
    "    def __init__(self, value):\n",
    "        self.data = value\n",
    "    def __mul__(self, other):\n",
    "        return Demo(self.data * other)\n",
    "    def display(self):\n",
    "        print('current data:',self.data)\n",
    "    \n",
    "a = Demo('Hello')\n",
    "a.display()\n",
    "b = a * 3\n",
    "b.display()"
   ]
  },
  {
   "cell_type": "markdown",
   "metadata": {
    "slideshow": {
     "slide_type": "subslide"
    }
   },
   "source": [
    "## Operator Method:  ＿str＿"
   ]
  },
  {
   "cell_type": "code",
   "execution_count": 33,
   "metadata": {
    "slideshow": {
     "slide_type": "fragment"
    }
   },
   "outputs": [
    {
     "name": "stdout",
     "output_type": "stream",
     "text": [
      "Demo: 3\n"
     ]
    }
   ],
   "source": [
    "class Demo(): \n",
    "    def __init__(self, value):\n",
    "        self.data = value\n",
    "    def __str__(self):\n",
    "        return ('Demo: %s' % self.data)\n",
    "\n",
    "a = Demo(3)\n",
    "print(a)"
   ]
  },
  {
   "cell_type": "code",
   "execution_count": 34,
   "metadata": {
    "slideshow": {
     "slide_type": "fragment"
    }
   },
   "outputs": [
    {
     "name": "stdout",
     "output_type": "stream",
     "text": [
      "<__main__.Demo object at 0x10878e6d8>\n"
     ]
    }
   ],
   "source": [
    " class Demo(): \n",
    "    def __init__(self, value):\n",
    "        self.data = value\n",
    "\n",
    "a = Demo('Hello')\n",
    "print(a)"
   ]
  },
  {
   "cell_type": "markdown",
   "metadata": {
    "slideshow": {
     "slide_type": "subslide"
    }
   },
   "source": [
    "## Operator Method:  ＿getitem＿"
   ]
  },
  {
   "cell_type": "code",
   "execution_count": 35,
   "metadata": {
    "slideshow": {
     "slide_type": "fragment"
    }
   },
   "outputs": [
    {
     "data": {
      "text/plain": [
       "3"
      ]
     },
     "execution_count": 35,
     "metadata": {},
     "output_type": "execute_result"
    }
   ],
   "source": [
    "list = [1, 2, 3, 4]\n",
    "list[2]"
   ]
  },
  {
   "cell_type": "code",
   "execution_count": 36,
   "metadata": {
    "slideshow": {
     "slide_type": "fragment"
    }
   },
   "outputs": [
    {
     "name": "stdout",
     "output_type": "stream",
     "text": [
      "4\n",
      "0 2 4 6 8 "
     ]
    }
   ],
   "source": [
    "class DemoIndex:\n",
    "    def __getitem__(self, index):\n",
    "        return index * 2\n",
    "x = DemoIndex()\n",
    "print(x[2])\n",
    "\n",
    "for i in range(5): \n",
    "    print(x[i], end=' ')"
   ]
  },
  {
   "cell_type": "code",
   "execution_count": 37,
   "metadata": {
    "slideshow": {
     "slide_type": "subslide"
    }
   },
   "outputs": [
    {
     "name": "stdout",
     "output_type": "stream",
     "text": [
      "5\n",
      "3 4 5 6 7 "
     ]
    }
   ],
   "source": [
    "class DemoIndex:\n",
    "    def __getitem__(self, index):\n",
    "        return index + 3\n",
    "x = DemoIndex()\n",
    "print(x[2])\n",
    "\n",
    "for i in range(5): \n",
    "    print(x[i], end=' ')"
   ]
  },
  {
   "cell_type": "markdown",
   "metadata": {
    "slideshow": {
     "slide_type": "subslide"
    }
   },
   "source": [
    "## Operator Method:  ＿getitem＿ (10min)\n",
    "---\n",
    "* example:\n",
    "    * x = DemoIndex('HelloWorld')\n",
    "    * x[5] # print(x[5]) = 'W'\n",
    "    * x[6] # print(x[6]) = 'o'"
   ]
  },
  {
   "cell_type": "code",
   "execution_count": 38,
   "metadata": {
    "slideshow": {
     "slide_type": "fragment"
    }
   },
   "outputs": [
    {
     "data": {
      "text/plain": [
       "'a'"
      ]
     },
     "execution_count": 38,
     "metadata": {},
     "output_type": "execute_result"
    }
   ],
   "source": [
    "# built-in type example\n",
    "string = \"spam\"\n",
    "string[2]"
   ]
  },
  {
   "cell_type": "code",
   "execution_count": 39,
   "metadata": {
    "slideshow": {
     "slide_type": "subslide"
    }
   },
   "outputs": [
    {
     "name": "stdout",
     "output_type": "stream",
     "text": [
      "W\n",
      "o\n"
     ]
    }
   ],
   "source": [
    "# answer\n",
    "class DemoIndex:\n",
    "    def __init__(self, s):\n",
    "        self.value = s\n",
    "    def __getitem__(self, i):\n",
    "        return self.value[i]\n",
    "\n",
    "z = DemoIndex('HelloWorld')\n",
    "print(z[5])\n",
    "print(z[6])"
   ]
  },
  {
   "cell_type": "markdown",
   "metadata": {
    "slideshow": {
     "slide_type": "slide"
    }
   },
   "source": [
    "## [X-Village Python Programming - 作業1](https://hackmd.io/Oy66r5PkSNC7xoHbhZkwug)"
   ]
  }
 ],
 "metadata": {
  "celltoolbar": "Slideshow",
  "kernelspec": {
   "display_name": "Python 3",
   "language": "python",
   "name": "python3"
  },
  "language_info": {
   "codemirror_mode": {
    "name": "ipython",
    "version": 3
   },
   "file_extension": ".py",
   "mimetype": "text/x-python",
   "name": "python",
   "nbconvert_exporter": "python",
   "pygments_lexer": "ipython3",
   "version": "3.6.5"
  }
 },
 "nbformat": 4,
 "nbformat_minor": 2
}
