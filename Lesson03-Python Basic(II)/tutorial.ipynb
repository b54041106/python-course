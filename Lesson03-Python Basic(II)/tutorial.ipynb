{
 "cells": [
  {
   "cell_type": "markdown",
   "metadata": {
    "slideshow": {
     "slide_type": "slide"
    }
   },
   "source": [
    "# 模組與套件\n",
    "## Module and Package"
   ]
  },
  {
   "cell_type": "markdown",
   "metadata": {
    "slideshow": {
     "slide_type": "slide"
    }
   },
   "source": [
    "# 模組\n",
    "1. 生活中的模組\n",
    "2. 模組是什麼？\n",
    "3. 為什麼要用模組？\n",
    "4. Python 中的模組\n",
    "5. 如何使用模組\n",
    "6. 課程練習：動手寫 module"
   ]
  },
  {
   "cell_type": "markdown",
   "metadata": {
    "slideshow": {
     "slide_type": "slide"
    }
   },
   "source": [
    "# 生活中的模組(1/4)\n",
    "豬"
   ]
  },
  {
   "cell_type": "markdown",
   "metadata": {
    "slideshow": {
     "slide_type": "subslide"
    }
   },
   "source": [
    "# 生活中的模組(2/4)\n",
    "室內平面圖"
   ]
  },
  {
   "cell_type": "markdown",
   "metadata": {
    "slideshow": {
     "slide_type": "subslide"
    }
   },
   "source": [
    "# 生活中的模組(3/4)\n",
    "手機"
   ]
  },
  {
   "cell_type": "markdown",
   "metadata": {
    "slideshow": {
     "slide_type": "subslide"
    }
   },
   "source": [
    "# 生活中的模組(4/4)\n",
    "\n",
    "1. 當你想吃豬腳，你不用買一隻豬\n",
    "2. 你知道要去廚房，才能找到流理臺\n",
    "3. 電池壞掉的時候，不用去修理螢幕"
   ]
  },
  {
   "cell_type": "markdown",
   "metadata": {
    "slideshow": {
     "slide_type": "fragment"
    }
   },
   "source": [
    "## 那在軟體中的模組是什麼？"
   ]
  },
  {
   "cell_type": "markdown",
   "metadata": {
    "slideshow": {
     "slide_type": "slide"
    }
   },
   "source": [
    "# 模組是什麼？(1/3)\n",
    "模組是組成軟體的元件、或者是包含一個以上流程的部分程式。\n",
    "\n",
    "A module is a software component or part of a program that contains one or more routines."
   ]
  },
  {
   "cell_type": "markdown",
   "metadata": {
    "slideshow": {
     "slide_type": "subslide"
    }
   },
   "source": [
    "# 模組是什麼？(2/3)\n",
    "模組可以讓程式設計人員的工作更容易，因為可以專注在整個軟體中的特定的功能。\n",
    "\n",
    "Modules make a programmer's job easy by allowing the programmer to focus on only one area of the functionality of the software application. "
   ]
  },
  {
   "cell_type": "markdown",
   "metadata": {
    "slideshow": {
     "slide_type": "subslide"
    }
   },
   "source": [
    "# 模組是什麼？(3/3)\n",
    "模組透過介面整合進軟體。\n",
    "\n",
    "Modules are typically incorporated into the program (software) through interfaces."
   ]
  },
  {
   "cell_type": "markdown",
   "metadata": {
    "slideshow": {
     "slide_type": "slide"
    }
   },
   "source": [
    "# 為什麼要用模組\n",
    "\n",
    "1. 讓你站在巨人的肩膀上\n",
    "2. 整理你的程式碼"
   ]
  },
  {
   "cell_type": "markdown",
   "metadata": {
    "slideshow": {
     "slide_type": "subslide"
    }
   },
   "source": [
    "# Python 中的模組"
   ]
  },
  {
   "cell_type": "code",
   "execution_count": 12,
   "metadata": {
    "slideshow": {
     "slide_type": "fragment"
    }
   },
   "outputs": [
    {
     "data": {
      "text/plain": [
       "0.4479218803080278"
      ]
     },
     "execution_count": 12,
     "metadata": {},
     "output_type": "execute_result"
    }
   ],
   "source": [
    "import random\n",
    "random.random()"
   ]
  },
  {
   "cell_type": "code",
   "execution_count": 13,
   "metadata": {
    "slideshow": {
     "slide_type": "fragment"
    }
   },
   "outputs": [
    {
     "data": {
      "text/plain": [
       "92"
      ]
     },
     "execution_count": 13,
     "metadata": {},
     "output_type": "execute_result"
    }
   ],
   "source": [
    "random.randint(1,100)"
   ]
  },
  {
   "cell_type": "markdown",
   "metadata": {
    "slideshow": {
     "slide_type": "fragment"
    }
   },
   "source": [
    "看文件：https://docs.python.org/3/library/random.html#module-random"
   ]
  },
  {
   "cell_type": "markdown",
   "metadata": {},
   "source": [
    "# 如何使用模組\n",
    "\n",
    "每個 ```*.py``` 檔案，都是模組。\n",
    "\n",
    "每個模組，可以包含一個以上的 function，class 和 variable。 "
   ]
  },
  {
   "cell_type": "code",
   "execution_count": 14,
   "metadata": {
    "slideshow": {
     "slide_type": "fragment"
    }
   },
   "outputs": [],
   "source": [
    "# sample.py\n",
    "def hello():\n",
    "  print('hello!')"
   ]
  },
  {
   "cell_type": "code",
   "execution_count": 15,
   "metadata": {
    "slideshow": {
     "slide_type": "fragment"
    }
   },
   "outputs": [
    {
     "name": "stdout",
     "output_type": "stream",
     "text": [
      "hello!\n"
     ]
    }
   ],
   "source": [
    "import sample\n",
    "sample.hello()"
   ]
  },
  {
   "cell_type": "code",
   "execution_count": 16,
   "metadata": {
    "slideshow": {
     "slide_type": "fragment"
    }
   },
   "outputs": [
    {
     "name": "stdout",
     "output_type": "stream",
     "text": [
      "hello!\n"
     ]
    }
   ],
   "source": [
    "import sample as s\n",
    "s.hello()"
   ]
  },
  {
   "cell_type": "code",
   "execution_count": 17,
   "metadata": {
    "scrolled": false,
    "slideshow": {
     "slide_type": "fragment"
    }
   },
   "outputs": [
    {
     "name": "stdout",
     "output_type": "stream",
     "text": [
      "hello!\n"
     ]
    }
   ],
   "source": [
    "from sample import hello\n",
    "hello()"
   ]
  },
  {
   "cell_type": "markdown",
   "metadata": {
    "slideshow": {
     "slide_type": "slide"
    }
   },
   "source": [
    "# 課程練習：動手寫 module x min\n",
    "1. zoo\n",
    "2. calc\n",
    "3. up to you"
   ]
  },
  {
   "cell_type": "markdown",
   "metadata": {
    "slideshow": {
     "slide_type": "slide"
    }
   },
   "source": [
    "# 套件\n",
    "1. 什麼是套件\n",
    "2. 如何使用套件\n",
    "3. 如何找模組/套件\n",
    "4. 課程練習：動手寫 package\n",
    "5. 課程練習：練習使用套件"
   ]
  },
  {
   "cell_type": "markdown",
   "metadata": {},
   "source": [
    "# 什麼是套件\n",
    "檔案 vs 目錄\n",
    "工具 vs 工具箱"
   ]
  },
  {
   "cell_type": "markdown",
   "metadata": {},
   "source": [
    "# 如何定義套件"
   ]
  },
  {
   "cell_type": "markdown",
   "metadata": {},
   "source": [
    "# 課程練習：動手寫 package x min"
   ]
  },
  {
   "cell_type": "markdown",
   "metadata": {},
   "source": [
    "# 如何找套件\n",
    "in 直譯器\n",
    "google \n",
    "doc"
   ]
  },
  {
   "cell_type": "markdown",
   "metadata": {},
   "source": [
    "# 課程練習：練習使用套件 x min"
   ]
  },
  {
   "cell_type": "markdown",
   "metadata": {
    "slideshow": {
     "slide_type": "slide"
    }
   },
   "source": [
    "# 延伸閱讀\n",
    "1. https://www.techopedia.com/definition/3843/module\n",
    "2. https://kaochenlong.com/2011/10/13/python-module/\n",
    "3. https://medium.com/pyladies-taiwan/python-的-import-陷阱-3538e74f57e3\n",
    "4. https://www.learnpython.org/en/Modules_and_Packages\n",
    "5. https://blog.revathskumar.com/2011/10/python-list-all-packages-installed.html\n",
    "6. https://docs.python.org/3/tutorial/modules.html"
   ]
  }
 ],
 "metadata": {
  "celltoolbar": "Slideshow",
  "kernelspec": {
   "display_name": "Python 3",
   "language": "python",
   "name": "python3"
  },
  "language_info": {
   "codemirror_mode": {
    "name": "ipython",
    "version": 3
   },
   "file_extension": ".py",
   "mimetype": "text/x-python",
   "name": "python",
   "nbconvert_exporter": "python",
   "pygments_lexer": "ipython3",
   "version": "3.5.2"
  }
 },
 "nbformat": 4,
 "nbformat_minor": 2
}
