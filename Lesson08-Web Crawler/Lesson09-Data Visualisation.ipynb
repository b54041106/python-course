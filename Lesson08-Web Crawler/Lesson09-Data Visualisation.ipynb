{
 "cells": [
  {
   "cell_type": "markdown",
   "metadata": {
    "slideshow": {
     "slide_type": "slide"
    }
   },
   "source": [
    "# [X-Village] Lesson 09 - Data Visualisation\n",
    "## By 呂伯駿 (Po Chun)"
   ]
  },
  {
   "cell_type": "markdown",
   "metadata": {
    "slideshow": {
     "slide_type": "subslide"
    }
   },
   "source": [
    "在開始之前，幫我先寫下面那段程式碼，測試你有沒有裝一些待會要用的套件"
   ]
  },
  {
   "cell_type": "code",
   "execution_count": 2,
   "metadata": {
    "slideshow": {
     "slide_type": "-"
    }
   },
   "outputs": [
    {
     "name": "stdout",
     "output_type": "stream",
     "text": [
      "import success\n"
     ]
    }
   ],
   "source": [
    "# test.py\n",
    "import pandas as pd\n",
    "import numpy as np\n",
    "import matplotlib.pyplot as plt\n",
    "print('import success')"
   ]
  },
  {
   "cell_type": "markdown",
   "metadata": {
    "slideshow": {
     "slide_type": "-"
    }
   },
   "source": [
    "如果你有裝Anaconda，通常不會跳錯誤。\n",
    "如果跳錯誤的話： 可以裝一下"
   ]
  },
  {
   "cell_type": "code",
   "execution_count": null,
   "metadata": {
    "slideshow": {
     "slide_type": "-"
    }
   },
   "outputs": [],
   "source": [
    "# 如果你有裝 Anaconda\n",
    "conda install pandas numpy matplotlib\n",
    "\n",
    "# 如果你沒有裝 Anaconda\n",
    "pip install pandas numpy matplotlib"
   ]
  },
  {
   "cell_type": "markdown",
   "metadata": {
    "slideshow": {
     "slide_type": "slide"
    }
   },
   "source": [
    "### 今天下午你應該會學到\n",
    "- Pandas: 一種常用來處理資料的 package\n",
    "- Matplotlib: 一種常用來做視覺化，繪製圖表的 package \n",
    "- numpy: 一種常用來做數學運算的package，這個在 AI 很常用。\n",
    "\n",
    "這些 package 的基本用法\n",
    "\n",
    "### 照慣例 有用過 pandas, numpy, Matplotlib 的舉手 ✋ ~"
   ]
  },
  {
   "cell_type": "markdown",
   "metadata": {
    "slideshow": {
     "slide_type": "subslide"
    }
   },
   "source": [
    "## 開始! 🐌"
   ]
  },
  {
   "cell_type": "markdown",
   "metadata": {
    "slideshow": {
     "slide_type": "slide"
    }
   },
   "source": [
    "## 1. Pandas 能做到什麼？\n",
    "- 你在 excel 中能做到的大部分他都能做到\n",
    "    - 匯入 CSV檔\n",
    "    - 建立表格，選取欄位\n",
    "    - 處理空值\n",
    "    - 查看統計數字\n",
    "    - 排序，計算欄位平均值，相關係數...\n",
    "    - ...\n",
    "\n",
    "#### 接下來你會學到\n",
    "- pandas 的兩種常用物件\n",
    "- 排序，合併，讀取數據，統計數字，空值處理"
   ]
  },
  {
   "cell_type": "markdown",
   "metadata": {
    "slideshow": {
     "slide_type": "subslide"
    }
   },
   "source": [
    "### 先安裝，如果剛才你沒有裝的話"
   ]
  },
  {
   "cell_type": "code",
   "execution_count": null,
   "metadata": {},
   "outputs": [],
   "source": [
    "# 如果你有裝Anaconda，跑下面這一行\n",
    "conda install pandas\n",
    "\n",
    "# 如果你沒有裝Anaconda，跑下面這一行\n",
    "pip install pandas"
   ]
  },
  {
   "cell_type": "markdown",
   "metadata": {
    "slideshow": {
     "slide_type": "subslide"
    }
   },
   "source": [
    "### 在使用之前，你需要先知道 pandas 有兩種物件\n",
    "\n",
    "- Series：通常拿來處理一維資料，如時間序列。\n",
    "- Dataframe：有點像Table，用來處理 csv 這種列有索引，欄有標籤的二維資料。\n",
    "\n",
    "##### 其實還有第三種叫 Panel，通常處理三維的資料，但較少用因此這裡先不提。"
   ]
  },
  {
   "cell_type": "markdown",
   "metadata": {
    "slideshow": {
     "slide_type": "subslide"
    }
   },
   "source": [
    "### 先講 Series\n",
    "#### 建立方式"
   ]
  },
  {
   "cell_type": "code",
   "execution_count": 13,
   "metadata": {
    "slideshow": {
     "slide_type": "-"
    }
   },
   "outputs": [
    {
     "name": "stdout",
     "output_type": "stream",
     "text": [
      "<class 'pandas.core.series.Series'>\n",
      "Alex     Labrador Retriever\n",
      "Alice                Beagle\n",
      "Neo               Dachshund\n",
      "Kenny             Shiba Inu\n",
      "dtype: object\n"
     ]
    }
   ],
   "source": [
    "import pandas as pd\n",
    "# 若不加後面的index，則index預設是0,1,2,3...\n",
    "pets = ['Labrador Retriever', 'Beagle', 'Dachshund', 'Shiba Inu']\n",
    "pets_index = ['Alex', 'Alice', 'Neo', 'Kenny']\n",
    "series_1 =  pd.Series(pets,index=pets_index)\n",
    "print(type(series_1))\n",
    "print(series_1)"
   ]
  },
  {
   "cell_type": "code",
   "execution_count": 37,
   "metadata": {
    "slideshow": {
     "slide_type": "subslide"
    }
   },
   "outputs": [
    {
     "name": "stdout",
     "output_type": "stream",
     "text": [
      "Labrador Retriever\n",
      "--\n",
      "Alex     Labrador Retriever\n",
      "Alice                Beagle\n",
      "Neo               Dachshund\n",
      "dtype: object\n",
      "--\n",
      "Labrador Retriever\n",
      "--\n",
      "Alex     Labrador Retriever\n",
      "Alice                Beagle\n",
      "dtype: object\n",
      "--------------\n",
      "Alice    Beagle\n",
      "dtype: object\n",
      "--------------\n",
      "Neo      Dachshund\n",
      "Kenny    Shiba Inu\n",
      "dtype: object\n"
     ]
    }
   ],
   "source": [
    "# 資料選取方式\n",
    "# 使用上，你可以使用index 或是 key name來選取\n",
    "print(series_1[0])\n",
    "print('-'*20)\n",
    "print(series_1[[0,1,2]])\n",
    "print('-'*20)\n",
    "print(series_1['Alex'])\n",
    "print('-'*20)\n",
    "print(series_1[['Alex','Alice']])"
   ]
  },
  {
   "cell_type": "code",
   "execution_count": 41,
   "metadata": {
    "slideshow": {
     "slide_type": "subslide"
    }
   },
   "outputs": [
    {
     "name": "stdout",
     "output_type": "stream",
     "text": [
      "Alice    Beagle\n",
      "dtype: object\n",
      "--------------\n",
      "Alex     Labrador Retriever\n",
      "Alice                Beagle\n",
      "Neo               Dachshund\n",
      "dtype: object\n"
     ]
    }
   ],
   "source": [
    "# 也可以像這樣選取連續資料，因此說是序列的\n",
    "print(series_1[1:2]) # 從第2個到第3個\n",
    "print('-'*20)\n",
    "print(series_1[:'Neo']) #從第一個 ~ Neo"
   ]
  },
  {
   "cell_type": "markdown",
   "metadata": {
    "slideshow": {
     "slide_type": "subslide"
    }
   },
   "source": [
    "### Series 跟一般的list比起來有何好處？"
   ]
  },
  {
   "cell_type": "code",
   "execution_count": 13,
   "metadata": {
    "slideshow": {
     "slide_type": "subslide"
    }
   },
   "outputs": [
    {
     "name": "stdout",
     "output_type": "stream",
     "text": [
      "0     15\n",
      "1     60\n",
      "2    200\n",
      "3     60\n",
      "dtype: int64\n"
     ]
    }
   ],
   "source": [
    "# 1. 可以直接對兩個Series做加減乘除\n",
    "price = pd.Series([15,20,40,10])\n",
    "counts = pd.Series([1,3,5,6])\n",
    "total_price = price*counts\n",
    "print(total_price)"
   ]
  },
  {
   "cell_type": "markdown",
   "metadata": {
    "slideshow": {
     "slide_type": "subslide"
    }
   },
   "source": [
    "#### 2. 運行速度快\n",
    "同樣的存取動作會比 List 快十倍(之後附圖)"
   ]
  },
  {
   "cell_type": "markdown",
   "metadata": {
    "slideshow": {
     "slide_type": "subslide"
    }
   },
   "source": [
    "### 接著講 Dataframe\n",
    "\n",
    "#### 建立方式"
   ]
  },
  {
   "cell_type": "code",
   "execution_count": 48,
   "metadata": {},
   "outputs": [
    {
     "name": "stdout",
     "output_type": "stream",
     "text": [
      "        pm10       pm25\n",
      "0  81.616714  55.480025\n",
      "1  21.346714  55.480055\n",
      "2  81.546714  55.416055\n",
      "3  61.646714  55.430055\n",
      "4  31.746714  55.280055\n"
     ]
    }
   ],
   "source": [
    "import pandas as pd\n",
    "\n",
    "pm25 = [55.4800251788,55.4800551787,55.4160551788,55.4300551788,55.2800551788]\n",
    "pm10 = [81.6167142157,21.3467142857,81.5467144857,61.6467142857,31.7467142857]\n",
    "dict = {'pm25': pm25,'pm10':pm10}\n",
    "df = pd.DataFrame(dict)\n",
    "print(df)"
   ]
  },
  {
   "cell_type": "code",
   "execution_count": 48,
   "metadata": {
    "slideshow": {
     "slide_type": "subslide"
    }
   },
   "outputs": [
    {
     "name": "stdout",
     "output_type": "stream",
     "text": [
      "        pm25       pm10\n",
      "0  52.480055  83.646714\n",
      "1  51.480055  85.646714\n",
      "2  59.480055  87.646714\n",
      "3  55.480055  89.646714\n",
      "4  57.480055  80.646714\n",
      "--------------------\n",
      "0    52.480055\n",
      "1    51.480055\n",
      "2    59.480055\n",
      "3    55.480055\n",
      "4    57.480055\n",
      "Name: pm25, dtype: float64\n",
      "83.6467142857\n"
     ]
    }
   ],
   "source": [
    "# 如果你的資料本身已經是 二維矩陣 你也可以這樣建立\n",
    "import pandas as pd\n",
    "\n",
    "table = [\n",
    "    [52.4800551788,83.6467142857],\n",
    "    [51.4800551788,85.6467142857],\n",
    "    [59.4800551788,87.6467142857],\n",
    "    [55.4800551788,89.6467142857],\n",
    "    [57.4800551788,80.6467142857]\n",
    "]\n",
    "df = pd.DataFrame(table,columns = ['pm25','pm10'])\n",
    "print(df)\n",
    "print('-'*20)\n",
    "print(df['pm25'])\n",
    "print(df.iloc[0,1]) # 選取第一列 (0)，第二欄(1)的數值"
   ]
  },
  {
   "cell_type": "markdown",
   "metadata": {
    "slideshow": {
     "slide_type": "subslide"
    }
   },
   "source": [
    "### pandas 能直接對資料做排序\n",
    "透過 .sort_values 與 .sort_index 處理"
   ]
  },
  {
   "cell_type": "code",
   "execution_count": 36,
   "metadata": {
    "slideshow": {
     "slide_type": "-"
    }
   },
   "outputs": [
    {
     "data": {
      "text/html": [
       "<div>\n",
       "<style>\n",
       "    .dataframe thead tr:only-child th {\n",
       "        text-align: right;\n",
       "    }\n",
       "\n",
       "    .dataframe thead th {\n",
       "        text-align: left;\n",
       "    }\n",
       "\n",
       "    .dataframe tbody tr th {\n",
       "        vertical-align: top;\n",
       "    }\n",
       "</style>\n",
       "<table border=\"1\" class=\"dataframe\">\n",
       "  <thead>\n",
       "    <tr style=\"text-align: right;\">\n",
       "      <th></th>\n",
       "      <th>pm25</th>\n",
       "      <th>pm10</th>\n",
       "    </tr>\n",
       "  </thead>\n",
       "  <tbody>\n",
       "    <tr>\n",
       "      <th>4</th>\n",
       "      <td>57.480055</td>\n",
       "      <td>80.646714</td>\n",
       "    </tr>\n",
       "    <tr>\n",
       "      <th>3</th>\n",
       "      <td>55.480055</td>\n",
       "      <td>89.646714</td>\n",
       "    </tr>\n",
       "    <tr>\n",
       "      <th>2</th>\n",
       "      <td>59.480055</td>\n",
       "      <td>87.646714</td>\n",
       "    </tr>\n",
       "    <tr>\n",
       "      <th>1</th>\n",
       "      <td>51.480055</td>\n",
       "      <td>85.646714</td>\n",
       "    </tr>\n",
       "    <tr>\n",
       "      <th>0</th>\n",
       "      <td>52.480055</td>\n",
       "      <td>83.646714</td>\n",
       "    </tr>\n",
       "  </tbody>\n",
       "</table>\n",
       "</div>"
      ],
      "text/plain": [
       "        pm25       pm10\n",
       "4  57.480055  80.646714\n",
       "3  55.480055  89.646714\n",
       "2  59.480055  87.646714\n",
       "1  51.480055  85.646714\n",
       "0  52.480055  83.646714"
      ]
     },
     "execution_count": 36,
     "metadata": {},
     "output_type": "execute_result"
    }
   ],
   "source": [
    "import pandas as pd\n",
    "\n",
    "table = [\n",
    "    [52.4800551788,83.6467142857],\n",
    "    [51.4800551788,85.6467142857],\n",
    "    [59.4800551788,87.6467142857],\n",
    "    [55.4800551788,89.6467142857],\n",
    "    [57.4800551788,80.6467142857]\n",
    "]\n",
    "df = pd.DataFrame(table,columns = ['pm25','pm10'])\n",
    "df.sort_values(by = 'pm25',ascending=False) # ascending 可調整升降冪\n",
    "df.sort_index(axis=0, ascending=False) # ascending 可調整升降冪"
   ]
  },
  {
   "cell_type": "markdown",
   "metadata": {
    "slideshow": {
     "slide_type": "subslide"
    }
   },
   "source": [
    "### 也能夠合併兩組資料\n",
    "可使用 \n",
    "- .concat: 水平或垂直整併\n",
    "    - join: 將有相同欄位的資料合併，沒有則建立一列新的資料\n",
    "    - join_axis: 決定合併欄或列\n",
    "- .merge:"
   ]
  },
  {
   "cell_type": "markdown",
   "metadata": {
    "slideshow": {
     "slide_type": "subslide"
    }
   },
   "source": [
    "先看文件\n",
    "[.concate 與 .merge 文件連結](https://pandas.pydata.org/pandas-docs/stable/merging.html)\n",
    "<img src=\"https://i.imgur.com/s8VbLki.png\">"
   ]
  },
  {
   "cell_type": "code",
   "execution_count": 23,
   "metadata": {
    "slideshow": {
     "slide_type": "subslide"
    }
   },
   "outputs": [
    {
     "data": {
      "text/html": [
       "<div>\n",
       "<style>\n",
       "    .dataframe thead tr:only-child th {\n",
       "        text-align: right;\n",
       "    }\n",
       "\n",
       "    .dataframe thead th {\n",
       "        text-align: left;\n",
       "    }\n",
       "\n",
       "    .dataframe tbody tr th {\n",
       "        vertical-align: top;\n",
       "    }\n",
       "</style>\n",
       "<table border=\"1\" class=\"dataframe\">\n",
       "  <thead>\n",
       "    <tr style=\"text-align: right;\">\n",
       "      <th></th>\n",
       "      <th>pm25</th>\n",
       "      <th>pm10</th>\n",
       "    </tr>\n",
       "  </thead>\n",
       "  <tbody>\n",
       "    <tr>\n",
       "      <th>0</th>\n",
       "      <td>52.480055</td>\n",
       "      <td>83.646714</td>\n",
       "    </tr>\n",
       "    <tr>\n",
       "      <th>1</th>\n",
       "      <td>51.480055</td>\n",
       "      <td>85.646714</td>\n",
       "    </tr>\n",
       "    <tr>\n",
       "      <th>2</th>\n",
       "      <td>59.480055</td>\n",
       "      <td>87.646714</td>\n",
       "    </tr>\n",
       "    <tr>\n",
       "      <th>3</th>\n",
       "      <td>55.480055</td>\n",
       "      <td>89.646714</td>\n",
       "    </tr>\n",
       "    <tr>\n",
       "      <th>4</th>\n",
       "      <td>57.480055</td>\n",
       "      <td>80.646714</td>\n",
       "    </tr>\n",
       "  </tbody>\n",
       "</table>\n",
       "</div>"
      ],
      "text/plain": [
       "        pm25       pm10\n",
       "0  52.480055  83.646714\n",
       "1  51.480055  85.646714\n",
       "2  59.480055  87.646714\n",
       "3  55.480055  89.646714\n",
       "4  57.480055  80.646714"
      ]
     },
     "execution_count": 23,
     "metadata": {},
     "output_type": "execute_result"
    }
   ],
   "source": [
    "# concat\n",
    "import pandas as pd\n",
    "\n",
    "table_1 = [\n",
    "    [52.4800551788,83.6467142857],\n",
    "    [51.4800551788,85.6467142857]\n",
    "]\n",
    "table_2 = [\n",
    "    [59.4800551788,87.6467142857],\n",
    "    [55.4800551788,89.6467142857],\n",
    "    [57.4800551788,80.6467142857]\n",
    "]\n",
    "df_1 = pd.DataFrame(table_1,columns = ['pm25','pm10'])\n",
    "df_2 = pd.DataFrame(table_2,columns = ['pm25','pm10'])\n",
    "# axis=0 -> 合併時新增列, ignore_index=True 將會將最左側 index重置 (否則會是0,1,0,1,2)\n",
    "df_3 = pd.concat([df_1, df_2], axis=0, ignore_index=True)\n",
    "\n",
    "df_3.head()"
   ]
  },
  {
   "cell_type": "code",
   "execution_count": 26,
   "metadata": {
    "slideshow": {
     "slide_type": "subslide"
    }
   },
   "outputs": [
    {
     "name": "stdout",
     "output_type": "stream",
     "text": [
      "  class       name  math_score        name  eng_score\n",
      "0     A       Noah        90.0        Noah         92\n",
      "1     B       Liam        81.0        Liam         83\n",
      "2     C    William         NaN     William         76\n",
      "3     B  Benjamin.        82.0   Benjamin.         82\n",
      "4     A      Emma.        90.0       Emma.         90\n",
      "5     C     Olivia         NaN      Olivia         89\n",
      "6     A   Isabella        70.0    Isabella         70\n",
      "7     C     Amelia         NaN      Amelia         99\n",
      "8     B        Mia        88.0         Mia         88\n",
      "9   NaN        NaN         NaN  new_person         87\n"
     ]
    }
   ],
   "source": [
    "# join\n",
    "import pandas as pd\n",
    "import numpy as np\n",
    "\n",
    "table_1 = [\n",
    "    ['A', 'Noah', 90], ['B', 'Liam', 81], ['C', 'William', np.nan], ['B', 'Benjamin.', 82], ['A', 'Emma.', 90],\n",
    "    ['C', 'Olivia', np.nan], ['A', 'Isabella', 70],\n",
    "    ['C', 'Amelia', np.nan], ['B', 'Mia', 88],\n",
    "]\n",
    "table_2 = [\n",
    "    ['Noah', 92], ['Liam', 83], ['William', 76], ['Benjamin.', 82], ['Emma.', 90], ['Olivia', 89], ['Isabella', 70],\n",
    "    ['Amelia', 99], ['Mia', 88], ['new_person', 87],\n",
    "]\n",
    "df_1 = pd.DataFrame(table_1,columns = ['class','name','math_score'])\n",
    "df_2 = pd.DataFrame(table_2,columns = ['name','eng_score'])\n",
    "# join 預設會是 outer, 若設定inner 則 new_person 這筆資料會被移除\n",
    "df_3 = pd.concat([df_1,df_2], axis=1, join='outer')\n",
    "print(df_3)"
   ]
  },
  {
   "cell_type": "markdown",
   "metadata": {
    "slideshow": {
     "slide_type": "subslide"
    }
   },
   "source": [
    "### pandas 也可以直接從網路上讀取資料"
   ]
  },
  {
   "cell_type": "code",
   "execution_count": 57,
   "metadata": {
    "slideshow": {
     "slide_type": "-"
    }
   },
   "outputs": [
    {
     "name": "stdout",
     "output_type": "stream",
     "text": [
      "<class 'pandas.core.frame.DataFrame'>\n"
     ]
    },
    {
     "data": {
      "text/html": [
       "<div>\n",
       "<style>\n",
       "    .dataframe thead tr:only-child th {\n",
       "        text-align: right;\n",
       "    }\n",
       "\n",
       "    .dataframe thead th {\n",
       "        text-align: left;\n",
       "    }\n",
       "\n",
       "    .dataframe tbody tr th {\n",
       "        vertical-align: top;\n",
       "    }\n",
       "</style>\n",
       "<table border=\"1\" class=\"dataframe\">\n",
       "  <thead>\n",
       "    <tr style=\"text-align: right;\">\n",
       "      <th></th>\n",
       "      <th>參與類別</th>\n",
       "      <th>機構名稱</th>\n",
       "      <th>機構地址</th>\n",
       "      <th>負責人</th>\n",
       "      <th>電話</th>\n",
       "      <th>緯度</th>\n",
       "      <th>經度</th>\n",
       "    </tr>\n",
       "  </thead>\n",
       "  <tbody>\n",
       "    <tr>\n",
       "      <th>0</th>\n",
       "      <td>健康醫院認證</td>\n",
       "      <td>衛生福利部臺南醫院</td>\n",
       "      <td>臺南市中西區中山路125號</td>\n",
       "      <td>許博翔</td>\n",
       "      <td>06-2200055</td>\n",
       "      <td>22.996071</td>\n",
       "      <td>120.208878</td>\n",
       "    </tr>\n",
       "    <tr>\n",
       "      <th>1</th>\n",
       "      <td>健康醫院認證</td>\n",
       "      <td>衛生福利部新營醫院</td>\n",
       "      <td>臺南市新營區信義街73號</td>\n",
       "      <td>王裕煒</td>\n",
       "      <td>06-6351131</td>\n",
       "      <td>23.308923</td>\n",
       "      <td>120.313312</td>\n",
       "    </tr>\n",
       "    <tr>\n",
       "      <th>2</th>\n",
       "      <td>健康醫院認證</td>\n",
       "      <td>衛生福利部胸腔病院</td>\n",
       "      <td>台南市仁德區中山路864號</td>\n",
       "      <td>潘秋宜</td>\n",
       "      <td>06-2705911</td>\n",
       "      <td>22.973720</td>\n",
       "      <td>120.244054</td>\n",
       "    </tr>\n",
       "    <tr>\n",
       "      <th>3</th>\n",
       "      <td>健康醫院認證</td>\n",
       "      <td>衛生福利部嘉南療養院</td>\n",
       "      <td>台南市仁德區裕忠路539號</td>\n",
       "      <td>鄭靜明</td>\n",
       "      <td>06-2795019</td>\n",
       "      <td>22.976788</td>\n",
       "      <td>120.242017</td>\n",
       "    </tr>\n",
       "    <tr>\n",
       "      <th>4</th>\n",
       "      <td>健康醫院認證</td>\n",
       "      <td>台南市立醫院(委託秀傳醫療社團法人經營)</td>\n",
       "      <td>台南市東區崇德路 670 號</td>\n",
       "      <td>戴芳楟</td>\n",
       "      <td>06-2609926</td>\n",
       "      <td>22.968706</td>\n",
       "      <td>120.226813</td>\n",
       "    </tr>\n",
       "  </tbody>\n",
       "</table>\n",
       "</div>"
      ],
      "text/plain": [
       "     參與類別                  機構名稱            機構地址  負責人           電話         緯度  \\\n",
       "0  健康醫院認證             衛生福利部臺南醫院   臺南市中西區中山路125號  許博翔   06-2200055  22.996071   \n",
       "1  健康醫院認證             衛生福利部新營醫院    臺南市新營區信義街73號  王裕煒   06-6351131  23.308923   \n",
       "2  健康醫院認證             衛生福利部胸腔病院   台南市仁德區中山路864號  潘秋宜   06-2705911  22.973720   \n",
       "3  健康醫院認證            衛生福利部嘉南療養院   台南市仁德區裕忠路539號  鄭靜明   06-2795019  22.976788   \n",
       "4  健康醫院認證  台南市立醫院(委託秀傳醫療社團法人經營)  台南市東區崇德路 670 號  戴芳楟  06-2609926   22.968706   \n",
       "\n",
       "           經度  \n",
       "0  120.208878  \n",
       "1  120.313312  \n",
       "2  120.244054  \n",
       "3  120.242017  \n",
       "4  120.226813  "
      ]
     },
     "execution_count": 57,
     "metadata": {},
     "output_type": "execute_result"
    }
   ],
   "source": [
    "# 臺南市健康促進醫院一覽表\n",
    "url = 'http://data.tainan.gov.tw/dataset/1b89994d-ab2a-4126-ab1e-ed1a0cfaeb27/resource/f169b4d7-11d7-400e-b061-249cf9a2bf34/download/1070612tnhp.csv'\n",
    "data = pd.read_csv(url, encoding='utf-8')\n",
    "print(type(data))\n",
    "# data.to_csv('file_name.csv') 這一行會把剛才的資料存成 csv 檔\n",
    "data.head() # 取前幾行資料，如果你不是在jupyter notebook打這行外面要加 print"
   ]
  },
  {
   "cell_type": "markdown",
   "metadata": {
    "slideshow": {
     "slide_type": "subslide"
    }
   },
   "source": [
    "### 而 Pandas 也提供幾種常用的方法來查看你的資料\n",
    "\n",
    ".shape: 回傳列，欄數。 e.g. (8,7) <br>\n",
    ".info: 回傳資料 <br>\n",
    ".describe(): 回傳統計數字 <br>\n",
    ".columns: 回傳所有欄位名稱 \n",
    ".index: 回傳索引值，如 0~8 <br>\n",
    ".head(): 取前面幾行資料 <br>\n",
    ".tail(): 取後面幾行資料 <br>"
   ]
  },
  {
   "cell_type": "markdown",
   "metadata": {
    "slideshow": {
     "slide_type": "subslide"
    }
   },
   "source": [
    "以上面的臺南市健康促進醫院一覽表為例 "
   ]
  },
  {
   "cell_type": "code",
   "execution_count": 34,
   "metadata": {
    "slideshow": {
     "slide_type": "-"
    }
   },
   "outputs": [
    {
     "data": {
      "text/plain": [
       "<bound method DataFrame.info of      參與類別                  機構名稱              機構地址  負責人           電話  \\\n",
       "0  健康醫院認證             衛生福利部臺南醫院     臺南市中西區中山路125號  許博翔   06-2200055   \n",
       "1  健康醫院認證             衛生福利部新營醫院      臺南市新營區信義街73號  王裕煒   06-6351131   \n",
       "2  健康醫院認證             衛生福利部胸腔病院     台南市仁德區中山路864號  潘秋宜   06-2705911   \n",
       "3  健康醫院認證            衛生福利部嘉南療養院     台南市仁德區裕忠路539號  鄭靜明   06-2795019   \n",
       "4  健康醫院認證  台南市立醫院(委託秀傳醫療社團法人經營)    台南市東區崇德路 670 號  戴芳楟  06-2609926    \n",
       "5  健康醫院認證        奇美醫療財團法人佳里奇美醫院  台南市佳里區興化里佳里興606號  周偉倪   06-7263333   \n",
       "6  健康醫院認證       奇美醫療財團法人柳營奇美醫院    台南市柳營區太康里太康201號  黃順賢  06-622-6999   \n",
       "7  健康醫院認證                  永川醫院     台南市中西區成功路169號  蘇祐達   06-2245771   \n",
       "\n",
       "          緯度          經度  \n",
       "0  22.996071  120.208878  \n",
       "1  23.308923  120.313312  \n",
       "2  22.973720  120.244054  \n",
       "3  22.976788  120.242017  \n",
       "4  22.968706  120.226813  \n",
       "5  23.181669  120.183792  \n",
       "6  23.289918  120.329240  \n",
       "7  22.998097  120.206279  >"
      ]
     },
     "execution_count": 34,
     "metadata": {},
     "output_type": "execute_result"
    }
   ],
   "source": [
    "data.info"
   ]
  },
  {
   "cell_type": "code",
   "execution_count": 39,
   "metadata": {
    "slideshow": {
     "slide_type": "subslide"
    }
   },
   "outputs": [
    {
     "data": {
      "text/html": [
       "<div>\n",
       "<style>\n",
       "    .dataframe thead tr:only-child th {\n",
       "        text-align: right;\n",
       "    }\n",
       "\n",
       "    .dataframe thead th {\n",
       "        text-align: left;\n",
       "    }\n",
       "\n",
       "    .dataframe tbody tr th {\n",
       "        vertical-align: top;\n",
       "    }\n",
       "</style>\n",
       "<table border=\"1\" class=\"dataframe\">\n",
       "  <thead>\n",
       "    <tr style=\"text-align: right;\">\n",
       "      <th></th>\n",
       "      <th>緯度</th>\n",
       "      <th>經度</th>\n",
       "    </tr>\n",
       "  </thead>\n",
       "  <tbody>\n",
       "    <tr>\n",
       "      <th>count</th>\n",
       "      <td>8.000000</td>\n",
       "      <td>8.000000</td>\n",
       "    </tr>\n",
       "    <tr>\n",
       "      <th>mean</th>\n",
       "      <td>23.086737</td>\n",
       "      <td>120.244298</td>\n",
       "    </tr>\n",
       "    <tr>\n",
       "      <th>std</th>\n",
       "      <td>0.148580</td>\n",
       "      <td>0.051617</td>\n",
       "    </tr>\n",
       "    <tr>\n",
       "      <th>min</th>\n",
       "      <td>22.968706</td>\n",
       "      <td>120.183792</td>\n",
       "    </tr>\n",
       "    <tr>\n",
       "      <th>25%</th>\n",
       "      <td>22.976021</td>\n",
       "      <td>120.208228</td>\n",
       "    </tr>\n",
       "    <tr>\n",
       "      <th>50%</th>\n",
       "      <td>22.997084</td>\n",
       "      <td>120.234415</td>\n",
       "    </tr>\n",
       "    <tr>\n",
       "      <th>75%</th>\n",
       "      <td>23.208731</td>\n",
       "      <td>120.261369</td>\n",
       "    </tr>\n",
       "    <tr>\n",
       "      <th>max</th>\n",
       "      <td>23.308923</td>\n",
       "      <td>120.329240</td>\n",
       "    </tr>\n",
       "  </tbody>\n",
       "</table>\n",
       "</div>"
      ],
      "text/plain": [
       "              緯度          經度\n",
       "count   8.000000    8.000000\n",
       "mean   23.086737  120.244298\n",
       "std     0.148580    0.051617\n",
       "min    22.968706  120.183792\n",
       "25%    22.976021  120.208228\n",
       "50%    22.997084  120.234415\n",
       "75%    23.208731  120.261369\n",
       "max    23.308923  120.329240"
      ]
     },
     "execution_count": 39,
     "metadata": {},
     "output_type": "execute_result"
    }
   ],
   "source": [
    "# 統計數據\n",
    "data.describe()"
   ]
  },
  {
   "cell_type": "markdown",
   "metadata": {
    "slideshow": {
     "slide_type": "subslide"
    }
   },
   "source": [
    "### 有時(常常)外部拿到的資料會有空值(沒有給值)，Pandas 亦可以用來判斷資料是否存在空值，並加以處理\n",
    "判斷空值:<br>\n",
    ".isnull() <br>\n",
    ".notnull() <br>\n",
    "\n",
    "處理空值: <br>\n",
    ".dropna() 把有空值的那一列資料砍掉<br>\n",
    ".fillna() 用其他數值把空值補上"
   ]
  },
  {
   "cell_type": "code",
   "execution_count": 49,
   "metadata": {
    "slideshow": {
     "slide_type": "subslide"
    }
   },
   "outputs": [
    {
     "name": "stdout",
     "output_type": "stream",
     "text": [
      "0    False\n",
      "1    False\n",
      "2     True\n",
      "3    False\n",
      "4    False\n",
      "5     True\n",
      "6    False\n",
      "7     True\n",
      "8    False\n",
      "Name: score, dtype: bool\n"
     ]
    }
   ],
   "source": [
    "import numpy as np\n",
    "import pandas as pd\n",
    "# np.nan 是從 numpy 來的，意思是空值，這裡可以先不管他。\n",
    "table = [\n",
    "    ['A', 'Noah', 90],\n",
    "    ['B', 'Liam', 81],\n",
    "    ['C', 'William', np.nan],\n",
    "    ['B', 'Benjamin.', 82],\n",
    "    ['A', 'Emma.', 90],\n",
    "    ['C', 'Olivia', np.nan],\n",
    "    ['A', 'Isabella', 70],\n",
    "    ['C', 'Amelia', np.nan],\n",
    "    ['B', 'Mia', 88],\n",
    "]\n",
    "df = pd.DataFrame(table,columns = ['class','name','score'])\n",
    "\n",
    "print(df['score'].isnull()) # 列出每一列是不是有空值"
   ]
  },
  {
   "cell_type": "code",
   "execution_count": 4,
   "metadata": {
    "slideshow": {
     "slide_type": "subslide"
    }
   },
   "outputs": [
    {
     "name": "stdout",
     "output_type": "stream",
     "text": [
      "  class       name  score\n",
      "0     A       Noah   90.0\n",
      "1     B       Liam   81.0\n",
      "2     C    William   83.5\n",
      "3     B  Benjamin.   82.0\n",
      "4     A      Emma.   90.0\n",
      "5     C     Olivia   83.5\n",
      "6     A   Isabella   70.0\n",
      "7     C     Amelia   83.5\n",
      "8     B        Mia   88.0\n"
     ]
    }
   ],
   "source": [
    "import pandas as pd\n",
    "import numpy as np\n",
    "# np.nan 是從 numpy 來的，意思是空值。\n",
    "table = [\n",
    "    ['A', 'Noah', 90],\n",
    "    ['B', 'Liam', 81],\n",
    "    ['C', 'William', np.nan],\n",
    "    ['B', 'Benjamin.', 82],\n",
    "    ['A', 'Emma.', 90],\n",
    "    ['C', 'Olivia', np.nan],\n",
    "    ['A', 'Isabella', 70],\n",
    "    ['C', 'Amelia', np.nan],\n",
    "    ['B', 'Mia', 88],\n",
    "]\n",
    "df = pd.DataFrame(table,columns = ['class','name','score'])\n",
    "new_df = df.fillna(df['score'].mean()) # 把空值用平均分數補上\n",
    "# or new_df = df.fillna({'score': df['score'].mean()}) 也可以傳入字典來選擇 哪些欄位 要用 什麼資料 填補空值\n",
    "\n",
    "print(new_df)"
   ]
  },
  {
   "cell_type": "markdown",
   "metadata": {
    "slideshow": {
     "slide_type": "subslide"
    }
   },
   "source": [
    "### Exercise 1.1 (計分練習)\n",
    "\n",
    "嘗試透過閱讀 [pandas 文件](http://pandas.pydata.org/pandas-docs/stable/) or [Pandas 官方教學](https://pandas.pydata.org/pandas-docs/stable/10min.html#grouping)來了解 groupby 的用法，\n",
    "並印出下列各班級的：\n",
    "- 數學分數平均值 - - - (上面填空值時有用到平均值計算方法)\n",
    "- 數學分數總和 - - - (A班平均多少，總分多少，B班平均...)\n",
    "- 數學分數與英文分數的相關係數 - - - ( 可以 google 一下 pandas 算相關係數要用什麼 method。 hint: df.c???() )\n",
    "\n",
    "<div style='color: white'>\n",
    "    print(df.groupby(by='class').sum())<br>\n",
    "    print(df.groupby(by='class').mean())<br>\n",
    "    print(df.corr())\n",
    "</div>"
   ]
  },
  {
   "cell_type": "code",
   "execution_count": 80,
   "metadata": {
    "slideshow": {
     "slide_type": "subslide"
    }
   },
   "outputs": [],
   "source": [
    "# sample code\n",
    "table = [\n",
    "    ['A', 'Noah', 90, 92],\n",
    "    ['B', 'Liam', 81, 83],\n",
    "    ['C', 'William', 87,85],\n",
    "    ['B', 'Benjamin.', 82,80],\n",
    "    ['A', 'Emma.', 90,94],\n",
    "    ['C', 'Olivia', 50,60],\n",
    "    ['A', 'Isabella', 70,71],\n",
    "    ['C', 'Amelia', 84,86],\n",
    "    ['B', 'Mia', 88,85],\n",
    "]\n",
    "df = pd.DataFrame(table,columns = ['class', 'name', 'math_score', 'eng_score'])\n",
    "# print(something) # total score\n",
    "# print(something) # mean score\n",
    "# print(something) # correlation coefficient"
   ]
  },
  {
   "cell_type": "markdown",
   "metadata": {
    "slideshow": {
     "slide_type": "subslide"
    }
   },
   "source": [
    "### References\n",
    "\n",
    "1. [Pandas doc](https://pandas.pydata.org/pandas-docs/stable/)\n",
    "2. [10 Minutes to pandas](https://pandas.pydata.org/pandas-docs/stable/10min.html)\n",
    "1. [[Python] Pandas 基礎教學](https://oranwind.org/python-pandas-ji-chu-jiao-xue/)<br>\n",
    "2. [Pandas 基本介绍](https://morvanzhou.github.io/tutorials/data-manipulation/np-pd/3-1-pd-intro/)<br>\n",
    "3. [[資料分析&機器學習] 第2.3講：Pandas 基本function介紹](https://medium.com/@yehjames/%E8%B3%87%E6%96%99%E5%88%86%E6%9E%90-%E6%A9%9F%E5%99%A8%E5%AD%B8%E7%BF%92-%E7%AC%AC2-3%E8%AC%9B-pandas-%E5%9F%BA%E6%9C%ACfunction%E4%BB%8B%E7%B4%B9-series-dataframe-selection-grouping-447a3fa90b60)<br>\n",
    "4. [SITCON Pandas!資料處理與分析的利器!](https://drive.google.com/drive/u/0/folders/0B0UIQiTTYz0BWVJkOHJVVGNUNWs)"
   ]
  },
  {
   "cell_type": "markdown",
   "metadata": {
    "slideshow": {
     "slide_type": "slide"
    }
   },
   "source": [
    "## 2. 接下來講 Matplotlib\n",
    "\n",
    "他是一種用來資料視覺化的 python 套件，除了 Matplotlib之外，常見的還有 Seaborn。\n",
    "\n",
    "- Matplotlib: 學習資源最多，繪圖功能最齊全\n",
    "- Seaborn: 繪圖語法較簡單，圖表相較Matplotlib預設圖較好看。\n",
    "\n",
    "#### 待會你會學到\n",
    "- 如何用 Matplotlib畫出折線圖與散點圖\n",
    "- 如何幫圖表加註解\n",
    "- 嘗試根據 google stock 自己畫出有高低範圍的折線圖"
   ]
  },
  {
   "cell_type": "markdown",
   "metadata": {
    "slideshow": {
     "slide_type": "subslide"
    }
   },
   "source": [
    "### 你可以用 Matplotlib 畫出這些圖\n",
    "<img src=\"https://i.imgur.com/GAP1OVL.png\">\n",
    "From [python-graph-gallery](https://python-graph-gallery.com/matplotlib/)"
   ]
  },
  {
   "cell_type": "markdown",
   "metadata": {
    "slideshow": {
     "slide_type": "subslide"
    }
   },
   "source": [
    "## Matplotlib 怎麼用？\n",
    "\n",
    "### 一樣先安裝，如果你剛才沒有裝的話"
   ]
  },
  {
   "cell_type": "code",
   "execution_count": null,
   "metadata": {
    "slideshow": {
     "slide_type": "-"
    }
   },
   "outputs": [],
   "source": [
    "# 如果你有裝Anaconda，跑下面這一行\n",
    "conda install pandas\n",
    "\n",
    "# 如果你沒有裝Anaconda，跑下面這一行\n",
    "pip install pandas"
   ]
  },
  {
   "cell_type": "markdown",
   "metadata": {
    "slideshow": {
     "slide_type": "subslide"
    }
   },
   "source": [
    "### Example 2.1，折線圖與散點圖"
   ]
  },
  {
   "cell_type": "code",
   "execution_count": 56,
   "metadata": {
    "slideshow": {
     "slide_type": "subslide"
    }
   },
   "outputs": [
    {
     "data": {
      "image/png": "[encoded data removed]",
      "text/plain": [
       "<Figure size 720x144 with 1 Axes>"
      ]
     },
     "metadata": {},
     "output_type": "display_data"
    }
   ],
   "source": [
    "# 下面這一行 %matplotlib inline 的目的是讓matplotlib畫出的圖片能直接在 jupyter notebook 顯示，如果你在VS code加這行是沒有用的。 \n",
    "# 相對的，你在 VS code 執行時，圖片會直接跳出來。\n",
    "%matplotlib inline\n",
    "import matplotlib.pyplot as plt\n",
    "\n",
    "x = [0,1,2,3,4,5]\n",
    "y1 = [0,1,2,3,4,5]\n",
    "y2 = [0,1,4,9,16,25]\n",
    "\n",
    "plt.figure(figsize=(10, 2)) # 圖片尺寸 10*6\n",
    "# 這一行能畫散點圖,  s是點的尺寸, marker 是點的形狀\n",
    "plt.scatter(x,y1, s=30, c='red', marker='<')\n",
    "# 這一行能畫折線圖， linestyle是點的\n",
    "plt.plot(x, y2, color='blue', linewidth=2.0, linestyle=':')\n",
    "# 下面這一行是畫線用，座標從 [4,4] 到 [3,16] \n",
    "plt.plot([4, 4], [3, 16], 'b--', linewidth=5)  # b-- => color:blue & linestyle:'--'\n",
    "\n",
    "plt.xlabel('x')\n",
    "plt.ylabel('y')\n",
    "plt.legend([\"y = x\", \"y = x**2\"], loc=2); # loc指的是legend要放的位置，loc=2是放在第二象限\n",
    "plt.title('sample_title');\n",
    "plt.show()"
   ]
  },
  {
   "cell_type": "markdown",
   "metadata": {
    "slideshow": {
     "slide_type": "subslide"
    }
   },
   "source": [
    "### Example 2.2，註解與連結線上資料"
   ]
  },
  {
   "cell_type": "code",
   "execution_count": 58,
   "metadata": {
    "slideshow": {
     "slide_type": "subslide"
    }
   },
   "outputs": [
    {
     "data": {
      "text/html": [
       "<div>\n",
       "<style>\n",
       "    .dataframe thead tr:only-child th {\n",
       "        text-align: right;\n",
       "    }\n",
       "\n",
       "    .dataframe thead th {\n",
       "        text-align: left;\n",
       "    }\n",
       "\n",
       "    .dataframe tbody tr th {\n",
       "        vertical-align: top;\n",
       "    }\n",
       "</style>\n",
       "<table border=\"1\" class=\"dataframe\">\n",
       "  <thead>\n",
       "    <tr style=\"text-align: right;\">\n",
       "      <th></th>\n",
       "      <th>Symbol</th>\n",
       "      <th>Date</th>\n",
       "      <th>Open</th>\n",
       "      <th>High</th>\n",
       "      <th>Low</th>\n",
       "      <th>Close</th>\n",
       "      <th>Volume</th>\n",
       "      <th>Change</th>\n",
       "      <th>% Change</th>\n",
       "    </tr>\n",
       "  </thead>\n",
       "  <tbody>\n",
       "    <tr>\n",
       "      <th>0</th>\n",
       "      <td>GOOG</td>\n",
       "      <td>12/29/17</td>\n",
       "      <td>NaN</td>\n",
       "      <td>1046.0</td>\n",
       "      <td>1046.0</td>\n",
       "      <td>1046.0</td>\n",
       "      <td>0</td>\n",
       "      <td>-1.74</td>\n",
       "      <td>-0.17%</td>\n",
       "    </tr>\n",
       "    <tr>\n",
       "      <th>1</th>\n",
       "      <td>GOOG</td>\n",
       "      <td>12/28/17</td>\n",
       "      <td>1052.0</td>\n",
       "      <td>1055.0</td>\n",
       "      <td>1045.0</td>\n",
       "      <td>1048.0</td>\n",
       "      <td>834645</td>\n",
       "      <td>-1.23</td>\n",
       "      <td>-0.12%</td>\n",
       "    </tr>\n",
       "    <tr>\n",
       "      <th>2</th>\n",
       "      <td>GOOG</td>\n",
       "      <td>12/27/17</td>\n",
       "      <td>1057.0</td>\n",
       "      <td>1058.0</td>\n",
       "      <td>1048.0</td>\n",
       "      <td>1049.0</td>\n",
       "      <td>1271896</td>\n",
       "      <td>-7.37</td>\n",
       "      <td>-0.70%</td>\n",
       "    </tr>\n",
       "    <tr>\n",
       "      <th>3</th>\n",
       "      <td>GOOG</td>\n",
       "      <td>12/26/17</td>\n",
       "      <td>1058.0</td>\n",
       "      <td>1060.0</td>\n",
       "      <td>1050.0</td>\n",
       "      <td>1057.0</td>\n",
       "      <td>761208</td>\n",
       "      <td>-3.38</td>\n",
       "      <td>-0.32%</td>\n",
       "    </tr>\n",
       "    <tr>\n",
       "      <th>4</th>\n",
       "      <td>GOOG</td>\n",
       "      <td>12/22/17</td>\n",
       "      <td>1061.0</td>\n",
       "      <td>1064.0</td>\n",
       "      <td>1059.0</td>\n",
       "      <td>1060.0</td>\n",
       "      <td>755095</td>\n",
       "      <td>-3.51</td>\n",
       "      <td>-0.33%</td>\n",
       "    </tr>\n",
       "  </tbody>\n",
       "</table>\n",
       "</div>"
      ],
      "text/plain": [
       "  Symbol      Date    Open    High     Low   Close   Volume  Change % Change\n",
       "0   GOOG  12/29/17     NaN  1046.0  1046.0  1046.0        0   -1.74   -0.17%\n",
       "1   GOOG  12/28/17  1052.0  1055.0  1045.0  1048.0   834645   -1.23   -0.12%\n",
       "2   GOOG  12/27/17  1057.0  1058.0  1048.0  1049.0  1271896   -7.37   -0.70%\n",
       "3   GOOG  12/26/17  1058.0  1060.0  1050.0  1057.0   761208   -3.38   -0.32%\n",
       "4   GOOG  12/22/17  1061.0  1064.0  1059.0  1060.0   755095   -3.51   -0.33%"
      ]
     },
     "execution_count": 58,
     "metadata": {},
     "output_type": "execute_result"
    }
   ],
   "source": [
    "# 取得 Google 股價資料\n",
    "%matplotlib inline\n",
    "import matplotlib.pyplot as plt\n",
    "import pandas as pd\n",
    "url = 'http://markets.financialcontent.com/stocks/action/gethistoricaldata?Month=12&Symbol=GOOG&Range=300&Year=2017'\n",
    "google_stock = pd.read_csv(url)\n",
    "google_stock.head()"
   ]
  },
  {
   "cell_type": "code",
   "execution_count": 96,
   "metadata": {
    "slideshow": {
     "slide_type": "subslide"
    }
   },
   "outputs": [
    {
     "name": "stdout",
     "output_type": "stream",
     "text": [
      "(946, 9)\n"
     ]
    },
    {
     "data": {
      "image/png": "[encoded data removed]",
      "text/plain": [
       "<Figure size 720x360 with 1 Axes>"
      ]
     },
     "metadata": {},
     "output_type": "display_data"
    }
   ],
   "source": [
    "# 因為收到的資料是從 12/29/17 開始到 03/28/14，因此要轉個方向變成3/28/14到12/29/17。\n",
    "new_google_stock = google_stock.iloc[::-1]\n",
    "plt.figure(figsize=(10, 5))\n",
    "print(new_google_stock.shape)\n",
    "\n",
    "x = range(0,new_google_stock.shape[0]) # [0,1,2...,945]\n",
    "y = new_google_stock['Open']\n",
    "plt.plot(x, y, color='blue', linewidth=2.0, linestyle=':')\n",
    "plt.annotate(\n",
    "    s='something happened', xy=(324, 627), xycoords='data', xytext=(0, +100), fontsize=15,\n",
    "    textcoords='offset points', arrowprops={'arrowstyle':'->', 'connectionstyle': \"angle3,angleA=0,angleB=90\"}\n",
    ")\n",
    "plt.title('google stock from 3/28/14 ~ 12/29/17');\n",
    "plt.show()"
   ]
  },
  {
   "cell_type": "markdown",
   "metadata": {
    "slideshow": {
     "slide_type": "subslide"
    }
   },
   "source": [
    "## Exercise 2.1 (計分)\n",
    "\n",
    "請透過閱讀 [Matplotlib 文件](https://www.google.com.tw/search?rlz=1C5CHFA_enTW728TW728&ei=8_hIW_nKI5Ci-Qa24LzwDw&q=fill+between+matplotlib&oq=fill+between+matplotlib&gs_l=psy-ab.3..35i39k1j0l2j0i22i30k1l7.2401.2532.0.2991.2.2.0.0.0.0.115.190.1j1.2.0....0...1c.1.64.psy-ab..0.2.190....0.tyqgTUaRDkg)，了解 fill_between 的用法後，嘗試補充下一頁的code，用google股價繪出下圖\n",
    "底色區域的上邊界是 high price, 下邊界是 low price, 中間線是 open price。<br>\n",
    "*顏色不用一樣沒關係，下一頁有 sample code，只要把那兩行 TODO 的內容修改即可<br>\n",
    "\n",
    "\n",
    "Hint: 真的找/想不到的話，請反白後面 <span style='color:white'>你要用 plt.fill_between 畫底色區域(參數有x,y1,y2)，再用plot 畫中間線</span>\n",
    "\n",
    "Reference: [Gallery_1](https://matplotlib.org/gallery.html#lines_bars_and_markers), [Gallery_2](https://matplotlib.org/gallery/index.html), [Gallery_3](https://python-graph-gallery.com/)<br>\n",
    "如果畫完的話，可以看看上面的 Gallery 來看各種圖表的畫法。 或是了解一下 subplot (畫子圖片)的用法\n",
    "<img src=\"https://i.imgur.com/Wf312W1.png\">\n",
    "<p style='color:white'>\n",
    "    plt.fill_between(range(0,new_google_stock.shape[0]),new_google_stock['High'],new_google_stock['Low'])\n",
    "    plt.plot(range(0,new_google_stock.shape[0]), new_google_stock['Open'], color='b')\n",
    "</p>"
   ]
  },
  {
   "cell_type": "code",
   "execution_count": 77,
   "metadata": {
    "slideshow": {
     "slide_type": "subslide"
    }
   },
   "outputs": [
    {
     "data": {
      "text/plain": [
       "<Figure size 720x360 with 0 Axes>"
      ]
     },
     "metadata": {},
     "output_type": "display_data"
    }
   ],
   "source": [
    "# Sample code\n",
    "%matplotlib inline\n",
    "import matplotlib.pyplot as plt\n",
    "import pandas as pd\n",
    "url = 'http://markets.financialcontent.com/stocks/action/gethistoricaldata?Month=12&Symbol=GOOG&Range=300&Year=2017'\n",
    "google_stock = pd.read_csv(url)\n",
    "new_google_stock = google_stock.iloc[::-1] # 因為收到的資料是從 12/29/17 開始到 03/28/14，因此要轉個方向變成3/28/14到12/29/17。\n",
    "new_google_stock = new_google_stock[:30] # 為了讓上下間距區域變明顯，我們只看前面30天的資料\n",
    "\n",
    "plt.figure(figsize=(10, 5))\n",
    "# TODO: magic!\n",
    "# TODO: another magic!\n",
    "plt.show()"
   ]
  },
  {
   "cell_type": "markdown",
   "metadata": {
    "slideshow": {
     "slide_type": "subslide"
    }
   },
   "source": [
    "### Reference\n",
    "- [為什麼用 Matplotlib](https://morvanzhou.github.io/tutorials/data-manipulation/plt/1-1-why/)"
   ]
  },
  {
   "cell_type": "markdown",
   "metadata": {
    "slideshow": {
     "slide_type": "slide"
    }
   },
   "source": [
    "## 3. 那 numpy 又是幹嘛的？\n",
    "\n",
    "- 方便做高維矩陣的數值運算，也有提供其他科學計算的函式。 其實常跟 pandas一起用\n",
    "- AI 領域常用"
   ]
  },
  {
   "cell_type": "markdown",
   "metadata": {
    "slideshow": {
     "slide_type": "-"
    }
   },
   "source": [
    "### 接下來你會知道如何用 numpy：\n",
    "- 生成數列或隨機值\n",
    "- 建立一個 m \\* n 的矩陣，再把這矩陣改成 n \\* m 或 1 * z,\n",
    "- 把兩個矩陣 m*n 矩陣組合起來，變成 2m*n 或 m*2n，或是把一個矩陣切成多個\n",
    "- 一些常用的數學運算，如 dot, log..."
   ]
  },
  {
   "cell_type": "markdown",
   "metadata": {
    "slideshow": {
     "slide_type": "subslide"
    }
   },
   "source": [
    "### 生成隨機數列與矩陣"
   ]
  },
  {
   "cell_type": "code",
   "execution_count": 81,
   "metadata": {
    "slideshow": {
     "slide_type": "-"
    }
   },
   "outputs": [
    {
     "name": "stdout",
     "output_type": "stream",
     "text": [
      "[0 2 4 6 8]\n",
      "[ 0.50716423  0.3895441   0.05644316  0.4718844   0.29993954]\n",
      "[[ 0.29993954  0.4718844   0.05644316]\n",
      " [ 0.29993954  0.3895441   0.3895441 ]\n",
      " [ 0.05644316  0.29993954  0.4718844 ]\n",
      " [ 0.3895441   0.4718844   0.4718844 ]]\n"
     ]
    }
   ],
   "source": [
    "import numpy as np\n",
    "list_1 = np.arange(0,10,2)    # 生成 0~10, 間隔為 2 的數列\n",
    "list_2 = np.random.sample(5)  # 隨機生成 5 個數字\n",
    "print(list_1)\n",
    "print(list_2)\n",
    "array_1 = np.random.choice(list_2, (4,3)) # 從 list_1 隨機抽數字來建立 4 * 3 的矩陣\n",
    "print(array_1)"
   ]
  },
  {
   "cell_type": "markdown",
   "metadata": {
    "slideshow": {
     "slide_type": "subslide"
    }
   },
   "source": [
    "### 建立矩陣\n",
    "numpy 有自己的array資料型態方便計算。"
   ]
  },
  {
   "cell_type": "code",
   "execution_count": 28,
   "metadata": {
    "slideshow": {
     "slide_type": "-"
    }
   },
   "outputs": [
    {
     "name": "stdout",
     "output_type": "stream",
     "text": [
      "[[ 1.+1.j  2.+2.j]\n",
      " [ 3.+3.j  4.+4.j]]\n",
      "[[ 1.  0.  0.]\n",
      " [ 0.  1.  0.]\n",
      " [ 0.  0.  1.]]\n",
      "2\n",
      "(3, 3)\n",
      "9\n"
     ]
    }
   ],
   "source": [
    "import numpy as np\n",
    "array_1 = np.array([[1,2,3],[4,5,6],[7,8,9]])\n",
    "array_2 = np.array([[1+1j,2+2j],[3+3j,4+4j]], dtype=complex)  # 生成複數矩陣\n",
    "array_3 = np.zeros((4,3)) # 生成 4*3, 每個element是 1 的矩陣\n",
    "array_4 = np.ones((3,4))  # 生成 3*4, 每個element是 1 的矩陣\n",
    "array_5 = np.eye(3)     # 生成 n階單位矩陣\n",
    "print(array_2)\n",
    "print(array_5)\n",
    "print(array_5.ndim)  # 幾維矩陣\n",
    "print(array_5.shape) # x * y 矩陣\n",
    "print(array_5.size)  # 可以觀察用途為何"
   ]
  },
  {
   "cell_type": "markdown",
   "metadata": {
    "slideshow": {
     "slide_type": "subslide"
    }
   },
   "source": [
    "### 改變矩陣"
   ]
  },
  {
   "cell_type": "code",
   "execution_count": 82,
   "metadata": {
    "slideshow": {
     "slide_type": "-"
    }
   },
   "outputs": [
    {
     "name": "stdout",
     "output_type": "stream",
     "text": [
      "(4, 3)\n",
      "[[ 1  2  3  4  5  6]\n",
      " [ 7  8  9 10 11 12]]\n",
      "[[ 1  4  7 10]\n",
      " [ 2  5  8 11]\n",
      " [ 3  6  9 12]]\n",
      "[ 1  2  3  4  5  6  7  8  9 10 11 12]\n"
     ]
    }
   ],
   "source": [
    "import numpy as np\n",
    "array_1 = np.array([[1,2,3],[4,5,6],[7,8,9],[10,11,12]])\n",
    "print(array_1.shape)\n",
    "print(array_1.reshape((2,6)))  # 改變矩陣維度, 注意他跟 .resize() 會有差異\n",
    "print(array_1.swapaxes(0,1))   # 維度交換\n",
    "print(array_1.flatten())"
   ]
  },
  {
   "cell_type": "markdown",
   "metadata": {
    "slideshow": {
     "slide_type": "subslide"
    }
   },
   "source": [
    "### 矩陣的組合\n",
    "- np.vstack\n",
    "- np.hstack\n",
    "- np.newaxis()\n",
    "- np.concatenate()"
   ]
  },
  {
   "cell_type": "code",
   "execution_count": 59,
   "metadata": {
    "slideshow": {
     "slide_type": "subslide"
    }
   },
   "outputs": [
    {
     "name": "stdout",
     "output_type": "stream",
     "text": [
      "[[ 0.  0.  0.]\n",
      " [ 1.  1.  1.]]\n",
      "[[ 0.  0.  0.  1.  1.  1.]]\n",
      "--------------------\n",
      "[[ 0.  0.  0.]\n",
      " [ 1.  1.  1.]\n",
      " [ 3.  4.  5.]\n",
      " [ 1.  1.  1.]]\n",
      "[[ 0.  0.  0.  1.  1.  1.  3.  4.  5.  1.  1.  1.]]\n"
     ]
    }
   ],
   "source": [
    "A = np.zeros((1,3))\n",
    "B = np.ones((1,3))\n",
    "C = np.array([[3,4,5]])\n",
    "print(np.vstack((A,B))) # 合併增加列\n",
    "print(np.hstack((A,B))) # 合併增加欄\n",
    "print('-'*20)\n",
    "print(np.concatenate((A,B,C,B), axis=0))\n",
    "print(np.concatenate((A,B,C,B), axis=1))"
   ]
  },
  {
   "cell_type": "markdown",
   "metadata": {
    "slideshow": {
     "slide_type": "subslide"
    }
   },
   "source": [
    "### 矩陣的分割\n",
    "- np.split: 平均分割\n",
    "- np.array_split: 不等量分割"
   ]
  },
  {
   "cell_type": "code",
   "execution_count": 133,
   "metadata": {
    "slideshow": {
     "slide_type": "subslide"
    }
   },
   "outputs": [
    {
     "name": "stdout",
     "output_type": "stream",
     "text": [
      "[[ 0  1  2  3]\n",
      " [ 4  5  6  7]\n",
      " [ 8  9 10 11]]\n",
      "[array([[0, 1],\n",
      "       [4, 5],\n",
      "       [8, 9]]), array([[ 2,  3],\n",
      "       [ 6,  7],\n",
      "       [10, 11]])]\n",
      "[array([[0, 1],\n",
      "       [4, 5],\n",
      "       [8, 9]]), array([[ 2],\n",
      "       [ 6],\n",
      "       [10]]), array([[ 3],\n",
      "       [ 7],\n",
      "       [11]])]\n"
     ]
    }
   ],
   "source": [
    "import numpy as np\n",
    "array_1 = np.arange(12).reshape(3,4)\n",
    "\n",
    "array_2 = np.split(array_1, 2, axis=1)\n",
    "array_3 = np.array_split(array_1, 3, axis=1)\n",
    "print(array_1)\n",
    "print(array_2)\n",
    "print(array_3)"
   ]
  },
  {
   "cell_type": "markdown",
   "metadata": {
    "slideshow": {
     "slide_type": "subslide"
    }
   },
   "source": [
    "### 常見運算"
   ]
  },
  {
   "cell_type": "markdown",
   "metadata": {
    "slideshow": {
     "slide_type": "-"
    }
   },
   "source": [
    "- np.sqrt()\n",
    "- np.log()\n",
    "- np.abs()\n",
    "- np.sin()\n",
    "- np.dot()\n",
    "- np.max([1,2,3,4])\n",
    "- ... 還有很多，要用時再查即可。 後續有需要的話也可以 google numpy 要怎麼取得 特徵值跟特徵向量，或反矩陣與轉置矩陣。"
   ]
  },
  {
   "cell_type": "markdown",
   "metadata": {
    "slideshow": {
     "slide_type": "subslide"
    }
   },
   "source": [
    "### Exercise 3.1 (計分)\n",
    "\n",
    "請嘗試畫出 y = exp(x), x為將0~1中間取成5份的數組 (x = [0,0.25,0.5,0.75,1]) 的長條圖(柱狀圖)。\n",
    "\n",
    "請嘗試搜尋出:\n",
    "- 怎麼用 numpy 算 exp (跟上一頁的常見運算方式很像)\n",
    "- 能夠將 兩數值中間切分成 n 份並回傳數列的 numpy 的模組  hint: np.lin????e()\n",
    "- matplotlib畫長條圖的方式\n",
    "\n",
    "<img src=\"https://i.imgur.com/NgmPxSb.png\">"
   ]
  },
  {
   "cell_type": "code",
   "execution_count": 83,
   "metadata": {
    "slideshow": {
     "slide_type": "subslide"
    }
   },
   "outputs": [],
   "source": [
    "# sample code\n",
    "%matplotlib inline\n",
    "import matplotlib.pyplot as plt\n",
    "import numpy as np\n",
    "# x = np.lin????e(?,?,?)\n",
    "# y = np.?x?(x)\n",
    "# plt.???(x,y)\n",
    "plt.show()"
   ]
  },
  {
   "cell_type": "markdown",
   "metadata": {
    "slideshow": {
     "slide_type": "subslide"
    }
   },
   "source": [
    "## Reserences\n",
    "- [Numpy Doc](https://docs.scipy.org/doc/)\n",
    "- [Numpy tutorial](https://docs.scipy.org/doc/numpy/user/quickstart.html)\n",
    "- [Numpy & Pandas 教程 莫煩Python](https://morvanzhou.github.io/tutorials/data-manipulation/np-pd/)"
   ]
  },
  {
   "cell_type": "markdown",
   "metadata": {
    "slideshow": {
     "slide_type": "slide"
    }
   },
   "source": [
    "### 延伸學習, 如果還有時間\n",
    "- [以-jieba-與-gensim-探索文本主題-五月天人生無限公司歌詞分析](https://medium.com/pyladies-taiwan/%E4%BB%A5-jieba-%E8%88%87-gensim-%E6%8E%A2%E7%B4%A2%E6%96%87%E6%9C%AC%E4%B8%BB%E9%A1%8C-%E4%BA%94%E6%9C%88%E5%A4%A9%E4%BA%BA%E7%94%9F%E7%84%A1%E9%99%90%E5%85%AC%E5%8F%B8%E6%AD%8C%E8%A9%9E%E5%88%86%E6%9E%90-i-cd2147b89083)"
   ]
  }
 ],
 "metadata": {
  "celltoolbar": "Slideshow",
  "kernelspec": {
   "display_name": "Python 3",
   "language": "python",
   "name": "python3"
  },
  "language_info": {
   "codemirror_mode": {
    "name": "ipython",
    "version": 3
   },
   "file_extension": ".py",
   "mimetype": "text/x-python",
   "name": "python",
   "nbconvert_exporter": "python",
   "pygments_lexer": "ipython3",
   "version": "3.6.2"
  }
 },
 "nbformat": 4,
 "nbformat_minor": 2
}
