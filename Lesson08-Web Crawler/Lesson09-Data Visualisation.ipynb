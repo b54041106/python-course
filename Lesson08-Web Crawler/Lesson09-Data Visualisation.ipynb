{
 "cells": [
  {
   "cell_type": "markdown",
   "metadata": {
    "slideshow": {
     "slide_type": "slide"
    }
   },
   "source": [
    "# Lesson 09 - Data Visualisation\n",
    "## By 呂伯駿 (Po Chun)"
   ]
  },
  {
   "cell_type": "markdown",
   "metadata": {
    "slideshow": {
     "slide_type": "subslide"
    }
   },
   "source": [
    "在開始之前，幫我先寫下面那段程式碼，測試你有沒有裝一些待會要用的套件"
   ]
  },
  {
   "cell_type": "code",
   "execution_count": 1,
   "metadata": {
    "slideshow": {
     "slide_type": "-"
    }
   },
   "outputs": [
    {
     "name": "stdout",
     "output_type": "stream",
     "text": [
      "import success\n"
     ]
    }
   ],
   "source": [
    "# test.py\n",
    "import pandas as pd\n",
    "import numpy as np\n",
    "import matplotlib.pyplot as plt\n",
    "print('import success')"
   ]
  },
  {
   "cell_type": "markdown",
   "metadata": {
    "slideshow": {
     "slide_type": "-"
    }
   },
   "source": [
    "如果你有裝Anaconda，通常不會跳錯誤。\n",
    "如果跳錯誤的話： 可以裝一下\n",
    "\n",
    "```\n",
    "# 如果你有裝 Anaconda\n",
    "conda install pandas numpy matplotlib\n",
    "\n",
    "# 如果你沒有裝 Anaconda\n",
    "pip install pandas numpy matplotlib\n",
    "```"
   ]
  },
  {
   "cell_type": "markdown",
   "metadata": {
    "slideshow": {
     "slide_type": "slide"
    }
   },
   "source": [
    "今天早上你應該會學到\n",
    "- Pandas: 一種常用來處理資料的 package\n",
    "- Matplotlib: 一種常用來做視覺化，繪製圖表的 package \n",
    "- numpy: 一種常用來做數學運算的package，這個在 AI 很常用。\n",
    "\n",
    "這些 package 的基本用法"
   ]
  },
  {
   "cell_type": "markdown",
   "metadata": {
    "slideshow": {
     "slide_type": "subslide"
    }
   },
   "source": [
    "## 開始! 🐌"
   ]
  },
  {
   "cell_type": "markdown",
   "metadata": {
    "slideshow": {
     "slide_type": "subslide"
    }
   },
   "source": [
    "## Pandas 能做到什麼？\n",
    "- 你在 excel 中能做到的大部分他都能做到\n",
    "    - 匯入 CSV檔\n",
    "    - 建立表格，選取欄位\n",
    "    - 處理空值\n",
    "    - 查看統計數字\n",
    "    - 排序，計算欄位平均值，相關係數...\n",
    "    - ..."
   ]
  },
  {
   "cell_type": "markdown",
   "metadata": {
    "slideshow": {
     "slide_type": "subslide"
    }
   },
   "source": [
    "### 先安裝，如果剛才你沒有裝的話\n",
    "```\n",
    "# 如果你有裝Anaconda，跑下面這一行\n",
    "conda install pandas\n",
    "\n",
    "# 如果你沒有裝Anaconda，跑下面這一行\n",
    "pip install pandas\n",
    "```"
   ]
  },
  {
   "cell_type": "markdown",
   "metadata": {
    "slideshow": {
     "slide_type": "subslide"
    }
   },
   "source": [
    "### 在使用之前，你需要先知道 pandas 有兩種結構\n",
    "\n",
    "- Series：通常拿來處理一維資料，如時間序列。\n",
    "- Dataframe：有點像Table，用來處理 csv 這種列有索引，欄有標籤的二維資料。\n",
    "\n",
    "##### 其實還有第三種叫 Panel，通常處理三維的資料，但較少用因此這裡先不提。"
   ]
  },
  {
   "cell_type": "markdown",
   "metadata": {
    "slideshow": {
     "slide_type": "subslide"
    }
   },
   "source": [
    "### 先講 Series\n",
    "#### 建立方式"
   ]
  },
  {
   "cell_type": "code",
   "execution_count": 13,
   "metadata": {
    "slideshow": {
     "slide_type": "-"
    }
   },
   "outputs": [
    {
     "name": "stdout",
     "output_type": "stream",
     "text": [
      "<class 'pandas.core.series.Series'>\n",
      "Alex     Labrador Retriever\n",
      "Alice                Beagle\n",
      "Neo               Dachshund\n",
      "Kenny             Shiba Inu\n",
      "dtype: object\n"
     ]
    }
   ],
   "source": [
    "import pandas as pd\n",
    "# 若不加後面的index，則index預設是0,1,2,3...\n",
    "pets = ['Labrador Retriever', 'Beagle', 'Dachshund', 'Shiba Inu']\n",
    "pets_index = ['Alex', 'Alice', 'Neo', 'Kenny']\n",
    "series_1 =  pd.Series(pets,index=pets_index)\n",
    "print(type(series_1))\n",
    "print(series_1)"
   ]
  },
  {
   "cell_type": "code",
   "execution_count": 37,
   "metadata": {
    "slideshow": {
     "slide_type": "subslide"
    }
   },
   "outputs": [
    {
     "name": "stdout",
     "output_type": "stream",
     "text": [
      "Labrador Retriever\n",
      "--\n",
      "Alex     Labrador Retriever\n",
      "Alice                Beagle\n",
      "Neo               Dachshund\n",
      "dtype: object\n",
      "--\n",
      "Labrador Retriever\n",
      "--\n",
      "Alex     Labrador Retriever\n",
      "Alice                Beagle\n",
      "dtype: object\n",
      "--------------\n",
      "Alice    Beagle\n",
      "dtype: object\n",
      "--------------\n",
      "Neo      Dachshund\n",
      "Kenny    Shiba Inu\n",
      "dtype: object\n"
     ]
    }
   ],
   "source": [
    "# 資料選取方式\n",
    "# 使用上，你可以使用index 或是 key name來選取\n",
    "print(series_1[0])\n",
    "print('--')\n",
    "print(series_1[[0,1,2]])\n",
    "print('--')\n",
    "print(series_1['Alex'])\n",
    "print('--')\n",
    "print(series_1[['Alex','Alice']])"
   ]
  },
  {
   "cell_type": "code",
   "execution_count": 41,
   "metadata": {},
   "outputs": [
    {
     "name": "stdout",
     "output_type": "stream",
     "text": [
      "Alice    Beagle\n",
      "dtype: object\n",
      "--------------\n",
      "Alex     Labrador Retriever\n",
      "Alice                Beagle\n",
      "Neo               Dachshund\n",
      "dtype: object\n"
     ]
    }
   ],
   "source": [
    "# 也可以像這樣選取連續資料，因此說是序列的\n",
    "print(series_1[1:2]) # 從第2個到第3個\n",
    "print('--------------')\n",
    "print(series_1[:'Neo']) #從第一個 ~ Neo"
   ]
  },
  {
   "cell_type": "markdown",
   "metadata": {
    "slideshow": {
     "slide_type": "subslide"
    }
   },
   "source": [
    "### Series 跟一般的list比起來有何好處？"
   ]
  },
  {
   "cell_type": "code",
   "execution_count": 22,
   "metadata": {
    "slideshow": {
     "slide_type": "subslide"
    }
   },
   "outputs": [
    {
     "name": "stdout",
     "output_type": "stream",
     "text": [
      "0     15\n",
      "1     60\n",
      "2    200\n",
      "3     60\n",
      "dtype: int64\n"
     ]
    }
   ],
   "source": [
    "# 1. 可以直接運算Series\n",
    "price = pd.Series([15,20,40,10])\n",
    "count = pd.Series([1,3,5,6])\n",
    "total_price = price*count\n",
    "print(total_price)"
   ]
  },
  {
   "cell_type": "code",
   "execution_count": null,
   "metadata": {
    "slideshow": {
     "slide_type": "subslide"
    }
   },
   "outputs": [],
   "source": [
    "# 2. 運行速度快"
   ]
  },
  {
   "cell_type": "markdown",
   "metadata": {
    "slideshow": {
     "slide_type": "subslide"
    }
   },
   "source": [
    "### 接著講 Dataframe\n",
    "\n",
    "#### 建立方式"
   ]
  },
  {
   "cell_type": "code",
   "execution_count": 48,
   "metadata": {},
   "outputs": [
    {
     "name": "stdout",
     "output_type": "stream",
     "text": [
      "        pm10       pm25\n",
      "0  81.616714  55.480025\n",
      "1  21.346714  55.480055\n",
      "2  81.546714  55.416055\n",
      "3  61.646714  55.430055\n",
      "4  31.746714  55.280055\n"
     ]
    }
   ],
   "source": [
    "import pandas as pd\n",
    "\n",
    "pm25 = [55.4800251788,55.4800551787,55.4160551788,55.4300551788,55.2800551788]\n",
    "pm10 = [81.6167142157,21.3467142857,81.5467144857,61.6467142857,31.7467142857]\n",
    "dict = {'pm25': pm25,'pm10':pm10}\n",
    "df = pd.DataFrame(dict)\n",
    "print(df)"
   ]
  },
  {
   "cell_type": "code",
   "execution_count": 49,
   "metadata": {
    "slideshow": {
     "slide_type": "subslide"
    }
   },
   "outputs": [
    {
     "name": "stdout",
     "output_type": "stream",
     "text": [
      "        pm25       pm10\n",
      "0  52.480055  83.646714\n",
      "1  51.480055  85.646714\n",
      "2  59.480055  87.646714\n",
      "3  55.480055  89.646714\n",
      "4  57.480055  80.646714\n",
      "------\n",
      "0    52.480055\n",
      "1    51.480055\n",
      "2    59.480055\n",
      "3    55.480055\n",
      "4    57.480055\n",
      "Name: pm25, dtype: float64\n",
      "83.6467142857\n"
     ]
    }
   ],
   "source": [
    "# 如果你的資料本身已經是 2ed array 你也可以這樣建立\n",
    "import pandas as pd\n",
    "\n",
    "table = [\n",
    "    [52.4800551788,83.6467142857],\n",
    "    [51.4800551788,85.6467142857],\n",
    "    [59.4800551788,87.6467142857],\n",
    "    [55.4800551788,89.6467142857],\n",
    "    [57.4800551788,80.6467142857]\n",
    "]\n",
    "df = pd.DataFrame(table,columns = ['pm25','pm10'])\n",
    "print(df)\n",
    "print('------')\n",
    "print(df['pm25'])\n",
    "print(df.iloc[0,1]) # 選取第一列，第二欄的數值"
   ]
  },
  {
   "cell_type": "markdown",
   "metadata": {
    "slideshow": {
     "slide_type": "subslide"
    }
   },
   "source": [
    "### pandas 能直接對資料做排序\n",
    "透過 .sort_values 與 .sort_index 處理"
   ]
  },
  {
   "cell_type": "code",
   "execution_count": 62,
   "metadata": {
    "slideshow": {
     "slide_type": "-"
    }
   },
   "outputs": [
    {
     "data": {
      "text/html": [
       "<div>\n",
       "<style>\n",
       "    .dataframe thead tr:only-child th {\n",
       "        text-align: right;\n",
       "    }\n",
       "\n",
       "    .dataframe thead th {\n",
       "        text-align: left;\n",
       "    }\n",
       "\n",
       "    .dataframe tbody tr th {\n",
       "        vertical-align: top;\n",
       "    }\n",
       "</style>\n",
       "<table border=\"1\" class=\"dataframe\">\n",
       "  <thead>\n",
       "    <tr style=\"text-align: right;\">\n",
       "      <th></th>\n",
       "      <th>pm25</th>\n",
       "      <th>pm10</th>\n",
       "    </tr>\n",
       "  </thead>\n",
       "  <tbody>\n",
       "    <tr>\n",
       "      <th>2</th>\n",
       "      <td>59.480055</td>\n",
       "      <td>87.646714</td>\n",
       "    </tr>\n",
       "    <tr>\n",
       "      <th>4</th>\n",
       "      <td>57.480055</td>\n",
       "      <td>80.646714</td>\n",
       "    </tr>\n",
       "    <tr>\n",
       "      <th>3</th>\n",
       "      <td>55.480055</td>\n",
       "      <td>89.646714</td>\n",
       "    </tr>\n",
       "    <tr>\n",
       "      <th>0</th>\n",
       "      <td>52.480055</td>\n",
       "      <td>83.646714</td>\n",
       "    </tr>\n",
       "    <tr>\n",
       "      <th>1</th>\n",
       "      <td>51.480055</td>\n",
       "      <td>85.646714</td>\n",
       "    </tr>\n",
       "  </tbody>\n",
       "</table>\n",
       "</div>"
      ],
      "text/plain": [
       "        pm25       pm10\n",
       "2  59.480055  87.646714\n",
       "4  57.480055  80.646714\n",
       "3  55.480055  89.646714\n",
       "0  52.480055  83.646714\n",
       "1  51.480055  85.646714"
      ]
     },
     "execution_count": 62,
     "metadata": {},
     "output_type": "execute_result"
    }
   ],
   "source": [
    "import pandas as pd\n",
    "\n",
    "table = [\n",
    "    [52.4800551788,83.6467142857],\n",
    "    [51.4800551788,85.6467142857],\n",
    "    [59.4800551788,87.6467142857],\n",
    "    [55.4800551788,89.6467142857],\n",
    "    [57.4800551788,80.6467142857]\n",
    "]\n",
    "df = pd.DataFrame(table,columns = ['pm25','pm10'])\n",
    "df.sort_values(by = 'pm25',ascending=False) # ascending 可調整升降冪"
   ]
  },
  {
   "cell_type": "markdown",
   "metadata": {
    "slideshow": {
     "slide_type": "subslide"
    }
   },
   "source": [
    "### pandas 也可以直接從網路上讀取資料"
   ]
  },
  {
   "cell_type": "code",
   "execution_count": 68,
   "metadata": {
    "slideshow": {
     "slide_type": "-"
    }
   },
   "outputs": [
    {
     "name": "stdout",
     "output_type": "stream",
     "text": [
      "<class 'pandas.core.frame.DataFrame'>\n"
     ]
    }
   ],
   "source": [
    "# 臺南市健康促進醫院一覽表\n",
    "url = 'http://data.tainan.gov.tw/dataset/1b89994d-ab2a-4126-ab1e-ed1a0cfaeb27/resource/f169b4d7-11d7-400e-b061-249cf9a2bf34/download/1070612tnhp.csv'\n",
    "data = pd.read_csv(url, encoding='utf-8')\n",
    "print(type(data))"
   ]
  },
  {
   "cell_type": "markdown",
   "metadata": {
    "slideshow": {
     "slide_type": "subslide"
    }
   },
   "source": [
    "### 而 Pandas 也提供幾種常用的方法來查看你的資料\n",
    "\n",
    ".shape: 回傳列，欄數。 e.g. (8,7) <br>\n",
    ".info: 回傳資料 <br>\n",
    ".describe(): 回傳統計數字 <br>\n",
    ".columns: 回傳所有欄位名稱 \n",
    ".index: 回傳索引值，如 0~8 <br>\n",
    ".head(): 取前面幾行資料 <br>\n",
    ".tail(): 取後面幾行資料 <br>"
   ]
  },
  {
   "cell_type": "markdown",
   "metadata": {
    "slideshow": {
     "slide_type": "subslide"
    }
   },
   "source": [
    "以上面的臺南市健康促進醫院一覽表為例 "
   ]
  },
  {
   "cell_type": "code",
   "execution_count": 34,
   "metadata": {
    "slideshow": {
     "slide_type": "-"
    }
   },
   "outputs": [
    {
     "data": {
      "text/plain": [
       "<bound method DataFrame.info of      參與類別                  機構名稱              機構地址  負責人           電話  \\\n",
       "0  健康醫院認證             衛生福利部臺南醫院     臺南市中西區中山路125號  許博翔   06-2200055   \n",
       "1  健康醫院認證             衛生福利部新營醫院      臺南市新營區信義街73號  王裕煒   06-6351131   \n",
       "2  健康醫院認證             衛生福利部胸腔病院     台南市仁德區中山路864號  潘秋宜   06-2705911   \n",
       "3  健康醫院認證            衛生福利部嘉南療養院     台南市仁德區裕忠路539號  鄭靜明   06-2795019   \n",
       "4  健康醫院認證  台南市立醫院(委託秀傳醫療社團法人經營)    台南市東區崇德路 670 號  戴芳楟  06-2609926    \n",
       "5  健康醫院認證        奇美醫療財團法人佳里奇美醫院  台南市佳里區興化里佳里興606號  周偉倪   06-7263333   \n",
       "6  健康醫院認證       奇美醫療財團法人柳營奇美醫院    台南市柳營區太康里太康201號  黃順賢  06-622-6999   \n",
       "7  健康醫院認證                  永川醫院     台南市中西區成功路169號  蘇祐達   06-2245771   \n",
       "\n",
       "          緯度          經度  \n",
       "0  22.996071  120.208878  \n",
       "1  23.308923  120.313312  \n",
       "2  22.973720  120.244054  \n",
       "3  22.976788  120.242017  \n",
       "4  22.968706  120.226813  \n",
       "5  23.181669  120.183792  \n",
       "6  23.289918  120.329240  \n",
       "7  22.998097  120.206279  >"
      ]
     },
     "execution_count": 34,
     "metadata": {},
     "output_type": "execute_result"
    }
   ],
   "source": [
    "data.info"
   ]
  },
  {
   "cell_type": "code",
   "execution_count": 32,
   "metadata": {
    "slideshow": {
     "slide_type": "subslide"
    }
   },
   "outputs": [
    {
     "data": {
      "text/html": [
       "<div>\n",
       "<style>\n",
       "    .dataframe thead tr:only-child th {\n",
       "        text-align: right;\n",
       "    }\n",
       "\n",
       "    .dataframe thead th {\n",
       "        text-align: left;\n",
       "    }\n",
       "\n",
       "    .dataframe tbody tr th {\n",
       "        vertical-align: top;\n",
       "    }\n",
       "</style>\n",
       "<table border=\"1\" class=\"dataframe\">\n",
       "  <thead>\n",
       "    <tr style=\"text-align: right;\">\n",
       "      <th></th>\n",
       "      <th>緯度</th>\n",
       "      <th>經度</th>\n",
       "    </tr>\n",
       "  </thead>\n",
       "  <tbody>\n",
       "    <tr>\n",
       "      <th>count</th>\n",
       "      <td>8.000000</td>\n",
       "      <td>8.000000</td>\n",
       "    </tr>\n",
       "    <tr>\n",
       "      <th>mean</th>\n",
       "      <td>23.086737</td>\n",
       "      <td>120.244298</td>\n",
       "    </tr>\n",
       "    <tr>\n",
       "      <th>std</th>\n",
       "      <td>0.148580</td>\n",
       "      <td>0.051617</td>\n",
       "    </tr>\n",
       "    <tr>\n",
       "      <th>min</th>\n",
       "      <td>22.968706</td>\n",
       "      <td>120.183792</td>\n",
       "    </tr>\n",
       "    <tr>\n",
       "      <th>25%</th>\n",
       "      <td>22.976021</td>\n",
       "      <td>120.208228</td>\n",
       "    </tr>\n",
       "    <tr>\n",
       "      <th>50%</th>\n",
       "      <td>22.997084</td>\n",
       "      <td>120.234415</td>\n",
       "    </tr>\n",
       "    <tr>\n",
       "      <th>75%</th>\n",
       "      <td>23.208731</td>\n",
       "      <td>120.261369</td>\n",
       "    </tr>\n",
       "    <tr>\n",
       "      <th>max</th>\n",
       "      <td>23.308923</td>\n",
       "      <td>120.329240</td>\n",
       "    </tr>\n",
       "  </tbody>\n",
       "</table>\n",
       "</div>"
      ],
      "text/plain": [
       "              緯度          經度\n",
       "count   8.000000    8.000000\n",
       "mean   23.086737  120.244298\n",
       "std     0.148580    0.051617\n",
       "min    22.968706  120.183792\n",
       "25%    22.976021  120.208228\n",
       "50%    22.997084  120.234415\n",
       "75%    23.208731  120.261369\n",
       "max    23.308923  120.329240"
      ]
     },
     "execution_count": 32,
     "metadata": {},
     "output_type": "execute_result"
    }
   ],
   "source": [
    "data.describe()"
   ]
  },
  {
   "cell_type": "markdown",
   "metadata": {
    "slideshow": {
     "slide_type": "subslide"
    }
   },
   "source": [
    "### 有時(常常)外部拿到的資料會有空值，Pandas 亦可以用來判斷資料是否存在空值，並加以處理\n",
    "判斷空值:<br>\n",
    ".isnull() <br>\n",
    ".notnull() <br>\n",
    "\n",
    "處理空值: <br>\n",
    ".dropna() 把有空值的那一列資料砍掉<br>\n",
    ".fillna() 用其他數值把空值補上"
   ]
  },
  {
   "cell_type": "code",
   "execution_count": 80,
   "metadata": {
    "slideshow": {
     "slide_type": "subslide"
    }
   },
   "outputs": [
    {
     "name": "stdout",
     "output_type": "stream",
     "text": [
      "0    False\n",
      "1    False\n",
      "2     True\n",
      "3    False\n",
      "4    False\n",
      "5     True\n",
      "6    False\n",
      "7     True\n",
      "8    False\n",
      "Name: score, dtype: bool\n"
     ]
    }
   ],
   "source": [
    "# np.nan 是從 numpy 來的，意思是空值。\n",
    "table = [\n",
    "    ['A', 'Noah', 90],\n",
    "    ['B', 'Liam', 81],\n",
    "    ['C', 'William', np.nan],\n",
    "    ['B', 'Benjamin.', 82],\n",
    "    ['A', 'Emma.', 90],\n",
    "    ['C', 'Olivia', np.nan],\n",
    "    ['A', 'Isabella', 70],\n",
    "    ['C', 'Amelia', np.nan],\n",
    "    ['B', 'Mia', 88],\n",
    "]\n",
    "df = pd.DataFrame(table,columns = ['class','name','score'])\n",
    "print(df.loc[:,'score'].isnull()) # 列出每一列是不是有空值"
   ]
  },
  {
   "cell_type": "code",
   "execution_count": 82,
   "metadata": {
    "slideshow": {
     "slide_type": "subslide"
    }
   },
   "outputs": [
    {
     "name": "stdout",
     "output_type": "stream",
     "text": [
      "  class       name  score\n",
      "0     A       Noah   90.0\n",
      "1     B       Liam   81.0\n",
      "2     C    William   83.5\n",
      "3     B  Benjamin.   82.0\n",
      "4     A      Emma.   90.0\n",
      "5     C     Olivia   83.5\n",
      "6     A   Isabella   70.0\n",
      "7     C     Amelia   83.5\n",
      "8     B        Mia   88.0\n"
     ]
    }
   ],
   "source": [
    "# np.nan 是從 numpy 來的，意思是空值。\n",
    "table = [\n",
    "    ['A', 'Noah', 90],\n",
    "    ['B', 'Liam', 81],\n",
    "    ['C', 'William', np.nan],\n",
    "    ['B', 'Benjamin.', 82],\n",
    "    ['A', 'Emma.', 90],\n",
    "    ['C', 'Olivia', np.nan],\n",
    "    ['A', 'Isabella', 70],\n",
    "    ['C', 'Amelia', np.nan],\n",
    "    ['B', 'Mia', 88],\n",
    "]\n",
    "df = pd.DataFrame(table,columns = ['class','name','score'])\n",
    "new_df = df.fillna(df['score'].mean()) # 把空值用平均分數補上\n",
    "# or new_df = df.fillna({'score': df['score'].mean()}) 選擇哪些欄位要用什麼資料填補空值\n",
    "\n",
    "print(new_df)"
   ]
  },
  {
   "cell_type": "markdown",
   "metadata": {
    "slideshow": {
     "slide_type": "subslide"
    }
   },
   "source": [
    "### Exercise 1 (計分練習)\n",
    "\n",
    "嘗試透過閱讀 [pandas 文件](http://pandas.pydata.org/pandas-docs/stable/)來了解 groupby的用法，\n",
    "並印出下列各班級的分數平均值與分數總和"
   ]
  },
  {
   "cell_type": "code",
   "execution_count": 64,
   "metadata": {
    "slideshow": {
     "slide_type": "-"
    }
   },
   "outputs": [],
   "source": [
    "table = [\n",
    "    ['A', 'Noah', 90],\n",
    "    ['B', 'Liam', 81],\n",
    "    ['C', 'William', 87],\n",
    "    ['B', 'Benjamin.', 82],\n",
    "    ['A', 'Emma.', 90],\n",
    "    ['C', 'Olivia', 50],\n",
    "    ['A', 'Isabella', 70],\n",
    "    ['C', 'Amelia', 84],\n",
    "    ['B', 'Mia', 88],\n",
    "]\n",
    "df = pd.DataFrame(table,columns = ['class','name','score'])\n",
    "# print(something) total score\n",
    "# print(something) mean score"
   ]
  },
  {
   "cell_type": "markdown",
   "metadata": {
    "slideshow": {
     "slide_type": "slide"
    }
   },
   "source": [
    "## 接下來講 Matplotlib\n",
    "\n",
    "他是一種用來資料視覺化的 python 套件，除了 Matplotlib之外，常見的還有 Seaborn 跟 Plotly。"
   ]
  },
  {
   "cell_type": "code",
   "execution_count": null,
   "metadata": {},
   "outputs": [],
   "source": []
  },
  {
   "cell_type": "code",
   "execution_count": null,
   "metadata": {},
   "outputs": [],
   "source": []
  },
  {
   "cell_type": "markdown",
   "metadata": {
    "slideshow": {
     "slide_type": "subslide"
    }
   },
   "source": []
  },
  {
   "cell_type": "markdown",
   "metadata": {},
   "source": []
  },
  {
   "cell_type": "code",
   "execution_count": null,
   "metadata": {},
   "outputs": [],
   "source": []
  },
  {
   "cell_type": "code",
   "execution_count": null,
   "metadata": {},
   "outputs": [],
   "source": []
  },
  {
   "cell_type": "code",
   "execution_count": null,
   "metadata": {},
   "outputs": [],
   "source": []
  },
  {
   "cell_type": "code",
   "execution_count": null,
   "metadata": {},
   "outputs": [],
   "source": []
  },
  {
   "cell_type": "code",
   "execution_count": null,
   "metadata": {},
   "outputs": [],
   "source": []
  },
  {
   "cell_type": "code",
   "execution_count": null,
   "metadata": {},
   "outputs": [],
   "source": []
  },
  {
   "cell_type": "code",
   "execution_count": null,
   "metadata": {},
   "outputs": [],
   "source": []
  },
  {
   "cell_type": "code",
   "execution_count": null,
   "metadata": {},
   "outputs": [],
   "source": []
  },
  {
   "cell_type": "code",
   "execution_count": null,
   "metadata": {},
   "outputs": [],
   "source": []
  },
  {
   "cell_type": "code",
   "execution_count": null,
   "metadata": {},
   "outputs": [],
   "source": []
  },
  {
   "cell_type": "code",
   "execution_count": null,
   "metadata": {},
   "outputs": [],
   "source": []
  },
  {
   "cell_type": "code",
   "execution_count": null,
   "metadata": {},
   "outputs": [],
   "source": []
  },
  {
   "cell_type": "code",
   "execution_count": null,
   "metadata": {},
   "outputs": [],
   "source": []
  },
  {
   "cell_type": "code",
   "execution_count": null,
   "metadata": {},
   "outputs": [],
   "source": []
  },
  {
   "cell_type": "code",
   "execution_count": null,
   "metadata": {},
   "outputs": [],
   "source": []
  },
  {
   "cell_type": "code",
   "execution_count": null,
   "metadata": {},
   "outputs": [],
   "source": []
  },
  {
   "cell_type": "code",
   "execution_count": null,
   "metadata": {},
   "outputs": [],
   "source": []
  },
  {
   "cell_type": "code",
   "execution_count": null,
   "metadata": {},
   "outputs": [],
   "source": []
  },
  {
   "cell_type": "code",
   "execution_count": null,
   "metadata": {},
   "outputs": [],
   "source": []
  },
  {
   "cell_type": "code",
   "execution_count": null,
   "metadata": {},
   "outputs": [],
   "source": []
  },
  {
   "cell_type": "code",
   "execution_count": null,
   "metadata": {},
   "outputs": [],
   "source": []
  },
  {
   "cell_type": "code",
   "execution_count": null,
   "metadata": {},
   "outputs": [],
   "source": []
  },
  {
   "cell_type": "code",
   "execution_count": null,
   "metadata": {},
   "outputs": [],
   "source": []
  },
  {
   "cell_type": "code",
   "execution_count": null,
   "metadata": {},
   "outputs": [],
   "source": []
  },
  {
   "cell_type": "code",
   "execution_count": null,
   "metadata": {},
   "outputs": [],
   "source": []
  },
  {
   "cell_type": "code",
   "execution_count": null,
   "metadata": {},
   "outputs": [],
   "source": []
  },
  {
   "cell_type": "code",
   "execution_count": null,
   "metadata": {},
   "outputs": [],
   "source": []
  },
  {
   "cell_type": "code",
   "execution_count": null,
   "metadata": {},
   "outputs": [],
   "source": []
  },
  {
   "cell_type": "code",
   "execution_count": null,
   "metadata": {},
   "outputs": [],
   "source": []
  },
  {
   "cell_type": "code",
   "execution_count": null,
   "metadata": {},
   "outputs": [],
   "source": []
  },
  {
   "cell_type": "code",
   "execution_count": null,
   "metadata": {},
   "outputs": [],
   "source": []
  },
  {
   "cell_type": "code",
   "execution_count": null,
   "metadata": {},
   "outputs": [],
   "source": []
  },
  {
   "cell_type": "code",
   "execution_count": null,
   "metadata": {},
   "outputs": [],
   "source": []
  },
  {
   "cell_type": "code",
   "execution_count": null,
   "metadata": {},
   "outputs": [],
   "source": []
  },
  {
   "cell_type": "code",
   "execution_count": null,
   "metadata": {},
   "outputs": [],
   "source": []
  },
  {
   "cell_type": "code",
   "execution_count": null,
   "metadata": {},
   "outputs": [],
   "source": []
  },
  {
   "cell_type": "code",
   "execution_count": null,
   "metadata": {},
   "outputs": [],
   "source": []
  },
  {
   "cell_type": "code",
   "execution_count": null,
   "metadata": {},
   "outputs": [],
   "source": []
  },
  {
   "cell_type": "code",
   "execution_count": null,
   "metadata": {},
   "outputs": [],
   "source": []
  },
  {
   "cell_type": "code",
   "execution_count": null,
   "metadata": {},
   "outputs": [],
   "source": []
  },
  {
   "cell_type": "code",
   "execution_count": null,
   "metadata": {},
   "outputs": [],
   "source": []
  },
  {
   "cell_type": "code",
   "execution_count": null,
   "metadata": {},
   "outputs": [],
   "source": []
  },
  {
   "cell_type": "code",
   "execution_count": null,
   "metadata": {},
   "outputs": [],
   "source": []
  },
  {
   "cell_type": "code",
   "execution_count": null,
   "metadata": {},
   "outputs": [],
   "source": []
  },
  {
   "cell_type": "code",
   "execution_count": null,
   "metadata": {},
   "outputs": [],
   "source": []
  },
  {
   "cell_type": "code",
   "execution_count": null,
   "metadata": {},
   "outputs": [],
   "source": []
  },
  {
   "cell_type": "code",
   "execution_count": null,
   "metadata": {},
   "outputs": [],
   "source": []
  },
  {
   "cell_type": "code",
   "execution_count": null,
   "metadata": {},
   "outputs": [],
   "source": []
  },
  {
   "cell_type": "code",
   "execution_count": null,
   "metadata": {},
   "outputs": [],
   "source": []
  },
  {
   "cell_type": "code",
   "execution_count": null,
   "metadata": {},
   "outputs": [],
   "source": []
  },
  {
   "cell_type": "code",
   "execution_count": null,
   "metadata": {},
   "outputs": [],
   "source": []
  },
  {
   "cell_type": "code",
   "execution_count": null,
   "metadata": {},
   "outputs": [],
   "source": []
  },
  {
   "cell_type": "code",
   "execution_count": null,
   "metadata": {},
   "outputs": [],
   "source": []
  },
  {
   "cell_type": "code",
   "execution_count": null,
   "metadata": {},
   "outputs": [],
   "source": []
  }
 ],
 "metadata": {
  "celltoolbar": "Slideshow",
  "kernelspec": {
   "display_name": "Python 3",
   "language": "python",
   "name": "python3"
  },
  "language_info": {
   "codemirror_mode": {
    "name": "ipython",
    "version": 3
   },
   "file_extension": ".py",
   "mimetype": "text/x-python",
   "name": "python",
   "nbconvert_exporter": "python",
   "pygments_lexer": "ipython3",
   "version": "3.6.2"
  }
 },
 "nbformat": 4,
 "nbformat_minor": 2
}
