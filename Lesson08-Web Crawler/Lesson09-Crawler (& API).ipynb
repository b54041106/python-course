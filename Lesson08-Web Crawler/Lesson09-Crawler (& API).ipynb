{
 "cells": [
  {
   "cell_type": "markdown",
   "metadata": {
    "slideshow": {
     "slide_type": "slide"
    }
   },
   "source": [
    "# [X-Village] Lesson 09 - Crawler (& API)\n",
    "## By 呂伯駿 (Po Chun)"
   ]
  },
  {
   "cell_type": "markdown",
   "metadata": {
    "slideshow": {
     "slide_type": "subslide"
    }
   },
   "source": [
    "上課前可以用pip裝一下 requests-html\n",
    "\n",
    "pip install requests-html\n",
    "\n",
    "待會會用到這個外部套件 🚀"
   ]
  },
  {
   "cell_type": "markdown",
   "metadata": {
    "slideshow": {
     "slide_type": "slide"
    }
   },
   "source": [
    "### 今天的 Roadmap：\n",
    "\n",
    "<img src=\"https://i.imgur.com/0B53NfV.png\">"
   ]
  },
  {
   "cell_type": "markdown",
   "metadata": {
    "slideshow": {
     "slide_type": "subslide"
    }
   },
   "source": [
    "### 待會你會先學到三件事：\n",
    "\n",
    "- API 是什麼?\n",
    "- 為什麼需要 API?\n",
    "- API 怎麼用? (計分練習)"
   ]
  },
  {
   "cell_type": "markdown",
   "metadata": {
    "slideshow": {
     "slide_type": "slide"
    }
   },
   "source": [
    "## 1.1 API 是什麼？ \n",
    "\n",
    "#### 聽過 API 的話請舉手～"
   ]
  },
  {
   "cell_type": "markdown",
   "metadata": {
    "slideshow": {
     "slide_type": "subslide"
    }
   },
   "source": [
    "### 應用程式介面\n",
    "### Application Programming Interface"
   ]
  },
  {
   "cell_type": "markdown",
   "metadata": {
    "slideshow": {
     "slide_type": "subslide"
    }
   },
   "source": [
    "蛤？ \n",
    "<img src=\"https://i.imgur.com/friaaLF.png\" >"
   ]
  },
  {
   "cell_type": "markdown",
   "metadata": {
    "slideshow": {
     "slide_type": "subslide"
    }
   },
   "source": [
    "### 先別管應用程式介面 (API) 了，你聽過介面 (Interface) 嗎？"
   ]
  },
  {
   "cell_type": "markdown",
   "metadata": {
    "slideshow": {
     "slide_type": "subslide"
    }
   },
   "source": [
    "### 先回憶一下 \"介面\" (Interface)\n",
    "\n",
    "<img src=\"https://i.imgur.com/Tx6oby9.png\" >"
   ]
  },
  {
   "cell_type": "markdown",
   "metadata": {
    "slideshow": {
     "slide_type": "subslide"
    }
   },
   "source": [
    "### 同理，User Interface 意思是...\n",
    "\n",
    "<img src=\"https://i.imgur.com/aTPIpwR.png\">"
   ]
  },
  {
   "cell_type": "markdown",
   "metadata": {
    "slideshow": {
     "slide_type": "subslide"
    }
   },
   "source": [
    "### 以 Google 為例，UI的部分是\n",
    "\n",
    "<img src=\"https://i.imgur.com/VCBcB5Y.png\">"
   ]
  },
  {
   "cell_type": "markdown",
   "metadata": {
    "slideshow": {
     "slide_type": "subslide"
    }
   },
   "source": [
    "<div style=\"text-align=center\">\n",
    "    <h3 style=\"text-align=center;\">因此，在Google首頁上你看得到的就是 UI，那個輸入框是UI，那個按鈕也是...</h3>\n",
    "    <img src=\"https://i.imgur.com/li7rT7o.png\">\n",
    "</div>"
   ]
  },
  {
   "cell_type": "markdown",
   "metadata": {
    "slideshow": {
     "slide_type": "subslide"
    }
   },
   "source": [
    "\n",
    "<div style=\"text-align=center\">\n",
    "    <h3 style=\"text-align=centr;\"> UI其實是讓使用者能跟系統溝通，操作系統的東西</h3>\n",
    "    <h4>廣義而言，電梯按鈕或飲水機按鈕或飯店櫃臺都是UI</h4>\n",
    "    <img src=\"https://i.imgur.com/yjAzKB4.png\">\n",
    "</div>"
   ]
  },
  {
   "cell_type": "markdown",
   "metadata": {
    "slideshow": {
     "slide_type": "subslide"
    }
   },
   "source": [
    "## 那應用程式介面 (API) 是什麼？"
   ]
  },
  {
   "cell_type": "markdown",
   "metadata": {
    "slideshow": {
     "slide_type": "subslide"
    }
   },
   "source": [
    "<div style=\"text-align=center\">\n",
    "    <h3 style=\"text-align=center;\">讓 應用程式 能跟 系統 溝通，操作系統的東西</h3>\n",
    "    <img src=\"https://i.imgur.com/uoeHtMz.png\">\n",
    "</div>"
   ]
  },
  {
   "cell_type": "markdown",
   "metadata": {
    "slideshow": {
     "slide_type": "slide"
    }
   },
   "source": [
    "## 1.2 那為什麼需要API?\n",
    "生活情境\n",
    "- 開放資料 (政府天氣資料)\n",
    "- 開放服務 (Google 日曆)\n",
    "\n",
    "開發情境\n",
    "- 作業系統 API\n",
    "- 軟硬體 API"
   ]
  },
  {
   "cell_type": "markdown",
   "metadata": {
    "slideshow": {
     "slide_type": "subslide"
    }
   },
   "source": [
    "### 1.2.1 政府有一堆資料，政府能拿它們做什麼？"
   ]
  },
  {
   "cell_type": "markdown",
   "metadata": {
    "slideshow": {
     "slide_type": "subslide"
    }
   },
   "source": [
    "### 開放開源資料、開發 API !\n",
    "<img src=\"https://i.imgur.com/kBiVjoD.png\">"
   ]
  },
  {
   "cell_type": "markdown",
   "metadata": {
    "slideshow": {
     "slide_type": "subslide"
    }
   },
   "source": [
    "### 開放應用程式介面之後，就能做很多事!\n",
    "<img src=\"https://i.imgur.com/Yy4d0e4.png\">"
   ]
  },
  {
   "cell_type": "markdown",
   "metadata": {
    "slideshow": {
     "slide_type": "subslide"
    }
   },
   "source": [
    "### 1.2.2 視使用情境，API 不見得只能取得資料，也能修改，刪除，建立新資料。"
   ]
  },
  {
   "cell_type": "markdown",
   "metadata": {
    "slideshow": {
     "slide_type": "subslide"
    }
   },
   "source": [
    "例如 Google 日曆 API 可以讓你用程式取得，建立，修改，刪除行事曆資料。<br>\n",
    "然後你就可以以此開發各種服務\n",
    "\n",
    "<img src=\"https://i.imgur.com/DEqqn6l.png\">"
   ]
  },
  {
   "cell_type": "markdown",
   "metadata": {},
   "source": [
    "### 間接用途"
   ]
  },
  {
   "cell_type": "markdown",
   "metadata": {
    "slideshow": {
     "slide_type": "subslide"
    }
   },
   "source": [
    "<div style=\"text-align=center\">\n",
    "    <h3 style=\"text-align=center;\">假設老闆給你個任務</h3>\n",
    "    <img src=\"https://i.imgur.com/QdTi5aY.png\">\n",
    "</div>"
   ]
  },
  {
   "cell_type": "markdown",
   "metadata": {
    "slideshow": {
     "slide_type": "subslide"
    }
   },
   "source": [
    "<div style=\"text-align=center\">\n",
    "    <h3 style=\"text-align=center;\"></h3>\n",
    "    <img src=\"https://i.imgur.com/jycJ0K3.png\">\n",
    "</div>"
   ]
  },
  {
   "cell_type": "markdown",
   "metadata": {
    "slideshow": {
     "slide_type": "subslide"
    }
   },
   "source": [
    "<div style=\"text-align=center\">\n",
    "    <h3 style=\"text-align=center;\"></h3>\n",
    "    <img src=\"https://i.imgur.com/0NynGlE.png\">\n",
    "</div>"
   ]
  },
  {
   "cell_type": "markdown",
   "metadata": {
    "slideshow": {
     "slide_type": "subslide"
    }
   },
   "source": [
    "<div style=\"text-align=center\">\n",
    "    <h4 style=\"text-align=center;\">其實，你可以寫一隻程式，透過google的API來操作google，也就是說，你可以寫一支程式來搜尋100個關鍵字</h4>\n",
    "    <img src=\"https://i.imgur.com/gnZVFeS.png\">\n",
    "</div>"
   ]
  },
  {
   "cell_type": "markdown",
   "metadata": {
    "slideshow": {
     "slide_type": "subslide"
    }
   },
   "source": [
    "### API定義了一個讓程式間能相互溝通存取的介面，能讓別人幫你的服務加值，也可以將工作自動化以減少不必要的人力。"
   ]
  },
  {
   "cell_type": "markdown",
   "metadata": {
    "slideshow": {
     "slide_type": "subslide"
    }
   },
   "source": [
    "## 消化一下"
   ]
  },
  {
   "cell_type": "markdown",
   "metadata": {
    "slideshow": {
     "slide_type": "subslide"
    }
   },
   "source": [
    "## 現在知道API是什麼請舉手～ ✋"
   ]
  },
  {
   "cell_type": "markdown",
   "metadata": {
    "slideshow": {
     "slide_type": "slide"
    }
   },
   "source": [
    "## 1.3 那怎麼用 API？"
   ]
  },
  {
   "cell_type": "markdown",
   "metadata": {
    "slideshow": {
     "slide_type": "subslide"
    }
   },
   "source": [
    "### 一些常見的 API 可以讓你用剛才教的 GET, POST, PUT, DELETE 等 Request 操作\n",
    "\n",
    "<img src=\"https://i.imgur.com/qMHSJez.png\">\n",
    "\n",
    "這種 API 的格式 叫 RESTful API，有興趣的可以看這篇[回答](https://www.zhihu.com/question/28557115)"
   ]
  },
  {
   "cell_type": "markdown",
   "metadata": {
    "slideshow": {
     "slide_type": "subslide"
    }
   },
   "source": [
    "我們先用 [Reqres](https://reqres.in/) 這個網站來看一下效果<br>\n",
    "Request 那裏的是要呼叫的網址，Response 那裏則是你會收到的內容(通常是JSON格式)\n",
    "\n",
    "<img src=\"https://i.imgur.com/zdULxrz.png\">"
   ]
  },
  {
   "cell_type": "markdown",
   "metadata": {
    "slideshow": {
     "slide_type": "subslide"
    }
   },
   "source": [
    "/api/users?page=2 後面的 ?page=2 是什麼意思？\n",
    "\n",
    "<img src=\"https://i.imgur.com/D1ppwPF.png\">"
   ]
  },
  {
   "cell_type": "markdown",
   "metadata": {
    "slideshow": {
     "slide_type": "subslide"
    }
   },
   "source": [
    "如果是 GET request，在網址最末端加上 '?' 後，可以繼續附帶參數(parameter)，\n",
    "以這裡來說，GET /api/users?page=2 就是取得第二頁的使用者的意思，如果他的使用者資料有1000000筆，為避免一次回傳過多資料，\n",
    "通常我們會用page來讓別人能分批取得使用者資料。\n",
    "\n",
    "若看到 GET /api/users?page=2&gender=male&age=20  意思就會是： 取得第二頁且性別為男性且年齡為20的使用者。 <br>\n",
    "(不過[Reqres](https://reqres.in/)這個網站沒提供這種進階搜尋的功能就是了)\n",
    "\n"
   ]
  },
  {
   "cell_type": "markdown",
   "metadata": {
    "slideshow": {
     "slide_type": "subslide"
    }
   },
   "source": [
    "給大家 10 分鐘，大家可以操作一下上面的 [Reqres](https://reqres.in/) 這個網站"
   ]
  },
  {
   "cell_type": "markdown",
   "metadata": {
    "slideshow": {
     "slide_type": "subslide"
    }
   },
   "source": [
    "### Example 1.1\n",
    "使用[NY Times API](https://works.ioa.tw/weather/api/doc/index.html) 取得暢銷書歷史紀錄\n",
    "<img src=\"https://i.imgur.com/Ii7APDB.png\">"
   ]
  },
  {
   "cell_type": "markdown",
   "metadata": {
    "slideshow": {
     "slide_type": "subslide"
    }
   },
   "source": [
    "先取得 API key\n",
    "<img src=\"https://i.imgur.com/bkhMBmX.png\">"
   ]
  },
  {
   "cell_type": "markdown",
   "metadata": {
    "slideshow": {
     "slide_type": "subslide"
    }
   },
   "source": [
    "找Book API -> GET  /lists/best-sellers/history.json\n",
    "\n",
    "<img src=\"https://i.imgur.com/WsIKwvX.png\">"
   ]
  },
  {
   "cell_type": "markdown",
   "metadata": {},
   "source": [
    "他有提供很方便的測試環境，只要在 左側 API key 那裏輸入剛才拿到的 key，即可取得結果。\n",
    "<img src=\"https://i.imgur.com/nJVsEGg.png\">"
   ]
  },
  {
   "cell_type": "code",
   "execution_count": 19,
   "metadata": {
    "slideshow": {
     "slide_type": "subslide"
    }
   },
   "outputs": [],
   "source": [
    "import json\n",
    "import requests\n",
    "api_key = '你剛拿到的 api-key'\n",
    "url = 'https://api.nytimes.com/svc/books/v3/lists/best-sellers/history.json?api-key=' + api_key\n",
    "r = requests.get(url)\n",
    "r.encoding = 'utf-8' \n",
    "# print(r.text)"
   ]
  },
  {
   "cell_type": "code",
   "execution_count": 20,
   "metadata": {},
   "outputs": [
    {
     "name": "stdout",
     "output_type": "stream",
     "text": [
      "31425\n"
     ]
    }
   ],
   "source": [
    "data = json.loads(r.text)\n",
    "print(data['num_results'])"
   ]
  },
  {
   "cell_type": "markdown",
   "metadata": {
    "slideshow": {
     "slide_type": "subslide"
    }
   },
   "source": [
    "[補充] <br>\n",
    "為了避免有人瘋狂發API拖慢系統，有些(多數) API 因為要商用或有驗證身份的需求，會要求你先註冊一個帳號來取得一個 API Key，這時你就需要在發送 request 時一併將這個 API Key 發送給對方才能得到資料。 這類 API 通常會限制每小時的使用次數。"
   ]
  },
  {
   "cell_type": "markdown",
   "metadata": {
    "slideshow": {
     "slide_type": "subslide"
    }
   },
   "source": [
    "### Exercise 1.1\n",
    "請先閱讀這份 [Weather API](https://www.metaweather.com/api/) ，再編寫出一支程式 print 出台北今天(7/18)的天氣為何。<br>\n",
    "可以先找到台北的 woeid，再使用後面查詢天氣的API。\n",
    "\n",
    "注意：請了解 GET /api/location/(woeid)/ 後回傳的資料的意義，可以先觀察他回傳的資料，再嘗試將該天氣print出來。\n",
    "<img src=\"https://i.imgur.com/sU6oE4N.png\">\n",
    "\n",
    "練完你就會串基本的API了 🙌 <br>"
   ]
  },
  {
   "cell_type": "markdown",
   "metadata": {
    "slideshow": {
     "slide_type": "slide"
    }
   },
   "source": [
    "接下來你會學到幾件事\n",
    "\n",
    "- 爬蟲是什麼？ 它在爬什麼？\n",
    "- 怎麼寫一個可以爬一般網站的爬蟲 (計分練習ex2.2-2)\n",
    "- [延伸] 怎麼寫一個可以爬特殊網站的爬蟲\n"
   ]
  },
  {
   "cell_type": "markdown",
   "metadata": {
    "slideshow": {
     "slide_type": "subslide"
    }
   },
   "source": [
    "### 看 Roadmap 的話，你現在會在這裡\n",
    "\n",
    "<img src=\"https://i.imgur.com/mDAilJ1.png\">"
   ]
  },
  {
   "cell_type": "markdown",
   "metadata": {
    "slideshow": {
     "slide_type": "slide"
    }
   },
   "source": [
    "## 2.1 爬蟲是什麼？\n",
    "\n",
    "#### 知道爬蟲是什麼的請舉手？"
   ]
  },
  {
   "cell_type": "markdown",
   "metadata": {
    "slideshow": {
     "slide_type": "subslide"
    }
   },
   "source": [
    "一隻程式，透過自動瀏覽網際網路並下載資料，可用於編纂網路索引來建立搜尋引擎。"
   ]
  },
  {
   "cell_type": "markdown",
   "metadata": {
    "slideshow": {
     "slide_type": "subslide"
    }
   },
   "source": [
    "蛤？？ \n",
    "<img src=\"https://i.imgur.com/friaaLF.png\" >"
   ]
  },
  {
   "cell_type": "markdown",
   "metadata": {
    "slideshow": {
     "slide_type": "subslide"
    }
   },
   "source": [
    "記得早上的 Request Response 流程嗎？ 你也可以從response中取得網頁的內容 (html)\n",
    "\n",
    "<img src=\"https://i.imgur.com/miTeCL2.png\">"
   ]
  },
  {
   "cell_type": "markdown",
   "metadata": {
    "slideshow": {
     "slide_type": "subslide"
    }
   },
   "source": [
    "比方說你嘗試用上面的方法取得 Wiki 百科 某一頁 <br>\n",
    "你得到的 html 裡面通常會有很多超連結，而當爬蟲程式看到超連結時，也可以選擇順手把這些超連結存下來，等爬(載)完這一頁之後，再取得其他超連結的資料。\n",
    "<img src=\"https://i.imgur.com/DkwH9w5.png\">"
   ]
  },
  {
   "cell_type": "markdown",
   "metadata": {
    "slideshow": {
     "slide_type": "subslide"
    }
   },
   "source": [
    "爬完這一頁後再跳到下一頁，然後再重複... 直到爬完整個 Wiki <br>\n",
    "或你電腦爆掉 💥 <br>\n",
    "所以才叫爬蟲。\n",
    "\n",
    "<img src=\"https://i.imgur.com/9Ekj9K8.png)\">\n",
    "其實網路上超過 50% 的流量都不是人類的流量 [Ref](https://www.incapsula.com/blog/bot-traffic-report-2016.html)。"
   ]
  },
  {
   "cell_type": "markdown",
   "metadata": {
    "slideshow": {
     "slide_type": "subslide"
    }
   },
   "source": [
    "### 回來看爬蟲是什麼？\n",
    "一隻程式，透過自動瀏覽網際網路並下載資料，而當你把網路上多數網站爬完時(要有錢買設備)，你也可用於編纂網路索引，進而建立搜尋引擎。<br>\n",
    "一般一點的用途也可以拿來找最便宜的飯店，或是取得某個網站所有的電影評論。\n",
    "\n",
    "很多情況我們只會想爬某個網站，或是某個頁面。\n",
    "\n",
    "### 爬什麼？\n",
    "網頁中的內容(html)，後續可再擷取出有效資訊(例如文字)。"
   ]
  },
  {
   "cell_type": "markdown",
   "metadata": {
    "slideshow": {
     "slide_type": "subslide"
    }
   },
   "source": [
    "### 消化一下"
   ]
  },
  {
   "cell_type": "markdown",
   "metadata": {
    "slideshow": {
     "slide_type": "subslide"
    }
   },
   "source": [
    "#### 現在知道爬蟲是什麼的請舉手 ✋"
   ]
  },
  {
   "cell_type": "markdown",
   "metadata": {
    "slideshow": {
     "slide_type": "subslide"
    }
   },
   "source": [
    "#### 爬蟲禮儀 1\n",
    "當然，有些網站不希望別人去爬取他的內容，因此他會在網頁最上層(some_url/robots.txt)放個 robots.txt<br>\n",
    "例如知乎的 robots.txt 放在[https://www.zhihu.com/robots.txt](https://www.zhihu.com/robots.txt)\n",
    "\n",
    "<img src=\"https://i.imgur.com/hQp2ffV.png\">\n",
    "Disallow 後面的東西表示他不希望你爬的頁面。(通常會是登入/註冊等頁面)<br>\n",
    "但這東西基本上對程式沒有約束力，你還是可以爬不會被擋下來，但如果你太高調或是拿去商業用，對方又剛好有錢有閒，可能會被他吉。"
   ]
  },
  {
   "cell_type": "markdown",
   "metadata": {
    "slideshow": {
     "slide_type": "subslide"
    }
   },
   "source": [
    "#### 爬蟲禮儀 2\n",
    "除了上面提到的 robots.txt 之外，一般爬蟲也不建議\"太過頻繁\"的爬取特定網頁的內容，這樣的行為可能會使對方網站阻塞。<br>\n",
    "通常爬蟲發送request的頻率建議控制在 1秒 1次，以不超過人類的操作速度為佳。"
   ]
  },
  {
   "cell_type": "markdown",
   "metadata": {
    "slideshow": {
     "slide_type": "slide"
    }
   },
   "source": [
    "## 2.2 那怎麼寫一個可以爬一般網站的爬蟲?"
   ]
  },
  {
   "cell_type": "markdown",
   "metadata": {
    "collapsed": true,
    "slideshow": {
     "slide_type": "subslide"
    }
   },
   "source": [
    "# 你可以用 [request_html](https://html.python-requests.org/index.html)\n",
    "\n",
    "\n",
    "它能像\"requests 套件\"一樣發送 http request(其實他把requests套件包在裡面), 也能解析 response 回傳 html的字串，取得想要的資訊 <br>\n",
    "\n",
    "<img src=\"https://i.imgur.com/1URO9JX.png\">"
   ]
  },
  {
   "cell_type": "markdown",
   "metadata": {
    "slideshow": {
     "slide_type": "subslide"
    }
   },
   "source": [
    "[補充] <br>\n",
    "除了 request_html 之外，類似功用的套件還有 beautifulsoup，不過 beautifulsoup 只有解析 html 字串的功能，發送 request 還是要靠 \"requests 套件\""
   ]
  },
  {
   "cell_type": "markdown",
   "metadata": {
    "slideshow": {
     "slide_type": "subslide"
    }
   },
   "source": [
    "### 安裝\n",
    "pip install request_html"
   ]
  },
  {
   "cell_type": "markdown",
   "metadata": {
    "slideshow": {
     "slide_type": "subslide"
    }
   },
   "source": [
    "### 爬蟲基礎網站\n",
    "\n",
    "連結：[Quotes](http://quotes.toscrape.com/)\n",
    "\n",
    "![alt text](./src/c1.png)"
   ]
  },
  {
   "cell_type": "markdown",
   "metadata": {
    "slideshow": {
     "slide_type": "subslide"
    }
   },
   "source": [
    "## Example 2.2-1\n",
    "\n",
    "任務： Print 出 \"[首頁](http://quotes.toscrape.com/)\" 所有的 Quotes\n",
    "\n",
    "![alt text](./src/c2.png)\n",
    "\n",
    "\n"
   ]
  },
  {
   "cell_type": "markdown",
   "metadata": {
    "slideshow": {
     "slide_type": "subslide"
    }
   },
   "source": [
    "步驟 1: 開啟開發人員工具，查看 Element 資訊\n",
    "- 開啟方式  \n",
    "    - Windows / Linux: \"Ctrl + Shift + I\" or F12 \n",
    "    - Mac: \"Command(⌘) + Option + I\"\n",
    "- 選取方式\n",
    "    1. 右鍵 > 檢查元素 or 檢查\n",
    "    2. 使用 \"Select\" \n",
    "\n",
    "![alt text](./src/c3.png)"
   ]
  },
  {
   "cell_type": "markdown",
   "metadata": {
    "slideshow": {
     "slide_type": "subslide"
    }
   },
   "source": [
    "確認 \"滑鼠右鍵 > 檢查網頁原始碼\"內的內容跟 \"瀏覽器開發人員工具\"的內容 是否一致。<br>\n",
    "若不做處理，一般來說爬蟲只會取得 \"滑鼠右鍵 > 檢查網頁原始碼\" 內的 html資訊，有時這資訊會與瀏覽器開發人員工具\"的內容不同\n",
    "\n",
    "<img src=\"https://i.imgur.com/rraQR59.png\">\n"
   ]
  },
  {
   "cell_type": "markdown",
   "metadata": {
    "slideshow": {
     "slide_type": "subslide"
    }
   },
   "source": [
    "步驟 2: 引用Package，取得 html string"
   ]
  },
  {
   "cell_type": "code",
   "execution_count": 67,
   "metadata": {
    "slideshow": {
     "slide_type": "-"
    }
   },
   "outputs": [
    {
     "name": "stdout",
     "output_type": "stream",
     "text": [
      "<Response [200]>\n",
      "Quotes to Scrape\n",
      "Quotes to Scrape\n",
      "Login\n",
      "“The world as we have created it is a process of our thinking. It cannot be changed without changing our thinking.” by Albert Einstein (about)\n",
      "Tags:\n",
      "change deep-thoughts thinking world\n",
      "“It is our choices, Harry, that show what we truly are, far more than our abilities.” by J.K. Rowling (about)\n",
      "Tags:\n",
      "abilities choices\n",
      "“There are only two ways to live your life. One is as though nothing is a miracle. The other is as though everything is a miracle.” by Albert Einstein (about)\n",
      "Tags:\n",
      "inspirational life live miracle miracles\n",
      "“The person, be it gentleman or lady, who has not pleasure in a good novel, must be intolerably stupid.” by Jane Austen (about)\n",
      "Tags:\n",
      "aliteracy books classic humor\n",
      "“Imperfection is beauty, madness is genius and it's better to be absolutely ridiculous than absolutely boring.” by Marilyn Monroe (about)\n",
      "Tags:\n",
      "be-yourself inspirational\n",
      "“Try not to become a man of success. Rather become a man of value.” by Albert Einstein (about)\n",
      "Tags:\n",
      "adulthood success value\n",
      "“It is better to be hated for what you are than to be loved for what you are not.” by André Gide (about)\n",
      "Tags:\n",
      "life love\n",
      "“I have not failed. I've just found 10,000 ways that won't work.” by Thomas A. Edison (about)\n",
      "Tags:\n",
      "edison failure inspirational paraphrased\n",
      "“A woman is like a tea bag; you never know how strong it is until it's in hot water.” by Eleanor Roosevelt (about)\n",
      "Tags:\n",
      "misattributed-eleanor-roosevelt\n",
      "“A day without sunshine is like, you know, night.” by Steve Martin (about)\n",
      "Tags:\n",
      "humor obvious simile\n",
      "Next →\n",
      "Top Ten tags\n",
      "love inspirational life humor books reading friendship friends truth simile\n",
      "Quotes by: GoodReads.com\n",
      "Made with ❤ by Scrapinghub\n"
     ]
    }
   ],
   "source": [
    "from requests_html import HTMLSession\n",
    "session = HTMLSession()\n",
    "response = session.get('http://quotes.toscrape.com/')\n",
    "print(response) # status_code, example: 200, 404...\n",
    "print(response.html.text) # 印出網頁上所有的文字\n",
    "# print(response.html.html) # 印出網頁的 html"
   ]
  },
  {
   "cell_type": "markdown",
   "metadata": {
    "slideshow": {
     "slide_type": "subslide"
    }
   },
   "source": [
    "### 那怎麼從html中取得我要的 Element？\n",
    "\n",
    "依照 Selector 語法 (也稱為 CSS Selector, 更多語法可參考[CSS Selector](https://www.w3schools.com/cssref/css_selectors.asp)) "
   ]
  },
  {
   "cell_type": "code",
   "execution_count": 58,
   "metadata": {
    "slideshow": {
     "slide_type": "-"
    }
   },
   "outputs": [],
   "source": [
    "# 找 id 為 'some_id' 的 element, 像 <span id='some_id'>texttext</span>\n",
    "select_string = '#some_id'\n",
    "# 找 class 為 some_class 的 element，像 <span class='some_class'>texttext</span>\n",
    "select_string = '.some_class'\n",
    "# 找 屬性有 some_attr，且值為 some_value element，像 <span some_attr=some_value>texttext</span>\n",
    "select_string = '[some_attr=some_value]'\n",
    "\n",
    "# 找 <p> element,  且 id 為 'some_id', 像 <p id='some_id'>texttext</p>\n",
    "select_string = 'p#some_id'\n",
    "# 找 <p> element,  且 屬性有 some_attr，且值為 some_value，像 <p some_attr=some_value>texttext</p>\n",
    "select_string = 'p[some_attr=some_value]'\n",
    "# 找 <p> element,  且 class 是 text，像 <p class='text'>sample</p>\n",
    "select_string = 'p.text'\n",
    "\n",
    "# 找 <p> element，同時 p 的 class 有 text 也有 link，像 <p class='text link'>sample</p>\n",
    "select_string = 'p.text.link'\n",
    "\n",
    "element = response.html.find(select_string) # 即可使用上述 select_string 來取得符合指定 pattern 的element"
   ]
  },
  {
   "cell_type": "markdown",
   "metadata": {
    "slideshow": {
     "slide_type": "subslide"
    }
   },
   "source": [
    "### 也可以多層檢索"
   ]
  },
  {
   "cell_type": "code",
   "execution_count": null,
   "metadata": {
    "slideshow": {
     "slide_type": "-"
    }
   },
   "outputs": [],
   "source": [
    "## 多層搜尋\n",
    "\n",
    "# 找在 p 這個 element 裡面，class 為 text 的 element，像 <p><span class='text'>sample</span></p>\n",
    "element = response.html.find('p .text') \n",
    "\n",
    "# 找在 \"class 為 some_class 的 div\" 裡的 \"p element\" 裡面，且 class 為 text 的 element\n",
    "# 像 <div><p><span class='text'>sample</span></p></div>\n",
    "element = response.html.find('div.some_class p .text') \n",
    "\n",
    "\n",
    "# 先找 class 為 some_class 的第一個 div，再從中找所有 class 為 link 的 <a ...> element\n",
    "element = response.html.find('div.some_class')[0].find('a.link')"
   ]
  },
  {
   "cell_type": "markdown",
   "metadata": {
    "slideshow": {
     "slide_type": "subslide"
    }
   },
   "source": [
    "### 進一步取得 element 內的資訊，如文字或屬性"
   ]
  },
  {
   "cell_type": "code",
   "execution_count": 68,
   "metadata": {
    "slideshow": {
     "slide_type": "-"
    }
   },
   "outputs": [
    {
     "name": "stdout",
     "output_type": "stream",
     "text": [
      "<Element 'a' href='/author/Albert-Einstein'>\n",
      "(about)\n",
      "{'href': '/author/Albert-Einstein'}\n",
      "/author/Albert-Einstein\n",
      "{'http://quotes.toscrape.com/author/Albert-Einstein'}\n"
     ]
    }
   ],
   "source": [
    "# 若要找第一個作者\n",
    "from requests_html import HTMLSession\n",
    "session = HTMLSession()\n",
    "response = session.get('http://quotes.toscrape.com/')\n",
    "# 取得 class 為 quote 的 element 裡面 的第一個 a element\n",
    "element = response.html.find('.quote a', first=True)# first=True 意思是 只回傳\"第一個\"符合這格式的 element\n",
    "print(element)\n",
    "print(element.text)   # 印出該 element 內包含的文字\n",
    "print(element.attrs)  # 印出該 element 內包含的屬性\n",
    "print(element.attrs['href'])\n",
    "print(element.absolute_links)"
   ]
  },
  {
   "cell_type": "markdown",
   "metadata": {
    "slideshow": {
     "slide_type": "subslide"
    }
   },
   "source": [
    "### 如何一次印出全部的 Quotes?"
   ]
  },
  {
   "cell_type": "code",
   "execution_count": 69,
   "metadata": {
    "slideshow": {
     "slide_type": "subslide"
    }
   },
   "outputs": [
    {
     "name": "stdout",
     "output_type": "stream",
     "text": [
      "“The world as we have created it is a process of our thinking. It cannot be changed without changing our thinking.”\n",
      "“It is our choices, Harry, that show what we truly are, far more than our abilities.”\n",
      "“There are only two ways to live your life. One is as though nothing is a miracle. The other is as though everything is a miracle.”\n",
      "“The person, be it gentleman or lady, who has not pleasure in a good novel, must be intolerably stupid.”\n",
      "“Imperfection is beauty, madness is genius and it's better to be absolutely ridiculous than absolutely boring.”\n",
      "“Try not to become a man of success. Rather become a man of value.”\n",
      "“It is better to be hated for what you are than to be loved for what you are not.”\n",
      "“I have not failed. I've just found 10,000 ways that won't work.”\n",
      "“A woman is like a tea bag; you never know how strong it is until it's in hot water.”\n",
      "“A day without sunshine is like, you know, night.”\n"
     ]
    }
   ],
   "source": [
    "from requests_html import HTMLSession\n",
    "session = HTMLSession()\n",
    "response = session.get('http://quotes.toscrape.com/')\n",
    "elements = response.html.find('[itemprop=text]')\n",
    "for element in elements:\n",
    "    print(element.text)"
   ]
  },
  {
   "cell_type": "markdown",
   "metadata": {
    "slideshow": {
     "slide_type": "subslide"
    }
   },
   "source": [
    "## Exercise 2.2-1 (10min) (不計分)\n",
    "\n",
    "任務： 印出第一個 Quote 所有\"Tag\"的超連結 \n",
    "\n",
    "![alt text](./src/c9.png)\n",
    "\n",
    "\n",
    "結果應該要印出 <br>\n",
    "/tag/change/page/1/ <br>\n",
    "/tag/deep-thoughts/page/1/ <br>\n",
    "/tag/thinking/page/1/ <br>\n",
    "/tag/world/page/1/ <br>\n",
    "\n",
    "hint: \n",
    "- 先找到第一個 quote 再往下找 \"tag 的element\" 所屬 a element\n",
    "- print(element.attrs['xxxx'])"
   ]
  },
  {
   "cell_type": "code",
   "execution_count": 70,
   "metadata": {
    "slideshow": {
     "slide_type": "subslide"
    }
   },
   "outputs": [
    {
     "name": "stdout",
     "output_type": "stream",
     "text": [
      "/tag/change/page/1/\n",
      "/tag/deep-thoughts/page/1/\n",
      "/tag/thinking/page/1/\n",
      "/tag/world/page/1/\n"
     ]
    }
   ],
   "source": [
    "from requests_html import HTMLSession\n",
    "session = HTMLSession()\n",
    "response = session.get('http://quotes.toscrape.com/')\n",
    "elements = response.html.find('.quote')[0].find('.tag')\n",
    "for element in elements:\n",
    "    print(element.attrs['href'])"
   ]
  },
  {
   "cell_type": "markdown",
   "metadata": {
    "slideshow": {
     "slide_type": "subslide"
    }
   },
   "source": [
    "## Example 2.2-2\n",
    "\n",
    "任務： Print 出所有Ｑuotes 的 作者的 About頁面的超連結，且不能重複\n",
    "\n",
    "hint: Set\n",
    "\n",
    "![alt text](./src/c8.png)"
   ]
  },
  {
   "cell_type": "code",
   "execution_count": 62,
   "metadata": {
    "slideshow": {
     "slide_type": "subslide"
    }
   },
   "outputs": [
    {
     "name": "stdout",
     "output_type": "stream",
     "text": [
      "{'/author/Jane-Austen', '/author/Andre-Gide', '/author/Eleanor-Roosevelt', '/author/Steve-Martin', '/author/Albert-Einstein', '/author/Thomas-A-Edison', '/author/Marilyn-Monroe', '/author/J-K-Rowling'}\n"
     ]
    }
   ],
   "source": [
    "# Sample Answer\n",
    "from requests_html import HTMLSession\n",
    "\n",
    "session = HTMLSession()\n",
    "response = session.get('http://quotes.toscrape.com/')\n",
    "link_set = set()\n",
    "elements = response.html.find('.quote span a')\n",
    "for element in elements:\n",
    "    link_set.add(element.attrs['href'])\n",
    "print(link_set)"
   ]
  },
  {
   "cell_type": "markdown",
   "metadata": {
    "slideshow": {
     "slide_type": "subslide"
    }
   },
   "source": [
    "#### 挑戰題，思考一下，要怎麼一次把第2，第3...頁的作者內容也爬下來？\n",
    "\n",
    "<img src=\"https://i.imgur.com/ogt7wMN.png\">"
   ]
  },
  {
   "cell_type": "markdown",
   "metadata": {
    "slideshow": {
     "slide_type": "subslide"
    }
   },
   "source": [
    "## Exercise 2.2-2  (15min) (計分)\n",
    "\n",
    "任務： 取得 The Darkest Minds (2018) 這部電影的導演\n",
    "\n",
    "A: Jennifer Yuh Nelson\n",
    "\n",
    "若有需要，請參考[request_html文檔](https://html.python-requests.org/) 取得需要的 method 資訊。\n",
    "![alt text](./src/c11.png)"
   ]
  },
  {
   "cell_type": "markdown",
   "metadata": {
    "slideshow": {
     "slide_type": "subslide"
    }
   },
   "source": [
    "挑戰題：\n",
    "- 請取得  The Darkest Minds (2018) 這部電影的所有演員\n",
    "A: Bradley Whitford, Mandy Moore, Gwendoline Christie, Amandla Stenberg\n",
    "- 請取得 IMDB 8月1~8/10 (8/10前) 上映的電影標題"
   ]
  },
  {
   "cell_type": "markdown",
   "metadata": {
    "slideshow": {
     "slide_type": "slide"
    }
   },
   "source": [
    "## 3 怎麼寫一個可以爬特殊網站的爬蟲？\n",
    "\n",
    "特殊的網站像是：\n",
    "1. 點擊網頁中的某個按鈕後:\n",
    "    - 即使網頁內容變了，網址還是一樣的網站。\n",
    "    - 網頁內容跟網址都變了，但你根據那網址沒辦法直接得到相同資料的網站。 (例如火車時刻表列車查詢結果)\n",
    "2. 需要登入才能看到內容的網站\n",
    "3. \"右鍵 > 檢查原始碼\" 內的東西跟瀏覽器開發人員工具看到的不一樣。"
   ]
  },
  {
   "cell_type": "markdown",
   "metadata": {
    "slideshow": {
     "slide_type": "subslide"
    }
   },
   "source": [
    "註： 絕大多數的資料可以透過 API 或基礎爬蟲學到的方法取得。"
   ]
  },
  {
   "cell_type": "markdown",
   "metadata": {
    "slideshow": {
     "slide_type": "subslide"
    }
   },
   "source": [
    "現在在這裡\n",
    "<img src=\"https://i.imgur.com/GqTuaEv.png\">"
   ]
  },
  {
   "cell_type": "markdown",
   "metadata": {
    "slideshow": {
     "slide_type": "slide"
    }
   },
   "source": [
    "### 3.1. 為何點擊某個按鈕後，即使網頁內容變了，網址還是一樣？"
   ]
  },
  {
   "cell_type": "markdown",
   "metadata": {
    "slideshow": {
     "slide_type": "subslide"
    }
   },
   "source": [
    "有時是兩種東西造成的\n",
    "- form (表單)\n",
    "- javascript (可以用修改html)（未來web課程才會細講）"
   ]
  },
  {
   "cell_type": "markdown",
   "metadata": {
    "slideshow": {
     "slide_type": "subslide"
    }
   },
   "source": [
    "Form (表單) 可以讓你輸入內容，而當你點擊下方的 Submit按鈕，通常會有另一隻Javascript程式將表單中的內容透過 Request(POST)發送給遠端伺服器，而遠端伺服器將新的內容回傳之後，Javascript 再將網頁中的內容直接修改，因此網址不會有變化。\n",
    "\n",
    "<img src=\"https://i.imgur.com/kZK9Nql.png\">\n",
    "\n",
    "有些則是當你點擊按鈕後，他一樣會發個 request，但他會將你導向到別的網址(像火車時刻表)"
   ]
  },
  {
   "cell_type": "markdown",
   "metadata": {
    "slideshow": {
     "slide_type": "subslide"
    }
   },
   "source": [
    "也就是說我們透過觀察開發人員工具中的\"Network\"來查看他發送了什麼request，再依樣畫葫蘆發一樣的request給對方，通常我們就能得到我們要的資料。"
   ]
  },
  {
   "cell_type": "markdown",
   "metadata": {
    "slideshow": {
     "slide_type": "subslide"
    }
   },
   "source": [
    "## Example 3.1\n",
    "\n",
    "使用 Post 來取得 7/20 22:00 出發，台南到台北的高鐵車號\n",
    "\n",
    "<img src=\"https://i.imgur.com/LDN3atA.png\">\n",
    "備註： 高鐵有 [API](https://ptx.transportdata.tw/PTX)，以後有需要請直接使用API不要這樣直接爬，這裏只是拿來做 post 的練習。"
   ]
  },
  {
   "cell_type": "markdown",
   "metadata": {
    "slideshow": {
     "slide_type": "subslide"
    }
   },
   "source": [
    "打開開發人員工具的Network頁籤，觀察點擊\"立即查詢\"後會發佈什麼 Request\n",
    "\n",
    "<img src=\"https://i.imgur.com/vwIcFEh.png\">"
   ]
  },
  {
   "cell_type": "code",
   "execution_count": 41,
   "metadata": {
    "slideshow": {
     "slide_type": "subslide"
    }
   },
   "outputs": [
    {
     "name": "stdout",
     "output_type": "stream",
     "text": [
      "0696\n",
      "0294\n"
     ]
    }
   ],
   "source": [
    "# Sample Answer\n",
    "from requests_html import HTMLSession\n",
    "session = HTMLSession()\n",
    "form_data = {\n",
    "    'startStation': '9c5ac6ca-ec89-48f8-aab0-41b738cb1814',\n",
    "    'endStation': '977abb69-413a-4ccf-a109-0272c24fd490',\n",
    "    'theDay': '2018/07/20',\n",
    "    'timeSelect': '22:00',\n",
    "    'waySelect': 'DepartureInMandarin',\n",
    "}\n",
    "url = 'https://m.thsrc.com.tw/tw/TimeTable/SearchResult'\n",
    "response = session.post(url, data=form_data)\n",
    "elements = response.html.find('a.ui-block-a')\n",
    "for element in elements:\n",
    "    print(element.text)"
   ]
  },
  {
   "cell_type": "markdown",
   "metadata": {
    "slideshow": {
     "slide_type": "slide"
    }
   },
   "source": [
    "### 3.2. 那怎麼寫一個可以抓登入後的頁面資料的爬蟲？\n",
    "\n",
    "先想想. . .<br>\n",
    "hint: 也是Request"
   ]
  },
  {
   "cell_type": "markdown",
   "metadata": {
    "slideshow": {
     "slide_type": "subslide"
    }
   },
   "source": [
    "概念也是跟剛才一樣觀察登入時會發的Request，再用程式發一樣的內容。<br>\n",
    "一般來說，等登入成功後，通常對方會給你個cookie(用來暫存資料)，你只要將cookie存下來，下次 GET 網頁時一併將這個cookie給對方即可。\n",
    "\n",
    "#### 不過這點 request_html 也幫你做好了!!"
   ]
  },
  {
   "cell_type": "markdown",
   "metadata": {
    "slideshow": {
     "slide_type": "subslide"
    }
   },
   "source": [
    "## Example 3.2\n",
    "\n",
    "模擬登入來取得資料，確認登入後收到的html資料裡有 Logout 字樣\n",
    "\n",
    "<img src=\"https://i.imgur.com/CbY24p0.png\">\n",
    "\n",
    "*注意，多數網站不會想讓開發者能用機器人來登入，所以才會有驗證碼或什麼Receptra(我不是機器人)。<br>\n",
    "*因此請先確認 /robots.txt 中有無限制使用權限，不過這個網站沒有放。"
   ]
  },
  {
   "cell_type": "code",
   "execution_count": 63,
   "metadata": {
    "scrolled": true,
    "slideshow": {
     "slide_type": "subslide"
    }
   },
   "outputs": [
    {
     "name": "stdout",
     "output_type": "stream",
     "text": [
      "<Response [200]>\n",
      "Logout\n"
     ]
    }
   ],
   "source": [
    "# Sample Answer\n",
    "from requests_html import HTMLSession\n",
    "session = HTMLSession()\n",
    "\n",
    "form_data = {\n",
    "    'username': 'Neo',\n",
    "    'password': 'quote*2018*some_static_word'\n",
    "}\n",
    "url = 'http://quotes.toscrape.com/login'\n",
    "\n",
    "login_response = session.post(url, data=form_data) # 先發登入用的 POST request!\n",
    "print(login_response)\n",
    "\n",
    "url = 'http://quotes.toscrape.com/'\n",
    "second_response = session.get(url, data=form_data)   # 登入成功後再 GET 一次!\n",
    "print(second_response.html.find('.col-md-4 p a', first=True).text)"
   ]
  },
  {
   "cell_type": "markdown",
   "metadata": {
    "slideshow": {
     "slide_type": "slide"
    }
   },
   "source": [
    "### 3.3 為何 \"檢查原始碼內的東西跟開發人員工具看到的不一樣\" ？\n",
    "先想想. . . . . . ."
   ]
  },
  {
   "cell_type": "markdown",
   "metadata": {
    "slideshow": {
     "slide_type": "subslide"
    }
   },
   "source": [
    "因為這些網頁在瀏覽器收到 html後，還要用Javascript跑一下才會得到你在開發人員工具看到的最終版本 (例如像臉書那樣，只要滑鼠不斷向下捲動就會不斷跑出新內容的網站)\n",
    "<img src=\"https://i.imgur.com/gCT9RN2.png\">"
   ]
  },
  {
   "cell_type": "markdown",
   "metadata": {
    "slideshow": {
     "slide_type": "subslide"
    }
   },
   "source": [
    "### 那要怎麼爬 \"html內的東西都是後來程式(JavaScript)產生的，因此光用request爬不到什麼東西的網站。\"\n",
    "先想想"
   ]
  },
  {
   "cell_type": "markdown",
   "metadata": {
    "slideshow": {
     "slide_type": "subslide"
    }
   },
   "source": [
    "### 想辦法模擬瀏覽器收到html後做的動作 💪\n",
    "以往我們會需要一個開發用的瀏覽器驅動程式 (Chrome Driver)，還要一個可以操作這個驅動程式的python套件 (Selenium)...\n",
    "\n",
    "### 但 request_html 也都處理好了! \n"
   ]
  },
  {
   "cell_type": "markdown",
   "metadata": {
    "slideshow": {
     "slide_type": "subslide"
    }
   },
   "source": [
    "## Example 3.3\n",
    "\n",
    "請取得 [Data Science and Artificial Intelligence Practice 課程網站](https://netdbncku.github.io/dsai/2018/)中，2/27的Description的內容<br> \n",
    "(Course Introduction and Basics of...)\n",
    "\n",
    "<img src=\"https://i.imgur.com/PoW0RB7.png\" >\n"
   ]
  },
  {
   "cell_type": "code",
   "execution_count": 64,
   "metadata": {
    "slideshow": {
     "slide_type": "subslide"
    }
   },
   "outputs": [
    {
     "name": "stdout",
     "output_type": "stream",
     "text": [
      "Course Introduction and Basics of Supervised/Unsupervised Learning\n",
      "Slides: Course introduction\n",
      "Slides: Supervised unsupervised Learning\n"
     ]
    }
   ],
   "source": [
    "from requests_html import HTMLSession\n",
    "session = HTMLSession()\n",
    "url = 'https://sirius207.github.io/course-template/2018/'\n",
    "response = session.get(url)\n",
    "response.html.render() # 加上這一行即可，第一次跑他會花幾分鐘的時間下載 Chromium，用來跑 Javascript\n",
    "elements = response.html.find('td[data-title=Description]')\n",
    "print(elements[0].text)"
   ]
  },
  {
   "cell_type": "markdown",
   "metadata": {
    "slideshow": {
     "slide_type": "subslide"
    }
   },
   "source": [
    "## Exercise 3.3  (不計分)\n",
    "\n",
    "取得蝦皮拍賣中，\"機車\" 搜尋結果的第一個商品名稱\n",
    "\n",
    "<img src=\"https://i.imgur.com/cpDNMH2.png\">"
   ]
  },
  {
   "cell_type": "markdown",
   "metadata": {
    "slideshow": {
     "slide_type": "subslide"
    }
   },
   "source": [
    "## 延伸學習\n",
    "\n",
    "- 反爬蟲\n",
    "    - 你操作(GET)太快太頻繁了\n",
    "    - 擋你IP\n",
    "    - 輸入驗證碼\n",
    "    - \"我不是機器人\"\n",
    "    - class 或 id 隨機產生\n",
    "    - ...\n",
    "- 反反爬蟲\n",
    "    - GET 中間加時間間隔\n",
    "    - 換IP (Proxy)\n",
    "    - 圖像辨識驗證碼 (OCR)\n",
    "    - ...應該暫時無解\n",
    "- 想加速爬蟲運行\n",
    "    - 分布式\n",
    "    - Asyncio"
   ]
  }
 ],
 "metadata": {
  "celltoolbar": "Slideshow",
  "kernelspec": {
   "display_name": "Python 3",
   "language": "python",
   "name": "python3"
  },
  "language_info": {
   "codemirror_mode": {
    "name": "ipython",
    "version": 3
   },
   "file_extension": ".py",
   "mimetype": "text/x-python",
   "name": "python",
   "nbconvert_exporter": "python",
   "pygments_lexer": "ipython3",
   "version": "3.6.2"
  }
 },
 "nbformat": 4,
 "nbformat_minor": 2
}
