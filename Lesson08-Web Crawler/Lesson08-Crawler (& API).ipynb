{
 "cells": [
  {
   "cell_type": "markdown",
   "metadata": {
    "slideshow": {
     "slide_type": "slide"
    }
   },
   "source": [
    "# Lesson 08 - Crawler (& API)\n",
    "## By 呂伯駿 (Po Chun)"
   ]
  },
  {
   "cell_type": "markdown",
   "metadata": {
    "slideshow": {
     "slide_type": "subslide"
    }
   },
   "source": [
    "### 待會你會先學到三件事：\n",
    "\n",
    "- API 是什麼?\n",
    "- 為什麼需要 API?\n",
    "- API 怎麼用?"
   ]
  },
  {
   "cell_type": "markdown",
   "metadata": {
    "slideshow": {
     "slide_type": "subslide"
    }
   },
   "source": [
    "## API 是什麼？ \n",
    "\n",
    "#### 聽過 API 的話請舉手～"
   ]
  },
  {
   "cell_type": "markdown",
   "metadata": {
    "slideshow": {
     "slide_type": "subslide"
    }
   },
   "source": [
    "### 應用程式介面\n",
    "### Application Programming Interface"
   ]
  },
  {
   "cell_type": "markdown",
   "metadata": {
    "slideshow": {
     "slide_type": "subslide"
    }
   },
   "source": [
    "蛤？ \n",
    "<img src=\"https://i.imgur.com/friaaLF.png\" >"
   ]
  },
  {
   "cell_type": "markdown",
   "metadata": {
    "slideshow": {
     "slide_type": "subslide"
    }
   },
   "source": [
    "### 先別管API了，你有聽過 UI (User Interface) 嗎？"
   ]
  },
  {
   "cell_type": "markdown",
   "metadata": {
    "slideshow": {
     "slide_type": "subslide"
    }
   },
   "source": [
    "\n",
    "<div style=\"text-align=center\">\n",
    "    <h3 style=\"text-align=centr;\">UI其實是讓使用者能跟系統溝通，操作系統的東西。</h3>\n",
    "    <img src=\"https://i.imgur.com/ttZWKCZ.png\">\n",
    "</div>"
   ]
  },
  {
   "cell_type": "markdown",
   "metadata": {
    "slideshow": {
     "slide_type": "subslide"
    }
   },
   "source": [
    "<div style=\"text-align=center\">\n",
    "    <h3 style=\"text-align=center;\">同理，在Google首頁上你看得到的就是 UI，那個輸入框是UI，那個按鈕也是...</h3>\n",
    "    <img src=\"https://i.imgur.com/li7rT7o.png\">\n",
    "</div>"
   ]
  },
  {
   "cell_type": "markdown",
   "metadata": {
    "slideshow": {
     "slide_type": "subslide"
    }
   },
   "source": [
    "## 那應用程式介面 (API) 是什麼？"
   ]
  },
  {
   "cell_type": "markdown",
   "metadata": {
    "slideshow": {
     "slide_type": "subslide"
    }
   },
   "source": [
    "<div style=\"text-align=center\">\n",
    "    <h3 style=\"text-align=center;\">讓 應用程式 能跟 系統 溝通，操作系統的東西</h3>\n",
    "    <img src=\"https://i.imgur.com/6nVjdXG.png\">\n",
    "</div>\n"
   ]
  },
  {
   "cell_type": "markdown",
   "metadata": {
    "slideshow": {
     "slide_type": "slide"
    }
   },
   "source": [
    "## 那為什麼需要API?\n"
   ]
  },
  {
   "cell_type": "markdown",
   "metadata": {
    "slideshow": {
     "slide_type": "subslide"
    }
   },
   "source": [
    "<div style=\"text-align=center\">\n",
    "    <h3 style=\"text-align=center;\">假設老闆給你個任務</h3>\n",
    "    <img src=\"https://i.imgur.com/QdTi5aY.png\">\n",
    "</div>"
   ]
  },
  {
   "cell_type": "markdown",
   "metadata": {
    "slideshow": {
     "slide_type": "subslide"
    }
   },
   "source": [
    "<div style=\"text-align=center\">\n",
    "    <h3 style=\"text-align=center;\"></h3>\n",
    "    <img src=\"https://i.imgur.com/jycJ0K3.png\">\n",
    "</div>"
   ]
  },
  {
   "cell_type": "markdown",
   "metadata": {
    "slideshow": {
     "slide_type": "subslide"
    }
   },
   "source": [
    "<div style=\"text-align=center\">\n",
    "    <h3 style=\"text-align=center;\"></h3>\n",
    "    <img src=\"https://i.imgur.com/0NynGlE.png\">\n",
    "</div>"
   ]
  },
  {
   "cell_type": "markdown",
   "metadata": {
    "slideshow": {
     "slide_type": "subslide"
    }
   },
   "source": [
    "<div style=\"text-align=center\">\n",
    "    <h4 style=\"text-align=center;\">其實，你可以寫一隻程式，透過google的API來操作google，也就是說，你可以寫一支程式來搜尋100個關鍵字</h4>\n",
    "    <img src=\"https://i.imgur.com/gnZVFeS.png\">\n",
    "</div>"
   ]
  },
  {
   "cell_type": "markdown",
   "metadata": {
    "slideshow": {
     "slide_type": "subslide"
    }
   },
   "source": [
    "### 這就是API的用處，他能將工作自動化以減少不必要的人力，也可以讓別人幫你的服務加值"
   ]
  },
  {
   "cell_type": "markdown",
   "metadata": {
    "slideshow": {
     "slide_type": "subslide"
    }
   },
   "source": [
    "## 消化一下"
   ]
  },
  {
   "cell_type": "markdown",
   "metadata": {
    "slideshow": {
     "slide_type": "subslide"
    }
   },
   "source": [
    "## 現在知道API是什麼請舉手～ ✋"
   ]
  },
  {
   "cell_type": "markdown",
   "metadata": {
    "slideshow": {
     "slide_type": "slide"
    }
   },
   "source": [
    "## 那怎麼用 API？"
   ]
  },
  {
   "cell_type": "markdown",
   "metadata": {
    "slideshow": {
     "slide_type": "subslide"
    }
   },
   "source": [
    "### 一些常見的 API 可以讓你用剛才教的 GET, POST, PUT, DELETE 等 Request 操作\n",
    "\n",
    "```\n",
    "例如 某座圖書館的 API 可能 長這樣\n",
    "\n",
    "\n",
    "url 是這個 'https://www.api.x-village-library.com'\n",
    "\n",
    "使用方法則是\n",
    "GET     url/books             # 可以取得所有的書本內容\n",
    "GET     url/books/book-name   # 可以取得某本書的內容\n",
    "POST    url/books             # 可以增加一本新的書\n",
    "PUT     url/books/book-name   # 可以修改某本書的內容\n",
    "DELETE  url/books/book-name   # 可以刪除某本書 \n",
    "```\n",
    "\n",
    "這種 API 的格式 叫 RESTful API，有興趣的可以看這篇[回答](https://www.zhihu.com/question/28557115)"
   ]
  },
  {
   "cell_type": "markdown",
   "metadata": {
    "slideshow": {
     "slide_type": "subslide"
    }
   },
   "source": [
    "我們先用 [Reqres](https://reqres.in/) 這個網站來看一下效果<br>\n",
    "Request 那裏的是要呼叫的網址，Response 那裏則是你會收到的內容(通常是JSON格式)\n",
    "\n",
    "<img src=\"https://i.imgur.com/zdULxrz.png\">"
   ]
  },
  {
   "cell_type": "markdown",
   "metadata": {
    "slideshow": {
     "slide_type": "subslide"
    }
   },
   "source": [
    "/api/users?page=2 後面的 ?page=2 是什麼意思？\n",
    "\n",
    "<img src=\"https://i.imgur.com/D1ppwPF.png\">"
   ]
  },
  {
   "cell_type": "markdown",
   "metadata": {
    "slideshow": {
     "slide_type": "-"
    }
   },
   "source": [
    "如果是 GET request，在網址最末端加上 '?' 後，可以繼續附帶參數(parameter)，\n",
    "以這裡來說，GET /api/users?page=2 就是取得第二頁的使用者的意思，如果他的使用者資料有1000000筆，為避免一次回傳過多資料，\n",
    "通常我們會用page來讓別人能分批取得使用者資料。\n",
    "\n",
    "若看到 GET /api/users?page=2&gender=male&age=20  意思就會是： 取得第二頁且性別為男性且年齡為20的使用者。 <br>\n",
    "(不過[Reqres](https://reqres.in/)這個網站沒提供這種進階搜尋的功能就是了)\n",
    "\n"
   ]
  },
  {
   "cell_type": "markdown",
   "metadata": {
    "slideshow": {
     "slide_type": "subslide"
    }
   },
   "source": [
    "給大家 ? 分鐘，大家可以操作一下上面的 [Reqres](https://reqres.in/) 這個網站"
   ]
  },
  {
   "cell_type": "markdown",
   "metadata": {
    "slideshow": {
     "slide_type": "subslide"
    }
   },
   "source": [
    "### Example 1\n",
    "\n"
   ]
  },
  {
   "cell_type": "code",
   "execution_count": null,
   "metadata": {
    "slideshow": {
     "slide_type": "subslide"
    }
   },
   "outputs": [],
   "source": []
  },
  {
   "cell_type": "code",
   "execution_count": null,
   "metadata": {
    "slideshow": {
     "slide_type": "subslide"
    }
   },
   "outputs": [],
   "source": []
  },
  {
   "cell_type": "code",
   "execution_count": 8,
   "metadata": {
    "slideshow": {
     "slide_type": "subslide"
    }
   },
   "outputs": [],
   "source": [
    "import requests\n",
    "r = requests.get('https://works.ioa.tw/weather/api/all.json')\n",
    "r.encoding = 'utf-8'\n",
    "print(r.text)"
   ]
  },
  {
   "cell_type": "markdown",
   "metadata": {
    "slideshow": {
     "slide_type": "subslide"
    }
   },
   "source": [
    "[補充] <br>\n",
    "為了避免有人瘋狂發API拖慢系統，有些(多數) API 因為要商用或有驗證身份的需求，會要求你先註冊一個帳號來取得一個 API Key，這時你就需要在發送 request 時一併將這個 API Key 發送給對方才能得到資料。 這類 API 通常會限制每小時的使用次數。"
   ]
  },
  {
   "cell_type": "markdown",
   "metadata": {
    "slideshow": {
     "slide_type": "subslide"
    }
   },
   "source": [
    "### Exercise 1\n",
    "請先閱讀這份 [Weather API](https://www.metaweather.com/api/) ，再編寫出一支程式 print 出台北今天(7/18)的天氣為何。<br>\n",
    "可以先找到台北的 woeid，再使用後面查詢天氣的API。\n",
    "\n",
    "注意：請了解 GET /api/location/(woeid)/ 後回傳的資料的意義，可以先觀察他回傳的資料，再嘗試將該天氣print出來。\n",
    "<img src=\"https://i.imgur.com/sU6oE4N.png\">\n",
    "\n",
    "練完你就會串基本的API了 🙌 <br>"
   ]
  },
  {
   "cell_type": "markdown",
   "metadata": {
    "slideshow": {
     "slide_type": "subslide"
    }
   },
   "source": [
    "如果練完還有時間的話，可以在待會上課前用pip裝一下 beautifulsoup4 跟 selenium\n",
    "```\n",
    "pip install beautifulsoup4 selenium\n",
    "```\n",
    "待會會用到這兩個外部套件"
   ]
  },
  {
   "cell_type": "markdown",
   "metadata": {
    "slideshow": {
     "slide_type": "slide"
    }
   },
   "source": [
    "接下來(下午)你會學到幾件事\n",
    "\n",
    "- 爬蟲是什麼？ 它在爬什麼？\n",
    "- 怎麼寫一個可以爬一般網站的爬蟲\n",
    "- [延伸] 怎麼寫一個可以爬特殊網站的爬蟲\n"
   ]
  },
  {
   "cell_type": "markdown",
   "metadata": {
    "slideshow": {
     "slide_type": "subslide"
    }
   },
   "source": [
    "畫成roadmap的話，你現在在這裡\n",
    "\n"
   ]
  },
  {
   "cell_type": "markdown",
   "metadata": {
    "slideshow": {
     "slide_type": "subslide"
    }
   },
   "source": [
    "## 爬蟲是什麼？\n",
    "\n",
    "#### 知道爬蟲是什麼的請舉手？"
   ]
  },
  {
   "cell_type": "markdown",
   "metadata": {
    "slideshow": {
     "slide_type": "subslide"
    }
   },
   "source": [
    "一隻程式，透過自動瀏覽網際網路並下載資料，可用於編纂網路索引來建立搜尋引擎。"
   ]
  },
  {
   "cell_type": "markdown",
   "metadata": {
    "slideshow": {
     "slide_type": "subslide"
    }
   },
   "source": [
    "蛤？？ \n",
    "<img src=\"https://i.imgur.com/friaaLF.png\" >"
   ]
  },
  {
   "cell_type": "markdown",
   "metadata": {
    "slideshow": {
     "slide_type": "subslide"
    }
   },
   "source": [
    "記得早上的 Request Response 流程嗎？ 你也可以從response中取得網頁的內容 (html)\n",
    "\n",
    "<img src=\"https://i.imgur.com/miTeCL2.png\">"
   ]
  },
  {
   "cell_type": "markdown",
   "metadata": {
    "slideshow": {
     "slide_type": "subslide"
    }
   },
   "source": [
    "比方說你嘗試用上面的方法取得 Wiki 百科 某一頁 <br>\n",
    "你得到的 html 裡面通常會有很多超連結，而當爬蟲程式看到超連結時，也可以選擇順手把這些超連結存下來，等爬(載)完這一頁之後，再取得其他超連結的資料。\n",
    "<img src=\"https://i.imgur.com/DkwH9w5.png\">"
   ]
  },
  {
   "cell_type": "markdown",
   "metadata": {
    "slideshow": {
     "slide_type": "subslide"
    }
   },
   "source": [
    "爬完這一頁後再跳到下一頁，然後再重複... 直到爬完整個 Wiki <br>\n",
    "或你電腦爆掉 <br>\n",
    "所以才叫爬蟲。\n",
    "\n",
    "<img src=\"https://i.imgur.com/9Ekj9K8.png)\">\n"
   ]
  },
  {
   "cell_type": "markdown",
   "metadata": {
    "slideshow": {
     "slide_type": "subslide"
    }
   },
   "source": [
    "### 回來看爬蟲是什麼？\n",
    "一隻程式，透過自動瀏覽網際網路並下載資料，而當你把網路上多數網站爬完時(要有錢買設備)，你也可用於編纂網路索引，進而建立搜尋引擎。<br>\n",
    "一般一點的用途也可以拿來找最便宜的飯店，或是取得某個網站所有的電影評論。\n",
    "\n",
    "很多情況我們只會想爬某個網站，或是某個頁面。\n",
    "\n",
    "### 爬什麼？\n",
    "網頁中的內容(html)，後續可再擷取出有效資訊(例如文字)。"
   ]
  },
  {
   "cell_type": "markdown",
   "metadata": {
    "slideshow": {
     "slide_type": "subslide"
    }
   },
   "source": [
    "消化一下"
   ]
  },
  {
   "cell_type": "markdown",
   "metadata": {
    "slideshow": {
     "slide_type": "subslide"
    }
   },
   "source": [
    "#### 現在知道爬蟲是什麼的請舉手 ✋"
   ]
  },
  {
   "cell_type": "markdown",
   "metadata": {
    "slideshow": {
     "slide_type": "subslide"
    }
   },
   "source": [
    "#### 爬蟲禮儀\n",
    "當然，有些網站不希望別人去爬取他的內容，因此他會在網頁最上層(some_url/robots.txt)放個 robots.txt<br>\n",
    "例如知乎的 robots.txt 放在[https://www.zhihu.com/robots.txt](https://www.zhihu.com/robots.txt)\n",
    "\n",
    "<img src=\"https://i.imgur.com/hQp2ffV.png\">\n",
    "Disallow 後面的東西表示他不希望你爬的頁面。<br>\n",
    "但這東西基本上對程式沒有約束力，你還是可以爬不會被擋，但如果你太高調或是拿去商業用，對方又剛好有錢有閒，可能會被他吉。"
   ]
  },
  {
   "cell_type": "markdown",
   "metadata": {
    "slideshow": {
     "slide_type": "slide"
    }
   },
   "source": [
    "## 那怎麼寫一個可以爬一般網站的爬蟲?"
   ]
  },
  {
   "cell_type": "markdown",
   "metadata": {
    "collapsed": true,
    "slideshow": {
     "slide_type": "subslide"
    }
   },
   "source": [
    "# 除了Requests外，你還需要 BeautifulSoup\n",
    "...或其他跟beautifulsoup類似功用的套件\n",
    "\n",
    "它的用途是解析html，取得資訊\n",
    "<img src=\"https://i.imgur.com/YHT1unP.png\">"
   ]
  },
  {
   "cell_type": "markdown",
   "metadata": {
    "slideshow": {
     "slide_type": "subslide"
    }
   },
   "source": [
    "### 安裝\n",
    "\n",
    "```\n",
    "pip install beautifulsoup4\n",
    "```"
   ]
  },
  {
   "cell_type": "markdown",
   "metadata": {
    "slideshow": {
     "slide_type": "subslide"
    }
   },
   "source": [
    "# 爬蟲基礎\n",
    "\n",
    "連結：[Quotes](http://quotes.toscrape.com/)\n",
    "\n",
    "![alt text](./src/c1.png)"
   ]
  },
  {
   "cell_type": "markdown",
   "metadata": {
    "slideshow": {
     "slide_type": "subslide"
    }
   },
   "source": [
    "## Example 1\n",
    "\n",
    "任務： Print 出 \"[首頁](http://quotes.toscrape.com/)\" 所有的 Quotes\n",
    "\n",
    "![alt text](./src/c2.png)\n",
    "\n",
    "\n"
   ]
  },
  {
   "cell_type": "markdown",
   "metadata": {
    "slideshow": {
     "slide_type": "subslide"
    }
   },
   "source": [
    "步驟 1: 開啟開發人員工具，查看Tag\n",
    "- 開啟方式  \n",
    "    - Windows / Linux: \"Ctrl + Shift + I\" or F12 \n",
    "    - Mac: \"Command(⌘) + Option + I\"\n",
    "- 選取方式\n",
    "    1. 右鍵 > 檢查元素 or 檢查\n",
    "    2. 使用 \"Select\" \n",
    "\n",
    "![alt text](./src/c3.png)"
   ]
  },
  {
   "cell_type": "markdown",
   "metadata": {},
   "source": [
    "確認 \"檢查網頁原始碼\"內的內容跟 \"開發人員工具\"的內容 是否一致\n",
    "\n",
    "![alt text](./src/c0-2.png)\n"
   ]
  },
  {
   "cell_type": "markdown",
   "metadata": {
    "slideshow": {
     "slide_type": "subslide"
    }
   },
   "source": [
    "步驟 2: 引用Package，取得 html string"
   ]
  },
  {
   "cell_type": "code",
   "execution_count": 14,
   "metadata": {
    "slideshow": {
     "slide_type": "-"
    }
   },
   "outputs": [
    {
     "name": "stdout",
     "output_type": "stream",
     "text": [
      "200\n"
     ]
    }
   ],
   "source": [
    "import requests\n",
    "from bs4 import BeautifulSoup\n",
    "\n",
    "url = 'http://quotes.toscrape.com/'\n",
    "response = requests.get(url)\n",
    "print(response.status_code)"
   ]
  },
  {
   "cell_type": "code",
   "execution_count": 4,
   "metadata": {
    "collapsed": true,
    "slideshow": {
     "slide_type": "-"
    }
   },
   "outputs": [
    {
     "name": "stdout",
     "output_type": "stream",
     "text": [
      "<!DOCTYPE html>\n",
      "<html lang=\"en\">\n",
      "<head>\n",
      "\t<meta charset=\"UTF-8\">\n",
      "\t<title>Quotes to Scrape</title>\n",
      "    <link rel=\"stylesheet\" href=\"/static/bootstrap.min.css\">\n",
      "    <link rel=\"stylesheet\" href=\"/static/main.css\">\n",
      "</head>\n",
      "<body>\n",
      "    <div class=\"container\">\n",
      "        <div class=\"row header-box\">\n",
      "            <div class=\"col-md-8\">\n",
      "                <h1>\n",
      "                    <a href=\"/\" style=\"text-decoration: none\">Quotes to Scrape</a>\n",
      "                </h1>\n",
      "            </div>\n",
      "            <div class=\"col-md-4\">\n",
      "                <p>\n",
      "                \n",
      "                    <a href=\"/login\">Login</a>\n",
      "                \n",
      "                </p>\n",
      "            </div>\n",
      "        </div>\n",
      "    \n",
      "\n",
      "<div class=\"row\">\n",
      "    <div class=\"col-md-8\">\n",
      "\n",
      "    <div class=\"quote\" itemscope itemtype=\"http://schema.org/CreativeWork\">\n",
      "        <span class=\"text\" itemprop=\"text\">“The world as we have created it is a process of our thinking. It cannot be changed without changing our thinking.”</span>\n",
      "        <span>by <small class=\"author\" itemprop=\"author\">Albert Einstein</small>\n",
      "        <a href=\"/author/Albert-Einstein\">(about)</a>\n",
      "        </span>\n",
      "        <div class=\"tags\">\n",
      "            Tags:\n",
      "            <meta class=\"keywords\" itemprop=\"keywords\" content=\"change,deep-thoughts,thinking,world\" /    > \n",
      "            \n",
      "            <a class=\"tag\" href=\"/tag/change/page/1/\">change</a>\n",
      "            \n",
      "            <a class=\"tag\" href=\"/tag/deep-thoughts/page/1/\">deep-thoughts</a>\n",
      "            \n",
      "            <a class=\"tag\" href=\"/tag/thinking/page/1/\">thinking</a>\n",
      "            \n",
      "            <a class=\"tag\" href=\"/tag/world/page/1/\">world</a>\n",
      "            \n",
      "        </div>\n",
      "    </div>\n",
      "\n",
      "    <div class=\"quote\" itemscope itemtype=\"http://schema.org/CreativeWork\">\n",
      "        <span class=\"text\" itemprop=\"text\">“It is our choices, Harry, that show what we truly are, far more than our abilities.”</span>\n",
      "        <span>by <small class=\"author\" itemprop=\"author\">J.K. Rowling</small>\n",
      "        <a href=\"/author/J-K-Rowling\">(about)</a>\n",
      "        </span>\n",
      "        <div class=\"tags\">\n",
      "            Tags:\n",
      "            <meta class=\"keywords\" itemprop=\"keywords\" content=\"abilities,choices\" /    > \n",
      "            \n",
      "            <a class=\"tag\" href=\"/tag/abilities/page/1/\">abilities</a>\n",
      "            \n",
      "            <a class=\"tag\" href=\"/tag/choices/page/1/\">choices</a>\n",
      "            \n",
      "        </div>\n",
      "    </div>\n",
      "\n",
      "    <div class=\"quote\" itemscope itemtype=\"http://schema.org/CreativeWork\">\n",
      "        <span class=\"text\" itemprop=\"text\">“There are only two ways to live your life. One is as though nothing is a miracle. The other is as though everything is a miracle.”</span>\n",
      "        <span>by <small class=\"author\" itemprop=\"author\">Albert Einstein</small>\n",
      "        <a href=\"/author/Albert-Einstein\">(about)</a>\n",
      "        </span>\n",
      "        <div class=\"tags\">\n",
      "            Tags:\n",
      "            <meta class=\"keywords\" itemprop=\"keywords\" content=\"inspirational,life,live,miracle,miracles\" /    > \n",
      "            \n",
      "            <a class=\"tag\" href=\"/tag/inspirational/page/1/\">inspirational</a>\n",
      "            \n",
      "            <a class=\"tag\" href=\"/tag/life/page/1/\">life</a>\n",
      "            \n",
      "            <a class=\"tag\" href=\"/tag/live/page/1/\">live</a>\n",
      "            \n",
      "            <a class=\"tag\" href=\"/tag/miracle/page/1/\">miracle</a>\n",
      "            \n",
      "            <a class=\"tag\" href=\"/tag/miracles/page/1/\">miracles</a>\n",
      "            \n",
      "        </div>\n",
      "    </div>\n",
      "\n",
      "    <div class=\"quote\" itemscope itemtype=\"http://schema.org/CreativeWork\">\n",
      "        <span class=\"text\" itemprop=\"text\">“The person, be it gentleman or lady, who has not pleasure in a good novel, must be intolerably stupid.”</span>\n",
      "        <span>by <small class=\"author\" itemprop=\"author\">Jane Austen</small>\n",
      "        <a href=\"/author/Jane-Austen\">(about)</a>\n",
      "        </span>\n",
      "        <div class=\"tags\">\n",
      "            Tags:\n",
      "            <meta class=\"keywords\" itemprop=\"keywords\" content=\"aliteracy,books,classic,humor\" /    > \n",
      "            \n",
      "            <a class=\"tag\" href=\"/tag/aliteracy/page/1/\">aliteracy</a>\n",
      "            \n",
      "            <a class=\"tag\" href=\"/tag/books/page/1/\">books</a>\n",
      "            \n",
      "            <a class=\"tag\" href=\"/tag/classic/page/1/\">classic</a>\n",
      "            \n",
      "            <a class=\"tag\" href=\"/tag/humor/page/1/\">humor</a>\n",
      "            \n",
      "        </div>\n",
      "    </div>\n",
      "\n",
      "    <div class=\"quote\" itemscope itemtype=\"http://schema.org/CreativeWork\">\n",
      "        <span class=\"text\" itemprop=\"text\">“Imperfection is beauty, madness is genius and it&#39;s better to be absolutely ridiculous than absolutely boring.”</span>\n",
      "        <span>by <small class=\"author\" itemprop=\"author\">Marilyn Monroe</small>\n",
      "        <a href=\"/author/Marilyn-Monroe\">(about)</a>\n",
      "        </span>\n",
      "        <div class=\"tags\">\n",
      "            Tags:\n",
      "            <meta class=\"keywords\" itemprop=\"keywords\" content=\"be-yourself,inspirational\" /    > \n",
      "            \n",
      "            <a class=\"tag\" href=\"/tag/be-yourself/page/1/\">be-yourself</a>\n",
      "            \n",
      "            <a class=\"tag\" href=\"/tag/inspirational/page/1/\">inspirational</a>\n",
      "            \n",
      "        </div>\n",
      "    </div>\n",
      "\n",
      "    <div class=\"quote\" itemscope itemtype=\"http://schema.org/CreativeWork\">\n",
      "        <span class=\"text\" itemprop=\"text\">“Try not to become a man of success. Rather become a man of value.”</span>\n",
      "        <span>by <small class=\"author\" itemprop=\"author\">Albert Einstein</small>\n",
      "        <a href=\"/author/Albert-Einstein\">(about)</a>\n",
      "        </span>\n",
      "        <div class=\"tags\">\n",
      "            Tags:\n",
      "            <meta class=\"keywords\" itemprop=\"keywords\" content=\"adulthood,success,value\" /    > \n",
      "            \n",
      "            <a class=\"tag\" href=\"/tag/adulthood/page/1/\">adulthood</a>\n",
      "            \n",
      "            <a class=\"tag\" href=\"/tag/success/page/1/\">success</a>\n",
      "            \n",
      "            <a class=\"tag\" href=\"/tag/value/page/1/\">value</a>\n",
      "            \n",
      "        </div>\n",
      "    </div>\n",
      "\n",
      "    <div class=\"quote\" itemscope itemtype=\"http://schema.org/CreativeWork\">\n",
      "        <span class=\"text\" itemprop=\"text\">“It is better to be hated for what you are than to be loved for what you are not.”</span>\n",
      "        <span>by <small class=\"author\" itemprop=\"author\">André Gide</small>\n",
      "        <a href=\"/author/Andre-Gide\">(about)</a>\n",
      "        </span>\n",
      "        <div class=\"tags\">\n",
      "            Tags:\n",
      "            <meta class=\"keywords\" itemprop=\"keywords\" content=\"life,love\" /    > \n",
      "            \n",
      "            <a class=\"tag\" href=\"/tag/life/page/1/\">life</a>\n",
      "            \n",
      "            <a class=\"tag\" href=\"/tag/love/page/1/\">love</a>\n",
      "            \n",
      "        </div>\n",
      "    </div>\n",
      "\n",
      "    <div class=\"quote\" itemscope itemtype=\"http://schema.org/CreativeWork\">\n",
      "        <span class=\"text\" itemprop=\"text\">“I have not failed. I&#39;ve just found 10,000 ways that won&#39;t work.”</span>\n",
      "        <span>by <small class=\"author\" itemprop=\"author\">Thomas A. Edison</small>\n",
      "        <a href=\"/author/Thomas-A-Edison\">(about)</a>\n",
      "        </span>\n",
      "        <div class=\"tags\">\n",
      "            Tags:\n",
      "            <meta class=\"keywords\" itemprop=\"keywords\" content=\"edison,failure,inspirational,paraphrased\" /    > \n",
      "            \n",
      "            <a class=\"tag\" href=\"/tag/edison/page/1/\">edison</a>\n",
      "            \n",
      "            <a class=\"tag\" href=\"/tag/failure/page/1/\">failure</a>\n",
      "            \n",
      "            <a class=\"tag\" href=\"/tag/inspirational/page/1/\">inspirational</a>\n",
      "            \n",
      "            <a class=\"tag\" href=\"/tag/paraphrased/page/1/\">paraphrased</a>\n",
      "            \n",
      "        </div>\n",
      "    </div>\n",
      "\n",
      "    <div class=\"quote\" itemscope itemtype=\"http://schema.org/CreativeWork\">\n",
      "        <span class=\"text\" itemprop=\"text\">“A woman is like a tea bag; you never know how strong it is until it&#39;s in hot water.”</span>\n",
      "        <span>by <small class=\"author\" itemprop=\"author\">Eleanor Roosevelt</small>\n",
      "        <a href=\"/author/Eleanor-Roosevelt\">(about)</a>\n",
      "        </span>\n",
      "        <div class=\"tags\">\n",
      "            Tags:\n",
      "            <meta class=\"keywords\" itemprop=\"keywords\" content=\"misattributed-eleanor-roosevelt\" /    > \n",
      "            \n",
      "            <a class=\"tag\" href=\"/tag/misattributed-eleanor-roosevelt/page/1/\">misattributed-eleanor-roosevelt</a>\n",
      "            \n",
      "        </div>\n",
      "    </div>\n",
      "\n",
      "    <div class=\"quote\" itemscope itemtype=\"http://schema.org/CreativeWork\">\n",
      "        <span class=\"text\" itemprop=\"text\">“A day without sunshine is like, you know, night.”</span>\n",
      "        <span>by <small class=\"author\" itemprop=\"author\">Steve Martin</small>\n",
      "        <a href=\"/author/Steve-Martin\">(about)</a>\n",
      "        </span>\n",
      "        <div class=\"tags\">\n",
      "            Tags:\n",
      "            <meta class=\"keywords\" itemprop=\"keywords\" content=\"humor,obvious,simile\" /    > \n",
      "            \n",
      "            <a class=\"tag\" href=\"/tag/humor/page/1/\">humor</a>\n",
      "            \n",
      "            <a class=\"tag\" href=\"/tag/obvious/page/1/\">obvious</a>\n",
      "            \n",
      "            <a class=\"tag\" href=\"/tag/simile/page/1/\">simile</a>\n",
      "            \n",
      "        </div>\n",
      "    </div>\n",
      "\n",
      "    <nav>\n",
      "        <ul class=\"pager\">\n",
      "            \n",
      "            \n",
      "            <li class=\"next\">\n",
      "                <a href=\"/page/2/\">Next <span aria-hidden=\"true\">&rarr;</span></a>\n",
      "            </li>\n",
      "            \n",
      "        </ul>\n",
      "    </nav>\n",
      "    </div>\n",
      "    <div class=\"col-md-4 tags-box\">\n",
      "        \n",
      "            <h2>Top Ten tags</h2>\n",
      "            \n",
      "            <span class=\"tag-item\">\n",
      "            <a class=\"tag\" style=\"font-size: 28px\" href=\"/tag/love/\">love</a>\n",
      "            </span>\n",
      "            \n",
      "            <span class=\"tag-item\">\n",
      "            <a class=\"tag\" style=\"font-size: 26px\" href=\"/tag/inspirational/\">inspirational</a>\n",
      "            </span>\n",
      "            \n",
      "            <span class=\"tag-item\">\n",
      "            <a class=\"tag\" style=\"font-size: 26px\" href=\"/tag/life/\">life</a>\n",
      "            </span>\n",
      "            \n",
      "            <span class=\"tag-item\">\n",
      "            <a class=\"tag\" style=\"font-size: 24px\" href=\"/tag/humor/\">humor</a>\n",
      "            </span>\n",
      "            \n",
      "            <span class=\"tag-item\">\n",
      "            <a class=\"tag\" style=\"font-size: 22px\" href=\"/tag/books/\">books</a>\n",
      "            </span>\n",
      "            \n",
      "            <span class=\"tag-item\">\n",
      "            <a class=\"tag\" style=\"font-size: 14px\" href=\"/tag/reading/\">reading</a>\n",
      "            </span>\n",
      "            \n",
      "            <span class=\"tag-item\">\n",
      "            <a class=\"tag\" style=\"font-size: 10px\" href=\"/tag/friendship/\">friendship</a>\n",
      "            </span>\n",
      "            \n",
      "            <span class=\"tag-item\">\n",
      "            <a class=\"tag\" style=\"font-size: 8px\" href=\"/tag/friends/\">friends</a>\n",
      "            </span>\n",
      "            \n",
      "            <span class=\"tag-item\">\n",
      "            <a class=\"tag\" style=\"font-size: 8px\" href=\"/tag/truth/\">truth</a>\n",
      "            </span>\n",
      "            \n",
      "            <span class=\"tag-item\">\n",
      "            <a class=\"tag\" style=\"font-size: 6px\" href=\"/tag/simile/\">simile</a>\n",
      "            </span>\n",
      "            \n",
      "        \n",
      "    </div>\n",
      "</div>\n",
      "\n",
      "    </div>\n",
      "    <footer class=\"footer\">\n",
      "        <div class=\"container\">\n",
      "            <p class=\"text-muted\">\n",
      "                Quotes by: <a href=\"https://www.goodreads.com/quotes\">GoodReads.com</a>\n",
      "            </p>\n",
      "            <p class=\"copyright\">\n",
      "                Made with <span class='sh-red'>❤</span> by <a href=\"https://scrapinghub.com\">Scrapinghub</a>\n",
      "            </p>\n",
      "        </div>\n",
      "    </footer>\n",
      "</body>\n",
      "</html>\n"
     ]
    }
   ],
   "source": [
    "# response.encoding = 'utf-8'\n",
    "print(response.text)"
   ]
  },
  {
   "cell_type": "markdown",
   "metadata": {
    "slideshow": {
     "slide_type": "subslide"
    }
   },
   "source": [
    "先看一下 BeautifulSoup 的[文檔](https://www.crummy.com/software/BeautifulSoup/bs4/doc/)\n",
    "\n",
    "![alt text](./src/c4.png)\n",
    "![alt text](./src/c5.png)"
   ]
  },
  {
   "cell_type": "markdown",
   "metadata": {
    "slideshow": {
     "slide_type": "subslide"
    }
   },
   "source": [
    "![alt text](./src/c6-2.png)\n",
    "\n",
    "find_all 似乎符合我們的要求"
   ]
  },
  {
   "cell_type": "markdown",
   "metadata": {
    "slideshow": {
     "slide_type": "subslide"
    }
   },
   "source": [
    "查看相關參數(Parameters)\n",
    "\n",
    "![alt text](./src/c7.png)"
   ]
  },
  {
   "cell_type": "markdown",
   "metadata": {
    "slideshow": {
     "slide_type": "subslide"
    }
   },
   "source": [
    "Parameters\n",
    "- name: 以tag 名稱搜尋\n",
    "- attes: 以其他屬性(attributes)的值搜尋\n",
    "- recursive: 是否遞迴搜尋\n",
    "- string: 搜尋字串\n",
    "- limit: 回傳多少資料"
   ]
  },
  {
   "cell_type": "markdown",
   "metadata": {
    "slideshow": {
     "slide_type": "subslide"
    }
   },
   "source": [
    "步驟 3： 將html string 轉為 bs4 物件，進行解析"
   ]
  },
  {
   "cell_type": "code",
   "execution_count": 16,
   "metadata": {
    "slideshow": {
     "slide_type": "-"
    }
   },
   "outputs": [
    {
     "name": "stdout",
     "output_type": "stream",
     "text": [
      "<span class=\"text\" itemprop=\"text\">“The world as we have created it is a process of our thinking. It cannot be changed without changing our thinking.”</span>\n",
      "span\n",
      "{'class': ['text'], 'itemprop': 'text'}\n",
      "['text']\n",
      "text\n",
      "“The world as we have created it is a process of our thinking. It cannot be changed without changing our thinking.”\n"
     ]
    }
   ],
   "source": [
    "soup = BeautifulSoup(response.text, 'html.parser')\n",
    "first_tag = soup.find(name='span',class_='text')\n",
    "print(first_tag)\n",
    "print(first_tag.name)\n",
    "print(first_tag.attrs)\n",
    "print(first_tag['class'])\n",
    "print(first_tag['itemprop'])\n",
    "print(first_tag.text)"
   ]
  },
  {
   "cell_type": "markdown",
   "metadata": {
    "slideshow": {
     "slide_type": "subslide"
    }
   },
   "source": [
    "如何一次印出全部的 Quotes?"
   ]
  },
  {
   "cell_type": "code",
   "execution_count": 6,
   "metadata": {
    "slideshow": {
     "slide_type": "fragment"
    }
   },
   "outputs": [
    {
     "name": "stdout",
     "output_type": "stream",
     "text": [
      "“The world as we have created it is a process of our thinking. It cannot be changed without changing our thinking.”\n",
      "“It is our choices, Harry, that show what we truly are, far more than our abilities.”\n",
      "“There are only two ways to live your life. One is as though nothing is a miracle. The other is as though everything is a miracle.”\n",
      "“The person, be it gentleman or lady, who has not pleasure in a good novel, must be intolerably stupid.”\n",
      "“Imperfection is beauty, madness is genius and it's better to be absolutely ridiculous than absolutely boring.”\n",
      "“Try not to become a man of success. Rather become a man of value.”\n",
      "“It is better to be hated for what you are than to be loved for what you are not.”\n",
      "“I have not failed. I've just found 10,000 ways that won't work.”\n",
      "“A woman is like a tea bag; you never know how strong it is until it's in hot water.”\n",
      "“A day without sunshine is like, you know, night.”\n"
     ]
    }
   ],
   "source": [
    "tags = soup.find_all(name='span',class_='text')\n",
    "for tag in tags:\n",
    "    print(tag.text)"
   ]
  },
  {
   "cell_type": "markdown",
   "metadata": {
    "slideshow": {
     "slide_type": "subslide"
    }
   },
   "source": [
    "\n",
    "一些爬法\n",
    "\n",
    "``` python\n",
    "# 找 class 為 some_class 的 li\n",
    "soup.find_all('li', 'some_class')\n",
    "\n",
    "# 找 id為 some_id 的 li\n",
    "soup.find('li', id='some_id')\n",
    "\n",
    "# 先找 class 為 some_class 的div，再從中找所有 class 為 link 的 a\n",
    "soup.find('div', class='some_class').find_all('a', 'links')\n",
    "\n",
    "# 找所有有 itemprop 這個屬性且值為text 的 tag\n",
    "soup.find_all('', itemprop='text')\n",
    "# 找所有 itemprop 這個屬性且值為text，且class也是text的 tag\n",
    "soup.find_all('', {'itemprop':'text','class':'text'})\n",
    "# 先找所有 class 為tags 的tag，再選第3個(因為從0開始數)，再從中找所有的 a\n",
    "soup.find_all('', 'tags')[2].find_all('a')\n",
    "\n",
    "```"
   ]
  },
  {
   "cell_type": "code",
   "execution_count": 7,
   "metadata": {
    "slideshow": {
     "slide_type": "-"
    }
   },
   "outputs": [
    {
     "data": {
      "text/plain": [
       "[]"
      ]
     },
     "execution_count": 7,
     "metadata": {},
     "output_type": "execute_result"
    }
   ],
   "source": [
    "import re\n",
    "#  check email pattern\n",
    "pattern = r\"(^[a-zA-Z0-9_.+-]+@[a-zA-Z0-9-]+\\.[a-zA-Z0-9-.]+$)\"\n",
    "soup.find_all(text=re.compile(pattern))"
   ]
  },
  {
   "cell_type": "markdown",
   "metadata": {
    "slideshow": {
     "slide_type": "subslide"
    }
   },
   "source": [
    "## Exercise 1 (10min)\n",
    "\n",
    "任務： 印出第一個 Quote 所有Tag的超連結 \n",
    "\n",
    "![alt text](./src/c9.png)\n",
    "\n",
    "\n",
    "結果\n",
    "```\n",
    "/tag/change/page/1/\n",
    "/tag/deep-thoughts/page/1/\n",
    "/tag/thinking/page/1/\n",
    "/tag/world/page/1/\n",
    "```"
   ]
  },
  {
   "cell_type": "code",
   "execution_count": 8,
   "metadata": {
    "slideshow": {
     "slide_type": "subslide"
    }
   },
   "outputs": [
    {
     "name": "stdout",
     "output_type": "stream",
     "text": [
      "/tag/change/page/1/\n",
      "/tag/deep-thoughts/page/1/\n",
      "/tag/thinking/page/1/\n",
      "/tag/world/page/1/\n"
     ]
    }
   ],
   "source": [
    "# Sample Answer\n",
    "tags = soup.find('','tags').find_all(class_='tag')\n",
    "for tag in tags:\n",
    "    print(tag['href'])"
   ]
  },
  {
   "cell_type": "markdown",
   "metadata": {
    "slideshow": {
     "slide_type": "subslide"
    }
   },
   "source": [
    "## Example 2\n",
    "\n",
    "任務： Print 出所有Ｑuotes 的 作者的 About頁面的超連結，且不能重複\n",
    "\n",
    "限制：使用到 select \n",
    "\n",
    "![alt text](./src/c8.png)"
   ]
  },
  {
   "cell_type": "markdown",
   "metadata": {
    "slideshow": {
     "slide_type": "subslide"
    }
   },
   "source": [
    "先查看[文檔 ](https://www.crummy.com/software/BeautifulSoup/bs4/doc/#css-selectors)\n",
    "        \n",
    "![alt text](./src/c10.png)"
   ]
  },
  {
   "cell_type": "markdown",
   "metadata": {
    "slideshow": {
     "slide_type": "subslide"
    }
   },
   "source": [
    "解說用法\n",
    "\n",
    "- \\#some_id: \n",
    "    - 意思是找 id = 'some_id' 的 tag\n",
    "- .some_class: \n",
    "    - 意思是找 class = 'some_class'的tag\n",
    "    \n",
    "``` python\n",
    "# 找在p裡面，class為text的tag\n",
    "soup.select('p .text') # <p><span class='text'>sample</span></p>\n",
    "# 找p，同時p的class也是text\n",
    "soup.select('p.text') # <p class='text'>sample</p>\n",
    "# 找p，同時 p 的 class 有text 也有 link\n",
    "soup.select('p.text.link') # <p class='text link'>sample</p>\n",
    "```"
   ]
  },
  {
   "cell_type": "code",
   "execution_count": 17,
   "metadata": {
    "slideshow": {
     "slide_type": "subslide"
    }
   },
   "outputs": [
    {
     "name": "stdout",
     "output_type": "stream",
     "text": [
      "{'/author/Marilyn-Monroe', '/author/Steve-Martin', '/author/Albert-Einstein', '/author/Eleanor-Roosevelt', '/author/Thomas-A-Edison', '/author/Jane-Austen', '/author/J-K-Rowling', '/author/Andre-Gide'}\n"
     ]
    }
   ],
   "source": [
    "# Sample Answer\n",
    "link_set = set()\n",
    "tags = soup.select('.quote span a')\n",
    "for tag in tags:\n",
    "    link_set.add(tag['href'])\n",
    "print(link_set)"
   ]
  },
  {
   "cell_type": "markdown",
   "metadata": {},
   "source": [
    "#### 思考一下，要怎麼一次把第2，第3...頁的作者內容也爬下來？\n",
    "\n",
    "<img src=\"https://i.imgur.com/ogt7wMN.png\">"
   ]
  },
  {
   "cell_type": "markdown",
   "metadata": {
    "slideshow": {
     "slide_type": "subslide"
    }
   },
   "source": [
    "## Exercise 2  (15min)\n",
    "\n",
    "任務： 請取得 IMDB 8月1~8/10 (8/10前) 上映的電影標題\n",
    "\n",
    "請參考[BS4文檔](https://www.crummy.com/software/BeautifulSoup/bs4/doc/) 取得需要的 method 資訊。\n",
    "![alt text](./src/c11.png)\n",
    "\n",
    "可能會用到：<br>\n",
    ".parent<br>\n",
    ".find_previous_siblings\n"
   ]
  },
  {
   "cell_type": "code",
   "execution_count": 10,
   "metadata": {
    "slideshow": {
     "slide_type": "subslide"
    }
   },
   "outputs": [
    {
     "name": "stdout",
     "output_type": "stream",
     "text": [
      "ok\n"
     ]
    }
   ],
   "source": [
    "def get_body_by_url(url):\n",
    "    response = requests.get(url)\n",
    "    if (response.status_code != 200):\n",
    "        raise ValueError(response.status_code)\n",
    "    else:\n",
    "        print('ok')\n",
    "        return BeautifulSoup(response.text, 'html.parser')\n",
    "    \n",
    "\n",
    "url = 'https://www.imdb.com/movies-coming-soon/2018-08/'\n",
    "soup = get_body_by_url(url)"
   ]
  },
  {
   "cell_type": "code",
   "execution_count": 11,
   "metadata": {
    "slideshow": {
     "slide_type": "subslide"
    }
   },
   "outputs": [
    {
     "name": "stdout",
     "output_type": "stream",
     "text": [
      " Nico, 1988 (2017)\n",
      " Singwa hamkke: Ingwa yeon (2018)\n",
      " Never Goin' Back (2018)\n",
      " The Miseducation of Cameron Post (2018)\n",
      " Searching (2018)\n",
      " The Spy Who Dumped Me (2018)\n",
      " The Darkest Minds (2018)\n",
      " Christopher Robin (2018)\n"
     ]
    }
   ],
   "source": [
    "# sample answer\n",
    "list_items = soup.select('a[name=\"Aug10\"]')[0].parent.find_previous_siblings(class_='list_item')\n",
    "for item in list_items:\n",
    "    title = item.select('h4 a')[0].text\n",
    "    print(title)"
   ]
  },
  {
   "cell_type": "markdown",
   "metadata": {
    "slideshow": {
     "slide_type": "slide"
    }
   },
   "source": [
    "## 怎麼寫一個可以爬特殊網站的爬蟲？\n",
    "\n",
    "特殊網站像是：\n",
    "1. 點擊某個按鈕後:\n",
    "    - 即使網頁內容變了，網址還是一樣的網站。 (如果你要爬那個變了的內容)\n",
    "    - 網頁內容跟網址都變了，但你根據那網址沒辦法得到相同資料的網站。 (例如火車時刻表查詢結果)\n",
    "2. 需要登入的網站\n",
    "3. 檢查原始碼內的東西跟開發人員工具看到的不一樣。"
   ]
  },
  {
   "cell_type": "markdown",
   "metadata": {
    "slideshow": {
     "slide_type": "subslide"
    }
   },
   "source": [
    "### 1. 為何點擊某個按鈕後，即使網頁內容變了，網址還是一樣？"
   ]
  },
  {
   "cell_type": "markdown",
   "metadata": {
    "slideshow": {
     "slide_type": "subslide"
    }
   },
   "source": [
    "有時是兩種東西造成的\n",
    "- form (表單)\n",
    "- javascript (可以用操作html)（未來web課程才會細講）"
   ]
  },
  {
   "cell_type": "markdown",
   "metadata": {
    "slideshow": {
     "slide_type": "subslide"
    }
   },
   "source": [
    "Form (表單) 可以讓你輸入內容，而當你點擊下方的 Submit按鈕，通常會有另一隻Javascript程式將表單中的內容透過 Request(POST)發送給遠端伺服器，而遠端伺服器將新的內容回傳之後，Javascript 再將網頁中的內容直接修改，因此網址不會有變化。\n",
    "\n",
    "<img src=\"https://i.imgur.com/kZK9Nql.png\">\n",
    "\n",
    "有些則是當你點擊按鈕後，他一樣會發個 request，但他會將你導向到別的網址(火車時刻表)"
   ]
  },
  {
   "cell_type": "markdown",
   "metadata": {
    "slideshow": {
     "slide_type": "subslide"
    }
   },
   "source": [
    "也就是說我們透過觀察開發人員工具中的\"Network\"來查看他發送了什麼request，再依樣畫葫蘆發一樣的request給對方，通常我們就能得到我們要的資料。"
   ]
  },
  {
   "cell_type": "markdown",
   "metadata": {
    "slideshow": {
     "slide_type": "subslide"
    }
   },
   "source": [
    "## Example 3\n",
    "\n",
    "使用 Post 來取得資料\n"
   ]
  },
  {
   "cell_type": "markdown",
   "metadata": {
    "slideshow": {
     "slide_type": "subslide"
    }
   },
   "source": [
    "### 2. 那怎麼寫一個可以抓登入後的頁面資料的爬蟲？\n",
    "\n",
    "先想想. . .<br>\n",
    "hint: Request"
   ]
  },
  {
   "cell_type": "markdown",
   "metadata": {
    "slideshow": {
     "slide_type": "subslide"
    }
   },
   "source": [
    "最簡單的方式是，跟剛才一樣觀察登入時會發的Request，再用程式發一樣的內容。<br>\n",
    "等登入成功後，通常對方會給你個cookie(用來暫存資料)，你只要將cookie存下來，下次 GET 網頁時一併將這個cookie給對方即可。"
   ]
  },
  {
   "cell_type": "markdown",
   "metadata": {
    "slideshow": {
     "slide_type": "subslide"
    }
   },
   "source": [
    "## Example 4\n",
    "\n",
    "模擬登入來取得資料\n",
    "\n",
    "\n",
    "![alt text](./src/c12.png)\n",
    "![alt text](./src/c13-2.png)\n",
    "\n",
    "*注意，多數網站不會想讓開發者能用機器人來登入，所以才會有驗證碼或什麼Receptra(我不是機器人)。<br>\n",
    "*因此請先確認 /robots.txt 中有無限制使用權限，不過這個網站沒有放。"
   ]
  },
  {
   "cell_type": "code",
   "execution_count": 49,
   "metadata": {
    "scrolled": true,
    "slideshow": {
     "slide_type": "subslide"
    }
   },
   "outputs": [
    {
     "name": "stdout",
     "output_type": "stream",
     "text": [
      "200\n",
      "{'session': 'eyJ1c2VybmFtZSI6IjEyMyJ9.DiNLmg.4BC9qUIr8TVv-LC4rxHSydquyYk'}\n"
     ]
    }
   ],
   "source": [
    "\n",
    "form_data = {\n",
    "    'username': 'Neo',\n",
    "    'password': 'quote*2018*some_static_word'\n",
    "}\n",
    "url = 'http://quotes.toscrape.com/login'\n",
    "login_response = requests.post(url,data=form_data)\n",
    "print(login_response.status_code)\n",
    "print(login_response.cookies.get_dict())\n",
    "\n",
    "# session = requests.Session()\n",
    "# session.post(url, form_data)\n",
    "# r = session.get('http://quotes.toscrape.com/')\n",
    "# r.text"
   ]
  },
  {
   "cell_type": "code",
   "execution_count": 45,
   "metadata": {
    "collapsed": true,
    "slideshow": {
     "slide_type": "subslide"
    }
   },
   "outputs": [
    {
     "name": "stdout",
     "output_type": "stream",
     "text": [
      "<!DOCTYPE html>\n",
      "<html lang=\"en\">\n",
      "<head>\n",
      "\t<meta charset=\"UTF-8\">\n",
      "\t<title>Quotes to Scrape</title>\n",
      "    <link rel=\"stylesheet\" href=\"/static/bootstrap.min.css\">\n",
      "    <link rel=\"stylesheet\" href=\"/static/main.css\">\n",
      "</head>\n",
      "<body>\n",
      "    <div class=\"container\">\n",
      "        <div class=\"row header-box\">\n",
      "            <div class=\"col-md-8\">\n",
      "                <h1>\n",
      "                    <a href=\"/\" style=\"text-decoration: none\">Quotes to Scrape</a>\n",
      "                </h1>\n",
      "            </div>\n",
      "            <div class=\"col-md-4\">\n",
      "                <p>\n",
      "                \n",
      "                    <a href=\"/logout\">Logout</a>\n",
      "                \n",
      "                </p>\n",
      "            </div>\n",
      "        </div>\n",
      "    \n",
      "\n",
      "<div class=\"row\">\n",
      "    <div class=\"col-md-8\">\n",
      "\n",
      "    <div class=\"quote\" itemscope itemtype=\"http://schema.org/CreativeWork\">\n",
      "        <span class=\"text\" itemprop=\"text\">“The world as we have created it is a process of our thinking. It cannot be changed without changing our thinking.”</span>\n",
      "        <span>by <small class=\"author\" itemprop=\"author\">Albert Einstein</small>\n",
      "        <a href=\"/author/Albert-Einstein\">(about)</a> - <a href=\"http://goodreads.com/author/show/9810.Albert_Einstein\">(Goodreads page)</a>\n",
      "        </span>\n",
      "        <div class=\"tags\">\n",
      "            Tags:\n",
      "            <meta class=\"keywords\" itemprop=\"keywords\" content=\"change,deep-thoughts,thinking,world\" /    > \n",
      "            \n",
      "            <a class=\"tag\" href=\"/tag/change/page/1/\">change</a>\n",
      "            \n",
      "            <a class=\"tag\" href=\"/tag/deep-thoughts/page/1/\">deep-thoughts</a>\n",
      "            \n",
      "            <a class=\"tag\" href=\"/tag/thinking/page/1/\">thinking</a>\n",
      "            \n",
      "            <a class=\"tag\" href=\"/tag/world/page/1/\">world</a>\n",
      "            \n",
      "        </div>\n",
      "    </div>\n",
      "\n",
      "    <div class=\"quote\" itemscope itemtype=\"http://schema.org/CreativeWork\">\n",
      "        <span class=\"text\" itemprop=\"text\">“It is our choices, Harry, that show what we truly are, far more than our abilities.”</span>\n",
      "        <span>by <small class=\"author\" itemprop=\"author\">J.K. Rowling</small>\n",
      "        <a href=\"/author/J-K-Rowling\">(about)</a> - <a href=\"http://goodreads.com/author/show/1077326.J_K_Rowling\">(Goodreads page)</a>\n",
      "        </span>\n",
      "        <div class=\"tags\">\n",
      "            Tags:\n",
      "            <meta class=\"keywords\" itemprop=\"keywords\" content=\"abilities,choices\" /    > \n",
      "            \n",
      "            <a class=\"tag\" href=\"/tag/abilities/page/1/\">abilities</a>\n",
      "            \n",
      "            <a class=\"tag\" href=\"/tag/choices/page/1/\">choices</a>\n",
      "            \n",
      "        </div>\n",
      "    </div>\n",
      "\n",
      "    <div class=\"quote\" itemscope itemtype=\"http://schema.org/CreativeWork\">\n",
      "        <span class=\"text\" itemprop=\"text\">“There are only two ways to live your life. One is as though nothing is a miracle. The other is as though everything is a miracle.”</span>\n",
      "        <span>by <small class=\"author\" itemprop=\"author\">Albert Einstein</small>\n",
      "        <a href=\"/author/Albert-Einstein\">(about)</a> - <a href=\"http://goodreads.com/author/show/9810.Albert_Einstein\">(Goodreads page)</a>\n",
      "        </span>\n",
      "        <div class=\"tags\">\n",
      "            Tags:\n",
      "            <meta class=\"keywords\" itemprop=\"keywords\" content=\"inspirational,life,live,miracle,miracles\" /    > \n",
      "            \n",
      "            <a class=\"tag\" href=\"/tag/inspirational/page/1/\">inspirational</a>\n",
      "            \n",
      "            <a class=\"tag\" href=\"/tag/life/page/1/\">life</a>\n",
      "            \n",
      "            <a class=\"tag\" href=\"/tag/live/page/1/\">live</a>\n",
      "            \n",
      "            <a class=\"tag\" href=\"/tag/miracle/page/1/\">miracle</a>\n",
      "            \n",
      "            <a class=\"tag\" href=\"/tag/miracles/page/1/\">miracles</a>\n",
      "            \n",
      "        </div>\n",
      "    </div>\n",
      "\n",
      "    <div class=\"quote\" itemscope itemtype=\"http://schema.org/CreativeWork\">\n",
      "        <span class=\"text\" itemprop=\"text\">“The person, be it gentleman or lady, who has not pleasure in a good novel, must be intolerably stupid.”</span>\n",
      "        <span>by <small class=\"author\" itemprop=\"author\">Jane Austen</small>\n",
      "        <a href=\"/author/Jane-Austen\">(about)</a> - <a href=\"http://goodreads.com/author/show/1265.Jane_Austen\">(Goodreads page)</a>\n",
      "        </span>\n",
      "        <div class=\"tags\">\n",
      "            Tags:\n",
      "            <meta class=\"keywords\" itemprop=\"keywords\" content=\"aliteracy,books,classic,humor\" /    > \n",
      "            \n",
      "            <a class=\"tag\" href=\"/tag/aliteracy/page/1/\">aliteracy</a>\n",
      "            \n",
      "            <a class=\"tag\" href=\"/tag/books/page/1/\">books</a>\n",
      "            \n",
      "            <a class=\"tag\" href=\"/tag/classic/page/1/\">classic</a>\n",
      "            \n",
      "            <a class=\"tag\" href=\"/tag/humor/page/1/\">humor</a>\n",
      "            \n",
      "        </div>\n",
      "    </div>\n",
      "\n",
      "    <div class=\"quote\" itemscope itemtype=\"http://schema.org/CreativeWork\">\n",
      "        <span class=\"text\" itemprop=\"text\">“Imperfection is beauty, madness is genius and it&#39;s better to be absolutely ridiculous than absolutely boring.”</span>\n",
      "        <span>by <small class=\"author\" itemprop=\"author\">Marilyn Monroe</small>\n",
      "        <a href=\"/author/Marilyn-Monroe\">(about)</a> - <a href=\"http://goodreads.com/author/show/82952.Marilyn_Monroe\">(Goodreads page)</a>\n",
      "        </span>\n",
      "        <div class=\"tags\">\n",
      "            Tags:\n",
      "            <meta class=\"keywords\" itemprop=\"keywords\" content=\"be-yourself,inspirational\" /    > \n",
      "            \n",
      "            <a class=\"tag\" href=\"/tag/be-yourself/page/1/\">be-yourself</a>\n",
      "            \n",
      "            <a class=\"tag\" href=\"/tag/inspirational/page/1/\">inspirational</a>\n",
      "            \n",
      "        </div>\n",
      "    </div>\n",
      "\n",
      "    <div class=\"quote\" itemscope itemtype=\"http://schema.org/CreativeWork\">\n",
      "        <span class=\"text\" itemprop=\"text\">“Try not to become a man of success. Rather become a man of value.”</span>\n",
      "        <span>by <small class=\"author\" itemprop=\"author\">Albert Einstein</small>\n",
      "        <a href=\"/author/Albert-Einstein\">(about)</a> - <a href=\"http://goodreads.com/author/show/9810.Albert_Einstein\">(Goodreads page)</a>\n",
      "        </span>\n",
      "        <div class=\"tags\">\n",
      "            Tags:\n",
      "            <meta class=\"keywords\" itemprop=\"keywords\" content=\"adulthood,success,value\" /    > \n",
      "            \n",
      "            <a class=\"tag\" href=\"/tag/adulthood/page/1/\">adulthood</a>\n",
      "            \n",
      "            <a class=\"tag\" href=\"/tag/success/page/1/\">success</a>\n",
      "            \n",
      "            <a class=\"tag\" href=\"/tag/value/page/1/\">value</a>\n",
      "            \n",
      "        </div>\n",
      "    </div>\n",
      "\n",
      "    <div class=\"quote\" itemscope itemtype=\"http://schema.org/CreativeWork\">\n",
      "        <span class=\"text\" itemprop=\"text\">“It is better to be hated for what you are than to be loved for what you are not.”</span>\n",
      "        <span>by <small class=\"author\" itemprop=\"author\">André Gide</small>\n",
      "        <a href=\"/author/Andre-Gide\">(about)</a> - <a href=\"http://goodreads.com/author/show/7617.Andr_Gide\">(Goodreads page)</a>\n",
      "        </span>\n",
      "        <div class=\"tags\">\n",
      "            Tags:\n",
      "            <meta class=\"keywords\" itemprop=\"keywords\" content=\"life,love\" /    > \n",
      "            \n",
      "            <a class=\"tag\" href=\"/tag/life/page/1/\">life</a>\n",
      "            \n",
      "            <a class=\"tag\" href=\"/tag/love/page/1/\">love</a>\n",
      "            \n",
      "        </div>\n",
      "    </div>\n",
      "\n",
      "    <div class=\"quote\" itemscope itemtype=\"http://schema.org/CreativeWork\">\n",
      "        <span class=\"text\" itemprop=\"text\">“I have not failed. I&#39;ve just found 10,000 ways that won&#39;t work.”</span>\n",
      "        <span>by <small class=\"author\" itemprop=\"author\">Thomas A. Edison</small>\n",
      "        <a href=\"/author/Thomas-A-Edison\">(about)</a> - <a href=\"http://goodreads.com/author/show/3091287.Thomas_A_Edison\">(Goodreads page)</a>\n",
      "        </span>\n",
      "        <div class=\"tags\">\n",
      "            Tags:\n",
      "            <meta class=\"keywords\" itemprop=\"keywords\" content=\"edison,failure,inspirational,paraphrased\" /    > \n",
      "            \n",
      "            <a class=\"tag\" href=\"/tag/edison/page/1/\">edison</a>\n",
      "            \n",
      "            <a class=\"tag\" href=\"/tag/failure/page/1/\">failure</a>\n",
      "            \n",
      "            <a class=\"tag\" href=\"/tag/inspirational/page/1/\">inspirational</a>\n",
      "            \n",
      "            <a class=\"tag\" href=\"/tag/paraphrased/page/1/\">paraphrased</a>\n",
      "            \n",
      "        </div>\n",
      "    </div>\n",
      "\n",
      "    <div class=\"quote\" itemscope itemtype=\"http://schema.org/CreativeWork\">\n",
      "        <span class=\"text\" itemprop=\"text\">“A woman is like a tea bag; you never know how strong it is until it&#39;s in hot water.”</span>\n",
      "        <span>by <small class=\"author\" itemprop=\"author\">Eleanor Roosevelt</small>\n",
      "        <a href=\"/author/Eleanor-Roosevelt\">(about)</a> - <a href=\"http://goodreads.com/author/show/44566.Eleanor_Roosevelt\">(Goodreads page)</a>\n",
      "        </span>\n",
      "        <div class=\"tags\">\n",
      "            Tags:\n",
      "            <meta class=\"keywords\" itemprop=\"keywords\" content=\"misattributed-eleanor-roosevelt\" /    > \n",
      "            \n",
      "            <a class=\"tag\" href=\"/tag/misattributed-eleanor-roosevelt/page/1/\">misattributed-eleanor-roosevelt</a>\n",
      "            \n",
      "        </div>\n",
      "    </div>\n",
      "\n",
      "    <div class=\"quote\" itemscope itemtype=\"http://schema.org/CreativeWork\">\n",
      "        <span class=\"text\" itemprop=\"text\">“A day without sunshine is like, you know, night.”</span>\n",
      "        <span>by <small class=\"author\" itemprop=\"author\">Steve Martin</small>\n",
      "        <a href=\"/author/Steve-Martin\">(about)</a> - <a href=\"http://goodreads.com/author/show/7103.Steve_Martin\">(Goodreads page)</a>\n",
      "        </span>\n",
      "        <div class=\"tags\">\n",
      "            Tags:\n",
      "            <meta class=\"keywords\" itemprop=\"keywords\" content=\"humor,obvious,simile\" /    > \n",
      "            \n",
      "            <a class=\"tag\" href=\"/tag/humor/page/1/\">humor</a>\n",
      "            \n",
      "            <a class=\"tag\" href=\"/tag/obvious/page/1/\">obvious</a>\n",
      "            \n",
      "            <a class=\"tag\" href=\"/tag/simile/page/1/\">simile</a>\n",
      "            \n",
      "        </div>\n",
      "    </div>\n",
      "\n",
      "    <nav>\n",
      "        <ul class=\"pager\">\n",
      "            \n",
      "            \n",
      "            <li class=\"next\">\n",
      "                <a href=\"/page/2/\">Next <span aria-hidden=\"true\">&rarr;</span></a>\n",
      "            </li>\n",
      "            \n",
      "        </ul>\n",
      "    </nav>\n",
      "    </div>\n",
      "    <div class=\"col-md-4 tags-box\">\n",
      "        \n",
      "            <h2>Top Ten tags</h2>\n",
      "            \n",
      "            <span class=\"tag-item\">\n",
      "            <a class=\"tag\" style=\"font-size: 28px\" href=\"/tag/love/\">love</a>\n",
      "            </span>\n",
      "            \n",
      "            <span class=\"tag-item\">\n",
      "            <a class=\"tag\" style=\"font-size: 26px\" href=\"/tag/inspirational/\">inspirational</a>\n",
      "            </span>\n",
      "            \n",
      "            <span class=\"tag-item\">\n",
      "            <a class=\"tag\" style=\"font-size: 26px\" href=\"/tag/life/\">life</a>\n",
      "            </span>\n",
      "            \n",
      "            <span class=\"tag-item\">\n",
      "            <a class=\"tag\" style=\"font-size: 24px\" href=\"/tag/humor/\">humor</a>\n",
      "            </span>\n",
      "            \n",
      "            <span class=\"tag-item\">\n",
      "            <a class=\"tag\" style=\"font-size: 22px\" href=\"/tag/books/\">books</a>\n",
      "            </span>\n",
      "            \n",
      "            <span class=\"tag-item\">\n",
      "            <a class=\"tag\" style=\"font-size: 14px\" href=\"/tag/reading/\">reading</a>\n",
      "            </span>\n",
      "            \n",
      "            <span class=\"tag-item\">\n",
      "            <a class=\"tag\" style=\"font-size: 10px\" href=\"/tag/friendship/\">friendship</a>\n",
      "            </span>\n",
      "            \n",
      "            <span class=\"tag-item\">\n",
      "            <a class=\"tag\" style=\"font-size: 8px\" href=\"/tag/friends/\">friends</a>\n",
      "            </span>\n",
      "            \n",
      "            <span class=\"tag-item\">\n",
      "            <a class=\"tag\" style=\"font-size: 8px\" href=\"/tag/truth/\">truth</a>\n",
      "            </span>\n",
      "            \n",
      "            <span class=\"tag-item\">\n",
      "            <a class=\"tag\" style=\"font-size: 6px\" href=\"/tag/simile/\">simile</a>\n",
      "            </span>\n",
      "            \n",
      "        \n",
      "    </div>\n",
      "</div>\n",
      "\n",
      "    </div>\n",
      "    <footer class=\"footer\">\n",
      "        <div class=\"container\">\n",
      "            <p class=\"text-muted\">\n",
      "                Quotes by: <a href=\"https://www.goodreads.com/quotes\">GoodReads.com</a>\n",
      "            </p>\n",
      "            <p class=\"copyright\">\n",
      "                Made with <span class='sh-red'>❤</span> by <a href=\"https://scrapinghub.com\">Scrapinghub</a>\n",
      "            </p>\n",
      "        </div>\n",
      "    </footer>\n",
      "</body>\n",
      "</html>\n"
     ]
    }
   ],
   "source": [
    "url = 'http://quotes.toscrape.com/'\n",
    "response = requests.get(url,cookies=login_response.cookies) \n",
    "print(response.text)"
   ]
  },
  {
   "cell_type": "markdown",
   "metadata": {
    "slideshow": {
     "slide_type": "subslide"
    }
   },
   "source": [
    "### 3. 為何 \"檢查原始碼內的東西跟開發人員工具看到的不一樣\" ？\n",
    "先想想. . . . . . ."
   ]
  },
  {
   "cell_type": "markdown",
   "metadata": {
    "slideshow": {
     "slide_type": "subslide"
    }
   },
   "source": [
    "因為這些網頁在瀏覽器收到 html後，還要用Javascript跑一下才會得到你在開發人員工具看到的最終版本\n",
    "<img src=\"https://i.imgur.com/2JAYJIv.png\">"
   ]
  },
  {
   "cell_type": "markdown",
   "metadata": {
    "slideshow": {
     "slide_type": "subslide"
    }
   },
   "source": [
    "### 那要怎麼爬 \"html內的東西都是後來程式(JavaScript)產生的，因此光用request爬不到什麼東西的網站。\"\n",
    "先想想"
   ]
  },
  {
   "cell_type": "markdown",
   "metadata": {
    "slideshow": {
     "slide_type": "subslide"
    }
   },
   "source": [
    "### 想辦法模擬瀏覽器收到html後做的動作 💪\n",
    "為此我們需要一個開發用的瀏覽器驅動程式<br>\n",
    "\n",
    "..還要一個可以操作這個驅動程式的python套件"
   ]
  },
  {
   "cell_type": "markdown",
   "metadata": {
    "slideshow": {
     "slide_type": "subslide"
    }
   },
   "source": [
    "## Example 5\n",
    "\n",
    "取得動態 html"
   ]
  },
  {
   "cell_type": "markdown",
   "metadata": {
    "slideshow": {
     "slide_type": "subslide"
    }
   },
   "source": [
    "流程"
   ]
  },
  {
   "cell_type": "markdown",
   "metadata": {
    "slideshow": {
     "slide_type": "subslide"
    }
   },
   "source": [
    "### 設定 Chrome driver\n",
    "\n",
    "- 下載 [Chrome driver](http://chromedriver.chromium.org/downloads)\n",
    "    - Windows 選 win_32 那個版本即可\n",
    "- 解壓縮後，放到目錄\n",
    "    - Windows: python 安裝目錄 (需再設定環境變數) [參考教學](https://blog.csdn.net/DaemonFG/article/details/78034432) \n",
    "    - OSX: /usr/local/bin\n",
    "\n",
    "```\n",
    "# Mac 參考指令\n",
    "cp /Downloads/chromedriver /usr/local/bin\n",
    "chmod +x /usr/local/bin/chromedriver  \n",
    " \n",
    "```"
   ]
  },
  {
   "cell_type": "markdown",
   "metadata": {
    "slideshow": {
     "slide_type": "subslide"
    }
   },
   "source": [
    "### Selenium 簡介\n",
    "\n",
    "\n",
    "\n",
    "\n",
    "### 安裝 Selenium\n",
    "\n",
    "```\n",
    "pip install selenium\n",
    "```"
   ]
  },
  {
   "cell_type": "code",
   "execution_count": 101,
   "metadata": {
    "slideshow": {
     "slide_type": "subslide"
    }
   },
   "outputs": [
    {
     "name": "stdout",
     "output_type": "stream",
     "text": [
      "ok\n"
     ]
    }
   ],
   "source": [
    "import time\n",
    "from selenium import webdriver\n",
    "\n",
    "try:\n",
    "    url = 'https://netdbncku.github.io/dsai/2018/'\n",
    "    driver = webdriver.Chrome()\n",
    "    driver.get(url)\n",
    "    time.sleep(3)\n",
    "    content = driver.page_source\n",
    "finally:\n",
    "    print('ok')\n",
    "    driver.close()\n",
    "    driver.quit()    "
   ]
  },
  {
   "cell_type": "code",
   "execution_count": 102,
   "metadata": {
    "collapsed": true
   },
   "outputs": [
    {
     "name": "stdout",
     "output_type": "stream",
     "text": [
      "<!DOCTYPE html><html xmlns=\"http://www.w3.org/1999/xhtml\" lang=\"en\"><head> <meta charset=\"UTF-8\" /> <meta name=\"viewport\" content=\"width=device-width,initial-scale=1\" /> <meta http-equiv=\"X-UA-Compatible\" content=\"ie=edge\" /> <title>Data Science and Artificial Intelligence Practice - Spring 2018 - NCKU</title> <meta name=\"description\" content=\"Data Mining/Machine Learning Theory and Practice. &#10;  In this course, a series of DM/ML research topics will be taught. &#10;  There are some short technical lectures and short academic/industrial panel discussions. &#10;  We emphasize the importance of practices in this course. &#10;  Your brain, theoretically, is a kind of models which should be trained by lots of instances. &#10;  Based on the spirit of trial-and-error, we will give 5 HWs, 2 projects, one paper presentation, &#10;  and mostly, you should program individually.\" /> <meta property=\"og:type\" content=\"website\" /> <meta property=\"og:title\" content=\"Data Science and Artificial Intelligence Practice - Spring 2018 - NCKU\" /> <meta property=\"og:site_name\" content=\"Data Science and Artificial Intelligence Practice - Spring 2018 - NCKU\" /> <meta property=\"og:description\" content=\"Data Mining/Machine Learning Theory and Practice. &#10;  In this course, a series of DM/ML research topics will be taught. &#10;  There are some short technical lectures and short academic/industrial panel discussions. &#10;  We emphasize the importance of practices in this course. &#10;  Your brain, theoretically, is a kind of models which should be trained by lots of instances. &#10;  Based on the spirit of trial-and-error, we will give 5 HWs, 2 projects, one paper presentation, &#10;  and mostly, you should program individually.\" /> <meta property=\"og:url\" content=\"https://netdbncku.github.io/dsai/2018/\" /> <meta property=\"og:image\" content=\"./assets/media/images/ogImage.png\" /> <style>.loader{min-height:100vh}.loader--center{position:absolute;top:0;bottom:0;left:0;right:0;margin:0 auto;width:100px}.circular{width:100%;height:100%;animation:rotate 2s linear infinite;transform-origin:center center}.path{stroke:#ab3020;stroke-dasharray:1,200;stroke-dashoffset:0;animation:dash 1.5s ease-in-out infinite;stroke-linecap:round}@keyframes rotate{100%{transform:rotate(360deg)}}@keyframes dash{0%{stroke-dasharray:1,200;stroke-dashoffset:0}50%{stroke-dasharray:90,200;stroke-dashoffset:-35opx}100%{stroke-dasharray:90,200;stroke-dashoffset:-120px}}</style> <link rel=\"shortcut icon\" href=\"favicon.ico\" /><link href=\"./assets/css/app.css?78f9f41f4e7f3926e8e4\" rel=\"stylesheet\" /></head> <body><header>\n",
      "    <nav>\n",
      "        <div class=\"container\">\n",
      "          <ul class=\"nav justify-content-end\">\n",
      "            \n",
      "    <li class=\"nav-item\">\n",
      "      <a class=\"nav-link\" href=\"#course-announcements\">Announcements</a>\n",
      "    </li>\n",
      "    <li class=\"nav-item\">\n",
      "      <a class=\"nav-link\" href=\"#course-schedule\">Schedule</a>\n",
      "    </li>\n",
      "    <li class=\"nav-item\">\n",
      "      <a class=\"nav-link\" href=\"#course-resources\">Resources</a>\n",
      "    </li>\n",
      "          </ul>\n",
      "        </div>\n",
      "    </nav>\n",
      "  <div class=\"jumbotron jumbotron-fluid\">\n",
      "    <div class=\"container\">\n",
      "      <h1 class=\"text-title\">Data Science and Artificial Intelligence Practice</h1>\n",
      "      <h2>Spring 2018, National Cheng Kung University</h2>\n",
      "      <p class=\"text-description\">Data Mining/Machine Learning Theory and Practice. \n",
      "    In this course, a series of DM/ML research topics will be taught. \n",
      "    There are some short technical lectures and short academic/industrial panel discussions. \n",
      "    We emphasize the importance of practices in this course. \n",
      "    Your brain, theoretically, is a kind of models which should be trained by lots of instances. \n",
      "    Based on the spirit of trial-and-error, we will give 4 HWs, 2 projects, one paper presentation, and mostly, you should program individually.</p>\n",
      "    </div>\n",
      "  </div>\n",
      "  </header>\n",
      "    <section id=\"course-info\" class=\"course-info\">\n",
      "      <div class=\"container\">\n",
      "      \n",
      "  <div class=\"info-teachers row\">\n",
      "    <div class=\"teacher-instructor col-md-4\">\n",
      "      <h2>Instructors</h2>\n",
      "      \n",
      "  <div class=\"teachers-avatar\">\n",
      "      <div class=\"avatar\">\n",
      "        <img src=\"assets/media/chuang-min.jpg\" alt=\"Kun-Ta Chuang\" />\n",
      "      </div>\n",
      "      <div class=\"teacher-info\">\n",
      "        \n",
      "        <a href=\"https://cv_ktchuang.cannerapp.com/\" class=\"teacher-name\">\n",
      "          <p>\n",
      "            Kun-Ta Chuang<br />\n",
      "          </p>\n",
      "        </a>\n",
      "      </div>\n",
      "  </div>\n",
      "  <div class=\"teachers-avatar\">\n",
      "      <div class=\"avatar\">\n",
      "        <img src=\"assets/media/kao-min.jpg\" alt=\"Hung-Yu Kao\" />\n",
      "      </div>\n",
      "      <div class=\"teacher-info\">\n",
      "        \n",
      "        <a href=\"http://myweb.ncku.edu.tw/~hykao/\" class=\"teacher-name\">\n",
      "          <p>\n",
      "            Hung-Yu Kao<br />\n",
      "          </p>\n",
      "        </a>\n",
      "      </div>\n",
      "  </div>\n",
      "    </div>\n",
      "    <div class=\"teacher-box col-md-8\">\n",
      "      <h2>Teaching Assistants</h2>\n",
      "      \n",
      "  <div class=\"teachers-avatar\">\n",
      "      <div class=\"avatar\">\n",
      "        <img src=\"assets/media/jie-min.jpg\" alt=\"Jie-Han Chen\" />\n",
      "      </div>\n",
      "      <div class=\"teacher-info\">\n",
      "        <a href=\"mailto:jhchen@netdb.csie.ncku.edu.tw\"><svg xmlns=\"http://www.w3.org/2000/svg\" width=\"12\" height=\"12\" viewBox=\"0 0 24 24\"><path d=\"M0 3v18h24v-18h-24zm21.518 2l-9.518 7.713-9.518-7.713h19.036zm-19.518 14v-11.817l10 8.104 10-8.104v11.817h-20z\"/></svg></a> \n",
      "        <a href=\"https://www.linkedin.com/in/jie-han-chen-325620a3/\" class=\"teacher-name\">\n",
      "          <p>\n",
      "            Jie-Han Chen<br />\n",
      "          </p>\n",
      "        </a>\n",
      "      </div>\n",
      "  </div>\n",
      "  <div class=\"teachers-avatar\">\n",
      "      <div class=\"avatar\">\n",
      "        <img src=\"assets/media/ting-min.jpg\" alt=\"Lo Pang-Yun Ting\" />\n",
      "      </div>\n",
      "      <div class=\"teacher-info\">\n",
      "        \n",
      "        <a href=\"https://www.linkedin.com/in/lo-pang-yun-ting-5a7ab2144/\" class=\"teacher-name\">\n",
      "          <p>\n",
      "            Lo Pang-Yun Ting<br />\n",
      "          </p>\n",
      "        </a>\n",
      "      </div>\n",
      "  </div>\n",
      "  <div class=\"teachers-avatar\">\n",
      "      <div class=\"avatar\">\n",
      "        <img src=\"assets/media/him-min.jpg\" alt=\"Lok-Him Leung \" />\n",
      "      </div>\n",
      "      <div class=\"teacher-info\">\n",
      "        \n",
      "        <a href=\"#\" class=\"teacher-name\">\n",
      "          <p>\n",
      "            Lok-Him Leung <br />\n",
      "          </p>\n",
      "        </a>\n",
      "      </div>\n",
      "  </div>\n",
      "  <div class=\"teachers-avatar\">\n",
      "      <div class=\"avatar\">\n",
      "        <img src=\"assets/media/lee-min.jpg\" alt=\"Wei Lee\" />\n",
      "      </div>\n",
      "      <div class=\"teacher-info\">\n",
      "        \n",
      "        <a href=\"http://lee-w.github.io/\" class=\"teacher-name\">\n",
      "          <p>\n",
      "            Wei Lee<br />\n",
      "          </p>\n",
      "        </a>\n",
      "      </div>\n",
      "  </div>\n",
      "  <div class=\"teachers-avatar\">\n",
      "      <div class=\"avatar\">\n",
      "        <img src=\"assets/media/na-min.jpg\" alt=\"Hao-Tzu Huang\" />\n",
      "      </div>\n",
      "      <div class=\"teacher-info\">\n",
      "        \n",
      "        <a href=\"https://www.linkedin.com/in/nana-huang-b42b70129/\" class=\"teacher-name\">\n",
      "          <p>\n",
      "            Hao-Tzu Huang<br />\n",
      "          </p>\n",
      "        </a>\n",
      "      </div>\n",
      "  </div>\n",
      "  <div class=\"teachers-avatar\">\n",
      "      <div class=\"avatar\">\n",
      "        <img src=\"assets/media/ou-min.jpg\" alt=\"Cheng-Kuan Ou\" />\n",
      "      </div>\n",
      "      <div class=\"teacher-info\">\n",
      "        \n",
      "        <a href=\"https://www.linkedin.com/in/cheng-kuan-ou-620033125/\" class=\"teacher-name\">\n",
      "          <p>\n",
      "            Cheng-Kuan Ou<br />\n",
      "          </p>\n",
      "        </a>\n",
      "      </div>\n",
      "  </div>\n",
      "  <div class=\"teachers-avatar\">\n",
      "      <div class=\"avatar\">\n",
      "        <img src=\"assets/media/bo-min.jpg\" alt=\"Bo-Heng Chen\" />\n",
      "      </div>\n",
      "      <div class=\"teacher-info\">\n",
      "        \n",
      "        <a href=\"https://www.linkedin.com/in/bohengchen/\" class=\"teacher-name\">\n",
      "          <p>\n",
      "            Bo-Heng Chen<br />\n",
      "          </p>\n",
      "        </a>\n",
      "      </div>\n",
      "  </div>\n",
      "  <div class=\"teachers-avatar\">\n",
      "      <div class=\"avatar\">\n",
      "        <img src=\"assets/media/wei-min.jpg\" alt=\"Chien-Wei Chang\" />\n",
      "      </div>\n",
      "      <div class=\"teacher-info\">\n",
      "        \n",
      "        <a href=\"#\" class=\"teacher-name\">\n",
      "          <p>\n",
      "            Chien-Wei Chang<br />\n",
      "          </p>\n",
      "        </a>\n",
      "      </div>\n",
      "  </div>\n",
      "    </div>\n",
      "  </div>\n",
      "  \n",
      "      <div class=\"info-general list row\">\n",
      "  <div class=\"general-time listItem col-md-6\">\n",
      "    <div class=\"listItem-content\">\n",
      "      <h2>\n",
      "        <svg xmlns=\"http://www.w3.org/2000/svg\" width=\"8\" height=\"8\" viewBox=\"0 0 8 8\">\n",
      "          <path d=\"M4 0c-2.2 0-4 1.8-4 4s1.8 4 4 4 4-1.8 4-4-1.8-4-4-4zm0 1c1.66 0 3 1.34 3 3s-1.34 3-3 3-3-1.34-3-3 1.34-3 3-3zm-.5 1v2.22l.16.13.5.5.34.38.72-.72-.38-.34-.34-.34v-1.81h-1z\"/>\n",
      "        </svg>Lecture</h2>\n",
      "      <p>Spring 2018\n",
      "        <br />Lecture time: Tue, 9:10-12:00pm, Feb 27 - June 26\n",
      "        <br />Class room: 65104\n",
      "      </p>\n",
      "    </div>\n",
      "  </div>\n",
      "  \n",
      "  <div class=\"general-time listItem col-md-6\">\n",
      "    <div class=\"listItem-content\">\n",
      "      <h2>\n",
      "        <svg xmlns=\"http://www.w3.org/2000/svg\" width=\"8\" height=\"8\" viewBox=\"0 0 8 8\">\n",
      "          <path d=\"M3.5 0c-.97 0-1.84.4-2.47 1.03l2.97 2.97v-3.97c-.16-.02-.33-.03-.5-.03zm1.5 1.06v3.41l-2.72 2.72c.61.5 1.37.81 2.22.81 1.93 0 3.5-1.57 3.5-3.5 0-1.76-1.31-3.19-3-3.44zm-4.09 1.31c-.56.54-.91 1.29-.91 2.13 0 .96.46 1.79 1.16 2.34l2.13-2.13-2.38-2.34z\"/>\n",
      "        </svg>Grading</h2>\n",
      "      <p>- 4 HWs (50%)<br />\n",
      "      - Mid-term project (15%)<br />\n",
      "      - Team-based paper presentation (10%)<br />\n",
      "      - Final project (25%)<br />\n",
      "      - Panel discussion (5% bonus)\n",
      "      </p>\n",
      "    </div>\n",
      "  </div>\n",
      "  \n",
      "  <div class=\"general-time listItem col-md-6\">\n",
      "    <div class=\"listItem-content\">\n",
      "      <h2>\n",
      "        <svg xmlns=\"http://www.w3.org/2000/svg\" width=\"8\" height=\"8\" viewBox=\"0 0 8 8\">\n",
      "          <path d=\"M1 0c-.07 0-.13.01-.19.03-.39.08-.7.39-.78.78-.03.06-.03.12-.03.19v5.5c0 .83.67 1.5 1.5 1.5h5.5v-1h-5.5c-.28 0-.5-.22-.5-.5s.22-.5.5-.5h5.5v-5.5c0-.28-.22-.5-.5-.5h-.5v3l-1-1-1 1v-3h-3z\"/>\n",
      "        </svg>Textbook</h2>\n",
      "      <p><a href=\"http://incompleteideas.net/book/the-book-2nd.html\">Reinforcement Learning: An Introduction, 2nd Edition</a>\n",
      "      </p>\n",
      "    </div>\n",
      "  </div>\n",
      "  \n",
      "  <div class=\"general-time listItem col-md-6\">\n",
      "    <div class=\"listItem-content\">\n",
      "      <h2>\n",
      "        <svg xmlns=\"http://www.w3.org/2000/svg\" width=\"8\" height=\"8\" viewBox=\"0 0 8 8\">\n",
      "          <path d=\"M4 0c-1.1 0-2 .9-2 2 0 1.04-.52 1.98-1.34 2.66-.41.34-.66.82-.66 1.34h8c0-.52-.24-1-.66-1.34-.82-.68-1.34-1.62-1.34-2.66 0-1.1-.89-2-2-2zm-1 7c0 .55.45 1 1 1s1-.45 1-1h-2z\"/>\n",
      "        </svg>Prerequisites</h2>\n",
      "      <p>Python, Database, Probability and Statistics\n",
      "      </p>\n",
      "    </div>\n",
      "  </div>\n",
      "  </div>\n",
      "      </div>\n",
      "    </section>\n",
      "    <section id=\"course-announcements\" class=\"course-announcements\">\n",
      "      <div class=\"container\">\n",
      "        <h2>Announcements</h2>\n",
      "        <ul class=\"newsList\">\n",
      "          \n",
      "    <li class=\"listItem\">\n",
      "      <div class=\"listItem-index\">\n",
      "        6/29\n",
      "      </div>\n",
      "      <div class=\"listItem-content\">\n",
      "        <a href=\"&#10;    http://moodle.ncku.edu.tw/mod/forum/discuss.php?d=336198&#10;    \">\n",
      "          <svg xmlns=\"http://www.w3.org/2000/svg\" width=\"8\" height=\"8\" viewBox=\"0 0 8 8\">\n",
      "            <path d=\"M5.88.03c-.18.01-.36.03-.53.09-.27.1-.53.25-.75.47a.5.5 0 1 0 .69.69c.11-.11.24-.17.38-.22.35-.12.78-.07 1.06.22.39.39.39 1.04 0 1.44l-1.5 1.5c-.44.44-.8.48-1.06.47-.26-.01-.41-.13-.41-.13a.5.5 0 1 0-.5.88s.34.22.84.25c.5.03 1.2-.16 1.81-.78l1.5-1.5c.78-.78.78-2.04 0-2.81-.28-.28-.61-.45-.97-.53-.18-.04-.38-.04-.56-.03zm-2 2.31c-.5-.02-1.19.15-1.78.75l-1.5 1.5c-.78.78-.78 2.04 0 2.81.56.56 1.36.72 2.06.47.27-.1.53-.25.75-.47a.5.5 0 1 0-.69-.69c-.11.11-.24.17-.38.22-.35.12-.78.07-1.06-.22-.39-.39-.39-1.04 0-1.44l1.5-1.5c.4-.4.75-.45 1.03-.44.28.01.47.09.47.09a.5.5 0 1 0 .44-.88s-.34-.2-.84-.22z\"/>\n",
      "          </svg>\n",
      "          - Paper presentation &amp; Final presentation 成績公布於 Moodle\n",
      "        </a>\n",
      "      </div>\n",
      "      \n",
      "    </li>\n",
      "    <li class=\"listItem\" data-toggle=\"modal\" data-target=\"#[重要] Final Project &amp; Presentation 調整事項-modal\">\n",
      "      <div class=\"listItem-index\">\n",
      "        6/15\n",
      "      </div>\n",
      "      <!-- Button trigger modal -->\n",
      "      <div class=\"listItem-content\">\n",
      "        <svg xmlns=\"http://www.w3.org/2000/svg\" width=\"8\" height=\"8\" viewBox=\"0 0 8 8\">\n",
      "          <path d=\"M3 0c-.55 0-1 .45-1 1s.45 1 1 1 1-.45 1-1-.45-1-1-1zm-1.5 2.5c-.83 0-1.5.67-1.5 1.5h1c0-.28.22-.5.5-.5s.5.22.5.5-1 1.64-1 2.5c0 .86.67 1.5 1.5 1.5s1.5-.67 1.5-1.5h-1c0 .28-.22.5-.5.5s-.5-.22-.5-.5c0-.36 1-1.84 1-2.5 0-.81-.67-1.5-1.5-1.5z\" transform=\"translate(2)\"/>\n",
      "        </svg>\n",
      "        - [重要] Final Project &amp; Presentation 調整事項\n",
      "      </div>\n",
      "      <!-- Modal -->\n",
      "      <div class=\"modal fade\" id=\"[重要] Final Project &amp; Presentation 調整事項-modal\" tabindex=\"-1\" role=\"dialog\" aria-labelledby=\"exampleModalLongTitle\" aria-hidden=\"true\">\n",
      "        <div class=\"modal-dialog\" role=\"document\">\n",
      "          <div class=\"modal-content\">\n",
      "            <div class=\"modal-header\">\n",
      "              <h5 class=\"modal-title\" id=\"exampleModalLongTitle\">[重要] Final Project &amp; Presentation 調整事項</h5>\n",
      "              <button type=\"button\" class=\"close\" data-dismiss=\"modal\" aria-label=\"Close\">\n",
      "                <span aria-hidden=\"true\">×</span>\n",
      "              </button>\n",
      "            </div>\n",
      "            <div class=\"modal-body\">\n",
      "              <pre><code>請詳見 Moodle 公告\n",
      "</code></pre>\n",
      "            </div>\n",
      "            <div class=\"modal-footer\">\n",
      "              <button type=\"button\" class=\"btn btn-secondary\" data-dismiss=\"modal\">Close</button>\n",
      "            </div>\n",
      "          </div>\n",
      "        </div>\n",
      "      </div>\n",
      "    </li>\n",
      "  \n",
      "    <li class=\"listItem\">\n",
      "      <div class=\"listItem-index\">\n",
      "        6/15\n",
      "      </div>\n",
      "      <div class=\"listItem-content\">\n",
      "        <a href=\"&#10;    http://moodle.ncku.edu.tw/mod/forum/discuss.php?d=333495 &#10;    \">\n",
      "          <svg xmlns=\"http://www.w3.org/2000/svg\" width=\"8\" height=\"8\" viewBox=\"0 0 8 8\">\n",
      "            <path d=\"M5.88.03c-.18.01-.36.03-.53.09-.27.1-.53.25-.75.47a.5.5 0 1 0 .69.69c.11-.11.24-.17.38-.22.35-.12.78-.07 1.06.22.39.39.39 1.04 0 1.44l-1.5 1.5c-.44.44-.8.48-1.06.47-.26-.01-.41-.13-.41-.13a.5.5 0 1 0-.5.88s.34.22.84.25c.5.03 1.2-.16 1.81-.78l1.5-1.5c.78-.78.78-2.04 0-2.81-.28-.28-.61-.45-.97-.53-.18-.04-.38-.04-.56-.03zm-2 2.31c-.5-.02-1.19.15-1.78.75l-1.5 1.5c-.78.78-.78 2.04 0 2.81.56.56 1.36.72 2.06.47.27-.1.53-.25.75-.47a.5.5 0 1 0-.69-.69c-.11.11-.24.17-.38.22-.35.12-.78.07-1.06-.22-.39-.39-.39-1.04 0-1.44l1.5-1.5c.4-.4.75-.45 1.03-.44.28.01.47.09.47.09a.5.5 0 1 0 .44-.88s-.34-.2-.84-.22z\"/>\n",
      "          </svg>\n",
      "          - HW4 成績公布於 Moodle\n",
      "        </a>\n",
      "      </div>\n",
      "      \n",
      "    </li>\n",
      "    <li class=\"listItem\" data-toggle=\"modal\" data-target=\"#Paper presentation 順序微調-modal\">\n",
      "      <div class=\"listItem-index\">\n",
      "        6/3\n",
      "      </div>\n",
      "      <!-- Button trigger modal -->\n",
      "      <div class=\"listItem-content\">\n",
      "        <svg xmlns=\"http://www.w3.org/2000/svg\" width=\"8\" height=\"8\" viewBox=\"0 0 8 8\">\n",
      "          <path d=\"M3 0c-.55 0-1 .45-1 1s.45 1 1 1 1-.45 1-1-.45-1-1-1zm-1.5 2.5c-.83 0-1.5.67-1.5 1.5h1c0-.28.22-.5.5-.5s.5.22.5.5-1 1.64-1 2.5c0 .86.67 1.5 1.5 1.5s1.5-.67 1.5-1.5h-1c0 .28-.22.5-.5.5s-.5-.22-.5-.5c0-.36 1-1.84 1-2.5 0-.81-.67-1.5-1.5-1.5z\" transform=\"translate(2)\"/>\n",
      "        </svg>\n",
      "        - Paper presentation 順序微調\n",
      "      </div>\n",
      "      <!-- Modal -->\n",
      "      <div class=\"modal fade\" id=\"Paper presentation 順序微調-modal\" tabindex=\"-1\" role=\"dialog\" aria-labelledby=\"exampleModalLongTitle\" aria-hidden=\"true\">\n",
      "        <div class=\"modal-dialog\" role=\"document\">\n",
      "          <div class=\"modal-content\">\n",
      "            <div class=\"modal-header\">\n",
      "              <h5 class=\"modal-title\" id=\"exampleModalLongTitle\">Paper presentation 順序微調</h5>\n",
      "              <button type=\"button\" class=\"close\" data-dismiss=\"modal\" aria-label=\"Close\">\n",
      "                <span aria-hidden=\"true\">×</span>\n",
      "              </button>\n",
      "            </div>\n",
      "            <div class=\"modal-body\">\n",
      "              <pre><code>請詳見 Moodle 公告\n",
      "</code></pre>\n",
      "            </div>\n",
      "            <div class=\"modal-footer\">\n",
      "              <button type=\"button\" class=\"btn btn-secondary\" data-dismiss=\"modal\">Close</button>\n",
      "            </div>\n",
      "          </div>\n",
      "        </div>\n",
      "      </div>\n",
      "    </li>\n",
      "  \n",
      "    <li class=\"listItem\">\n",
      "      <div class=\"listItem-index\">\n",
      "        5/31\n",
      "      </div>\n",
      "      <div class=\"listItem-content\">\n",
      "        <a href=\"&#10;    https://docs.google.com/spreadsheets/d/1NP4Rd-mIDk1cRJbxpEbKn8zIA__oGZs4_ya01w-NpoE/edit?usp=sharing&#10;    \">\n",
      "          <svg xmlns=\"http://www.w3.org/2000/svg\" width=\"8\" height=\"8\" viewBox=\"0 0 8 8\">\n",
      "            <path d=\"M5.88.03c-.18.01-.36.03-.53.09-.27.1-.53.25-.75.47a.5.5 0 1 0 .69.69c.11-.11.24-.17.38-.22.35-.12.78-.07 1.06.22.39.39.39 1.04 0 1.44l-1.5 1.5c-.44.44-.8.48-1.06.47-.26-.01-.41-.13-.41-.13a.5.5 0 1 0-.5.88s.34.22.84.25c.5.03 1.2-.16 1.81-.78l1.5-1.5c.78-.78.78-2.04 0-2.81-.28-.28-.61-.45-.97-.53-.18-.04-.38-.04-.56-.03zm-2 2.31c-.5-.02-1.19.15-1.78.75l-1.5 1.5c-.78.78-.78 2.04 0 2.81.56.56 1.36.72 2.06.47.27-.1.53-.25.75-.47a.5.5 0 1 0-.69-.69c-.11.11-.24.17-.38.22-.35.12-.78.07-1.06-.22-.39-.39-.39-1.04 0-1.44l1.5-1.5c.4-.4.75-.45 1.03-.44.28.01.47.09.47.09a.5.5 0 1 0 .44-.88s-.34-.2-.84-.22z\"/>\n",
      "          </svg>\n",
      "          - Final presentation 順序\n",
      "        </a>\n",
      "      </div>\n",
      "      \n",
      "    </li>\n",
      "    <li class=\"listItem\" data-toggle=\"modal\" data-target=\"#公布 HW3 成績，詳見 Moodle-modal\">\n",
      "      <div class=\"listItem-index\">\n",
      "        5/31\n",
      "      </div>\n",
      "      <!-- Button trigger modal -->\n",
      "      <div class=\"listItem-content\">\n",
      "        <svg xmlns=\"http://www.w3.org/2000/svg\" width=\"8\" height=\"8\" viewBox=\"0 0 8 8\">\n",
      "          <path d=\"M3 0c-.55 0-1 .45-1 1s.45 1 1 1 1-.45 1-1-.45-1-1-1zm-1.5 2.5c-.83 0-1.5.67-1.5 1.5h1c0-.28.22-.5.5-.5s.5.22.5.5-1 1.64-1 2.5c0 .86.67 1.5 1.5 1.5s1.5-.67 1.5-1.5h-1c0 .28-.22.5-.5.5s-.5-.22-.5-.5c0-.36 1-1.84 1-2.5 0-.81-.67-1.5-1.5-1.5z\" transform=\"translate(2)\"/>\n",
      "        </svg>\n",
      "        - 公布 HW3 成績，詳見 Moodle\n",
      "      </div>\n",
      "      <!-- Modal -->\n",
      "      <div class=\"modal fade\" id=\"公布 HW3 成績，詳見 Moodle-modal\" tabindex=\"-1\" role=\"dialog\" aria-labelledby=\"exampleModalLongTitle\" aria-hidden=\"true\">\n",
      "        <div class=\"modal-dialog\" role=\"document\">\n",
      "          <div class=\"modal-content\">\n",
      "            <div class=\"modal-header\">\n",
      "              <h5 class=\"modal-title\" id=\"exampleModalLongTitle\">公布 HW3 成績，詳見 Moodle</h5>\n",
      "              <button type=\"button\" class=\"close\" data-dismiss=\"modal\" aria-label=\"Close\">\n",
      "                <span aria-hidden=\"true\">×</span>\n",
      "              </button>\n",
      "            </div>\n",
      "            <div class=\"modal-body\">\n",
      "              <p>請見 moodle</p>\n",
      "\n",
      "            </div>\n",
      "            <div class=\"modal-footer\">\n",
      "              <button type=\"button\" class=\"btn btn-secondary\" data-dismiss=\"modal\">Close</button>\n",
      "            </div>\n",
      "          </div>\n",
      "        </div>\n",
      "      </div>\n",
      "    </li>\n",
      "  \n",
      "    <li class=\"listItem\" data-toggle=\"modal\" data-target=\"#公布 Paper presentation 順序-modal\">\n",
      "      <div class=\"listItem-index\">\n",
      "        5/24\n",
      "      </div>\n",
      "      <!-- Button trigger modal -->\n",
      "      <div class=\"listItem-content\">\n",
      "        <svg xmlns=\"http://www.w3.org/2000/svg\" width=\"8\" height=\"8\" viewBox=\"0 0 8 8\">\n",
      "          <path d=\"M3 0c-.55 0-1 .45-1 1s.45 1 1 1 1-.45 1-1-.45-1-1-1zm-1.5 2.5c-.83 0-1.5.67-1.5 1.5h1c0-.28.22-.5.5-.5s.5.22.5.5-1 1.64-1 2.5c0 .86.67 1.5 1.5 1.5s1.5-.67 1.5-1.5h-1c0 .28-.22.5-.5.5s-.5-.22-.5-.5c0-.36 1-1.84 1-2.5 0-.81-.67-1.5-1.5-1.5z\" transform=\"translate(2)\"/>\n",
      "        </svg>\n",
      "        - 公布 Paper presentation 順序\n",
      "      </div>\n",
      "      <!-- Modal -->\n",
      "      <div class=\"modal fade\" id=\"公布 Paper presentation 順序-modal\" tabindex=\"-1\" role=\"dialog\" aria-labelledby=\"exampleModalLongTitle\" aria-hidden=\"true\">\n",
      "        <div class=\"modal-dialog\" role=\"document\">\n",
      "          <div class=\"modal-content\">\n",
      "            <div class=\"modal-header\">\n",
      "              <h5 class=\"modal-title\" id=\"exampleModalLongTitle\">公布 Paper presentation 順序</h5>\n",
      "              <button type=\"button\" class=\"close\" data-dismiss=\"modal\" aria-label=\"Close\">\n",
      "                <span aria-hidden=\"true\">×</span>\n",
      "              </button>\n",
      "            </div>\n",
      "            <div class=\"modal-body\">\n",
      "              <p>詳見 Moodle</p>\n",
      "\n",
      "            </div>\n",
      "            <div class=\"modal-footer\">\n",
      "              <button type=\"button\" class=\"btn btn-secondary\" data-dismiss=\"modal\">Close</button>\n",
      "            </div>\n",
      "          </div>\n",
      "        </div>\n",
      "      </div>\n",
      "    </li>\n",
      "  \n",
      "    <li class=\"listItem\" data-toggle=\"modal\" data-target=\"#NOTICE: 尚未分組的同學-modal\">\n",
      "      <div class=\"listItem-index\">\n",
      "        5/21\n",
      "      </div>\n",
      "      <!-- Button trigger modal -->\n",
      "      <div class=\"listItem-content\">\n",
      "        <svg xmlns=\"http://www.w3.org/2000/svg\" width=\"8\" height=\"8\" viewBox=\"0 0 8 8\">\n",
      "          <path d=\"M3 0c-.55 0-1 .45-1 1s.45 1 1 1 1-.45 1-1-.45-1-1-1zm-1.5 2.5c-.83 0-1.5.67-1.5 1.5h1c0-.28.22-.5.5-.5s.5.22.5.5-1 1.64-1 2.5c0 .86.67 1.5 1.5 1.5s1.5-.67 1.5-1.5h-1c0 .28-.22.5-.5.5s-.5-.22-.5-.5c0-.36 1-1.84 1-2.5 0-.81-.67-1.5-1.5-1.5z\" transform=\"translate(2)\"/>\n",
      "        </svg>\n",
      "        - NOTICE: 尚未分組的同學\n",
      "      </div>\n",
      "      <!-- Modal -->\n",
      "      <div class=\"modal fade\" id=\"NOTICE: 尚未分組的同學-modal\" tabindex=\"-1\" role=\"dialog\" aria-labelledby=\"exampleModalLongTitle\" aria-hidden=\"true\">\n",
      "        <div class=\"modal-dialog\" role=\"document\">\n",
      "          <div class=\"modal-content\">\n",
      "            <div class=\"modal-header\">\n",
      "              <h5 class=\"modal-title\" id=\"exampleModalLongTitle\">NOTICE: 尚未分組的同學</h5>\n",
      "              <button type=\"button\" class=\"close\" data-dismiss=\"modal\" aria-label=\"Close\">\n",
      "                <span aria-hidden=\"true\">×</span>\n",
      "              </button>\n",
      "            </div>\n",
      "            <div class=\"modal-body\">\n",
      "              <p>尚未分組的同學請盡快提交分組表單，我們在上週已經公布所有分組的情況以及要報告的論文。\n",
      "    如果你到時候沒有分到組，沒有報到 Paper，沒有安排時間報告 Final project，最後沒有成績請自行負責。</p>\n",
      "\n",
      "            </div>\n",
      "            <div class=\"modal-footer\">\n",
      "              <button type=\"button\" class=\"btn btn-secondary\" data-dismiss=\"modal\">Close</button>\n",
      "            </div>\n",
      "          </div>\n",
      "        </div>\n",
      "      </div>\n",
      "    </li>\n",
      "  \n",
      "    <li class=\"listItem\">\n",
      "      <div class=\"listItem-index\">\n",
      "        5/15\n",
      "      </div>\n",
      "      <div class=\"listItem-content\">\n",
      "        <a href=\"&#10;    https://docs.google.com/spreadsheets/d/1zTeIQe10pjMNHXLDrpxv0Gg34FdepxmI1mmV56n7oGc/edit?usp=sharing&#10;    \">\n",
      "          <svg xmlns=\"http://www.w3.org/2000/svg\" width=\"8\" height=\"8\" viewBox=\"0 0 8 8\">\n",
      "            <path d=\"M5.88.03c-.18.01-.36.03-.53.09-.27.1-.53.25-.75.47a.5.5 0 1 0 .69.69c.11-.11.24-.17.38-.22.35-.12.78-.07 1.06.22.39.39.39 1.04 0 1.44l-1.5 1.5c-.44.44-.8.48-1.06.47-.26-.01-.41-.13-.41-.13a.5.5 0 1 0-.5.88s.34.22.84.25c.5.03 1.2-.16 1.81-.78l1.5-1.5c.78-.78.78-2.04 0-2.81-.28-.28-.61-.45-.97-.53-.18-.04-.38-.04-.56-.03zm-2 2.31c-.5-.02-1.19.15-1.78.75l-1.5 1.5c-.78.78-.78 2.04 0 2.81.56.56 1.36.72 2.06.47.27-.1.53-.25.75-.47a.5.5 0 1 0-.69-.69c-.11.11-.24.17-.38.22-.35.12-.78.07-1.06-.22-.39-.39-.39-1.04 0-1.44l1.5-1.5c.4-.4.75-.45 1.03-.44.28.01.47.09.47.09a.5.5 0 1 0 .44-.88s-.34-.2-.84-.22z\"/>\n",
      "          </svg>\n",
      "          - Paper List\n",
      "        </a>\n",
      "      </div>\n",
      "      \n",
      "    </li>\n",
      "    <li class=\"listItem\" data-toggle=\"modal\" data-target=\"#論文報告相關資訊已公布在 Moodle-modal\">\n",
      "      <div class=\"listItem-index\">\n",
      "        5/15\n",
      "      </div>\n",
      "      <!-- Button trigger modal -->\n",
      "      <div class=\"listItem-content\">\n",
      "        <svg xmlns=\"http://www.w3.org/2000/svg\" width=\"8\" height=\"8\" viewBox=\"0 0 8 8\">\n",
      "          <path d=\"M3 0c-.55 0-1 .45-1 1s.45 1 1 1 1-.45 1-1-.45-1-1-1zm-1.5 2.5c-.83 0-1.5.67-1.5 1.5h1c0-.28.22-.5.5-.5s.5.22.5.5-1 1.64-1 2.5c0 .86.67 1.5 1.5 1.5s1.5-.67 1.5-1.5h-1c0 .28-.22.5-.5.5s-.5-.22-.5-.5c0-.36 1-1.84 1-2.5 0-.81-.67-1.5-1.5-1.5z\" transform=\"translate(2)\"/>\n",
      "        </svg>\n",
      "        - 論文報告相關資訊已公布在 Moodle\n",
      "      </div>\n",
      "      <!-- Modal -->\n",
      "      <div class=\"modal fade\" id=\"論文報告相關資訊已公布在 Moodle-modal\" tabindex=\"-1\" role=\"dialog\" aria-labelledby=\"exampleModalLongTitle\" aria-hidden=\"true\">\n",
      "        <div class=\"modal-dialog\" role=\"document\">\n",
      "          <div class=\"modal-content\">\n",
      "            <div class=\"modal-header\">\n",
      "              <h5 class=\"modal-title\" id=\"exampleModalLongTitle\">論文報告相關資訊已公布在 Moodle</h5>\n",
      "              <button type=\"button\" class=\"close\" data-dismiss=\"modal\" aria-label=\"Close\">\n",
      "                <span aria-hidden=\"true\">×</span>\n",
      "              </button>\n",
      "            </div>\n",
      "            <div class=\"modal-body\">\n",
      "              <pre><code>請前往 Moodle 查看\n",
      "</code></pre>\n",
      "            </div>\n",
      "            <div class=\"modal-footer\">\n",
      "              <button type=\"button\" class=\"btn btn-secondary\" data-dismiss=\"modal\">Close</button>\n",
      "            </div>\n",
      "          </div>\n",
      "        </div>\n",
      "      </div>\n",
      "    </li>\n",
      "  \n",
      "    <li class=\"listItem\" data-toggle=\"modal\" data-target=\"#Midterm Project 成績公布-modal\">\n",
      "      <div class=\"listItem-index\">\n",
      "        5/15\n",
      "      </div>\n",
      "      <!-- Button trigger modal -->\n",
      "      <div class=\"listItem-content\">\n",
      "        <svg xmlns=\"http://www.w3.org/2000/svg\" width=\"8\" height=\"8\" viewBox=\"0 0 8 8\">\n",
      "          <path d=\"M3 0c-.55 0-1 .45-1 1s.45 1 1 1 1-.45 1-1-.45-1-1-1zm-1.5 2.5c-.83 0-1.5.67-1.5 1.5h1c0-.28.22-.5.5-.5s.5.22.5.5-1 1.64-1 2.5c0 .86.67 1.5 1.5 1.5s1.5-.67 1.5-1.5h-1c0 .28-.22.5-.5.5s-.5-.22-.5-.5c0-.36 1-1.84 1-2.5 0-.81-.67-1.5-1.5-1.5z\" transform=\"translate(2)\"/>\n",
      "        </svg>\n",
      "        - Midterm Project 成績公布\n",
      "      </div>\n",
      "      <!-- Modal -->\n",
      "      <div class=\"modal fade\" id=\"Midterm Project 成績公布-modal\" tabindex=\"-1\" role=\"dialog\" aria-labelledby=\"exampleModalLongTitle\" aria-hidden=\"true\">\n",
      "        <div class=\"modal-dialog\" role=\"document\">\n",
      "          <div class=\"modal-content\">\n",
      "            <div class=\"modal-header\">\n",
      "              <h5 class=\"modal-title\" id=\"exampleModalLongTitle\">Midterm Project 成績公布</h5>\n",
      "              <button type=\"button\" class=\"close\" data-dismiss=\"modal\" aria-label=\"Close\">\n",
      "                <span aria-hidden=\"true\">×</span>\n",
      "              </button>\n",
      "            </div>\n",
      "            <div class=\"modal-body\">\n",
      "              <p>請詳見 moodle</p>\n",
      "\n",
      "            </div>\n",
      "            <div class=\"modal-footer\">\n",
      "              <button type=\"button\" class=\"btn btn-secondary\" data-dismiss=\"modal\">Close</button>\n",
      "            </div>\n",
      "          </div>\n",
      "        </div>\n",
      "      </div>\n",
      "    </li>\n",
      "  \n",
      "    <li class=\"listItem\">\n",
      "      <div class=\"listItem-index\">\n",
      "        5/15\n",
      "      </div>\n",
      "      <div class=\"listItem-content\">\n",
      "        <a href=\"&#10;    https://paper.dropbox.com/doc/DSAI-HW4-Classic-control-in-reinforcement-learning-FcFjLnyqd2Ioa8SmqIo4e&#10;    \">\n",
      "          <svg xmlns=\"http://www.w3.org/2000/svg\" width=\"8\" height=\"8\" viewBox=\"0 0 8 8\">\n",
      "            <path d=\"M5.88.03c-.18.01-.36.03-.53.09-.27.1-.53.25-.75.47a.5.5 0 1 0 .69.69c.11-.11.24-.17.38-.22.35-.12.78-.07 1.06.22.39.39.39 1.04 0 1.44l-1.5 1.5c-.44.44-.8.48-1.06.47-.26-.01-.41-.13-.41-.13a.5.5 0 1 0-.5.88s.34.22.84.25c.5.03 1.2-.16 1.81-.78l1.5-1.5c.78-.78.78-2.04 0-2.81-.28-.28-.61-.45-.97-.53-.18-.04-.38-.04-.56-.03zm-2 2.31c-.5-.02-1.19.15-1.78.75l-1.5 1.5c-.78.78-.78 2.04 0 2.81.56.56 1.36.72 2.06.47.27-.1.53-.25.75-.47a.5.5 0 1 0-.69-.69c-.11.11-.24.17-.38.22-.35.12-.78.07-1.06-.22-.39-.39-.39-1.04 0-1.44l1.5-1.5c.4-.4.75-.45 1.03-.44.28.01.47.09.47.09a.5.5 0 1 0 .44-.88s-.34-.2-.84-.22z\"/>\n",
      "          </svg>\n",
      "          - Released HW4\n",
      "        </a>\n",
      "      </div>\n",
      "      \n",
      "    </li>\n",
      "    <li class=\"listItem\" data-toggle=\"modal\" data-target=\"#Final Project announcement &amp; Grouping-modal\">\n",
      "      <div class=\"listItem-index\">\n",
      "        5/1\n",
      "      </div>\n",
      "      <!-- Button trigger modal -->\n",
      "      <div class=\"listItem-content\">\n",
      "        <svg xmlns=\"http://www.w3.org/2000/svg\" width=\"8\" height=\"8\" viewBox=\"0 0 8 8\">\n",
      "          <path d=\"M3 0c-.55 0-1 .45-1 1s.45 1 1 1 1-.45 1-1-.45-1-1-1zm-1.5 2.5c-.83 0-1.5.67-1.5 1.5h1c0-.28.22-.5.5-.5s.5.22.5.5-1 1.64-1 2.5c0 .86.67 1.5 1.5 1.5s1.5-.67 1.5-1.5h-1c0 .28-.22.5-.5.5s-.5-.22-.5-.5c0-.36 1-1.84 1-2.5 0-.81-.67-1.5-1.5-1.5z\" transform=\"translate(2)\"/>\n",
      "        </svg>\n",
      "        - Final Project announcement &amp; Grouping\n",
      "      </div>\n",
      "      <!-- Modal -->\n",
      "      <div class=\"modal fade\" id=\"Final Project announcement &amp; Grouping-modal\" tabindex=\"-1\" role=\"dialog\" aria-labelledby=\"exampleModalLongTitle\" aria-hidden=\"true\">\n",
      "        <div class=\"modal-dialog\" role=\"document\">\n",
      "          <div class=\"modal-content\">\n",
      "            <div class=\"modal-header\">\n",
      "              <h5 class=\"modal-title\" id=\"exampleModalLongTitle\">Final Project announcement &amp; Grouping</h5>\n",
      "              <button type=\"button\" class=\"close\" data-dismiss=\"modal\" aria-label=\"Close\">\n",
      "                <span aria-hidden=\"true\">×</span>\n",
      "              </button>\n",
      "            </div>\n",
      "            <div class=\"modal-body\">\n",
      "              <p>Final project 介紹：<a href=\"https://paper.dropbox.com/doc/DSAI-Final-Project-TEfDgf4MxJr4qDnvs08aI\">https://paper.dropbox.com/doc/DSAI-Final-Project-TEfDgf4MxJr4qDnvs08aI</a></p>\n",
      "<p>分組表單: <a href=\"https://goo.gl/forms/qyuQxz2hSkZoxkEz2\">https://goo.gl/forms/qyuQxz2hSkZoxkEz2</a></p>\n",
      "<p>請大家盡量在 5/8 前分完組，我們會儘早分派 Paper presentation 的論文。</p>\n",
      "\n",
      "            </div>\n",
      "            <div class=\"modal-footer\">\n",
      "              <button type=\"button\" class=\"btn btn-secondary\" data-dismiss=\"modal\">Close</button>\n",
      "            </div>\n",
      "          </div>\n",
      "        </div>\n",
      "      </div>\n",
      "    </li>\n",
      "  \n",
      "    <li class=\"listItem\" data-toggle=\"modal\" data-target=\"#Released HW3-modal\">\n",
      "      <div class=\"listItem-index\">\n",
      "        5/1\n",
      "      </div>\n",
      "      <!-- Button trigger modal -->\n",
      "      <div class=\"listItem-content\">\n",
      "        <svg xmlns=\"http://www.w3.org/2000/svg\" width=\"8\" height=\"8\" viewBox=\"0 0 8 8\">\n",
      "          <path d=\"M3 0c-.55 0-1 .45-1 1s.45 1 1 1 1-.45 1-1-.45-1-1-1zm-1.5 2.5c-.83 0-1.5.67-1.5 1.5h1c0-.28.22-.5.5-.5s.5.22.5.5-1 1.64-1 2.5c0 .86.67 1.5 1.5 1.5s1.5-.67 1.5-1.5h-1c0 .28-.22.5-.5.5s-.5-.22-.5-.5c0-.36 1-1.84 1-2.5 0-.81-.67-1.5-1.5-1.5z\" transform=\"translate(2)\"/>\n",
      "        </svg>\n",
      "        - Released HW3\n",
      "      </div>\n",
      "      <!-- Modal -->\n",
      "      <div class=\"modal fade\" id=\"Released HW3-modal\" tabindex=\"-1\" role=\"dialog\" aria-labelledby=\"exampleModalLongTitle\" aria-hidden=\"true\">\n",
      "        <div class=\"modal-dialog\" role=\"document\">\n",
      "          <div class=\"modal-content\">\n",
      "            <div class=\"modal-header\">\n",
      "              <h5 class=\"modal-title\" id=\"exampleModalLongTitle\">Released HW3</h5>\n",
      "              <button type=\"button\" class=\"close\" data-dismiss=\"modal\" aria-label=\"Close\">\n",
      "                <span aria-hidden=\"true\">×</span>\n",
      "              </button>\n",
      "            </div>\n",
      "            <div class=\"modal-body\">\n",
      "              <p>HW3 要利用 neural network 實作一個三位數的減法器，作業詳細內容在此：\n",
      "<a href=\"https://paper.dropbox.com/doc/DASI-HW3-Subtractor-nXPC5ipREgBy1Nw8ilh1b\">https://paper.dropbox.com/doc/DASI-HW3-Subtractor-nXPC5ipREgBy1Nw8ilh1b</a></p>\n",
      "\n",
      "            </div>\n",
      "            <div class=\"modal-footer\">\n",
      "              <button type=\"button\" class=\"btn btn-secondary\" data-dismiss=\"modal\">Close</button>\n",
      "            </div>\n",
      "          </div>\n",
      "        </div>\n",
      "      </div>\n",
      "    </li>\n",
      "  \n",
      "    <li class=\"listItem\" data-toggle=\"modal\" data-target=\"#HW2 Grading &amp; testing data-modal\">\n",
      "      <div class=\"listItem-index\">\n",
      "        5/1\n",
      "      </div>\n",
      "      <!-- Button trigger modal -->\n",
      "      <div class=\"listItem-content\">\n",
      "        <svg xmlns=\"http://www.w3.org/2000/svg\" width=\"8\" height=\"8\" viewBox=\"0 0 8 8\">\n",
      "          <path d=\"M3 0c-.55 0-1 .45-1 1s.45 1 1 1 1-.45 1-1-.45-1-1-1zm-1.5 2.5c-.83 0-1.5.67-1.5 1.5h1c0-.28.22-.5.5-.5s.5.22.5.5-1 1.64-1 2.5c0 .86.67 1.5 1.5 1.5s1.5-.67 1.5-1.5h-1c0 .28-.22.5-.5.5s-.5-.22-.5-.5c0-.36 1-1.84 1-2.5 0-.81-.67-1.5-1.5-1.5z\" transform=\"translate(2)\"/>\n",
      "        </svg>\n",
      "        - HW2 Grading &amp; testing data\n",
      "      </div>\n",
      "      <!-- Modal -->\n",
      "      <div class=\"modal fade\" id=\"HW2 Grading &amp; testing data-modal\" tabindex=\"-1\" role=\"dialog\" aria-labelledby=\"exampleModalLongTitle\" aria-hidden=\"true\">\n",
      "        <div class=\"modal-dialog\" role=\"document\">\n",
      "          <div class=\"modal-content\">\n",
      "            <div class=\"modal-header\">\n",
      "              <h5 class=\"modal-title\" id=\"exampleModalLongTitle\">HW2 Grading &amp; testing data</h5>\n",
      "              <button type=\"button\" class=\"close\" data-dismiss=\"modal\" aria-label=\"Close\">\n",
      "                <span aria-hidden=\"true\">×</span>\n",
      "              </button>\n",
      "            </div>\n",
      "            <div class=\"modal-body\">\n",
      "              <p>HW2 的成績請到 moodle 查看。\n",
      "我們使用的測資存放在這個 GitHub 資料夾:\n",
      "<a href=\"https://github.com/NCKU-CCS/DSAI-Source/tree/master/HW2\">https://github.com/NCKU-CCS/DSAI-Source/tree/master/HW2</a></p>\n",
      "\n",
      "            </div>\n",
      "            <div class=\"modal-footer\">\n",
      "              <button type=\"button\" class=\"btn btn-secondary\" data-dismiss=\"modal\">Close</button>\n",
      "            </div>\n",
      "          </div>\n",
      "        </div>\n",
      "      </div>\n",
      "    </li>\n",
      "  \n",
      "    <li class=\"listItem\" data-toggle=\"modal\" data-target=\"#Midterm Project 成績相關公告-modal\">\n",
      "      <div class=\"listItem-index\">\n",
      "        4/26\n",
      "      </div>\n",
      "      <!-- Button trigger modal -->\n",
      "      <div class=\"listItem-content\">\n",
      "        <svg xmlns=\"http://www.w3.org/2000/svg\" width=\"8\" height=\"8\" viewBox=\"0 0 8 8\">\n",
      "          <path d=\"M3 0c-.55 0-1 .45-1 1s.45 1 1 1 1-.45 1-1-.45-1-1-1zm-1.5 2.5c-.83 0-1.5.67-1.5 1.5h1c0-.28.22-.5.5-.5s.5.22.5.5-1 1.64-1 2.5c0 .86.67 1.5 1.5 1.5s1.5-.67 1.5-1.5h-1c0 .28-.22.5-.5.5s-.5-.22-.5-.5c0-.36 1-1.84 1-2.5 0-.81-.67-1.5-1.5-1.5z\" transform=\"translate(2)\"/>\n",
      "        </svg>\n",
      "        - Midterm Project 成績相關公告\n",
      "      </div>\n",
      "      <!-- Modal -->\n",
      "      <div class=\"modal fade\" id=\"Midterm Project 成績相關公告-modal\" tabindex=\"-1\" role=\"dialog\" aria-labelledby=\"exampleModalLongTitle\" aria-hidden=\"true\">\n",
      "        <div class=\"modal-dialog\" role=\"document\">\n",
      "          <div class=\"modal-content\">\n",
      "            <div class=\"modal-header\">\n",
      "              <h5 class=\"modal-title\" id=\"exampleModalLongTitle\">Midterm Project 成績相關公告</h5>\n",
      "              <button type=\"button\" class=\"close\" data-dismiss=\"modal\" aria-label=\"Close\">\n",
      "                <span aria-hidden=\"true\">×</span>\n",
      "              </button>\n",
      "            </div>\n",
      "            <div class=\"modal-body\">\n",
      "              <p>想要請問一下，在這個 KDD midterm project 中，有同學的隊伍名稱是有改過的嗎？\n",
      "我們已經將 4/3 - 4/23 的 leaderboard 記錄都爬下來了。但是，我們在前幾天發現平台的一個 bug: 當你更改隊名的時候，leaderboard 的紀錄會重新計算。\n",
      "所以如果有同學有更改過隊伍名稱，可以直接截圖提交的紀錄給我們，因為提交的紀錄也會有分數。</p>\n",
      "\n",
      "            </div>\n",
      "            <div class=\"modal-footer\">\n",
      "              <button type=\"button\" class=\"btn btn-secondary\" data-dismiss=\"modal\">Close</button>\n",
      "            </div>\n",
      "          </div>\n",
      "        </div>\n",
      "      </div>\n",
      "    </li>\n",
      "  \n",
      "    <li class=\"listItem\">\n",
      "      <div class=\"listItem-index\">\n",
      "        4/24\n",
      "      </div>\n",
      "      <div class=\"listItem-content\">\n",
      "        <a href=\"https://docs.google.com/forms/d/e/1FAIpQLSdHtJIoxeeFSSkRJIFPPf1TOAZuYCmA0ODJMS4HceGBKyFPaw/viewform\">\n",
      "          <svg xmlns=\"http://www.w3.org/2000/svg\" width=\"8\" height=\"8\" viewBox=\"0 0 8 8\">\n",
      "            <path d=\"M5.88.03c-.18.01-.36.03-.53.09-.27.1-.53.25-.75.47a.5.5 0 1 0 .69.69c.11-.11.24-.17.38-.22.35-.12.78-.07 1.06.22.39.39.39 1.04 0 1.44l-1.5 1.5c-.44.44-.8.48-1.06.47-.26-.01-.41-.13-.41-.13a.5.5 0 1 0-.5.88s.34.22.84.25c.5.03 1.2-.16 1.81-.78l1.5-1.5c.78-.78.78-2.04 0-2.81-.28-.28-.61-.45-.97-.53-.18-.04-.38-.04-.56-.03zm-2 2.31c-.5-.02-1.19.15-1.78.75l-1.5 1.5c-.78.78-.78 2.04 0 2.81.56.56 1.36.72 2.06.47.27-.1.53-.25.75-.47a.5.5 0 1 0-.69-.69c-.11.11-.24.17-.38.22-.35.12-.78.07-1.06-.22-.39-.39-.39-1.04 0-1.44l1.5-1.5c.4-.4.75-.45 1.03-.44.28.01.47.09.47.09a.5.5 0 1 0 .44-.88s-.34-.2-.84-.22z\"/>\n",
      "          </svg>\n",
      "          - HW2 program form\n",
      "        </a>\n",
      "      </div>\n",
      "      \n",
      "    </li>\n",
      "    <li class=\"listItem\">\n",
      "      <div class=\"listItem-index\">\n",
      "        4/3\n",
      "      </div>\n",
      "      <div class=\"listItem-content\">\n",
      "        <a href=\"https://paper.dropbox.com/doc/DSAI-MidTerm-Project-F7BPIajkkO59MyAniHQx2\">\n",
      "          <svg xmlns=\"http://www.w3.org/2000/svg\" width=\"8\" height=\"8\" viewBox=\"0 0 8 8\">\n",
      "            <path d=\"M5.88.03c-.18.01-.36.03-.53.09-.27.1-.53.25-.75.47a.5.5 0 1 0 .69.69c.11-.11.24-.17.38-.22.35-.12.78-.07 1.06.22.39.39.39 1.04 0 1.44l-1.5 1.5c-.44.44-.8.48-1.06.47-.26-.01-.41-.13-.41-.13a.5.5 0 1 0-.5.88s.34.22.84.25c.5.03 1.2-.16 1.81-.78l1.5-1.5c.78-.78.78-2.04 0-2.81-.28-.28-.61-.45-.97-.53-.18-.04-.38-.04-.56-.03zm-2 2.31c-.5-.02-1.19.15-1.78.75l-1.5 1.5c-.78.78-.78 2.04 0 2.81.56.56 1.36.72 2.06.47.27-.1.53-.25.75-.47a.5.5 0 1 0-.69-.69c-.11.11-.24.17-.38.22-.35.12-.78.07-1.06-.22-.39-.39-.39-1.04 0-1.44l1.5-1.5c.4-.4.75-.45 1.03-.44.28.01.47.09.47.09a.5.5 0 1 0 .44-.88s-.34-.2-.84-.22z\"/>\n",
      "          </svg>\n",
      "          - Released Midterm project\n",
      "        </a>\n",
      "      </div>\n",
      "      \n",
      "    </li>\n",
      "    <li class=\"listItem\">\n",
      "      <div class=\"listItem-index\">\n",
      "        3/21\n",
      "      </div>\n",
      "      <div class=\"listItem-content\">\n",
      "        <a href=\"https://paper.dropbox.com/doc/DSAI-HW2-BooleanSearch-i7YXC1eALcDFnDTezvgIP\">\n",
      "          <svg xmlns=\"http://www.w3.org/2000/svg\" width=\"8\" height=\"8\" viewBox=\"0 0 8 8\">\n",
      "            <path d=\"M5.88.03c-.18.01-.36.03-.53.09-.27.1-.53.25-.75.47a.5.5 0 1 0 .69.69c.11-.11.24-.17.38-.22.35-.12.78-.07 1.06.22.39.39.39 1.04 0 1.44l-1.5 1.5c-.44.44-.8.48-1.06.47-.26-.01-.41-.13-.41-.13a.5.5 0 1 0-.5.88s.34.22.84.25c.5.03 1.2-.16 1.81-.78l1.5-1.5c.78-.78.78-2.04 0-2.81-.28-.28-.61-.45-.97-.53-.18-.04-.38-.04-.56-.03zm-2 2.31c-.5-.02-1.19.15-1.78.75l-1.5 1.5c-.78.78-.78 2.04 0 2.81.56.56 1.36.72 2.06.47.27-.1.53-.25.75-.47a.5.5 0 1 0-.69-.69c-.11.11-.24.17-.38.22-.35.12-.78.07-1.06-.22-.39-.39-.39-1.04 0-1.44l1.5-1.5c.4-.4.75-.45 1.03-.44.28.01.47.09.47.09a.5.5 0 1 0 .44-.88s-.34-.2-.84-.22z\"/>\n",
      "          </svg>\n",
      "          - Released HW2\n",
      "        </a>\n",
      "      </div>\n",
      "      \n",
      "    </li>\n",
      "    <li class=\"listItem\" data-toggle=\"modal\" data-target=\"#Score of HW1-modal\">\n",
      "      <div class=\"listItem-index\">\n",
      "        3/20\n",
      "      </div>\n",
      "      <!-- Button trigger modal -->\n",
      "      <div class=\"listItem-content\">\n",
      "        <svg xmlns=\"http://www.w3.org/2000/svg\" width=\"8\" height=\"8\" viewBox=\"0 0 8 8\">\n",
      "          <path d=\"M3 0c-.55 0-1 .45-1 1s.45 1 1 1 1-.45 1-1-.45-1-1-1zm-1.5 2.5c-.83 0-1.5.67-1.5 1.5h1c0-.28.22-.5.5-.5s.5.22.5.5-1 1.64-1 2.5c0 .86.67 1.5 1.5 1.5s1.5-.67 1.5-1.5h-1c0 .28-.22.5-.5.5s-.5-.22-.5-.5c0-.36 1-1.84 1-2.5 0-.81-.67-1.5-1.5-1.5z\" transform=\"translate(2)\"/>\n",
      "        </svg>\n",
      "        - Score of HW1\n",
      "      </div>\n",
      "      <!-- Modal -->\n",
      "      <div class=\"modal fade\" id=\"Score of HW1-modal\" tabindex=\"-1\" role=\"dialog\" aria-labelledby=\"exampleModalLongTitle\" aria-hidden=\"true\">\n",
      "        <div class=\"modal-dialog\" role=\"document\">\n",
      "          <div class=\"modal-content\">\n",
      "            <div class=\"modal-header\">\n",
      "              <h5 class=\"modal-title\" id=\"exampleModalLongTitle\">Score of HW1</h5>\n",
      "              <button type=\"button\" class=\"close\" data-dismiss=\"modal\" aria-label=\"Close\">\n",
      "                <span aria-hidden=\"true\">×</span>\n",
      "              </button>\n",
      "            </div>\n",
      "            <div class=\"modal-body\">\n",
      "              <p>The score of HW1 is announced on moodle, please check it.</p>\n",
      "\n",
      "            </div>\n",
      "            <div class=\"modal-footer\">\n",
      "              <button type=\"button\" class=\"btn btn-secondary\" data-dismiss=\"modal\">Close</button>\n",
      "            </div>\n",
      "          </div>\n",
      "        </div>\n",
      "      </div>\n",
      "    </li>\n",
      "  \n",
      "    <li class=\"listItem\" data-toggle=\"modal\" data-target=\"#Error List of HW1-modal\">\n",
      "      <div class=\"listItem-index\">\n",
      "        3/14\n",
      "      </div>\n",
      "      <!-- Button trigger modal -->\n",
      "      <div class=\"listItem-content\">\n",
      "        <svg xmlns=\"http://www.w3.org/2000/svg\" width=\"8\" height=\"8\" viewBox=\"0 0 8 8\">\n",
      "          <path d=\"M3 0c-.55 0-1 .45-1 1s.45 1 1 1 1-.45 1-1-.45-1-1-1zm-1.5 2.5c-.83 0-1.5.67-1.5 1.5h1c0-.28.22-.5.5-.5s.5.22.5.5-1 1.64-1 2.5c0 .86.67 1.5 1.5 1.5s1.5-.67 1.5-1.5h-1c0 .28-.22.5-.5.5s-.5-.22-.5-.5c0-.36 1-1.84 1-2.5 0-.81-.67-1.5-1.5-1.5z\" transform=\"translate(2)\"/>\n",
      "        </svg>\n",
      "        - Error List of HW1\n",
      "      </div>\n",
      "      <!-- Modal -->\n",
      "      <div class=\"modal fade\" id=\"Error List of HW1-modal\" tabindex=\"-1\" role=\"dialog\" aria-labelledby=\"exampleModalLongTitle\" aria-hidden=\"true\">\n",
      "        <div class=\"modal-dialog\" role=\"document\">\n",
      "          <div class=\"modal-content\">\n",
      "            <div class=\"modal-header\">\n",
      "              <h5 class=\"modal-title\" id=\"exampleModalLongTitle\">Error List of HW1</h5>\n",
      "              <button type=\"button\" class=\"close\" data-dismiss=\"modal\" aria-label=\"Close\">\n",
      "                <span aria-hidden=\"true\">×</span>\n",
      "              </button>\n",
      "            </div>\n",
      "            <div class=\"modal-body\">\n",
      "              <p>The error list is announced on moodle. If you are in the error list, please fix the bug and update your repository.</p>\n",
      "\n",
      "            </div>\n",
      "            <div class=\"modal-footer\">\n",
      "              <button type=\"button\" class=\"btn btn-secondary\" data-dismiss=\"modal\">Close</button>\n",
      "            </div>\n",
      "          </div>\n",
      "        </div>\n",
      "      </div>\n",
      "    </li>\n",
      "  \n",
      "    <li class=\"listItem\" data-toggle=\"modal\" data-target=\"#Updated HW1 Submission-modal\">\n",
      "      <div class=\"listItem-index\">\n",
      "        3/1\n",
      "      </div>\n",
      "      <!-- Button trigger modal -->\n",
      "      <div class=\"listItem-content\">\n",
      "        <svg xmlns=\"http://www.w3.org/2000/svg\" width=\"8\" height=\"8\" viewBox=\"0 0 8 8\">\n",
      "          <path d=\"M3 0c-.55 0-1 .45-1 1s.45 1 1 1 1-.45 1-1-.45-1-1-1zm-1.5 2.5c-.83 0-1.5.67-1.5 1.5h1c0-.28.22-.5.5-.5s.5.22.5.5-1 1.64-1 2.5c0 .86.67 1.5 1.5 1.5s1.5-.67 1.5-1.5h-1c0 .28-.22.5-.5.5s-.5-.22-.5-.5c0-.36 1-1.84 1-2.5 0-.81-.67-1.5-1.5-1.5z\" transform=\"translate(2)\"/>\n",
      "        </svg>\n",
      "        - Updated HW1 Submission\n",
      "      </div>\n",
      "      <!-- Modal -->\n",
      "      <div class=\"modal fade\" id=\"Updated HW1 Submission-modal\" tabindex=\"-1\" role=\"dialog\" aria-labelledby=\"exampleModalLongTitle\" aria-hidden=\"true\">\n",
      "        <div class=\"modal-dialog\" role=\"document\">\n",
      "          <div class=\"modal-content\">\n",
      "            <div class=\"modal-header\">\n",
      "              <h5 class=\"modal-title\" id=\"exampleModalLongTitle\">Updated HW1 Submission</h5>\n",
      "              <button type=\"button\" class=\"close\" data-dismiss=\"modal\" aria-label=\"Close\">\n",
      "                <span aria-hidden=\"true\">×</span>\n",
      "              </button>\n",
      "            </div>\n",
      "            <div class=\"modal-body\">\n",
      "              <p>If you need to modify your previous response, login to the same Google account you used and then you can modify it.</p>\n",
      "<p><a href=\"https://docs.google.com/forms/d/e/1FAIpQLSf3rtkRd664Cp51ti9vQQhSxa6kQR6aSOQ4_BrsfWm3Jukjvw/viewform\">HW1 Submission Form</a></p>\n",
      "\n",
      "            </div>\n",
      "            <div class=\"modal-footer\">\n",
      "              <button type=\"button\" class=\"btn btn-secondary\" data-dismiss=\"modal\">Close</button>\n",
      "            </div>\n",
      "          </div>\n",
      "        </div>\n",
      "      </div>\n",
      "    </li>\n",
      "  \n",
      "    <li class=\"listItem\">\n",
      "      <div class=\"listItem-index\">\n",
      "        2/27\n",
      "      </div>\n",
      "      <div class=\"listItem-content\">\n",
      "        <a href=\"https://paper.dropbox.com/doc/DSAI-HW1-AutoTrading-V1OFhOpBZiXEfwtF9Ebj2\">\n",
      "          <svg xmlns=\"http://www.w3.org/2000/svg\" width=\"8\" height=\"8\" viewBox=\"0 0 8 8\">\n",
      "            <path d=\"M5.88.03c-.18.01-.36.03-.53.09-.27.1-.53.25-.75.47a.5.5 0 1 0 .69.69c.11-.11.24-.17.38-.22.35-.12.78-.07 1.06.22.39.39.39 1.04 0 1.44l-1.5 1.5c-.44.44-.8.48-1.06.47-.26-.01-.41-.13-.41-.13a.5.5 0 1 0-.5.88s.34.22.84.25c.5.03 1.2-.16 1.81-.78l1.5-1.5c.78-.78.78-2.04 0-2.81-.28-.28-.61-.45-.97-.53-.18-.04-.38-.04-.56-.03zm-2 2.31c-.5-.02-1.19.15-1.78.75l-1.5 1.5c-.78.78-.78 2.04 0 2.81.56.56 1.36.72 2.06.47.27-.1.53-.25.75-.47a.5.5 0 1 0-.69-.69c-.11.11-.24.17-.38.22-.35.12-.78.07-1.06-.22-.39-.39-.39-1.04 0-1.44l1.5-1.5c.4-.4.75-.45 1.03-.44.28.01.47.09.47.09a.5.5 0 1 0 .44-.88s-.34-.2-.84-.22z\"/>\n",
      "          </svg>\n",
      "          - Released HW1\n",
      "        </a>\n",
      "      </div>\n",
      "      \n",
      "    </li>\n",
      "        </ul>\n",
      "      </div>\n",
      "    </section>\n",
      "  \n",
      "    <section id=\"course-schedule\" class=\"course-schedule\">\n",
      "      <div class=\"container\">\n",
      "        <h2>Schedule</h2>\n",
      "        <table class=\"table\">\n",
      "          <thead>\n",
      "            <tr>\n",
      "               <th scope=\"col\">Week</th> <th scope=\"col\">Date</th> <th scope=\"col\">Description</th> <th scope=\"col\">Technical Lecture</th>\n",
      "            </tr>\n",
      "          </thead>\n",
      "          <tbody>\n",
      "            \n",
      "    <tr>\n",
      "      <th data-title=\"Week\" data-date=\"2/27\" scope=\"row\">Week 1</th>\n",
      "      <td data-title=\"Date\" class=\"mobile--hide\">2/27</td>\n",
      "      <td data-title=\"Description\"><p>Course Introduction and Basics of Supervised/Unsupervised Learning</p>\n",
      "<ul>\n",
      "<li><a href=\"https://drive.google.com/file/d/1k9RGBtcop763nfHHlXjOe7di9E9KJysN/view?usp=sharing\">Slides: Course introduction</a></li>\n",
      "<li><a href=\"https://drive.google.com/file/d/19BzWDB4Mx7GufStCPZp4VSRjceh3WTjR/view?usp=sharing\">Slides: Supervised unsupervised Learning</a></li>\n",
      "</ul>\n",
      "</td>\n",
      "      <td data-title=\"Technical Lecture\"><p><a href=\"https://github.com/Lee-W/Intro_to_Python_Data_Science_Tools\">Introduction to python data science tools</a></p>\n",
      "</td>\n",
      "    </tr>\n",
      "  \n",
      "    <tr>\n",
      "      <th data-title=\"Week\" data-date=\"3/6\" scope=\"row\">Week 2</th>\n",
      "      <td data-title=\"Date\" class=\"mobile--hide\">3/6</td>\n",
      "      <td data-title=\"Description\"><p>Database Selected Topics, including NoSQL, Spatial DB, DB Performance</p>\n",
      "<ul>\n",
      "<li><a href=\"https://drive.google.com/file/d/1oZpzOnSiOeo_VNTVp8hh6nrGXY3WY0zk/view?usp=sharing\">Slides: Advances in supervised learning</a></li>\n",
      "<li><a href=\"https://drive.google.com/file/d/1joUqfZm-zq3NtHBC63AkoO2qN7IxMTQd/view?usp=sharing\">Slides: Big data</a></li>\n",
      "</ul>\n",
      "</td>\n",
      "      <td data-title=\"Technical Lecture\"><p><a href=\"https://drive.google.com/open?id=1rik2fkGI9U7n_Fbu7cxIs0VvhQ7lcrm3\">Introduction to Apache Spark</a></p>\n",
      "</td>\n",
      "    </tr>\n",
      "  \n",
      "    <tr>\n",
      "      <th data-title=\"Week\" data-date=\"3/13\" scope=\"row\">Week 3</th>\n",
      "      <td data-title=\"Date\" class=\"mobile--hide\">3/13</td>\n",
      "      <td data-title=\"Description\"><p>Data Mining Selected Topics, including Association Rule, Sequential Patterns, Web Mining, Spatial-Temporal Mining, Social Network Mining</p>\n",
      "<ul>\n",
      "<li><a href=\"https://drive.google.com/file/d/1RwJJ0cFqKEAJHkekkg3yzlfJ9xizh--L/view?usp=sharing\">Slides: Support Vector Machine and PageRank</a></li>\n",
      "</ul>\n",
      "</td>\n",
      "      <td data-title=\"Technical Lecture\"></td>\n",
      "    </tr>\n",
      "  \n",
      "    <tr>\n",
      "      <th data-title=\"Week\" data-date=\"3/20\" scope=\"row\">Week 4</th>\n",
      "      <td data-title=\"Date\" class=\"mobile--hide\">3/20</td>\n",
      "      <td data-title=\"Description\"><p>Introduction to Deep Learning</p>\n",
      "<ul>\n",
      "<li><a href=\"https://drive.google.com/open?id=18MKIImDgEHJFU_w8zoih-QACjBxq2YLL\">Slides: Nature Language Processing With Deep Learning 1</a></li>\n",
      "</ul>\n",
      "</td>\n",
      "      <td data-title=\"Technical Lecture\"><p><a href=\"https://drive.google.com/open?id=10-H7DM4lFaBBkSsiFJ_e_k5XgHXPDRfk\">Introduction to Kaggle</a></p>\n",
      "</td>\n",
      "    </tr>\n",
      "  \n",
      "    <tr>\n",
      "      <th data-title=\"Week\" data-date=\"3/27\" scope=\"row\">Week 5</th>\n",
      "      <td data-title=\"Date\" class=\"mobile--hide\">3/27</td>\n",
      "      <td data-title=\"Description\"><p>Introduce to RL &amp; MDP</p>\n",
      "<ul>\n",
      "<li><a href=\"https://drive.google.com/open?id=1NHUSJJNs-0wz-K9VmH515N4Y-B88rA67\">Slides: An introduction to Reinforcement Learning</a></li>\n",
      "<li><a href=\"https://drive.google.com/open?id=1hfBOeZf2Gfuq_Uf0_3UxiC1HTFAR5t-6\">Slides: Multi-armed bandit problem</a></li>\n",
      "<li><a href=\"https://drive.google.com/file/d/12p5CbD9GONIGpLVk8jIFasFf3qY1Gvzz/view?usp=sharing\">Slides: Markov decision process</a></li>\n",
      "<li><a href=\"http://www0.cs.ucl.ac.uk/staff/d.silver/web/Teaching_files/MDP.pdf\">Reference of MDP</a></li>\n",
      "</ul>\n",
      "</td>\n",
      "      <td data-title=\"Technical Lecture\"></td>\n",
      "    </tr>\n",
      "  \n",
      "    <tr>\n",
      "      <th data-title=\"Week\" data-date=\"4/3\" scope=\"row\">Week 6</th>\n",
      "      <td data-title=\"Date\" class=\"mobile--hide\">4/3</td>\n",
      "      <td data-title=\"Description\"><p>Spring break</p>\n",
      "</td>\n",
      "      <td data-title=\"Technical Lecture\"></td>\n",
      "    </tr>\n",
      "  \n",
      "    <tr>\n",
      "      <th data-title=\"Week\" data-date=\"4/10\" scope=\"row\">Week 7</th>\n",
      "      <td data-title=\"Date\" class=\"mobile--hide\">4/10</td>\n",
      "      <td data-title=\"Description\"><p>Text Processing</p>\n",
      "<ul>\n",
      "<li><a href=\"https://drive.google.com/open?id=14xOHMBhuUo9x6vGOXhNVSRMYSTQqrSGw\">Slides: Nature Language Processing With Deep Learning 2</a></li>\n",
      "</ul>\n",
      "</td>\n",
      "      <td data-title=\"Technical Lecture\"><p><a href=\"https://docs.google.com/presentation/d/1mZlnQYLPKvxpF9zAAYGwqFtJkuFT0JNGbI5jk8Gg84g/edit?usp=sharing\">PIXNET's guest lecture</a></p>\n",
      "</td>\n",
      "    </tr>\n",
      "  \n",
      "    <tr>\n",
      "      <th data-title=\"Week\" data-date=\"4/17\" scope=\"row\">Week 8</th>\n",
      "      <td data-title=\"Date\" class=\"mobile--hide\">4/17</td>\n",
      "      <td data-title=\"Description\"><p>Advanced Topics on Text-based Analytics</p>\n",
      "<ul>\n",
      "<li><a href=\"https://drive.google.com/open?id=1Q4ChOUfxJCk1KAO_0go9sLuJGeeqM3MY\">Slides: Nature Language Processing With Deep Learning 3</a></li>\n",
      "</ul>\n",
      "</td>\n",
      "      <td data-title=\"Technical Lecture\"></td>\n",
      "    </tr>\n",
      "  \n",
      "    <tr>\n",
      "      <th data-title=\"Week\" data-date=\"4/24\" scope=\"row\">Week 9</th>\n",
      "      <td data-title=\"Date\" class=\"mobile--hide\">4/24</td>\n",
      "      <td data-title=\"Description\"><p>MDP cont. &amp; Dynamic Programming</p>\n",
      "<ul>\n",
      "<li><a href=\"https://drive.google.com/open?id=1itD9R-ubLU5lLtvYOzz8evqLfzHlvRU_\">Slides: Dynamic Programming</a></li>\n",
      "</ul>\n",
      "</td>\n",
      "      <td data-title=\"Technical Lecture\"><p><a href=\"https://github.com/NCKU-CCS/DSAI\">Sample Code of DP</a></p>\n",
      "</td>\n",
      "    </tr>\n",
      "  \n",
      "    <tr>\n",
      "      <th data-title=\"Week\" data-date=\"5/1\" scope=\"row\">Week 10</th>\n",
      "      <td data-title=\"Date\" class=\"mobile--hide\">5/1</td>\n",
      "      <td data-title=\"Description\"><p>Monte Carlo Method</p>\n",
      "<ul>\n",
      "<li><a href=\"https://drive.google.com/open?id=1BaWkt6KsD3kBNNvAqL97_xlYpXBJfbiY\">Slides: Monte Carlo method</a></li>\n",
      "</ul>\n",
      "</td>\n",
      "      <td data-title=\"Technical Lecture\"></td>\n",
      "    </tr>\n",
      "  \n",
      "    <tr>\n",
      "      <th data-title=\"Week\" data-date=\"5/8\" scope=\"row\">Week 11</th>\n",
      "      <td data-title=\"Date\" class=\"mobile--hide\">5/8</td>\n",
      "      <td data-title=\"Description\"><p>Mid-term presentation</p>\n",
      "</td>\n",
      "      <td data-title=\"Technical Lecture\"></td>\n",
      "    </tr>\n",
      "  \n",
      "    <tr>\n",
      "      <th data-title=\"Week\" data-date=\"5/15\" scope=\"row\">Week 12</th>\n",
      "      <td data-title=\"Date\" class=\"mobile--hide\">5/15</td>\n",
      "      <td data-title=\"Description\"><p>Temporal-Difference learning</p>\n",
      "<ul>\n",
      "<li><a href=\"https://drive.google.com/file/d/1qMtmvvhNM6ETAjSczUHoiGKRqsmXiXyU/view?usp=sharing\">Slides: TD learning</a></li>\n",
      "</ul>\n",
      "</td>\n",
      "      <td data-title=\"Technical Lecture\"></td>\n",
      "    </tr>\n",
      "  \n",
      "    <tr>\n",
      "      <th data-title=\"Week\" data-date=\"5/22\" scope=\"row\">Week 13</th>\n",
      "      <td data-title=\"Date\" class=\"mobile--hide\">5/22</td>\n",
      "      <td data-title=\"Description\"><p>Deep Q Network &amp; Policy Gradient</p>\n",
      "<ul>\n",
      "<li><a href=\"https://drive.google.com/file/d/10GRXQaiNRNBkUf5NLdLL0vhlVmluCXK6/view?usp=sharing\">Slides: Deep Q Network</a></li>\n",
      "<li><a href=\"https://drive.google.com/file/d/1w1Guhe3ItIwgEhQOP0Bsyav-2mI_I_XW/view?usp=sharing\">Slides: Policy Gradient</a></li>\n",
      "</ul>\n",
      "</td>\n",
      "      <td data-title=\"Technical Lecture\"></td>\n",
      "    </tr>\n",
      "  \n",
      "    <tr>\n",
      "      <th data-title=\"Week\" data-date=\"5/29\" scope=\"row\">Week 14</th>\n",
      "      <td data-title=\"Date\" class=\"mobile--hide\">5/29</td>\n",
      "      <td data-title=\"Description\"><p>Actor-Critic algorithm &amp; Research papers</p>\n",
      "<ul>\n",
      "<li><a href=\"https://drive.google.com/file/d/1r-IlUrSyjoOPh-xRxmF0ysBnxUUyIbce/view?usp=sharing\">Slides: Actor-Critic algorithm</a></li>\n",
      "<li><a href=\"https://drive.google.com/file/d/1by4JlxUBgCXhii3LEjFP7DTSU6lYDILV/view?usp=sharing\">Slides: Frontiers in RL</a></li>\n",
      "</ul>\n",
      "</td>\n",
      "      <td data-title=\"Technical Lecture\"><p><a href=\"https://drive.google.com/file/d/10jX5jJlcU8n3xsmBqrZ-qZloCiKZZDq0/view?usp=sharing\">Crowdsourcing Labeling</a></p>\n",
      "</td>\n",
      "    </tr>\n",
      "  \n",
      "    <tr>\n",
      "      <th data-title=\"Week\" data-date=\"6/5\" scope=\"row\">Week 15</th>\n",
      "      <td data-title=\"Date\" class=\"mobile--hide\">6/5</td>\n",
      "      <td data-title=\"Description\"><p>Team-based paper presentation I</p>\n",
      "</td>\n",
      "      <td data-title=\"Technical Lecture\"></td>\n",
      "    </tr>\n",
      "  \n",
      "    <tr>\n",
      "      <th data-title=\"Week\" data-date=\"6/12\" scope=\"row\">Week 16</th>\n",
      "      <td data-title=\"Date\" class=\"mobile--hide\">6/12</td>\n",
      "      <td data-title=\"Description\"><p>Team-based paper presentation II</p>\n",
      "</td>\n",
      "      <td data-title=\"Technical Lecture\"></td>\n",
      "    </tr>\n",
      "  \n",
      "    <tr>\n",
      "      <th data-title=\"Week\" data-date=\"6/19\" scope=\"row\">Week 17</th>\n",
      "      <td data-title=\"Date\" class=\"mobile--hide\">6/19</td>\n",
      "      <td data-title=\"Description\"><p>Final Project Presentation I</p>\n",
      "</td>\n",
      "      <td data-title=\"Technical Lecture\"></td>\n",
      "    </tr>\n",
      "  \n",
      "    <tr>\n",
      "      <th data-title=\"Week\" data-date=\"6/26\" scope=\"row\">Week 18</th>\n",
      "      <td data-title=\"Date\" class=\"mobile--hide\">6/26</td>\n",
      "      <td data-title=\"Description\"><p>Final Project Presentation II</p>\n",
      "</td>\n",
      "      <td data-title=\"Technical Lecture\"></td>\n",
      "    </tr>\n",
      "  \n",
      "          </tbody>\n",
      "        </table>\n",
      "      </div>\n",
      "    </section>\n",
      "    \n",
      "  <section id=\"course-resources\" class=\"course-resources\">\n",
      "    <div class=\"container\">\n",
      "      <h2>Resources</h2>\n",
      "      <div><h5 id=\"courses\">Courses</h5>\n",
      "<ul>\n",
      "<li><a href=\"http://www0.cs.ucl.ac.uk/staff/d.silver/web/Teaching.html\">David Silver's Reinforcement Learning, 2015, UCL</a></li>\n",
      "<li><a href=\"http://rll.berkeley.edu/deeprlcourse/#lecture-videos\">CS 294: Deep Reinforcement Learning, Fall 2017, Berkeley</a></li>\n",
      "<li><a href=\"https://katefvision.github.io/\">CMU 10703: Deep Reinforcement Learning and Control, Spring 2017, CMU</a></li>\n",
      "<li><a href=\"http://cs231n.stanford.edu/\">CS231n: Convolutional Neural Networks for Visual Recognition, Spring 2017, Stanford</a></li>\n",
      "<li><a href=\"https://www.coursera.org/learn/neural-networks\">Geoffrey Hinton's Neural Networks for Machine Learning on Coursera</a></li>\n",
      "</ul>\n",
      "<h5 id=\"additional-materials\">Additional Materials</h5>\n",
      "<ul>\n",
      "<li><a href=\"https://sites.ualberta.ca/~szepesva/RLBook.html\">Algorithms for Reinforcement Learning</a></li>\n",
      "</ul>\n",
      "</div>\n",
      "    </div>\n",
      "  </section>\n",
      "    <footer> <div class=\"container\"> <span>© 2018 NCKU NETDB.</span> </div> </footer> <script type=\"text/javascript\" async=\"\" src=\"https://www.google-analytics.com/analytics.js\"></script><script async=\"\" src=\"https://www.googletagmanager.com/gtag/js?id=UA-114762611-1\"></script> <script>function gtag(){dataLayer.push(arguments)}window.dataLayer=window.dataLayer||[],gtag(\"js\",new Date),gtag(\"config\",\"UA-114762611-1\")</script> <script type=\"text/javascript\" src=\"./assets/js/polyfill.bundle.js?78f9f41f4e7f3926e8e4\" async=\"\"></script><script type=\"text/javascript\" src=\"./assets/js/app.bundle.js?78f9f41f4e7f3926e8e4\" async=\"\"></script><script type=\"text/javascript\" src=\"./assets/js/vendors.bundle.js?78f9f41f4e7f3926e8e4\" async=\"\"></script> </body></html>\n"
     ]
    }
   ],
   "source": [
    "soup = BeautifulSoup(content, 'html.parser')\n",
    "print(content)"
   ]
  },
  {
   "cell_type": "markdown",
   "metadata": {
    "slideshow": {
     "slide_type": "subslide"
    }
   },
   "source": [
    "每次都會打開瀏覽器很麻煩？ (又很慢)\n",
    "#### 使用 Headless Chrome 加速運行"
   ]
  },
  {
   "cell_type": "code",
   "execution_count": 106,
   "metadata": {},
   "outputs": [
    {
     "name": "stdout",
     "output_type": "stream",
     "text": [
      "ok\n"
     ]
    }
   ],
   "source": [
    "import time\n",
    "from selenium import webdriver\n",
    "from selenium.webdriver.chrome.options import Options\n",
    "\n",
    "try:\n",
    "    chrome_options = Options()\n",
    "    chrome_options.add_argument(\"--headless\")\n",
    "    chrome_options.add_argument(\"\")\n",
    "\n",
    "    url = 'https://netdbncku.github.io/dsai/2018/'\n",
    "    driver = webdriver.Chrome(chrome_options=chrome_options)\n",
    "    driver.get(url)\n",
    "    time.sleep(1)\n",
    "\n",
    "    content = driver.page_source\n",
    "finally:\n",
    "    print('ok')\n",
    "    driver.close()\n",
    "    driver.quit()"
   ]
  },
  {
   "cell_type": "code",
   "execution_count": 8,
   "metadata": {
    "collapsed": true,
    "slideshow": {
     "slide_type": "subslide"
    }
   },
   "outputs": [
    {
     "data": {
      "text/plain": [
       "'類別：所有類別\\n\\n週,川普: (台灣)\\n2013-07-14,<1\\n2013-07-21,<1\\n2013-07-28,<1\\n2013-08-04,<1\\n2013-08-11,<1\\n2013-08-18,<1\\n2013-08-25,<1\\n2013-09-01,0\\n2013-09-08,<1\\n2013-09-15,<1\\n2013-09-22,<1\\n2013-09-29,0\\n2013-10-06,<1\\n2013-10-13,<1\\n2013-10-20,<1\\n2013-10-27,<1\\n2013-11-03,<1\\n2013-11-10,<1\\n2013-11-17,<1\\n2013-11-24,<1\\n2013-12-01,<1\\n2013-12-08,<1\\n2013-12-15,0\\n2013-12-22,<1\\n2013-12-29,<1\\n2014-01-05,<1\\n2014-01-12,<1\\n2014-01-19,<1\\n2014-01-26,<1\\n2014-02-02,<1\\n2014-02-09,<1\\n2014-02-16,<1\\n2014-02-23,<1\\n2014-03-02,<1\\n2014-03-09,<1\\n2014-03-16,<1\\n2014-03-23,<1\\n2014-03-30,<1\\n2014-04-06,<1\\n2014-04-13,<1\\n2014-04-20,<1\\n2014-04-27,<1\\n2014-05-04,<1\\n2014-05-11,<1\\n2014-05-18,<1\\n2014-05-25,<1\\n2014-06-01,<1\\n2014-06-08,<1\\n2014-06-15,<1\\n2014-06-22,<1\\n2014-06-29,<1\\n2014-07-06,<1\\n2014-07-13,<1\\n2014-07-20,<1\\n2014-07-27,<1\\n2014-08-03,<1\\n2014-08-10,<1\\n2014-08-17,<1\\n2014-08-24,<1\\n2014-08-31,<1\\n2014-09-07,<1\\n2014-09-14,<1\\n2014-09-21,<1\\n2014-09-28,<1\\n2014-10-05,<1\\n2014-10-12,<1\\n2014-10-19,<1\\n2014-10-26,<1\\n2014-11-02,0\\n2014-11-09,<1\\n2014-11-16,<1\\n2014-11-23,<1\\n2014-11-30,<1\\n2014-12-07,<1\\n2014-12-14,<1\\n2014-12-21,<1\\n2014-12-28,0\\n2015-01-04,<1\\n2015-01-11,<1\\n2015-01-18,<1\\n2015-01-25,<1\\n2015-02-01,<1\\n2015-02-08,<1\\n2015-02-15,<1\\n2015-02-22,<1\\n2015-03-01,<1\\n2015-03-08,<1\\n2015-03-15,<1\\n2015-03-22,<1\\n2015-03-29,<1\\n2015-04-05,<1\\n2015-04-12,<1\\n2015-04-19,<1\\n2015-04-26,<1\\n2015-05-03,<1\\n2015-05-10,<1\\n2015-05-17,<1\\n2015-05-24,<1\\n2015-05-31,<1\\n2015-06-07,<1\\n2015-06-14,<1\\n2015-06-21,<1\\n2015-06-28,<1\\n2015-07-05,<1\\n2015-07-12,<1\\n2015-07-19,<1\\n2015-07-26,<1\\n2015-08-02,<1\\n2015-08-09,<1\\n2015-08-16,<1\\n2015-08-23,1\\n2015-08-30,<1\\n2015-09-06,<1\\n2015-09-13,1\\n2015-09-20,1\\n2015-09-27,<1\\n2015-10-04,<1\\n2015-10-11,<1\\n2015-10-18,<1\\n2015-10-25,<1\\n2015-11-01,<1\\n2015-11-08,<1\\n2015-11-15,<1\\n2015-11-22,<1\\n2015-11-29,<1\\n2015-12-06,1\\n2015-12-13,1\\n2015-12-20,1\\n2015-12-27,<1\\n2016-01-03,1\\n2016-01-10,1\\n2016-01-17,<1\\n2016-01-24,1\\n2016-01-31,1\\n2016-02-07,1\\n2016-02-14,1\\n2016-02-21,1\\n2016-02-28,3\\n2016-03-06,3\\n2016-03-13,3\\n2016-03-20,2\\n2016-03-27,1\\n2016-04-03,1\\n2016-04-10,1\\n2016-04-17,1\\n2016-04-24,1\\n2016-05-01,2\\n2016-05-08,1\\n2016-05-15,1\\n2016-05-22,1\\n2016-05-29,1\\n2016-06-05,2\\n2016-06-12,1\\n2016-06-19,1\\n2016-06-26,1\\n2016-07-03,1\\n2016-07-10,1\\n2016-07-17,2\\n2016-07-24,2\\n2016-07-31,2\\n2016-08-07,1\\n2016-08-14,1\\n2016-08-21,1\\n2016-08-28,1\\n2016-09-04,1\\n2016-09-11,1\\n2016-09-18,1\\n2016-09-25,4\\n2016-10-02,2\\n2016-10-09,6\\n2016-10-16,3\\n2016-10-23,3\\n2016-10-30,5\\n2016-11-06,100\\n2016-11-13,24\\n2016-11-20,12\\n2016-11-27,11\\n2016-12-04,11\\n2016-12-11,8\\n2016-12-18,6\\n2016-12-25,4\\n2017-01-01,5\\n2017-01-08,7\\n2017-01-15,14\\n2017-01-22,12\\n2017-01-29,11\\n2017-02-05,6\\n2017-02-12,4\\n2017-02-19,3\\n2017-02-26,5\\n2017-03-05,3\\n2017-03-12,2\\n2017-03-19,3\\n2017-03-26,3\\n2017-04-02,5\\n2017-04-09,6\\n2017-04-16,4\\n2017-04-23,4\\n2017-04-30,3\\n2017-05-07,3\\n2017-05-14,4\\n2017-05-21,4\\n2017-05-28,4\\n2017-06-04,3\\n2017-06-11,2\\n2017-06-18,2\\n2017-06-25,2\\n2017-07-02,2\\n2017-07-09,2\\n2017-07-16,1\\n2017-07-23,2\\n2017-07-30,2\\n2017-08-06,3\\n2017-08-13,3\\n2017-08-20,2\\n2017-08-27,2\\n2017-09-03,2\\n2017-09-10,1\\n2017-09-17,2\\n2017-09-24,3\\n2017-10-01,2\\n2017-10-08,2\\n2017-10-15,2\\n2017-10-22,2\\n2017-10-29,3\\n2017-11-05,7\\n2017-11-12,3\\n2017-11-19,2\\n2017-11-26,2\\n2017-12-03,3\\n2017-12-10,2\\n2017-12-17,2\\n2017-12-24,2\\n2017-12-31,2\\n2018-01-07,2\\n2018-01-14,2\\n2018-01-21,3\\n2018-01-28,3\\n2018-02-04,1\\n2018-02-11,2\\n2018-02-18,2\\n2018-02-25,2\\n2018-03-04,3\\n2018-03-11,2\\n2018-03-18,4\\n2018-03-25,3\\n2018-04-01,2\\n2018-04-08,4\\n2018-04-15,3\\n2018-04-22,2\\n2018-04-29,2\\n2018-05-06,3\\n2018-05-13,3\\n2018-05-20,2\\n2018-05-27,2\\n2018-06-03,2\\n2018-06-10,5\\n2018-06-17,3\\n2018-06-24,3\\n2018-07-01,3\\n'"
      ]
     },
     "execution_count": 8,
     "metadata": {},
     "output_type": "execute_result"
    }
   ],
   "source": [
    "import requests\n",
    "r = requests.get(\"https://trends.google.com/trends/api/widgetdata/multiline/csv?req=%7B%22time%22%3A%222013-07-10%202018-07-10%22%2C%22resolution%22%3A%22WEEK%22%2C%22locale%22%3A%22zh-TW%22%2C%22comparisonItem%22%3A%5B%7B%22geo%22%3A%7B%22country%22%3A%22TW%22%7D%2C%22complexKeywordsRestriction%22%3A%7B%22keyword%22%3A%5B%7B%22type%22%3A%22BROAD%22%2C%22value%22%3A%22%E5%B7%9D%E6%99%AE%22%7D%5D%7D%7D%5D%2C%22requestOptions%22%3A%7B%22property%22%3A%22%22%2C%22backend%22%3A%22IZG%22%2C%22category%22%3A0%7D%7D&token=APP6_UEAAAAAW0VjZ_NcBvWY7_r88NYohCy7W90Ex1Sk&tz=-480\")\n",
    "r.encoding = 'utf-8'\n",
    "r.text\n",
    "# soup = BeautifulSoup(content, 'html.parser')\n",
    "# soup.find(\"a\")\n",
    "# print(content)"
   ]
  },
  {
   "cell_type": "markdown",
   "metadata": {
    "slideshow": {
     "slide_type": "subslide"
    }
   },
   "source": [
    "## Exercise 3\n",
    "\n"
   ]
  },
  {
   "cell_type": "markdown",
   "metadata": {
    "slideshow": {
     "slide_type": "subslide"
    }
   },
   "source": [
    "## 延伸學習\n",
    "\n",
    "- 反爬蟲\n",
    "    - 你操作(GET)太快太頻繁了\n",
    "    - 擋你IP\n",
    "    - 輸入驗證碼\n",
    "    - \"我不是機器人\"\n",
    "    - ...\n",
    "- 反反爬蟲\n",
    "    - GET 中間加時間間隔\n",
    "    - 換IP (Proxy)\n",
    "    - 圖像辨識驗證碼 (OCR)\n",
    "    - ...應該暫時無解\n",
    "    \n",
    "<br>\n",
    "<br>\n",
    "反爬蟲跟反反爬蟲一行人的戰爭依然會持續下去..."
   ]
  },
  {
   "cell_type": "code",
   "execution_count": 1,
   "metadata": {},
   "outputs": [
    {
     "name": "stdout",
     "output_type": "stream",
     "text": [
      "/bin/sh: -c: line 0: syntax error near unexpected token `('\r\n",
      "/bin/sh: -c: line 0: `[alt text](./src/c3.png)'\r\n"
     ]
    }
   ],
   "source": [
    "![alt text](./src/c3.png)"
   ]
  },
  {
   "cell_type": "code",
   "execution_count": null,
   "metadata": {},
   "outputs": [],
   "source": []
  }
 ],
 "metadata": {
  "celltoolbar": "Slideshow",
  "kernelspec": {
   "display_name": "Python 3",
   "language": "python",
   "name": "python3"
  },
  "language_info": {
   "codemirror_mode": {
    "name": "ipython",
    "version": 3
   },
   "file_extension": ".py",
   "mimetype": "text/x-python",
   "name": "python",
   "nbconvert_exporter": "python",
   "pygments_lexer": "ipython3",
   "version": "3.6.2"
  }
 },
 "nbformat": 4,
 "nbformat_minor": 2
}
