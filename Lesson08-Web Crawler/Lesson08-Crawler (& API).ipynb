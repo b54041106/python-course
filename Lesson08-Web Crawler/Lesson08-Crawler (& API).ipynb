{
 "cells": [
  {
   "cell_type": "markdown",
   "metadata": {
    "slideshow": {
     "slide_type": "slide"
    }
   },
   "source": [
    "# Lesson 08 - Crawler (& API)\n",
    "## By 呂伯駿 (Po Chun)"
   ]
  },
  {
   "cell_type": "markdown",
   "metadata": {
    "slideshow": {
     "slide_type": "subslide"
    }
   },
   "source": [
    "### 待會你會先學到三件事：\n",
    "\n",
    "- API 是什麼?\n",
    "- 為什麼需要 API?\n",
    "- API 怎麼用?"
   ]
  },
  {
   "cell_type": "markdown",
   "metadata": {
    "slideshow": {
     "slide_type": "subslide"
    }
   },
   "source": [
    "## API 是什麼？ \n",
    "\n",
    "#### 聽過 API 的話請舉手～"
   ]
  },
  {
   "cell_type": "markdown",
   "metadata": {
    "slideshow": {
     "slide_type": "subslide"
    }
   },
   "source": [
    "### 應用程式介面\n",
    "### Application Programming Interface"
   ]
  },
  {
   "cell_type": "markdown",
   "metadata": {
    "slideshow": {
     "slide_type": "subslide"
    }
   },
   "source": [
    "蛤？ \n",
    "<img src=\"https://i.imgur.com/friaaLF.png\" >"
   ]
  },
  {
   "cell_type": "markdown",
   "metadata": {
    "slideshow": {
     "slide_type": "subslide"
    }
   },
   "source": [
    "### 先別管API了，你有聽過 UI (User Interface) 嗎？"
   ]
  },
  {
   "cell_type": "markdown",
   "metadata": {
    "slideshow": {
     "slide_type": "subslide"
    }
   },
   "source": [
    "\n",
    "<div style=\"text-align=center\">\n",
    "    <h3 style=\"text-align=centr;\">UI其實是讓使用者能跟系統溝通，操作系統的東西。</h3>\n",
    "    <img src=\"https://i.imgur.com/ttZWKCZ.png\">\n",
    "</div>"
   ]
  },
  {
   "cell_type": "markdown",
   "metadata": {
    "slideshow": {
     "slide_type": "subslide"
    }
   },
   "source": [
    "<div style=\"text-align=center\">\n",
    "    <h3 style=\"text-align=center;\">同理，在Google首頁上你看得到的就是 UI，那個輸入框是UI，那個按鈕也是...</h3>\n",
    "    <img src=\"https://i.imgur.com/li7rT7o.png\">\n",
    "</div>"
   ]
  },
  {
   "cell_type": "markdown",
   "metadata": {
    "slideshow": {
     "slide_type": "subslide"
    }
   },
   "source": [
    "## 那應用程式介面 (API) 是什麼？"
   ]
  },
  {
   "cell_type": "markdown",
   "metadata": {
    "slideshow": {
     "slide_type": "subslide"
    }
   },
   "source": [
    "<div style=\"text-align=center\">\n",
    "    <h3 style=\"text-align=center;\">讓 應用程式 能跟 系統 溝通，操作系統的東西</h3>\n",
    "    <img src=\"https://i.imgur.com/6nVjdXG.png\">\n",
    "</div>\n"
   ]
  },
  {
   "cell_type": "markdown",
   "metadata": {
    "slideshow": {
     "slide_type": "slide"
    }
   },
   "source": [
    "## 那為什麼需要API?\n"
   ]
  },
  {
   "cell_type": "markdown",
   "metadata": {
    "slideshow": {
     "slide_type": "subslide"
    }
   },
   "source": [
    "<div style=\"text-align=center\">\n",
    "    <h3 style=\"text-align=center;\">假設老闆給你個任務</h3>\n",
    "    <img src=\"https://i.imgur.com/QdTi5aY.png\">\n",
    "</div>"
   ]
  },
  {
   "cell_type": "markdown",
   "metadata": {
    "slideshow": {
     "slide_type": "subslide"
    }
   },
   "source": [
    "<div style=\"text-align=center\">\n",
    "    <h3 style=\"text-align=center;\"></h3>\n",
    "    <img src=\"https://i.imgur.com/jycJ0K3.png\">\n",
    "</div>"
   ]
  },
  {
   "cell_type": "markdown",
   "metadata": {
    "slideshow": {
     "slide_type": "subslide"
    }
   },
   "source": [
    "<div style=\"text-align=center\">\n",
    "    <h3 style=\"text-align=center;\"></h3>\n",
    "    <img src=\"https://i.imgur.com/0NynGlE.png\">\n",
    "</div>"
   ]
  },
  {
   "cell_type": "markdown",
   "metadata": {
    "slideshow": {
     "slide_type": "subslide"
    }
   },
   "source": [
    "<div style=\"text-align=center\">\n",
    "    <h4 style=\"text-align=center;\">其實，你可以寫一隻程式，透過google的API來操作google，也就是說，你可以寫一支程式來搜尋100個關鍵字</h4>\n",
    "    <img src=\"https://i.imgur.com/gnZVFeS.png\">\n",
    "</div>"
   ]
  },
  {
   "cell_type": "markdown",
   "metadata": {
    "slideshow": {
     "slide_type": "subslide"
    }
   },
   "source": [
    "### 這就是API的用處，他能將工作自動化以減少不必要的人力，也可以讓別人幫你的服務加值"
   ]
  },
  {
   "cell_type": "markdown",
   "metadata": {
    "slideshow": {
     "slide_type": "subslide"
    }
   },
   "source": [
    "## 消化一下"
   ]
  },
  {
   "cell_type": "markdown",
   "metadata": {
    "slideshow": {
     "slide_type": "subslide"
    }
   },
   "source": [
    "## 現在知道API是什麼請舉手～ ✋"
   ]
  },
  {
   "cell_type": "markdown",
   "metadata": {
    "slideshow": {
     "slide_type": "slide"
    }
   },
   "source": [
    "## 那怎麼用 API？"
   ]
  },
  {
   "cell_type": "markdown",
   "metadata": {
    "slideshow": {
     "slide_type": "subslide"
    }
   },
   "source": [
    "### 一些常見的 API 可以讓你用剛才教的 GET, POST, PUT, DELETE 等 Request 操作\n",
    "```\n",
    "例如 某座圖書館的 API 可能 長這樣\n",
    "\n",
    "\n",
    "url 是這個 'https://www.api.x-village-library.com'\n",
    "\n",
    "使用方法則是\n",
    "GET     url/books             # 可以取得所有的書本內容\n",
    "GET     url/books/book-name   # 可以取得某本書的內容\n",
    "POST    url/books             # 可以增加一本新的書\n",
    "PUT     url/books/book-name   # 可以修改某本書的內容\n",
    "DELETE  url/books/book-name   # 可以刪除某本書 \n",
    "```\n",
    "\n",
    "這種 API 的格式 叫 RESTful API，有興趣的可以看這篇[回答](https://www.zhihu.com/question/28557115)"
   ]
  },
  {
   "cell_type": "markdown",
   "metadata": {
    "slideshow": {
     "slide_type": "subslide"
    }
   },
   "source": [
    "我們先用 [Reqres](https://reqres.in/) 這個網站來看一下效果<br>\n",
    "Request 那裏的是要呼叫的網址，Response 那裏則是你會收到的內容(通常是JSON格式)\n",
    "\n",
    "<img src=\"https://i.imgur.com/zdULxrz.png\">"
   ]
  },
  {
   "cell_type": "markdown",
   "metadata": {
    "slideshow": {
     "slide_type": "subslide"
    }
   },
   "source": [
    "/api/users?page=2 後面的 ?page=2 是什麼意思？\n",
    "\n",
    "<img src=\"https://i.imgur.com/D1ppwPF.png\">"
   ]
  },
  {
   "cell_type": "markdown",
   "metadata": {
    "slideshow": {
     "slide_type": "-"
    }
   },
   "source": [
    "如果是 GET request，在網址最末端加上 '?' 後，可以繼續附帶參數(parameter)，\n",
    "以這裡來說，GET /api/users?page=2 就是取得第二頁的使用者的意思，如果他的使用者資料有1000000筆，為避免一次回傳過多資料，\n",
    "通常我們會用page來讓別人能分批取得使用者資料。\n",
    "\n",
    "若看到 GET /api/users?page=2&gender=male&age=20  意思就會是： 取得第二頁且性別為男性且年齡為20的使用者。 <br>\n",
    "(不過[Reqres](https://reqres.in/)這個網站沒提供這種進階搜尋的功能就是了)\n",
    "\n"
   ]
  },
  {
   "cell_type": "markdown",
   "metadata": {
    "slideshow": {
     "slide_type": "subslide"
    }
   },
   "source": [
    "給大家 ? 分鐘，大家可以操作一下上面的 [Reqres](https://reqres.in/) 這個網站"
   ]
  },
  {
   "cell_type": "markdown",
   "metadata": {
    "slideshow": {
     "slide_type": "subslide"
    }
   },
   "source": [
    "### Example 1\n",
    "使用[天氣 API](https://works.ioa.tw/weather/api/doc/index.html) 取得台南市天氣\n",
    "<img src=\"https://i.imgur.com/VRMCgTg.png\">"
   ]
  },
  {
   "cell_type": "code",
   "execution_count": 8,
   "metadata": {
    "slideshow": {
     "slide_type": "subslide"
    }
   },
   "outputs": [],
   "source": [
    "import requests\n",
    "r = requests.get('https://works.ioa.tw/weather/api/all.json')\n",
    "r.encoding = 'utf-8'\n",
    "print(r.text)"
   ]
  },
  {
   "cell_type": "markdown",
   "metadata": {
    "slideshow": {
     "slide_type": "subslide"
    }
   },
   "source": [
    "[補充] <br>\n",
    "為了避免有人瘋狂發API拖慢系統，有些(多數) API 因為要商用或有驗證身份的需求，會要求你先註冊一個帳號來取得一個 API Key，這時你就需要在發送 request 時一併將這個 API Key 發送給對方才能得到資料。 這類 API 通常會限制每小時的使用次數。"
   ]
  },
  {
   "cell_type": "markdown",
   "metadata": {
    "slideshow": {
     "slide_type": "subslide"
    }
   },
   "source": [
    "### Exercise 1\n",
    "請先閱讀這份 [Weather API](https://www.metaweather.com/api/) ，再編寫出一支程式 print 出台北今天(7/18)的天氣為何。<br>\n",
    "可以先找到台北的 woeid，再使用後面查詢天氣的API。\n",
    "\n",
    "注意：請了解 GET /api/location/(woeid)/ 後回傳的資料的意義，可以先觀察他回傳的資料，再嘗試將該天氣print出來。\n",
    "<img src=\"https://i.imgur.com/sU6oE4N.png\">\n",
    "\n",
    "練完你就會串基本的API了 🙌 <br>"
   ]
  },
  {
   "cell_type": "markdown",
   "metadata": {
    "slideshow": {
     "slide_type": "subslide"
    }
   },
   "source": [
    "如果練完還有時間的話，可以在待會上課前用pip裝一下 beautifulsoup4 跟 selenium\n",
    "\n",
    "pip install beautifulsoup4 selenium\n",
    "\n",
    "待會會用到這兩個外部套件"
   ]
  },
  {
   "cell_type": "markdown",
   "metadata": {
    "slideshow": {
     "slide_type": "slide"
    }
   },
   "source": [
    "接下來(下午)你會學到幾件事\n",
    "\n",
    "- 爬蟲是什麼？ 它在爬什麼？\n",
    "- 怎麼寫一個可以爬一般網站的爬蟲\n",
    "- [延伸] 怎麼寫一個可以爬特殊網站的爬蟲\n"
   ]
  },
  {
   "cell_type": "markdown",
   "metadata": {
    "slideshow": {
     "slide_type": "subslide"
    }
   },
   "source": [
    "### 畫成roadmap的話，你現在在這裡\n",
    "\n",
    "<img src=\"https://i.imgur.com/pZVpiX1.png\">"
   ]
  },
  {
   "cell_type": "markdown",
   "metadata": {
    "slideshow": {
     "slide_type": "subslide"
    }
   },
   "source": [
    "## 爬蟲是什麼？\n",
    "\n",
    "#### 知道爬蟲是什麼的請舉手？"
   ]
  },
  {
   "cell_type": "markdown",
   "metadata": {
    "slideshow": {
     "slide_type": "subslide"
    }
   },
   "source": [
    "一隻程式，透過自動瀏覽網際網路並下載資料，可用於編纂網路索引來建立搜尋引擎。"
   ]
  },
  {
   "cell_type": "markdown",
   "metadata": {
    "slideshow": {
     "slide_type": "subslide"
    }
   },
   "source": [
    "蛤？？ \n",
    "<img src=\"https://i.imgur.com/friaaLF.png\" >"
   ]
  },
  {
   "cell_type": "markdown",
   "metadata": {
    "slideshow": {
     "slide_type": "subslide"
    }
   },
   "source": [
    "記得早上的 Request Response 流程嗎？ 你也可以從response中取得網頁的內容 (html)\n",
    "\n",
    "<img src=\"https://i.imgur.com/miTeCL2.png\">"
   ]
  },
  {
   "cell_type": "markdown",
   "metadata": {
    "slideshow": {
     "slide_type": "subslide"
    }
   },
   "source": [
    "比方說你嘗試用上面的方法取得 Wiki 百科 某一頁 <br>\n",
    "你得到的 html 裡面通常會有很多超連結，而當爬蟲程式看到超連結時，也可以選擇順手把這些超連結存下來，等爬(載)完這一頁之後，再取得其他超連結的資料。\n",
    "<img src=\"https://i.imgur.com/DkwH9w5.png\">"
   ]
  },
  {
   "cell_type": "markdown",
   "metadata": {
    "slideshow": {
     "slide_type": "subslide"
    }
   },
   "source": [
    "爬完這一頁後再跳到下一頁，然後再重複... 直到爬完整個 Wiki <br>\n",
    "或你電腦爆掉 <br>\n",
    "所以才叫爬蟲。\n",
    "\n",
    "<img src=\"https://i.imgur.com/9Ekj9K8.png)\">\n",
    "其實網路上超過 50% 的流量都不是人類的流量 [Ref](https://www.incapsula.com/blog/bot-traffic-report-2016.html)。"
   ]
  },
  {
   "cell_type": "markdown",
   "metadata": {
    "slideshow": {
     "slide_type": "subslide"
    }
   },
   "source": [
    "### 回來看爬蟲是什麼？\n",
    "一隻程式，透過自動瀏覽網際網路並下載資料，而當你把網路上多數網站爬完時(要有錢買設備)，你也可用於編纂網路索引，進而建立搜尋引擎。<br>\n",
    "一般一點的用途也可以拿來找最便宜的飯店，或是取得某個網站所有的電影評論。\n",
    "\n",
    "很多情況我們只會想爬某個網站，或是某個頁面。\n",
    "\n",
    "### 爬什麼？\n",
    "網頁中的內容(html)，後續可再擷取出有效資訊(例如文字)。"
   ]
  },
  {
   "cell_type": "markdown",
   "metadata": {
    "slideshow": {
     "slide_type": "subslide"
    }
   },
   "source": [
    "### 消化一下"
   ]
  },
  {
   "cell_type": "markdown",
   "metadata": {
    "slideshow": {
     "slide_type": "subslide"
    }
   },
   "source": [
    "#### 現在知道爬蟲是什麼的請舉手 ✋"
   ]
  },
  {
   "cell_type": "markdown",
   "metadata": {
    "slideshow": {
     "slide_type": "subslide"
    }
   },
   "source": [
    "#### 爬蟲禮儀\n",
    "當然，有些網站不希望別人去爬取他的內容，因此他會在網頁最上層(some_url/robots.txt)放個 robots.txt<br>\n",
    "例如知乎的 robots.txt 放在[https://www.zhihu.com/robots.txt](https://www.zhihu.com/robots.txt)\n",
    "\n",
    "<img src=\"https://i.imgur.com/hQp2ffV.png\">\n",
    "Disallow 後面的東西表示他不希望你爬的頁面。<br>\n",
    "但這東西基本上對程式沒有約束力，你還是可以爬不會被擋，但如果你太高調或是拿去商業用，對方又剛好有錢有閒，可能會被他吉。"
   ]
  },
  {
   "cell_type": "markdown",
   "metadata": {
    "slideshow": {
     "slide_type": "slide"
    }
   },
   "source": [
    "## 那怎麼寫一個可以爬一般網站的爬蟲?"
   ]
  },
  {
   "cell_type": "markdown",
   "metadata": {
    "collapsed": true,
    "slideshow": {
     "slide_type": "subslide"
    }
   },
   "source": [
    "# 除了Requests外，你還需要 BeautifulSoup\n",
    "...或其他跟beautifulsoup類似功用的套件\n",
    "\n",
    "它的用途是解析html，取得資訊\n",
    "<img src=\"https://i.imgur.com/YHT1unP.png\">"
   ]
  },
  {
   "cell_type": "markdown",
   "metadata": {
    "slideshow": {
     "slide_type": "subslide"
    }
   },
   "source": [
    "### 安裝\n",
    "pip install beautifulsoup4"
   ]
  },
  {
   "cell_type": "markdown",
   "metadata": {
    "slideshow": {
     "slide_type": "subslide"
    }
   },
   "source": [
    "# 爬蟲基礎\n",
    "\n",
    "連結：[Quotes](http://quotes.toscrape.com/)\n",
    "\n",
    "![alt text](./src/c1.png)"
   ]
  },
  {
   "cell_type": "markdown",
   "metadata": {
    "slideshow": {
     "slide_type": "subslide"
    }
   },
   "source": [
    "## Example 1\n",
    "\n",
    "任務： Print 出 \"[首頁](http://quotes.toscrape.com/)\" 所有的 Quotes\n",
    "\n",
    "![alt text](./src/c2.png)\n",
    "\n",
    "\n"
   ]
  },
  {
   "cell_type": "markdown",
   "metadata": {
    "slideshow": {
     "slide_type": "subslide"
    }
   },
   "source": [
    "步驟 1: 開啟開發人員工具，查看Tag\n",
    "- 開啟方式  \n",
    "    - Windows / Linux: \"Ctrl + Shift + I\" or F12 \n",
    "    - Mac: \"Command(⌘) + Option + I\"\n",
    "- 選取方式\n",
    "    1. 右鍵 > 檢查元素 or 檢查\n",
    "    2. 使用 \"Select\" \n",
    "\n",
    "![alt text](./src/c3.png)"
   ]
  },
  {
   "cell_type": "markdown",
   "metadata": {},
   "source": [
    "確認 \"檢查網頁原始碼\"內的內容跟 \"開發人員工具\"的內容 是否一致\n",
    "\n",
    "![alt text](./src/c0-2.png)\n"
   ]
  },
  {
   "cell_type": "markdown",
   "metadata": {
    "slideshow": {
     "slide_type": "subslide"
    }
   },
   "source": [
    "步驟 2: 引用Package，取得 html string"
   ]
  },
  {
   "cell_type": "code",
   "execution_count": 14,
   "metadata": {
    "slideshow": {
     "slide_type": "-"
    }
   },
   "outputs": [
    {
     "name": "stdout",
     "output_type": "stream",
     "text": [
      "200\n"
     ]
    }
   ],
   "source": [
    "import requests\n",
    "from bs4 import BeautifulSoup\n",
    "\n",
    "url = 'http://quotes.toscrape.com/'\n",
    "response = requests.get(url)\n",
    "print(response.status_code)"
   ]
  },
  {
   "cell_type": "code",
   "execution_count": 4,
   "metadata": {
    "collapsed": true,
    "slideshow": {
     "slide_type": "-"
    }
   },
   "outputs": [
    {
     "name": "stdout",
     "output_type": "stream",
     "text": [
      "<!DOCTYPE html>\n",
      "<html lang=\"en\">\n",
      "<head>\n",
      "\t<meta charset=\"UTF-8\">\n",
      "\t<title>Quotes to Scrape</title>\n",
      "    <link rel=\"stylesheet\" href=\"/static/bootstrap.min.css\">\n",
      "    <link rel=\"stylesheet\" href=\"/static/main.css\">\n",
      "</head>\n",
      "<body>\n",
      "    <div class=\"container\">\n",
      "        <div class=\"row header-box\">\n",
      "            <div class=\"col-md-8\">\n",
      "                <h1>\n",
      "                    <a href=\"/\" style=\"text-decoration: none\">Quotes to Scrape</a>\n",
      "                </h1>\n",
      "            </div>\n",
      "            <div class=\"col-md-4\">\n",
      "                <p>\n",
      "                \n",
      "                    <a href=\"/login\">Login</a>\n",
      "                \n",
      "                </p>\n",
      "            </div>\n",
      "        </div>\n",
      "    \n",
      "\n",
      "<div class=\"row\">\n",
      "    <div class=\"col-md-8\">\n",
      "\n",
      "    <div class=\"quote\" itemscope itemtype=\"http://schema.org/CreativeWork\">\n",
      "        <span class=\"text\" itemprop=\"text\">“The world as we have created it is a process of our thinking. It cannot be changed without changing our thinking.”</span>\n",
      "        <span>by <small class=\"author\" itemprop=\"author\">Albert Einstein</small>\n",
      "        <a href=\"/author/Albert-Einstein\">(about)</a>\n",
      "        </span>\n",
      "        <div class=\"tags\">\n",
      "            Tags:\n",
      "            <meta class=\"keywords\" itemprop=\"keywords\" content=\"change,deep-thoughts,thinking,world\" /    > \n",
      "            \n",
      "            <a class=\"tag\" href=\"/tag/change/page/1/\">change</a>\n",
      "            \n",
      "            <a class=\"tag\" href=\"/tag/deep-thoughts/page/1/\">deep-thoughts</a>\n",
      "            \n",
      "            <a class=\"tag\" href=\"/tag/thinking/page/1/\">thinking</a>\n",
      "            \n",
      "            <a class=\"tag\" href=\"/tag/world/page/1/\">world</a>\n",
      "            \n",
      "        </div>\n",
      "    </div>\n",
      "\n",
      "    <div class=\"quote\" itemscope itemtype=\"http://schema.org/CreativeWork\">\n",
      "        <span class=\"text\" itemprop=\"text\">“It is our choices, Harry, that show what we truly are, far more than our abilities.”</span>\n",
      "        <span>by <small class=\"author\" itemprop=\"author\">J.K. Rowling</small>\n",
      "        <a href=\"/author/J-K-Rowling\">(about)</a>\n",
      "        </span>\n",
      "        <div class=\"tags\">\n",
      "            Tags:\n",
      "            <meta class=\"keywords\" itemprop=\"keywords\" content=\"abilities,choices\" /    > \n",
      "            \n",
      "            <a class=\"tag\" href=\"/tag/abilities/page/1/\">abilities</a>\n",
      "            \n",
      "            <a class=\"tag\" href=\"/tag/choices/page/1/\">choices</a>\n",
      "            \n",
      "        </div>\n",
      "    </div>\n",
      "\n",
      "    <div class=\"quote\" itemscope itemtype=\"http://schema.org/CreativeWork\">\n",
      "        <span class=\"text\" itemprop=\"text\">“There are only two ways to live your life. One is as though nothing is a miracle. The other is as though everything is a miracle.”</span>\n",
      "        <span>by <small class=\"author\" itemprop=\"author\">Albert Einstein</small>\n",
      "        <a href=\"/author/Albert-Einstein\">(about)</a>\n",
      "        </span>\n",
      "        <div class=\"tags\">\n",
      "            Tags:\n",
      "            <meta class=\"keywords\" itemprop=\"keywords\" content=\"inspirational,life,live,miracle,miracles\" /    > \n",
      "            \n",
      "            <a class=\"tag\" href=\"/tag/inspirational/page/1/\">inspirational</a>\n",
      "            \n",
      "            <a class=\"tag\" href=\"/tag/life/page/1/\">life</a>\n",
      "            \n",
      "            <a class=\"tag\" href=\"/tag/live/page/1/\">live</a>\n",
      "            \n",
      "            <a class=\"tag\" href=\"/tag/miracle/page/1/\">miracle</a>\n",
      "            \n",
      "            <a class=\"tag\" href=\"/tag/miracles/page/1/\">miracles</a>\n",
      "            \n",
      "        </div>\n",
      "    </div>\n",
      "\n",
      "    <div class=\"quote\" itemscope itemtype=\"http://schema.org/CreativeWork\">\n",
      "        <span class=\"text\" itemprop=\"text\">“The person, be it gentleman or lady, who has not pleasure in a good novel, must be intolerably stupid.”</span>\n",
      "        <span>by <small class=\"author\" itemprop=\"author\">Jane Austen</small>\n",
      "        <a href=\"/author/Jane-Austen\">(about)</a>\n",
      "        </span>\n",
      "        <div class=\"tags\">\n",
      "            Tags:\n",
      "            <meta class=\"keywords\" itemprop=\"keywords\" content=\"aliteracy,books,classic,humor\" /    > \n",
      "            \n",
      "            <a class=\"tag\" href=\"/tag/aliteracy/page/1/\">aliteracy</a>\n",
      "            \n",
      "            <a class=\"tag\" href=\"/tag/books/page/1/\">books</a>\n",
      "            \n",
      "            <a class=\"tag\" href=\"/tag/classic/page/1/\">classic</a>\n",
      "            \n",
      "            <a class=\"tag\" href=\"/tag/humor/page/1/\">humor</a>\n",
      "            \n",
      "        </div>\n",
      "    </div>\n",
      "\n",
      "    <div class=\"quote\" itemscope itemtype=\"http://schema.org/CreativeWork\">\n",
      "        <span class=\"text\" itemprop=\"text\">“Imperfection is beauty, madness is genius and it&#39;s better to be absolutely ridiculous than absolutely boring.”</span>\n",
      "        <span>by <small class=\"author\" itemprop=\"author\">Marilyn Monroe</small>\n",
      "        <a href=\"/author/Marilyn-Monroe\">(about)</a>\n",
      "        </span>\n",
      "        <div class=\"tags\">\n",
      "            Tags:\n",
      "            <meta class=\"keywords\" itemprop=\"keywords\" content=\"be-yourself,inspirational\" /    > \n",
      "            \n",
      "            <a class=\"tag\" href=\"/tag/be-yourself/page/1/\">be-yourself</a>\n",
      "            \n",
      "            <a class=\"tag\" href=\"/tag/inspirational/page/1/\">inspirational</a>\n",
      "            \n",
      "        </div>\n",
      "    </div>\n",
      "\n",
      "    <div class=\"quote\" itemscope itemtype=\"http://schema.org/CreativeWork\">\n",
      "        <span class=\"text\" itemprop=\"text\">“Try not to become a man of success. Rather become a man of value.”</span>\n",
      "        <span>by <small class=\"author\" itemprop=\"author\">Albert Einstein</small>\n",
      "        <a href=\"/author/Albert-Einstein\">(about)</a>\n",
      "        </span>\n",
      "        <div class=\"tags\">\n",
      "            Tags:\n",
      "            <meta class=\"keywords\" itemprop=\"keywords\" content=\"adulthood,success,value\" /    > \n",
      "            \n",
      "            <a class=\"tag\" href=\"/tag/adulthood/page/1/\">adulthood</a>\n",
      "            \n",
      "            <a class=\"tag\" href=\"/tag/success/page/1/\">success</a>\n",
      "            \n",
      "            <a class=\"tag\" href=\"/tag/value/page/1/\">value</a>\n",
      "            \n",
      "        </div>\n",
      "    </div>\n",
      "\n",
      "    <div class=\"quote\" itemscope itemtype=\"http://schema.org/CreativeWork\">\n",
      "        <span class=\"text\" itemprop=\"text\">“It is better to be hated for what you are than to be loved for what you are not.”</span>\n",
      "        <span>by <small class=\"author\" itemprop=\"author\">André Gide</small>\n",
      "        <a href=\"/author/Andre-Gide\">(about)</a>\n",
      "        </span>\n",
      "        <div class=\"tags\">\n",
      "            Tags:\n",
      "            <meta class=\"keywords\" itemprop=\"keywords\" content=\"life,love\" /    > \n",
      "            \n",
      "            <a class=\"tag\" href=\"/tag/life/page/1/\">life</a>\n",
      "            \n",
      "            <a class=\"tag\" href=\"/tag/love/page/1/\">love</a>\n",
      "            \n",
      "        </div>\n",
      "    </div>\n",
      "\n",
      "    <div class=\"quote\" itemscope itemtype=\"http://schema.org/CreativeWork\">\n",
      "        <span class=\"text\" itemprop=\"text\">“I have not failed. I&#39;ve just found 10,000 ways that won&#39;t work.”</span>\n",
      "        <span>by <small class=\"author\" itemprop=\"author\">Thomas A. Edison</small>\n",
      "        <a href=\"/author/Thomas-A-Edison\">(about)</a>\n",
      "        </span>\n",
      "        <div class=\"tags\">\n",
      "            Tags:\n",
      "            <meta class=\"keywords\" itemprop=\"keywords\" content=\"edison,failure,inspirational,paraphrased\" /    > \n",
      "            \n",
      "            <a class=\"tag\" href=\"/tag/edison/page/1/\">edison</a>\n",
      "            \n",
      "            <a class=\"tag\" href=\"/tag/failure/page/1/\">failure</a>\n",
      "            \n",
      "            <a class=\"tag\" href=\"/tag/inspirational/page/1/\">inspirational</a>\n",
      "            \n",
      "            <a class=\"tag\" href=\"/tag/paraphrased/page/1/\">paraphrased</a>\n",
      "            \n",
      "        </div>\n",
      "    </div>\n",
      "\n",
      "    <div class=\"quote\" itemscope itemtype=\"http://schema.org/CreativeWork\">\n",
      "        <span class=\"text\" itemprop=\"text\">“A woman is like a tea bag; you never know how strong it is until it&#39;s in hot water.”</span>\n",
      "        <span>by <small class=\"author\" itemprop=\"author\">Eleanor Roosevelt</small>\n",
      "        <a href=\"/author/Eleanor-Roosevelt\">(about)</a>\n",
      "        </span>\n",
      "        <div class=\"tags\">\n",
      "            Tags:\n",
      "            <meta class=\"keywords\" itemprop=\"keywords\" content=\"misattributed-eleanor-roosevelt\" /    > \n",
      "            \n",
      "            <a class=\"tag\" href=\"/tag/misattributed-eleanor-roosevelt/page/1/\">misattributed-eleanor-roosevelt</a>\n",
      "            \n",
      "        </div>\n",
      "    </div>\n",
      "\n",
      "    <div class=\"quote\" itemscope itemtype=\"http://schema.org/CreativeWork\">\n",
      "        <span class=\"text\" itemprop=\"text\">“A day without sunshine is like, you know, night.”</span>\n",
      "        <span>by <small class=\"author\" itemprop=\"author\">Steve Martin</small>\n",
      "        <a href=\"/author/Steve-Martin\">(about)</a>\n",
      "        </span>\n",
      "        <div class=\"tags\">\n",
      "            Tags:\n",
      "            <meta class=\"keywords\" itemprop=\"keywords\" content=\"humor,obvious,simile\" /    > \n",
      "            \n",
      "            <a class=\"tag\" href=\"/tag/humor/page/1/\">humor</a>\n",
      "            \n",
      "            <a class=\"tag\" href=\"/tag/obvious/page/1/\">obvious</a>\n",
      "            \n",
      "            <a class=\"tag\" href=\"/tag/simile/page/1/\">simile</a>\n",
      "            \n",
      "        </div>\n",
      "    </div>\n",
      "\n",
      "    <nav>\n",
      "        <ul class=\"pager\">\n",
      "            \n",
      "            \n",
      "            <li class=\"next\">\n",
      "                <a href=\"/page/2/\">Next <span aria-hidden=\"true\">&rarr;</span></a>\n",
      "            </li>\n",
      "            \n",
      "        </ul>\n",
      "    </nav>\n",
      "    </div>\n",
      "    <div class=\"col-md-4 tags-box\">\n",
      "        \n",
      "            <h2>Top Ten tags</h2>\n",
      "            \n",
      "            <span class=\"tag-item\">\n",
      "            <a class=\"tag\" style=\"font-size: 28px\" href=\"/tag/love/\">love</a>\n",
      "            </span>\n",
      "            \n",
      "            <span class=\"tag-item\">\n",
      "            <a class=\"tag\" style=\"font-size: 26px\" href=\"/tag/inspirational/\">inspirational</a>\n",
      "            </span>\n",
      "            \n",
      "            <span class=\"tag-item\">\n",
      "            <a class=\"tag\" style=\"font-size: 26px\" href=\"/tag/life/\">life</a>\n",
      "            </span>\n",
      "            \n",
      "            <span class=\"tag-item\">\n",
      "            <a class=\"tag\" style=\"font-size: 24px\" href=\"/tag/humor/\">humor</a>\n",
      "            </span>\n",
      "            \n",
      "            <span class=\"tag-item\">\n",
      "            <a class=\"tag\" style=\"font-size: 22px\" href=\"/tag/books/\">books</a>\n",
      "            </span>\n",
      "            \n",
      "            <span class=\"tag-item\">\n",
      "            <a class=\"tag\" style=\"font-size: 14px\" href=\"/tag/reading/\">reading</a>\n",
      "            </span>\n",
      "            \n",
      "            <span class=\"tag-item\">\n",
      "            <a class=\"tag\" style=\"font-size: 10px\" href=\"/tag/friendship/\">friendship</a>\n",
      "            </span>\n",
      "            \n",
      "            <span class=\"tag-item\">\n",
      "            <a class=\"tag\" style=\"font-size: 8px\" href=\"/tag/friends/\">friends</a>\n",
      "            </span>\n",
      "            \n",
      "            <span class=\"tag-item\">\n",
      "            <a class=\"tag\" style=\"font-size: 8px\" href=\"/tag/truth/\">truth</a>\n",
      "            </span>\n",
      "            \n",
      "            <span class=\"tag-item\">\n",
      "            <a class=\"tag\" style=\"font-size: 6px\" href=\"/tag/simile/\">simile</a>\n",
      "            </span>\n",
      "            \n",
      "        \n",
      "    </div>\n",
      "</div>\n",
      "\n",
      "    </div>\n",
      "    <footer class=\"footer\">\n",
      "        <div class=\"container\">\n",
      "            <p class=\"text-muted\">\n",
      "                Quotes by: <a href=\"https://www.goodreads.com/quotes\">GoodReads.com</a>\n",
      "            </p>\n",
      "            <p class=\"copyright\">\n",
      "                Made with <span class='sh-red'>❤</span> by <a href=\"https://scrapinghub.com\">Scrapinghub</a>\n",
      "            </p>\n",
      "        </div>\n",
      "    </footer>\n",
      "</body>\n",
      "</html>\n"
     ]
    }
   ],
   "source": [
    "# response.encoding = 'utf-8'\n",
    "print(response.text)"
   ]
  },
  {
   "cell_type": "markdown",
   "metadata": {
    "slideshow": {
     "slide_type": "subslide"
    }
   },
   "source": [
    "先看一下 BeautifulSoup 的[文檔](https://www.crummy.com/software/BeautifulSoup/bs4/doc/)\n",
    "\n",
    "![alt text](./src/c4.png)\n",
    "![alt text](./src/c5.png)"
   ]
  },
  {
   "cell_type": "markdown",
   "metadata": {
    "slideshow": {
     "slide_type": "subslide"
    }
   },
   "source": [
    "![alt text](./src/c6-2.png)\n",
    "\n",
    "find_all 似乎符合我們的要求"
   ]
  },
  {
   "cell_type": "markdown",
   "metadata": {
    "slideshow": {
     "slide_type": "subslide"
    }
   },
   "source": [
    "查看相關參數(Parameters)\n",
    "\n",
    "![alt text](./src/c7.png)"
   ]
  },
  {
   "cell_type": "markdown",
   "metadata": {
    "slideshow": {
     "slide_type": "subslide"
    }
   },
   "source": [
    "Parameters\n",
    "- name: 以tag 名稱搜尋\n",
    "- attes: 以其他屬性(attributes)的值搜尋\n",
    "- recursive: 是否遞迴搜尋\n",
    "- string: 搜尋字串\n",
    "- limit: 回傳多少資料"
   ]
  },
  {
   "cell_type": "markdown",
   "metadata": {
    "slideshow": {
     "slide_type": "subslide"
    }
   },
   "source": [
    "步驟 3： 將html string 轉為 bs4 物件，進行解析"
   ]
  },
  {
   "cell_type": "code",
   "execution_count": 16,
   "metadata": {
    "slideshow": {
     "slide_type": "-"
    }
   },
   "outputs": [
    {
     "name": "stdout",
     "output_type": "stream",
     "text": [
      "<span class=\"text\" itemprop=\"text\">“The world as we have created it is a process of our thinking. It cannot be changed without changing our thinking.”</span>\n",
      "span\n",
      "{'class': ['text'], 'itemprop': 'text'}\n",
      "['text']\n",
      "text\n",
      "“The world as we have created it is a process of our thinking. It cannot be changed without changing our thinking.”\n"
     ]
    }
   ],
   "source": [
    "soup = BeautifulSoup(response.text, 'html.parser')\n",
    "first_tag = soup.find(name='span',class_='text')\n",
    "print(first_tag)\n",
    "print(first_tag.name)\n",
    "print(first_tag.attrs)\n",
    "print(first_tag['class'])\n",
    "print(first_tag['itemprop'])\n",
    "print(first_tag.text)"
   ]
  },
  {
   "cell_type": "markdown",
   "metadata": {
    "slideshow": {
     "slide_type": "subslide"
    }
   },
   "source": [
    "### 如何一次印出全部的 Quotes?"
   ]
  },
  {
   "cell_type": "code",
   "execution_count": 6,
   "metadata": {
    "slideshow": {
     "slide_type": "fragment"
    }
   },
   "outputs": [
    {
     "name": "stdout",
     "output_type": "stream",
     "text": [
      "“The world as we have created it is a process of our thinking. It cannot be changed without changing our thinking.”\n",
      "“It is our choices, Harry, that show what we truly are, far more than our abilities.”\n",
      "“There are only two ways to live your life. One is as though nothing is a miracle. The other is as though everything is a miracle.”\n",
      "“The person, be it gentleman or lady, who has not pleasure in a good novel, must be intolerably stupid.”\n",
      "“Imperfection is beauty, madness is genius and it's better to be absolutely ridiculous than absolutely boring.”\n",
      "“Try not to become a man of success. Rather become a man of value.”\n",
      "“It is better to be hated for what you are than to be loved for what you are not.”\n",
      "“I have not failed. I've just found 10,000 ways that won't work.”\n",
      "“A woman is like a tea bag; you never know how strong it is until it's in hot water.”\n",
      "“A day without sunshine is like, you know, night.”\n"
     ]
    }
   ],
   "source": [
    "tags = soup.find_all(name='span',class_='text')\n",
    "for tag in tags:\n",
    "    print(tag.text)"
   ]
  },
  {
   "cell_type": "markdown",
   "metadata": {
    "slideshow": {
     "slide_type": "subslide"
    }
   },
   "source": [
    "\n",
    "一些爬法\n",
    "\n",
    "``` python\n",
    "# 找 class 為 some_class 的 li\n",
    "soup.find_all('li', 'some_class')\n",
    "\n",
    "# 找 id為 some_id 的 li\n",
    "soup.find('li', id='some_id')\n",
    "\n",
    "# 先找 class 為 some_class 的div，再從中找所有 class 為 link 的 a\n",
    "soup.find('div', class='some_class').find_all('a', 'links')\n",
    "\n",
    "# 找所有有 itemprop 這個屬性且值為text 的 tag\n",
    "soup.find_all('', itemprop='text')\n",
    "# 找所有 itemprop 這個屬性且值為text，且class也是text的 tag\n",
    "soup.find_all('', {'itemprop':'text','class':'text'})\n",
    "# 先找所有 class 為tags 的tag，再選第3個(因為從0開始數)，再從中找所有的 a\n",
    "soup.find_all('', 'tags')[2].find_all('a')\n",
    "\n",
    "```"
   ]
  },
  {
   "cell_type": "code",
   "execution_count": 7,
   "metadata": {
    "slideshow": {
     "slide_type": "-"
    }
   },
   "outputs": [
    {
     "data": {
      "text/plain": [
       "[]"
      ]
     },
     "execution_count": 7,
     "metadata": {},
     "output_type": "execute_result"
    }
   ],
   "source": [
    "import re\n",
    "#  check email pattern\n",
    "pattern = r\"(^[a-zA-Z0-9_.+-]+@[a-zA-Z0-9-]+\\.[a-zA-Z0-9-.]+$)\"\n",
    "soup.find_all(text=re.compile(pattern))"
   ]
  },
  {
   "cell_type": "markdown",
   "metadata": {
    "slideshow": {
     "slide_type": "subslide"
    }
   },
   "source": [
    "## Exercise 1 (10min)\n",
    "\n",
    "任務： 印出第一個 Quote 所有Tag的超連結 \n",
    "\n",
    "![alt text](./src/c9.png)\n",
    "\n",
    "\n",
    "結果\n",
    "/tag/change/page/1/ <br>\n",
    "/tag/deep-thoughts/page/1/ <br>\n",
    "/tag/thinking/page/1/ <br>\n",
    "/tag/world/page/1/ <br>"
   ]
  },
  {
   "cell_type": "code",
   "execution_count": 8,
   "metadata": {
    "slideshow": {
     "slide_type": "subslide"
    }
   },
   "outputs": [
    {
     "name": "stdout",
     "output_type": "stream",
     "text": [
      "/tag/change/page/1/\n",
      "/tag/deep-thoughts/page/1/\n",
      "/tag/thinking/page/1/\n",
      "/tag/world/page/1/\n"
     ]
    }
   ],
   "source": [
    "# Sample Answer\n",
    "tags = soup.find('','tags').find_all(class_='tag')\n",
    "for tag in tags:\n",
    "    print(tag['href'])"
   ]
  },
  {
   "cell_type": "markdown",
   "metadata": {
    "slideshow": {
     "slide_type": "subslide"
    }
   },
   "source": [
    "## Example 2\n",
    "\n",
    "任務： Print 出所有Ｑuotes 的 作者的 About頁面的超連結，且不能重複\n",
    "\n",
    "限制：使用到 select \n",
    "\n",
    "![alt text](./src/c8.png)"
   ]
  },
  {
   "cell_type": "markdown",
   "metadata": {
    "slideshow": {
     "slide_type": "subslide"
    }
   },
   "source": [
    "先查看[文檔 ](https://www.crummy.com/software/BeautifulSoup/bs4/doc/#css-selectors)\n",
    "        \n",
    "![alt text](./src/c10.png)"
   ]
  },
  {
   "cell_type": "markdown",
   "metadata": {
    "slideshow": {
     "slide_type": "subslide"
    }
   },
   "source": [
    "解說用法\n",
    "\n",
    "- \\#some_id: \n",
    "    - 意思是找 id = 'some_id' 的 tag\n",
    "- .some_class: \n",
    "    - 意思是找 class = 'some_class'的tag\n",
    "    \n",
    "``` python\n",
    "# 找在p裡面，class為text的tag\n",
    "soup.select('p .text') # <p><span class='text'>sample</span></p>\n",
    "# 找p，同時p的class也是text\n",
    "soup.select('p.text') # <p class='text'>sample</p>\n",
    "# 找p，同時 p 的 class 有text 也有 link\n",
    "soup.select('p.text.link') # <p class='text link'>sample</p>\n",
    "```"
   ]
  },
  {
   "cell_type": "code",
   "execution_count": 17,
   "metadata": {
    "slideshow": {
     "slide_type": "subslide"
    }
   },
   "outputs": [
    {
     "name": "stdout",
     "output_type": "stream",
     "text": [
      "{'/author/Marilyn-Monroe', '/author/Steve-Martin', '/author/Albert-Einstein', '/author/Eleanor-Roosevelt', '/author/Thomas-A-Edison', '/author/Jane-Austen', '/author/J-K-Rowling', '/author/Andre-Gide'}\n"
     ]
    }
   ],
   "source": [
    "# Sample Answer\n",
    "link_set = set()\n",
    "tags = soup.select('.quote span a')\n",
    "for tag in tags:\n",
    "    link_set.add(tag['href'])\n",
    "print(link_set)"
   ]
  },
  {
   "cell_type": "markdown",
   "metadata": {},
   "source": [
    "#### 思考一下，要怎麼一次把第2，第3...頁的作者內容也爬下來？\n",
    "\n",
    "<img src=\"https://i.imgur.com/ogt7wMN.png\">"
   ]
  },
  {
   "cell_type": "markdown",
   "metadata": {
    "slideshow": {
     "slide_type": "subslide"
    }
   },
   "source": [
    "## Exercise 2  (15min)\n",
    "\n",
    "任務： 請取得 IMDB 8月1~8/10 (8/10前) 上映的電影標題\n",
    "\n",
    "請參考[BS4文檔](https://www.crummy.com/software/BeautifulSoup/bs4/doc/) 取得需要的 method 資訊。\n",
    "![alt text](./src/c11.png)\n",
    "\n",
    "可能會用到：<br>\n",
    ".parent<br>\n",
    ".find_previous_siblings\n"
   ]
  },
  {
   "cell_type": "code",
   "execution_count": 10,
   "metadata": {
    "slideshow": {
     "slide_type": "subslide"
    }
   },
   "outputs": [
    {
     "name": "stdout",
     "output_type": "stream",
     "text": [
      "ok\n"
     ]
    }
   ],
   "source": [
    "def get_body_by_url(url):\n",
    "    response = requests.get(url)\n",
    "    if (response.status_code != 200):\n",
    "        raise ValueError(response.status_code)\n",
    "    else:\n",
    "        print('ok')\n",
    "        return BeautifulSoup(response.text, 'html.parser')\n",
    "    \n",
    "\n",
    "url = 'https://www.imdb.com/movies-coming-soon/2018-08/'\n",
    "soup = get_body_by_url(url)"
   ]
  },
  {
   "cell_type": "code",
   "execution_count": 11,
   "metadata": {
    "slideshow": {
     "slide_type": "subslide"
    }
   },
   "outputs": [
    {
     "name": "stdout",
     "output_type": "stream",
     "text": [
      " Nico, 1988 (2017)\n",
      " Singwa hamkke: Ingwa yeon (2018)\n",
      " Never Goin' Back (2018)\n",
      " The Miseducation of Cameron Post (2018)\n",
      " Searching (2018)\n",
      " The Spy Who Dumped Me (2018)\n",
      " The Darkest Minds (2018)\n",
      " Christopher Robin (2018)\n"
     ]
    }
   ],
   "source": [
    "# sample answer\n",
    "list_items = soup.select('a[name=\"Aug10\"]')[0].parent.find_previous_siblings(class_='list_item')\n",
    "for item in list_items:\n",
    "    title = item.select('h4 a')[0].text\n",
    "    print(title)"
   ]
  },
  {
   "cell_type": "markdown",
   "metadata": {
    "slideshow": {
     "slide_type": "slide"
    }
   },
   "source": [
    "## 怎麼寫一個可以爬特殊網站的爬蟲？\n",
    "\n",
    "特殊網站像是：\n",
    "1. 點擊某個按鈕後:\n",
    "    - 即使網頁內容變了，網址還是一樣的網站。 (如果你要爬那個變了的內容)\n",
    "    - 網頁內容跟網址都變了，但你根據那網址沒辦法得到相同資料的網站。 (例如火車時刻表查詢結果)\n",
    "2. 需要登入的網站\n",
    "3. 檢查原始碼內的東西跟開發人員工具看到的不一樣。"
   ]
  },
  {
   "cell_type": "markdown",
   "metadata": {
    "slideshow": {
     "slide_type": "subslide"
    }
   },
   "source": [
    "### 1. 為何點擊某個按鈕後，即使網頁內容變了，網址還是一樣？"
   ]
  },
  {
   "cell_type": "markdown",
   "metadata": {
    "slideshow": {
     "slide_type": "subslide"
    }
   },
   "source": [
    "有時是兩種東西造成的\n",
    "- form (表單)\n",
    "- javascript (可以用操作html)（未來web課程才會細講）"
   ]
  },
  {
   "cell_type": "markdown",
   "metadata": {
    "slideshow": {
     "slide_type": "subslide"
    }
   },
   "source": [
    "Form (表單) 可以讓你輸入內容，而當你點擊下方的 Submit按鈕，通常會有另一隻Javascript程式將表單中的內容透過 Request(POST)發送給遠端伺服器，而遠端伺服器將新的內容回傳之後，Javascript 再將網頁中的內容直接修改，因此網址不會有變化。\n",
    "\n",
    "<img src=\"https://i.imgur.com/kZK9Nql.png\">\n",
    "\n",
    "有些則是當你點擊按鈕後，他一樣會發個 request，但他會將你導向到別的網址(火車時刻表)"
   ]
  },
  {
   "cell_type": "markdown",
   "metadata": {
    "slideshow": {
     "slide_type": "subslide"
    }
   },
   "source": [
    "也就是說我們透過觀察開發人員工具中的\"Network\"來查看他發送了什麼request，再依樣畫葫蘆發一樣的request給對方，通常我們就能得到我們要的資料。"
   ]
  },
  {
   "cell_type": "markdown",
   "metadata": {
    "slideshow": {
     "slide_type": "subslide"
    }
   },
   "source": [
    "## Example 3\n",
    "\n",
    "使用 Post 來取得 7/20 22:00 出發，台南到台北的高鐵車號\n",
    "\n",
    "<img src=\"https://i.imgur.com/LDN3atA.png\">"
   ]
  },
  {
   "cell_type": "markdown",
   "metadata": {
    "slideshow": {
     "slide_type": "subslide"
    }
   },
   "source": [
    "打開開發人員工具的Network頁籤，觀察點擊\"立即查詢\"後會發佈什麼 Request\n",
    "\n",
    "<img src=\"https://i.imgur.com/vwIcFEh.png\">"
   ]
  },
  {
   "cell_type": "code",
   "execution_count": 58,
   "metadata": {
    "slideshow": {
     "slide_type": "subslide"
    }
   },
   "outputs": [
    {
     "name": "stdout",
     "output_type": "stream",
     "text": [
      "200\n"
     ]
    }
   ],
   "source": [
    "import requests\n",
    "form_data = {\n",
    "    'startStation': '9c5ac6ca-ec89-48f8-aab0-41b738cb1814',\n",
    "    'endStation': '977abb69-413a-4ccf-a109-0272c24fd490',\n",
    "    'theDay': '2018/07/20',\n",
    "    'timeSelect': '22:00',\n",
    "    'waySelect': 'DepartureInMandarin',\n",
    "}\n",
    "url = 'https://m.thsrc.com.tw/tw/TimeTable/SearchResult'\n",
    "response = requests.post(url, data=form_data)\n",
    "print(login_response.status_code)"
   ]
  },
  {
   "cell_type": "code",
   "execution_count": 66,
   "metadata": {
    "scrolled": true,
    "slideshow": {
     "slide_type": "-"
    }
   },
   "outputs": [
    {
     "name": "stdout",
     "output_type": "stream",
     "text": [
      "[<a class=\"ui-block-a\" data-ajax=\"false\" href=\"/tw/TimeTable/TrainInfo/0696\"><div>0696</div></a>, <a class=\"ui-block-a\" data-ajax=\"false\" href=\"/tw/TimeTable/TrainInfo/0294\"><div>0294</div></a>]\n"
     ]
    }
   ],
   "source": [
    "soup = BeautifulSoup(response.text, 'html.parser')\n",
    "# print(response.text)\n",
    "tags = soup.find_all('a','ui-block-a')\n",
    "print(tags)"
   ]
  },
  {
   "cell_type": "markdown",
   "metadata": {
    "slideshow": {
     "slide_type": "subslide"
    }
   },
   "source": [
    "### 2. 那怎麼寫一個可以抓登入後的頁面資料的爬蟲？\n",
    "\n",
    "先想想. . .<br>\n",
    "hint: 也是Request"
   ]
  },
  {
   "cell_type": "markdown",
   "metadata": {
    "slideshow": {
     "slide_type": "subslide"
    }
   },
   "source": [
    "最簡單的方式是，跟剛才一樣觀察登入時會發的Request，再用程式發一樣的內容。<br>\n",
    "等登入成功後，通常對方會給你個cookie(用來暫存資料)，你只要將cookie存下來，下次 GET 網頁時一併將這個cookie給對方即可。"
   ]
  },
  {
   "cell_type": "markdown",
   "metadata": {
    "slideshow": {
     "slide_type": "subslide"
    }
   },
   "source": [
    "## Example 4\n",
    "\n",
    "模擬登入來取得資料\n",
    "\n",
    "\n",
    "![alt text](./src/c12.png)\n",
    "![alt text](./src/c13-2.png)\n",
    "\n",
    "*注意，多數網站不會想讓開發者能用機器人來登入，所以才會有驗證碼或什麼Receptra(我不是機器人)。<br>\n",
    "*因此請先確認 /robots.txt 中有無限制使用權限，不過這個網站沒有放。"
   ]
  },
  {
   "cell_type": "code",
   "execution_count": 55,
   "metadata": {
    "scrolled": true,
    "slideshow": {
     "slide_type": "subslide"
    }
   },
   "outputs": [
    {
     "name": "stdout",
     "output_type": "stream",
     "text": [
      "200\n",
      "{'session': 'eyJ1c2VybmFtZSI6Ik5lbyJ9.Dio9Ng.UDw5cSFXPlLVbuVNhCF4IqhUaro'}\n"
     ]
    }
   ],
   "source": [
    "\n",
    "form_data = {\n",
    "    'username': 'Neo',\n",
    "    'password': 'quote*2018*some_static_word'\n",
    "}\n",
    "url = 'http://quotes.toscrape.com/login'\n",
    "login_response = requests.post(url,data=form_data)\n",
    "print(login_response.status_code)\n",
    "print(login_response.cookies.get_dict())\n",
    "\n",
    "# session = requests.Session()\n",
    "# session.post(url, form_data)\n",
    "# r = session.get('http://quotes.toscrape.com/')\n",
    "# r.text"
   ]
  },
  {
   "cell_type": "code",
   "execution_count": 45,
   "metadata": {
    "collapsed": true,
    "slideshow": {
     "slide_type": "subslide"
    }
   },
   "outputs": [
    {
     "name": "stdout",
     "output_type": "stream",
     "text": [
      "<!DOCTYPE html>\n",
      "<html lang=\"en\">\n",
      "<head>\n",
      "\t<meta charset=\"UTF-8\">\n",
      "\t<title>Quotes to Scrape</title>\n",
      "    <link rel=\"stylesheet\" href=\"/static/bootstrap.min.css\">\n",
      "    <link rel=\"stylesheet\" href=\"/static/main.css\">\n",
      "</head>\n",
      "<body>\n",
      "    <div class=\"container\">\n",
      "        <div class=\"row header-box\">\n",
      "            <div class=\"col-md-8\">\n",
      "                <h1>\n",
      "                    <a href=\"/\" style=\"text-decoration: none\">Quotes to Scrape</a>\n",
      "                </h1>\n",
      "            </div>\n",
      "            <div class=\"col-md-4\">\n",
      "                <p>\n",
      "                \n",
      "                    <a href=\"/logout\">Logout</a>\n",
      "                \n",
      "                </p>\n",
      "            </div>\n",
      "        </div>\n",
      "    \n",
      "\n",
      "<div class=\"row\">\n",
      "    <div class=\"col-md-8\">\n",
      "\n",
      "    <div class=\"quote\" itemscope itemtype=\"http://schema.org/CreativeWork\">\n",
      "        <span class=\"text\" itemprop=\"text\">“The world as we have created it is a process of our thinking. It cannot be changed without changing our thinking.”</span>\n",
      "        <span>by <small class=\"author\" itemprop=\"author\">Albert Einstein</small>\n",
      "        <a href=\"/author/Albert-Einstein\">(about)</a> - <a href=\"http://goodreads.com/author/show/9810.Albert_Einstein\">(Goodreads page)</a>\n",
      "        </span>\n",
      "        <div class=\"tags\">\n",
      "            Tags:\n",
      "            <meta class=\"keywords\" itemprop=\"keywords\" content=\"change,deep-thoughts,thinking,world\" /    > \n",
      "            \n",
      "            <a class=\"tag\" href=\"/tag/change/page/1/\">change</a>\n",
      "            \n",
      "            <a class=\"tag\" href=\"/tag/deep-thoughts/page/1/\">deep-thoughts</a>\n",
      "            \n",
      "            <a class=\"tag\" href=\"/tag/thinking/page/1/\">thinking</a>\n",
      "            \n",
      "            <a class=\"tag\" href=\"/tag/world/page/1/\">world</a>\n",
      "            \n",
      "        </div>\n",
      "    </div>\n",
      "\n",
      "    <div class=\"quote\" itemscope itemtype=\"http://schema.org/CreativeWork\">\n",
      "        <span class=\"text\" itemprop=\"text\">“It is our choices, Harry, that show what we truly are, far more than our abilities.”</span>\n",
      "        <span>by <small class=\"author\" itemprop=\"author\">J.K. Rowling</small>\n",
      "        <a href=\"/author/J-K-Rowling\">(about)</a> - <a href=\"http://goodreads.com/author/show/1077326.J_K_Rowling\">(Goodreads page)</a>\n",
      "        </span>\n",
      "        <div class=\"tags\">\n",
      "            Tags:\n",
      "            <meta class=\"keywords\" itemprop=\"keywords\" content=\"abilities,choices\" /    > \n",
      "            \n",
      "            <a class=\"tag\" href=\"/tag/abilities/page/1/\">abilities</a>\n",
      "            \n",
      "            <a class=\"tag\" href=\"/tag/choices/page/1/\">choices</a>\n",
      "            \n",
      "        </div>\n",
      "    </div>\n",
      "\n",
      "    <div class=\"quote\" itemscope itemtype=\"http://schema.org/CreativeWork\">\n",
      "        <span class=\"text\" itemprop=\"text\">“There are only two ways to live your life. One is as though nothing is a miracle. The other is as though everything is a miracle.”</span>\n",
      "        <span>by <small class=\"author\" itemprop=\"author\">Albert Einstein</small>\n",
      "        <a href=\"/author/Albert-Einstein\">(about)</a> - <a href=\"http://goodreads.com/author/show/9810.Albert_Einstein\">(Goodreads page)</a>\n",
      "        </span>\n",
      "        <div class=\"tags\">\n",
      "            Tags:\n",
      "            <meta class=\"keywords\" itemprop=\"keywords\" content=\"inspirational,life,live,miracle,miracles\" /    > \n",
      "            \n",
      "            <a class=\"tag\" href=\"/tag/inspirational/page/1/\">inspirational</a>\n",
      "            \n",
      "            <a class=\"tag\" href=\"/tag/life/page/1/\">life</a>\n",
      "            \n",
      "            <a class=\"tag\" href=\"/tag/live/page/1/\">live</a>\n",
      "            \n",
      "            <a class=\"tag\" href=\"/tag/miracle/page/1/\">miracle</a>\n",
      "            \n",
      "            <a class=\"tag\" href=\"/tag/miracles/page/1/\">miracles</a>\n",
      "            \n",
      "        </div>\n",
      "    </div>\n",
      "\n",
      "    <div class=\"quote\" itemscope itemtype=\"http://schema.org/CreativeWork\">\n",
      "        <span class=\"text\" itemprop=\"text\">“The person, be it gentleman or lady, who has not pleasure in a good novel, must be intolerably stupid.”</span>\n",
      "        <span>by <small class=\"author\" itemprop=\"author\">Jane Austen</small>\n",
      "        <a href=\"/author/Jane-Austen\">(about)</a> - <a href=\"http://goodreads.com/author/show/1265.Jane_Austen\">(Goodreads page)</a>\n",
      "        </span>\n",
      "        <div class=\"tags\">\n",
      "            Tags:\n",
      "            <meta class=\"keywords\" itemprop=\"keywords\" content=\"aliteracy,books,classic,humor\" /    > \n",
      "            \n",
      "            <a class=\"tag\" href=\"/tag/aliteracy/page/1/\">aliteracy</a>\n",
      "            \n",
      "            <a class=\"tag\" href=\"/tag/books/page/1/\">books</a>\n",
      "            \n",
      "            <a class=\"tag\" href=\"/tag/classic/page/1/\">classic</a>\n",
      "            \n",
      "            <a class=\"tag\" href=\"/tag/humor/page/1/\">humor</a>\n",
      "            \n",
      "        </div>\n",
      "    </div>\n",
      "\n",
      "    <div class=\"quote\" itemscope itemtype=\"http://schema.org/CreativeWork\">\n",
      "        <span class=\"text\" itemprop=\"text\">“Imperfection is beauty, madness is genius and it&#39;s better to be absolutely ridiculous than absolutely boring.”</span>\n",
      "        <span>by <small class=\"author\" itemprop=\"author\">Marilyn Monroe</small>\n",
      "        <a href=\"/author/Marilyn-Monroe\">(about)</a> - <a href=\"http://goodreads.com/author/show/82952.Marilyn_Monroe\">(Goodreads page)</a>\n",
      "        </span>\n",
      "        <div class=\"tags\">\n",
      "            Tags:\n",
      "            <meta class=\"keywords\" itemprop=\"keywords\" content=\"be-yourself,inspirational\" /    > \n",
      "            \n",
      "            <a class=\"tag\" href=\"/tag/be-yourself/page/1/\">be-yourself</a>\n",
      "            \n",
      "            <a class=\"tag\" href=\"/tag/inspirational/page/1/\">inspirational</a>\n",
      "            \n",
      "        </div>\n",
      "    </div>\n",
      "\n",
      "    <div class=\"quote\" itemscope itemtype=\"http://schema.org/CreativeWork\">\n",
      "        <span class=\"text\" itemprop=\"text\">“Try not to become a man of success. Rather become a man of value.”</span>\n",
      "        <span>by <small class=\"author\" itemprop=\"author\">Albert Einstein</small>\n",
      "        <a href=\"/author/Albert-Einstein\">(about)</a> - <a href=\"http://goodreads.com/author/show/9810.Albert_Einstein\">(Goodreads page)</a>\n",
      "        </span>\n",
      "        <div class=\"tags\">\n",
      "            Tags:\n",
      "            <meta class=\"keywords\" itemprop=\"keywords\" content=\"adulthood,success,value\" /    > \n",
      "            \n",
      "            <a class=\"tag\" href=\"/tag/adulthood/page/1/\">adulthood</a>\n",
      "            \n",
      "            <a class=\"tag\" href=\"/tag/success/page/1/\">success</a>\n",
      "            \n",
      "            <a class=\"tag\" href=\"/tag/value/page/1/\">value</a>\n",
      "            \n",
      "        </div>\n",
      "    </div>\n",
      "\n",
      "    <div class=\"quote\" itemscope itemtype=\"http://schema.org/CreativeWork\">\n",
      "        <span class=\"text\" itemprop=\"text\">“It is better to be hated for what you are than to be loved for what you are not.”</span>\n",
      "        <span>by <small class=\"author\" itemprop=\"author\">André Gide</small>\n",
      "        <a href=\"/author/Andre-Gide\">(about)</a> - <a href=\"http://goodreads.com/author/show/7617.Andr_Gide\">(Goodreads page)</a>\n",
      "        </span>\n",
      "        <div class=\"tags\">\n",
      "            Tags:\n",
      "            <meta class=\"keywords\" itemprop=\"keywords\" content=\"life,love\" /    > \n",
      "            \n",
      "            <a class=\"tag\" href=\"/tag/life/page/1/\">life</a>\n",
      "            \n",
      "            <a class=\"tag\" href=\"/tag/love/page/1/\">love</a>\n",
      "            \n",
      "        </div>\n",
      "    </div>\n",
      "\n",
      "    <div class=\"quote\" itemscope itemtype=\"http://schema.org/CreativeWork\">\n",
      "        <span class=\"text\" itemprop=\"text\">“I have not failed. I&#39;ve just found 10,000 ways that won&#39;t work.”</span>\n",
      "        <span>by <small class=\"author\" itemprop=\"author\">Thomas A. Edison</small>\n",
      "        <a href=\"/author/Thomas-A-Edison\">(about)</a> - <a href=\"http://goodreads.com/author/show/3091287.Thomas_A_Edison\">(Goodreads page)</a>\n",
      "        </span>\n",
      "        <div class=\"tags\">\n",
      "            Tags:\n",
      "            <meta class=\"keywords\" itemprop=\"keywords\" content=\"edison,failure,inspirational,paraphrased\" /    > \n",
      "            \n",
      "            <a class=\"tag\" href=\"/tag/edison/page/1/\">edison</a>\n",
      "            \n",
      "            <a class=\"tag\" href=\"/tag/failure/page/1/\">failure</a>\n",
      "            \n",
      "            <a class=\"tag\" href=\"/tag/inspirational/page/1/\">inspirational</a>\n",
      "            \n",
      "            <a class=\"tag\" href=\"/tag/paraphrased/page/1/\">paraphrased</a>\n",
      "            \n",
      "        </div>\n",
      "    </div>\n",
      "\n",
      "    <div class=\"quote\" itemscope itemtype=\"http://schema.org/CreativeWork\">\n",
      "        <span class=\"text\" itemprop=\"text\">“A woman is like a tea bag; you never know how strong it is until it&#39;s in hot water.”</span>\n",
      "        <span>by <small class=\"author\" itemprop=\"author\">Eleanor Roosevelt</small>\n",
      "        <a href=\"/author/Eleanor-Roosevelt\">(about)</a> - <a href=\"http://goodreads.com/author/show/44566.Eleanor_Roosevelt\">(Goodreads page)</a>\n",
      "        </span>\n",
      "        <div class=\"tags\">\n",
      "            Tags:\n",
      "            <meta class=\"keywords\" itemprop=\"keywords\" content=\"misattributed-eleanor-roosevelt\" /    > \n",
      "            \n",
      "            <a class=\"tag\" href=\"/tag/misattributed-eleanor-roosevelt/page/1/\">misattributed-eleanor-roosevelt</a>\n",
      "            \n",
      "        </div>\n",
      "    </div>\n",
      "\n",
      "    <div class=\"quote\" itemscope itemtype=\"http://schema.org/CreativeWork\">\n",
      "        <span class=\"text\" itemprop=\"text\">“A day without sunshine is like, you know, night.”</span>\n",
      "        <span>by <small class=\"author\" itemprop=\"author\">Steve Martin</small>\n",
      "        <a href=\"/author/Steve-Martin\">(about)</a> - <a href=\"http://goodreads.com/author/show/7103.Steve_Martin\">(Goodreads page)</a>\n",
      "        </span>\n",
      "        <div class=\"tags\">\n",
      "            Tags:\n",
      "            <meta class=\"keywords\" itemprop=\"keywords\" content=\"humor,obvious,simile\" /    > \n",
      "            \n",
      "            <a class=\"tag\" href=\"/tag/humor/page/1/\">humor</a>\n",
      "            \n",
      "            <a class=\"tag\" href=\"/tag/obvious/page/1/\">obvious</a>\n",
      "            \n",
      "            <a class=\"tag\" href=\"/tag/simile/page/1/\">simile</a>\n",
      "            \n",
      "        </div>\n",
      "    </div>\n",
      "\n",
      "    <nav>\n",
      "        <ul class=\"pager\">\n",
      "            \n",
      "            \n",
      "            <li class=\"next\">\n",
      "                <a href=\"/page/2/\">Next <span aria-hidden=\"true\">&rarr;</span></a>\n",
      "            </li>\n",
      "            \n",
      "        </ul>\n",
      "    </nav>\n",
      "    </div>\n",
      "    <div class=\"col-md-4 tags-box\">\n",
      "        \n",
      "            <h2>Top Ten tags</h2>\n",
      "            \n",
      "            <span class=\"tag-item\">\n",
      "            <a class=\"tag\" style=\"font-size: 28px\" href=\"/tag/love/\">love</a>\n",
      "            </span>\n",
      "            \n",
      "            <span class=\"tag-item\">\n",
      "            <a class=\"tag\" style=\"font-size: 26px\" href=\"/tag/inspirational/\">inspirational</a>\n",
      "            </span>\n",
      "            \n",
      "            <span class=\"tag-item\">\n",
      "            <a class=\"tag\" style=\"font-size: 26px\" href=\"/tag/life/\">life</a>\n",
      "            </span>\n",
      "            \n",
      "            <span class=\"tag-item\">\n",
      "            <a class=\"tag\" style=\"font-size: 24px\" href=\"/tag/humor/\">humor</a>\n",
      "            </span>\n",
      "            \n",
      "            <span class=\"tag-item\">\n",
      "            <a class=\"tag\" style=\"font-size: 22px\" href=\"/tag/books/\">books</a>\n",
      "            </span>\n",
      "            \n",
      "            <span class=\"tag-item\">\n",
      "            <a class=\"tag\" style=\"font-size: 14px\" href=\"/tag/reading/\">reading</a>\n",
      "            </span>\n",
      "            \n",
      "            <span class=\"tag-item\">\n",
      "            <a class=\"tag\" style=\"font-size: 10px\" href=\"/tag/friendship/\">friendship</a>\n",
      "            </span>\n",
      "            \n",
      "            <span class=\"tag-item\">\n",
      "            <a class=\"tag\" style=\"font-size: 8px\" href=\"/tag/friends/\">friends</a>\n",
      "            </span>\n",
      "            \n",
      "            <span class=\"tag-item\">\n",
      "            <a class=\"tag\" style=\"font-size: 8px\" href=\"/tag/truth/\">truth</a>\n",
      "            </span>\n",
      "            \n",
      "            <span class=\"tag-item\">\n",
      "            <a class=\"tag\" style=\"font-size: 6px\" href=\"/tag/simile/\">simile</a>\n",
      "            </span>\n",
      "            \n",
      "        \n",
      "    </div>\n",
      "</div>\n",
      "\n",
      "    </div>\n",
      "    <footer class=\"footer\">\n",
      "        <div class=\"container\">\n",
      "            <p class=\"text-muted\">\n",
      "                Quotes by: <a href=\"https://www.goodreads.com/quotes\">GoodReads.com</a>\n",
      "            </p>\n",
      "            <p class=\"copyright\">\n",
      "                Made with <span class='sh-red'>❤</span> by <a href=\"https://scrapinghub.com\">Scrapinghub</a>\n",
      "            </p>\n",
      "        </div>\n",
      "    </footer>\n",
      "</body>\n",
      "</html>\n"
     ]
    }
   ],
   "source": [
    "url = 'http://quotes.toscrape.com/'\n",
    "response = requests.get(url,cookies=login_response.cookies) \n",
    "print(response.text)"
   ]
  },
  {
   "cell_type": "markdown",
   "metadata": {
    "slideshow": {
     "slide_type": "subslide"
    }
   },
   "source": [
    "### 3. 為何 \"檢查原始碼內的東西跟開發人員工具看到的不一樣\" ？\n",
    "先想想. . . . . . ."
   ]
  },
  {
   "cell_type": "markdown",
   "metadata": {
    "slideshow": {
     "slide_type": "subslide"
    }
   },
   "source": [
    "因為這些網頁在瀏覽器收到 html後，還要用Javascript跑一下才會得到你在開發人員工具看到的最終版本\n",
    "<img src=\"https://i.imgur.com/2JAYJIv.png\">"
   ]
  },
  {
   "cell_type": "markdown",
   "metadata": {
    "slideshow": {
     "slide_type": "subslide"
    }
   },
   "source": [
    "### 那要怎麼爬 \"html內的東西都是後來程式(JavaScript)產生的，因此光用request爬不到什麼東西的網站。\"\n",
    "先想想"
   ]
  },
  {
   "cell_type": "markdown",
   "metadata": {
    "slideshow": {
     "slide_type": "subslide"
    }
   },
   "source": [
    "### 想辦法模擬瀏覽器收到html後做的動作 💪\n",
    "為此我們需要一個開發用的瀏覽器驅動程式 (Chrome Driver)<br>\n",
    "\n",
    "..還要一個可以操作這個驅動程式的python套件 (Selenium)"
   ]
  },
  {
   "cell_type": "markdown",
   "metadata": {
    "slideshow": {
     "slide_type": "subslide"
    }
   },
   "source": [
    "### 設定 Chrome driver\n",
    "\n",
    "- 下載 [Chrome driver](http://chromedriver.chromium.org/downloads)\n",
    "    - Windows 選 win_32 那個版本即可\n",
    "- 解壓縮後，放到目錄\n",
    "    - Windows: python 安裝目錄 (需再設定環境變數) [參考教學](https://blog.csdn.net/DaemonFG/article/details/78034432) \n",
    "    - OSX: /usr/local/bin\n",
    "\n",
    "\n",
    "#### Mac 參考指令\n",
    "cp /Downloads/chromedriver /usr/local/bin\n",
    "chmod +x /usr/local/bin/chromedriver  "
   ]
  },
  {
   "cell_type": "markdown",
   "metadata": {
    "slideshow": {
     "slide_type": "subslide"
    }
   },
   "source": [
    "### 關於 Selenium\n",
    "\n",
    "你在瀏覽器用滑鼠做的事（像點擊按鈕），都可以用 Selenium 來做。\n",
    "\n",
    "python + Selenium + Chrome driver + Chrome = 你可以寫一隻程式來模擬操作網站的行為\n",
    "(Selenium 原始的用途其實是拿來測試網頁功能用的)\n",
    "\n",
    "### 安裝 Selenium\n",
    "\n",
    "pip install selenium\n"
   ]
  },
  {
   "cell_type": "markdown",
   "metadata": {
    "slideshow": {
     "slide_type": "subslide"
    }
   },
   "source": [
    "## Example 5\n",
    "\n",
    "請取得 Data Science and Artificial Intelligence Practice 課程網站中，2/27的Description的內容<br> \n",
    "(Course Introduction and Basics of...)\n",
    "\n",
    "<img src=\"https://i.imgur.com/PoW0RB7.png\" >\n"
   ]
  },
  {
   "cell_type": "code",
   "execution_count": 1,
   "metadata": {
    "slideshow": {
     "slide_type": "subslide"
    }
   },
   "outputs": [
    {
     "name": "stdout",
     "output_type": "stream",
     "text": [
      "ok\n"
     ]
    }
   ],
   "source": [
    "import time\n",
    "from bs4 import BeautifulSoup\n",
    "from selenium import webdriver\n",
    "\n",
    "try:\n",
    "    url = 'https://netdbncku.github.io/dsai/2018/'\n",
    "    driver = webdriver.Chrome()  # '選擇使用 Chrome 來開啟網頁'，如果要用safari就要載 safari的driver\n",
    "    driver.get(url)\n",
    "    content = driver.page_source \n",
    "finally:\n",
    "    print('ok')\n",
    "    driver.close()\n",
    "    driver.quit()    "
   ]
  },
  {
   "cell_type": "code",
   "execution_count": 42,
   "metadata": {
    "slideshow": {
     "slide_type": "subslide"
    }
   },
   "outputs": [
    {
     "name": "stdout",
     "output_type": "stream",
     "text": [
      "<td data-title=\"Description\"><p>Course Introduction and Basics of Supervised/Unsupervised Learning</p>\n",
      "<ul>\n",
      "<li><a href=\"https://drive.google.com/file/d/1k9RGBtcop763nfHHlXjOe7di9E9KJysN/view?usp=sharing\">Slides: Course introduction</a></li>\n",
      "<li><a href=\"https://drive.google.com/file/d/19BzWDB4Mx7GufStCPZp4VSRjceh3WTjR/view?usp=sharing\">Slides: Supervised unsupervised Learning</a></li>\n",
      "</ul>\n",
      "</td>\n"
     ]
    }
   ],
   "source": [
    "soup = BeautifulSoup(content, 'html.parser')\n",
    "tag = soup.find(attrs={'data-title': 'Description'})\n",
    "print(tag)"
   ]
  },
  {
   "cell_type": "markdown",
   "metadata": {
    "slideshow": {
     "slide_type": "subslide"
    }
   },
   "source": [
    "每次都會打開瀏覽器很麻煩？ (又很慢)\n",
    "#### 使用 Headless Chrome 加速運行  (不顯示瀏覽器視窗)"
   ]
  },
  {
   "cell_type": "code",
   "execution_count": 2,
   "metadata": {
    "slideshow": {
     "slide_type": "subslide"
    }
   },
   "outputs": [
    {
     "name": "stdout",
     "output_type": "stream",
     "text": [
      "ok\n"
     ]
    }
   ],
   "source": [
    "import time\n",
    "from selenium import webdriver\n",
    "from selenium.webdriver.chrome.options import Options\n",
    "\n",
    "try:\n",
    "    url = 'https://netdbncku.github.io/dsai/2018/'\n",
    "    chrome_options = Options()\n",
    "    chrome_options.add_argument(\"--headless\")  # 選擇 headless mode\n",
    "    chrome_options.add_argument('window-size=375x812') # 選擇視窗大小\n",
    "    # 告訴網站你是用 Safari開(雖然不是)\n",
    "    chrome_options.add_argument(\n",
    "        '--user-agent=Mozilla/5.0 (iPhone; CPU iPhone OS 10_3_1 like Mac OS X) AppleWebKit/603.1.30 (KHTML, like Gecko) Version/10.0 Mobile/14E304 Safari/602.1')\n",
    "    driver = webdriver.Chrome(chrome_options=chrome_options)\n",
    "    driver.get(url)\n",
    "    time.sleep(1)\n",
    "\n",
    "    content = driver.page_source\n",
    "finally:\n",
    "    print('ok')\n",
    "    driver.close()\n",
    "    driver.quit()"
   ]
  },
  {
   "cell_type": "markdown",
   "metadata": {
    "slideshow": {
     "slide_type": "subslide"
    }
   },
   "source": [
    "## Exercise 3\n",
    "\n",
    "取得蝦皮拍賣中，機車搜尋結果的第一個商品名稱\n",
    "\n",
    "<img src=\"https://i.imgur.com/cpDNMH2.png\">"
   ]
  },
  {
   "cell_type": "code",
   "execution_count": 47,
   "metadata": {
    "slideshow": {
     "slide_type": "subslide"
    }
   },
   "outputs": [
    {
     "name": "stdout",
     "output_type": "stream",
     "text": [
      "ok\n"
     ]
    }
   ],
   "source": [
    "import time\n",
    "from bs4 import BeautifulSoup\n",
    "from selenium import webdriver\n",
    "\n",
    "try:\n",
    "    url = 'https://shopee.tw/search/?keyword=%E6%A9%9F%E8%BB%8A'\n",
    "    driver = webdriver.Chrome()  # '選擇使用 Chrome 來開啟網頁'\n",
    "    driver.get(url)\n",
    "    content = driver.page_source \n",
    "finally:\n",
    "    print('ok')\n",
    "    driver.close()\n",
    "    driver.quit()"
   ]
  },
  {
   "cell_type": "code",
   "execution_count": 50,
   "metadata": {
    "slideshow": {
     "slide_type": "-"
    }
   },
   "outputs": [
    {
     "name": "stdout",
     "output_type": "stream",
     "text": [
      "APM赤鬼封體蠟180g 超強撥水鍍膜蠟 汽機車蠟 消光烤漆可用 前擋風玻璃撥水適用 可濕上濕下無油影 抗刮耐磨防靜電\n"
     ]
    }
   ],
   "source": [
    "soup = BeautifulSoup(content, 'html.parser')\n",
    "tag = soup.find(class_='shopee-item-card__text-name').text\n",
    "print(tag)"
   ]
  },
  {
   "cell_type": "markdown",
   "metadata": {
    "slideshow": {
     "slide_type": "subslide"
    }
   },
   "source": [
    "## 延伸學習\n",
    "\n",
    "- 反爬蟲\n",
    "    - 你操作(GET)太快太頻繁了\n",
    "    - 擋你IP\n",
    "    - 輸入驗證碼\n",
    "    - \"我不是機器人\"\n",
    "    - class 或 id 隨機產生\n",
    "    - ...\n",
    "- 反反爬蟲\n",
    "    - GET 中間加時間間隔\n",
    "    - 換IP (Proxy)\n",
    "    - 圖像辨識驗證碼 (OCR)\n",
    "    - ...應該暫時無解\n",
    "- 加速爬蟲運行\n",
    "    - 分布式\n",
    "    - Asyncio\n",
    "    \n",
    "<br>\n",
    "<br>\n",
    "反爬蟲跟反反爬蟲一行人的戰爭依然會持續下去..."
   ]
  }
 ],
 "metadata": {
  "celltoolbar": "Slideshow",
  "kernelspec": {
   "display_name": "Python 3",
   "language": "python",
   "name": "python3"
  },
  "language_info": {
   "codemirror_mode": {
    "name": "ipython",
    "version": 3
   },
   "file_extension": ".py",
   "mimetype": "text/x-python",
   "name": "python",
   "nbconvert_exporter": "python",
   "pygments_lexer": "ipython3",
   "version": "3.6.2"
  }
 },
 "nbformat": 4,
 "nbformat_minor": 2
}
