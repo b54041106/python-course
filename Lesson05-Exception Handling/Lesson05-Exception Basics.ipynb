{
 "cells": [
  {
   "cell_type": "markdown",
   "metadata": {
    "slideshow": {
     "slide_type": "slide"
    }
   },
   "source": [
    "# [X-Village] Lesson 05 - Exception Basics\n",
    "\n",
    "## by 洪培軒"
   ]
  },
  {
   "cell_type": "markdown",
   "metadata": {
    "slideshow": {
     "slide_type": "slide"
    }
   },
   "source": [
    "# <center>如何看懂 error message</center>"
   ]
  },
  {
   "cell_type": "code",
   "execution_count": 1,
   "metadata": {
    "slideshow": {
     "slide_type": "subslide"
    }
   },
   "outputs": [
    {
     "ename": "IndexError",
     "evalue": "list index out of range",
     "output_type": "error",
     "traceback": [
      "\u001b[0;31m---------------------------------------------------------------------------\u001b[0m",
      "\u001b[0;31mIndexError\u001b[0m                                Traceback (most recent call last)",
      "\u001b[0;32m<ipython-input-1-166bda074163>\u001b[0m in \u001b[0;36m<module>\u001b[0;34m()\u001b[0m\n\u001b[1;32m      1\u001b[0m \u001b[0ma\u001b[0m \u001b[0;34m=\u001b[0m \u001b[0;34m[\u001b[0m\u001b[0;36m123\u001b[0m\u001b[0;34m,\u001b[0m \u001b[0;36m345\u001b[0m\u001b[0;34m,\u001b[0m \u001b[0;36m789\u001b[0m\u001b[0;34m]\u001b[0m\u001b[0;34m\u001b[0m\u001b[0m\n\u001b[0;32m----> 2\u001b[0;31m \u001b[0mprint\u001b[0m\u001b[0;34m(\u001b[0m\u001b[0ma\u001b[0m\u001b[0;34m[\u001b[0m\u001b[0;36m3\u001b[0m\u001b[0;34m]\u001b[0m\u001b[0;34m)\u001b[0m\u001b[0;34m\u001b[0m\u001b[0m\n\u001b[0m",
      "\u001b[0;31mIndexError\u001b[0m: list index out of range"
     ]
    }
   ],
   "source": [
    "a = [123, 345, 789]\n",
    "print(a[3])"
   ]
  },
  {
   "cell_type": "markdown",
   "metadata": {
    "slideshow": {
     "slide_type": "-"
    }
   },
   "source": [
    "從上面的錯誤訊息來解釋他是什麼意思吧！"
   ]
  },
  {
   "cell_type": "markdown",
   "metadata": {
    "slideshow": {
     "slide_type": "subslide"
    }
   },
   "source": [
    "## 1. Exception 的名字 -- `IndexError`\n",
    "錯誤的情況有很多種"
   ]
  },
  {
   "cell_type": "code",
   "execution_count": null,
   "metadata": {
    "scrolled": true,
    "slideshow": {
     "slide_type": "-"
    }
   },
   "outputs": [],
   "source": [
    "a = [123, 345, 789]\n",
    "print(a[3])"
   ]
  },
  {
   "cell_type": "markdown",
   "metadata": {
    "slideshow": {
     "slide_type": "subslide"
    }
   },
   "source": [
    "## 2. scope -- `in xxx()`\n",
    "\n",
    "告訴你那些問題在哪裡被發現的"
   ]
  },
  {
   "cell_type": "code",
   "execution_count": null,
   "metadata": {
    "slideshow": {
     "slide_type": "-"
    }
   },
   "outputs": [],
   "source": [
    "a = [123, 345, 789]\n",
    "print(a[3])"
   ]
  },
  {
   "cell_type": "markdown",
   "metadata": {
    "slideshow": {
     "slide_type": "subslide"
    }
   },
   "source": [
    "## 3. Traceback\n",
    "告訴你程式經歷了哪些大風大浪才死去"
   ]
  },
  {
   "cell_type": "code",
   "execution_count": null,
   "metadata": {
    "slideshow": {
     "slide_type": "subslide"
    }
   },
   "outputs": [],
   "source": [
    "def recur_a(i):\n",
    "    num[i]\n",
    "    recur_b(i+1)\n",
    "    \n",
    "def recur_b(i):\n",
    "    num[i]\n",
    "\n",
    "num = [1]\n",
    "recur_a(1)"
   ]
  },
  {
   "cell_type": "markdown",
   "metadata": {
    "slideshow": {
     "slide_type": "slide"
    }
   },
   "source": [
    "# <center>Exception 是什麼</center>\n",
    "\n",
    "* 什麼是 catch? 什麼是 raise(有些程式語言會叫做 throw，兩者是相同的)"
   ]
  },
  {
   "cell_type": "markdown",
   "metadata": {
    "slideshow": {
     "slide_type": "subslide"
    }
   },
   "source": [
    "## <center>現實生活中的例子</center>\n",
    "![](https://i.imgur.com/e4Djycn.jpg)"
   ]
  },
  {
   "cell_type": "markdown",
   "metadata": {
    "slideshow": {
     "slide_type": "subslide"
    }
   },
   "source": [
    "## <center>Exception 的種類</center>\n",
    "有很多，而且有分層\n",
    "    \n",
    "常見的 Exception:\n",
    "* ValueError\n",
    "* NameError\n",
    "* IndexError\n",
    "* KeyError\n",
    "* SyntaxError\n",
    "      "
   ]
  },
  {
   "cell_type": "markdown",
   "metadata": {
    "slideshow": {
     "slide_type": "subslide"
    }
   },
   "source": [
    "\n",
    "<img src=\"https://i.imgur.com/jNBRc30.jpg\"></img>"
   ]
  },
  {
   "cell_type": "markdown",
   "metadata": {
    "slideshow": {
     "slide_type": "slide"
    }
   },
   "source": [
    "# <center>為什麼我們需要 Exception</center>\n",
    "\n",
    "* 為了要在產生非預期的動作（或值）時**提醒**我們要處理這些東西\n",
    "* 比較好 debug\n",
    "* 現實生活中的例子：小明買醬油的故事\n",
    "* 程式方面的例子：在 `raise` 的地方會提到\n"
   ]
  },
  {
   "cell_type": "markdown",
   "metadata": {
    "slideshow": {
     "slide_type": "notes"
    }
   },
   "source": [
    "## 小明買醬油的故事\n",
    "\n",
    "媽媽叫小明去買醬油。\n",
    "\n",
    "小明去了超市後發現沒有醬油，就直接回家跟媽媽講說沒有醬油後就直接回房間了。\n",
    "\n",
    "到了晚餐時間前，媽媽要煮飯才發現少了醬油。\n",
    "\n",
    "---------------------\n",
    "\n",
    "如果我們有 exception 呢？\n",
    "\n",
    "小明會在超市打電話問媽媽說沒醬油了，媽媽讓他買其他東西來代替醬油。\n",
    "\n",
    "到了晚餐時間，媽媽沒有發現任何問題。\n",
    "\n",
    "---------------------\n",
    "\n",
    "差別：\n",
    "\n",
    "沒有 exception 的話，小明只會跟媽媽說沒有醬油\n",
    "\n",
    "有 exception 的話，小明會**提醒**媽媽沒有醬油，是不是要買其他東西"
   ]
  },
  {
   "cell_type": "markdown",
   "metadata": {
    "slideshow": {
     "slide_type": "slide"
    }
   },
   "source": [
    "# <center>為什麼我們需要 Exception Handling</center>\n",
    "\n",
    "## 用途\n",
    "* 易讀性，減少累贅的判斷式\n",
    "\n",
    "* 預期中會產生的錯誤，但是不希望程式中止\n",
    "    * 像是媽媽預期醬油可能會賣完，所以就先跟小明說如果醬油賣完應該要怎麼處理\n",
    "    * 這樣小明就不用打電話回家了\n",
    "    \n"
   ]
  },
  {
   "cell_type": "markdown",
   "metadata": {
    "slideshow": {
     "slide_type": "subslide"
    }
   },
   "source": [
    "# <center> ------------------------------------休息！-------------------------------</center>\n",
    "* 10 分鐘"
   ]
  },
  {
   "cell_type": "markdown",
   "metadata": {
    "slideshow": {
     "slide_type": "slide"
    }
   },
   "source": [
    "# <center>遇到 Exception 之後...</center>\n",
    "\n",
    "## 語法\n",
    "* try....except...else\n",
    "* try....except as e\n",
    "* finally\n",
    "* raise"
   ]
  },
  {
   "cell_type": "markdown",
   "metadata": {
    "slideshow": {
     "slide_type": "subslide"
    }
   },
   "source": [
    "* ## try...except...else\n",
    "最基本的語法"
   ]
  },
  {
   "cell_type": "code",
   "execution_count": null,
   "metadata": {
    "slideshow": {
     "slide_type": "-"
    }
   },
   "outputs": [],
   "source": [
    "try:\n",
    "    # do something\n",
    "except Exception:\n",
    "    # do something\n",
    "else:\n",
    "    # if no exception happens"
   ]
  },
  {
   "cell_type": "markdown",
   "metadata": {
    "slideshow": {
     "slide_type": "subslide"
    }
   },
   "source": [
    "* ## try...except as e\n",
    "e 會是抓到的那個 exception 的 class"
   ]
  },
  {
   "cell_type": "code",
   "execution_count": null,
   "metadata": {
    "slideshow": {
     "slide_type": "-"
    }
   },
   "outputs": [],
   "source": [
    "# run me!\n",
    "try:\n",
    "    num = x\n",
    "except NameError as e:\n",
    "    print(e)"
   ]
  },
  {
   "cell_type": "markdown",
   "metadata": {},
   "source": [
    "可以試著用 `type(e)` 看 e 是什麼型別的"
   ]
  },
  {
   "cell_type": "markdown",
   "metadata": {
    "slideshow": {
     "slide_type": "subslide"
    }
   },
   "source": [
    "* ## 多個 exception"
   ]
  },
  {
   "cell_type": "code",
   "execution_count": null,
   "metadata": {
    "slideshow": {
     "slide_type": "-"
    }
   },
   "outputs": [],
   "source": [
    "# run me!\n",
    "a = [1, 2, 3]\n",
    "try:\n",
    "    a[100]\n",
    "    num = x\n",
    "except NameError as e:\n",
    "    print(\"I'm in NameError! \")\n",
    "    print(e)\n",
    "except IndexError as e:\n",
    "    print(\"I'm in IndexError!\" )\n",
    "    print(e)\n",
    "else:\n",
    "    print(\"I'm in else!\")"
   ]
  },
  {
   "cell_type": "markdown",
   "metadata": {
    "slideshow": {
     "slide_type": "subslide"
    }
   },
   "source": [
    "### 另一種寫法\n",
    "(把 a[100] 和 num = x 互換看看)"
   ]
  },
  {
   "cell_type": "code",
   "execution_count": null,
   "metadata": {
    "slideshow": {
     "slide_type": "-"
    }
   },
   "outputs": [],
   "source": [
    "a = [1,2,3]\n",
    "try:\n",
    "    num = x\n",
    "    a[100]\n",
    "except (NameError, IndexError) as e:\n",
    "    print(e)"
   ]
  },
  {
   "cell_type": "markdown",
   "metadata": {
    "slideshow": {
     "slide_type": "subslide"
    }
   },
   "source": [
    "* ## finally\n",
    "不論是否產生 exception, 一定會被執行到的區塊"
   ]
  },
  {
   "cell_type": "code",
   "execution_count": null,
   "metadata": {
    "slideshow": {
     "slide_type": "-"
    }
   },
   "outputs": [],
   "source": [
    "try:\n",
    "    print(\"hello!\")\n",
    "    x = a\n",
    "except Exception as e:\n",
    "    print(e)\n",
    "finally:\n",
    "    print(\"I'm in finally!\")"
   ]
  },
  {
   "cell_type": "markdown",
   "metadata": {
    "slideshow": {
     "slide_type": "-"
    }
   },
   "source": [
    "如果把 finally 刪掉會怎樣呢？"
   ]
  },
  {
   "cell_type": "markdown",
   "metadata": {
    "slideshow": {
     "slide_type": "subslide"
    }
   },
   "source": [
    "### 為什麼需要 finally?\n",
    "\n",
    "比較這兩種程式碼："
   ]
  },
  {
   "cell_type": "code",
   "execution_count": null,
   "metadata": {
    "slideshow": {
     "slide_type": "-"
    }
   },
   "outputs": [],
   "source": [
    "try:\n",
    "    print(\"hello\")\n",
    "except:\n",
    "    print(\"in exception\")\n",
    "    return\n",
    "# do something\n",
    "#####################\n",
    "try:\n",
    "    print(\"hello\")\n",
    "except:\n",
    "    print(\"in exception\")\n",
    "    return\n",
    "finally:\n",
    "    # do something"
   ]
  },
  {
   "cell_type": "markdown",
   "metadata": {
    "slideshow": {
     "slide_type": "subslide"
    }
   },
   "source": [
    "### 實際上來操作一次"
   ]
  },
  {
   "cell_type": "code",
   "execution_count": null,
   "metadata": {
    "slideshow": {
     "slide_type": "-"
    }
   },
   "outputs": [],
   "source": [
    "# run me!\n",
    "def func():\n",
    "    try:\n",
    "        print(\"I'm in try block!\")\n",
    "        a = b\n",
    "    except:\n",
    "        print(\"I'm in except block!\")\n",
    "        return\n",
    "    finally:\n",
    "        print(\"do something\")\n",
    "        \n",
    "func()"
   ]
  },
  {
   "cell_type": "markdown",
   "metadata": {
    "slideshow": {
     "slide_type": "-"
    }
   },
   "source": [
    "把 finally 去掉再試試看"
   ]
  },
  {
   "cell_type": "markdown",
   "metadata": {
    "slideshow": {
     "slide_type": "subslide"
    }
   },
   "source": [
    "* ## raise\n",
    "丟出一個 exception 給別人接"
   ]
  },
  {
   "cell_type": "markdown",
   "metadata": {
    "slideshow": {
     "slide_type": "subslide"
    }
   },
   "source": [
    "* 沒有使用 raise 的時候"
   ]
  },
  {
   "cell_type": "code",
   "execution_count": null,
   "metadata": {
    "slideshow": {
     "slide_type": "-"
    }
   },
   "outputs": [],
   "source": [
    "# run me!\n",
    "def calc(a, b):\n",
    "    if b == 0:\n",
    "        print(\"divisor cannot be zero!\")\n",
    "        return\n",
    "    return a/b\n",
    "\n",
    "num = calc(1,0)\n",
    "print(num)    "
   ]
  },
  {
   "cell_type": "markdown",
   "metadata": {
    "slideshow": {
     "slide_type": "subslide"
    }
   },
   "source": [
    "* 使用 raise 的時候"
   ]
  },
  {
   "cell_type": "code",
   "execution_count": null,
   "metadata": {
    "slideshow": {
     "slide_type": "-"
    }
   },
   "outputs": [],
   "source": [
    "# run me!\n",
    "def calc(a, b):\n",
    "    if b == 0:\n",
    "        raise ValueError(\"divisor cannot be zero!\")\n",
    "    return a/b\n",
    "\n",
    "num = calc(1,0)\n",
    "print(num)"
   ]
  },
  {
   "cell_type": "markdown",
   "metadata": {
    "slideshow": {
     "slide_type": "subslide"
    }
   },
   "source": [
    "# <center>--------------------休息+練習時間------------------------</center>\n",
    "* 題目\n",
    "    1. 寫一個 function，需要 raise exception (60%)\n",
    "    2. 實做 **小明買醬油** 的故事 (40%)\n",
    "* 40 分鐘"
   ]
  },
  {
   "cell_type": "markdown",
   "metadata": {
    "slideshow": {
     "slide_type": "subslide"
    }
   },
   "source": [
    "## 第二題的範例"
   ]
  },
  {
   "cell_type": "code",
   "execution_count": null,
   "metadata": {
    "slideshow": {
     "slide_type": "-"
    }
   },
   "outputs": [],
   "source": [
    "import random\n",
    "item_in_shop = {\"soybean_sauce\": 0, \"milk\": 4, \"salt\": 10, \"soybean_milk\": 3}\n",
    "items = [item for item in item_in_shop.keys()]\n",
    "cnt = 5\n",
    "\n",
    "def buy(item):\n",
    "    # 如果東西數量是 0 就必須 raise Exception\n",
    "    # 否則就把數量減 1 \n",
    "\n",
    "# 買五個隨機的東西\n",
    "while cnt:\n",
    "    cnt -= 1\n",
    "    index = random.randint(0,3)\n",
    "    item = items[index]\n",
    "    \n",
    "    # 想要買的東西是 item，利用 buy() 來買東西，記得用 try...except 包起來\n",
    " "
   ]
  },
  {
   "cell_type": "markdown",
   "metadata": {
    "slideshow": {
     "slide_type": "subslide"
    }
   },
   "source": [
    "## 參考解答 1"
   ]
  },
  {
   "cell_type": "markdown",
   "metadata": {
    "slideshow": {
     "slide_type": "subslide"
    }
   },
   "source": [
    "## 參考解答 2 "
   ]
  },
  {
   "cell_type": "markdown",
   "metadata": {
    "slideshow": {
     "slide_type": "slide"
    }
   },
   "source": [
    "# <center>自定義 Exception</center>\n",
    "\n",
    "需要定義一個新的 class\n",
    "* 繼承 Exception\n",
    "* Override 兩個函式\n",
    "    1. `__init__(self, value)`\n",
    "        用來初始化\n",
    "    2. `__str__(self)`\n",
    "        用來印出內容"
   ]
  },
  {
   "cell_type": "markdown",
   "metadata": {
    "slideshow": {
     "slide_type": "subslide"
    }
   },
   "source": [
    "### 做一次看看吧！"
   ]
  },
  {
   "cell_type": "code",
   "execution_count": null,
   "metadata": {
    "slideshow": {
     "slide_type": "-"
    }
   },
   "outputs": [],
   "source": [
    "# run me!\n",
    "class MyException(Exception):\n",
    "    def __init__(self, value):\n",
    "        self.value = value\n",
    "    def __str__(self):\n",
    "        return self.value\n",
    "\n",
    "try:\n",
    "    raise MyException(\"I'm an exception message!\")\n",
    "except MyException as e:\n",
    "    print(\"---encountered MyEception---\")\n",
    "    print(e)"
   ]
  },
  {
   "cell_type": "markdown",
   "metadata": {
    "slideshow": {
     "slide_type": "subslide"
    }
   },
   "source": [
    "## 練習1（1和2選一個）\n",
    "\n",
    "### 解釋\n",
    "\n",
    "* 三個數值：飢餓度，口渴度，開心度\n",
    "\n",
    "* 有三個動作，分別會消耗一些數值\n",
    "    * play\n",
    "    * eat\n",
    "    * drink   \n",
    "    "
   ]
  },
  {
   "cell_type": "markdown",
   "metadata": {
    "slideshow": {
     "slide_type": "subslide"
    }
   },
   "source": [
    "    \n",
    "* 需要三個 exception，分別是 \n",
    "    * HungryException\n",
    "    * ThirstyException\n",
    "    * BoredException"
   ]
  },
  {
   "cell_type": "markdown",
   "metadata": {
    "slideshow": {
     "slide_type": "subslide"
    }
   },
   "source": [
    "### 目標\n",
    "1. 定義出這三種不同的 exception\n",
    "2. 決定哪時候應該要 raise 哪個 exception\n",
    "3. 決定遇到 exception 時的處理方式"
   ]
  },
  {
   "cell_type": "markdown",
   "metadata": {
    "slideshow": {
     "slide_type": "subslide"
    }
   },
   "source": [
    "## 範例（把所有 TODO 解掉）"
   ]
  },
  {
   "cell_type": "code",
   "execution_count": null,
   "metadata": {
    "slideshow": {
     "slide_type": "subslide"
    }
   },
   "outputs": [],
   "source": [
    "import random\n",
    "\n",
    "# TODO: define exceptions\n",
    "    \n",
    "def play(man):\n",
    "    print(\"------------------> I'm going to play!\")\n",
    "    # TODO: need to raise excpetion?\n",
    "    man[\"hunger\"] -= 10\n",
    "    man[\"water\"] -= 12\n",
    "    man[\"mood\"] += 5\n",
    "def eat(man):\n",
    "    print(\"------------------> I'm going to eat!\")\n",
    "    # TODO: need to raise excpetion?\n",
    "    man[\"hunger\"] += 5\n",
    "def drink(man):\n",
    "    print(\"------------------> I'm going to drink!\")\n",
    "    # TODO: need to raise excpetion?\n",
    "    man[\"water\"] += 5\n",
    "    \n",
    "actionList = [play, eat, drink]\n",
    "    \n",
    "child = {\"hunger\": 30, \"water\": 30, \"mood\": 30}\n",
    "cnt = 10\n",
    "\n",
    "while cnt:\n",
    "    cnt -= 1\n",
    "    rand = random.randint(0,2)\n",
    "    try:\n",
    "        actionList[rand](child)\n",
    "        print(\"status: {}\".format(child))\n",
    "    except HungryException as e:\n",
    "        print(e)\n",
    "        # TODO: what should you do?\n",
    "    except ThirstyException as e:\n",
    "        print(e)\n",
    "        # TODO: what should you do?\n",
    "    except BoredException as e:\n",
    "        print(e)\n",
    "        # TODO: what should you do?\n",
    "    \n"
   ]
  },
  {
   "cell_type": "markdown",
   "metadata": {
    "slideshow": {
     "slide_type": "subslide"
    }
   },
   "source": [
    "## 參考答案"
   ]
  },
  {
   "cell_type": "markdown",
   "metadata": {
    "slideshow": {
     "slide_type": "subslide"
    }
   },
   "source": [
    "## 練習 2（1和2選一個）\n",
    "* 30 分鐘\n",
    "\n",
    "參考墜樓的故事，把故事敘述用程式碼表達\n",
    "   "
   ]
  },
  {
   "cell_type": "markdown",
   "metadata": {
    "slideshow": {
     "slide_type": "subslide"
    }
   },
   "source": [
    "小明在 106 樓看風景，不小心腳一滑從 106 樓掉下去。\n",
    "\n",
    "這時候會觸發大樓的安全機關（FallDownException)，但是因為小明太胖了所以第一層安全機關會被突破。\n",
    "\n",
    "好險大樓還有第二層安全機關（FallDownStrongerException)，最後終於把小明接住了！\n",
    "\n",
    "\n"
   ]
  },
  {
   "cell_type": "markdown",
   "metadata": {
    "slideshow": {
     "slide_type": "subslide"
    }
   },
   "source": [
    "定義兩個 exception，分別是\n",
    "* FallDownException(Exception)\n",
    "* FallDownStrongerException(Exception)\n",
    "\n",
    "定義一個函式\n",
    "* slip(floor)\n",
    "    * 小明必須要在第 80 樓觸發 FallDownException, 在第 5 樓觸發 FallDownStrongerException\n",
    "    * 觸發時記得要印出： 在 xx 樓被接住了！"
   ]
  },
  {
   "cell_type": "markdown",
   "metadata": {
    "slideshow": {
     "slide_type": "subslide"
    }
   },
   "source": [
    "### 輸出\n",
    "\n",
    "現在在 105 樓\n",
    "\n",
    "現在在 104 樓\n",
    "\n",
    "....（略）\n",
    "\n",
    "在 80 樓被接住了！\n",
    "\n",
    "突破機關！\n",
    "\n",
    "....（略）\n",
    "\n",
    "現在在 5 樓\n",
    "\n",
    "在 5 樓被接住了！\n",
    "\n",
    "安全！\n"
   ]
  },
  {
   "cell_type": "markdown",
   "metadata": {
    "slideshow": {
     "slide_type": "subslide"
    }
   },
   "source": [
    "## 範例（把所有 TODO 解掉）"
   ]
  },
  {
   "cell_type": "code",
   "execution_count": null,
   "metadata": {
    "slideshow": {
     "slide_type": "-"
    }
   },
   "outputs": [],
   "source": [
    "# TODO: 按照敘述定義出兩個 Exception\n",
    "    \n",
    "def slip(floor):\n",
    "    try:\n",
    "        while floor:\n",
    "            floor -= 1\n",
    "            print(\"現在在 {} 樓\".format(floor))\n",
    "\n",
    "            if floor == 80:\n",
    "                # TODO: 要 raise 一個 exception\n",
    "                \n",
    "    except '''TODO: 要用一個 exception 接''' as e:\n",
    "        print(e)\n",
    "        print(\"突破機關！\")\n",
    "        while floor:\n",
    "            floor -= 1\n",
    "            print(\"現在在 {} 樓\".format(floor))\n",
    "            \n",
    "            if floor == 5:\n",
    "                # TODO: 要 raise 一個 exception\n",
    "     \n",
    "# TODO: 用 try...except 把 slip(106) 包起來\n",
    "slip(106)"
   ]
  },
  {
   "cell_type": "markdown",
   "metadata": {
    "slideshow": {
     "slide_type": "subslide"
    }
   },
   "source": [
    "## 參考答案"
   ]
  }
 ],
 "metadata": {
  "celltoolbar": "Slideshow",
  "kernelspec": {
   "display_name": "Python 3",
   "language": "python",
   "name": "python3"
  },
  "language_info": {
   "codemirror_mode": {
    "name": "ipython",
    "version": 3
   },
   "file_extension": ".py",
   "mimetype": "text/x-python",
   "name": "python",
   "nbconvert_exporter": "python",
   "pygments_lexer": "ipython3",
   "version": "3.6.5"
  }
 },
 "nbformat": 4,
 "nbformat_minor": 2
}
