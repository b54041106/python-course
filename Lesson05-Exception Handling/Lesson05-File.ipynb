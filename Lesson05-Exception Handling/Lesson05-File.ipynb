{
 "cells": [
  {
   "cell_type": "markdown",
   "metadata": {
    "slideshow": {
     "slide_type": "slide"
    }
   },
   "source": [
    "# 檔案\n",
    "# File"
   ]
  },
  {
   "cell_type": "markdown",
   "metadata": {
    "slideshow": {
     "slide_type": "fragment"
    }
   },
   "source": [
    "1. File 基本操作\n",
    "2. 課程練習 - 筆記程式\n",
    "3. csv 介紹\n",
    "4. 課程練習 - read Open data\n",
    "5. json 介紹\n",
    "6. 課程練習 - 處理 Open data: 獨立音樂展演"
   ]
  },
  {
   "cell_type": "markdown",
   "metadata": {
    "slideshow": {
     "slide_type": "slide"
    }
   },
   "source": [
    "# File 基本操作\n",
    "## open / close\n",
    "1. open 跟 close 成對出現！\n",
    "2. open 的模式：\n",
    "    - r : 讀\n",
    "    - w : 寫，創建檔案或者清空目前的檔案\n",
    "    - a : 寫，如目前無目標檔案則創建檔案，從檔案末端開始處理\n",
    "    - r+ : 讀、寫\n",
    "    - w+ : 讀、寫，創建檔案或者清空目前的檔案\n",
    "    - a+ : 讀、寫，如目前無目標檔案則創建檔案，從檔案末端開始處理"
   ]
  },
  {
   "cell_type": "markdown",
   "metadata": {
    "slideshow": {
     "slide_type": "subslide"
    }
   },
   "source": [
    "![](./open-mode.png)"
   ]
  },
  {
   "cell_type": "code",
   "execution_count": 41,
   "metadata": {
    "slideshow": {
     "slide_type": "subslide"
    }
   },
   "outputs": [],
   "source": [
    "f = open('workfile', 'w')"
   ]
  },
  {
   "cell_type": "code",
   "execution_count": 119,
   "metadata": {
    "slideshow": {
     "slide_type": "fragment"
    }
   },
   "outputs": [
    {
     "name": "stdout",
     "output_type": "stream",
     "text": [
      "True\n",
      "True\n"
     ]
    }
   ],
   "source": [
    "# do somthing...\n",
    "print(f.closed)\n",
    "f.close()\n",
    "print(f.closed)"
   ]
  },
  {
   "cell_type": "markdown",
   "metadata": {
    "slideshow": {
     "slide_type": "subslide"
    }
   },
   "source": [
    "# File 基本操作\n",
    "## read ：讀整份文件\n",
    "## readline ：一次讀一行\n",
    "## readlines ：以陣列讀出每一行"
   ]
  },
  {
   "cell_type": "code",
   "execution_count": 109,
   "metadata": {
    "slideshow": {
     "slide_type": "subslide"
    }
   },
   "outputs": [
    {
     "name": "stdout",
     "output_type": "stream",
     "text": [
      "hello world\n",
      "hello python\n"
     ]
    }
   ],
   "source": [
    "\"\"\"\n",
    "<hello>\n",
    "\n",
    "hello world\n",
    "hello python\n",
    "\"\"\"\n",
    "\n",
    "f = open('hello', 'r')\n",
    "print(f.read())\n",
    "f.close()"
   ]
  },
  {
   "cell_type": "code",
   "execution_count": 110,
   "metadata": {
    "slideshow": {
     "slide_type": "fragment"
    }
   },
   "outputs": [
    {
     "name": "stdout",
     "output_type": "stream",
     "text": [
      "hello world\n",
      "\n"
     ]
    }
   ],
   "source": [
    "f = open('hello', 'r')\n",
    "print(f.readline())\n",
    "f.close()"
   ]
  },
  {
   "cell_type": "code",
   "execution_count": 111,
   "metadata": {
    "slideshow": {
     "slide_type": "fragment"
    }
   },
   "outputs": [
    {
     "name": "stdout",
     "output_type": "stream",
     "text": [
      "['hello world\\n', 'hello python']\n"
     ]
    }
   ],
   "source": [
    "f = open('hello', 'r')\n",
    "print(f.readlines())\n",
    "f.close()"
   ]
  },
  {
   "cell_type": "markdown",
   "metadata": {
    "slideshow": {
     "slide_type": "subslide"
    }
   },
   "source": [
    "# File 基本操作\n",
    "## write"
   ]
  },
  {
   "cell_type": "code",
   "execution_count": 112,
   "metadata": {
    "slideshow": {
     "slide_type": "fragment"
    }
   },
   "outputs": [
    {
     "data": {
      "text/plain": [
       "12"
      ]
     },
     "execution_count": 112,
     "metadata": {},
     "output_type": "execute_result"
    }
   ],
   "source": [
    "f = open('newfile', 'r+')\n",
    "f.write('Create by me')"
   ]
  },
  {
   "cell_type": "markdown",
   "metadata": {
    "slideshow": {
     "slide_type": "subslide"
    }
   },
   "source": [
    "# File 基本操作\n",
    "## tell ：返回目前的處理位置"
   ]
  },
  {
   "cell_type": "code",
   "execution_count": 113,
   "metadata": {
    "slideshow": {
     "slide_type": "fragment"
    }
   },
   "outputs": [
    {
     "data": {
      "text/plain": [
       "12"
      ]
     },
     "execution_count": 113,
     "metadata": {},
     "output_type": "execute_result"
    }
   ],
   "source": [
    "f.tell()"
   ]
  },
  {
   "cell_type": "markdown",
   "metadata": {
    "slideshow": {
     "slide_type": "subslide"
    }
   },
   "source": [
    "# File 基本操作\n",
    "## seek ：移動目前的處理位置"
   ]
  },
  {
   "cell_type": "code",
   "execution_count": 114,
   "metadata": {
    "slideshow": {
     "slide_type": "fragment"
    }
   },
   "outputs": [
    {
     "name": "stdout",
     "output_type": "stream",
     "text": [
      "reate by me\n"
     ]
    }
   ],
   "source": [
    "f.seek(1)\n",
    "print(f.read())\n",
    "f.close()"
   ]
  },
  {
   "cell_type": "markdown",
   "metadata": {
    "slideshow": {
     "slide_type": "subslide"
    }
   },
   "source": [
    "# File 基本操作\n",
    "## with ：更方便的 open 語法"
   ]
  },
  {
   "cell_type": "code",
   "execution_count": 115,
   "metadata": {
    "slideshow": {
     "slide_type": "fragment"
    }
   },
   "outputs": [
    {
     "name": "stdout",
     "output_type": "stream",
     "text": [
      "hello world\n",
      "hello python\n"
     ]
    }
   ],
   "source": [
    "with open('hello') as f:\n",
    "    print(f.read())\n",
    "    #f.close()"
   ]
  },
  {
   "cell_type": "markdown",
   "metadata": {
    "slideshow": {
     "slide_type": "slide"
    }
   },
   "source": [
    "# 課程練習-筆記程式\n",
    "...待補"
   ]
  },
  {
   "cell_type": "markdown",
   "metadata": {
    "slideshow": {
     "slide_type": "slide"
    }
   },
   "source": [
    "# CSV 介紹\n",
    "## ‘comma seperate value’ file\n",
    "## 最常見的表單格式\n",
    "![](./table.png)"
   ]
  },
  {
   "cell_type": "markdown",
   "metadata": {
    "slideshow": {
     "slide_type": "fragment"
    }
   },
   "source": [
    "```\n",
    "品名,價格\n",
    "餛飩麵,50\n",
    "蛋花湯,25\n",
    "可樂,20\n",
    "```"
   ]
  },
  {
   "cell_type": "markdown",
   "metadata": {
    "slideshow": {
     "slide_type": "subslide"
    }
   },
   "source": [
    "# CSV 介紹\n",
    "# write"
   ]
  },
  {
   "cell_type": "code",
   "execution_count": 88,
   "metadata": {
    "slideshow": {
     "slide_type": "fragment"
    }
   },
   "outputs": [
    {
     "name": "stdout",
     "output_type": "stream",
     "text": [
      "['品名', '價格']\n",
      "['餛飩麵', '50']\n",
      "['蛋花湯', '25']\n",
      "['可樂', '20']\n"
     ]
    }
   ],
   "source": [
    "import csv\n",
    "with open('menu.csv', 'w') as csvfile:\n",
    "    filewriter = csv.writer(csvfile, delimiter=',',\n",
    "                            quotechar='|', quoting=csv.QUOTE_MINIMAL)\n",
    "    filewriter.writerow(['品名', '價格'])\n",
    "    filewriter.writerow(['餛飩麵', '50'])\n",
    "    filewriter.writerow(['蛋花湯', '25'])\n",
    "    filewriter.writerow(['可樂', '20'])"
   ]
  },
  {
   "cell_type": "markdown",
   "metadata": {
    "slideshow": {
     "slide_type": "subslide"
    }
   },
   "source": [
    "# CSV 介紹\n",
    "# read"
   ]
  },
  {
   "cell_type": "code",
   "execution_count": null,
   "metadata": {
    "slideshow": {
     "slide_type": "fragment"
    }
   },
   "outputs": [],
   "source": [
    "import csv\n",
    " \n",
    "# open file\n",
    "with open('menu.csv', 'r') as f:\n",
    "    reader = csv.reader(f)\n",
    " \n",
    "    # read file row by row\n",
    "    for row in reader:\n",
    "        print(row)\n"
   ]
  },
  {
   "cell_type": "markdown",
   "metadata": {
    "slideshow": {
     "slide_type": "slide"
    }
   },
   "source": [
    "# 課程練習 read Open data\n",
    "... 待補"
   ]
  },
  {
   "cell_type": "markdown",
   "metadata": {
    "slideshow": {
     "slide_type": "slide"
    }
   },
   "source": [
    "# JSON 介紹\n",
    "## 由 javascript 發展而來的輕量資料格式\n",
    "## 最常見的 API 資料格式"
   ]
  },
  {
   "cell_type": "markdown",
   "metadata": {
    "slideshow": {
     "slide_type": "subslide"
    }
   },
   "source": [
    "# JSON 介紹"
   ]
  },
  {
   "cell_type": "markdown",
   "metadata": {
    "slideshow": {
     "slide_type": "fragment"
    }
   },
   "source": [
    "```\n",
    "{ \"name\":\"John\" }\n",
    "```"
   ]
  },
  {
   "cell_type": "markdown",
   "metadata": {
    "slideshow": {
     "slide_type": "fragment"
    }
   },
   "source": [
    "```\n",
    "{ \"age\":30 }\n",
    "```"
   ]
  },
  {
   "cell_type": "markdown",
   "metadata": {
    "slideshow": {
     "slide_type": "fragment"
    }
   },
   "source": [
    "```\n",
    "{ \"employees\":[ \"John\", \"Anna\", \"Peter\" ] }\n",
    "```"
   ]
  },
  {
   "cell_type": "markdown",
   "metadata": {
    "slideshow": {
     "slide_type": "fragment"
    }
   },
   "source": [
    "```\n",
    "{ \"sale\":true }\n",
    "```"
   ]
  },
  {
   "cell_type": "markdown",
   "metadata": {
    "slideshow": {
     "slide_type": "fragment"
    }
   },
   "source": [
    "```\n",
    "{ \"middlename\":null }\n",
    "```"
   ]
  },
  {
   "cell_type": "markdown",
   "metadata": {
    "slideshow": {
     "slide_type": "subslide"
    }
   },
   "source": [
    "# JSON 介紹\n",
    "## 資料型別\n",
    "1. 字串\n",
    "2. 數字\n",
    "3. JSON 物件\n",
    "4. 陣列\n",
    "5. 布林值\n",
    "6. null"
   ]
  },
  {
   "cell_type": "markdown",
   "metadata": {
    "slideshow": {
     "slide_type": "subslide"
    }
   },
   "source": [
    "# JSON 介紹\n",
    "```json\n",
    "{\n",
    "    \"firstName\": \"Jane\",\n",
    "    \"lastName\": \"Doe\",\n",
    "    \"hobbies\": [\"running\", \"sky diving\", \"singing\"],\n",
    "    \"age\": 35,\n",
    "    \"children\": [\n",
    "        {\n",
    "            \"firstName\": \"Alice\",\n",
    "            \"age\": 6\n",
    "        },\n",
    "        {\n",
    "            \"firstName\": \"Bob\",\n",
    "            \"age\": 8\n",
    "        }\n",
    "    ]\n",
    "}\n",
    "```"
   ]
  },
  {
   "cell_type": "markdown",
   "metadata": {
    "slideshow": {
     "slide_type": "subslide"
    }
   },
   "source": [
    "# JSON 介紹\n",
    "## load / dump\n",
    "在檔案與物件間轉換"
   ]
  },
  {
   "cell_type": "code",
   "execution_count": 116,
   "metadata": {
    "slideshow": {
     "slide_type": "subslide"
    }
   },
   "outputs": [
    {
     "name": "stdout",
     "output_type": "stream",
     "text": [
      "Jane\n"
     ]
    }
   ],
   "source": [
    "import json\n",
    "\n",
    "person = {\n",
    "    \"firstName\": \"Jane\",\n",
    "    \"lastName\": \"Doe\",\n",
    "    \"hobbies\": [\"running\", \"sky diving\", \"singing\"],\n",
    "    \"age\": 35,\n",
    "    \"children\": [\n",
    "        {\n",
    "            \"firstName\": \"Alice\",\n",
    "            \"age\": 6\n",
    "        },\n",
    "        {\n",
    "            \"firstName\": \"Bob\",\n",
    "            \"age\": 8\n",
    "        }\n",
    "    ]\n",
    "}\n",
    "\n",
    "with open('person.json', 'w') as f:\n",
    "    json.dump(person, f)\n",
    "\n",
    "with open('person.json', 'r') as f:\n",
    "    person = json.load(f)\n",
    "\n",
    "print(person['firstName'])"
   ]
  },
  {
   "cell_type": "markdown",
   "metadata": {
    "slideshow": {
     "slide_type": "subslide"
    }
   },
   "source": [
    "# JSON 介紹\n",
    "## loads / dumps\n",
    "在字串與物件間轉換"
   ]
  },
  {
   "cell_type": "code",
   "execution_count": 117,
   "metadata": {
    "scrolled": true,
    "slideshow": {
     "slide_type": "subslide"
    }
   },
   "outputs": [
    {
     "name": "stdout",
     "output_type": "stream",
     "text": [
      "{'firstName': 'Jane', 'hobbies': ['running', 'sky diving', 'singing'], 'children': [{'firstName': 'Alice', 'age': 6}, {'firstName': 'Bob', 'age': 8}], 'lastName': 'Doe', 'age': 35}\n",
      "{\n",
      "    \"firstName\": \"Jane\",\n",
      "    \"hobbies\": [\n",
      "        \"running\",\n",
      "        \"sky diving\",\n",
      "        \"singing\"\n",
      "    ],\n",
      "    \"children\": [\n",
      "        {\n",
      "            \"firstName\": \"Alice\",\n",
      "            \"age\": 6\n",
      "        },\n",
      "        {\n",
      "            \"firstName\": \"Bob\",\n",
      "            \"age\": 8\n",
      "        }\n",
      "    ],\n",
      "    \"lastName\": \"Doe\",\n",
      "    \"age\": 35\n",
      "}\n"
     ]
    }
   ],
   "source": [
    "import json\n",
    "\n",
    "with open('person.json') as f:\n",
    "    person = json.load(f)\n",
    "    print(person)\n",
    "    print(json.dumps(person, indent=4))"
   ]
  },
  {
   "cell_type": "code",
   "execution_count": 118,
   "metadata": {
    "scrolled": true,
    "slideshow": {
     "slide_type": "subslide"
    }
   },
   "outputs": [
    {
     "name": "stdout",
     "output_type": "stream",
     "text": [
      "{'firstName': 'Jane', 'hobbies': ['running', 'sky diving', 'singing'], 'children': [{'firstName': 'Alice', 'age': 6}, {'firstName': 'Bob', 'age': 8}], 'lastName': 'Doe', 'age': 35}\n"
     ]
    }
   ],
   "source": [
    "person_json_str = '{\"firstName\": \"Jane\", \"hobbies\": [\"running\", \"sky diving\", \"singing\"], \"children\": [{\"firstName\": \"Alice\", \"age\": 6}]}'\n",
    "person_from_str = json.loads(person_json_str)\n",
    "print(person)"
   ]
  },
  {
   "cell_type": "markdown",
   "metadata": {
    "slideshow": {
     "slide_type": "slide"
    }
   },
   "source": [
    "# 課程練習 - 處理 Open data: 獨立音樂展演\n",
    "1. 下載獨立音樂展演公開資料的JSON格式： https://data.gov.tw/dataset/6006\n",
    "2. 讀入檔案之後利用 json.dumps 將資料處理成可讀性較佳的字串印出\n",
    "3. 比照資料網頁上的欄位說明，你可以看懂這份資料了嗎？\n"
   ]
  },
  {
   "cell_type": "markdown",
   "metadata": {
    "slideshow": {
     "slide_type": "slide"
    }
   },
   "source": [
    "# 延伸閱讀\n",
    "1. https://docs.python.org/3.6/tutorial/inputoutput.html#reading-and-writing-files\n",
    "2. https://blog.gtwang.org/programming/python-with-context-manager-tutorial/\n",
    "3. https://realpython.com/python-json/\n",
    "4. https://docs.python.org/3/library/json.html\n",
    "5. http://www.pythonforbeginners.com/api/python-api-and-json\n",
    "6. https://pythonspot.com/json-encoding-and-decoding-with-python/\n",
    "7. http://www.pythonforbeginners.com/csv/using-the-csv-module-in-python\n",
    "8. https://docs.python.org/3.4/library/csv.html\n",
    "9. https://pythonspot.com/reading-csv-files-in-python/\n",
    "10. https://pythonspot.com/files-spreadsheets-csv/"
   ]
  }
 ],
 "metadata": {
  "celltoolbar": "Slideshow",
  "kernelspec": {
   "display_name": "Python 3",
   "language": "python",
   "name": "python3"
  },
  "language_info": {
   "codemirror_mode": {
    "name": "ipython",
    "version": 3
   },
   "file_extension": ".py",
   "mimetype": "text/x-python",
   "name": "python",
   "nbconvert_exporter": "python",
   "pygments_lexer": "ipython3",
   "version": "3.5.2"
  }
 },
 "nbformat": 4,
 "nbformat_minor": 2
}
