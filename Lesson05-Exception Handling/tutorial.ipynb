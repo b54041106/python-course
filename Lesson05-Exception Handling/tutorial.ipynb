{
 "cells": [
  {
   "cell_type": "markdown",
   "metadata": {
    "slideshow": {
     "slide_type": "slide"
    }
   },
   "source": [
    "# <center>如何看懂 error message</center>"
   ]
  },
  {
   "cell_type": "code",
   "execution_count": 1,
   "metadata": {
    "slideshow": {
     "slide_type": "subslide"
    }
   },
   "outputs": [
    {
     "ename": "IndexError",
     "evalue": "list index out of range",
     "output_type": "error",
     "traceback": [
      "\u001b[0;31m---------------------------------------------------------------------------\u001b[0m",
      "\u001b[0;31mIndexError\u001b[0m                                Traceback (most recent call last)",
      "\u001b[0;32m<ipython-input-1-81dea4707d14>\u001b[0m in \u001b[0;36m<module>\u001b[0;34m()\u001b[0m\n\u001b[1;32m      2\u001b[0m \u001b[0;34m\u001b[0m\u001b[0m\n\u001b[1;32m      3\u001b[0m \u001b[0ma\u001b[0m \u001b[0;34m=\u001b[0m \u001b[0;34m[\u001b[0m\u001b[0;36m123\u001b[0m\u001b[0;34m,\u001b[0m \u001b[0;36m345\u001b[0m\u001b[0;34m,\u001b[0m \u001b[0;36m789\u001b[0m\u001b[0;34m]\u001b[0m\u001b[0;34m\u001b[0m\u001b[0m\n\u001b[0;32m----> 4\u001b[0;31m \u001b[0mprint\u001b[0m\u001b[0;34m(\u001b[0m\u001b[0ma\u001b[0m\u001b[0;34m[\u001b[0m\u001b[0;36m3\u001b[0m\u001b[0;34m]\u001b[0m\u001b[0;34m)\u001b[0m\u001b[0;34m\u001b[0m\u001b[0m\n\u001b[0m",
      "\u001b[0;31mIndexError\u001b[0m: list index out of range"
     ]
    }
   ],
   "source": [
    "%reset -f\n",
    "\n",
    "a = [123, 345, 789]\n",
    "print(a[3])"
   ]
  },
  {
   "cell_type": "markdown",
   "metadata": {
    "slideshow": {
     "slide_type": "-"
    }
   },
   "source": [
    "從上面的錯誤訊息來解釋他是什麼意思吧！"
   ]
  },
  {
   "cell_type": "markdown",
   "metadata": {
    "slideshow": {
     "slide_type": "subslide"
    }
   },
   "source": [
    "## 1. Exception 的名字 -- `IndexError`\n",
    "## 2. scope -- `in xxx()`\n",
    "告訴你那些問題在哪裡被發現的\n",
    "\n",
    "```\n",
    "---------------------------------------------------------------------------\n",
    "IndexError                                Traceback (most recent call last)\n",
    "<ipython-input-39-166bda074163> in <module>()\n",
    "      1 a = [123, 345, 789]\n",
    "----> 2 print(a[3])\n",
    "\n",
    "IndexError: list index out of range\n",
    "```"
   ]
  },
  {
   "cell_type": "markdown",
   "metadata": {
    "slideshow": {
     "slide_type": "subslide"
    }
   },
   "source": [
    "## 3. Traceback\n",
    "告訴你程式經歷了哪些大風大浪才死去"
   ]
  },
  {
   "cell_type": "code",
   "execution_count": null,
   "metadata": {
    "slideshow": {
     "slide_type": "subslide"
    }
   },
   "outputs": [],
   "source": [
    "# run me!\n",
    "%reset -f\n",
    "\n",
    "def func_a(i):\n",
    "    num[i]\n",
    "    func_b(i+1)\n",
    "    \n",
    "def func_b(i):\n",
    "    num[i]\n",
    "\n",
    "num = [1, 2]\n",
    "func_a(1)"
   ]
  },
  {
   "cell_type": "markdown",
   "metadata": {
    "slideshow": {
     "slide_type": "slide"
    }
   },
   "source": [
    "# <center>Exception 是什麼</center>\n",
    "\n",
    "* 什麼是 catch? 什麼是 raise(有些程式語言會叫做 throw，兩者是相同的)"
   ]
  },
  {
   "cell_type": "markdown",
   "metadata": {
    "slideshow": {
     "slide_type": "subslide"
    }
   },
   "source": [
    "## <center>現實生活中的例子</center>\n",
    "\n",
    "![](https://i.imgur.com/e4Djycn.jpg)"
   ]
  },
  {
   "cell_type": "markdown",
   "metadata": {},
   "source": [
    "* catch 很簡單就是把 exception 抓住而已\n",
    "* raise 比較複雜，意思是 丟出一個 exception 給別人接\n",
    "    這有兩種可能，第一個是自己處理不完所有的事情，再往外丟（原本就已經在 exception 裡面了）\n",
    "    第二個是直接丟一個 exception 出去（原本不是在 exception 裡面）"
   ]
  },
  {
   "cell_type": "markdown",
   "metadata": {
    "slideshow": {
     "slide_type": "subslide"
    }
   },
   "source": [
    "## <center>Exception 的種類</center>\n",
    "<img src=\"https://i.imgur.com/jNBRc30.jpg\" style=\"float:right\"></img>\n",
    "有很多，而且有分層\n",
    "    \n",
    "常見的 Exception:\n",
    "* ValueError\n",
    "* NameError\n",
    "* IndexError\n",
    "* KeyError\n",
    "* SyntaxError\n",
    "      "
   ]
  },
  {
   "cell_type": "markdown",
   "metadata": {
    "slideshow": {
     "slide_type": "slide"
    }
   },
   "source": [
    "# <center>為什麼我們需要 Exception</center>\n",
    "\n",
    "* 為了要在產生非預期的動作（或值）時**提醒**我們要處理這些東西\n",
    "* 比較好 debug\n",
    "* 現實生活中的例子：小明買醬油的故事\n",
    "* 程式方面的例子：在 `raise` 的地方會提到\n"
   ]
  },
  {
   "cell_type": "markdown",
   "metadata": {
    "slideshow": {
     "slide_type": "notes"
    }
   },
   "source": [
    "## 小明買醬油的故事\n",
    "\n",
    "媽媽叫小明去買醬油。\n",
    "\n",
    "小明去了超市後發現沒有醬油，就直接回家跟媽媽講說沒有醬油後就直接回房間了。\n",
    "\n",
    "到了晚餐時間前，媽媽要煮飯才發現少了醬油。\n",
    "\n",
    "---------------------\n",
    "\n",
    "如果我們有 exception 呢？\n",
    "\n",
    "小明會在超市打電話問媽媽說沒醬油了，媽媽讓他買其他東西來代替醬油。\n",
    "\n",
    "到了晚餐時間，媽媽沒有發現任何問題。\n",
    "\n",
    "---------------------\n",
    "\n",
    "差別：\n",
    "\n",
    "沒有 exception 的話，小明只會跟媽媽說沒有醬油\n",
    "\n",
    "有 exception 的話，小明會**提醒**媽媽沒有醬油，是不是要買其他東西"
   ]
  },
  {
   "cell_type": "markdown",
   "metadata": {
    "slideshow": {
     "slide_type": "slide"
    }
   },
   "source": [
    "# <center>為什麼我們需要 Exception Handling</center>\n",
    "\n",
    "## 用途\n",
    "* 易讀性，減少累贅的判斷式\n",
    "\n",
    "* 預期中會產生的錯誤，但是不希望程式中止\n",
    "    * 像是媽媽預期醬油可能會賣完，所以就先跟小明說如果醬油賣完應該要怎麼處理\n",
    "    * 這樣小明就不用打電話回家了\n",
    "    \n"
   ]
  },
  {
   "cell_type": "markdown",
   "metadata": {
    "slideshow": {
     "slide_type": "subslide"
    }
   },
   "source": [
    "# <center> ------------------------------------休息！-------------------------------</center>\n",
    "* 10 分鐘"
   ]
  },
  {
   "cell_type": "markdown",
   "metadata": {
    "slideshow": {
     "slide_type": "slide"
    }
   },
   "source": [
    "# <center>遇到 Exception 之後...</center>\n",
    "\n",
    "## 語法\n",
    "* try....except...else\n",
    "* try....except as e\n",
    "* finally\n",
    "* raise"
   ]
  },
  {
   "cell_type": "markdown",
   "metadata": {
    "slideshow": {
     "slide_type": "subslide"
    }
   },
   "source": [
    "* ## try...except...else\n",
    "最基本的語法\n",
    "```\n",
    "try:\n",
    "    # do something\n",
    "except Exception:\n",
    "    # do something\n",
    "else:\n",
    "    # if no exception happens\n",
    "```"
   ]
  },
  {
   "cell_type": "code",
   "execution_count": null,
   "metadata": {
    "slideshow": {
     "slide_type": "subslide"
    }
   },
   "outputs": [],
   "source": [
    "# run me!\n",
    "%reset -f\n",
    "\n",
    "try:\n",
    "    num = x\n",
    "except NameError:\n",
    "    print(\"error!\")\n",
    "else:\n",
    "    print(\"no exception!\")"
   ]
  },
  {
   "cell_type": "markdown",
   "metadata": {
    "slideshow": {
     "slide_type": "subslide"
    }
   },
   "source": [
    "* ## try...except as e\n",
    "e 會是抓到的那個 exception 的 class"
   ]
  },
  {
   "cell_type": "code",
   "execution_count": null,
   "metadata": {
    "slideshow": {
     "slide_type": "-"
    }
   },
   "outputs": [],
   "source": [
    "# run me!\n",
    "%reset -f\n",
    "\n",
    "try:\n",
    "    num = x\n",
    "except NameError as e:\n",
    "    print(e)\n",
    "    # print(type(e))"
   ]
  },
  {
   "cell_type": "markdown",
   "metadata": {
    "slideshow": {
     "slide_type": "subslide"
    }
   },
   "source": [
    "* ## 多個 exception"
   ]
  },
  {
   "cell_type": "code",
   "execution_count": null,
   "metadata": {
    "slideshow": {
     "slide_type": "-"
    }
   },
   "outputs": [],
   "source": [
    "# run me!\n",
    "%reset -f\n",
    "\n",
    "a = [1, 2, 3]\n",
    "try:\n",
    "    a[100]\n",
    "    num = x\n",
    "except NameError as e:\n",
    "    print(\"I'm in NameError! \")\n",
    "    print(e)\n",
    "except IndexError as e:\n",
    "    print(\"I'm in IndexError!\" )\n",
    "    print(e)\n",
    "else:\n",
    "    print(\"I'm in else!\")"
   ]
  },
  {
   "cell_type": "markdown",
   "metadata": {
    "slideshow": {
     "slide_type": "subslide"
    }
   },
   "source": [
    "### 另一種寫法\n",
    "(把 a[100] 和 num = x 互換看看)"
   ]
  },
  {
   "cell_type": "code",
   "execution_count": null,
   "metadata": {
    "slideshow": {
     "slide_type": "-"
    }
   },
   "outputs": [],
   "source": [
    "%reset -f\n",
    "\n",
    "a = [1,2,3]\n",
    "try:\n",
    "    num = x\n",
    "    a[100]\n",
    "except (NameError, IndexError) as e:\n",
    "    print(e)"
   ]
  },
  {
   "cell_type": "markdown",
   "metadata": {
    "slideshow": {
     "slide_type": "subslide"
    }
   },
   "source": [
    "* ## finally\n",
    "不論是否產生 exception, 一定會被執行到的區塊"
   ]
  },
  {
   "cell_type": "code",
   "execution_count": null,
   "metadata": {
    "slideshow": {
     "slide_type": "-"
    }
   },
   "outputs": [],
   "source": [
    "%reset -f\n",
    "\n",
    "try:\n",
    "    print(\"hello!\")\n",
    "    x = a\n",
    "except Exception as e:\n",
    "    print(e)\n",
    "finally:\n",
    "    print(\"I'm in finally!\")\n",
    "    \n",
    "# what if I delete the \"finally\"?"
   ]
  },
  {
   "cell_type": "markdown",
   "metadata": {
    "slideshow": {
     "slide_type": "subslide"
    }
   },
   "source": [
    "### 為什麼需要 finally?\n",
    "\n",
    "比較這兩種程式碼：\n",
    "```\n",
    "try:\n",
    "    print(\"hello\")\n",
    "except:\n",
    "    print(\"in exception\")\n",
    "    return\n",
    "# do something\n",
    "```\n",
    "-------------------\n",
    "\n",
    "```\n",
    "try:\n",
    "    print(\"hello\")\n",
    "except:\n",
    "    print(\"in exception\")\n",
    "    return\n",
    "finally:\n",
    "    # do something\n",
    "```"
   ]
  },
  {
   "cell_type": "markdown",
   "metadata": {
    "slideshow": {
     "slide_type": "subslide"
    }
   },
   "source": [
    "### 實際上來操作一次"
   ]
  },
  {
   "cell_type": "code",
   "execution_count": null,
   "metadata": {
    "slideshow": {
     "slide_type": "-"
    }
   },
   "outputs": [],
   "source": [
    "# run me!\n",
    "%reset -f\n",
    "\n",
    "def func():\n",
    "    try:\n",
    "        print(\"I'm in try block!\")\n",
    "        a = b\n",
    "    except:\n",
    "        print(\"I'm in except block!\")\n",
    "        return\n",
    "    #finally:\n",
    "    print(\"do something\")\n",
    "        \n",
    "func()"
   ]
  },
  {
   "cell_type": "markdown",
   "metadata": {
    "slideshow": {
     "slide_type": "subslide"
    }
   },
   "source": [
    "* ## raise\n",
    "丟出一個 exception 給別人接"
   ]
  },
  {
   "cell_type": "markdown",
   "metadata": {
    "slideshow": {
     "slide_type": "subslide"
    }
   },
   "source": [
    "* 沒有使用 raise 的時候"
   ]
  },
  {
   "cell_type": "code",
   "execution_count": null,
   "metadata": {
    "slideshow": {
     "slide_type": "-"
    }
   },
   "outputs": [],
   "source": [
    "# run me!\n",
    "%reset -f\n",
    "\n",
    "def calc(a, b):\n",
    "    if b == 0:\n",
    "        print(\"divisor cannot be zero!\")\n",
    "        return\n",
    "    return a/b\n",
    "\n",
    "num = calc(1,0)\n",
    "print(num)    "
   ]
  },
  {
   "cell_type": "markdown",
   "metadata": {
    "slideshow": {
     "slide_type": "subslide"
    }
   },
   "source": [
    "* 使用 raise 的時候"
   ]
  },
  {
   "cell_type": "code",
   "execution_count": null,
   "metadata": {
    "slideshow": {
     "slide_type": "-"
    }
   },
   "outputs": [],
   "source": [
    "# run me!\n",
    "%reset -f\n",
    "\n",
    "def calc(a, b):\n",
    "    if b == 0:\n",
    "        raise ValueError(\"divisor cannot be zero!\")\n",
    "    return a/b\n",
    "\n",
    "num = calc(1,0)\n",
    "print(num)"
   ]
  },
  {
   "cell_type": "markdown",
   "metadata": {
    "slideshow": {
     "slide_type": "subslide"
    }
   },
   "source": [
    "# <center>-----------------------------休息+練習時間--------------------------------</center>\n",
    "* 題目（按難度分）\n",
    "    1. 寫一個 function，需要 raise exception\n",
    "    2. 實做 **小明買醬油** 的故事\n",
    "    3. file I/O\n",
    "* 40 分鐘"
   ]
  },
  {
   "cell_type": "markdown",
   "metadata": {
    "slideshow": {
     "slide_type": "subslide"
    }
   },
   "source": [
    "## 第二題的範例"
   ]
  },
  {
   "cell_type": "code",
   "execution_count": null,
   "metadata": {
    "slideshow": {
     "slide_type": "-"
    }
   },
   "outputs": [],
   "source": [
    "%reset -f\n",
    "\n",
    "import random\n",
    "item_in_shop = {\"soybean_sauce\": 0, \"milk\": 4, \"salt\": 10, \"soybean_milk\": 3}\n",
    "items = [item for item in item_in_shop.keys()]\n",
    "cnt = 5\n",
    "\n",
    "def buy(item):\n",
    "    # 如果東西數量是 0 就必須 raise Exception\n",
    "    # 否則就把數量減 1 \n",
    "\n",
    "# 買五個隨機的東西\n",
    "while cnt:\n",
    "    cnt -= 1\n",
    "    index = random.randint(0,3)\n",
    "    item = items[index]\n",
    "    \n",
    "    # 想要買的東西是 item，利用 buy() 來買東西，記得用 try...except 包起來\n",
    " "
   ]
  },
  {
   "cell_type": "markdown",
   "metadata": {
    "slideshow": {
     "slide_type": "subslide"
    }
   },
   "source": [
    "### 練習三 file I/O\n",
    "\n",
    "* 讀檔案裡面的數字，再寫入新的數字（舊+1）\n",
    "* **如果一開始檔案不存在，則創建檔案再寫入1**\n",
    "\n",
    "記得用 exception 寫"
   ]
  },
  {
   "cell_type": "markdown",
   "metadata": {
    "slideshow": {
     "slide_type": "subslide"
    }
   },
   "source": [
    "## 可能會用到的 api 和他的用法（有興趣可以參考[這裡](https://docs.python.org/3/tutorial/inputoutput.html))\n",
    "* 開啟檔案\n",
    "    * file = open(fileName, mode)\n",
    "    * mode 如果是 `r` 代表只能讀，`w` 代表只能寫，`r+`代表讀寫\n",
    "    * fileName 就是檔案名稱\n",
    "    \n",
    "* 清空檔案\n",
    "    * file.seek(0) 可以把內容清空\n",
    "    \n",
    "* 寫入\n",
    "    * file.write(something)\n",
    "    \n",
    "* 讀內容\n",
    "    * file.read()\n",
    "    \n",
    "* 關閉檔案\n",
    "    * file.close()"
   ]
  },
  {
   "cell_type": "markdown",
   "metadata": {
    "slideshow": {
     "slide_type": "subslide"
    }
   },
   "source": [
    "## 參考解答 1"
   ]
  },
  {
   "cell_type": "markdown",
   "metadata": {
    "slideshow": {
     "slide_type": "subslide"
    }
   },
   "source": [
    "## 參考解答 2 "
   ]
  },
  {
   "cell_type": "markdown",
   "metadata": {
    "slideshow": {
     "slide_type": "subslide"
    }
   },
   "source": [
    "## 參考解答3"
   ]
  },
  {
   "cell_type": "markdown",
   "metadata": {
    "slideshow": {
     "slide_type": "slide"
    }
   },
   "source": [
    "# <center>自定義 Exception</center>\n",
    "\n",
    "需要定義一個新的 class\n",
    "* 繼承 Exception\n",
    "* Override 兩個函式\n",
    "    1. `__init__(self, value)`\n",
    "        用來初始化\n",
    "    2. `__str__(self)`\n",
    "        用來印出內容"
   ]
  },
  {
   "cell_type": "markdown",
   "metadata": {
    "slideshow": {
     "slide_type": "subslide"
    }
   },
   "source": [
    "### 做一次看看吧！"
   ]
  },
  {
   "cell_type": "code",
   "execution_count": null,
   "metadata": {
    "slideshow": {
     "slide_type": "-"
    }
   },
   "outputs": [],
   "source": [
    "# run me!\n",
    "class MyException(Exception):\n",
    "    def __init__(self, value):\n",
    "        self.value = value\n",
    "    def __str__(self):\n",
    "        return self.value\n",
    "\n",
    "try:\n",
    "    raise MyException(\"I'm an exception message!\")\n",
    "except MyException as e:\n",
    "    print(\"---encountered MyEception---\")\n",
    "    print(e)"
   ]
  },
  {
   "cell_type": "markdown",
   "metadata": {
    "slideshow": {
     "slide_type": "subslide"
    }
   },
   "source": [
    "## 練習\n",
    "\n",
    "### 解釋\n",
    "\n",
    "* 三個數值：飢餓度，口渴度，開心度\n",
    "\n",
    "* 有三個動作，分別會消耗一些數值\n",
    "    * play\n",
    "    * eat\n",
    "    * drink\n",
    "    \n",
    "* 需要三個 exception，分別是 \n",
    "    * HungryException\n",
    "    * ThirstyException\n",
    "    * BoredException\n",
    "\n",
    "\n",
    "### 目標\n",
    "1. 定義出這三種不同的 exception\n",
    "2. 決定哪時候應該要 raise 哪個 exception\n",
    "3. 決定遇到 exception 時的處理方式\n",
    "    \n",
    "    "
   ]
  },
  {
   "cell_type": "code",
   "execution_count": null,
   "metadata": {
    "slideshow": {
     "slide_type": "subslide"
    }
   },
   "outputs": [],
   "source": [
    "import random\n",
    "\n",
    "# TODO: define exceptions\n",
    "    \n",
    "def play(man):\n",
    "    print(\"------------------> I'm going to play!\")\n",
    "    # TODO: need to raise excpetion?\n",
    "    man[\"hunger\"] -= 10\n",
    "    man[\"water\"] -= 12\n",
    "    man[\"mood\"] += 5\n",
    "def eat(man):\n",
    "    print(\"------------------> I'm going to eat!\")\n",
    "    # TODO: need to raise excpetion?\n",
    "    man[\"hunger\"] += 5\n",
    "def drink(man):\n",
    "    print(\"------------------> I'm going to drink!\")\n",
    "    # TODO: need to raise excpetion?\n",
    "    man[\"water\"] += 5\n",
    "    \n",
    "actionList = [play, eat, drink]\n",
    "    \n",
    "child = {\"hunger\": 30, \"water\": 30, \"mood\": 30}\n",
    "cnt = 10\n",
    "\n",
    "while cnt:\n",
    "    cnt -= 1\n",
    "    rand = random.randint(0,2)\n",
    "    try:\n",
    "        actionList[rand](child)\n",
    "        print(\"status: {}\".format(child))\n",
    "    except HungryException as e:\n",
    "        print(e)\n",
    "        # TODO: what should you do?\n",
    "    except ThirstyException as e:\n",
    "        print(e)\n",
    "        # TODO: what should you do?\n",
    "    except BoredException as e:\n",
    "        print(e)\n",
    "        # TODO: what should you do?\n",
    "    \n"
   ]
  },
  {
   "cell_type": "markdown",
   "metadata": {
    "slideshow": {
     "slide_type": "subslide"
    }
   },
   "source": [
    "## 解答"
   ]
  },
  {
   "cell_type": "markdown",
   "metadata": {
    "slideshow": {
     "slide_type": "subslide"
    }
   },
   "source": [
    "## 回家作業\n",
    "* 20 分鐘\n",
    "\n",
    "參考墜樓的故事，把故事敘述用程式碼表達\n",
    "\n",
    "```\n",
    "小明在 106 樓看風景，不小心腳一滑從 106 樓掉下去。\n",
    "\n",
    "這時候會觸發大樓的安全機關（FallDownException)，但是因為小明太胖了所以第一層安全機關會被突破。\n",
    "\n",
    "好險大樓還有第二層安全機關（FallDownStrongerException)，終於把小明接住了，可喜可賀\n",
    "\n",
    "小明不用墜樓了，程式碼也不用死掉了！\n",
    "```\n",
    "\n",
    "定義兩個 exception，分別是\n",
    "* FallDownException(Exception)\n",
    "* FallDownStrongerException(Exception)\n",
    "\n",
    "定義一個函式\n",
    "* slip(floor)\n",
    "    * 小明必須要在第 80 樓觸發 FallDownException, 在第 5 樓觸發 FallDownStrongerException\n",
    "    * 觸發時記得要印出： 在 xx 樓被接住了！\n",
    "   \n",
    "在每層樓都要印出`現在在 xx 樓`，最後可能會看到的輸出長這樣\n",
    "\n",
    "```\n",
    "現在在 105 樓\n",
    "現在在 104 樓\n",
    "....（略）\n",
    "在 80 樓被接住了！\n",
    "突破機關！\n",
    "....（略）\n",
    "現在在 5 樓\n",
    "在 5 樓被接住了！\n",
    "安全！\n",
    "```"
   ]
  },
  {
   "cell_type": "markdown",
   "metadata": {
    "slideshow": {
     "slide_type": "subslide"
    }
   },
   "source": [
    "## 範例（把所有 TODO 解掉）"
   ]
  },
  {
   "cell_type": "code",
   "execution_count": null,
   "metadata": {
    "slideshow": {
     "slide_type": "-"
    }
   },
   "outputs": [],
   "source": [
    "# TODO: 按照敘述定義出兩個 Exception\n",
    "    \n",
    "def slip(floor):\n",
    "    try:\n",
    "        while floor:\n",
    "            floor -= 1\n",
    "            print(\"現在在 {} 樓\".format(floor))\n",
    "\n",
    "            if floor == 80:\n",
    "                # TODO: 要 raise 一個 exception\n",
    "                \n",
    "    except '''TODO: 要用一個 exception 接''' as e:\n",
    "        print(e)\n",
    "        print(\"突破機關！\")\n",
    "        while floor:\n",
    "            floor -= 1\n",
    "            print(\"現在在 {} 樓\".format(floor))\n",
    "            \n",
    "            if floor == 5:\n",
    "                # TODO: 要 raise 一個 exception\n",
    "     \n",
    "# TODO: 用 try...except 把 slip(106) 包起來\n",
    "slip(106)"
   ]
  },
  {
   "cell_type": "markdown",
   "metadata": {
    "slideshow": {
     "slide_type": "subslide"
    }
   },
   "source": [
    "## 參考答案"
   ]
  },
  {
   "cell_type": "markdown",
   "metadata": {
    "slideshow": {
     "slide_type": "slide"
    }
   },
   "source": [
    "# 檔案的讀寫\n",
    "# Reading and Writing Files"
   ]
  },
  {
   "cell_type": "markdown",
   "metadata": {
    "slideshow": {
     "slide_type": "fragment"
    }
   },
   "source": [
    "1. File 基本操作\n",
    "2. csv 介紹\n",
    "3. json 介紹"
   ]
  },
  {
   "cell_type": "markdown",
   "metadata": {
    "slideshow": {
     "slide_type": "slide"
    }
   },
   "source": [
    "# File 基本操作\n",
    "## open / close"
   ]
  },
  {
   "cell_type": "markdown",
   "metadata": {
    "slideshow": {
     "slide_type": "subslide"
    }
   },
   "source": [
    "# File 基本操作\n",
    "## read/ readline/ readlines"
   ]
  },
  {
   "cell_type": "markdown",
   "metadata": {
    "slideshow": {
     "slide_type": "subslide"
    }
   },
   "source": [
    "# File 基本操作\n",
    "## write"
   ]
  },
  {
   "cell_type": "markdown",
   "metadata": {
    "slideshow": {
     "slide_type": "subslide"
    }
   },
   "source": [
    "# File 基本操作\n",
    "## tell"
   ]
  },
  {
   "cell_type": "markdown",
   "metadata": {
    "slideshow": {
     "slide_type": "subslide"
    }
   },
   "source": [
    "# File 基本操作\n",
    "## seek"
   ]
  },
  {
   "cell_type": "markdown",
   "metadata": {
    "slideshow": {
     "slide_type": "subslide"
    }
   },
   "source": [
    "# File 基本操作\n",
    "## with"
   ]
  },
  {
   "cell_type": "markdown",
   "metadata": {
    "slideshow": {
     "slide_type": "subslide"
    }
   },
   "source": [
    "# 課程練習-筆記程式"
   ]
  },
  {
   "cell_type": "markdown",
   "metadata": {
    "slideshow": {
     "slide_type": "slide"
    }
   },
   "source": [
    "# CSV 介紹\n",
    "## ‘comma seperate value’ file\n",
    "## 最常見的表單格式\n",
    "表格\n",
    "純文字顯示\n",
    "字串"
   ]
  },
  {
   "cell_type": "markdown",
   "metadata": {
    "slideshow": {
     "slide_type": "subslide"
    }
   },
   "source": [
    "# CSV 介紹\n",
    "# read"
   ]
  },
  {
   "cell_type": "markdown",
   "metadata": {
    "slideshow": {
     "slide_type": "subslide"
    }
   },
   "source": [
    "# CSV 介紹\n",
    "# write"
   ]
  },
  {
   "cell_type": "markdown",
   "metadata": {
    "slideshow": {
     "slide_type": "subslide"
    }
   },
   "source": [
    "# 課程練習 Open data clean"
   ]
  },
  {
   "cell_type": "markdown",
   "metadata": {
    "slideshow": {
     "slide_type": "slide"
    }
   },
   "source": [
    "# JSON 介紹\n",
    "## 由 javascript 發展而來的輕量資料格式\n",
    "## 最常見的 API 資料格式"
   ]
  },
  {
   "cell_type": "markdown",
   "metadata": {
    "slideshow": {
     "slide_type": "subslide"
    }
   },
   "source": [
    "# JSON 介紹"
   ]
  },
  {
   "cell_type": "markdown",
   "metadata": {
    "slideshow": {
     "slide_type": "fragment"
    }
   },
   "source": [
    "{ \"name\":\"John\" }"
   ]
  },
  {
   "cell_type": "markdown",
   "metadata": {
    "slideshow": {
     "slide_type": "fragment"
    }
   },
   "source": [
    "{ \"age\":30 }"
   ]
  },
  {
   "cell_type": "markdown",
   "metadata": {
    "slideshow": {
     "slide_type": "fragment"
    }
   },
   "source": [
    "{ \"employees\":[ \"John\", \"Anna\", \"Peter\" ] }"
   ]
  },
  {
   "cell_type": "markdown",
   "metadata": {
    "slideshow": {
     "slide_type": "fragment"
    }
   },
   "source": [
    "{ \"sale\":true }"
   ]
  },
  {
   "cell_type": "markdown",
   "metadata": {
    "slideshow": {
     "slide_type": "fragment"
    }
   },
   "source": [
    "{ \"middlename\":null }"
   ]
  },
  {
   "cell_type": "markdown",
   "metadata": {
    "slideshow": {
     "slide_type": "subslide"
    }
   },
   "source": [
    "# JSON 介紹\n",
    "## 資料型別\n",
    "1. 字串\n",
    "2. 數字\n",
    "3. JSON 物件\n",
    "4. 陣列\n",
    "5. 布林值\n",
    "6. null"
   ]
  },
  {
   "cell_type": "markdown",
   "metadata": {
    "slideshow": {
     "slide_type": "subslide"
    }
   },
   "source": [
    "# JSON 介紹\n",
    "{\n",
    "    \"firstName\": \"Jane\",\n",
    "    \"lastName\": \"Doe\",\n",
    "    \"hobbies\": [\"running\", \"sky diving\", \"singing\"],\n",
    "    \"age\": 35,\n",
    "    \"children\": [\n",
    "        {\n",
    "            \"firstName\": \"Alice\",\n",
    "            \"age\": 6\n",
    "        },\n",
    "        {\n",
    "            \"firstName\": \"Bob\",\n",
    "            \"age\": 8\n",
    "        }\n",
    "    ]\n",
    "}"
   ]
  },
  {
   "cell_type": "markdown",
   "metadata": {
    "slideshow": {
     "slide_type": "fragment"
    }
   },
   "source": [
    "# JSON 介紹\n",
    "## load / dump"
   ]
  },
  {
   "cell_type": "markdown",
   "metadata": {
    "slideshow": {
     "slide_type": "subslide"
    }
   },
   "source": [
    "# JSON 介紹\n",
    "## loads / dumps"
   ]
  },
  {
   "cell_type": "markdown",
   "metadata": {
    "slideshow": {
     "slide_type": "subslide"
    }
   },
   "source": [
    "# 課程練習 Open data: 獨立音樂展演\n",
    "pretty print\n",
    "https://data.gov.tw/dataset/6006"
   ]
  },
  {
   "cell_type": "markdown",
   "metadata": {
    "slideshow": {
     "slide_type": "subslide"
    }
   },
   "source": [
    "# 延伸閱讀\n",
    "1. https://docs.python.org/3.6/tutorial/inputoutput.html#reading-and-writing-files\n",
    "2. https://blog.gtwang.org/programming/python-with-context-manager-tutorial/\n",
    "3. https://realpython.com/python-json/\n",
    "4. https://docs.python.org/3/library/json.html\n",
    "5. http://www.pythonforbeginners.com/api/python-api-and-json\n",
    "6. https://pythonspot.com/json-encoding-and-decoding-with-python/\n",
    "7. http://www.pythonforbeginners.com/csv/using-the-csv-module-in-python\n",
    "8. https://docs.python.org/3.4/library/csv.html\n",
    "9. https://pythonspot.com/reading-csv-files-in-python/\n",
    "10. https://pythonspot.com/files-spreadsheets-csv/"
   ]
  },
  {
   "cell_type": "markdown",
   "metadata": {
    "slideshow": {
     "slide_type": "slide"
    }
   },
   "source": [
    "# 字串處理\n",
    "# String"
   ]
  },
  {
   "cell_type": "markdown",
   "metadata": {
    "slideshow": {
     "slide_type": "subslide"
    }
   },
   "source": [
    "1. String 基本操作\n",
    "2. 結合 File 和 String 的練習 (formated print file & calculator)"
   ]
  },
  {
   "cell_type": "markdown",
   "metadata": {
    "slideshow": {
     "slide_type": "slide"
    }
   },
   "source": [
    "# String 基本操作"
   ]
  },
  {
   "cell_type": "code",
   "execution_count": 15,
   "metadata": {
    "slideshow": {
     "slide_type": "fragment"
    }
   },
   "outputs": [
    {
     "name": "stdout",
     "output_type": "stream",
     "text": [
      "I am learning Python\n"
     ]
    }
   ],
   "source": [
    "# single quote\n",
    "str = 'I am learning Python'\n",
    "print(str)"
   ]
  },
  {
   "cell_type": "code",
   "execution_count": 70,
   "metadata": {
    "slideshow": {
     "slide_type": "fragment"
    }
   },
   "outputs": [
    {
     "name": "stdout",
     "output_type": "stream",
     "text": [
      "I am learning Python\n"
     ]
    }
   ],
   "source": [
    "# double quote\n",
    "str = \"I am learning Python\"\n",
    "print(str)"
   ]
  },
  {
   "cell_type": "code",
   "execution_count": 81,
   "metadata": {},
   "outputs": [
    {
     "name": "stdout",
     "output_type": "stream",
     "text": [
      "m\n",
      "I a\n"
     ]
    }
   ],
   "source": [
    "str = 'I am learning Python'\n",
    "print(str[3])\n",
    "print(str[:3])"
   ]
  },
  {
   "cell_type": "code",
   "execution_count": 19,
   "metadata": {
    "slideshow": {
     "slide_type": "fragment"
    }
   },
   "outputs": [
    {
     "name": "stdout",
     "output_type": "stream",
     "text": [
      "I'm learning Python\n"
     ]
    }
   ],
   "source": [
    "# wrong: 'I'm learning Python'\n",
    "str = \"I'm learning Python\"\n",
    "print(str)"
   ]
  },
  {
   "cell_type": "code",
   "execution_count": 23,
   "metadata": {
    "slideshow": {
     "slide_type": "fragment"
    }
   },
   "outputs": [
    {
     "name": "stdout",
     "output_type": "stream",
     "text": [
      "\n",
      "I'm learning Python\n",
      "You are learning Python\n",
      "We are learning Python\n",
      "\n"
     ]
    }
   ],
   "source": [
    "str = \"\"\"\n",
    "I'm learning Python\n",
    "You are learning Python\n",
    "We are learning Python\n",
    "\"\"\"\n",
    "print(str)"
   ]
  },
  {
   "cell_type": "markdown",
   "metadata": {},
   "source": [
    "# String 基本操作\n",
    "## 跳脫字元"
   ]
  },
  {
   "cell_type": "markdown",
   "metadata": {},
   "source": [
    "如何輸入字串： I'm learning Python ？\n",
    "\n",
    "```'I'm learning Python'```"
   ]
  },
  {
   "cell_type": "code",
   "execution_count": 22,
   "metadata": {},
   "outputs": [
    {
     "name": "stdout",
     "output_type": "stream",
     "text": [
      "I'm learning Python\n"
     ]
    }
   ],
   "source": [
    "# \\' for escape single quote\n",
    "str = \"I\\'m learning Python\"\n",
    "print(str)"
   ]
  },
  {
   "cell_type": "code",
   "execution_count": 24,
   "metadata": {},
   "outputs": [
    {
     "name": "stdout",
     "output_type": "stream",
     "text": [
      "You're learning Python\n",
      "So do I\n"
     ]
    }
   ],
   "source": [
    "# \\n for newline\n",
    "str = \"You're learning Python\\nSo do I\"\n",
    "print(str)"
   ]
  },
  {
   "cell_type": "markdown",
   "metadata": {
    "slideshow": {
     "slide_type": "subslide"
    }
   },
   "source": [
    "# String 基本操作\n",
    "## 運算"
   ]
  },
  {
   "cell_type": "code",
   "execution_count": 30,
   "metadata": {},
   "outputs": [
    {
     "name": "stdout",
     "output_type": "stream",
     "text": [
      "大大\n"
     ]
    }
   ],
   "source": [
    "str = '大' + '大'\n",
    "print(str)"
   ]
  },
  {
   "cell_type": "code",
   "execution_count": 37,
   "metadata": {},
   "outputs": [
    {
     "name": "stdout",
     "output_type": "stream",
     "text": [
      "哈哈哈哈哈哈哈哈哈哈\n"
     ]
    }
   ],
   "source": [
    "str = '哈' * 10\n",
    "print(str)"
   ]
  },
  {
   "cell_type": "code",
   "execution_count": 35,
   "metadata": {},
   "outputs": [
    {
     "data": {
      "text/plain": [
       "False"
      ]
     },
     "execution_count": 35,
     "metadata": {},
     "output_type": "execute_result"
    }
   ],
   "source": [
    "'00' == 'OO'"
   ]
  },
  {
   "cell_type": "markdown",
   "metadata": {},
   "source": [
    "# String 基本操作\n",
    "## 相關函式"
   ]
  },
  {
   "cell_type": "code",
   "execution_count": 43,
   "metadata": {},
   "outputs": [
    {
     "data": {
      "text/plain": [
       "10"
      ]
     },
     "execution_count": 43,
     "metadata": {},
     "output_type": "execute_result"
    }
   ],
   "source": [
    "len('哈哈哈哈哈哈哈哈哈哈')"
   ]
  },
  {
   "cell_type": "code",
   "execution_count": 58,
   "metadata": {},
   "outputs": [
    {
     "name": "stdout",
     "output_type": "stream",
     "text": [
      "hello\n"
     ]
    }
   ],
   "source": [
    "str = 'hello'\n",
    "str.upper()"
   ]
  },
  {
   "cell_type": "code",
   "execution_count": 47,
   "metadata": {},
   "outputs": [
    {
     "data": {
      "text/plain": [
       "'hello'"
      ]
     },
     "execution_count": 47,
     "metadata": {},
     "output_type": "execute_result"
    }
   ],
   "source": [
    "str = 'hello'\n",
    "str.lower()"
   ]
  },
  {
   "cell_type": "code",
   "execution_count": 51,
   "metadata": {},
   "outputs": [
    {
     "data": {
      "text/plain": [
       "'Hello'"
      ]
     },
     "execution_count": 51,
     "metadata": {},
     "output_type": "execute_result"
    }
   ],
   "source": [
    "str = 'hello'\n",
    "str.capitalize()"
   ]
  },
  {
   "cell_type": "code",
   "execution_count": 59,
   "metadata": {},
   "outputs": [
    {
     "data": {
      "text/plain": [
       "'hELLO'"
      ]
     },
     "execution_count": 59,
     "metadata": {},
     "output_type": "execute_result"
    }
   ],
   "source": [
    "str = 'hello'\n",
    "str.capitalize().swapcase()"
   ]
  },
  {
   "cell_type": "markdown",
   "metadata": {},
   "source": [
    "# String 基本操作\n",
    "## 相關函式"
   ]
  },
  {
   "cell_type": "code",
   "execution_count": 99,
   "metadata": {},
   "outputs": [
    {
     "data": {
      "text/plain": [
       "'hello'"
      ]
     },
     "execution_count": 99,
     "metadata": {},
     "output_type": "execute_result"
    }
   ],
   "source": [
    "str = '      hello    '\n",
    "str.strip()"
   ]
  },
  {
   "cell_type": "code",
   "execution_count": null,
   "metadata": {},
   "outputs": [],
   "source": [
    "repalce"
   ]
  },
  {
   "cell_type": "code",
   "execution_count": null,
   "metadata": {},
   "outputs": [],
   "source": [
    "s.isalpha()/s.isdigit()/s.isspace()"
   ]
  },
  {
   "cell_type": "code",
   "execution_count": null,
   "metadata": {},
   "outputs": [],
   "source": [
    "s.startswith('other'), s.endswith('other')"
   ]
  },
  {
   "cell_type": "code",
   "execution_count": 97,
   "metadata": {},
   "outputs": [
    {
     "data": {
      "text/plain": [
       "[\"I'm\", 'learning', 'Python']"
      ]
     },
     "execution_count": 97,
     "metadata": {},
     "output_type": "execute_result"
    }
   ],
   "source": [
    "str = \"I'm learning Python\"\n",
    "str.split()"
   ]
  },
  {
   "cell_type": "code",
   "execution_count": 98,
   "metadata": {},
   "outputs": [
    {
     "data": {
      "text/plain": [
       "[\"I'm lear\", 'i', 'g Pytho', '']"
      ]
     },
     "execution_count": 98,
     "metadata": {},
     "output_type": "execute_result"
    }
   ],
   "source": [
    "str = \"I'm learning Python\"\n",
    "str.split('n')"
   ]
  },
  {
   "cell_type": "code",
   "execution_count": 67,
   "metadata": {},
   "outputs": [
    {
     "data": {
      "text/plain": [
       "\"I'm 😂 learning 😂 Python\""
      ]
     },
     "execution_count": 67,
     "metadata": {},
     "output_type": "execute_result"
    }
   ],
   "source": [
    "str = \"I'm learning Python\".split()\n",
    "' 😂 '.join(str)"
   ]
  },
  {
   "cell_type": "code",
   "execution_count": 74,
   "metadata": {},
   "outputs": [
    {
     "data": {
      "text/plain": [
       "3"
      ]
     },
     "execution_count": 74,
     "metadata": {},
     "output_type": "execute_result"
    }
   ],
   "source": [
    "str = '庭園深深深幾許'\n",
    "str.count('深')"
   ]
  },
  {
   "cell_type": "code",
   "execution_count": 78,
   "metadata": {},
   "outputs": [
    {
     "data": {
      "text/plain": [
       "1"
      ]
     },
     "execution_count": 78,
     "metadata": {},
     "output_type": "execute_result"
    }
   ],
   "source": [
    "str = '12345'\n",
    "str.find('2')"
   ]
  },
  {
   "cell_type": "markdown",
   "metadata": {},
   "source": [
    "# String 基本操作\n",
    "## 字串是不可變的"
   ]
  },
  {
   "cell_type": "code",
   "execution_count": 83,
   "metadata": {},
   "outputs": [
    {
     "ename": "TypeError",
     "evalue": "'str' object does not support item assignment",
     "output_type": "error",
     "traceback": [
      "\u001b[0;31m---------------------------------------------------------------------------\u001b[0m",
      "\u001b[0;31mTypeError\u001b[0m                                 Traceback (most recent call last)",
      "\u001b[0;32m<ipython-input-83-fee4fea3e671>\u001b[0m in \u001b[0;36m<module>\u001b[0;34m()\u001b[0m\n\u001b[1;32m      1\u001b[0m \u001b[0mstr\u001b[0m \u001b[0;34m=\u001b[0m \u001b[0;34m'123'\u001b[0m\u001b[0;34m\u001b[0m\u001b[0m\n\u001b[0;32m----> 2\u001b[0;31m \u001b[0mstr\u001b[0m\u001b[0;34m[\u001b[0m\u001b[0;36m0\u001b[0m\u001b[0;34m]\u001b[0m \u001b[0;34m=\u001b[0m \u001b[0;36m2\u001b[0m\u001b[0;34m\u001b[0m\u001b[0m\n\u001b[0m",
      "\u001b[0;31mTypeError\u001b[0m: 'str' object does not support item assignment"
     ]
    }
   ],
   "source": [
    "str = 'abc'\n",
    "str[0] = 1"
   ]
  },
  {
   "cell_type": "code",
   "execution_count": 91,
   "metadata": {},
   "outputs": [
    {
     "name": "stdout",
     "output_type": "stream",
     "text": [
      "ABC abc\n"
     ]
    }
   ],
   "source": [
    "str = 'abc'\n",
    "upper = str.upper()\n",
    "print(upper, str)"
   ]
  },
  {
   "cell_type": "markdown",
   "metadata": {},
   "source": [
    "# String 基本操作\n",
    "# format"
   ]
  },
  {
   "cell_type": "code",
   "execution_count": 96,
   "metadata": {},
   "outputs": [
    {
     "data": {
      "text/plain": [
       "'今天天氣真好，適合出去玩'"
      ]
     },
     "execution_count": 96,
     "metadata": {},
     "output_type": "execute_result"
    }
   ],
   "source": [
    "'今天天氣{}，適合{}'.format('真好', '出去玩')"
   ]
  },
  {
   "cell_type": "markdown",
   "metadata": {},
   "source": [
    "# 課程練習"
   ]
  },
  {
   "cell_type": "markdown",
   "metadata": {
    "slideshow": {
     "slide_type": "subslide"
    }
   },
   "source": [
    "# 延伸閱讀\n",
    "1. https://docs.python.org/3/tutorial/introduction.html#strings\n",
    "2. https://docs.python.org/3/tutorial/controlflow.html#documentation-strings\n",
    "3. https://docs.python.org/3/tutorial/stdlib.html#string-pattern-matching\n",
    "4. https://docs.python.org/3/library/stdtypes.html#string-methods\n",
    "5. https://thehelloworldprogram.com/python/python-string-methods/"
   ]
  },
  {
   "cell_type": "markdown",
   "metadata": {},
   "source": [
    "# 程式碼規範\n",
    "# Coding Convention"
   ]
  },
  {
   "cell_type": "markdown",
   "metadata": {},
   "source": [
    "1. 為什麼我們需要 Coding Convention\n",
    "2. 主流指南：PEP 8 & google\n",
    "2. Naming Convention & coding style\n",
    "3. Tools in vscode \n",
    "4. Coding Structure"
   ]
  },
  {
   "cell_type": "markdown",
   "metadata": {},
   "source": [
    "# 延伸閱讀\n",
    "1. https://www.python.org/dev/peps/pep-0008/?\n",
    "2. https://github.com/google/styleguide\n",
    "3. https://www.datacamp.com/community/tutorials/pep8-tutorial-python-code\n",
    "4. https://development.robinwinslow.uk/2014/01/05/summary-of-python-code-style-conventions/\n",
    "5. https://docs.python.org/3/tutorial/controlflow.html#intermezzo-coding-style"
   ]
  }
 ],
 "metadata": {
  "celltoolbar": "Slideshow",
  "kernelspec": {
   "display_name": "Python 3",
   "language": "python",
   "name": "python3"
  },
  "language_info": {
   "codemirror_mode": {
    "name": "ipython",
    "version": 3
   },
   "file_extension": ".py",
   "mimetype": "text/x-python",
   "name": "python",
   "nbconvert_exporter": "python",
   "pygments_lexer": "ipython3",
   "version": "3.5.2"
  }
 },
 "nbformat": 4,
 "nbformat_minor": 2
}
