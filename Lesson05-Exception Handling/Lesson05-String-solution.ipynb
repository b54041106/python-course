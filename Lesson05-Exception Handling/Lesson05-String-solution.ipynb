{
 "cells": [
  {
   "cell_type": "markdown",
   "metadata": {
    "slideshow": {
     "slide_type": "subslide"
    }
   },
   "source": [
    "# 課堂練習ex1：排版九九乘法表\n",
    "## 列入計分\n",
    "\n",
    "修改範例程式法碼，使用 format，使得印出的字串每列長度相等，每個單位長度也相等，如範例。"
   ]
  },
  {
   "cell_type": "markdown",
   "metadata": {
    "slideshow": {
     "slide_type": "subslide"
    }
   },
   "source": [
    "### before\n",
    "```TEXT\n",
    "1*1=1|1*2=2|1*3=3|1*4=4|1*5=5|1*6=6|1*7=7|1*8=8|1*9=9|\n",
    "2*1=2|2*2=4|2*3=6|2*4=8|2*5=10|2*6=12|2*7=14|2*8=16|2*9=18|\n",
    "3*1=3|3*2=6|3*3=9|3*4=12|3*5=15|3*6=18|3*7=21|3*8=24|3*9=27|\n",
    "```\n",
    "### after\n",
    "```TEXT\n",
    " 1* 1= 1| 1* 2= 2| 1* 3= 3| 1* 4= 4| 1* 5= 5| 1* 6= 6| 1* 7= 7| 1* 8= 8| 1* 9= 9|\n",
    " 2* 1= 2| 2* 2= 4| 2* 3= 6| 2* 4= 8| 2* 5=10| 2* 6=12| 2* 7=14| 2* 8=16| 2* 9=18|\n",
    " 3* 1= 3| 3* 2= 6| 3* 3= 9| 3* 4=12| 3* 5=15| 3* 6=18| 3* 7=21| 3* 8=24| 3* 9=27|\n",
    "```"
   ]
  },
  {
   "cell_type": "markdown",
   "metadata": {},
   "source": [
    "# 參考解答"
   ]
  },
  {
   "cell_type": "code",
   "execution_count": 1,
   "metadata": {
    "slideshow": {
     "slide_type": "subslide"
    }
   },
   "outputs": [
    {
     "name": "stdout",
     "output_type": "stream",
     "text": [
      " 1* 1= 1| 1* 2= 2| 1* 3= 3| 1* 4= 4| 1* 5= 5| 1* 6= 6| 1* 7= 7| 1* 8= 8| 1* 9= 9|\n",
      " 2* 1= 2| 2* 2= 4| 2* 3= 6| 2* 4= 8| 2* 5=10| 2* 6=12| 2* 7=14| 2* 8=16| 2* 9=18|\n",
      " 3* 1= 3| 3* 2= 6| 3* 3= 9| 3* 4=12| 3* 5=15| 3* 6=18| 3* 7=21| 3* 8=24| 3* 9=27|\n"
     ]
    }
   ],
   "source": [
    "# 99multi.py\n",
    "RANGE1 = [1, 3]\n",
    "RANGE2 = [1, 9]\n",
    "\n",
    "def calc(a,b):\n",
    "    return [\n",
    "        {'sign': '*', 'result':a*b},\n",
    "    ]\n",
    "\n",
    "for i in range(RANGE1[0], RANGE1[1] + 1):\n",
    "    for j in range(RANGE2[0], RANGE2[1] + 1):\n",
    "        for k in calc(i, j):\n",
    "            s = '{:>2}{}{:>2}={:>2}'.format(str(i), k['sign'], str(j), str(k['result']))\n",
    "            print(s, end=\"|\")\n",
    "    print()"
   ]
  }
 ],
 "metadata": {
  "kernelspec": {
   "display_name": "Python 3",
   "language": "python",
   "name": "python3"
  },
  "language_info": {
   "codemirror_mode": {
    "name": "ipython",
    "version": 3
   },
   "file_extension": ".py",
   "mimetype": "text/x-python",
   "name": "python",
   "nbconvert_exporter": "python",
   "pygments_lexer": "ipython3",
   "version": "3.5.2"
  }
 },
 "nbformat": 4,
 "nbformat_minor": 2
}
